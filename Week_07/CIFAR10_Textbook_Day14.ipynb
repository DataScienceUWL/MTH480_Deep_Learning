{
 "cells": [
  {
   "cell_type": "markdown",
   "metadata": {
    "id": "-4Jk6sW02l8f"
   },
   "source": [
    "### Installs and Imports"
   ]
  },
  {
   "cell_type": "code",
   "execution_count": 1,
   "metadata": {
    "executionInfo": {
     "elapsed": 16839,
     "status": "ok",
     "timestamp": 1708445331037,
     "user": {
      "displayName": "Jeff B",
      "userId": "12312427422906518493"
     },
     "user_tz": 360
    },
    "id": "Myum00nGSjoh"
   },
   "outputs": [],
   "source": [
    "%%capture output\n",
    "# execute in Colab once per session to install packages\n",
    "!pip install torchinfo\n",
    "!pip install pytorch-lightning\n",
    "!pip install torchmetrics\n",
    "\n",
    "# uncomment to see output\n",
    "# print(output)"
   ]
  },
  {
   "cell_type": "code",
   "execution_count": 6,
   "metadata": {
    "executionInfo": {
     "elapsed": 118,
     "status": "ok",
     "timestamp": 1708444824736,
     "user": {
      "displayName": "Jeff B",
      "userId": "12312427422906518493"
     },
     "user_tz": 360
    },
    "id": "0-9eFQc5Z_mh"
   },
   "outputs": [],
   "source": [
    "# imports and settings\n",
    "import torch\n",
    "import torch.nn as nn\n",
    "import torch.nn.functional as F\n",
    "from torch.utils.data import DataLoader, Dataset, Subset, random_split\n",
    "import os\n",
    "\n",
    "from torchvision.datasets import CIFAR10\n",
    "from torchvision.transforms import transforms\n",
    "\n",
    "from torchinfo import summary\n",
    "\n",
    "import pytorch_lightning as pl\n",
    "from pytorch_lightning import Callback\n",
    "from pytorch_lightning.callbacks import ModelCheckpoint, EarlyStopping\n",
    "from pytorch_lightning.loggers import CSVLogger\n",
    "from torch.optim.lr_scheduler import OneCycleLR\n",
    "\n",
    "from torchmetrics.classification import Accuracy\n",
    "\n",
    "import matplotlib.pyplot as plt\n",
    "import seaborn as sns\n",
    "import numpy as np\n",
    "import pandas as pd\n",
    "from IPython.display import display\n",
    "\n",
    "from utils import PrintMetricsCallback, sample_dataset\n",
    "\n",
    "sns.set_theme()"
   ]
  },
  {
   "cell_type": "markdown",
   "metadata": {
    "id": "UPQdsL3bVrKq"
   },
   "source": [
    "# Odds and Ends - Transfer Learning and Advanced Training"
   ]
  },
  {
   "cell_type": "markdown",
   "metadata": {},
   "source": [
    "* Correct Normalization of Data\n",
    "* PyTorch Lightning Data Modules\n",
    "* PyTorch Lightning Bolts\n",
    "* Learning Rate Finders\n",
    "* Learning Rate Schedulers\n",
    "* Hyperparameter Tuning?"
   ]
  },
  {
   "cell_type": "markdown",
   "metadata": {},
   "source": [
    "## Correct Normalization of Data\n",
    "\n",
    "If you read about using pre-trained models, you'll see that people often normalize their new dataset using the per-channel mean and standard deviation statistics calculated from Imagenet.  \n",
    "\n",
    "``` imagenet_stats = ([0.485, 0.456, 0.406], [0.229, 0.224, 0.225]) ```\n",
    "\n",
    "I did it in our last class when applying a pre-trained Resnet18 model to the Cats and Dogs Kaggle dataset. Although I found that confusing, I followed standard practice.  It was wrong but not harmful since we saw great transfer learning results.\n",
    "\n",
    "Those statistics are the values used to normalize each channel of the Imagenet data before the model was trained.  Thus, the dataset that the pre-trained model was trained upon had a mean of 0 and a standard deviation of 1 for each RGB channel.  So, suppose you want to fine-tune a pre-trained model using your dataset. In that case, you should normalize each channel of your data using the mean and standard deviation computed from your data as long as you have a reasonably large sample.\n",
    "\n",
    "Here's some sample code to compute the mean and standard deviation for each channel in the CIFAR-10 dataset:"
   ]
  },
  {
   "cell_type": "code",
   "execution_count": 7,
   "metadata": {},
   "outputs": [
    {
     "name": "stdout",
     "output_type": "stream",
     "text": [
      "Files already downloaded and verified\n",
      "Mean: tensor([0.4914, 0.4822, 0.4465])\n",
      "Std: tensor([0.2470, 0.2435, 0.2616])\n"
     ]
    }
   ],
   "source": [
    "import torch\n",
    "from torchvision import datasets, transforms\n",
    "from torch.utils.data import DataLoader\n",
    "\n",
    "# Example: Load a dataset (CIFAR10 in this case)\n",
    "transform = transforms.Compose([transforms.ToTensor()])\n",
    "dataset = datasets.CIFAR10(root='./data', train=True, download=True, transform=transform)\n",
    "\n",
    "# Create a DataLoader\n",
    "dataloader = DataLoader(dataset, batch_size=64, shuffle=False, num_workers=2)\n",
    "\n",
    "# Function to compute mean and std\n",
    "def compute_mean_std(loader):\n",
    "\n",
    "    for i,(images,_) in enumerate(loader):\n",
    "        if i == 0: # initialize\n",
    "            channels = images.size(1)\n",
    "            channel_sum, channel_sum_squared = torch.zeros(channels), torch.zeros(channels)\n",
    "            num_images = 0\n",
    "            pixels_per_image = images.size(2)*images.size(3)\n",
    "        num_images += images.size(0)\n",
    "        channel_sum += images.sum(dim=(0,2,3))/pixels_per_image\n",
    "        channel_sum_squared += (images ** 2).sum(dim=(0,2,3))/pixels_per_image\n",
    "        \n",
    "    # Compute mean and std dev\n",
    "    mean = channel_sum / num_images\n",
    "    # Compute variance (mean of squares - square of mean)\n",
    "    var = (channel_sum_squared / num_images) - (mean ** 2)\n",
    "    std = torch.sqrt(var)\n",
    "\n",
    "    return mean, std\n",
    "\n",
    "# Compute mean and std\n",
    "mean, std = compute_mean_std(dataloader)\n",
    "\n",
    "print(f'Mean: {mean}')\n",
    "print(f'Std: {std}')\n"
   ]
  },
  {
   "cell_type": "markdown",
   "metadata": {},
   "source": [
    "You might note that those stats for CIFAR-10 aren't that different from the Imagenet stats:\n",
    "``` imagenet_stats = ([0.485, 0.456, 0.406], [0.229, 0.224, 0.225]) ```\n",
    "so using the Imagenet stats is probably fine for most \"natural\" image datasets.\n",
    "\n",
    "If you can, you should probably use the statistics for your dataset. Still, if your samples are small or only have a single image you can normalize using the Imagenet stats before applying a pre-trained model.\n",
    "\n",
    "Normalizing your image data to improve model training is also a good idea, even when training from scratch.  Sometimes, you'll see a mean and standard deviation of 0.5 to shift the [0,1] data from transforms.ToTensor() to the interval [-1,1].  \n",
    "\n",
    "For standard datasets, we can also use prebuilt Data Modules from Pytorch Lightning Bolts, which already contain the correct normalizations."
   ]
  },
  {
   "cell_type": "markdown",
   "metadata": {},
   "source": [
    "## A note about splitting data\n",
    "\n",
    "The datasets in Torchvision are split into a training set and a non-training set.  We've been using the non-training set as the validation data to monitor how well the model is training, but that isn't good practice and can lead to biased models.  We are deciding to build and train a model based on its performance on the validation set, so we cannot determine if we've done a good job by using the performance on the validation set as a metric.\n",
    "\n",
    "Using three datasets: training, validation, and test sets is better.  The test set gets used to assess the performance of our model after all training is complete.  This provides an unbiased estimate of the model's performance.  To achieve this with a Torchvision dataset, it's customary to download the training data (`train=True`) and split it into a training set (80% or more) and a validation set.  The test set is then the non-training dataset (`train=False`).\n",
    "\n",
    "Figure from https://www.v7labs.com/blog/train-validation-test-set"
   ]
  },
  {
   "attachments": {
    "67f0f0fc-132a-494b-817c-c03f641c7a5f.png": {
     "image/png": "[encoded data removed]"
    }
   },
   "cell_type": "markdown",
   "metadata": {},
   "source": [
    "![training-data-validation-test.png](attachment:67f0f0fc-132a-494b-817c-c03f641c7a5f.png)"
   ]
  },
  {
   "cell_type": "markdown",
   "metadata": {},
   "source": [
    "## Splitting the CIFAR-10 Data with training, validation, and test sets\n",
    "\n",
    "We'll demonstrate how to do the three-way split below and use a Lightning DataModule to encapsulate all the elements of building the dataloaders.  This will have the advantage of making it simple to automatically tune the batch size."
   ]
  },
  {
   "cell_type": "code",
   "execution_count": 8,
   "metadata": {},
   "outputs": [],
   "source": [
    "import pytorch_lightning as pl\n",
    "from torch.utils.data import DataLoader, random_split\n",
    "from torchvision import transforms\n",
    "from torchvision.datasets import CIFAR10\n",
    "\n",
    "class CIFAR10DataModule(pl.LightningDataModule):\n",
    "    def __init__(self, data_dir=\"./data\", batch_size=100, \n",
    "                 num_sample_each_class=None, seed=42):\n",
    "        super().__init__()\n",
    "        self.data_dir = data_dir\n",
    "        self.batch_size = batch_size\n",
    "        self.num_sample_each_class = num_sample_each_class\n",
    "        self.seed = seed\n",
    "        self.transform = transforms.Compose([\n",
    "            transforms.ToTensor(),\n",
    "            transforms.Normalize((0.4914, 0.4822, 0.4465), (0.2470, 0.2435, 0.2616))\n",
    "        ])\n",
    "        self.augment_transform = transforms.Compose([\n",
    "            transforms.RandomHorizontalFlip(),\n",
    "            #transforms.ColorJitter(brightness=0.4, contrast=0.4, saturation=0.4),\n",
    "            transforms.RandomCrop(32, padding=4, padding_mode='reflect')\n",
    "        ])\n",
    "        self.train_transform = transforms.Compose([self.augment_transform, self.transform])\n",
    "\n",
    "    def prepare_data(self):\n",
    "        # Download the CIFAR10 dataset\n",
    "        CIFAR10(self.data_dir, train=True, download=True)\n",
    "        CIFAR10(self.data_dir, train=False, download=True)\n",
    "\n",
    "    def setup(self, stage=None):\n",
    "        # Load and transform the CIFAR10 dataset\n",
    "        if stage == 'fit' or stage is None:\n",
    "            cifar10_full = CIFAR10(self.data_dir, train=True, transform=self.transform)\n",
    "            \n",
    "            if self.num_sample_each_class:\n",
    "                cifar10_full = sample_dataset(cifar10_full, \n",
    "                                              num_samples=num_sample_each_class, \n",
    "                                              random_state=self.seed)\n",
    "\n",
    "            gen_seed = torch.Generator().manual_seed(self.seed)\n",
    "            self.cifar10_train, self.cifar10_val = random_split(cifar10_full, [45000, 5000], generator=gen_seed)\n",
    "            self.cifar10_train.dataset.transform = self.train_transform\n",
    "            self.cifar10_val.dataset.transform = self.transform \n",
    "            \n",
    "        if stage == 'test' or stage is None:\n",
    "            self.cifar10_test = CIFAR10(self.data_dir, train=False, transform=self.transform)\n",
    "\n",
    "    def train_dataloader(self):\n",
    "        return DataLoader(self.cifar10_train, batch_size=self.batch_size)\n",
    "\n",
    "    def val_dataloader(self):\n",
    "        return DataLoader(self.cifar10_val, batch_size=self.batch_size)\n",
    "\n",
    "    def test_dataloader(self):\n",
    "        return DataLoader(self.cifar10_test, batch_size=self.batch_size)"
   ]
  },
  {
   "cell_type": "code",
   "execution_count": 9,
   "metadata": {},
   "outputs": [],
   "source": [
    "## Instantiate the data module to create the dataloaders\n",
    "\n",
    "cifar10_dm = CIFAR10DataModule()"
   ]
  },
  {
   "cell_type": "markdown",
   "metadata": {},
   "source": [
    "## Create or download a model\n",
    "\n",
    "To make it easy to create new, randomly initialized versions of our network for testing, we've created a function that returns the model:"
   ]
  },
  {
   "cell_type": "code",
   "execution_count": 10,
   "metadata": {},
   "outputs": [],
   "source": [
    "# CNN + BatchNorm + LeakyReLU\n",
    "\n",
    "W, H = 32, 32\n",
    "D = W*H # total pixels\n",
    "C = 3 # input channels\n",
    "n_filters = 32 # number of filters in first convolutional block\n",
    "classes = 10\n",
    "\n",
    "def cnnLayer(in_filters, out_filters=None, kernel_size=3, leak_rate=0.1):\n",
    "    \"\"\"\n",
    "    in_filters: how many channels are coming into the layer\n",
    "    out_filters: how many channels this layer should learn / output, or `None` if we want to have the same number of channels as the input.\n",
    "    kernel_size: how large the kernel should be\n",
    "    \"\"\"\n",
    "    if out_filters is None:\n",
    "        out_filters = in_filters #This is a common pattern, so lets automate it as a default if not asked\n",
    "    padding=kernel_size//2 #padding to stay the same size\n",
    "    return nn.Sequential( # Combine the layer and activation into a single unit\n",
    "        nn.Conv2d(in_filters, out_filters, kernel_size, padding=padding),\n",
    "        nn.BatchNorm2d(out_filters), #The only change, adding BatchNorm2d after our convolution!\n",
    "        nn.LeakyReLU(leak_rate)\n",
    "    )\n",
    "\n",
    "def createModel():\n",
    "    model = nn.Sequential(\n",
    "        cnnLayer(C, n_filters), cnnLayer(n_filters), cnnLayer(n_filters),\n",
    "        nn.MaxPool2d((2,2)),\n",
    "        cnnLayer(n_filters, 2*n_filters), cnnLayer(2*n_filters), cnnLayer(2*n_filters), \n",
    "        nn.MaxPool2d((2,2)),\n",
    "        cnnLayer(2*n_filters, 4*n_filters), cnnLayer(4*n_filters),\n",
    "        nn.Flatten(),\n",
    "        nn.Linear(D*n_filters//4, classes),\n",
    "    )\n",
    "    return model\n"
   ]
  },
  {
   "cell_type": "markdown",
   "metadata": {},
   "source": [
    "We can use a Lightning Trainer to do the test step after training is done.  To do this we'll add a `test_step` to our lighting module.  It's usually the same as the validation step, but not always.  For example, if you were using a strategy called Test Time Augmentation it could be implemented in the `test_step`.  Here is our modified Lightning Module:"
   ]
  },
  {
   "cell_type": "code",
   "execution_count": 7,
   "metadata": {},
   "outputs": [],
   "source": [
    "import pytorch_lightning as pl\n",
    "from pytorch_lightning import Callback\n",
    "from torchmetrics.classification import Accuracy\n",
    "from utils import PrintMetricsCallback\n",
    "\n",
    "class BasicLightningModel(pl.LightningModule):\n",
    "    def __init__(self, net, num_classes, lr=0.001): ### Default LR is 0.001\n",
    "\n",
    "        super().__init__()\n",
    "        self.net = net\n",
    "        self.train_acc = Accuracy(task=\"multiclass\", num_classes=num_classes)\n",
    "        self.valid_acc = Accuracy(task=\"multiclass\", num_classes=num_classes)\n",
    "        self.test_acc = Accuracy(task=\"multiclass\", num_classes=num_classes)\n",
    "        self.loss_func = nn.CrossEntropyLoss()\n",
    "        self.lr = lr\n",
    "        \n",
    "    def training_step(self, batch, batch_idx):\n",
    "        inputs, targets = batch\n",
    "        outputs = self.net(inputs)\n",
    "        loss = self.loss_func(outputs, targets)\n",
    "        self.train_acc(outputs, targets)\n",
    "        self.log_dict( {\"train_loss\":loss,\"train_acc\":self.train_acc},\n",
    "                      on_epoch = True, on_step = False, prog_bar = False)\n",
    "        return loss\n",
    "\n",
    "    def validation_step(self, batch, batch_idx):\n",
    "        inputs, targets = batch\n",
    "        outputs = self.net(inputs)\n",
    "        valid_loss = self.loss_func(outputs, targets)\n",
    "        self.valid_acc(outputs, targets)\n",
    "        self.log_dict( {\"valid_loss\":valid_loss,\"valid_acc\":self.valid_acc},\n",
    "                      prog_bar = False)\n",
    "        return valid_loss\n",
    "\n",
    "    def test_step(self, batch, batch_idx): ### NEW\n",
    "        inputs, targets = batch\n",
    "        outputs = self.net(inputs)\n",
    "        test_loss = self.loss_func(outputs, targets)\n",
    "        self.test_acc(outputs, targets)\n",
    "        self.log_dict( {\"test_loss\":test_loss,\"test_acc\":self.test_acc},\n",
    "                      prog_bar = False)\n",
    "        return test_loss\n",
    "\n",
    "    def predict_step(self, batch, batch_idx, dataloader_idx=0):\n",
    "        inputs, targets = batch\n",
    "        outputs = self.net(inputs)\n",
    "        _, preds = torch.max(outputs, dim=1)\n",
    "        return preds\n",
    "\n",
    "    def configure_optimizers(self):\n",
    "        optimizer = torch.optim.AdamW(self.parameters(), lr=self.lr)\n",
    "        return optimizer\n"
   ]
  },
  {
   "cell_type": "markdown",
   "metadata": {},
   "source": [
    "Now lets define a network and train it:"
   ]
  },
  {
   "cell_type": "code",
   "execution_count": 38,
   "metadata": {},
   "outputs": [
    {
     "name": "stderr",
     "output_type": "stream",
     "text": [
      "GPU available: True (mps), used: True\n",
      "TPU available: False, using: 0 TPU cores\n",
      "IPU available: False, using: 0 IPUs\n",
      "HPU available: False, using: 0 HPUs\n",
      "`Trainer(val_check_interval=1.0)` was configured so validation will run at the end of the training epoch..\n"
     ]
    },
    {
     "name": "stdout",
     "output_type": "stream",
     "text": [
      "Files already downloaded and verified\n",
      "Files already downloaded and verified\n"
     ]
    },
    {
     "name": "stderr",
     "output_type": "stream",
     "text": [
      "\n",
      "  | Name      | Type               | Params\n",
      "-------------------------------------------------\n",
      "0 | net       | Sequential         | 416 K \n",
      "1 | train_acc | MulticlassAccuracy | 0     \n",
      "2 | valid_acc | MulticlassAccuracy | 0     \n",
      "3 | test_acc  | MulticlassAccuracy | 0     \n",
      "4 | loss_func | CrossEntropyLoss   | 0     \n",
      "-------------------------------------------------\n",
      "416 K     Trainable params\n",
      "0         Non-trainable params\n",
      "416 K     Total params\n",
      "1.665     Total estimated model params size (MB)\n"
     ]
    },
    {
     "name": "stdout",
     "output_type": "stream",
     "text": [
      "Beginning training for at most 15 epochs\n",
      "Epoch 1 Metrics: valid_loss: 1.0337, valid_acc: 0.6392, train_loss: 1.2207, train_acc: 0.5676, LR: 1.000000e-03\n",
      "Epoch 2 Metrics: valid_loss: 0.8454, valid_acc: 0.6910, train_loss: 0.8032, train_acc: 0.7186, LR: 1.000000e-03\n",
      "Epoch 3 Metrics: valid_loss: 0.7598, valid_acc: 0.7262, train_loss: 0.6497, train_acc: 0.7735, LR: 1.000000e-03\n",
      "Epoch 4 Metrics: valid_loss: 0.7666, valid_acc: 0.7302, train_loss: 0.5426, train_acc: 0.8119, LR: 1.000000e-03\n",
      "Epoch 5 Metrics: valid_loss: 0.7738, valid_acc: 0.7374, train_loss: 0.4548, train_acc: 0.8443, LR: 1.000000e-03\n",
      "Epoch 6 Metrics: valid_loss: 0.7730, valid_acc: 0.7550, train_loss: 0.3791, train_acc: 0.8687, LR: 1.000000e-03\n",
      "Epoch 7 Metrics: valid_loss: 0.7006, valid_acc: 0.7848, train_loss: 0.3124, train_acc: 0.8925, LR: 1.000000e-03\n",
      "Epoch 8 Metrics: valid_loss: 0.7682, valid_acc: 0.7880, train_loss: 0.2533, train_acc: 0.9111, LR: 1.000000e-03\n",
      "Epoch 9 Metrics: valid_loss: 0.7395, valid_acc: 0.8026, train_loss: 0.2082, train_acc: 0.9264, LR: 1.000000e-03\n",
      "Epoch 10 Metrics: valid_loss: 0.7500, valid_acc: 0.8084, train_loss: 0.1765, train_acc: 0.9364, LR: 1.000000e-03\n",
      "Epoch 11 Metrics: valid_loss: 0.8707, valid_acc: 0.7914, train_loss: 0.1440, train_acc: 0.9479, LR: 1.000000e-03\n",
      "Epoch 12 Metrics: valid_loss: 0.7734, valid_acc: 0.8146, train_loss: 0.1149, train_acc: 0.9586, LR: 1.000000e-03\n",
      "Epoch 13 Metrics: valid_loss: 0.8244, valid_acc: 0.8086, train_loss: 0.0988, train_acc: 0.9651, LR: 1.000000e-03\n",
      "Epoch 14 Metrics: valid_loss: 0.8203, valid_acc: 0.8138, train_loss: 0.0842, train_acc: 0.9705, LR: 1.000000e-03\n"
     ]
    },
    {
     "name": "stderr",
     "output_type": "stream",
     "text": [
      "`Trainer.fit` stopped: `max_epochs=15` reached.\n"
     ]
    },
    {
     "name": "stdout",
     "output_type": "stream",
     "text": [
      "Epoch 15 Metrics: valid_loss: 0.8184, valid_acc: 0.8182, train_loss: 0.0718, train_acc: 0.9748, LR: 1.000000e-03\n",
      "End.  Trained for 15 epochs.\n"
     ]
    }
   ],
   "source": [
    "cnn_bn_model = createModel() # create a newly initialized network\n",
    "\n",
    "light_model = BasicLightningModel(cnn_bn_model, num_classes = 10, lr=0.001)\n",
    "\n",
    "print_cb = PrintMetricsCallback(print_epoch=1)\n",
    "\n",
    "trainer = pl.Trainer(max_epochs=15,\n",
    "                     enable_progress_bar=False,\n",
    "                     callbacks=[print_cb],\n",
    "                     num_sanity_val_steps=0,\n",
    "                     val_check_interval=1.0)\n",
    "\n",
    "trainer.fit(light_model, cifar10_dm)"
   ]
  },
  {
   "cell_type": "markdown",
   "metadata": {},
   "source": [
    "You could train for longer and run experiments with different models.  When you've finally selected and trained your final model, **then** test it on the test dataset like this:"
   ]
  },
  {
   "cell_type": "code",
   "execution_count": 41,
   "metadata": {},
   "outputs": [
    {
     "name": "stdout",
     "output_type": "stream",
     "text": [
      "Files already downloaded and verified\n",
      "Files already downloaded and verified\n"
     ]
    },
    {
     "name": "stderr",
     "output_type": "stream",
     "text": [
      "Restoring states from the checkpoint path at /Users/jbaggett/Library/CloudStorage/GoogleDrive-baggett.jeff@gmail.com/My Drive/Colab Notebooks/Advanced Training/lightning_logs/version_13/checkpoints/epoch=14-step=6750.ckpt\n",
      "Loaded model weights from the checkpoint at /Users/jbaggett/Library/CloudStorage/GoogleDrive-baggett.jeff@gmail.com/My Drive/Colab Notebooks/Advanced Training/lightning_logs/version_13/checkpoints/epoch=14-step=6750.ckpt\n",
      "/Users/jbaggett/miniforge3/envs/UWL-DL/lib/python3.11/site-packages/pytorch_lightning/trainer/connectors/data_connector.py:441: The 'test_dataloader' does not have many workers which may be a bottleneck. Consider increasing the value of the `num_workers` argument` to `num_workers=9` in the `DataLoader` to improve performance.\n"
     ]
    },
    {
     "name": "stdout",
     "output_type": "stream",
     "text": [
      "────────────────────────────────────────────────────────────────────────────────────────────────────────────────────────\n",
      "       Test metric             DataLoader 0\n",
      "────────────────────────────────────────────────────────────────────────────────────────────────────────────────────────\n",
      "        test_acc            0.8077999949455261\n",
      "        test_loss           0.8767305612564087\n",
      "────────────────────────────────────────────────────────────────────────────────────────────────────────────────────────\n"
     ]
    },
    {
     "data": {
      "text/plain": [
       "[{'test_loss': 0.8767305612564087, 'test_acc': 0.8077999949455261}]"
      ]
     },
     "execution_count": 41,
     "metadata": {},
     "output_type": "execute_result"
    }
   ],
   "source": [
    "# Lightning will automatically load the best model from your previous run\n",
    "trainer.test(light_model, cifar10_dm, ckpt_path='best')"
   ]
  },
  {
   "cell_type": "markdown",
   "metadata": {},
   "source": [
    "## Use a learning rate finder\n",
    "\n",
    "\"For training deep neural networks, selecting a good learning rate is essential for both better performance and faster convergence. Even optimizers such as Adam that are self-adjusting the learning rate can benefit from more optimal choices.\n",
    "\n",
    "To reduce the amount of guesswork concerning choosing a good initial learning rate, a learning rate finder can be used. As described in [this paper](https://arxiv.org/abs/1506.01186) a learning rate finder does a small run where the learning rate is increased after each processed batch and the corresponding loss is logged. The result of this is a lr vs. loss plot that can be used as guidance for choosing an optimal initial learning rate.\"\n",
    "\n",
    "Make sure your LightningModule has an attribute `self.lr` or `self.learning_rate`, and then create and use a Tuner like this:\n"
   ]
  },
  {
   "cell_type": "code",
   "execution_count": 10,
   "metadata": {},
   "outputs": [
    {
     "name": "stderr",
     "output_type": "stream",
     "text": [
      "GPU available: True (mps), used: True\n",
      "TPU available: False, using: 0 TPU cores\n",
      "IPU available: False, using: 0 IPUs\n",
      "HPU available: False, using: 0 HPUs\n",
      "`Trainer(val_check_interval=1.0)` was configured so validation will run at the end of the training epoch..\n"
     ]
    },
    {
     "name": "stdout",
     "output_type": "stream",
     "text": [
      "Files already downloaded and verified\n",
      "Files already downloaded and verified\n"
     ]
    },
    {
     "name": "stderr",
     "output_type": "stream",
     "text": [
      "/Users/jbaggett/miniforge3/envs/UWL-DL/lib/python3.11/site-packages/pytorch_lightning/trainer/connectors/data_connector.py:441: The 'train_dataloader' does not have many workers which may be a bottleneck. Consider increasing the value of the `num_workers` argument` to `num_workers=9` in the `DataLoader` to improve performance.\n",
      "/Users/jbaggett/miniforge3/envs/UWL-DL/lib/python3.11/site-packages/pytorch_lightning/trainer/connectors/data_connector.py:441: The 'val_dataloader' does not have many workers which may be a bottleneck. Consider increasing the value of the `num_workers` argument` to `num_workers=9` in the `DataLoader` to improve performance.\n",
      "Finding best initial lr:  97%|███████████████████████████████████████████████████████▎ | 97/100 [00:03<00:00, 29.36it/s]\n",
      "LR finder stopped early after 97 steps due to diverging loss.\n",
      "Learning rate set to 0.0013182567385564075\n",
      "Restoring states from the checkpoint path at /Users/jbaggett/Library/CloudStorage/GoogleDrive-baggett.jeff@gmail.com/My Drive/Colab Notebooks/Advanced Training/.lr_find_b9d05066-59fe-44bb-ac22-50d06b3bb2dc.ckpt\n",
      "Restored all states from the checkpoint at /Users/jbaggett/Library/CloudStorage/GoogleDrive-baggett.jeff@gmail.com/My Drive/Colab Notebooks/Advanced Training/.lr_find_b9d05066-59fe-44bb-ac22-50d06b3bb2dc.ckpt\n"
     ]
    },
    {
     "data": {
      "text/plain": [
       "<pytorch_lightning.tuner.lr_finder._LRFinder at 0x291fbb9d0>"
      ]
     },
     "execution_count": 10,
     "metadata": {},
     "output_type": "execute_result"
    }
   ],
   "source": [
    "from pytorch_lightning.tuner import Tuner\n",
    "\n",
    "cnn_bn_model = createModel() \n",
    "\n",
    "light_model = BasicLightningModel(cnn_bn_model, num_classes = 10, lr=0.001)\n",
    "\n",
    "print_cb = PrintMetricsCallback(print_epoch=1)\n",
    "\n",
    "trainer = pl.Trainer(max_epochs=15,\n",
    "                     enable_progress_bar=False,\n",
    "                     callbacks=[print_cb],\n",
    "                     num_sanity_val_steps=0,\n",
    "                     val_check_interval=1.0)\n",
    "\n",
    "# Create a Tuner\n",
    "tuner = Tuner(trainer)\n",
    "\n",
    "# and tune!\n",
    "tuner.lr_find(light_model, cifar10_dm)\n",
    "\n",
    "# after running the tuner the learning rate inside your LightningModule will be set to the \n",
    "# the suggested value"
   ]
  },
  {
   "cell_type": "markdown",
   "metadata": {},
   "source": [
    "You could also get more information about the tuner and manually update the learning rate like this:"
   ]
  },
  {
   "cell_type": "code",
   "execution_count": 11,
   "metadata": {},
   "outputs": [
    {
     "name": "stdout",
     "output_type": "stream",
     "text": [
      "Files already downloaded and verified\n",
      "Files already downloaded and verified\n"
     ]
    },
    {
     "name": "stderr",
     "output_type": "stream",
     "text": [
      "Finding best initial lr:  97%|███████████████████████████████████████████████████████▎ | 97/100 [00:03<00:00, 32.26it/s]\n",
      "LR finder stopped early after 97 steps due to diverging loss.\n",
      "Learning rate set to 0.0013182567385564075\n",
      "Restoring states from the checkpoint path at /Users/jbaggett/Library/CloudStorage/GoogleDrive-baggett.jeff@gmail.com/My Drive/Colab Notebooks/Advanced Training/.lr_find_8c7f21b0-f336-4f08-bd81-0295d2a49e59.ckpt\n",
      "Restored all states from the checkpoint at /Users/jbaggett/Library/CloudStorage/GoogleDrive-baggett.jeff@gmail.com/My Drive/Colab Notebooks/Advanced Training/.lr_find_8c7f21b0-f336-4f08-bd81-0295d2a49e59.ckpt\n",
      "/var/folders/8w/0_6f1mnj291b3dfy5xqyp1rd3h18sr/T/ipykernel_77867/385073135.py:8: UserWarning: FigureCanvasAgg is non-interactive, and thus cannot be shown\n",
      "  fig.show()\n"
     ]
    },
    {
     "name": "stdout",
     "output_type": "stream",
     "text": [
      "{'lr': [1e-08, 1.4454397707459274e-08, 1.7378008287493753e-08, 2.0892961308540398e-08, 2.51188643150958e-08, 3.019951720402016e-08, 3.630780547701014e-08, 4.36515832240166e-08, 5.248074602497726e-08, 6.309573444801934e-08, 7.585775750291837e-08, 9.120108393559096e-08, 1.0964781961431852e-07, 1.3182567385564074e-07, 1.5848931924611133e-07, 1.9054607179632475e-07, 2.2908676527677735e-07, 2.7542287033381663e-07, 3.311311214825911e-07, 3.9810717055349735e-07, 4.786300923226383e-07, 5.75439937337157e-07, 6.918309709189366e-07, 8.317637711026709e-07, 1e-06, 1.2022644346174132e-06, 1.445439770745928e-06, 1.7378008287493761e-06, 2.089296130854039e-06, 2.5118864315095797e-06, 3.0199517204020163e-06, 3.630780547701014e-06, 4.365158322401661e-06, 5.248074602497728e-06, 6.3095734448019305e-06, 7.585775750291836e-06, 9.120108393559096e-06, 1.0964781961431852e-05, 1.3182567385564076e-05, 1.584893192461114e-05, 1.9054607179632464e-05, 2.2908676527677725e-05, 2.7542287033381663e-05, 3.311311214825911e-05, 3.9810717055349735e-05, 4.786300923226385e-05, 5.7543993733715664e-05, 6.918309709189363e-05, 8.317637711026709e-05, 0.0001, 0.00012022644346174131, 0.0001445439770745928, 0.00017378008287493763, 0.0002089296130854041, 0.0002511886431509582, 0.0003019951720402019, 0.000363078054770101, 0.0004365158322401656, 0.0005248074602497723, 0.000630957344480193, 0.0007585775750291836, 0.0009120108393559097, 0.0010964781961431851, 0.0013182567385564075, 0.001584893192461114, 0.0019054607179632484, 0.0022908676527677745, 0.002754228703338169, 0.003311311214825908, 0.003981071705534969, 0.00478630092322638, 0.005754399373371567, 0.006918309709189364, 0.008317637711026709, 0.01, 0.012022644346174132, 0.01445439770745928, 0.017378008287493765, 0.02089296130854041, 0.025118864315095822, 0.030199517204020192, 0.036307805477010104, 0.04365158322401657, 0.05248074602497723, 0.0630957344480193, 0.07585775750291836, 0.09120108393559097, 0.10964781961431852, 0.13182567385564073, 0.15848931924611143, 0.19054607179632482, 0.2290867652767775, 0.2754228703338169, 0.3311311214825908, 0.3981071705534969, 0.47863009232263803, 0.5754399373371567], 'loss': [1.1765030899433162, 1.618111185469021, 1.8269030982648895, 1.9430494453486171, 2.0196914620211586, 2.0783561756068307, 2.119562698908378, 2.150824057593496, 2.1704022352872876, 2.1916609659032207, 2.212717246404887, 2.227993683211231, 2.2400453783012177, 2.250143167254288, 2.2589171491113404, 2.2642401914527195, 2.2689157596587446, 2.279699583573612, 2.2846457389092905, 2.2908760364394847, 2.2937624792518037, 2.296589787404824, 2.2994509651163217, 2.308198274215096, 2.3128796488547394, 2.3174623605108615, 2.322905204539319, 2.3258656572595413, 2.3303979232752097, 2.3343407302478543, 2.3386025213827977, 2.3415863158646335, 2.341705780272355, 2.3434381116890863, 2.344797936283025, 2.346608886782681, 2.3452239002402187, 2.3426698913243706, 2.341458143425605, 2.3411706573833952, 2.3421225782563075, 2.3410468421327146, 2.3379541613090047, 2.3368397924911624, 2.3348309856129905, 2.3319252926685157, 2.329766053103011, 2.3277065869210403, 2.3228063097185734, 2.320136131986389, 2.31701106983298, 2.313880071405071, 2.3068979126369986, 2.302053036855885, 2.2950820226517004, 2.288476102039522, 2.2754043316024513, 2.2624806099637547, 2.25393399982855, 2.242712822768884, 2.230779015618064, 2.217361704850225, 2.2102342668386017, 2.1946944820804775, 2.1825343214978283, 2.1832742237242955, 2.1777566519167486, 2.164249363492182, 2.1694635890348586, 2.1685758131109125, 2.1663943444724856, 2.181461691469151, 2.2219552807572915, 2.332823823981305, 2.3995086691303973, 2.4323877893528474, 2.4709982573637186, 2.5203591878157114, 2.575304372358209, 2.6096068225224447, 2.629849689879607, 2.638820400329253, 2.6956740626390143, 2.736022698630015, 2.818323254936746, 2.8289315651222453, 2.865652885705023, 2.8693457190602993, 2.8767494751275065, 2.8998884290958733, 2.9588266382311272, 3.0431364574452675, 3.2715731669497057, 3.533050388616371, 4.198211736049895, 4.538069070085547, 7.531701063075105]}\n"
     ]
    },
    {
     "data": {
      "image/png": "[encoded data removed]",
      "text/plain": [
       "<Figure size 640x480 with 1 Axes>"
      ]
     },
     "metadata": {},
     "output_type": "display_data"
    }
   ],
   "source": [
    "lr_finder = tuner.lr_find(light_model, cifar10_dm)\n",
    "\n",
    "# results can be found in \n",
    "print(lr_finder.results)\n",
    "\n",
    "# Plot with\n",
    "fig = lr_finder.plot(suggest=True)\n",
    "fig.show()\n",
    "\n",
    "# Pick point based on plot, or get suggestion\n",
    "new_lr = lr_finder.suggestion()\n",
    "\n",
    "# update our learning rate\n",
    "light_model.lr = new_lr\n",
    "\n",
    "# Fit model\n",
    "# trainer.fit(light_model)"
   ]
  },
  {
   "cell_type": "code",
   "execution_count": 16,
   "metadata": {},
   "outputs": [
    {
     "name": "stderr",
     "output_type": "stream",
     "text": [
      "\n",
      "  | Name      | Type               | Params\n",
      "-------------------------------------------------\n",
      "0 | net       | Sequential         | 416 K \n",
      "1 | train_acc | MulticlassAccuracy | 0     \n",
      "2 | valid_acc | MulticlassAccuracy | 0     \n",
      "3 | test_acc  | MulticlassAccuracy | 0     \n",
      "4 | loss_func | CrossEntropyLoss   | 0     \n",
      "-------------------------------------------------\n",
      "416 K     Trainable params\n",
      "0         Non-trainable params\n",
      "416 K     Total params\n",
      "1.665     Total estimated model params size (MB)\n"
     ]
    },
    {
     "name": "stdout",
     "output_type": "stream",
     "text": [
      "Beginning training for at most 15 epochs\n",
      "Epoch 1 Metrics: valid_loss: 1.1882, valid_acc: 0.5750, train_loss: 1.4008, train_acc: 0.4949, LR: 6.309573e-04\n",
      "Epoch 2 Metrics: valid_loss: 1.0053, valid_acc: 0.6522, train_loss: 0.9928, train_acc: 0.6482, LR: 6.309573e-04\n",
      "Epoch 3 Metrics: valid_loss: 0.9406, valid_acc: 0.6758, train_loss: 0.8414, train_acc: 0.7037, LR: 6.309573e-04\n",
      "Epoch 4 Metrics: valid_loss: 1.0119, valid_acc: 0.6674, train_loss: 0.7644, train_acc: 0.7315, LR: 6.309573e-04\n",
      "Epoch 5 Metrics: valid_loss: 0.9054, valid_acc: 0.7126, train_loss: 0.6945, train_acc: 0.7554, LR: 6.309573e-04\n",
      "Epoch 6 Metrics: valid_loss: 0.7736, valid_acc: 0.7314, train_loss: 0.6442, train_acc: 0.7762, LR: 6.309573e-04\n",
      "Epoch 7 Metrics: valid_loss: 0.6095, valid_acc: 0.7862, train_loss: 0.5956, train_acc: 0.7922, LR: 6.309573e-04\n",
      "Epoch 8 Metrics: valid_loss: 0.7715, valid_acc: 0.7470, train_loss: 0.5536, train_acc: 0.8072, LR: 6.309573e-04\n",
      "Epoch 9 Metrics: valid_loss: 0.5950, valid_acc: 0.7904, train_loss: 0.5284, train_acc: 0.8146, LR: 6.309573e-04\n",
      "Epoch 10 Metrics: valid_loss: 0.6286, valid_acc: 0.7770, train_loss: 0.5051, train_acc: 0.8226, LR: 6.309573e-04\n",
      "Epoch 11 Metrics: valid_loss: 0.6031, valid_acc: 0.7982, train_loss: 0.4768, train_acc: 0.8328, LR: 6.309573e-04\n",
      "Epoch 12 Metrics: valid_loss: 0.6274, valid_acc: 0.7884, train_loss: 0.4646, train_acc: 0.8383, LR: 6.309573e-04\n",
      "Epoch 13 Metrics: valid_loss: 0.5841, valid_acc: 0.8076, train_loss: 0.4471, train_acc: 0.8441, LR: 6.309573e-04\n",
      "Epoch 14 Metrics: valid_loss: 0.5887, valid_acc: 0.8006, train_loss: 0.4355, train_acc: 0.8481, LR: 6.309573e-04\n"
     ]
    },
    {
     "name": "stderr",
     "output_type": "stream",
     "text": [
      "`Trainer.fit` stopped: `max_epochs=15` reached.\n"
     ]
    },
    {
     "name": "stdout",
     "output_type": "stream",
     "text": [
      "Epoch 15 Metrics: valid_loss: 0.6125, valid_acc: 0.7942, train_loss: 0.4166, train_acc: 0.8543, LR: 6.309573e-04\n",
      "End.  Trained for 15 epochs.\n"
     ]
    }
   ],
   "source": [
    "trainer.fit(light_model, train_loader, valid_loader)"
   ]
  },
  {
   "cell_type": "markdown",
   "metadata": {},
   "source": [
    "## Tuning batch size"
   ]
  },
  {
   "cell_type": "markdown",
   "metadata": {},
   "source": [
    "**This is an experimental feature in PyTorch Lightning.  I'm not convinced it works well! **\n",
    "\n",
    "\"Auto-scaling of batch size can be enabled to find the largest batch size that fits into memory. Large batch size often yields a better estimation of the gradients, but may also result in longer training time. Inspired by [https://github.com/BlackHC/toma](https://github.com/BlackHC/toma).\"\n",
    "\n",
    "This feature expects that a batch_size field is either located as a model attribute i.e. `model.batch_size` or as a field in your hparams i.e. `model.hparams.batch_size`. Similarly it can work with datamodules too. The field should exist and will be updated by the results of this algorithm. Additionally, your `train_dataloader()` method should depend on this field for this feature to work\n",
    "\n",
    "Since we already have a tuner defined from finding a learning rate, we can call the automatic batch size finder like this:"
   ]
  },
  {
   "cell_type": "code",
   "execution_count": 12,
   "metadata": {},
   "outputs": [
    {
     "name": "stdout",
     "output_type": "stream",
     "text": [
      "Files already downloaded and verified\n",
      "Files already downloaded and verified\n"
     ]
    },
    {
     "name": "stderr",
     "output_type": "stream",
     "text": [
      "`Trainer.fit` stopped: `max_steps=3` reached.\n",
      "Batch size 2 succeeded, trying batch size 4\n",
      "`Trainer.fit` stopped: `max_steps=3` reached.\n",
      "Batch size 4 succeeded, trying batch size 8\n",
      "`Trainer.fit` stopped: `max_steps=3` reached.\n",
      "Batch size 8 succeeded, trying batch size 16\n",
      "`Trainer.fit` stopped: `max_steps=3` reached.\n",
      "Batch size 16 succeeded, trying batch size 32\n",
      "`Trainer.fit` stopped: `max_steps=3` reached.\n",
      "Batch size 32 succeeded, trying batch size 64\n",
      "`Trainer.fit` stopped: `max_steps=3` reached.\n",
      "Batch size 64 succeeded, trying batch size 128\n",
      "`Trainer.fit` stopped: `max_steps=3` reached.\n",
      "Batch size 128 succeeded, trying batch size 256\n",
      "`Trainer.fit` stopped: `max_steps=3` reached.\n",
      "Batch size 256 succeeded, trying batch size 512\n",
      "`Trainer.fit` stopped: `max_steps=3` reached.\n",
      "Batch size 512 succeeded, trying batch size 1024\n",
      "/Users/jbaggett/miniforge3/envs/UWL-DL/lib/python3.11/site-packages/pytorch_lightning/loops/fit_loop.py:293: The number of training batches (44) is smaller than the logging interval Trainer(log_every_n_steps=50). Set a lower value for log_every_n_steps if you want to see logs for the training epoch.\n",
      "`Trainer.fit` stopped: `max_steps=3` reached.\n",
      "Batch size 1024 succeeded, trying batch size 2048\n",
      "/Users/jbaggett/miniforge3/envs/UWL-DL/lib/python3.11/site-packages/pytorch_lightning/loops/fit_loop.py:293: The number of training batches (22) is smaller than the logging interval Trainer(log_every_n_steps=50). Set a lower value for log_every_n_steps if you want to see logs for the training epoch.\n",
      "Finished batch size finder, will continue with full run using batch size 2048\n",
      "Restoring states from the checkpoint path at /Users/jbaggett/Library/CloudStorage/GoogleDrive-baggett.jeff@gmail.com/My Drive/Colab Notebooks/Advanced Training/.scale_batch_size_7c541f67-da2a-4bd4-bc9d-480c064e6a06.ckpt\n",
      "Restored all states from the checkpoint at /Users/jbaggett/Library/CloudStorage/GoogleDrive-baggett.jeff@gmail.com/My Drive/Colab Notebooks/Advanced Training/.scale_batch_size_7c541f67-da2a-4bd4-bc9d-480c064e6a06.ckpt\n"
     ]
    },
    {
     "data": {
      "text/plain": [
       "2048"
      ]
     },
     "execution_count": 12,
     "metadata": {},
     "output_type": "execute_result"
    }
   ],
   "source": [
    "# Auto-scale batch size by growing it exponentially (default)\n",
    "tuner.scale_batch_size(light_model, cifar10_dm, mode=\"power\", max_trials = 10)"
   ]
  },
  {
   "cell_type": "code",
   "execution_count": 13,
   "metadata": {},
   "outputs": [
    {
     "data": {
      "text/plain": [
       "2048"
      ]
     },
     "execution_count": 13,
     "metadata": {},
     "output_type": "execute_result"
    }
   ],
   "source": [
    "cifar10_dm.batch_size"
   ]
  },
  {
   "cell_type": "code",
   "execution_count": 14,
   "metadata": {},
   "outputs": [
    {
     "data": {
      "text/plain": [
       "0.0013182567385564075"
      ]
     },
     "execution_count": 14,
     "metadata": {},
     "output_type": "execute_result"
    }
   ],
   "source": [
    "light_model.lr"
   ]
  },
  {
   "cell_type": "code",
   "execution_count": 15,
   "metadata": {},
   "outputs": [
    {
     "name": "stdout",
     "output_type": "stream",
     "text": [
      "Files already downloaded and verified\n",
      "Files already downloaded and verified\n"
     ]
    },
    {
     "name": "stderr",
     "output_type": "stream",
     "text": [
      "\n",
      "  | Name      | Type               | Params\n",
      "-------------------------------------------------\n",
      "0 | net       | Sequential         | 416 K \n",
      "1 | train_acc | MulticlassAccuracy | 0     \n",
      "2 | valid_acc | MulticlassAccuracy | 0     \n",
      "3 | test_acc  | MulticlassAccuracy | 0     \n",
      "4 | loss_func | CrossEntropyLoss   | 0     \n",
      "-------------------------------------------------\n",
      "416 K     Trainable params\n",
      "0         Non-trainable params\n",
      "416 K     Total params\n",
      "1.665     Total estimated model params size (MB)\n"
     ]
    },
    {
     "name": "stdout",
     "output_type": "stream",
     "text": [
      "Beginning training for at most 15 epochs\n",
      "Epoch 1 Metrics: valid_loss: 2.2333, valid_acc: 0.2252, train_loss: 2.1083, train_acc: 0.2982, LR: 1.318257e-03\n",
      "Epoch 2 Metrics: valid_loss: 1.3857, valid_acc: 0.4964, train_loss: 1.4116, train_acc: 0.4822, LR: 1.318257e-03\n",
      "Epoch 3 Metrics: valid_loss: 1.2244, valid_acc: 0.5604, train_loss: 1.1783, train_acc: 0.5756, LR: 1.318257e-03\n",
      "Epoch 4 Metrics: valid_loss: 1.1241, valid_acc: 0.6078, train_loss: 0.9629, train_acc: 0.6570, LR: 1.318257e-03\n",
      "Epoch 5 Metrics: valid_loss: 0.8900, valid_acc: 0.6774, train_loss: 0.7950, train_acc: 0.7194, LR: 1.318257e-03\n",
      "Epoch 6 Metrics: valid_loss: 0.8376, valid_acc: 0.7020, train_loss: 0.6770, train_acc: 0.7618, LR: 1.318257e-03\n",
      "Epoch 7 Metrics: valid_loss: 0.9362, valid_acc: 0.6786, train_loss: 0.5887, train_acc: 0.7965, LR: 1.318257e-03\n",
      "Epoch 8 Metrics: valid_loss: 0.7335, valid_acc: 0.7460, train_loss: 0.5249, train_acc: 0.8167, LR: 1.318257e-03\n",
      "Epoch 9 Metrics: valid_loss: 0.7550, valid_acc: 0.7454, train_loss: 0.4654, train_acc: 0.8382, LR: 1.318257e-03\n",
      "Epoch 10 Metrics: valid_loss: 0.6776, valid_acc: 0.7664, train_loss: 0.4158, train_acc: 0.8566, LR: 1.318257e-03\n",
      "Epoch 11 Metrics: valid_loss: 0.8404, valid_acc: 0.7398, train_loss: 0.3633, train_acc: 0.8767, LR: 1.318257e-03\n",
      "Epoch 12 Metrics: valid_loss: 0.9281, valid_acc: 0.7264, train_loss: 0.3373, train_acc: 0.8848, LR: 1.318257e-03\n",
      "Epoch 13 Metrics: valid_loss: 1.0012, valid_acc: 0.7086, train_loss: 0.3175, train_acc: 0.8893, LR: 1.318257e-03\n",
      "Epoch 14 Metrics: valid_loss: 0.9046, valid_acc: 0.7306, train_loss: 0.3230, train_acc: 0.8850, LR: 1.318257e-03\n"
     ]
    },
    {
     "name": "stderr",
     "output_type": "stream",
     "text": [
      "`Trainer.fit` stopped: `max_epochs=15` reached.\n"
     ]
    },
    {
     "name": "stdout",
     "output_type": "stream",
     "text": [
      "Epoch 15 Metrics: valid_loss: 1.2203, valid_acc: 0.6886, train_loss: 0.3150, train_acc: 0.8866, LR: 1.318257e-03\n",
      "End.  Trained for 15 epochs.\n"
     ]
    }
   ],
   "source": [
    "trainer.fit(light_model, cifar10_dm)"
   ]
  },
  {
   "cell_type": "markdown",
   "metadata": {},
   "source": [
    "## Learning Rate Schedulers\n",
    "\n",
    "You can add learning rate schedulers in the configure_optimizers part of your Lightning Module.  Here, we show how to add a cyclic learning rate scheduler.  You must specify the minimum and maximum learning rates.  It defaults to a triangular shape that cycles every 4000 steps (a step is training on one batch).  [Documentation here](https://pytorch.org/docs/stable/generated/torch.optim.lr_scheduler.CyclicLR.html).\n",
    "\n",
    "We'll modify our `BasicLightningModel` class.  Note that there are 45,000 images in the training data so with a batch size of 225 we'll take 45,000/220 = 200 steps per epoch.  If we set step_size_up = 600, then a cycle will be of length 1200 and will take 6 epochs.    "
   ]
  },
  {
   "cell_type": "code",
   "execution_count": 11,
   "metadata": {},
   "outputs": [],
   "source": [
    "class BasicLightningModel(pl.LightningModule):\n",
    "    def __init__(self, net, num_classes, lr=0.001): ### Default LR is 0.001\n",
    "\n",
    "        super().__init__()\n",
    "        self.net = net\n",
    "        self.train_acc = Accuracy(task=\"multiclass\", num_classes=num_classes)\n",
    "        self.valid_acc = Accuracy(task=\"multiclass\", num_classes=num_classes)\n",
    "        self.test_acc = Accuracy(task=\"multiclass\", num_classes=num_classes)\n",
    "        self.loss_func = nn.CrossEntropyLoss()\n",
    "        self.lr = lr\n",
    "        \n",
    "    def training_step(self, batch, batch_idx):\n",
    "        inputs, targets = batch\n",
    "        outputs = self.net(inputs)\n",
    "        loss = self.loss_func(outputs, targets)\n",
    "        self.train_acc(outputs, targets)\n",
    "        self.log_dict( {\"train_loss\":loss,\"train_acc\":self.train_acc},\n",
    "                      on_epoch = True, on_step = False, prog_bar = False)\n",
    "        return loss\n",
    "\n",
    "    def validation_step(self, batch, batch_idx):\n",
    "        inputs, targets = batch\n",
    "        outputs = self.net(inputs)\n",
    "        valid_loss = self.loss_func(outputs, targets)\n",
    "        self.valid_acc(outputs, targets)\n",
    "        self.log_dict( {\"valid_loss\":valid_loss,\"valid_acc\":self.valid_acc},\n",
    "                      prog_bar = False)\n",
    "        return valid_loss\n",
    "\n",
    "    def test_step(self, batch, batch_idx): ### NEW\n",
    "        inputs, targets = batch\n",
    "        outputs = self.net(inputs)\n",
    "        test_loss = self.loss_func(outputs, targets)\n",
    "        self.test_acc(outputs, targets)\n",
    "        self.log_dict( {\"test_loss\":test_loss,\"test_acc\":self.test_acc},\n",
    "                      prog_bar = False)\n",
    "        return test_loss\n",
    "\n",
    "    def predict_step(self, batch, batch_idx, dataloader_idx=0):\n",
    "        inputs, targets = batch\n",
    "        outputs = self.net(inputs)\n",
    "        _, preds = torch.max(outputs, dim=1)\n",
    "        return preds\n",
    "\n",
    "    def configure_optimizers(self):\n",
    "        optimizer = torch.optim.AdamW(self.parameters(), lr=self.lr)\n",
    "        scheduler = {'scheduler': CyclicLR(optimizer, base_lr = 0.0005, max_lr = 0.003, \n",
    "                                           step_size_up = 600, cycle_momentum=False),\n",
    "             'interval': 'step', 'frequency': 1}\n",
    "        return [optimizer],[scheduler]\n"
   ]
  },
  {
   "cell_type": "code",
   "execution_count": 12,
   "metadata": {},
   "outputs": [
    {
     "name": "stderr",
     "output_type": "stream",
     "text": [
      "GPU available: True (mps), used: True\n",
      "TPU available: False, using: 0 TPU cores\n",
      "IPU available: False, using: 0 IPUs\n",
      "HPU available: False, using: 0 HPUs\n",
      "`Trainer(val_check_interval=1.0)` was configured so validation will run at the end of the training epoch..\n"
     ]
    },
    {
     "name": "stdout",
     "output_type": "stream",
     "text": [
      "Files already downloaded and verified\n",
      "Files already downloaded and verified\n"
     ]
    },
    {
     "name": "stderr",
     "output_type": "stream",
     "text": [
      "\n",
      "  | Name      | Type               | Params\n",
      "-------------------------------------------------\n",
      "0 | net       | Sequential         | 416 K \n",
      "1 | train_acc | MulticlassAccuracy | 0     \n",
      "2 | valid_acc | MulticlassAccuracy | 0     \n",
      "3 | test_acc  | MulticlassAccuracy | 0     \n",
      "4 | loss_func | CrossEntropyLoss   | 0     \n",
      "-------------------------------------------------\n",
      "416 K     Trainable params\n",
      "0         Non-trainable params\n",
      "416 K     Total params\n",
      "1.665     Total estimated model params size (MB)\n"
     ]
    },
    {
     "name": "stdout",
     "output_type": "stream",
     "text": [
      "Beginning training for at most 18 epochs\n",
      "Epoch 1 Metrics: valid_loss: 1.0477, valid_acc: 0.6442, train_loss: 1.2428, train_acc: 0.5597, LR: 1.333333e-03\n",
      "Epoch 2 Metrics: valid_loss: 0.9692, valid_acc: 0.6738, train_loss: 0.8686, train_acc: 0.6991, LR: 2.166667e-03\n",
      "Epoch 3 Metrics: valid_loss: 0.9717, valid_acc: 0.6664, train_loss: 0.7141, train_acc: 0.7536, LR: 3.000000e-03\n",
      "Epoch 4 Metrics: valid_loss: 0.6823, valid_acc: 0.7748, train_loss: 0.5450, train_acc: 0.8092, LR: 2.166667e-03\n",
      "Epoch 5 Metrics: valid_loss: 0.6277, valid_acc: 0.7890, train_loss: 0.3998, train_acc: 0.8621, LR: 1.333333e-03\n",
      "Epoch 6 Metrics: valid_loss: 0.5268, valid_acc: 0.8246, train_loss: 0.2744, train_acc: 0.9073, LR: 5.000000e-04\n",
      "Epoch 7 Metrics: valid_loss: 0.7275, valid_acc: 0.7840, train_loss: 0.2035, train_acc: 0.9360, LR: 1.333333e-03\n",
      "Epoch 8 Metrics: valid_loss: 0.7901, valid_acc: 0.7730, train_loss: 0.2638, train_acc: 0.9071, LR: 2.166667e-03\n",
      "Epoch 9 Metrics: valid_loss: 0.8676, valid_acc: 0.7570, train_loss: 0.3222, train_acc: 0.8854, LR: 3.000000e-03\n",
      "Epoch 10 Metrics: valid_loss: 0.8583, valid_acc: 0.7738, train_loss: 0.2676, train_acc: 0.9038, LR: 2.166667e-03\n",
      "Epoch 11 Metrics: valid_loss: 0.6710, valid_acc: 0.8128, train_loss: 0.1481, train_acc: 0.9480, LR: 1.333333e-03\n",
      "Epoch 12 Metrics: valid_loss: 0.5573, valid_acc: 0.8384, train_loss: 0.0701, train_acc: 0.9791, LR: 5.000000e-04\n",
      "Epoch 13 Metrics: valid_loss: 0.6141, valid_acc: 0.8372, train_loss: 0.0302, train_acc: 0.9963, LR: 1.333333e-03\n",
      "Epoch 14 Metrics: valid_loss: 0.6742, valid_acc: 0.8382, train_loss: 0.0179, train_acc: 0.9989, LR: 2.166667e-03\n",
      "Epoch 15 Metrics: valid_loss: 1.7514, valid_acc: 0.6648, train_loss: 0.1672, train_acc: 0.9487, LR: 3.000000e-03\n",
      "Epoch 16 Metrics: valid_loss: 0.6928, valid_acc: 0.8076, train_loss: 0.2556, train_acc: 0.9094, LR: 2.166667e-03\n",
      "Epoch 17 Metrics: valid_loss: 0.6648, valid_acc: 0.8310, train_loss: 0.0787, train_acc: 0.9750, LR: 1.333333e-03\n"
     ]
    },
    {
     "name": "stderr",
     "output_type": "stream",
     "text": [
      "`Trainer.fit` stopped: `max_epochs=18` reached.\n"
     ]
    },
    {
     "name": "stdout",
     "output_type": "stream",
     "text": [
      "Epoch 18 Metrics: valid_loss: 0.5874, valid_acc: 0.8516, train_loss: 0.0259, train_acc: 0.9948, LR: 5.000000e-04\n",
      "End.  Trained for 18 epochs.\n"
     ]
    }
   ],
   "source": [
    "from torch.optim.lr_scheduler import CyclicLR\n",
    "\n",
    "cnn_bn_model = createModel() # create a newly initialized network\n",
    "\n",
    "## re-instantiate the data module to use batch_size = 225\n",
    "cifar10_dm = CIFAR10DataModule(batch_size = 225)\n",
    "\n",
    "light_model = BasicLightningModel(cnn_bn_model, num_classes = 10, lr=0.001) # lr doesn't matter\n",
    "\n",
    "print_cb = PrintMetricsCallback(print_epoch=1)\n",
    "\n",
    "trainer = pl.Trainer(max_epochs=18,\n",
    "                     enable_progress_bar=False,\n",
    "                     callbacks=[print_cb],\n",
    "                     num_sanity_val_steps=0,\n",
    "                     val_check_interval=1.0)\n",
    "\n",
    "trainer.fit(light_model, cifar10_dm)"
   ]
  },
  {
   "cell_type": "markdown",
   "metadata": {},
   "source": [
    "After the first cycle the results didn't improve all that much.  Maybe we can get by with just one cycle.  Here we configure OneCycleLR with 8 epochs and a maximum learning rate of 0.003."
   ]
  },
  {
   "cell_type": "code",
   "execution_count": 13,
   "metadata": {},
   "outputs": [],
   "source": [
    "class BasicLightningModel(pl.LightningModule):\n",
    "    def __init__(self, net, num_classes, lr=0.001): ### Default LR is 0.001\n",
    "\n",
    "        super().__init__()\n",
    "        self.net = net\n",
    "        self.train_acc = Accuracy(task=\"multiclass\", num_classes=num_classes)\n",
    "        self.valid_acc = Accuracy(task=\"multiclass\", num_classes=num_classes)\n",
    "        self.test_acc = Accuracy(task=\"multiclass\", num_classes=num_classes)\n",
    "        self.loss_func = nn.CrossEntropyLoss()\n",
    "        self.lr = lr\n",
    "        \n",
    "    def training_step(self, batch, batch_idx):\n",
    "        inputs, targets = batch\n",
    "        outputs = self.net(inputs)\n",
    "        loss = self.loss_func(outputs, targets)\n",
    "        self.train_acc(outputs, targets)\n",
    "        self.log_dict( {\"train_loss\":loss,\"train_acc\":self.train_acc},\n",
    "                      on_epoch = True, on_step = False, prog_bar = False)\n",
    "        return loss\n",
    "\n",
    "    def validation_step(self, batch, batch_idx):\n",
    "        inputs, targets = batch\n",
    "        outputs = self.net(inputs)\n",
    "        valid_loss = self.loss_func(outputs, targets)\n",
    "        self.valid_acc(outputs, targets)\n",
    "        self.log_dict( {\"valid_loss\":valid_loss,\"valid_acc\":self.valid_acc},\n",
    "                      prog_bar = False)\n",
    "        return valid_loss\n",
    "\n",
    "    def test_step(self, batch, batch_idx): ### NEW\n",
    "        inputs, targets = batch\n",
    "        outputs = self.net(inputs)\n",
    "        test_loss = self.loss_func(outputs, targets)\n",
    "        self.test_acc(outputs, targets)\n",
    "        self.log_dict( {\"test_loss\":test_loss,\"test_acc\":self.test_acc},\n",
    "                      prog_bar = False)\n",
    "        return test_loss\n",
    "\n",
    "    def predict_step(self, batch, batch_idx, dataloader_idx=0):\n",
    "        inputs, targets = batch\n",
    "        outputs = self.net(inputs)\n",
    "        _, preds = torch.max(outputs, dim=1)\n",
    "        return preds\n",
    "\n",
    "    def configure_optimizers(self):\n",
    "        optimizer = torch.optim.AdamW(self.parameters(), lr=self.lr)\n",
    "        # steps per epoch is the number of batches in one epoch\n",
    "        scheduler = {'scheduler': OneCycleLR(optimizer, max_lr=0.003, steps_per_epoch=200, epochs=8),\n",
    "             'interval': 'step', 'frequency': 1}\n",
    "        return [optimizer],[scheduler]\n"
   ]
  },
  {
   "cell_type": "code",
   "execution_count": 14,
   "metadata": {},
   "outputs": [
    {
     "name": "stderr",
     "output_type": "stream",
     "text": [
      "GPU available: True (mps), used: True\n",
      "TPU available: False, using: 0 TPU cores\n",
      "IPU available: False, using: 0 IPUs\n",
      "HPU available: False, using: 0 HPUs\n",
      "`Trainer(val_check_interval=1.0)` was configured so validation will run at the end of the training epoch..\n"
     ]
    },
    {
     "name": "stdout",
     "output_type": "stream",
     "text": [
      "Files already downloaded and verified\n",
      "Files already downloaded and verified\n"
     ]
    },
    {
     "name": "stderr",
     "output_type": "stream",
     "text": [
      "\n",
      "  | Name      | Type               | Params\n",
      "-------------------------------------------------\n",
      "0 | net       | Sequential         | 416 K \n",
      "1 | train_acc | MulticlassAccuracy | 0     \n",
      "2 | valid_acc | MulticlassAccuracy | 0     \n",
      "3 | test_acc  | MulticlassAccuracy | 0     \n",
      "4 | loss_func | CrossEntropyLoss   | 0     \n",
      "-------------------------------------------------\n",
      "416 K     Trainable params\n",
      "0         Non-trainable params\n",
      "416 K     Total params\n",
      "1.665     Total estimated model params size (MB)\n"
     ]
    },
    {
     "name": "stdout",
     "output_type": "stream",
     "text": [
      "Beginning training for at most 8 epochs\n",
      "Epoch 1 Metrics: valid_loss: 1.3406, valid_acc: 0.5658, train_loss: 1.3563, train_acc: 0.5133, LR: 1.191103e-03\n",
      "Epoch 2 Metrics: valid_loss: 1.0531, valid_acc: 0.6330, train_loss: 0.9980, train_acc: 0.6580, LR: 2.810993e-03\n",
      "Epoch 3 Metrics: valid_loss: 0.9050, valid_acc: 0.6896, train_loss: 0.7024, train_acc: 0.7556, LR: 2.914430e-03\n",
      "Epoch 4 Metrics: valid_loss: 0.6639, valid_acc: 0.7690, train_loss: 0.5457, train_acc: 0.8104, LR: 2.431944e-03\n",
      "Epoch 5 Metrics: valid_loss: 0.6051, valid_acc: 0.7974, train_loss: 0.4148, train_acc: 0.8557, LR: 1.663770e-03\n",
      "Epoch 6 Metrics: valid_loss: 0.5344, valid_acc: 0.8226, train_loss: 0.3048, train_acc: 0.8969, LR: 8.453948e-04\n",
      "Epoch 7 Metrics: valid_loss: 0.4551, valid_acc: 0.8498, train_loss: 0.1992, train_acc: 0.9380, LR: 2.276913e-04\n"
     ]
    },
    {
     "name": "stderr",
     "output_type": "stream",
     "text": [
      "`Trainer.fit` stopped: `max_epochs=8` reached.\n"
     ]
    },
    {
     "name": "stdout",
     "output_type": "stream",
     "text": [
      "Epoch 8 Metrics: valid_loss: 0.4330, valid_acc: 0.8580, train_loss: 0.1327, train_acc: 0.9650, LR: 1.790096e-08\n",
      "End.  Trained for 8 epochs.\n"
     ]
    }
   ],
   "source": [
    "cnn_bn_model = createModel() # create a newly initialized network\n",
    "\n",
    "## re-instantiate the data module to use batch_size = 225\n",
    "cifar10_dm = CIFAR10DataModule(batch_size = 225) #200 batches\n",
    "\n",
    "light_model = BasicLightningModel(cnn_bn_model, num_classes = 10, lr=0.001) # lr doesn't matter\n",
    "\n",
    "print_cb = PrintMetricsCallback(print_epoch=1)\n",
    "\n",
    "trainer = pl.Trainer(max_epochs=8,\n",
    "                     enable_progress_bar=False,\n",
    "                     callbacks=[print_cb],\n",
    "                     num_sanity_val_steps=0,\n",
    "                     val_check_interval=1.0)\n",
    "\n",
    "trainer.fit(light_model, cifar10_dm)"
   ]
  }
 ],
 "metadata": {
  "accelerator": "GPU",
  "colab": {
   "gpuType": "T4",
   "provenance": [
    {
     "file_id": "1B5fzMqqmVBkabVj0mr1Nd8rl9WTeipu8",
     "timestamp": 1707398051720
    }
   ]
  },
  "kernelspec": {
   "display_name": "Python 3 (ipykernel)",
   "language": "python",
   "name": "python3"
  },
  "language_info": {
   "codemirror_mode": {
    "name": "ipython",
    "version": 3
   },
   "file_extension": ".py",
   "mimetype": "text/x-python",
   "name": "python",
   "nbconvert_exporter": "python",
   "pygments_lexer": "ipython3",
   "version": "3.11.8"
  },
  "widgets": {
   "application/vnd.jupyter.widget-state+json": {
    "029d1aba9ed94afab07f96f8cf1c9ce1": {
     "model_module": "@jupyter-widgets/base",
     "model_module_version": "1.2.0",
     "model_name": "LayoutModel",
     "state": {
      "_model_module": "@jupyter-widgets/base",
      "_model_module_version": "1.2.0",
      "_model_name": "LayoutModel",
      "_view_count": null,
      "_view_module": "@jupyter-widgets/base",
      "_view_module_version": "1.2.0",
      "_view_name": "LayoutView",
      "align_content": null,
      "align_items": null,
      "align_self": null,
      "border": null,
      "bottom": null,
      "display": null,
      "flex": null,
      "flex_flow": null,
      "grid_area": null,
      "grid_auto_columns": null,
      "grid_auto_flow": null,
      "grid_auto_rows": null,
      "grid_column": null,
      "grid_gap": null,
      "grid_row": null,
      "grid_template_areas": null,
      "grid_template_columns": null,
      "grid_template_rows": null,
      "height": null,
      "justify_content": null,
      "justify_items": null,
      "left": null,
      "margin": null,
      "max_height": null,
      "max_width": null,
      "min_height": null,
      "min_width": null,
      "object_fit": null,
      "object_position": null,
      "order": null,
      "overflow": null,
      "overflow_x": null,
      "overflow_y": null,
      "padding": null,
      "right": null,
      "top": null,
      "visibility": null,
      "width": null
     }
    },
    "286cedb61b7c4bc4b18c26b2d2f645a8": {
     "model_module": "@jupyter-widgets/controls",
     "model_module_version": "1.5.0",
     "model_name": "DescriptionStyleModel",
     "state": {
      "_model_module": "@jupyter-widgets/controls",
      "_model_module_version": "1.5.0",
      "_model_name": "DescriptionStyleModel",
      "_view_count": null,
      "_view_module": "@jupyter-widgets/base",
      "_view_module_version": "1.2.0",
      "_view_name": "StyleView",
      "description_width": ""
     }
    },
    "7304dc77b6524ddfaa78688957ee0a81": {
     "model_module": "@jupyter-widgets/controls",
     "model_module_version": "1.5.0",
     "model_name": "DescriptionStyleModel",
     "state": {
      "_model_module": "@jupyter-widgets/controls",
      "_model_module_version": "1.5.0",
      "_model_name": "DescriptionStyleModel",
      "_view_count": null,
      "_view_module": "@jupyter-widgets/base",
      "_view_module_version": "1.2.0",
      "_view_name": "StyleView",
      "description_width": ""
     }
    },
    "73b9716bc5ea430a965edf945ddf3c10": {
     "model_module": "@jupyter-widgets/controls",
     "model_module_version": "1.5.0",
     "model_name": "HTMLModel",
     "state": {
      "_dom_classes": [],
      "_model_module": "@jupyter-widgets/controls",
      "_model_module_version": "1.5.0",
      "_model_name": "HTMLModel",
      "_view_count": null,
      "_view_module": "@jupyter-widgets/controls",
      "_view_module_version": "1.5.0",
      "_view_name": "HTMLView",
      "description": "",
      "description_tooltip": null,
      "layout": "IPY_MODEL_eb89706559414dd6934476af0bfff206",
      "placeholder": "​",
      "style": "IPY_MODEL_286cedb61b7c4bc4b18c26b2d2f645a8",
      "value": " 17/17 [00:00&lt;00:00, 20.15it/s]"
     }
    },
    "a86e25f5004a457f802f26fe0f58a284": {
     "model_module": "@jupyter-widgets/controls",
     "model_module_version": "1.5.0",
     "model_name": "HTMLModel",
     "state": {
      "_dom_classes": [],
      "_model_module": "@jupyter-widgets/controls",
      "_model_module_version": "1.5.0",
      "_model_name": "HTMLModel",
      "_view_count": null,
      "_view_module": "@jupyter-widgets/controls",
      "_view_module_version": "1.5.0",
      "_view_name": "HTMLView",
      "description": "",
      "description_tooltip": null,
      "layout": "IPY_MODEL_029d1aba9ed94afab07f96f8cf1c9ce1",
      "placeholder": "​",
      "style": "IPY_MODEL_7304dc77b6524ddfaa78688957ee0a81",
      "value": "Predicting DataLoader 0: 100%"
     }
    },
    "a9eac2272e6c41008614d3ef56c01aab": {
     "model_module": "@jupyter-widgets/controls",
     "model_module_version": "1.5.0",
     "model_name": "FloatProgressModel",
     "state": {
      "_dom_classes": [],
      "_model_module": "@jupyter-widgets/controls",
      "_model_module_version": "1.5.0",
      "_model_name": "FloatProgressModel",
      "_view_count": null,
      "_view_module": "@jupyter-widgets/controls",
      "_view_module_version": "1.5.0",
      "_view_name": "ProgressView",
      "bar_style": "success",
      "description": "",
      "description_tooltip": null,
      "layout": "IPY_MODEL_bbef5932f2044b669c506928ab5b78b2",
      "max": 17,
      "min": 0,
      "orientation": "horizontal",
      "style": "IPY_MODEL_bf98bb680eed417ebccad44d55e5029d",
      "value": 17
     }
    },
    "bbef5932f2044b669c506928ab5b78b2": {
     "model_module": "@jupyter-widgets/base",
     "model_module_version": "1.2.0",
     "model_name": "LayoutModel",
     "state": {
      "_model_module": "@jupyter-widgets/base",
      "_model_module_version": "1.2.0",
      "_model_name": "LayoutModel",
      "_view_count": null,
      "_view_module": "@jupyter-widgets/base",
      "_view_module_version": "1.2.0",
      "_view_name": "LayoutView",
      "align_content": null,
      "align_items": null,
      "align_self": null,
      "border": null,
      "bottom": null,
      "display": null,
      "flex": "2",
      "flex_flow": null,
      "grid_area": null,
      "grid_auto_columns": null,
      "grid_auto_flow": null,
      "grid_auto_rows": null,
      "grid_column": null,
      "grid_gap": null,
      "grid_row": null,
      "grid_template_areas": null,
      "grid_template_columns": null,
      "grid_template_rows": null,
      "height": null,
      "justify_content": null,
      "justify_items": null,
      "left": null,
      "margin": null,
      "max_height": null,
      "max_width": null,
      "min_height": null,
      "min_width": null,
      "object_fit": null,
      "object_position": null,
      "order": null,
      "overflow": null,
      "overflow_x": null,
      "overflow_y": null,
      "padding": null,
      "right": null,
      "top": null,
      "visibility": null,
      "width": null
     }
    },
    "bf98bb680eed417ebccad44d55e5029d": {
     "model_module": "@jupyter-widgets/controls",
     "model_module_version": "1.5.0",
     "model_name": "ProgressStyleModel",
     "state": {
      "_model_module": "@jupyter-widgets/controls",
      "_model_module_version": "1.5.0",
      "_model_name": "ProgressStyleModel",
      "_view_count": null,
      "_view_module": "@jupyter-widgets/base",
      "_view_module_version": "1.2.0",
      "_view_name": "StyleView",
      "bar_color": null,
      "description_width": ""
     }
    },
    "c51c0cc86b5e40779e601d5002a7ee2b": {
     "model_module": "@jupyter-widgets/base",
     "model_module_version": "1.2.0",
     "model_name": "LayoutModel",
     "state": {
      "_model_module": "@jupyter-widgets/base",
      "_model_module_version": "1.2.0",
      "_model_name": "LayoutModel",
      "_view_count": null,
      "_view_module": "@jupyter-widgets/base",
      "_view_module_version": "1.2.0",
      "_view_name": "LayoutView",
      "align_content": null,
      "align_items": null,
      "align_self": null,
      "border": null,
      "bottom": null,
      "display": "inline-flex",
      "flex": null,
      "flex_flow": "row wrap",
      "grid_area": null,
      "grid_auto_columns": null,
      "grid_auto_flow": null,
      "grid_auto_rows": null,
      "grid_column": null,
      "grid_gap": null,
      "grid_row": null,
      "grid_template_areas": null,
      "grid_template_columns": null,
      "grid_template_rows": null,
      "height": null,
      "justify_content": null,
      "justify_items": null,
      "left": null,
      "margin": null,
      "max_height": null,
      "max_width": null,
      "min_height": null,
      "min_width": null,
      "object_fit": null,
      "object_position": null,
      "order": null,
      "overflow": null,
      "overflow_x": null,
      "overflow_y": null,
      "padding": null,
      "right": null,
      "top": null,
      "visibility": null,
      "width": "100%"
     }
    },
    "eb89706559414dd6934476af0bfff206": {
     "model_module": "@jupyter-widgets/base",
     "model_module_version": "1.2.0",
     "model_name": "LayoutModel",
     "state": {
      "_model_module": "@jupyter-widgets/base",
      "_model_module_version": "1.2.0",
      "_model_name": "LayoutModel",
      "_view_count": null,
      "_view_module": "@jupyter-widgets/base",
      "_view_module_version": "1.2.0",
      "_view_name": "LayoutView",
      "align_content": null,
      "align_items": null,
      "align_self": null,
      "border": null,
      "bottom": null,
      "display": null,
      "flex": null,
      "flex_flow": null,
      "grid_area": null,
      "grid_auto_columns": null,
      "grid_auto_flow": null,
      "grid_auto_rows": null,
      "grid_column": null,
      "grid_gap": null,
      "grid_row": null,
      "grid_template_areas": null,
      "grid_template_columns": null,
      "grid_template_rows": null,
      "height": null,
      "justify_content": null,
      "justify_items": null,
      "left": null,
      "margin": null,
      "max_height": null,
      "max_width": null,
      "min_height": null,
      "min_width": null,
      "object_fit": null,
      "object_position": null,
      "order": null,
      "overflow": null,
      "overflow_x": null,
      "overflow_y": null,
      "padding": null,
      "right": null,
      "top": null,
      "visibility": null,
      "width": null
     }
    },
    "fb526f93977d432282b52bf427cd7d0e": {
     "model_module": "@jupyter-widgets/controls",
     "model_module_version": "1.5.0",
     "model_name": "HBoxModel",
     "state": {
      "_dom_classes": [],
      "_model_module": "@jupyter-widgets/controls",
      "_model_module_version": "1.5.0",
      "_model_name": "HBoxModel",
      "_view_count": null,
      "_view_module": "@jupyter-widgets/controls",
      "_view_module_version": "1.5.0",
      "_view_name": "HBoxView",
      "box_style": "",
      "children": [
       "IPY_MODEL_a86e25f5004a457f802f26fe0f58a284",
       "IPY_MODEL_a9eac2272e6c41008614d3ef56c01aab",
       "IPY_MODEL_73b9716bc5ea430a965edf945ddf3c10"
      ],
      "layout": "IPY_MODEL_c51c0cc86b5e40779e601d5002a7ee2b"
     }
    }
   }
  }
 },
 "nbformat": 4,
 "nbformat_minor": 4
}
