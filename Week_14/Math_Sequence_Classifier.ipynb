{
 "cells": [
  {
   "cell_type": "code",
   "execution_count": 136,
   "id": "d428e59f-149f-41a8-9c20-6a919f009d1b",
   "metadata": {},
   "outputs": [],
   "source": [
    "import torch\n",
    "from torch.utils.data import Dataset, DataLoader\n",
    "import torch.nn as nn\n",
    "import torchmetrics\n",
    "\n",
    "import numpy as np\n",
    "\n",
    "from utils import train_model"
   ]
  },
  {
   "cell_type": "markdown",
   "id": "b61911fc-efc2-4aa6-ae85-a2dc198fe1d4",
   "metadata": {},
   "source": [
    "## Custom Dataset\n",
    "\n",
    "Our custom dataset generates arithmetic strings like this:  \"minus three plus four plus one minus zero\" etc.  Each string also gets a label of 1 if the sum is positive, otherwise the label is zero."
   ]
  },
  {
   "cell_type": "code",
   "execution_count": 137,
   "id": "0e9699fa-e4b8-400e-b437-0d77fc9d3f85",
   "metadata": {},
   "outputs": [],
   "source": [
    "class ArithmeticSequenceDataset(Dataset):\n",
    "    def __init__(self, num_samples, max_length=20, seed=None):\n",
    "        np.random.seed(seed)\n",
    "        self.num_samples = num_samples\n",
    "        self.max_length = max_length\n",
    "        self.num_map = {\n",
    "            \"zero\": 0, \"one\": 1, \"two\": 2, \"three\": 3, \"four\": 4,\n",
    "            \"five\": 5, \"six\": 6, \"seven\": 7, \"eight\": 8, \"nine\": 9\n",
    "        }\n",
    "        self.data, self.labels = self.generate_dataset(num_samples, max_length)\n",
    "\n",
    "    def generate_dataset(self, num_samples, max_length):\n",
    "        operators = [\"plus\", \"minus\"]\n",
    "        digits = list(self.num_map.keys())  # Including \"zero\"\n",
    "        sequences = []\n",
    "        labels = []\n",
    "\n",
    "        for _ in range(num_samples):\n",
    "            length = np.random.randint(1, max_length + 1)\n",
    "            numbers = np.random.choice(digits, length, replace=True)\n",
    "            ops = np.random.choice(operators, length, replace=True)\n",
    "            sequence = \" \".join([f\"{op} {num}\" for op, num in zip(ops, numbers)])\n",
    "            # Calculate the sum considering zero does not change the sum\n",
    "            sum_numbers = np.sum([self.num_map[num] if op == \"plus\" else -self.num_map[num] for op, num in zip(ops, numbers)])\n",
    "            #label = int(sum_numbers > 0)\n",
    "            label = np.float32( sum_numbers > 0 ) # return floats for BCELoss and torchmetrics accuracy\n",
    "            sequences.append(sequence)\n",
    "            labels.append(label)\n",
    "        \n",
    "        return sequences, labels\n",
    "\n",
    "    def __len__(self):\n",
    "        return self.num_samples\n",
    "\n",
    "    def __getitem__(self, idx):\n",
    "        return self.data[idx], self.labels[idx]\n"
   ]
  },
  {
   "cell_type": "code",
   "execution_count": 138,
   "id": "e3613030-ca93-4203-8e24-e49ae7b95777",
   "metadata": {},
   "outputs": [],
   "source": [
    "train_dataset = ArithmeticSequenceDataset(20000, 10, seed=42)\n",
    "valid_dataset = ArithmeticSequenceDataset(2000, 10, seed=98)"
   ]
  },
  {
   "cell_type": "code",
   "execution_count": 139,
   "id": "358ea7cc-4007-44a2-884f-81d9ebb52425",
   "metadata": {},
   "outputs": [
    {
     "data": {
      "text/plain": [
       "('plus five minus two minus nine minus three plus seven plus four plus six plus four plus nine plus two',\n",
       " 1.0)"
      ]
     },
     "execution_count": 139,
     "metadata": {},
     "output_type": "execute_result"
    }
   ],
   "source": [
    "seq, label = valid_dataset[1]\n",
    "seq,label"
   ]
  },
  {
   "cell_type": "markdown",
   "id": "bb54f9e5-c9c8-4054-ab7a-04be6261d9f0",
   "metadata": {},
   "source": [
    "## Classify using Class Token\n",
    "\n",
    "A common approach to classification problems with transformers is to add a token at the beginning of the sequence called a class token, or '<CLS>'.  The transformer model encodes the sequence including the class token and the class token is passed to the classifier layer.  The model learns to aggregate information about the sequence into the class token through the learning process.\n",
    "\n",
    "Here's how we can include the class token in the vocabulary and add it the beginning of each sequence through the dataloader."
   ]
  },
  {
   "cell_type": "code",
   "execution_count": 167,
   "id": "2622c4b7-2956-40ef-9546-221afa1398fb",
   "metadata": {},
   "outputs": [],
   "source": [
    "vocab_cls = {\n",
    "    \"<PAD>\": 0, \"<CLS>\": 1, \"plus\": 2, \"minus\": 3,\n",
    "    \"zero\": 4, \"one\": 5, \"two\": 6, \"three\": 7, \"four\": 8,\n",
    "    \"five\": 9, \"six\": 10, \"seven\": 11, \"eight\": 12, \"nine\": 13\n",
    "}\n",
    "\n",
    "def pad_batch_cls(batch):\n",
    "    sequences, labels = zip(*batch)\n",
    "    max_length = max(len(seq.split()) for seq in sequences)\n",
    "    padded_sequences = []\n",
    "    for seq in sequences:\n",
    "        tokens = ['<CLS>'] + seq.split()\n",
    "        padded = [vocab_cls[token] for token in tokens] + [vocab_cls[\"<PAD>\"]] * (max_length + 1 - len(tokens))\n",
    "        padded_sequences.append(padded)\n",
    "    return torch.tensor(padded_sequences), torch.tensor(labels)\n"
   ]
  },
  {
   "cell_type": "code",
   "execution_count": 168,
   "id": "d1020861-3007-481f-b070-847784f8f27a",
   "metadata": {},
   "outputs": [
    {
     "name": "stdout",
     "output_type": "stream",
     "text": [
      "plus five minus two minus nine minus three plus seven plus four plus six plus four plus nine plus two\n",
      "['<CLS>', 'plus', 'five', 'minus', 'two', 'minus', 'nine', 'minus', 'three', 'plus', 'seven', 'plus', 'four', 'plus', 'six', 'plus', 'four', 'plus', 'nine', 'plus', 'two']\n",
      "[1, 2, 9, 3, 6, 3, 13, 3, 7, 2, 11, 2, 8, 2, 10, 2, 8, 2, 13, 2, 6]\n"
     ]
    }
   ],
   "source": [
    "tokens = ['<CLS>'] + seq.split()\n",
    "max_length = 20\n",
    "padded = [vocab_cls[token] for token in tokens] + [vocab_cls[\"<PAD>\"]] * (max_length + 1 - len(tokens))\n",
    "print(seq)\n",
    "print(tokens)\n",
    "print(padded)"
   ]
  },
  {
   "cell_type": "markdown",
   "id": "5a5c8bc5-f9bb-4e58-816b-1dda98dd65c1",
   "metadata": {},
   "source": [
    "## A Simple Transformer - One Head and One Layer - Step By Step\n",
    "\n",
    "To integrate the `SingleHeadAttention` class into the Transformer model while explicitly showing the computations and the modular approach, we'll adjust the class definition slightly to correctly handle the scaling factor and ensure proper device placement for tensors like the scaling factor. Additionally, I'll include it in the Transformer block setup as requested.\n",
    "\n",
    "### Step 1: Define the Single Head Attention Module\n",
    "\n",
    "Here's the `SingleHeadAttention` class with a small adjustment to ensure the scaling factor works correctly with various devices (e.g., when using GPUs)."
   ]
  },
  {
   "cell_type": "code",
   "execution_count": 142,
   "id": "d638344d-ae91-46e5-b40f-60851940e5af",
   "metadata": {},
   "outputs": [],
   "source": [
    "import torch\n",
    "import torch.nn as nn\n",
    "import torch.nn.functional as F\n",
    "\n",
    "class SingleHeadAttention(nn.Module):\n",
    "    def __init__(self, embed_dim):\n",
    "        super(SingleHeadAttention, self).__init__()\n",
    "        self.query = nn.Linear(embed_dim, embed_dim)\n",
    "        self.key = nn.Linear(embed_dim, embed_dim)\n",
    "        self.value = nn.Linear(embed_dim, embed_dim)\n",
    "        self.scale = torch.sqrt(torch.FloatTensor([embed_dim]))\n",
    "\n",
    "    def forward(self, x):\n",
    "        Q = self.query(x)\n",
    "        K = self.key(x)\n",
    "        V = self.value(x)\n",
    "        attention_scores = torch.matmul(Q, K.transpose(-2, -1)) / self.scale\n",
    "        self.attention = F.softmax(attention_scores, dim=-1)\n",
    "        return torch.matmul(self.attention, V)"
   ]
  },
  {
   "cell_type": "markdown",
   "id": "aa0daabe-d83a-4a37-9123-a492959a566b",
   "metadata": {},
   "source": [
    "### Step 2: Define the Transformer Block Including SingleHeadAttention\n",
    "\n",
    "Now we integrate `SingleHeadAttention` within a Transformer block, which includes layer normalization and an MLP."
   ]
  },
  {
   "cell_type": "code",
   "execution_count": 143,
   "id": "5abfe955-9464-4948-a2ac-cd699a90cffb",
   "metadata": {},
   "outputs": [],
   "source": [
    "class TransformerBlock(nn.Module):\n",
    "    def __init__(self, embed_dim, hidden_dim):\n",
    "        super(TransformerBlock, self).__init__()\n",
    "        self.attention = SingleHeadAttention(embed_dim)\n",
    "        self.norm1 = nn.LayerNorm(embed_dim)\n",
    "        self.mlp = nn.Sequential(\n",
    "            nn.Linear(embed_dim, hidden_dim),\n",
    "            nn.ReLU(),\n",
    "            nn.Linear(hidden_dim, embed_dim)\n",
    "        )\n",
    "        self.norm2 = nn.LayerNorm(embed_dim)\n",
    "\n",
    "    def forward(self, x):\n",
    "        # Attention and first residual connection + layer norm\n",
    "        attn_output = self.attention(x)\n",
    "        x = self.norm1(x + attn_output)\n",
    "        \n",
    "        # MLP and second residual connection + layer norm\n",
    "        x2 = self.mlp(x)\n",
    "        x = self.norm2(x + x2)\n",
    "        return x"
   ]
  },
  {
   "cell_type": "markdown",
   "id": "e8670b60-22be-4ae6-908a-856249eab22b",
   "metadata": {},
   "source": [
    "### Step 3: Define the Postional Encoder"
   ]
  },
  {
   "cell_type": "code",
   "execution_count": 144,
   "id": "f250c94c-de1b-4315-ba73-7f6840f7da1d",
   "metadata": {},
   "outputs": [],
   "source": [
    "class PositionalEncoding(nn.Module):\n",
    "    def __init__(self, d_model, max_len=500):\n",
    "        super(PositionalEncoding, self).__init__()\n",
    "        pe = torch.zeros(max_len, d_model)\n",
    "        position = torch.arange(0, max_len, dtype=torch.float).unsqueeze(1)\n",
    "        div_term = torch.exp(torch.arange(0, d_model, 2).float() * -(np.log(10000.0) / d_model))\n",
    "        pe[:, 0::2] = torch.sin(position * div_term)\n",
    "        pe[:, 1::2] = torch.cos(position * div_term)\n",
    "        pe = pe.unsqueeze(0)\n",
    "        self.register_buffer('pe', pe)\n",
    "\n",
    "    def forward(self, x):\n",
    "        x = x + self.pe[:, :x.size(1)]\n",
    "        return x"
   ]
  },
  {
   "cell_type": "markdown",
   "id": "c0776f80-071f-42be-be1f-cc0ad0774157",
   "metadata": {},
   "source": [
    "### Step 4a: Define the Full Transformer Classifier Model\n",
    "\n",
    "Now, assemble the full classifier that uses the Transformer block.  We'll look at two variations here.  The models are nearly the same, but in version 4a we'll use "
   ]
  },
  {
   "cell_type": "code",
   "execution_count": 148,
   "id": "752aeeb2-d253-472a-bb6f-ea52b5fb7e89",
   "metadata": {},
   "outputs": [],
   "source": [
    "class SimpleTransformerClassToken(nn.Module):\n",
    "    def __init__(self, vocab_size, embed_dim, hidden_dim, num_classes):\n",
    "        super().__init__()\n",
    "        self.embedding = nn.Embedding(vocab_size, embed_dim)\n",
    "        self.pos_encoder = PositionalEncoding(embed_dim)\n",
    "        self.transformer_block = TransformerBlock(embed_dim, hidden_dim)\n",
    "        self.classifier = nn.Linear(embed_dim, num_classes)\n",
    "\n",
    "    def forward(self, x):\n",
    "        x = self.embedding(x)\n",
    "        x = self.pos_encoder(x)\n",
    "        x = self.transformer_block(x)\n",
    "        cls_token = x[:, 0, :]  # Assuming <CLS> token is at the first position\n",
    "        output = self.classifier(cls_token).squeeze()  # Ensure dimension match for labels\n",
    "        return output"
   ]
  },
  {
   "cell_type": "code",
   "execution_count": 172,
   "id": "039d47cd-b6c5-46c7-ae6d-1828303f7d43",
   "metadata": {},
   "outputs": [],
   "source": [
    "train_dataset = ArithmeticSequenceDataset(20000, 10, seed=42)\n",
    "valid_dataset = ArithmeticSequenceDataset(2000, 10, seed=99)\n",
    "\n",
    "train_loader_cls = DataLoader(train_dataset, batch_size=100, shuffle=True, collate_fn=pad_batch_cls)\n",
    "valid_loader_cls = DataLoader(valid_dataset, batch_size=100, shuffle=False, collate_fn=pad_batch_cls)"
   ]
  },
  {
   "cell_type": "code",
   "execution_count": 173,
   "id": "1d01efec-e7b9-4048-ab5c-300957f90bfb",
   "metadata": {},
   "outputs": [
    {
     "name": "stdout",
     "output_type": "stream",
     "text": [
      "Epoch 25/25, Training 100.00% complete, Validation 100.00% complete lr = 1.000e-03\n",
      " Epoch  train_accuracy  train_loss  val_accuracy  val_loss     Time    LR\n",
      "    21         0.83175    0.330641        0.8460  0.314637 1.838973 0.001\n",
      "    22         0.83415    0.324287        0.8405  0.310743 1.937561 0.001\n",
      "    23         0.83210    0.323940        0.8420  0.315021 1.894592 0.001\n",
      "    24         0.83280    0.324227        0.8440  0.319973 1.894785 0.001\n",
      "    25         0.83240    0.322532        0.8435  0.313090 1.903668 0.001\n"
     ]
    },
    {
     "name": "stderr",
     "output_type": "stream",
     "text": [
      "`Trainer.fit` stopped: `max_epochs=25` reached.\n"
     ]
    }
   ],
   "source": [
    "simple_transformer_cls = SimpleTransformerClassToken(vocab_size=14, embed_dim=64, hidden_dim=256, num_classes=1)\n",
    "loss_function = nn.BCEWithLogitsLoss()\n",
    "num_epochs=25\n",
    "\n",
    "metrics = {'accuracy': torchmetrics.Accuracy(task='binary'),}\n",
    "\n",
    "simple_transformer_token = train_model(simple_transformer_cls, loss_function,\n",
    "                         epochs = num_epochs,\n",
    "                         metrics = metrics,\n",
    "                         train_loader = train_loader_cls,\n",
    "                         val_loader = valid_loader_cls)"
   ]
  },
  {
   "cell_type": "markdown",
   "id": "07b42d2a-b55d-4437-860f-b3915302e83c",
   "metadata": {},
   "source": [
    "#### Visualizing the Attention Weights"
   ]
  },
  {
   "cell_type": "code",
   "execution_count": 194,
   "id": "e52c4211-b4e3-4c9e-bc09-334e0a9f2e51",
   "metadata": {},
   "outputs": [
    {
     "data": {
      "image/png": "[encoded data removed]",
      "text/plain": [
       "<Figure size 640x480 with 2 Axes>"
      ]
     },
     "metadata": {},
     "output_type": "display_data"
    },
    {
     "name": "stdout",
     "output_type": "stream",
     "text": [
      "tensor([2, 9, 1, 4, 2, 7, 2, 5, 0, 0, 0, 0, 0, 0, 0, 0, 0, 0, 0, 0, 0])\n"
     ]
    }
   ],
   "source": [
    "import random\n",
    "\n",
    "simple_transformer.eval()  # Set the model to evaluation mode\n",
    "\n",
    "# Randomly select a sequence from the validation set\n",
    "valid_sequences, valid_labels = next(iter(valid_loader))\n",
    "idx = random.randint(0, valid_sequences.size(0) - 1)\n",
    "sequence, label = valid_sequences[idx], valid_labels[idx]\n",
    "\n",
    "# Perform the forward pass\n",
    "with torch.no_grad():\n",
    "    predictions = simple_transformer_cls(sequence.unsqueeze(0))  # Add batch dimension if needed\n",
    "\n",
    "# Retrieve the attention weights from the attention module\n",
    "attention_weights = simple_transformer_cls.transformer_block.attention.attention\n",
    "\n",
    "# Assuming sequence_tokens is a list of token strings that corresponds to the indices in sequence\n",
    "import seaborn as sns\n",
    "import matplotlib.pyplot as plt\n",
    "\n",
    "# Visualize the attention weights\n",
    "sns.heatmap(attention_weights.squeeze(0).cpu().numpy())#, xticklabels=sequence_tokens, yticklabels=sequence_tokens)\n",
    "plt.xlabel('Keys')\n",
    "plt.ylabel('Queries')\n",
    "plt.title('Attention Weights')\n",
    "plt.show()\n",
    "\n",
    "print(sequence)"
   ]
  },
  {
   "cell_type": "markdown",
   "id": "d9ab31f2-5862-421b-a704-5a03a11819a2",
   "metadata": {},
   "source": [
    "### Use average embedding instead of a class token\n",
    "\n",
    "We'll take away the class token from the vocabulary and change the model to average over the sequence dimensions to produce a single embedding to pass to the classifier.  Here are the necessary changes in one cell:"
   ]
  },
  {
   "cell_type": "code",
   "execution_count": 157,
   "id": "84745000-b9ed-4e80-982e-5fcee24195e8",
   "metadata": {},
   "outputs": [],
   "source": [
    "vocab = {\n",
    "    \"<PAD>\": 0, \"plus\": 1, \"minus\": 2,\n",
    "    \"zero\": 3, \"one\": 4, \"two\": 5, \"three\": 6, \"four\": 7,\n",
    "    \"five\": 8, \"six\": 9, \"seven\": 10, \"eight\": 11, \"nine\": 12\n",
    "}\n",
    "\n",
    "def pad_batch(batch):\n",
    "    sequences, labels = zip(*batch)\n",
    "    max_length = max(len(seq.split()) for seq in sequences)\n",
    "    padded_sequences = []\n",
    "    for seq in sequences:\n",
    "        tokens = seq.split()\n",
    "        padded = [vocab[token] for token in tokens] + [vocab[\"<PAD>\"]] * (max_length + 1 - len(tokens))\n",
    "        padded_sequences.append(padded)\n",
    "    return torch.tensor(padded_sequences), torch.tensor(labels)\n",
    "\n",
    "train_dataset = ArithmeticSequenceDataset(20000, 10, seed=42)\n",
    "valid_dataset = ArithmeticSequenceDataset(2000, 10, seed=99)\n",
    "\n",
    "train_loader = DataLoader(train_dataset, batch_size=100, shuffle=True, collate_fn=pad_batch)\n",
    "valid_loader = DataLoader(valid_dataset, batch_size=100, shuffle=False, collate_fn=pad_batch)\n",
    "\n",
    "class SimpleTransformerAverage(nn.Module):\n",
    "    def __init__(self, vocab_size, embed_dim, hidden_dim, num_classes):\n",
    "        super().__init__()\n",
    "        self.embedding = nn.Embedding(vocab_size, embed_dim)\n",
    "        self.pos_encoder = PositionalEncoding(embed_dim)\n",
    "        self.transformer_block = TransformerBlock(embed_dim, hidden_dim)\n",
    "        self.classifier = nn.Linear(embed_dim, num_classes)\n",
    "\n",
    "    def forward(self, x):\n",
    "        x = self.embedding(x)\n",
    "        x = self.pos_encoder(x)\n",
    "        x = self.transformer_block(x)\n",
    "        avg_sequence = x.mean(dim=1)\n",
    "        output = self.classifier(avg_sequence).squeeze()\n",
    "        return output"
   ]
  },
  {
   "cell_type": "code",
   "execution_count": 162,
   "id": "6a1f3f88-2587-4349-9a72-12b6ccaeae53",
   "metadata": {},
   "outputs": [
    {
     "name": "stderr",
     "output_type": "stream",
     "text": [
      "`Trainer.fit` stopped: `max_epochs=25` reached.\n"
     ]
    },
    {
     "name": "stdout",
     "output_type": "stream",
     "text": [
      "Epoch 25/25, Training 100.00% complete, Validation 100.00% complete lr = 1.000e-03\n",
      " Epoch  train_accuracy  train_loss  val_accuracy  val_loss     Time    LR\n",
      "    21         0.99375    0.029984        0.9825  0.039739 1.858514 0.001\n",
      "    22         0.99410    0.028743        0.9875  0.030317 1.866807 0.001\n",
      "    23         0.99255    0.028747        0.9925  0.029139 1.830252 0.001\n",
      "    24         0.99345    0.026068        0.9925  0.026984 1.843769 0.001\n",
      "    25         0.99525    0.023814        0.9920  0.026238 1.825504 0.001\n"
     ]
    }
   ],
   "source": [
    "simple_transformer_avg = SimpleTransformerAverage(vocab_size=13, embed_dim=64, hidden_dim=256, num_classes=1)\n",
    "loss_function = nn.BCEWithLogitsLoss()\n",
    "num_epochs=25\n",
    "\n",
    "metrics = {'accuracy': torchmetrics.Accuracy(task='binary'),}\n",
    "\n",
    "simple_transformer_avg_df = train_model(simple_transformer_avg, loss_function,\n",
    "                         epochs = num_epochs,\n",
    "                         metrics = metrics,\n",
    "                         train_loader = train_loader,\n",
    "                         val_loader = valid_loader)"
   ]
  },
  {
   "cell_type": "code",
   "execution_count": 166,
   "id": "78facdb8-7e83-4877-ab23-29c6c3b3c8e3",
   "metadata": {},
   "outputs": [
    {
     "data": {
      "image/png": "[encoded data removed]",
      "text/plain": [
       "<Figure size 640x480 with 2 Axes>"
      ]
     },
     "metadata": {},
     "output_type": "display_data"
    },
    {
     "name": "stdout",
     "output_type": "stream",
     "text": [
      "tensor([ 2,  8,  2, 12,  2, 11,  1,  7,  1, 10,  2, 12,  1,  5,  2,  5,  1, 12,\n",
      "         1,  8,  0])\n"
     ]
    }
   ],
   "source": [
    "import random\n",
    "\n",
    "simple_transformer.eval()  # Set the model to evaluation mode\n",
    "\n",
    "# Randomly select a sequence from the validation set\n",
    "valid_sequences, valid_labels = next(iter(valid_loader))\n",
    "idx = random.randint(0, valid_sequences.size(0) - 1)\n",
    "sequence, label = valid_sequences[idx], valid_labels[idx]\n",
    "\n",
    "# Perform the forward pass\n",
    "with torch.no_grad():\n",
    "    predictions = simple_transformer_avg(sequence.unsqueeze(0))  # Add batch dimension if needed\n",
    "\n",
    "# Retrieve the attention weights from the attention module\n",
    "attention_weights = simple_transformer_avg.transformer_block.attention.attention\n",
    "\n",
    "# Assuming sequence_tokens is a list of token strings that corresponds to the indices in sequence\n",
    "import seaborn as sns\n",
    "import matplotlib.pyplot as plt\n",
    "\n",
    "# Visualize the attention weights\n",
    "sns.heatmap(attention_weights.squeeze(0).cpu().numpy())#, xticklabels=sequence_tokens, yticklabels=sequence_tokens)\n",
    "plt.xlabel('Keys')\n",
    "plt.ylabel('Queries')\n",
    "plt.title('Attention Weights')\n",
    "plt.show()\n",
    "\n",
    "print(sequence)"
   ]
  },
  {
   "cell_type": "markdown",
   "id": "48af80a4-96ea-43a1-a5ab-334b66c98465",
   "metadata": {},
   "source": [
    "For this problem the average embedding works much better.  I think the encoder is able to focus on understanding the numerical meaning of tokens and then the averaging actually computes the sum.  Perhaps the class token approach would benefit from more transfomer layers so some layers could focus on learning the numerical values of the tokens while other layers could do the summation.  We'll use PyTorch's built in TransformerEncoder layer to construct out model.\n",
    "\n",
    "## Class Token Approach with Multiple Layers"
   ]
  },
  {
   "cell_type": "code",
   "execution_count": 175,
   "id": "dff536c7-1bab-4d5d-8483-31b5ca0fd5ab",
   "metadata": {},
   "outputs": [],
   "source": [
    "class PositionalEncoding(nn.Module):\n",
    "    def __init__(self, d_model, max_len=500):\n",
    "        super(PositionalEncoding, self).__init__()\n",
    "        pe = torch.zeros(max_len, d_model)\n",
    "        position = torch.arange(0, max_len, dtype=torch.float).unsqueeze(1)\n",
    "        div_term = torch.exp(torch.arange(0, d_model, 2).float() * -(np.log(10000.0) / d_model))\n",
    "        pe[:, 0::2] = torch.sin(position * div_term)\n",
    "        pe[:, 1::2] = torch.cos(position * div_term)\n",
    "        pe = pe.unsqueeze(0)\n",
    "        self.register_buffer('pe', pe)\n",
    "\n",
    "    def forward(self, x):\n",
    "        x = x + self.pe[:, :x.size(1)]\n",
    "        return x\n",
    "\n",
    "class TransformerClassifierClassTkn(nn.Module):\n",
    "    def __init__(self, vocab_size, embed_dim, num_heads, num_layers, dropout=0.1):\n",
    "        super(TransformerClassifierClassTkn, self).__init__()\n",
    "        self.embedding = nn.Embedding(vocab_size, embed_dim)\n",
    "        self.pos_encoder = PositionalEncoding(embed_dim)\n",
    "        encoder_layer = nn.TransformerEncoderLayer(d_model=embed_dim, nhead=num_heads, \n",
    "                                                   dropout=dropout, batch_first=True)\n",
    "        self.transformer_encoder = nn.TransformerEncoder(encoder_layer, num_layers=num_layers)\n",
    "        self.classifier = nn.Linear(embed_dim, 1)\n",
    "\n",
    "    def forward(self, x):\n",
    "        # Generate the mask from the input indices, where pad tokens are zero\n",
    "        pad_token_index = 0\n",
    "        mask = (x != pad_token_index)  # Create a mask with True where tokens are not pad tokens\n",
    "\n",
    "        x = self.embedding(x)\n",
    "        x = self.pos_encoder(x)\n",
    "        \n",
    "        x = self.transformer_encoder(x, src_key_padding_mask=~mask)  # Use the mask here\n",
    "        cls_token = x[:, 0, :]  # Assuming <CLS> token is at the first position\n",
    "        output = self.classifier(cls_token).squeeze()  # Ensure dimension match for labels\n",
    "        return output\n"
   ]
  },
  {
   "cell_type": "code",
   "execution_count": 180,
   "id": "8f09cf49-e00d-4ff7-92bb-32702db79a8e",
   "metadata": {},
   "outputs": [
    {
     "name": "stderr",
     "output_type": "stream",
     "text": [
      "`Trainer.fit` stopped: `max_epochs=50` reached.\n"
     ]
    },
    {
     "name": "stdout",
     "output_type": "stream",
     "text": [
      "Epoch 50/50, Training 100.00% complete, Validation 100.00% complete lr = 1.000e-03\n",
      " Epoch  train_accuracy  train_loss  val_accuracy  val_loss      Time    LR\n",
      "    46         0.94600    0.127242        0.9890  0.050166 16.507487 0.001\n",
      "    47         0.94465    0.126841        0.9655  0.074767 16.458869 0.001\n",
      "    48         0.94490    0.122813        0.9755  0.073665 16.465624 0.001\n",
      "    49         0.94595    0.121032        0.9835  0.053385 16.461081 0.001\n",
      "    50         0.94800    0.121401        0.9705  0.072783 16.359883 0.001\n"
     ]
    }
   ],
   "source": [
    "model_class_token = TransformerClassifierClassTkn(vocab_size=14, embed_dim=64, num_heads=1, num_layers=2)\n",
    "loss_function = nn.BCEWithLogitsLoss()\n",
    "num_epochs=50\n",
    "\n",
    "metrics = {'accuracy': torchmetrics.Accuracy(task='binary'),}\n",
    "\n",
    "transformer_class_tkn_results = train_model(model_class_token, loss_function,\n",
    "                         epochs = num_epochs,\n",
    "                         metrics = metrics,\n",
    "                         train_loader = train_loader_cls,\n",
    "                         val_loader = valid_loader_cls)"
   ]
  },
  {
   "cell_type": "markdown",
   "id": "c2720f6d-7784-4ab1-9726-3cb70904f319",
   "metadata": {},
   "source": [
    "## Classify by Averaging Output Sequence"
   ]
  },
  {
   "cell_type": "code",
   "execution_count": 7,
   "id": "703a263b-4a61-40d2-a693-3b31becc13ff",
   "metadata": {},
   "outputs": [],
   "source": [
    "vocab = {\n",
    "    \"<PAD>\": 0, \"plus\": 1, \"minus\": 2,\n",
    "    \"zero\": 3, \"one\": 4, \"two\": 5, \"three\": 6, \"four\": 7,\n",
    "    \"five\": 8, \"six\": 0, \"seven\": 10, \"eight\": 11, \"nine\": 12\n",
    "}\n",
    "\n",
    "def pad_batch(batch):\n",
    "    sequences, labels = zip(*batch)\n",
    "    max_length = max(len(seq.split()) for seq in sequences)\n",
    "    padded_sequences = []\n",
    "    for seq in sequences:\n",
    "        tokens = seq.split()\n",
    "        padded = [vocab[token] for token in tokens] + [vocab[\"<PAD>\"]] * (max_length + 1 - len(tokens))\n",
    "        padded_sequences.append(padded)\n",
    "    return torch.tensor(padded_sequences), torch.tensor(labels)\n"
   ]
  },
  {
   "cell_type": "code",
   "execution_count": 28,
   "id": "a9e100e1-2507-4e27-bd7a-978b734051b7",
   "metadata": {},
   "outputs": [],
   "source": [
    "import torch\n",
    "import torch.nn as nn\n",
    "\n",
    "class PositionalEncoding(nn.Module):\n",
    "    def __init__(self, d_model, max_len=500):\n",
    "        super(PositionalEncoding, self).__init__()\n",
    "        pe = torch.zeros(max_len, d_model)\n",
    "        position = torch.arange(0, max_len, dtype=torch.float).unsqueeze(1)\n",
    "        div_term = torch.exp(torch.arange(0, d_model, 2).float() * -(np.log(10000.0) / d_model))\n",
    "        pe[:, 0::2] = torch.sin(position * div_term)\n",
    "        pe[:, 1::2] = torch.cos(position * div_term)\n",
    "        pe = pe.unsqueeze(0)\n",
    "        self.register_buffer('pe', pe)\n",
    "\n",
    "    def forward(self, x):\n",
    "        x = x + self.pe[:, :x.size(1)]\n",
    "        return x\n",
    "\n",
    "class TransformerClassifierMeanAgg(nn.Module):\n",
    "    def __init__(self, vocab_size, embed_dim, num_heads, num_layers, dropout=0.1):\n",
    "        super(TransformerClassifierMeanAgg, self).__init__()\n",
    "        self.embedding = nn.Embedding(vocab_size, embed_dim)\n",
    "        self.pos_encoder = PositionalEncoding(embed_dim)\n",
    "        encoder_layer = nn.TransformerEncoderLayer(d_model=embed_dim, nhead=num_heads, dropout=dropout, batch_first=True)\n",
    "        self.transformer_encoder = nn.TransformerEncoder(encoder_layer, num_layers=num_layers)\n",
    "        self.classifier = nn.Linear(embed_dim, 1)  # Output one logit\n",
    "\n",
    "    def forward(self, x):\n",
    "        pad_token_index = 0\n",
    "        mask = (x != pad_token_index)  # Mask for padding tokens\n",
    "        \n",
    "        x = self.embedding(x)\n",
    "        x = self.pos_encoder(x)\n",
    "\n",
    "        # Compute the attention mask for transformer (invert mask for attention mechanism)\n",
    "        attention_mask = ~mask  # Mask needs to be the same size as the sequence length\n",
    "\n",
    "        x = self.transformer_encoder(x, src_key_padding_mask=attention_mask)\n",
    "        \n",
    "        # Compute the average across all non-padding tokens\n",
    "\n",
    "        mask_expanded = mask.unsqueeze(-1).expand_as(x)  # Expand the mask to cover embedding dimensions\n",
    "        x_masked = x * mask_expanded.float()  # Apply mask to zero-out pad tokens in output\n",
    "        seq_lengths = mask.sum(dim=1, keepdim=True)  # Count non-padding elements for each batch element\n",
    "        avg_pool = x_masked.sum(dim=1) / seq_lengths  # Compute average only over non-padded elements\n",
    "\n",
    "        output = self.classifier(avg_pool).squeeze()  # Pass the average through the classifier\n",
    "        return output\n"
   ]
  },
  {
   "cell_type": "code",
   "execution_count": 29,
   "id": "e05a2931-50b2-45c4-b3f9-4ac84201f6d6",
   "metadata": {},
   "outputs": [],
   "source": [
    "train_dataset = ArithmeticSequenceDataset(20000, 10, seed=42)\n",
    "valid_dataset = ArithmeticSequenceDataset(2000, 10, seed=99)\n",
    "\n",
    "train_loader = DataLoader(train_dataset, batch_size=100, shuffle=True, collate_fn=pad_batch)\n",
    "valid_loader = DataLoader(valid_dataset, batch_size=100, shuffle=False, collate_fn=pad_batch)"
   ]
  },
  {
   "cell_type": "code",
   "execution_count": 30,
   "id": "c608949d-0e8b-4f1a-85f3-dca02484f208",
   "metadata": {},
   "outputs": [
    {
     "name": "stderr",
     "output_type": "stream",
     "text": [
      "`Trainer.fit` stopped: `max_epochs=10` reached.\n"
     ]
    },
    {
     "name": "stdout",
     "output_type": "stream",
     "text": [
      "Epoch 10/10, Training 100.00% complete, Validation 100.00% complete lr = 1.000e-03\n",
      " Epoch  train_accuracy  train_loss  val_accuracy  val_loss     Time    LR\n",
      "     6         0.86920    0.289466        0.8845  0.256895 8.047414 0.001\n",
      "     7         0.88795    0.257764        0.9095  0.208965 8.046697 0.001\n",
      "     8         0.90180    0.229500        0.9230  0.193499 8.078786 0.001\n",
      "     9         0.91390    0.205224        0.9265  0.168538 8.154873 0.001\n",
      "    10         0.92435    0.178121        0.9455  0.133000 8.318631 0.001\n"
     ]
    }
   ],
   "source": [
    "model_mean_agg = TransformerClassifierMeanAgg(vocab_size=14, embed_dim=64, num_heads=1, num_layers=1, use_mask=False)\n",
    "loss_function = nn.BCEWithLogitsLoss()\n",
    "num_epochs=10\n",
    "\n",
    "metrics = {'accuracy': torchmetrics.Accuracy(task='binary'),}\n",
    "\n",
    "transformer_mean_agg_results = train_model(model_mean_agg, loss_function,\n",
    "                         epochs = num_epochs,\n",
    "                         metrics = metrics,\n",
    "                         train_loader = train_loader,\n",
    "                         val_loader = valid_loader)"
   ]
  }
 ],
 "metadata": {
  "kernelspec": {
   "display_name": "Python 3 (ipykernel)",
   "language": "python",
   "name": "python3"
  },
  "language_info": {
   "codemirror_mode": {
    "name": "ipython",
    "version": 3
   },
   "file_extension": ".py",
   "mimetype": "text/x-python",
   "name": "python",
   "nbconvert_exporter": "python",
   "pygments_lexer": "ipython3",
   "version": "3.11.8"
  }
 },
 "nbformat": 4,
 "nbformat_minor": 5
}
