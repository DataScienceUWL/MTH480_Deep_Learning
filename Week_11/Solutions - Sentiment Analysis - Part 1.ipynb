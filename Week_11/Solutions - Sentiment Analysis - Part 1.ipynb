{
 "cells": [
  {
   "cell_type": "code",
   "execution_count": 1,
   "metadata": {},
   "outputs": [
    {
     "name": "stdout",
     "output_type": "stream",
     "text": [
      "Requirement already satisfied: nltk in /Users/jbaggett/miniforge3/envs/UWL-DL/lib/python3.11/site-packages (3.8.1)\n",
      "Requirement already satisfied: click in /Users/jbaggett/miniforge3/envs/UWL-DL/lib/python3.11/site-packages (from nltk) (8.1.7)\n",
      "Requirement already satisfied: joblib in /Users/jbaggett/miniforge3/envs/UWL-DL/lib/python3.11/site-packages (from nltk) (1.3.2)\n",
      "Requirement already satisfied: regex>=2021.8.3 in /Users/jbaggett/miniforge3/envs/UWL-DL/lib/python3.11/site-packages (from nltk) (2023.12.25)\n",
      "Requirement already satisfied: tqdm in /Users/jbaggett/miniforge3/envs/UWL-DL/lib/python3.11/site-packages (from nltk) (4.66.2)\n"
     ]
    }
   ],
   "source": [
    "# not sure about colab environment, may need to install nltk, torchtext, and ???\n",
    "# !pip install torchtext\n",
    "!pip install nltk"
   ]
  },
  {
   "cell_type": "code",
   "execution_count": 2,
   "metadata": {
    "ExecuteTime": {
     "end_time": "2021-04-07T02:25:33.515104Z",
     "start_time": "2021-04-07T02:25:32.233774Z"
    },
    "tags": [
     "remove_cell"
    ]
   },
   "outputs": [],
   "source": [
    "# Imports\n",
    "import torch\n",
    "import torch.nn as nn\n",
    "import torch.nn.functional as F\n",
    "import torchvision \n",
    "import math\n",
    "from torch.nn.utils.rnn import pack_padded_sequence, pad_packed_sequence\n",
    "from torchvision import transforms\n",
    "from torch.utils.data import Dataset, DataLoader\n",
    "import torchtext\n",
    "from torchtext.data.utils import get_tokenizer\n",
    "from torchtext.vocab import build_vocab_from_iterator\n",
    "from torchtext.datasets import IMDB\n",
    "import unicodedata\n",
    "import re\n",
    "import string\n",
    "import nltk\n",
    "from tqdm.autonotebook import tqdm\n",
    "import numpy as np\n",
    "import seaborn as sns\n",
    "import matplotlib.pyplot as plt\n",
    "from matplotlib.pyplot import imshow\n",
    "import pandas as pd\n",
    "from sklearn.metrics import accuracy_score\n",
    "import time\n",
    "# from utils import train_model\n",
    "from idlmam import set_seed, LastTimeStep, train_network, Flatten, weight_reset, View, LambdaLayer"
   ]
  },
  {
   "cell_type": "code",
   "execution_count": 3,
   "metadata": {
    "ExecuteTime": {
     "end_time": "2021-04-07T02:25:33.582335Z",
     "start_time": "2021-04-07T02:25:33.551009Z"
    },
    "tags": [
     "remove_cell"
    ]
   },
   "outputs": [
    {
     "name": "stdout",
     "output_type": "stream",
     "text": [
      "cpu\n"
     ]
    }
   ],
   "source": [
    "# configuration\n",
    "\n",
    "# Set the theme to a dark grid with a specific palette\n",
    "sns.set_theme(style=\"darkgrid\", palette=\"pastel\")\n",
    "\n",
    "# Set the context for seaborn plots\n",
    "sns.set_context(\"notebook\")\n",
    "\n",
    "torch.backends.cudnn.deterministic=True\n",
    "set_seed(42)\n",
    "\n",
    "# RNNs are SLOW on Apple Silicon, defaults to CPU for Mac\n",
    "# Will choose a GPU in Colab if you're on a GPU Runtime\n",
    "\n",
    "def get_pytorch_device(use_MPS=False):\n",
    "    if torch.cuda.is_available():\n",
    "        return torch.device('cuda')\n",
    "    elif torch.backends.mps.is_available() and use_MPS:\n",
    "        return torch.device('mps')  # MPS is available on Apple Silicon Macs\n",
    "    else:\n",
    "        return torch.device('cpu')\n",
    "\n",
    "device = get_pytorch_device()\n",
    "print(device)"
   ]
  },
  {
   "cell_type": "markdown",
   "metadata": {},
   "source": [
    "### Instantiate Datasets\n",
    "\n",
    "Must remove `root=./data` from first line in textbook code.  If not, only half the training data gets loaded"
   ]
  },
  {
   "cell_type": "code",
   "execution_count": 4,
   "metadata": {},
   "outputs": [],
   "source": [
    "train_iter, test_iter = IMDB(split=('train', 'test'))\n",
    "train_dataset = list(train_iter)\n",
    "test_dataset = list(test_iter)"
   ]
  },
  {
   "cell_type": "markdown",
   "metadata": {},
   "source": [
    "## Preprocess Text and Build Vocabulary\n",
    "\n",
    "**This wasn't necessary for Part 1, but I'm showing it here since it's often an important part of natural language processing.**\n",
    "\n",
    "It's pretty common to clean text data before training a model, but the exact process may vary from model to model.\n",
    "Later in this notebook we'll compare the sentiment analysis results from an LSTM trained with and without cleaned data.  In this section we'll demonstrate the clearning process.\n",
    "\n",
    "Some common things to do with text data:\n",
    "* remove stop words, these are words like 'a', 'the', etc. that don't usually change the meaning of text.\n",
    "* convert unicode characters to ascii\n",
    "* remove punctuation and html tags\n",
    "* convert all letters to lower case\n",
    "\n",
    "In the next few cells we'll show how this can be done.\n",
    "\n",
    "First we'll download a commonly used list of English stopwords from NLTK:\n"
   ]
  },
  {
   "cell_type": "code",
   "execution_count": 5,
   "metadata": {},
   "outputs": [
    {
     "name": "stderr",
     "output_type": "stream",
     "text": [
      "[nltk_data] Downloading package stopwords to\n",
      "[nltk_data]     /Users/jbaggett/nltk_data...\n",
      "[nltk_data]   Package stopwords is already up-to-date!\n"
     ]
    }
   ],
   "source": [
    "# Download NLTK stop words\n",
    "nltk.download('stopwords')\n",
    "from nltk.corpus import stopwords\n",
    "stop_words = set(stopwords.words('english')) # we're going to be lazy and use this globally"
   ]
  },
  {
   "cell_type": "markdown",
   "metadata": {},
   "source": [
    "Now we'll define two functions to convert unicode to ascii and to preprocess the text:"
   ]
  },
  {
   "cell_type": "code",
   "execution_count": 6,
   "metadata": {},
   "outputs": [],
   "source": [
    "def unicode_to_ascii(s):\n",
    "    return ''.join(\n",
    "        c for c in unicodedata.normalize('NFD', s)\n",
    "        if unicodedata.category(c) != 'Mn' and (c in string.ascii_letters or c == ' ')\n",
    "    )\n",
    "\n",
    "def preprocess_text(text):\n",
    "    # Remove HTML tags\n",
    "    text = re.sub(r'<[^>]+>', ' ', text)\n",
    "    # Normalize Unicode to ASCII\n",
    "    text = unicode_to_ascii(text.lower())\n",
    "    # Remove all characters that are not ASCII letters, spaces or punctuation\n",
    "    text = re.sub(r'[^a-z .,?!]+', ' ', text)\n",
    "    # Tokenize text\n",
    "    #tokens = tokenizer(text)\n",
    "    tokens = text.split()\n",
    "    # Remove stop words\n",
    "    tokens = [token for token in tokens if token not in stop_words]\n",
    "    return tokens"
   ]
  },
  {
   "cell_type": "markdown",
   "metadata": {},
   "source": [
    "Here is the first review in the dataset:"
   ]
  },
  {
   "cell_type": "code",
   "execution_count": 7,
   "metadata": {},
   "outputs": [
    {
     "name": "stdout",
     "output_type": "stream",
     "text": [
      "The number of characters in the first review is 1640 \n",
      "\n",
      "Here is the first review: \n",
      "\n",
      " I rented I AM CURIOUS-YELLOW from my video store because of all the controversy that surrounded it when it was first released in 1967. I also heard that at first it was seized by U.S. customs if it ever tried to enter this country, therefore being a fan of films considered \"controversial\" I really had to see this for myself.<br /><br />The plot is centered around a young Swedish drama student named Lena who wants to learn everything she can about life. In particular she wants to focus her attentions to making some sort of documentary on what the average Swede thought about certain political issues such as the Vietnam War and race issues in the United States. In between asking politicians and ordinary denizens of Stockholm about their opinions on politics, she has sex with her drama teacher, classmates, and married men.<br /><br />What kills me about I AM CURIOUS-YELLOW is that 40 years ago, this was considered pornographic. Really, the sex and nudity scenes are few and far between, even then it's not shot like some cheaply made porno. While my countrymen mind find it shocking, in reality sex and nudity are a major staple in Swedish cinema. Even Ingmar Bergman, arguably their answer to good old boy John Ford, had sex scenes in his films.<br /><br />I do commend the filmmakers for the fact that any sex shown in the film is shown for artistic purposes rather than just to shock people and make money to be shown in pornographic theaters in America. I AM CURIOUS-YELLOW is a good film for anyone wanting to study the meat and potatoes (no pun intended) of Swedish cinema. But really, this film doesn't have much of a plot.\n"
     ]
    }
   ],
   "source": [
    "first_review = train_dataset[0][1]\n",
    "print(f'The number of characters in the first review is {len(first_review)} \\n')\n",
    "print(f'Here is the first review: \\n\\n {first_review}')"
   ]
  },
  {
   "cell_type": "code",
   "execution_count": 8,
   "metadata": {
    "ExecuteTime": {
     "end_time": "2021-04-07T02:25:34.057959Z",
     "start_time": "2021-04-07T02:25:34.053958Z"
    }
   },
   "outputs": [
    {
     "name": "stdout",
     "output_type": "stream",
     "text": [
      "The number of characters in the first review is 1039 \n",
      "\n",
      "Here is the first preprocessed review: \n",
      "\n",
      " rented curiousyellow video store controversy surrounded first released also heard first seized us customs ever tried enter country therefore fan films considered controversial really see plot centered around young swedish drama student named lena wants learn everything life particular wants focus attentions making sort documentary average swede thought certain political issues vietnam war race issues united states asking politicians ordinary denizens stockholm opinions politics sex drama teacher classmates married men kills curiousyellow years ago considered pornographic really sex nudity scenes far even shot like cheaply made porno countrymen mind find shocking reality sex nudity major staple swedish cinema even ingmar bergman arguably answer good old boy john ford sex scenes films commend filmmakers fact sex shown film shown artistic purposes rather shock people make money shown pornographic theaters america curiousyellow good film anyone wanting study meat potatoes pun intended swedish cinema really film doesnt much plot\n"
     ]
    }
   ],
   "source": [
    "from torchtext.data.utils import get_tokenizer#tokenizers break strings like \"this is a string\" into lists of tokens like ['this', 'is', 'a', 'string']\n",
    "tokenizer = get_tokenizer('basic_english') #we will be fine with the default english style tokenizer\n",
    "first_review_preproc = preprocess_text(first_review)\n",
    "first_review_preproc =' '.join(first_review_preproc)\n",
    "print(f'The number of characters in the first review is {len(first_review_preproc)} \\n')\n",
    "print(f'Here is the first preprocessed review: \\n\\n {first_review_preproc}')"
   ]
  },
  {
   "cell_type": "markdown",
   "metadata": {},
   "source": [
    "## Tokenize, Pad, Load\n",
    "\n",
    "This is exactly what the textbook author did."
   ]
  },
  {
   "cell_type": "code",
   "execution_count": 9,
   "metadata": {},
   "outputs": [],
   "source": [
    "from collections import Counter #how many lines in this dataset\n",
    "from torchtext.vocab import vocab #we need to create a vocabulary of all the words in the training set\n",
    "from torchtext.data.utils import get_tokenizer#tokenizers break strings like \"this is a string\" into lists of tokens like ['this', 'is', 'a', 'string']\n",
    "\n",
    "tokenizer = get_tokenizer('basic_english') #we will be fine with the default english style tokenizer\n",
    "    \n",
    "counter = Counter() \n",
    "for (label, line) in train_dataset: #loop through the training data \n",
    "    counter.update(tokenizer(line)) #count the number of unique tokens we see and how often we see them (e.g., we will see \"the\" a lot, but \"sasquatch\" mayb\n",
    "\n",
    "vocab = vocab(counter, min_freq=10, specials=('<unk>', '<BOS>', '<EOS>', '<PAD>')) #create a vocab object, removing any word that didn't occur at least 10 times, and add special vocab items for unkown, begining of sentance, end of sentance, and \"padding\"\n",
    "\n",
    "### NEW - 2024\n",
    "vocab.set_default_index(vocab['<unk>'])"
   ]
  },
  {
   "cell_type": "code",
   "execution_count": 10,
   "metadata": {
    "ExecuteTime": {
     "end_time": "2021-04-07T02:25:36.976414Z",
     "start_time": "2021-04-07T02:25:36.971729Z"
    }
   },
   "outputs": [
    {
     "name": "stdout",
     "output_type": "stream",
     "text": [
      "[1, 4, 5, 4, 6, 0, 7, 8, 9, 10, 11, 12, 13, 14, 15, 16, 17, 18, 19, 18, 20, 21, 22, 23, 24, 25, 4, 26, 27, 16, 28, 21, 18, 20, 29, 30, 31, 25, 32, 25, 33, 34, 18, 35, 36, 37, 38, 39, 40, 41, 42, 43, 44, 45, 12, 46, 47, 48, 4, 49, 50, 37, 51, 39, 52, 53, 25, 14, 54, 55, 56, 57, 44, 58, 59, 60, 61, 62, 63, 64, 65, 37, 66, 67, 68, 69, 70, 71, 25, 23, 72, 68, 65, 37, 73, 74, 75, 37, 76, 77, 78, 12, 79, 80, 81, 14, 82, 0, 83, 70, 84, 85, 86, 87, 88, 14, 89, 90, 91, 92, 86, 23, 14, 93, 94, 25, 23, 95, 96, 97, 91, 98, 99, 12, 0, 70, 100, 101, 80, 102, 41, 68, 103, 104, 105, 74, 60, 106, 41, 107, 41, 91, 108, 109, 25, 81, 110, 111, 70, 4, 6, 0, 55, 16, 112, 113, 114, 41, 39, 20, 47, 115, 25, 49, 41, 14, 104, 91, 116, 117, 118, 119, 91, 120, 95, 41, 121, 122, 18, 123, 32, 124, 125, 126, 77, 127, 128, 129, 25, 130, 8, 0, 131, 132, 18, 133, 41, 23, 134, 104, 91, 116, 118, 44, 135, 136, 23, 59, 137, 25, 121, 138, 139, 41, 140, 100, 141, 37, 142, 143, 144, 145, 146, 41, 50, 104, 117, 23, 147, 46, 25, 4, 148, 149, 14, 150, 52, 14, 151, 16, 152, 104, 153, 23, 14, 154, 55, 153, 52, 155, 156, 157, 158, 159, 37, 160, 161, 91, 162, 163, 37, 164, 153, 23, 115, 165, 23, 166, 25, 4, 6, 0, 55, 44, 142, 154, 52, 167, 168, 37, 169, 14, 170, 91, 171, 172, 173, 174, 175, 176, 12, 59, 137, 25, 177, 49, 41, 39, 154, 178, 123, 179, 180, 181, 12, 44, 54, 25, 2]\n"
     ]
    }
   ],
   "source": [
    "def text_transform(x): #string -> list of integers\n",
    "    return [vocab['<BOS>']] + [vocab[token] for token in tokenizer(x)] + [vocab['<EOS>']] #vocab acts like a dictionary, handles unkown tokens for us, and we can make it pre and post-pend with the start and end markers respectively.\n",
    "\n",
    "def label_transform(x): \n",
    "    return x-1 #labes are originally [1, 2, 3, 4] but we need them as [0, 1, 2, 3] \n",
    "\n",
    "# Sanity Check\n",
    "print(text_transform(train_dataset[0][1])) "
   ]
  },
  {
   "cell_type": "code",
   "execution_count": 11,
   "metadata": {
    "ExecuteTime": {
     "end_time": "2021-04-07T02:25:37.000752Z",
     "start_time": "2021-04-07T02:25:36.977667Z"
    }
   },
   "outputs": [
    {
     "name": "stdout",
     "output_type": "stream",
     "text": [
      "Vocab:  20439\n",
      "Num Classes:  2\n"
     ]
    }
   ],
   "source": [
    "VOCAB_SIZE = len(vocab)\n",
    "NUM_CLASS = len(np.unique([z[0] for z in train_dataset])) \n",
    "print(\"Vocab: \", VOCAB_SIZE)\n",
    "print(\"Num Classes: \", NUM_CLASS)\n",
    "\n",
    "padding_idx = vocab[\"<PAD>\"]\n",
    "\n",
    "embed_dim = 128\n",
    "B = 64\n",
    "epochs = 10"
   ]
  },
  {
   "cell_type": "code",
   "execution_count": 12,
   "metadata": {
    "ExecuteTime": {
     "end_time": "2021-04-07T02:25:37.007547Z",
     "start_time": "2021-04-07T02:25:37.002022Z"
    }
   },
   "outputs": [],
   "source": [
    "def pad_batch(batch):\n",
    "    \"\"\"\n",
    "    Pad items in the batch to the length of the longest item in the batch. \n",
    "    Also, re-order so that the values are returned (input, label)\n",
    "    \"\"\"\n",
    "    labels = [label_transform(z[0]) for z in batch] #get and transform every label in the batch\n",
    "    texts = [torch.tensor(text_transform(z[1]), dtype=torch.int64) for z in batch] #get, tokenizer, and put into a tensor every text\n",
    "    #what is the longest sequence in this batch? \n",
    "    max_len = max([text.size(0) for text in texts])\n",
    "    #pad each text tensor by whatever amount gets it to the max_len\n",
    "    texts = [F.pad(text, (0,max_len-text.size(0)), value=padding_idx) for text in texts]\n",
    "    #make x and y a single tensor\n",
    "    x, y = torch.stack(texts), torch.tensor(labels, dtype=torch.int64)\n",
    "    \n",
    "    return x, y"
   ]
  },
  {
   "cell_type": "code",
   "execution_count": 13,
   "metadata": {
    "ExecuteTime": {
     "end_time": "2021-04-07T02:25:37.013459Z",
     "start_time": "2021-04-07T02:25:37.008785Z"
    }
   },
   "outputs": [],
   "source": [
    "train_loader = DataLoader(train_dataset, batch_size=B, shuffle=True, collate_fn=pad_batch)\n",
    "test_loader = DataLoader(test_dataset, batch_size=B, collate_fn=pad_batch)"
   ]
  },
  {
   "cell_type": "markdown",
   "metadata": {},
   "source": [
    "### Testing the loader"
   ]
  },
  {
   "cell_type": "code",
   "execution_count": 14,
   "metadata": {},
   "outputs": [],
   "source": [
    "(reviews,labels)=next(iter(train_loader))"
   ]
  },
  {
   "cell_type": "code",
   "execution_count": 15,
   "metadata": {},
   "outputs": [
    {
     "data": {
      "text/plain": [
       "torch.Size([64, 793])"
      ]
     },
     "execution_count": 15,
     "metadata": {},
     "output_type": "execute_result"
    }
   ],
   "source": [
    "reviews.shape"
   ]
  },
  {
   "cell_type": "code",
   "execution_count": 16,
   "metadata": {},
   "outputs": [
    {
     "data": {
      "text/plain": [
       "tensor([1, 0, 1, 1, 1, 0, 1, 0, 1, 0, 0, 0, 1, 1, 0, 1, 1, 0, 0, 0, 1, 0, 0, 0,\n",
       "        1, 0, 0, 0, 1, 0, 1, 1, 0, 0, 0, 1, 0, 1, 1, 0, 1, 0, 1, 0, 0, 1, 1, 1,\n",
       "        0, 1, 1, 1, 0, 1, 0, 0, 0, 0, 0, 1, 0, 0, 0, 0])"
      ]
     },
     "execution_count": 16,
     "metadata": {},
     "output_type": "execute_result"
    }
   ],
   "source": [
    "labels"
   ]
  },
  {
   "cell_type": "code",
   "execution_count": null,
   "metadata": {},
   "outputs": [],
   "source": []
  }
 ],
 "metadata": {
  "author": "Multi-head Attention Standard Equations",
  "celltoolbar": "Tags",
  "kernelspec": {
   "display_name": "Python 3 (ipykernel)",
   "language": "python",
   "name": "python3"
  },
  "language_info": {
   "codemirror_mode": {
    "name": "ipython",
    "version": 3
   },
   "file_extension": ".py",
   "mimetype": "text/x-python",
   "name": "python",
   "nbconvert_exporter": "python",
   "pygments_lexer": "ipython3",
   "version": "3.11.8"
  },
  "latex_envs": {
   "LaTeX_envs_menu_present": true,
   "autoclose": false,
   "autocomplete": false,
   "bibliofile": "biblio.bib",
   "cite_by": "apalike",
   "current_citInitial": 1,
   "eqLabelWithNumbers": true,
   "eqNumInitial": 1,
   "hotkeys": {
    "equation": "Ctrl-E",
    "itemize": "Ctrl-I"
   },
   "labels_anchors": false,
   "latex_user_defs": false,
   "report_style_numbering": false,
   "user_envs_cfg": false
  },
  "latex_metadata": {
   "title": "Network Design Alternatives to RNNs"
  }
 },
 "nbformat": 4,
 "nbformat_minor": 4
}
