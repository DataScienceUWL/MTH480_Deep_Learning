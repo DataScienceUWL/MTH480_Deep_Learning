{
 "cells": [
  {
   "cell_type": "code",
   "execution_count": 1,
   "id": "8be96e32-8a0e-4211-a8a7-eebd31bcdb4e",
   "metadata": {},
   "outputs": [],
   "source": [
    "import opendatasets as od\n",
    "import pandas as pd\n",
    "\n",
    "import torch\n",
    "from torchvision import transforms\n",
    "from torch.utils.data import Dataset, DataLoader\n",
    "import torch.nn as nn\n",
    "import torchmetrics\n",
    "\n",
    "from PIL import Image\n",
    "import os\n",
    "import shutil\n",
    "from pathlib import Path\n",
    "from sklearn.model_selection import train_test_split\n",
    "import numpy as np\n",
    "import matplotlib.pyplot as plt\n",
    "import seaborn as sns\n",
    "\n",
    "# Set the theme to a dark grid with a specific palette\n",
    "sns.set_theme(style=\"darkgrid\", palette=\"pastel\")\n",
    "\n",
    "# Set the context to \"talk\", which is suitable for presentations\n",
    "sns.set_context(\"notebook\")\n",
    "\n",
    "from utils import train_model"
   ]
  },
  {
   "cell_type": "markdown",
   "id": "731deebe-5be1-421e-b6de-e95dca5b703f",
   "metadata": {},
   "source": [
    "# Histological Cancer Detection\n",
    "\n",
    "In the real-life adventures of data scientists, acquiring and preparing the data can often be the most time-consuming part of a project.  You can use steps in Section 0 to get the data into Colab."
   ]
  },
  {
   "cell_type": "markdown",
   "id": "2c70fa5d-da6b-415a-98f8-215310b1f4f2",
   "metadata": {},
   "source": [
    "## Section 0 - Preparing the Data\n",
    "\n",
    "We've center-cropped the images to 32x32 for you.  \n",
    "\n",
    "1. Use the link in the Week 11 module to get the file histo_cropped.zip and place it in your Google Drive in the Colab Notebooks folder.  (If you working locally just get the zip file from Canvas and unzip it in your working directory).\n",
    "2. The next cell will mount your Google Drive."
   ]
  },
  {
   "cell_type": "code",
   "execution_count": null,
   "id": "4d63a082-8458-4972-8d44-f64830b0d382",
   "metadata": {},
   "outputs": [],
   "source": [
    "from google.colab import drive\n",
    "drive.mount('/content/drive')"
   ]
  },
  {
   "cell_type": "markdown",
   "id": "6af3250c-1796-44b5-9786-bc77596779c9",
   "metadata": {},
   "source": [
    "The next cell will copy the zip file to your Colab working directory and unzip it.  This should take about a minute."
   ]
  },
  {
   "cell_type": "code",
   "execution_count": null,
   "id": "ae3034b2-d27c-4a6c-8e25-1ff0f950e97f",
   "metadata": {},
   "outputs": [],
   "source": [
    "!cp \"/content/drive/My Drive/Colab Notebooks/histo_cropped.zip\" .\n",
    "!unzip -q \"histo_cropped.zip\""
   ]
  },
  {
   "cell_type": "markdown",
   "id": "dfb53051-17a0-4f6a-9d4f-32bc1eee31f2",
   "metadata": {},
   "source": [
    "You could probably do this with one line, but that's not important.  You should now have a folder named 'histo_cropped' with a subfolder named images and a labels.csv file."
   ]
  },
  {
   "cell_type": "markdown",
   "id": "8a40ee7b-6a49-4c2d-a7ef-76914fe1491f",
   "metadata": {},
   "source": [
    "## Section 1 - Construct the Datasets and Loaders\n",
    "\n",
    "First we'll load the labels.csv file into a dataframe, downsample it, and do a two or three way split to constructs dataframes for training, validation, and testing or just for training and validation.  In the next cell we introduce a 'helper' function and show how to use it in the cell after that."
   ]
  },
  {
   "cell_type": "code",
   "execution_count": 5,
   "id": "f0af5d59-a7ad-49c7-925c-ade3008eaacb",
   "metadata": {},
   "outputs": [],
   "source": [
    "def load_and_split_data(source_dir, csv_file_name, sample_size, proportions, seed=42):\n",
    "    # Ensure the proportions sum to 1\n",
    "    if not 0.99 < sum(proportions) < 1.01:\n",
    "        raise ValueError(\"Proportions must sum to 1\")\n",
    "    \n",
    "    # Load the CSV file\n",
    "    source_dir = Path(source_dir)\n",
    "    csv_path = csv_file_name\n",
    "    df = pd.read_csv(csv_path)\n",
    "    \n",
    "    # Sample the DataFrame\n",
    "    sampled_df = df.sample(n=sample_size, random_state=seed)\n",
    "    \n",
    "    # Split the DataFrame based on the proportions provided\n",
    "    if len(proportions) == 3:\n",
    "        # Split into train, validation, and test sets\n",
    "        prop_train, prop_valid, _ = proportions\n",
    "        train_df, temp_df = train_test_split(sampled_df, train_size=prop_train, random_state=seed)\n",
    "        valid_df, test_df = train_test_split(temp_df, train_size=prop_valid / (1 - prop_train), random_state=seed)\n",
    "        return train_df, valid_df, test_df\n",
    "    elif len(proportions) == 2:\n",
    "        # Split into train and test sets (valid set is not created)\n",
    "        prop_train, _ = proportions\n",
    "        train_df, test_df = train_test_split(sampled_df, train_size=prop_train, random_state=seed)\n",
    "        return train_df, test_df\n",
    "    else:\n",
    "        raise ValueError(\"Proportions tuple must have either two or three elements\")"
   ]
  },
  {
   "cell_type": "code",
   "execution_count": 6,
   "id": "9a05e72a-39f7-4594-8579-36cfa8478260",
   "metadata": {},
   "outputs": [],
   "source": [
    "data_directory = './histo_cropped'\n",
    "csv_file = data_directory+'/labels.csv'\n",
    "\n",
    "sample_size = 50000 # use None for all data\n",
    "proportions = (0.8, 0.1, 0.1)  # For a three-way split\n",
    "# proportions = (0.8, 0.2)  # Uncomment for a two-way split\n",
    "random_seed = 42\n",
    "\n",
    "train_df, valid_df, test_df = load_and_split_data(data_directory, csv_file, sample_size, proportions, random_seed)\n",
    "# For a two-way split, use:\n",
    "# train_df, test_df = load_and_split_data(data_directory, csv_file, sample_size, proportions, random_seed)"
   ]
  },
  {
   "cell_type": "markdown",
   "id": "a00cae0c-2a9e-4f7e-9b71-0bef102ebd28",
   "metadata": {},
   "source": [
    "### Make a custom dataset class"
   ]
  },
  {
   "cell_type": "code",
   "execution_count": 9,
   "id": "189495a3-02f8-4779-b926-cb4c4e458109",
   "metadata": {},
   "outputs": [],
   "source": [
    "class CancerDataset(Dataset):\n",
    "    def __init__(self, dataframe, root_dir, transform=None):\n",
    "        \"\"\"\n",
    "        Args:\n",
    "            dataframe (pandas.DataFrame): DataFrame with 'id' and 'label'.\n",
    "            root_dir (string): Root directory with all the images.\n",
    "            transform (callable, optional): Optional transform to be applied on a sample.\n",
    "        \"\"\"\n",
    "        self.dataframe = dataframe\n",
    "        self.root_dir = root_dir\n",
    "        self.transform = transform\n",
    "        self.images_dir = os.path.join(root_dir, 'images')  # Folder containing images\n",
    "\n",
    "    def __len__(self):\n",
    "        return len(self.dataframe)\n",
    "\n",
    "    def __getitem__(self, idx):\n",
    "        if torch.is_tensor(idx):\n",
    "            idx = idx.tolist()\n",
    "\n",
    "        # Construct the full path to the image\n",
    "        img_name = f\"{self.dataframe.iloc[idx]['id']}.tif\"\n",
    "        img_path = os.path.join(self.images_dir, img_name)\n",
    "        image = Image.open(img_path)\n",
    "        label = np.float32(self.dataframe.iloc[idx]['label'])\n",
    "        \n",
    "        if self.transform:\n",
    "            image = self.transform(image)\n",
    "        \n",
    "        return image, label"
   ]
  },
  {
   "cell_type": "markdown",
   "id": "196c1770-1d30-4461-a32c-41642d4d4ad4",
   "metadata": {},
   "source": [
    "### Choose Transforms\n",
    "\n",
    "The transforms for the validation and test datasets should just be converting to tensors and normalization.  You can add data augmentation transforms to the the training transforms:"
   ]
  },
  {
   "cell_type": "code",
   "execution_count": 11,
   "id": "dcd3641d-260b-45a5-acd8-8c990b386091",
   "metadata": {},
   "outputs": [],
   "source": [
    "original_mean = [0.5,0.5,0.5]\n",
    "original_std = [0.5,0.5,0.5]\n",
    "\n",
    "train_transform = transforms.Compose([\n",
    "    transforms.ToTensor(),\n",
    "    transforms.RandomHorizontalFlip(),\n",
    "    transforms.RandomVerticalFlip(), ## add more if desired\n",
    "    transforms.Normalize(mean = original_mean, std = original_std)\n",
    "])    \n",
    "\n",
    "valid_transform = transforms.Compose([\n",
    "        transforms.ToTensor(), # Converts to Tensor and scales pixels between 0 and 1\n",
    "        transforms.Normalize(mean = original_mean, std = original_std)\n",
    "    ])\n",
    "\n",
    "test_transform = valid_transform"
   ]
  },
  {
   "cell_type": "markdown",
   "id": "ac5fc35e-c4f9-4812-85d5-c2dcd586a165",
   "metadata": {},
   "source": [
    "### Instantiate the datasets"
   ]
  },
  {
   "cell_type": "code",
   "execution_count": 12,
   "id": "1e9c9527-d41f-406c-afaf-8c68d396a386",
   "metadata": {},
   "outputs": [],
   "source": [
    "train_dataset = CancerDataset(train_df, data_directory, train_transform)\n",
    "valid_dataset = CancerDataset(valid_df, data_directory, valid_transform)\n",
    "test_dataset = CancerDataset(test_df, data_directory, test_transform)"
   ]
  },
  {
   "cell_type": "markdown",
   "id": "a4d91d1f-27c8-4964-842c-1cd9ce71a15c",
   "metadata": {},
   "source": [
    "### Build the Dataloaders"
   ]
  },
  {
   "cell_type": "code",
   "execution_count": 14,
   "id": "0df4ea15-b8d2-4c78-a778-e8489cf95e72",
   "metadata": {},
   "outputs": [],
   "source": [
    "B = 200\n",
    "train_loader = DataLoader(train_dataset, batch_size=B, shuffle=True)\n",
    "valid_loader = DataLoader(valid_dataset, batch_size=B, shuffle=False)\n",
    "test_loader = DataLoader(valid_dataset, batch_size=B, shuffle=False)"
   ]
  },
  {
   "cell_type": "markdown",
   "id": "340593ac-9b55-4f8b-ad98-9f23562f5421",
   "metadata": {},
   "source": [
    "### Train the first CNN "
   ]
  },
  {
   "cell_type": "code",
   "execution_count": 15,
   "id": "da229c94-1460-4a9c-a717-e8d0acbc79d7",
   "metadata": {},
   "outputs": [],
   "source": [
    "def ConvBlock(in_chan, out_chan, kernel_size = 5, stride = 1, pad = 2, leak_rate=0.1):\n",
    "    block = nn.Sequential(\n",
    "        nn.Conv2d( in_chan, out_chan, kernel_size, stride, pad),\n",
    "        nn.MaxPool2d(2),\n",
    "        nn.LeakyReLU(leak_rate)\n",
    "    )\n",
    "    return block\n",
    "\n",
    "def ClassificationHead1H(in_chan, hidden_chan, num_outputs, leak_rate=0.1):\n",
    "    head = nn.Sequential(\n",
    "        nn.Flatten(),\n",
    "        nn.Linear(in_chan, hidden_chan),\n",
    "        nn.LeakyReLU(leak_rate),\n",
    "        nn.Dropout(0.5),\n",
    "        nn.Linear(hidden_chan, num_outputs)\n",
    "    )\n",
    "    return head\n",
    "            \n",
    "\n",
    "class FirstCNN(nn.Module):\n",
    "    '''\n",
    "    Two convolution layers.  One output class for BCELossWithLogits\n",
    "    '''\n",
    "    def __init__(self):\n",
    "        super().__init__()\n",
    "        self.layers = nn.Sequential(\n",
    "            ConvBlock(3, 32),\n",
    "            ConvBlock(32,64),\n",
    "            ConvBlock(64,128),\n",
    "            ClassificationHead1H(128*4*4,500,1)\n",
    "        )\n",
    "\n",
    "    def forward(self, x):\n",
    "        return(self.layers(x).squeeze())"
   ]
  },
  {
   "cell_type": "code",
   "execution_count": 16,
   "id": "40a0456c-c22d-4e8f-8232-1d66f23a16e8",
   "metadata": {},
   "outputs": [
    {
     "name": "stderr",
     "output_type": "stream",
     "text": [
      "`Trainer.fit` stopped: `max_epochs=15` reached.\n"
     ]
    },
    {
     "name": "stdout",
     "output_type": "stream",
     "text": [
      "Epoch 15/15, Training 100.00% complete, Validation 100.00% complete lr = 1.000e-03\n",
      " Epoch  train_accuracy  train_loss  val_accuracy  val_loss      Time    LR\n",
      "    11        0.832775    0.384977        0.8282  0.395070 40.920064 0.001\n",
      "    12        0.837950    0.373624        0.8294  0.398831 34.879689 0.001\n",
      "    13        0.840625    0.372164        0.8382  0.385320 38.353835 0.001\n",
      "    14        0.846900    0.360164        0.8266  0.399574 41.411210 0.001\n",
      "    15        0.850700    0.349350        0.8310  0.389036 36.079377 0.001\n"
     ]
    }
   ],
   "source": [
    "model = FirstCNN()\n",
    "loss_function = nn.BCEWithLogitsLoss()\n",
    "num_epochs=15\n",
    "\n",
    "metrics = {'accuracy': torchmetrics.Accuracy(task='binary'),}\n",
    "\n",
    "firstcnn_results_df = train_model(model, loss_function,\n",
    "                         epochs = num_epochs,\n",
    "                         metrics = metrics,\n",
    "                         train_loader = train_loader,\n",
    "                         val_loader = valid_loader)"
   ]
  },
  {
   "cell_type": "code",
   "execution_count": 17,
   "id": "2901f648-b669-402b-89b6-034f46a3b46a",
   "metadata": {},
   "outputs": [
    {
     "data": {
      "image/png": "[encoded data removed]",
      "text/plain": [
       "<Figure size 1000x400 with 2 Axes>"
      ]
     },
     "metadata": {},
     "output_type": "display_data"
    }
   ],
   "source": [
    "def make_plots(label_df_dict):\n",
    "    fig,ax = plt.subplots(1,2,figsize=(10,4))\n",
    "    for label,df in label_df_dict.items():\n",
    "        sns.lineplot(x='Epoch',y='train_loss',data=df,label=f'{label} Train',ax=ax[0]);\n",
    "        sns.lineplot(x='Epoch',y='val_loss',data=df,label=f'{label} Valid',ax=ax[0]);\n",
    "        ax[0].set_ylabel('Loss')\n",
    "    for label,df in label_df_dict.items():    \n",
    "        sns.lineplot(x='Epoch',y='train_accuracy',data=df,label=f'{label} Train',ax=ax[1]);\n",
    "        sns.lineplot(x='Epoch',y='val_accuracy',data=df,label=f'{label} Valid',ax=ax[1]);\n",
    "        ax[1].set_ylabel('Accuracy')\n",
    "\n",
    "\n",
    "results_dict = {'FirstCNN':firstcnn_results_df} # can add more dataframes in this dict to compare results\n",
    "make_plots(results_dict)"
   ]
  },
  {
   "cell_type": "code",
   "execution_count": null,
   "id": "48c419b9-61b1-42ef-868f-b66aa74c8ec1",
   "metadata": {},
   "outputs": [],
   "source": []
  }
 ],
 "metadata": {
  "kernelspec": {
   "display_name": "Python 3 (ipykernel)",
   "language": "python",
   "name": "python3"
  },
  "language_info": {
   "codemirror_mode": {
    "name": "ipython",
    "version": 3
   },
   "file_extension": ".py",
   "mimetype": "text/x-python",
   "name": "python",
   "nbconvert_exporter": "python",
   "pygments_lexer": "ipython3",
   "version": "3.11.8"
  }
 },
 "nbformat": 4,
 "nbformat_minor": 5
}
