{
 "cells": [
  {
   "cell_type": "markdown",
   "metadata": {},
   "source": [
    "## Chapter 4 from Inside Deep Learning.  Math, Algorithms, Models\n",
    "\n",
    "[Book Github Repo](https://github.com/EdwardRaff/Inside-Deep-Learning)"
   ]
  },
  {
   "cell_type": "code",
   "execution_count": 1,
   "metadata": {
    "ExecuteTime": {
     "end_time": "2021-04-05T02:10:33.113447Z",
     "start_time": "2021-04-05T02:10:31.845159Z"
    },
    "tags": [
     "remove_cell"
    ]
   },
   "outputs": [
    {
     "name": "stderr",
     "output_type": "stream",
     "text": [
      "/var/folders/8w/0_6f1mnj291b3dfy5xqyp1rd3h18sr/T/ipykernel_57057/3014541815.py:9: TqdmWarning: IProgress not found. Please update jupyter and ipywidgets. See https://ipywidgets.readthedocs.io/en/stable/user_install.html\n",
      "  from tqdm.autonotebook import tqdm\n"
     ]
    }
   ],
   "source": [
    "import torch\n",
    "import torch.nn as nn\n",
    "import torch.nn.functional as F\n",
    "import torchvision \n",
    "from torchvision import transforms\n",
    "\n",
    "from torch.utils.data import Dataset, DataLoader\n",
    "\n",
    "from tqdm.autonotebook import tqdm #may not work\n",
    "\n",
    "import numpy as np\n",
    "import seaborn as sns\n",
    "import matplotlib.pyplot as plt\n",
    "from matplotlib.pyplot import imshow\n",
    "\n",
    "import pandas as pd\n",
    "\n",
    "from sklearn.metrics import accuracy_score\n",
    "\n",
    "import time\n",
    "\n",
    "from idlmam import train_simple_network, Flatten, weight_reset"
   ]
  },
  {
   "cell_type": "code",
   "execution_count": 3,
   "metadata": {
    "ExecuteTime": {
     "end_time": "2021-04-05T02:10:33.126087Z",
     "start_time": "2021-04-05T02:10:33.120528Z"
    },
    "tags": [
     "remove_cell"
    ]
   },
   "outputs": [],
   "source": [
    "torch.backends.cudnn.deterministic=True\n",
    "from idlmam import set_seed, moveTo\n",
    "set_seed(42)"
   ]
  },
  {
   "cell_type": "code",
   "execution_count": 2,
   "metadata": {
    "ExecuteTime": {
     "end_time": "2021-04-05T02:10:33.139614Z",
     "start_time": "2021-04-05T02:10:33.127481Z"
    },
    "tags": [
     "remove_cell"
    ]
   },
   "outputs": [
    {
     "name": "stdout",
     "output_type": "stream",
     "text": [
      "MPS (Apple Silicon) is available\n",
      "Your device is using: mps\n"
     ]
    }
   ],
   "source": [
    "def detect_device():\n",
    "    if torch.cuda.is_available():\n",
    "        print(\"CUDA is available\")\n",
    "        return torch.device(\"cuda\")\n",
    "    elif torch.backends.mps.is_available():\n",
    "        print(\"MPS (Apple Silicon) is available\")\n",
    "        return torch.device(\"mps\")\n",
    "    else:\n",
    "        print(\"Only cpu is available\")\n",
    "        return torch.device(\"cpu\")\n",
    "\n",
    "device = detect_device()\n",
    "print(f\"Your device is using: {device}\")"
   ]
  },
  {
   "cell_type": "markdown",
   "metadata": {},
   "source": [
    "## 4.2.1 A simple sequence classification problem (pg 121)\n",
    "\n",
    "This material is in the textbook.  It's adapted from the (PyTorch RNN tutorial)[https://pytorch.org/tutorials/intermediate/char_rnn_classification_tutorial.html].\n",
    "\n",
    "We will build and train a basic character-level RNN to classify words.  \n",
    "\n",
    "A character-level RNN reads words as a series of characters - outputting a prediction and “hidden state” at each step, feeding its previous hidden state into each next step. We take the final prediction as the output, i.e., which class the word belongs to.\n",
    "\n",
    "Specifically, we’ll train on a few thousand surnames from 18 languages of origin and predict which language a name is from based on the spelling.\n"
   ]
  },
  {
   "cell_type": "markdown",
   "metadata": {},
   "source": [
    "### Get the data and decompress it"
   ]
  },
  {
   "cell_type": "code",
   "execution_count": 3,
   "metadata": {
    "ExecuteTime": {
     "end_time": "2021-04-05T02:13:07.424029Z",
     "start_time": "2021-04-05T02:13:06.705150Z"
    }
   },
   "outputs": [],
   "source": [
    "zip_file_url = \"https://download.pytorch.org/tutorial/data.zip\"\n",
    "\n",
    "import requests, zipfile, io\n",
    "r = requests.get(zip_file_url)\n",
    "z = zipfile.ZipFile(io.BytesIO(r.content))\n",
    "z.extractall()\n",
    "\n",
    "#Zip file is organized as data/names/[LANG].txt , where [LANG] is a specific language"
   ]
  },
  {
   "cell_type": "markdown",
   "metadata": {},
   "source": [
    "### Convert Unicode to ASCII\n",
    "\n",
    "Before we can represent the surnames as vectors we map the characters to lower case ASCII.  The characters are represented by Unicode (UTF-8) and we want only abcdefghijklmnopqrstuvwxyz .,;'\n",
    "\n",
    "So a name like \"Ślusàrski\" becomes \"slusarski\"\n",
    "\n",
    "Implicit here is a decision to use characters as the \"tokens\" to represent our text.  Tokenization is the process of breaking a text into units like characters or words and standardizing those.  For example, if we were using words as tokens we'd want \"Apple\", \"Apples\", \"apple\", and \"apples\" to all map to \"apple\".  The word \"apple\" would be one token in a \"vocabulary\" representing our text.\n",
    "\n",
    "In this case the vocabulary will be: abcdefghijklmnopqrstuvwxyz .,;'"
   ]
  },
  {
   "cell_type": "code",
   "execution_count": null,
   "metadata": {
    "ExecuteTime": {
     "end_time": "2021-04-05T02:13:07.578702Z",
     "start_time": "2021-04-05T02:13:07.425705Z"
    }
   },
   "outputs": [],
   "source": [
    "namge_language_data = {}\n",
    "\n",
    "#We will use some code to remove UNICODE tokens to make life easy for us processing-wise\n",
    "#e.g., convert something like \"Ślusàrski\" to Slusarski\n",
    "import unicodedata\n",
    "import string\n",
    "\n",
    "all_letters = string.ascii_letters + \" .,;'\"\n",
    "n_letters = len(all_letters)\n",
    "alphabet = {}\n",
    "for i in range(n_letters):\n",
    "    alphabet[all_letters[i]] = i\n",
    "    \n",
    "# Turn a Unicode string to plain ASCII, thanks to https://stackoverflow.com/a/518232/2809427\n",
    "def unicodeToAscii(s):\n",
    "    return ''.join(\n",
    "        c for c in unicodedata.normalize('NFD', s)\n",
    "        if unicodedata.category(c) != 'Mn'\n",
    "        and c in all_letters\n",
    "    )\n",
    "\n",
    "#Loop through every language, open the zip file entry, and read all the lines from the text file. \n",
    "for zip_path in z.namelist():\n",
    "    if \"data/names/\" in zip_path and zip_path.endswith(\".txt\"):\n",
    "        lang = zip_path[len(\"data/names/\"):-len(\".txt\")]\n",
    "        with z.open(zip_path) as myfile:\n",
    "            lang_names = [unicodeToAscii(line).lower() for line in str(myfile.read(), encoding='utf-8').strip().split(\"\\n\")]\n",
    "            namge_language_data[lang] = lang_names\n",
    "        print(lang, \": \", len(lang_names)) #Print out the name of each language too. "
   ]
  },
  {
   "cell_type": "code",
   "execution_count": 36,
   "metadata": {},
   "outputs": [
    {
     "data": {
      "text/plain": [
       "'Slusarski'"
      ]
     },
     "execution_count": 36,
     "metadata": {},
     "output_type": "execute_result"
    }
   ],
   "source": [
    "# unicode to ascii example\n",
    "unicodeToAscii(\"Ślusàrski\")"
   ]
  },
  {
   "cell_type": "code",
   "execution_count": 8,
   "metadata": {},
   "outputs": [
    {
     "data": {
      "text/plain": [
       "['abreu',\n",
       " 'albuquerque',\n",
       " 'almeida',\n",
       " 'alves',\n",
       " 'araujo',\n",
       " 'araullo',\n",
       " 'barros',\n",
       " 'basurto',\n",
       " 'belo',\n",
       " 'cabral',\n",
       " 'campos',\n",
       " 'cardozo',\n",
       " 'castro',\n",
       " 'coelho',\n",
       " 'costa',\n",
       " 'crespo',\n",
       " 'cruz',\n",
       " \"d'cruz\",\n",
       " \"d'cruze\",\n",
       " 'delgado',\n",
       " 'de santigo',\n",
       " 'duarte',\n",
       " 'esteves',\n",
       " 'fernandes',\n",
       " 'ferreira',\n",
       " 'ferreiro',\n",
       " 'ferro',\n",
       " 'fonseca',\n",
       " 'franco',\n",
       " 'freitas',\n",
       " 'garcia',\n",
       " 'gaspar',\n",
       " 'gomes',\n",
       " 'gouveia',\n",
       " 'guerra',\n",
       " 'henriques',\n",
       " 'lobo',\n",
       " 'machado',\n",
       " 'madeira',\n",
       " 'magalhaes',\n",
       " 'maria',\n",
       " 'mata',\n",
       " 'mateus',\n",
       " 'matos',\n",
       " 'medeiros',\n",
       " 'melo',\n",
       " 'mendes',\n",
       " 'moreno',\n",
       " 'nunes',\n",
       " 'palmeiro',\n",
       " 'paredes',\n",
       " 'pereira',\n",
       " 'pinheiro',\n",
       " 'pinho',\n",
       " 'ramires',\n",
       " 'ribeiro',\n",
       " 'rios',\n",
       " 'rocha',\n",
       " 'rodrigues',\n",
       " 'romao',\n",
       " 'rosario',\n",
       " 'salazar',\n",
       " 'santana',\n",
       " 'santiago',\n",
       " 'santos',\n",
       " 'serafim',\n",
       " 'silva',\n",
       " 'silveira',\n",
       " 'simoes',\n",
       " 'soares',\n",
       " 'souza',\n",
       " 'torres',\n",
       " 'vargas',\n",
       " 'ventura']"
      ]
     },
     "execution_count": 8,
     "metadata": {},
     "output_type": "execute_result"
    }
   ],
   "source": [
    "namge_language_data['Portuguese']"
   ]
  },
  {
   "cell_type": "markdown",
   "metadata": {},
   "source": [
    "### Dataset and Dataloaders"
   ]
  },
  {
   "cell_type": "code",
   "execution_count": 9,
   "metadata": {
    "ExecuteTime": {
     "end_time": "2021-04-05T02:13:07.587570Z",
     "start_time": "2021-04-05T02:13:07.580165Z"
    }
   },
   "outputs": [],
   "source": [
    "class LanguageNameDataset(Dataset):\n",
    "    \n",
    "    def __init__(self, lang_name_dict, vocabulary):\n",
    "        self.label_names = [x for x in lang_name_dict.keys()]\n",
    "        self.data = []\n",
    "        self.labels = []\n",
    "        self.vocabulary = vocabulary\n",
    "        for y, language in enumerate(self.label_names):\n",
    "            for sample in lang_name_dict[language]:\n",
    "                self.data.append(sample)\n",
    "                self.labels.append(y)\n",
    "        \n",
    "    def __len__(self):\n",
    "        return len(self.data)\n",
    "    \n",
    "    def string2InputVec(self, input_string):\n",
    "        \"\"\"\n",
    "        This method will convert any input string into a vector of long values, according to the vocabulary used by this object. \n",
    "        input_string: the string to convert to a tensor\n",
    "        \"\"\"\n",
    "        T = len(input_string) #How many characters long is the string?\n",
    "        \n",
    "        #Create a new tensor to store the result in\n",
    "        name_vec = torch.zeros((T), dtype=torch.long)\n",
    "        #iterate through the string and place the appropriate values into the tensor\n",
    "        for pos, character in enumerate(input_string):\n",
    "            name_vec[pos] = self.vocabulary[character]\n",
    "            \n",
    "        return name_vec\n",
    "    \n",
    "    def __getitem__(self, idx):\n",
    "        name = self.data[idx]\n",
    "        label = self.labels[idx]\n",
    "        \n",
    "        #Conver the correct class label into a tensor for PyTorch\n",
    "        label_vec = torch.tensor([label], dtype=torch.long)\n",
    "        \n",
    "        return self.string2InputVec(name), label"
   ]
  },
  {
   "cell_type": "code",
   "execution_count": 10,
   "metadata": {
    "ExecuteTime": {
     "end_time": "2021-04-05T02:13:07.597263Z",
     "start_time": "2021-04-05T02:13:07.589150Z"
    }
   },
   "outputs": [],
   "source": [
    "dataset = LanguageNameDataset(namge_language_data, alphabet)\n",
    "\n",
    "train_data, test_data = torch.utils.data.random_split(dataset, (len(dataset)-300, 300))\n",
    "train_loader = DataLoader(train_data, batch_size=1, shuffle=True)\n",
    "test_loader = DataLoader(test_data, batch_size=1, shuffle=False)"
   ]
  },
  {
   "cell_type": "code",
   "execution_count": 12,
   "metadata": {},
   "outputs": [
    {
     "data": {
      "text/plain": [
       "(tensor([[11,  4,  8, 10,  8, 18, 12,  0, 13]]), tensor([14]))"
      ]
     },
     "execution_count": 12,
     "metadata": {},
     "output_type": "execute_result"
    }
   ],
   "source": [
    "input, target = next(iter(train_loader))\n",
    "input,target"
   ]
  },
  {
   "cell_type": "markdown",
   "metadata": {},
   "source": [
    "### Embeddings\n",
    "\n",
    "The tensor representation of a name isn't yet the form we need to train an RNN.  Each token in the input has to become a vector.  So we need a method to map individual characters to vectors, \n",
    "\n",
    "e.g. 'b' -> 1 -> [0,1,0,0,...]\n",
    "\n",
    "These vectors are called \"embeddings\".  Often times we'll determine what embeddings to use as part of the training process.  This is done by adding an embedding layer to our neural network.\n",
    "\n",
    "`nn.Embedding( vocab size, embedding dimensions )`"
   ]
  },
  {
   "cell_type": "code",
   "execution_count": 13,
   "metadata": {
    "ExecuteTime": {
     "end_time": "2021-04-05T02:13:07.606766Z",
     "start_time": "2021-04-05T02:13:07.598682Z"
    }
   },
   "outputs": [
    {
     "name": "stdout",
     "output_type": "stream",
     "text": [
      "torch.Size([5]) torch.Size([5, 2])\n",
      "tensor([[ 0.8664,  2.4263],\n",
      "        [-0.9807, -0.4243],\n",
      "        [-0.9807, -0.4243],\n",
      "        [ 0.8664,  2.4263],\n",
      "        [ 1.0024, -0.4500]])\n"
     ]
    }
   ],
   "source": [
    "with torch.no_grad():\n",
    "    input_sequence = torch.tensor([0, 1, 1, 0, 2], dtype=torch.long)\n",
    "    embd = nn.Embedding(3, 2)\n",
    "    x_seq = embd(input_sequence)\n",
    "    print(input_sequence.shape, x_seq.shape)\n",
    "    print(x_seq)"
   ]
  },
  {
   "cell_type": "markdown",
   "metadata": {},
   "source": [
    "We can also use predetermined embeddings (look up \"Word2Vec\" and \"NLP Glove\")"
   ]
  },
  {
   "cell_type": "code",
   "execution_count": 14,
   "metadata": {
    "ExecuteTime": {
     "end_time": "2021-04-05T02:13:07.613422Z",
     "start_time": "2021-04-05T02:13:07.608156Z"
    }
   },
   "outputs": [],
   "source": [
    "class LastTimeStep(nn.Module):\n",
    "    \"\"\"\n",
    "    A class for extracting the hidden activations of the last time step following \n",
    "    the output of a PyTorch RNN module. \n",
    "    \"\"\"\n",
    "    def __init__(self, rnn_layers=1, bidirectional=False):\n",
    "        super(LastTimeStep, self).__init__()\n",
    "        self.rnn_layers = rnn_layers\n",
    "        if bidirectional:\n",
    "            self.num_driections = 2\n",
    "        else:\n",
    "            self.num_driections = 1    \n",
    "    \n",
    "    def forward(self, input):\n",
    "        #Result is either a tupe (out, h_t)\n",
    "        #or a tuple (out, (h_t, c_t))\n",
    "        rnn_output = input[0]\n",
    "        last_step = input[1] #this will be h_t\n",
    "        if(type(last_step) == tuple):#unless it's a tuple, \n",
    "            last_step = last_step[0]#then h_t is the first item in the tuple\n",
    "        batch_size = last_step.shape[1] #per docs, shape is: '(num_layers * num_directions, batch, hidden_size)'\n",
    "        #reshaping so that everything is separate \n",
    "        last_step = last_step.view(self.rnn_layers, self.num_driections, batch_size, -1)\n",
    "        #We want the last layer's results\n",
    "        last_step = last_step[self.rnn_layers-1] \n",
    "        #Re order so batch comes first\n",
    "        last_step = last_step.permute(1, 0, 2)\n",
    "        #Finally, flatten the last two dimensions into one\n",
    "        return last_step.reshape(batch_size, -1)"
   ]
  },
  {
   "cell_type": "code",
   "execution_count": 15,
   "metadata": {
    "ExecuteTime": {
     "end_time": "2021-04-05T02:13:07.620042Z",
     "start_time": "2021-04-05T02:13:07.614864Z"
    }
   },
   "outputs": [],
   "source": [
    "D = 64\n",
    "vocab_size = len(all_letters)\n",
    "hidden_nodes = 256\n",
    "classes = len(dataset.label_names)\n",
    "\n",
    "first_rnn = nn.Sequential(\n",
    "  nn.Embedding(vocab_size, D), #(B, T) -> (B, T, D)\n",
    "  nn.RNN(D, hidden_nodes, batch_first=True), #(B, T, D) -> ( (B,T,D) , (S, B, D)  )\n",
    "  #the tanh activation is built into the RNN object, so we don't need to do it here\n",
    "  LastTimeStep(), #We need to take the RNN output and reduce it to one item, (B, D)\n",
    "  nn.Linear(hidden_nodes, classes), #(B, D) -> (B, classes)\n",
    ")"
   ]
  },
  {
   "cell_type": "code",
   "execution_count": null,
   "metadata": {
    "ExecuteTime": {
     "end_time": "2021-04-05T02:17:46.189455Z",
     "start_time": "2021-04-05T02:13:07.621526Z"
    },
    "scrolled": true,
    "tags": [
     "remove_output"
    ]
   },
   "outputs": [
    {
     "name": "stderr",
     "output_type": "stream",
     "text": [
      "Epoch:   0%|                                                                                      | 0/5 [00:00<?, ?it/s]\n",
      "Training:   0%|                                                                               | 0/19774 [00:00<?, ?it/s]\u001b[A\n",
      "Training:   0%|                                                                     | 1/19774 [00:01<5:47:15,  1.05s/it]\u001b[A\n",
      "Training:   0%|                                                                      | 11/19774 [00:01<26:27, 12.45it/s]\u001b[A\n",
      "Training:   0%|                                                                      | 26/19774 [00:01<10:19, 31.89it/s]\u001b[A\n",
      "Training:   0%|▏                                                                     | 39/19774 [00:01<06:51, 48.01it/s]\u001b[A\n",
      "Training:   0%|▏                                                                     | 53/19774 [00:01<05:02, 65.22it/s]\u001b[A\n",
      "Training:   0%|▏                                                                     | 70/19774 [00:01<03:46, 86.92it/s]\u001b[A\n",
      "Training:   0%|▎                                                                    | 86/19774 [00:01<03:12, 102.22it/s]\u001b[A\n",
      "Training:   1%|▎                                                                   | 103/19774 [00:01<02:46, 118.47it/s]\u001b[A\n",
      "Training:   1%|▍                                                                   | 120/19774 [00:01<02:29, 131.30it/s]\u001b[A\n",
      "Training:   1%|▍                                                                   | 136/19774 [00:02<02:22, 137.75it/s]\u001b[A\n",
      "Training:   1%|▌                                                                   | 154/19774 [00:02<02:12, 148.17it/s]\u001b[A\n",
      "Training:   1%|▌                                                                   | 171/19774 [00:02<02:10, 150.27it/s]\u001b[A\n",
      "Training:   1%|▋                                                                   | 188/19774 [00:02<02:06, 154.97it/s]\u001b[A\n",
      "Training:   1%|▋                                                                   | 206/19774 [00:02<02:01, 160.41it/s]\u001b[A\n",
      "Training:   1%|▊                                                                   | 224/19774 [00:02<01:59, 163.54it/s]\u001b[A\n",
      "Training:   1%|▊                                                                   | 241/19774 [00:02<02:00, 161.58it/s]\u001b[A\n",
      "Training:   1%|▉                                                                   | 258/19774 [00:02<02:02, 159.41it/s]\u001b[A\n",
      "Training:   1%|▉                                                                   | 275/19774 [00:02<02:04, 156.21it/s]\u001b[A\n",
      "Training:   1%|█                                                                   | 291/19774 [00:02<02:05, 155.59it/s]\u001b[A\n",
      "Training:   2%|█                                                                   | 308/19774 [00:03<02:02, 158.90it/s]\u001b[A\n",
      "Training:   2%|█                                                                   | 324/19774 [00:03<02:04, 156.19it/s]\u001b[A\n",
      "Training:   2%|█▏                                                                  | 340/19774 [00:03<02:08, 151.68it/s]\u001b[A\n",
      "Training:   2%|█▏                                                                  | 356/19774 [00:03<02:06, 153.80it/s]\u001b[A\n",
      "Training:   2%|█▎                                                                  | 372/19774 [00:03<02:06, 153.88it/s]\u001b[A\n",
      "Training:   2%|█▎                                                                  | 388/19774 [00:03<02:10, 148.06it/s]\u001b[A\n",
      "Training:   2%|█▍                                                                  | 403/19774 [00:03<02:11, 146.88it/s]\u001b[A\n",
      "Training:   2%|█▍                                                                  | 418/19774 [00:03<02:15, 143.30it/s]\u001b[A\n",
      "Training:   2%|█▍                                                                  | 433/19774 [00:03<02:13, 144.51it/s]\u001b[A\n",
      "Training:   2%|█▌                                                                  | 449/19774 [00:04<02:10, 148.41it/s]\u001b[A\n",
      "Training:   2%|█▌                                                                  | 466/19774 [00:04<02:06, 152.86it/s]\u001b[A\n",
      "Training:   2%|█▋                                                                  | 482/19774 [00:04<02:05, 153.18it/s]\u001b[A\n",
      "Training:   3%|█▋                                                                  | 499/19774 [00:04<02:02, 157.72it/s]\u001b[A\n",
      "Training:   3%|█▊                                                                  | 515/19774 [00:04<02:07, 150.84it/s]\u001b[A\n",
      "Training:   3%|█▊                                                                  | 532/19774 [00:04<02:04, 154.65it/s]\u001b[A\n",
      "Training:   3%|█▉                                                                  | 548/19774 [00:04<02:06, 152.57it/s]\u001b[A\n",
      "Training:   3%|█▉                                                                  | 564/19774 [00:04<02:12, 144.94it/s]\u001b[A\n",
      "Training:   3%|█▉                                                                  | 580/19774 [00:04<02:09, 148.72it/s]\u001b[A\n",
      "Training:   3%|██                                                                  | 595/19774 [00:05<02:12, 144.59it/s]\u001b[A\n",
      "Training:   3%|██                                                                  | 611/19774 [00:05<02:08, 148.74it/s]\u001b[A\n",
      "Training:   3%|██▏                                                                 | 628/19774 [00:05<02:05, 152.99it/s]\u001b[A\n",
      "Training:   3%|██▏                                                                 | 644/19774 [00:05<02:14, 141.89it/s]\u001b[A\n",
      "Training:   3%|██▎                                                                 | 659/19774 [00:05<02:14, 142.08it/s]\u001b[A\n",
      "Training:   3%|██▎                                                                 | 674/19774 [00:05<02:14, 142.26it/s]\u001b[A\n",
      "Training:   3%|██▎                                                                 | 690/19774 [00:05<02:10, 146.66it/s]\u001b[A\n",
      "Training:   4%|██▍                                                                 | 706/19774 [00:05<02:07, 149.34it/s]\u001b[A\n",
      "Training:   4%|██▍                                                                 | 723/19774 [00:05<02:04, 152.53it/s]\u001b[A\n",
      "Training:   4%|██▌                                                                 | 741/19774 [00:05<01:59, 158.88it/s]\u001b[A\n",
      "Training:   4%|██▌                                                                 | 757/19774 [00:06<02:00, 157.84it/s]\u001b[A\n",
      "Training:   4%|██▋                                                                 | 773/19774 [00:06<02:03, 153.85it/s]\u001b[A\n",
      "Training:   4%|██▋                                                                 | 789/19774 [00:06<02:06, 150.16it/s]\u001b[A\n",
      "Training:   4%|██▊                                                                 | 805/19774 [00:06<02:14, 140.57it/s]\u001b[A\n",
      "Training:   4%|██▊                                                                 | 820/19774 [00:06<02:12, 142.93it/s]\u001b[A\n",
      "Training:   4%|██▊                                                                 | 836/19774 [00:06<02:09, 146.23it/s]\u001b[A\n",
      "Training:   4%|██▉                                                                 | 851/19774 [00:06<02:10, 144.69it/s]\u001b[A\n",
      "Training:   4%|██▉                                                                 | 867/19774 [00:06<02:08, 147.39it/s]\u001b[A\n",
      "Training:   4%|███                                                                 | 883/19774 [00:06<02:06, 149.20it/s]\u001b[A\n",
      "Training:   5%|███                                                                 | 899/19774 [00:07<02:06, 149.03it/s]\u001b[A\n",
      "Training:   5%|███▏                                                                | 915/19774 [00:07<02:05, 150.78it/s]\u001b[A\n",
      "Training:   5%|███▏                                                                | 931/19774 [00:07<02:04, 151.74it/s]\u001b[A\n",
      "Training:   5%|███▎                                                                | 948/19774 [00:07<02:02, 154.15it/s]\u001b[A\n",
      "Training:   5%|███▎                                                                | 965/19774 [00:07<01:58, 158.14it/s]\u001b[A\n",
      "Training:   5%|███▍                                                                | 982/19774 [00:07<01:56, 160.64it/s]\u001b[A\n",
      "Training:   5%|███▍                                                                | 999/19774 [00:07<01:57, 159.32it/s]\u001b[A\n",
      "Training:   5%|███▍                                                               | 1015/19774 [00:07<01:58, 158.75it/s]\u001b[A\n",
      "Training:   5%|███▍                                                               | 1032/19774 [00:07<01:57, 159.43it/s]\u001b[A\n",
      "Training:   5%|███▌                                                               | 1048/19774 [00:08<02:05, 149.72it/s]\u001b[A\n",
      "Training:   5%|███▌                                                               | 1065/19774 [00:08<02:01, 153.41it/s]\u001b[A\n",
      "Training:   5%|███▋                                                               | 1083/19774 [00:08<01:57, 159.23it/s]\u001b[A\n",
      "Training:   6%|███▋                                                               | 1100/19774 [00:08<01:58, 157.48it/s]\u001b[A\n",
      "Training:   6%|███▊                                                               | 1117/19774 [00:08<01:56, 160.65it/s]\u001b[A\n",
      "Training:   6%|███▊                                                               | 1134/19774 [00:08<01:56, 159.95it/s]\u001b[A\n",
      "Training:   6%|███▉                                                               | 1151/19774 [00:08<01:57, 158.99it/s]\u001b[A\n",
      "Training:   6%|███▉                                                               | 1167/19774 [00:08<01:57, 158.90it/s]\u001b[A\n",
      "Training:   6%|████                                                               | 1186/19774 [00:08<01:51, 166.42it/s]\u001b[A\n",
      "Training:   6%|████                                                               | 1203/19774 [00:08<01:53, 163.08it/s]\u001b[A\n",
      "Training:   6%|████▏                                                              | 1220/19774 [00:09<01:55, 160.22it/s]\u001b[A\n",
      "Training:   6%|████▏                                                              | 1237/19774 [00:09<01:55, 160.03it/s]\u001b[A\n",
      "Training:   6%|████▏                                                              | 1254/19774 [00:09<01:57, 158.22it/s]\u001b[A\n",
      "Training:   6%|████▎                                                              | 1270/19774 [00:09<01:57, 157.53it/s]\u001b[A\n",
      "Training:   7%|████▎                                                              | 1287/19774 [00:09<01:56, 158.68it/s]\u001b[A\n",
      "Training:   7%|████▍                                                              | 1304/19774 [00:09<01:55, 159.95it/s]\u001b[A\n",
      "Training:   7%|████▍                                                              | 1321/19774 [00:09<02:00, 152.64it/s]\u001b[A\n",
      "Training:   7%|████▌                                                              | 1337/19774 [00:09<02:01, 152.16it/s]\u001b[A\n",
      "Training:   7%|████▌                                                              | 1353/19774 [00:09<02:00, 152.68it/s]\u001b[A\n",
      "Training:   7%|████▋                                                              | 1369/19774 [00:10<02:03, 148.88it/s]\u001b[A\n",
      "Training:   7%|████▋                                                              | 1385/19774 [00:10<02:02, 149.62it/s]\u001b[A\n",
      "Training:   7%|████▋                                                              | 1400/19774 [00:10<02:04, 147.51it/s]\u001b[A\n",
      "Training:   7%|████▊                                                              | 1415/19774 [00:10<02:05, 146.37it/s]\u001b[A\n",
      "Training:   7%|████▊                                                              | 1430/19774 [00:10<02:09, 141.48it/s]\u001b[A\n",
      "Training:   7%|████▉                                                              | 1445/19774 [00:10<02:07, 143.31it/s]\u001b[A\n",
      "Training:   7%|████▉                                                              | 1460/19774 [00:10<02:08, 142.47it/s]\u001b[A\n",
      "Training:   7%|█████                                                              | 1476/19774 [00:10<02:05, 146.21it/s]\u001b[A\n",
      "Training:   8%|█████                                                              | 1492/19774 [00:10<02:03, 147.68it/s]\u001b[A\n",
      "Training:   8%|█████                                                              | 1508/19774 [00:10<02:01, 149.90it/s]\u001b[A\n",
      "Training:   8%|█████▏                                                             | 1524/19774 [00:11<02:01, 149.68it/s]\u001b[A\n",
      "Training:   8%|█████▏                                                             | 1541/19774 [00:11<01:58, 154.04it/s]\u001b[A\n",
      "Training:   8%|█████▎                                                             | 1558/19774 [00:11<01:56, 156.97it/s]\u001b[A\n",
      "Training:   8%|█████▎                                                             | 1574/19774 [00:11<01:55, 157.48it/s]\u001b[A\n",
      "Training:   8%|█████▍                                                             | 1590/19774 [00:11<01:58, 153.37it/s]\u001b[A\n",
      "Training:   8%|█████▍                                                             | 1606/19774 [00:11<02:01, 149.95it/s]\u001b[A\n",
      "Training:   8%|█████▍                                                             | 1623/19774 [00:11<01:58, 153.67it/s]\u001b[A\n",
      "Training:   8%|█████▌                                                             | 1639/19774 [00:11<01:57, 154.64it/s]\u001b[A\n",
      "Training:   8%|█████▌                                                             | 1656/19774 [00:11<01:55, 157.42it/s]\u001b[A\n",
      "Training:   8%|█████▋                                                             | 1672/19774 [00:12<01:55, 156.67it/s]\u001b[A\n",
      "Training:   9%|█████▋                                                             | 1689/19774 [00:12<01:53, 158.65it/s]\u001b[A\n",
      "Training:   9%|█████▊                                                             | 1706/19774 [00:12<01:52, 160.29it/s]\u001b[A\n",
      "Training:   9%|█████▊                                                             | 1723/19774 [00:12<01:53, 158.82it/s]\u001b[A\n",
      "Training:   9%|█████▉                                                             | 1739/19774 [00:12<01:56, 154.23it/s]\u001b[A\n",
      "Training:   9%|█████▉                                                             | 1755/19774 [00:12<01:56, 155.06it/s]\u001b[A\n",
      "Training:   9%|██████                                                             | 1773/19774 [00:12<01:51, 160.79it/s]\u001b[A\n",
      "Training:   9%|██████                                                             | 1791/19774 [00:12<01:49, 164.72it/s]\u001b[A\n",
      "Training:   9%|██████▏                                                            | 1808/19774 [00:12<01:48, 165.34it/s]\u001b[A\n",
      "Training:   9%|██████▏                                                            | 1825/19774 [00:13<01:56, 153.76it/s]\u001b[A\n",
      "Training:   9%|██████▏                                                            | 1841/19774 [00:13<01:57, 153.13it/s]\u001b[A\n",
      "Training:   9%|██████▎                                                            | 1858/19774 [00:13<01:53, 157.75it/s]\u001b[A\n",
      "Training:   9%|██████▎                                                            | 1876/19774 [00:13<01:51, 160.75it/s]\u001b[A\n",
      "Training:  10%|██████▍                                                            | 1893/19774 [00:13<01:54, 156.72it/s]\u001b[A\n",
      "Training:  10%|██████▍                                                            | 1911/19774 [00:13<01:49, 163.17it/s]\u001b[A\n",
      "Training:  10%|██████▌                                                            | 1928/19774 [00:13<01:51, 159.89it/s]\u001b[A\n",
      "Training:  10%|██████▌                                                            | 1945/19774 [00:13<01:51, 159.23it/s]\u001b[A\n",
      "Training:  10%|██████▋                                                            | 1962/19774 [00:13<01:51, 160.30it/s]\u001b[A\n",
      "Training:  10%|██████▋                                                            | 1979/19774 [00:13<01:49, 161.79it/s]\u001b[A\n",
      "Training:  10%|██████▊                                                            | 1996/19774 [00:14<01:50, 161.07it/s]\u001b[A\n",
      "Training:  10%|██████▊                                                            | 2013/19774 [00:14<01:51, 159.97it/s]\u001b[A\n",
      "Training:  10%|██████▉                                                            | 2030/19774 [00:14<01:54, 154.40it/s]\u001b[A\n",
      "Training:  10%|██████▉                                                            | 2047/19774 [00:14<01:53, 156.71it/s]\u001b[A\n",
      "Training:  10%|██████▉                                                            | 2064/19774 [00:14<01:51, 159.54it/s]\u001b[A\n",
      "Training:  11%|███████                                                            | 2080/19774 [00:14<01:50, 159.48it/s]\u001b[A\n",
      "Training:  11%|███████                                                            | 2097/19774 [00:14<01:48, 162.53it/s]\u001b[A\n",
      "Training:  11%|███████▏                                                           | 2114/19774 [00:14<01:48, 163.28it/s]\u001b[A\n",
      "Training:  11%|███████▏                                                           | 2131/19774 [00:14<01:48, 162.54it/s]\u001b[A\n",
      "Training:  11%|███████▎                                                           | 2148/19774 [00:15<01:49, 161.53it/s]\u001b[A\n",
      "Training:  11%|███████▎                                                           | 2165/19774 [00:15<01:49, 161.39it/s]\u001b[A\n",
      "Training:  11%|███████▍                                                           | 2182/19774 [00:15<01:51, 158.38it/s]\u001b[A\n",
      "Training:  11%|███████▍                                                           | 2199/19774 [00:15<01:49, 160.96it/s]\u001b[A\n",
      "Training:  11%|███████▌                                                           | 2216/19774 [00:15<01:49, 161.05it/s]\u001b[A\n",
      "Training:  11%|███████▌                                                           | 2233/19774 [00:15<01:49, 159.70it/s]\u001b[A\n",
      "Training:  11%|███████▌                                                           | 2249/19774 [00:15<01:49, 159.64it/s]\u001b[A\n",
      "Training:  11%|███████▋                                                           | 2267/19774 [00:15<01:47, 162.89it/s]\u001b[A\n",
      "Training:  12%|███████▋                                                           | 2284/19774 [00:15<01:49, 160.18it/s]\u001b[A\n",
      "Training:  12%|███████▊                                                           | 2301/19774 [00:15<01:48, 160.51it/s]\u001b[A\n",
      "Training:  12%|███████▊                                                           | 2318/19774 [00:16<01:49, 158.85it/s]\u001b[A\n",
      "Training:  12%|███████▉                                                           | 2334/19774 [00:16<01:52, 155.02it/s]\u001b[A\n",
      "Training:  12%|███████▉                                                           | 2350/19774 [00:16<01:52, 154.56it/s]\u001b[A\n",
      "Training:  12%|████████                                                           | 2367/19774 [00:16<01:51, 156.70it/s]\u001b[A\n",
      "Training:  12%|████████                                                           | 2383/19774 [00:16<01:55, 150.14it/s]\u001b[A\n",
      "Training:  12%|████████▏                                                          | 2399/19774 [00:16<01:53, 152.48it/s]\u001b[A\n",
      "Training:  12%|████████▏                                                          | 2415/19774 [00:16<01:55, 150.90it/s]\u001b[A\n",
      "Training:  12%|████████▏                                                          | 2431/19774 [00:16<01:54, 151.80it/s]\u001b[A\n",
      "Training:  12%|████████▎                                                          | 2447/19774 [00:16<01:55, 150.36it/s]\u001b[A\n",
      "Training:  12%|████████▎                                                          | 2463/19774 [00:17<01:55, 150.08it/s]\u001b[A\n",
      "Training:  13%|████████▍                                                          | 2479/19774 [00:17<01:56, 148.33it/s]\u001b[A\n",
      "Training:  13%|████████▍                                                          | 2494/19774 [00:17<01:57, 146.96it/s]\u001b[A\n",
      "Training:  13%|████████▌                                                          | 2511/19774 [00:17<01:53, 152.59it/s]\u001b[A\n",
      "Training:  13%|████████▌                                                          | 2528/19774 [00:17<01:51, 155.10it/s]\u001b[A\n",
      "Training:  13%|████████▌                                                          | 2544/19774 [00:17<01:51, 154.29it/s]\u001b[A\n",
      "Training:  13%|████████▋                                                          | 2560/19774 [00:17<01:51, 154.06it/s]\u001b[A\n",
      "Training:  13%|████████▋                                                          | 2577/19774 [00:17<01:49, 156.96it/s]\u001b[A\n",
      "Training:  13%|████████▊                                                          | 2593/19774 [00:17<01:49, 156.22it/s]\u001b[A\n",
      "Training:  13%|████████▊                                                          | 2610/19774 [00:17<01:47, 159.10it/s]\u001b[A\n",
      "Training:  13%|████████▉                                                          | 2626/19774 [00:18<01:49, 156.41it/s]\u001b[A\n",
      "Training:  13%|████████▉                                                          | 2642/19774 [00:18<01:50, 154.92it/s]\u001b[A\n",
      "Training:  13%|█████████                                                          | 2658/19774 [00:18<01:51, 154.19it/s]\u001b[A\n",
      "Training:  14%|█████████                                                          | 2675/19774 [00:18<01:49, 156.72it/s]\u001b[A\n",
      "Training:  14%|█████████                                                          | 2691/19774 [00:18<01:48, 156.80it/s]\u001b[A\n",
      "Training:  14%|█████████▏                                                         | 2707/19774 [00:18<01:51, 152.70it/s]\u001b[A\n",
      "Training:  14%|█████████▏                                                         | 2723/19774 [00:18<01:50, 154.26it/s]\u001b[A\n",
      "Training:  14%|█████████▎                                                         | 2739/19774 [00:18<01:51, 153.02it/s]\u001b[A\n",
      "Training:  14%|█████████▎                                                         | 2755/19774 [00:18<01:53, 149.70it/s]\u001b[A\n",
      "Training:  14%|█████████▍                                                         | 2770/19774 [00:19<01:56, 146.57it/s]\u001b[A\n",
      "Training:  14%|█████████▍                                                         | 2785/19774 [00:19<01:55, 146.54it/s]\u001b[A\n",
      "Training:  14%|█████████▍                                                         | 2800/19774 [00:19<01:59, 141.76it/s]\u001b[A\n",
      "Training:  14%|█████████▌                                                         | 2817/19774 [00:19<01:54, 148.57it/s]\u001b[A\n",
      "Training:  14%|█████████▌                                                         | 2832/19774 [00:19<01:53, 148.66it/s]\u001b[A\n",
      "Training:  14%|█████████▋                                                         | 2848/19774 [00:19<01:53, 149.65it/s]\u001b[A\n",
      "Training:  14%|█████████▋                                                         | 2864/19774 [00:19<01:52, 150.72it/s]\u001b[A\n",
      "Training:  15%|█████████▊                                                         | 2880/19774 [00:19<01:50, 153.11it/s]\u001b[A\n",
      "Training:  15%|█████████▊                                                         | 2896/19774 [00:19<01:50, 152.57it/s]\u001b[A\n",
      "Training:  15%|█████████▊                                                         | 2912/19774 [00:19<01:49, 154.23it/s]\u001b[A\n",
      "Training:  15%|█████████▉                                                         | 2928/19774 [00:20<01:48, 155.49it/s]\u001b[A\n",
      "Training:  15%|█████████▉                                                         | 2945/19774 [00:20<01:46, 157.73it/s]\u001b[A\n",
      "Training:  15%|██████████                                                         | 2963/19774 [00:20<01:43, 162.25it/s]\u001b[A\n",
      "Training:  15%|██████████                                                         | 2980/19774 [00:20<01:43, 162.29it/s]\u001b[A\n",
      "Training:  15%|██████████▏                                                        | 2997/19774 [00:20<01:46, 158.16it/s]\u001b[A\n",
      "Training:  15%|██████████▏                                                        | 3013/19774 [00:20<01:48, 155.03it/s]\u001b[A\n",
      "Training:  15%|██████████▎                                                        | 3029/19774 [00:20<01:49, 152.57it/s]\u001b[A\n",
      "Training:  15%|██████████▎                                                        | 3045/19774 [00:20<01:52, 148.67it/s]\u001b[A\n",
      "Training:  15%|██████████▎                                                        | 3062/19774 [00:20<01:49, 152.52it/s]\u001b[A\n",
      "Training:  16%|██████████▍                                                        | 3078/19774 [00:21<01:51, 149.96it/s]\u001b[A\n",
      "Training:  16%|██████████▍                                                        | 3094/19774 [00:21<01:49, 151.83it/s]\u001b[A\n",
      "Training:  16%|██████████▌                                                        | 3110/19774 [00:21<01:49, 152.26it/s]\u001b[A\n",
      "Training:  16%|██████████▌                                                        | 3126/19774 [00:21<01:51, 148.94it/s]\u001b[A\n",
      "Training:  16%|██████████▋                                                        | 3141/19774 [00:21<01:52, 148.49it/s]\u001b[A\n",
      "Training:  16%|██████████▋                                                        | 3158/19774 [00:21<01:48, 153.76it/s]\u001b[A\n",
      "Training:  16%|██████████▊                                                        | 3174/19774 [00:21<01:56, 142.70it/s]\u001b[A\n",
      "Training:  16%|██████████▊                                                        | 3189/19774 [00:21<01:55, 144.15it/s]\u001b[A\n",
      "Training:  16%|██████████▊                                                        | 3206/19774 [00:21<01:49, 151.41it/s]\u001b[A\n",
      "Training:  16%|██████████▉                                                        | 3222/19774 [00:22<01:47, 153.87it/s]\u001b[A\n",
      "Training:  16%|██████████▉                                                        | 3238/19774 [00:22<01:47, 153.80it/s]\u001b[A\n",
      "Training:  16%|███████████                                                        | 3254/19774 [00:22<01:46, 154.43it/s]\u001b[A\n",
      "Training:  17%|███████████                                                        | 3270/19774 [00:22<01:46, 154.96it/s]\u001b[A\n",
      "Training:  17%|███████████▏                                                       | 3287/19774 [00:22<01:43, 158.71it/s]\u001b[A\n",
      "Training:  17%|███████████▏                                                       | 3303/19774 [00:22<01:45, 156.46it/s]\u001b[A\n",
      "Training:  17%|███████████▏                                                       | 3319/19774 [00:22<01:45, 155.83it/s]\u001b[A\n",
      "Training:  17%|███████████▎                                                       | 3336/19774 [00:22<01:44, 157.82it/s]\u001b[A\n",
      "Training:  17%|███████████▎                                                       | 3352/19774 [00:22<01:43, 157.92it/s]\u001b[A\n",
      "Training:  17%|███████████▍                                                       | 3370/19774 [00:22<01:41, 161.83it/s]\u001b[A\n",
      "Training:  17%|███████████▍                                                       | 3387/19774 [00:23<01:41, 161.39it/s]\u001b[A\n",
      "Training:  17%|███████████▌                                                       | 3404/19774 [00:23<01:40, 162.71it/s]\u001b[A\n",
      "Training:  17%|███████████▌                                                       | 3421/19774 [00:23<01:40, 162.37it/s]\u001b[A\n",
      "Training:  17%|███████████▋                                                       | 3438/19774 [00:23<01:40, 163.17it/s]\u001b[A\n",
      "Training:  17%|███████████▋                                                       | 3455/19774 [00:23<01:40, 161.68it/s]\u001b[A\n",
      "Training:  18%|███████████▊                                                       | 3472/19774 [00:23<01:42, 158.70it/s]\u001b[A\n",
      "Training:  18%|███████████▊                                                       | 3489/19774 [00:23<01:41, 159.79it/s]\u001b[A\n",
      "Training:  18%|███████████▉                                                       | 3506/19774 [00:23<01:41, 159.75it/s]\u001b[A\n",
      "Training:  18%|███████████▉                                                       | 3523/19774 [00:23<01:41, 160.90it/s]\u001b[A\n",
      "Training:  18%|███████████▉                                                       | 3540/19774 [00:24<01:45, 154.34it/s]\u001b[A\n",
      "Training:  18%|████████████                                                       | 3556/19774 [00:24<01:45, 153.81it/s]\u001b[A\n",
      "Training:  18%|████████████                                                       | 3573/19774 [00:24<01:42, 157.31it/s]\u001b[A\n",
      "Training:  18%|████████████▏                                                      | 3589/19774 [00:24<01:43, 156.64it/s]\u001b[A\n",
      "Training:  18%|████████████▏                                                      | 3605/19774 [00:24<01:44, 154.17it/s]\u001b[A\n",
      "Training:  18%|████████████▎                                                      | 3622/19774 [00:24<01:42, 157.27it/s]\u001b[A\n",
      "Training:  18%|████████████▎                                                      | 3638/19774 [00:24<01:43, 156.44it/s]\u001b[A\n",
      "Training:  18%|████████████▍                                                      | 3655/19774 [00:24<01:40, 159.80it/s]\u001b[A\n",
      "Training:  19%|████████████▍                                                      | 3672/19774 [00:24<01:39, 161.58it/s]\u001b[A\n",
      "Training:  19%|████████████▍                                                      | 3689/19774 [00:24<01:41, 157.82it/s]\u001b[A\n",
      "Training:  19%|████████████▌                                                      | 3706/19774 [00:25<01:40, 160.57it/s]\u001b[A\n",
      "Training:  19%|████████████▌                                                      | 3723/19774 [00:25<01:39, 161.56it/s]\u001b[A\n",
      "Training:  19%|████████████▋                                                      | 3740/19774 [00:25<01:39, 161.20it/s]\u001b[A\n",
      "Training:  19%|████████████▋                                                      | 3757/19774 [00:25<01:40, 160.14it/s]\u001b[A\n",
      "Training:  19%|████████████▊                                                      | 3775/19774 [00:25<01:37, 164.11it/s]\u001b[A\n",
      "Training:  19%|████████████▊                                                      | 3792/19774 [00:25<01:39, 160.98it/s]\u001b[A\n",
      "Training:  19%|████████████▉                                                      | 3809/19774 [00:25<01:39, 160.26it/s]\u001b[A\n",
      "Training:  19%|████████████▉                                                      | 3826/19774 [00:25<01:39, 160.33it/s]\u001b[A\n",
      "Training:  19%|█████████████                                                      | 3843/19774 [00:25<01:41, 156.84it/s]\u001b[A\n",
      "Training:  20%|█████████████                                                      | 3859/19774 [00:26<01:42, 154.57it/s]\u001b[A\n",
      "Training:  20%|█████████████▏                                                     | 3875/19774 [00:26<01:43, 153.70it/s]\u001b[A\n",
      "Training:  20%|█████████████▏                                                     | 3892/19774 [00:26<01:41, 157.19it/s]\u001b[A\n",
      "Training:  20%|█████████████▏                                                     | 3908/19774 [00:26<01:40, 157.56it/s]\u001b[A\n",
      "Training:  20%|█████████████▎                                                     | 3925/19774 [00:26<01:39, 159.87it/s]\u001b[A\n",
      "Training:  20%|█████████████▎                                                     | 3941/19774 [00:26<01:40, 158.29it/s]\u001b[A\n",
      "Training:  20%|█████████████▍                                                     | 3958/19774 [00:26<01:39, 158.44it/s]\u001b[A\n",
      "Training:  20%|█████████████▍                                                     | 3974/19774 [00:26<01:41, 155.25it/s]\u001b[A\n",
      "Training:  20%|█████████████▌                                                     | 3990/19774 [00:26<01:44, 150.83it/s]\u001b[A\n",
      "Training:  20%|█████████████▌                                                     | 4006/19774 [00:26<01:45, 149.39it/s]\u001b[A\n",
      "Training:  20%|█████████████▋                                                     | 4022/19774 [00:27<01:44, 150.61it/s]\u001b[A\n",
      "Training:  20%|█████████████▋                                                     | 4039/19774 [00:27<01:41, 155.15it/s]\u001b[A\n",
      "Training:  21%|█████████████▋                                                     | 4055/19774 [00:27<01:40, 156.45it/s]\u001b[A\n",
      "Training:  21%|█████████████▊                                                     | 4071/19774 [00:27<01:40, 155.58it/s]\u001b[A\n",
      "Training:  21%|█████████████▊                                                     | 4087/19774 [00:27<01:41, 154.58it/s]\u001b[A\n",
      "Training:  21%|█████████████▉                                                     | 4103/19774 [00:27<01:42, 152.66it/s]\u001b[A\n",
      "Training:  21%|█████████████▉                                                     | 4119/19774 [00:27<01:43, 151.40it/s]\u001b[A\n",
      "Training:  21%|██████████████                                                     | 4135/19774 [00:27<01:43, 151.30it/s]\u001b[A\n",
      "Training:  21%|██████████████                                                     | 4152/19774 [00:27<01:40, 156.05it/s]\u001b[A\n",
      "Training:  21%|██████████████                                                     | 4168/19774 [00:28<01:42, 151.95it/s]\u001b[A\n",
      "Training:  21%|██████████████▏                                                    | 4185/19774 [00:28<01:40, 154.84it/s]\u001b[A\n",
      "Training:  21%|██████████████▏                                                    | 4201/19774 [00:28<01:40, 154.30it/s]\u001b[A\n",
      "Training:  21%|██████████████▎                                                    | 4217/19774 [00:28<01:39, 155.77it/s]\u001b[A\n",
      "Training:  21%|██████████████▎                                                    | 4233/19774 [00:28<01:45, 146.97it/s]\u001b[A\n",
      "Training:  21%|██████████████▍                                                    | 4249/19774 [00:28<01:45, 147.82it/s]\u001b[A\n",
      "Training:  22%|██████████████▍                                                    | 4265/19774 [00:28<01:43, 149.61it/s]\u001b[A\n",
      "Training:  22%|██████████████▌                                                    | 4281/19774 [00:28<01:42, 151.19it/s]\u001b[A\n",
      "Training:  22%|██████████████▌                                                    | 4297/19774 [00:28<01:43, 149.28it/s]\u001b[A\n",
      "Training:  22%|██████████████▌                                                    | 4312/19774 [00:28<01:45, 147.21it/s]\u001b[A\n",
      "Training:  22%|██████████████▋                                                    | 4328/19774 [00:29<01:42, 150.00it/s]\u001b[A\n",
      "Training:  22%|██████████████▋                                                    | 4344/19774 [00:29<01:42, 150.09it/s]\u001b[A\n",
      "Training:  22%|██████████████▊                                                    | 4360/19774 [00:29<01:42, 150.26it/s]\u001b[A\n",
      "Training:  22%|██████████████▊                                                    | 4376/19774 [00:29<01:40, 152.91it/s]\u001b[A\n",
      "Training:  22%|██████████████▉                                                    | 4393/19774 [00:29<01:37, 157.76it/s]\u001b[A\n",
      "Training:  22%|██████████████▉                                                    | 4409/19774 [00:29<01:39, 155.02it/s]\u001b[A\n",
      "Training:  22%|██████████████▉                                                    | 4426/19774 [00:29<01:38, 156.43it/s]\u001b[A\n",
      "Training:  22%|███████████████                                                    | 4442/19774 [00:29<01:38, 156.41it/s]\u001b[A\n",
      "Training:  23%|███████████████                                                    | 4458/19774 [00:29<01:38, 154.83it/s]\u001b[A\n",
      "Training:  23%|███████████████▏                                                   | 4474/19774 [00:30<01:39, 153.62it/s]\u001b[A\n",
      "Training:  23%|███████████████▏                                                   | 4490/19774 [00:30<01:43, 147.37it/s]\u001b[A\n",
      "Training:  23%|███████████████▎                                                   | 4508/19774 [00:30<01:38, 155.14it/s]\u001b[A\n",
      "Training:  23%|███████████████▎                                                   | 4524/19774 [00:30<01:39, 152.51it/s]\u001b[A\n",
      "Training:  23%|███████████████▍                                                   | 4540/19774 [00:30<01:43, 147.13it/s]\u001b[A\n",
      "Training:  23%|███████████████▍                                                   | 4557/19774 [00:30<01:39, 152.23it/s]\u001b[A\n",
      "Training:  23%|███████████████▍                                                   | 4574/19774 [00:30<01:37, 156.11it/s]\u001b[A\n",
      "Training:  23%|███████████████▌                                                   | 4590/19774 [00:30<01:36, 156.82it/s]\u001b[A\n",
      "Training:  23%|███████████████▌                                                   | 4606/19774 [00:30<01:37, 155.41it/s]\u001b[A\n",
      "Training:  23%|███████████████▋                                                   | 4622/19774 [00:31<01:41, 149.06it/s]\u001b[A\n",
      "Training:  23%|███████████████▋                                                   | 4637/19774 [00:31<01:43, 146.64it/s]\u001b[A\n",
      "Training:  24%|███████████████▊                                                   | 4652/19774 [00:31<01:45, 143.01it/s]\u001b[A\n",
      "Training:  24%|███████████████▊                                                   | 4667/19774 [00:31<01:45, 143.38it/s]\u001b[A\n",
      "Training:  24%|███████████████▊                                                   | 4682/19774 [00:31<01:46, 141.62it/s]\u001b[A\n",
      "Training:  24%|███████████████▉                                                   | 4698/19774 [00:31<01:43, 145.29it/s]\u001b[A\n",
      "Training:  24%|███████████████▉                                                   | 4714/19774 [00:31<01:42, 146.52it/s]\u001b[A\n",
      "Training:  24%|████████████████                                                   | 4729/19774 [00:31<01:42, 146.93it/s]\u001b[A\n",
      "Training:  24%|████████████████                                                   | 4744/19774 [00:31<01:43, 144.64it/s]\u001b[A\n",
      "Training:  24%|████████████████                                                   | 4759/19774 [00:31<01:42, 145.88it/s]\u001b[A\n",
      "Training:  24%|████████████████▏                                                  | 4774/19774 [00:32<01:44, 143.68it/s]\u001b[A\n",
      "Training:  24%|████████████████▏                                                  | 4789/19774 [00:32<01:43, 144.23it/s]\u001b[A\n",
      "Training:  24%|████████████████▎                                                  | 4804/19774 [00:32<01:42, 145.59it/s]\u001b[A\n",
      "Training:  24%|████████████████▎                                                  | 4819/19774 [00:32<01:42, 145.74it/s]\u001b[A\n",
      "Training:  24%|████████████████▍                                                  | 4834/19774 [00:32<01:44, 143.44it/s]\u001b[A\n",
      "Training:  25%|████████████████▍                                                  | 4849/19774 [00:32<01:43, 144.25it/s]\u001b[A\n",
      "Training:  25%|████████████████▍                                                  | 4864/19774 [00:32<01:42, 145.09it/s]\u001b[A\n",
      "Training:  25%|████████████████▌                                                  | 4879/19774 [00:32<01:43, 144.37it/s]\u001b[A\n",
      "Training:  25%|████████████████▌                                                  | 4894/19774 [00:32<01:42, 145.55it/s]\u001b[A\n",
      "Training:  25%|████████████████▋                                                  | 4909/19774 [00:33<01:43, 144.24it/s]\u001b[A\n",
      "Training:  25%|████████████████▋                                                  | 4924/19774 [00:33<01:42, 144.56it/s]\u001b[A\n",
      "Training:  25%|████████████████▋                                                  | 4939/19774 [00:33<01:42, 144.77it/s]\u001b[A\n",
      "Training:  25%|████████████████▊                                                  | 4954/19774 [00:33<01:45, 140.82it/s]\u001b[A\n",
      "Training:  25%|████████████████▊                                                  | 4969/19774 [00:33<01:45, 140.18it/s]\u001b[A\n",
      "Training:  25%|████████████████▉                                                  | 4984/19774 [00:33<01:45, 140.51it/s]\u001b[A\n",
      "Training:  25%|████████████████▉                                                  | 5001/19774 [00:33<01:39, 148.74it/s]\u001b[A\n",
      "Training:  25%|████████████████▉                                                  | 5016/19774 [00:33<01:46, 139.07it/s]\u001b[A\n",
      "Training:  25%|█████████████████                                                  | 5032/19774 [00:33<01:42, 144.28it/s]\u001b[A\n",
      "Training:  26%|█████████████████                                                  | 5048/19774 [00:33<01:40, 146.90it/s]\u001b[A\n",
      "Training:  26%|█████████████████▏                                                 | 5065/19774 [00:34<01:36, 151.82it/s]\u001b[A\n",
      "Training:  26%|█████████████████▏                                                 | 5081/19774 [00:34<01:37, 150.56it/s]\u001b[A\n",
      "Training:  26%|█████████████████▎                                                 | 5097/19774 [00:34<01:37, 150.93it/s]\u001b[A\n",
      "Training:  26%|█████████████████▎                                                 | 5113/19774 [00:34<01:38, 148.85it/s]\u001b[A\n",
      "Training:  26%|█████████████████▍                                                 | 5128/19774 [00:34<01:38, 147.97it/s]\u001b[A\n",
      "Training:  26%|█████████████████▍                                                 | 5145/19774 [00:34<01:35, 153.00it/s]\u001b[A\n",
      "Training:  26%|█████████████████▍                                                 | 5162/19774 [00:34<01:33, 155.74it/s]\u001b[A\n",
      "Training:  26%|█████████████████▌                                                 | 5178/19774 [00:34<01:34, 155.15it/s]\u001b[A\n",
      "Training:  26%|█████████████████▌                                                 | 5194/19774 [00:34<01:34, 154.50it/s]\u001b[A\n",
      "Training:  26%|█████████████████▋                                                 | 5210/19774 [00:35<01:35, 152.79it/s]\u001b[A\n",
      "Training:  26%|█████████████████▋                                                 | 5226/19774 [00:35<01:34, 153.29it/s]\u001b[A\n",
      "Training:  27%|█████████████████▊                                                 | 5242/19774 [00:35<01:35, 151.39it/s]\u001b[A\n",
      "Training:  27%|█████████████████▊                                                 | 5258/19774 [00:35<01:34, 153.04it/s]\u001b[A\n",
      "Training:  27%|█████████████████▊                                                 | 5274/19774 [00:35<01:37, 148.72it/s]\u001b[A\n",
      "Training:  27%|█████████████████▉                                                 | 5290/19774 [00:35<01:35, 151.74it/s]\u001b[A\n",
      "Training:  27%|█████████████████▉                                                 | 5306/19774 [00:35<01:38, 147.16it/s]\u001b[A\n",
      "Training:  27%|██████████████████                                                 | 5321/19774 [00:35<01:39, 144.67it/s]\u001b[A\n",
      "Training:  27%|██████████████████                                                 | 5337/19774 [00:35<01:38, 146.45it/s]\u001b[A\n",
      "Training:  27%|██████████████████▏                                                | 5352/19774 [00:35<01:38, 146.54it/s]\u001b[A\n",
      "Training:  27%|██████████████████▏                                                | 5367/19774 [00:36<01:38, 146.73it/s]\u001b[A\n",
      "Training:  27%|██████████████████▏                                                | 5383/19774 [00:36<01:36, 148.97it/s]\u001b[A\n",
      "Training:  27%|██████████████████▎                                                | 5399/19774 [00:36<01:34, 152.09it/s]\u001b[A\n",
      "Training:  27%|██████████████████▎                                                | 5416/19774 [00:36<01:31, 156.82it/s]\u001b[A\n",
      "Training:  27%|██████████████████▍                                                | 5432/19774 [00:36<01:32, 155.31it/s]\u001b[A\n",
      "Training:  28%|██████████████████▍                                                | 5448/19774 [00:36<01:33, 152.62it/s]\u001b[A\n",
      "Training:  28%|██████████████████▌                                                | 5464/19774 [00:36<01:35, 149.61it/s]\u001b[A\n",
      "Training:  28%|██████████████████▌                                                | 5480/19774 [00:36<01:33, 152.47it/s]\u001b[A\n",
      "Training:  28%|██████████████████▌                                                | 5496/19774 [00:36<01:33, 152.72it/s]\u001b[A\n",
      "Training:  28%|██████████████████▋                                                | 5512/19774 [00:37<01:35, 149.49it/s]\u001b[A\n",
      "Training:  28%|██████████████████▋                                                | 5528/19774 [00:37<01:34, 150.46it/s]\u001b[A\n",
      "Training:  28%|██████████████████▊                                                | 5544/19774 [00:37<01:35, 148.87it/s]\u001b[A\n",
      "Training:  28%|██████████████████▊                                                | 5559/19774 [00:37<01:35, 148.70it/s]\u001b[A\n",
      "Training:  28%|██████████████████▉                                                | 5576/19774 [00:37<01:32, 154.19it/s]\u001b[A\n",
      "Training:  28%|██████████████████▉                                                | 5593/19774 [00:37<01:30, 157.36it/s]\u001b[A\n",
      "Training:  28%|███████████████████                                                | 5609/19774 [00:37<01:32, 152.84it/s]\u001b[A\n",
      "Training:  28%|███████████████████                                                | 5626/19774 [00:37<01:30, 155.53it/s]\u001b[A\n",
      "Training:  29%|███████████████████                                                | 5642/19774 [00:37<01:36, 146.02it/s]\u001b[A\n",
      "Training:  29%|███████████████████▏                                               | 5657/19774 [00:38<01:38, 143.13it/s]\u001b[A\n",
      "Training:  29%|███████████████████▏                                               | 5674/19774 [00:38<01:34, 149.03it/s]\u001b[A\n",
      "Training:  29%|███████████████████▎                                               | 5690/19774 [00:38<01:33, 149.96it/s]\u001b[A\n",
      "Training:  29%|███████████████████▎                                               | 5708/19774 [00:38<01:28, 158.22it/s]\u001b[A\n",
      "Training:  29%|███████████████████▍                                               | 5724/19774 [00:38<01:28, 158.54it/s]\u001b[A\n",
      "Training:  29%|███████████████████▍                                               | 5741/19774 [00:38<01:27, 159.90it/s]\u001b[A\n",
      "Training:  29%|███████████████████▌                                               | 5759/19774 [00:38<01:24, 164.93it/s]\u001b[A\n",
      "Training:  29%|███████████████████▌                                               | 5776/19774 [00:38<01:26, 161.73it/s]\u001b[A\n",
      "Training:  29%|███████████████████▋                                               | 5793/19774 [00:38<01:29, 155.79it/s]\u001b[A\n",
      "Training:  29%|███████████████████▋                                               | 5809/19774 [00:38<01:32, 151.06it/s]\u001b[A\n",
      "Training:  29%|███████████████████▋                                               | 5825/19774 [00:39<01:32, 151.29it/s]\u001b[A\n",
      "Training:  30%|███████████████████▊                                               | 5841/19774 [00:39<01:31, 152.90it/s]\u001b[A\n",
      "Training:  30%|███████████████████▊                                               | 5859/19774 [00:39<01:28, 157.87it/s]\u001b[A\n",
      "Training:  30%|███████████████████▉                                               | 5875/19774 [00:39<01:28, 157.68it/s]\u001b[A\n",
      "Training:  30%|███████████████████▉                                               | 5891/19774 [00:39<01:28, 156.61it/s]\u001b[A\n",
      "Training:  30%|████████████████████                                               | 5907/19774 [00:39<01:28, 156.27it/s]\u001b[A\n",
      "Training:  30%|████████████████████                                               | 5923/19774 [00:39<01:28, 155.95it/s]\u001b[A\n",
      "Training:  30%|████████████████████                                               | 5939/19774 [00:39<01:30, 153.45it/s]\u001b[A\n",
      "Training:  30%|████████████████████▏                                              | 5955/19774 [00:39<01:30, 153.07it/s]\u001b[A\n",
      "Training:  30%|████████████████████▏                                              | 5972/19774 [00:40<01:27, 157.25it/s]\u001b[A\n",
      "Training:  30%|████████████████████▎                                              | 5989/19774 [00:40<01:25, 160.45it/s]\u001b[A\n",
      "Training:  30%|████████████████████▎                                              | 6006/19774 [00:40<01:30, 151.91it/s]\u001b[A\n",
      "Training:  30%|████████████████████▍                                              | 6022/19774 [00:40<01:31, 151.03it/s]\u001b[A\n",
      "Training:  31%|████████████████████▍                                              | 6038/19774 [00:40<01:30, 151.60it/s]\u001b[A\n",
      "Training:  31%|████████████████████▌                                              | 6054/19774 [00:40<01:29, 153.06it/s]\u001b[A\n",
      "Training:  31%|████████████████████▌                                              | 6070/19774 [00:40<01:29, 153.29it/s]\u001b[A\n",
      "Training:  31%|████████████████████▌                                              | 6087/19774 [00:40<01:26, 157.87it/s]\u001b[A\n",
      "Training:  31%|████████████████████▋                                              | 6104/19774 [00:40<01:25, 159.61it/s]\u001b[A\n",
      "Training:  31%|████████████████████▋                                              | 6122/19774 [00:40<01:23, 163.60it/s]\u001b[A\n",
      "Training:  31%|████████████████████▊                                              | 6139/19774 [00:41<01:25, 159.39it/s]\u001b[A\n",
      "Training:  31%|████████████████████▊                                              | 6155/19774 [00:41<01:28, 153.74it/s]\u001b[A\n",
      "Training:  31%|████████████████████▉                                              | 6171/19774 [00:41<01:29, 151.92it/s]\u001b[A\n",
      "Training:  31%|████████████████████▉                                              | 6187/19774 [00:41<01:31, 148.34it/s]\u001b[A\n",
      "Training:  31%|█████████████████████                                              | 6202/19774 [00:41<01:31, 148.35it/s]\u001b[A\n",
      "Training:  31%|█████████████████████                                              | 6217/19774 [00:41<01:31, 148.49it/s]\u001b[A\n",
      "Training:  32%|█████████████████████                                              | 6232/19774 [00:41<01:31, 148.01it/s]\u001b[A\n",
      "Training:  32%|█████████████████████▏                                             | 6248/19774 [00:41<01:29, 151.04it/s]\u001b[A\n",
      "Training:  32%|█████████████████████▏                                             | 6264/19774 [00:41<01:35, 141.18it/s]\u001b[A\n",
      "Training:  32%|█████████████████████▎                                             | 6279/19774 [00:42<01:36, 140.33it/s]\u001b[A\n",
      "Training:  32%|█████████████████████▎                                             | 6294/19774 [00:42<01:37, 138.73it/s]\u001b[A\n",
      "Training:  32%|█████████████████████▍                                             | 6309/19774 [00:42<01:35, 141.71it/s]\u001b[A\n",
      "Training:  32%|█████████████████████▍                                             | 6326/19774 [00:42<01:29, 149.44it/s]\u001b[A\n",
      "Training:  32%|█████████████████████▍                                             | 6343/19774 [00:42<01:26, 154.51it/s]\u001b[A\n",
      "Training:  32%|█████████████████████▌                                             | 6360/19774 [00:42<01:25, 156.89it/s]\u001b[A\n",
      "Training:  32%|█████████████████████▌                                             | 6376/19774 [00:42<01:24, 157.76it/s]\u001b[A\n",
      "Training:  32%|█████████████████████▋                                             | 6392/19774 [00:42<01:25, 156.50it/s]\u001b[A\n",
      "Training:  32%|█████████████████████▋                                             | 6408/19774 [00:42<01:28, 150.42it/s]\u001b[A\n",
      "Training:  32%|█████████████████████▊                                             | 6424/19774 [00:43<01:27, 152.44it/s]\u001b[A\n",
      "Training:  33%|█████████████████████▊                                             | 6441/19774 [00:43<01:25, 156.03it/s]\u001b[A\n",
      "Training:  33%|█████████████████████▉                                             | 6457/19774 [00:43<01:24, 156.78it/s]\u001b[A\n",
      "Training:  33%|█████████████████████▉                                             | 6476/19774 [00:43<01:21, 163.62it/s]\u001b[A\n",
      "Training:  33%|██████████████████████                                             | 6493/19774 [00:43<01:20, 165.39it/s]\u001b[A\n",
      "Training:  33%|██████████████████████                                             | 6510/19774 [00:43<01:22, 161.68it/s]\u001b[A\n",
      "Training:  33%|██████████████████████                                             | 6527/19774 [00:43<01:24, 156.73it/s]\u001b[A\n",
      "Training:  33%|██████████████████████▏                                            | 6543/19774 [00:43<01:26, 153.50it/s]\u001b[A\n",
      "Training:  33%|██████████████████████▏                                            | 6560/19774 [00:43<01:24, 156.81it/s]\u001b[A\n",
      "Training:  33%|██████████████████████▎                                            | 6577/19774 [00:43<01:23, 158.49it/s]\u001b[A\n",
      "Training:  33%|██████████████████████▎                                            | 6595/19774 [00:44<01:20, 162.97it/s]\u001b[A\n",
      "Training:  33%|██████████████████████▍                                            | 6612/19774 [00:44<01:22, 158.86it/s]\u001b[A\n",
      "Training:  34%|██████████████████████▍                                            | 6629/19774 [00:44<01:22, 159.32it/s]\u001b[A\n",
      "Training:  34%|██████████████████████▌                                            | 6645/19774 [00:44<01:23, 156.87it/s]\u001b[A\n",
      "Training:  34%|██████████████████████▌                                            | 6661/19774 [00:44<01:25, 152.67it/s]\u001b[A\n",
      "Training:  34%|██████████████████████▌                                            | 6677/19774 [00:44<01:26, 151.49it/s]\u001b[A\n",
      "Training:  34%|██████████████████████▋                                            | 6693/19774 [00:44<01:26, 151.97it/s]\u001b[A\n",
      "Training:  34%|██████████████████████▋                                            | 6711/19774 [00:44<01:22, 157.73it/s]\u001b[A\n",
      "Training:  34%|██████████████████████▊                                            | 6729/19774 [00:44<01:20, 162.99it/s]\u001b[A\n",
      "Training:  34%|██████████████████████▊                                            | 6746/19774 [00:45<01:20, 162.44it/s]\u001b[A\n",
      "Training:  34%|██████████████████████▉                                            | 6764/19774 [00:45<01:18, 165.66it/s]\u001b[A\n",
      "Training:  34%|██████████████████████▉                                            | 6782/19774 [00:45<01:17, 168.52it/s]\u001b[A\n",
      "Training:  34%|███████████████████████                                            | 6799/19774 [00:45<01:20, 161.25it/s]\u001b[A\n",
      "Training:  34%|███████████████████████                                            | 6816/19774 [00:45<01:20, 160.00it/s]\u001b[A\n",
      "Training:  35%|███████████████████████▏                                           | 6833/19774 [00:45<01:24, 152.56it/s]\u001b[A\n",
      "Training:  35%|███████████████████████▏                                           | 6849/19774 [00:45<01:25, 150.63it/s]\u001b[A\n",
      "Training:  35%|███████████████████████▎                                           | 6865/19774 [00:45<01:32, 140.31it/s]\u001b[A\n",
      "Training:  35%|███████████████████████▎                                           | 6880/19774 [00:45<01:35, 134.53it/s]\u001b[A\n",
      "Training:  35%|███████████████████████▎                                           | 6895/19774 [00:46<01:34, 136.98it/s]\u001b[A\n",
      "Training:  35%|███████████████████████▍                                           | 6911/19774 [00:46<01:30, 141.60it/s]\u001b[A\n",
      "Training:  35%|███████████████████████▍                                           | 6926/19774 [00:46<01:30, 142.51it/s]\u001b[A\n",
      "Training:  35%|███████████████████████▌                                           | 6943/19774 [00:46<01:25, 149.23it/s]\u001b[A\n",
      "Training:  35%|███████████████████████▌                                           | 6960/19774 [00:46<01:23, 153.04it/s]\u001b[A\n",
      "Training:  35%|███████████████████████▋                                           | 6976/19774 [00:46<01:24, 152.24it/s]\u001b[A\n",
      "Training:  35%|███████████████████████▋                                           | 6992/19774 [00:46<01:24, 150.64it/s]\u001b[A\n",
      "Training:  35%|███████████████████████▋                                           | 7008/19774 [00:46<01:25, 148.53it/s]\u001b[A\n",
      "Training:  36%|███████████████████████▊                                           | 7026/19774 [00:46<01:22, 155.29it/s]\u001b[A\n",
      "Training:  36%|███████████████████████▊                                           | 7043/19774 [00:47<01:20, 157.74it/s]\u001b[A\n",
      "Training:  36%|███████████████████████▉                                           | 7059/19774 [00:47<01:21, 156.47it/s]\u001b[A\n",
      "Training:  36%|███████████████████████▉                                           | 7075/19774 [00:47<01:23, 151.61it/s]\u001b[A\n",
      "Training:  36%|████████████████████████                                           | 7091/19774 [00:47<01:24, 150.27it/s]\u001b[A\n",
      "Training:  36%|████████████████████████                                           | 7107/19774 [00:47<01:25, 147.52it/s]\u001b[A\n",
      "Training:  36%|████████████████████████▏                                          | 7123/19774 [00:47<01:25, 148.70it/s]\u001b[A\n",
      "Training:  36%|████████████████████████▏                                          | 7138/19774 [00:47<01:25, 148.44it/s]\u001b[A\n",
      "Training:  36%|████████████████████████▏                                          | 7154/19774 [00:47<01:24, 149.66it/s]\u001b[A\n",
      "Training:  36%|████████████████████████▎                                          | 7171/19774 [00:47<01:21, 154.86it/s]\u001b[A\n",
      "Training:  36%|████████████████████████▎                                          | 7188/19774 [00:47<01:20, 156.53it/s]\u001b[A\n",
      "Training:  36%|████████████████████████▍                                          | 7204/19774 [00:48<01:21, 153.65it/s]\u001b[A\n",
      "Training:  37%|████████████████████████▍                                          | 7220/19774 [00:48<01:21, 154.55it/s]\u001b[A\n",
      "Training:  37%|████████████████████████▌                                          | 7236/19774 [00:48<01:22, 152.69it/s]\u001b[A\n",
      "Training:  37%|████████████████████████▌                                          | 7252/19774 [00:48<01:21, 153.10it/s]\u001b[A\n",
      "Training:  37%|████████████████████████▋                                          | 7268/19774 [00:48<01:23, 149.97it/s]\u001b[A\n",
      "Training:  37%|████████████████████████▋                                          | 7284/19774 [00:48<01:24, 148.56it/s]\u001b[A\n",
      "Training:  37%|████████████████████████▋                                          | 7300/19774 [00:48<01:23, 149.11it/s]\u001b[A\n",
      "Training:  37%|████████████████████████▊                                          | 7315/19774 [00:48<01:23, 148.63it/s]\u001b[A\n",
      "Training:  37%|████████████████████████▊                                          | 7330/19774 [00:48<01:25, 145.61it/s]\u001b[A\n",
      "Training:  37%|████████████████████████▉                                          | 7345/19774 [00:49<01:25, 145.02it/s]\u001b[A\n",
      "Training:  37%|████████████████████████▉                                          | 7362/19774 [00:49<01:22, 149.97it/s]\u001b[A\n",
      "Training:  37%|████████████████████████▉                                          | 7378/19774 [00:49<01:25, 144.66it/s]\u001b[A\n",
      "Training:  37%|█████████████████████████                                          | 7393/19774 [00:49<01:28, 140.67it/s]\u001b[A\n",
      "Training:  37%|█████████████████████████                                          | 7408/19774 [00:49<01:26, 143.19it/s]\u001b[A\n",
      "Training:  38%|█████████████████████████▏                                         | 7424/19774 [00:49<01:24, 146.95it/s]\u001b[A\n",
      "Training:  38%|█████████████████████████▏                                         | 7439/19774 [00:49<01:25, 144.09it/s]\u001b[A\n",
      "Training:  38%|█████████████████████████▎                                         | 7456/19774 [00:49<01:22, 150.02it/s]\u001b[A\n",
      "Training:  38%|█████████████████████████▎                                         | 7472/19774 [00:49<01:23, 148.11it/s]\u001b[A\n",
      "Training:  38%|█████████████████████████▎                                         | 7488/19774 [00:49<01:21, 150.84it/s]\u001b[A\n",
      "Training:  38%|█████████████████████████▍                                         | 7504/19774 [00:50<01:21, 150.97it/s]\u001b[A\n",
      "Training:  38%|█████████████████████████▍                                         | 7520/19774 [00:50<01:23, 146.18it/s]\u001b[A\n",
      "Training:  38%|█████████████████████████▌                                         | 7536/19774 [00:50<01:21, 149.63it/s]\u001b[A\n",
      "Training:  38%|█████████████████████████▌                                         | 7552/19774 [00:50<01:24, 145.09it/s]\u001b[A\n",
      "Training:  38%|█████████████████████████▋                                         | 7567/19774 [00:50<01:24, 145.06it/s]\u001b[A\n",
      "Training:  38%|█████████████████████████▋                                         | 7582/19774 [00:50<01:23, 145.20it/s]\u001b[A\n",
      "Training:  38%|█████████████████████████▋                                         | 7597/19774 [00:50<01:23, 145.83it/s]\u001b[A\n",
      "Training:  38%|█████████████████████████▊                                         | 7612/19774 [00:50<01:23, 146.24it/s]\u001b[A\n",
      "Training:  39%|█████████████████████████▊                                         | 7627/19774 [00:50<01:23, 145.10it/s]\u001b[A\n",
      "Training:  39%|█████████████████████████▉                                         | 7642/19774 [00:51<01:25, 142.04it/s]\u001b[A\n",
      "Training:  39%|█████████████████████████▉                                         | 7657/19774 [00:51<01:27, 138.13it/s]\u001b[A\n",
      "Training:  39%|█████████████████████████▉                                         | 7673/19774 [00:51<01:24, 143.41it/s]\u001b[A\n",
      "Training:  39%|██████████████████████████                                         | 7688/19774 [00:51<01:24, 143.06it/s]\u001b[A\n",
      "Training:  39%|██████████████████████████                                         | 7705/19774 [00:51<01:21, 148.47it/s]\u001b[A\n",
      "Training:  39%|██████████████████████████▏                                        | 7721/19774 [00:51<01:19, 151.22it/s]\u001b[A\n",
      "Training:  39%|██████████████████████████▏                                        | 7737/19774 [00:51<01:19, 152.00it/s]\u001b[A\n",
      "Training:  39%|██████████████████████████▎                                        | 7753/19774 [00:51<01:22, 146.26it/s]\u001b[A\n",
      "Training:  39%|██████████████████████████▎                                        | 7769/19774 [00:51<01:20, 149.08it/s]\u001b[A\n",
      "Training:  39%|██████████████████████████▍                                        | 7786/19774 [00:52<01:18, 152.86it/s]\u001b[A\n",
      "Training:  39%|██████████████████████████▍                                        | 7802/19774 [00:52<01:19, 151.05it/s]\u001b[A\n",
      "Training:  40%|██████████████████████████▍                                        | 7818/19774 [00:52<01:20, 149.39it/s]\u001b[A\n",
      "Training:  40%|██████████████████████████▌                                        | 7833/19774 [00:52<01:21, 145.93it/s]\u001b[A\n",
      "Training:  40%|██████████████████████████▌                                        | 7848/19774 [00:52<01:22, 143.88it/s]\u001b[A\n",
      "Training:  40%|██████████████████████████▋                                        | 7863/19774 [00:52<01:21, 145.52it/s]\u001b[A\n",
      "Training:  40%|██████████████████████████▋                                        | 7878/19774 [00:52<01:24, 140.42it/s]\u001b[A\n",
      "Training:  40%|██████████████████████████▋                                        | 7893/19774 [00:52<01:24, 139.97it/s]\u001b[A\n",
      "Training:  40%|██████████████████████████▊                                        | 7908/19774 [00:52<01:23, 141.30it/s]\u001b[A\n",
      "Training:  40%|██████████████████████████▊                                        | 7923/19774 [00:52<01:22, 142.91it/s]\u001b[A\n",
      "Training:  40%|██████████████████████████▉                                        | 7938/19774 [00:53<01:22, 143.25it/s]\u001b[A\n",
      "Training:  40%|██████████████████████████▉                                        | 7954/19774 [00:53<01:20, 146.74it/s]\u001b[A\n",
      "Training:  40%|███████████████████████████                                        | 7970/19774 [00:53<01:19, 148.99it/s]\u001b[A\n",
      "Training:  40%|███████████████████████████                                        | 7985/19774 [00:53<01:19, 149.00it/s]\u001b[A\n",
      "Training:  40%|███████████████████████████                                        | 8001/19774 [00:53<01:18, 150.66it/s]\u001b[A\n",
      "Training:  41%|███████████████████████████▏                                       | 8017/19774 [00:53<01:19, 147.70it/s]\u001b[A\n",
      "Training:  41%|███████████████████████████▏                                       | 8033/19774 [00:53<01:17, 150.70it/s]\u001b[A\n",
      "Training:  41%|███████████████████████████▎                                       | 8049/19774 [00:53<01:17, 150.72it/s]\u001b[A\n",
      "Training:  41%|███████████████████████████▎                                       | 8065/19774 [00:53<01:17, 150.52it/s]\u001b[A\n",
      "Training:  41%|███████████████████████████▍                                       | 8081/19774 [00:54<01:16, 152.45it/s]\u001b[A\n",
      "Training:  41%|███████████████████████████▍                                       | 8097/19774 [00:54<01:17, 150.94it/s]\u001b[A\n",
      "Training:  41%|███████████████████████████▍                                       | 8113/19774 [00:54<01:18, 149.03it/s]\u001b[A\n",
      "Training:  41%|███████████████████████████▌                                       | 8128/19774 [00:54<01:19, 146.67it/s]\u001b[A\n",
      "Training:  41%|███████████████████████████▌                                       | 8143/19774 [00:54<01:19, 145.97it/s]\u001b[A\n",
      "Training:  41%|███████████████████████████▋                                       | 8159/19774 [00:54<01:17, 149.74it/s]\u001b[A\n",
      "Training:  41%|███████████████████████████▋                                       | 8175/19774 [00:54<01:16, 151.23it/s]\u001b[A\n",
      "Training:  41%|███████████████████████████▊                                       | 8191/19774 [00:54<01:17, 148.81it/s]\u001b[A\n",
      "Training:  42%|███████████████████████████▊                                       | 8207/19774 [00:54<01:16, 150.99it/s]\u001b[A\n",
      "Training:  42%|███████████████████████████▊                                       | 8223/19774 [00:54<01:15, 152.65it/s]\u001b[A\n",
      "Training:  42%|███████████████████████████▉                                       | 8239/19774 [00:55<01:15, 153.43it/s]\u001b[A\n",
      "Training:  42%|███████████████████████████▉                                       | 8255/19774 [00:55<01:17, 149.49it/s]\u001b[A\n",
      "Training:  42%|████████████████████████████                                       | 8270/19774 [00:55<01:17, 148.20it/s]\u001b[A\n",
      "Training:  42%|████████████████████████████                                       | 8285/19774 [00:55<01:18, 146.78it/s]\u001b[A\n",
      "Training:  42%|████████████████████████████                                       | 8300/19774 [00:55<01:20, 142.38it/s]\u001b[A\n",
      "Training:  42%|████████████████████████████▏                                      | 8315/19774 [00:55<01:21, 140.31it/s]\u001b[A\n",
      "Training:  42%|████████████████████████████▏                                      | 8330/19774 [00:55<01:24, 135.41it/s]\u001b[A\n",
      "Training:  42%|████████████████████████████▎                                      | 8346/19774 [00:55<01:20, 141.32it/s]\u001b[A\n",
      "Training:  42%|████████████████████████████▎                                      | 8361/19774 [00:55<01:19, 143.68it/s]\u001b[A\n",
      "Training:  42%|████████████████████████████▍                                      | 8376/19774 [00:56<01:18, 144.46it/s]\u001b[A\n",
      "Training:  42%|████████████████████████████▍                                      | 8392/19774 [00:56<01:16, 148.22it/s]\u001b[A\n",
      "Training:  43%|████████████████████████████▍                                      | 8409/19774 [00:56<01:14, 152.01it/s]\u001b[A\n",
      "Training:  43%|████████████████████████████▌                                      | 8425/19774 [00:56<01:15, 149.60it/s]\u001b[A\n",
      "Training:  43%|████████████████████████████▌                                      | 8440/19774 [00:56<01:16, 147.84it/s]\u001b[A\n",
      "Training:  43%|████████████████████████████▋                                      | 8455/19774 [00:56<01:19, 143.01it/s]\u001b[A\n",
      "Training:  43%|████████████████████████████▋                                      | 8470/19774 [00:56<01:18, 143.15it/s]\u001b[A\n",
      "Training:  43%|████████████████████████████▊                                      | 8486/19774 [00:56<01:17, 146.25it/s]\u001b[A\n",
      "Training:  43%|████████████████████████████▊                                      | 8503/19774 [00:56<01:13, 152.80it/s]\u001b[A\n",
      "Training:  43%|████████████████████████████▊                                      | 8519/19774 [00:57<01:13, 153.80it/s]\u001b[A\n",
      "Training:  43%|████████████████████████████▉                                      | 8535/19774 [00:57<01:13, 153.72it/s]\u001b[A\n",
      "Training:  43%|████████████████████████████▉                                      | 8551/19774 [00:57<01:12, 154.36it/s]\u001b[A\n",
      "Training:  43%|█████████████████████████████                                      | 8567/19774 [00:57<01:13, 152.41it/s]\u001b[A\n",
      "Training:  43%|█████████████████████████████                                      | 8584/19774 [00:57<01:12, 155.27it/s]\u001b[A\n",
      "Training:  43%|█████████████████████████████▏                                     | 8600/19774 [00:57<01:13, 152.65it/s]\u001b[A\n",
      "Training:  44%|█████████████████████████████▏                                     | 8617/19774 [00:57<01:11, 155.85it/s]\u001b[A\n",
      "Training:  44%|█████████████████████████████▎                                     | 8633/19774 [00:57<01:12, 154.25it/s]\u001b[A\n",
      "Training:  44%|█████████████████████████████▎                                     | 8649/19774 [00:57<01:13, 150.48it/s]\u001b[A\n",
      "Training:  44%|█████████████████████████████▎                                     | 8665/19774 [00:57<01:14, 148.51it/s]\u001b[A\n",
      "Training:  44%|█████████████████████████████▍                                     | 8680/19774 [00:58<01:20, 137.56it/s]\u001b[A\n",
      "Training:  44%|█████████████████████████████▍                                     | 8695/19774 [00:58<01:19, 139.23it/s]\u001b[A\n",
      "Training:  44%|█████████████████████████████▌                                     | 8710/19774 [00:58<01:18, 141.36it/s]\u001b[A\n",
      "Training:  44%|█████████████████████████████▌                                     | 8726/19774 [00:58<01:16, 145.14it/s]\u001b[A\n",
      "Training:  44%|█████████████████████████████▌                                     | 8741/19774 [00:58<01:16, 144.32it/s]\u001b[A\n",
      "Training:  44%|█████████████████████████████▋                                     | 8756/19774 [00:58<01:16, 144.68it/s]\u001b[A\n",
      "Training:  44%|█████████████████████████████▋                                     | 8771/19774 [00:58<01:17, 142.80it/s]\u001b[A\n",
      "Training:  44%|█████████████████████████████▊                                     | 8786/19774 [00:58<01:15, 144.79it/s]\u001b[A\n",
      "Training:  45%|█████████████████████████████▊                                     | 8802/19774 [00:58<01:14, 146.64it/s]\u001b[A\n",
      "Training:  45%|█████████████████████████████▉                                     | 8818/19774 [00:59<01:14, 147.76it/s]\u001b[A\n",
      "Training:  45%|█████████████████████████████▉                                     | 8833/19774 [00:59<01:14, 146.91it/s]\u001b[A\n",
      "Training:  45%|█████████████████████████████▉                                     | 8849/19774 [00:59<01:12, 149.67it/s]\u001b[A\n",
      "Training:  45%|██████████████████████████████                                     | 8864/19774 [00:59<01:14, 146.04it/s]\u001b[A\n",
      "Training:  45%|██████████████████████████████                                     | 8879/19774 [00:59<01:14, 145.97it/s]\u001b[A\n",
      "Training:  45%|██████████████████████████████▏                                    | 8894/19774 [00:59<01:16, 142.77it/s]\u001b[A\n",
      "Training:  45%|██████████████████████████████▏                                    | 8909/19774 [00:59<01:16, 142.14it/s]\u001b[A\n",
      "Training:  45%|██████████████████████████████▏                                    | 8924/19774 [00:59<01:15, 143.08it/s]\u001b[A\n",
      "Training:  45%|██████████████████████████████▎                                    | 8939/19774 [00:59<01:18, 137.69it/s]\u001b[A\n",
      "Training:  45%|██████████████████████████████▎                                    | 8954/19774 [00:59<01:16, 141.09it/s]\u001b[A\n",
      "Training:  45%|██████████████████████████████▍                                    | 8970/19774 [01:00<01:14, 144.14it/s]\u001b[A\n",
      "Training:  45%|██████████████████████████████▍                                    | 8986/19774 [01:00<01:13, 146.29it/s]\u001b[A\n",
      "Training:  46%|██████████████████████████████▍                                    | 9001/19774 [01:00<01:14, 144.52it/s]\u001b[A\n",
      "Training:  46%|██████████████████████████████▌                                    | 9016/19774 [01:00<01:15, 143.40it/s]\u001b[A\n",
      "Training:  46%|██████████████████████████████▌                                    | 9031/19774 [01:00<01:15, 142.79it/s]\u001b[A\n",
      "Training:  46%|██████████████████████████████▋                                    | 9047/19774 [01:00<01:14, 144.83it/s]\u001b[A\n",
      "Training:  46%|██████████████████████████████▋                                    | 9063/19774 [01:00<01:12, 148.51it/s]\u001b[A\n",
      "Training:  46%|██████████████████████████████▊                                    | 9078/19774 [01:00<01:14, 144.39it/s]\u001b[A\n",
      "Training:  46%|██████████████████████████████▊                                    | 9093/19774 [01:00<01:15, 142.29it/s]\u001b[A\n",
      "Training:  46%|██████████████████████████████▊                                    | 9108/19774 [01:01<01:14, 142.37it/s]\u001b[A\n",
      "Training:  46%|██████████████████████████████▉                                    | 9125/19774 [01:01<01:12, 147.40it/s]\u001b[A\n",
      "Training:  46%|██████████████████████████████▉                                    | 9140/19774 [01:01<01:12, 146.05it/s]\u001b[A\n",
      "Training:  46%|███████████████████████████████                                    | 9156/19774 [01:01<01:11, 149.45it/s]\u001b[A\n",
      "Training:  46%|███████████████████████████████                                    | 9171/19774 [01:01<01:11, 148.25it/s]\u001b[A\n",
      "Training:  46%|███████████████████████████████                                    | 9186/19774 [01:01<01:12, 146.05it/s]\u001b[A\n",
      "Training:  47%|███████████████████████████████▏                                   | 9201/19774 [01:01<01:12, 145.30it/s]\u001b[A\n",
      "Training:  47%|███████████████████████████████▏                                   | 9216/19774 [01:01<01:15, 139.90it/s]\u001b[A\n",
      "Training:  47%|███████████████████████████████▎                                   | 9231/19774 [01:01<01:14, 141.53it/s]\u001b[A\n",
      "Training:  47%|███████████████████████████████▎                                   | 9247/19774 [01:02<01:12, 146.19it/s]\u001b[A\n",
      "Training:  47%|███████████████████████████████▍                                   | 9262/19774 [01:02<01:11, 147.15it/s]\u001b[A\n",
      "Training:  47%|███████████████████████████████▍                                   | 9277/19774 [01:02<01:10, 147.86it/s]\u001b[A\n",
      "Training:  47%|███████████████████████████████▍                                   | 9292/19774 [01:02<01:12, 144.89it/s]\u001b[A\n",
      "Training:  47%|███████████████████████████████▌                                   | 9308/19774 [01:02<01:11, 147.35it/s]\u001b[A\n",
      "Training:  47%|███████████████████████████████▌                                   | 9324/19774 [01:02<01:09, 150.20it/s]\u001b[A\n",
      "Training:  47%|███████████████████████████████▋                                   | 9340/19774 [01:02<01:10, 148.56it/s]\u001b[A\n",
      "Training:  47%|███████████████████████████████▋                                   | 9356/19774 [01:02<01:09, 150.54it/s]\u001b[A\n",
      "Training:  47%|███████████████████████████████▊                                   | 9372/19774 [01:02<01:08, 151.01it/s]\u001b[A\n",
      "Training:  47%|███████████████████████████████▊                                   | 9388/19774 [01:02<01:11, 145.89it/s]\u001b[A\n",
      "Training:  48%|███████████████████████████████▊                                   | 9404/19774 [01:03<01:10, 148.05it/s]\u001b[A\n",
      "Training:  48%|███████████████████████████████▉                                   | 9419/19774 [01:03<01:10, 147.57it/s]\u001b[A\n",
      "Training:  48%|███████████████████████████████▉                                   | 9435/19774 [01:03<01:09, 148.59it/s]\u001b[A\n",
      "Training:  48%|████████████████████████████████                                   | 9450/19774 [01:03<01:10, 146.28it/s]\u001b[A\n",
      "Training:  48%|████████████████████████████████                                   | 9466/19774 [01:03<01:09, 147.41it/s]\u001b[A\n",
      "Training:  48%|████████████████████████████████                                   | 9481/19774 [01:03<01:11, 144.40it/s]\u001b[A\n",
      "Training:  48%|████████████████████████████████▏                                  | 9496/19774 [01:03<01:14, 138.24it/s]\u001b[A\n",
      "Training:  48%|████████████████████████████████▏                                  | 9511/19774 [01:03<01:12, 141.30it/s]\u001b[A\n",
      "Training:  48%|████████████████████████████████▎                                  | 9526/19774 [01:03<01:12, 141.99it/s]\u001b[A\n",
      "Training:  48%|████████████████████████████████▎                                  | 9541/19774 [01:04<01:11, 143.27it/s]\u001b[A\n",
      "Training:  48%|████████████████████████████████▍                                  | 9556/19774 [01:04<01:11, 142.59it/s]\u001b[A\n",
      "Training:  48%|████████████████████████████████▍                                  | 9571/19774 [01:04<01:11, 142.89it/s]\u001b[A\n",
      "Training:  48%|████████████████████████████████▍                                  | 9586/19774 [01:04<01:10, 144.06it/s]\u001b[A\n",
      "Training:  49%|████████████████████████████████▌                                  | 9601/19774 [01:04<01:09, 145.60it/s]\u001b[A\n",
      "Training:  49%|████████████████████████████████▌                                  | 9616/19774 [01:04<01:12, 140.72it/s]\u001b[A\n",
      "Training:  49%|████████████████████████████████▋                                  | 9632/19774 [01:04<01:10, 144.51it/s]\u001b[A\n",
      "Training:  49%|████████████████████████████████▋                                  | 9647/19774 [01:04<01:10, 143.36it/s]\u001b[A\n",
      "Training:  49%|████████████████████████████████▋                                  | 9662/19774 [01:04<01:10, 143.36it/s]\u001b[A\n",
      "Training:  49%|████████████████████████████████▊                                  | 9678/19774 [01:04<01:08, 147.11it/s]\u001b[A\n",
      "Training:  49%|████████████████████████████████▊                                  | 9694/19774 [01:05<01:06, 150.55it/s]\u001b[A\n",
      "Training:  49%|████████████████████████████████▉                                  | 9710/19774 [01:05<01:07, 149.55it/s]\u001b[A\n",
      "Training:  49%|████████████████████████████████▉                                  | 9725/19774 [01:05<01:09, 144.84it/s]\u001b[A\n",
      "Training:  49%|█████████████████████████████████                                  | 9741/19774 [01:05<01:08, 147.34it/s]\u001b[A\n",
      "Training:  49%|█████████████████████████████████                                  | 9756/19774 [01:05<01:11, 140.96it/s]\u001b[A\n",
      "Training:  49%|█████████████████████████████████                                  | 9771/19774 [01:05<01:10, 142.80it/s]\u001b[A\n",
      "Training:  49%|█████████████████████████████████▏                                 | 9786/19774 [01:05<01:09, 143.67it/s]\u001b[A\n",
      "Training:  50%|█████████████████████████████████▏                                 | 9801/19774 [01:05<01:10, 141.70it/s]\u001b[A\n",
      "Training:  50%|█████████████████████████████████▎                                 | 9816/19774 [01:05<01:10, 141.93it/s]\u001b[A\n",
      "Training:  50%|█████████████████████████████████▎                                 | 9832/19774 [01:06<01:08, 144.98it/s]\u001b[A\n",
      "Training:  50%|█████████████████████████████████▎                                 | 9847/19774 [01:06<01:09, 143.58it/s]\u001b[A\n",
      "Training:  50%|█████████████████████████████████▍                                 | 9863/19774 [01:06<01:07, 146.24it/s]\u001b[A\n",
      "Training:  50%|█████████████████████████████████▍                                 | 9878/19774 [01:06<01:07, 145.92it/s]\u001b[A\n",
      "Training:  50%|█████████████████████████████████▌                                 | 9894/19774 [01:06<01:07, 147.11it/s]\u001b[A\n",
      "Training:  50%|█████████████████████████████████▌                                 | 9910/19774 [01:06<01:05, 150.32it/s]\u001b[A\n",
      "Training:  50%|█████████████████████████████████▋                                 | 9926/19774 [01:06<01:07, 146.45it/s]\u001b[A\n",
      "Training:  50%|█████████████████████████████████▋                                 | 9941/19774 [01:06<01:07, 144.82it/s]\u001b[A\n",
      "Training:  50%|█████████████████████████████████▋                                 | 9956/19774 [01:06<01:08, 143.30it/s]\u001b[A\n",
      "Training:  50%|█████████████████████████████████▊                                 | 9971/19774 [01:06<01:10, 139.21it/s]\u001b[A\n",
      "Training:  51%|█████████████████████████████████▊                                 | 9986/19774 [01:07<01:10, 139.72it/s]\u001b[A\n",
      "Training:  51%|█████████████████████████████████▍                                | 10002/19774 [01:07<01:07, 144.72it/s]\u001b[A\n",
      "Training:  51%|█████████████████████████████████▍                                | 10017/19774 [01:07<01:07, 144.07it/s]\u001b[A\n",
      "Training:  51%|█████████████████████████████████▍                                | 10032/19774 [01:07<01:07, 144.56it/s]\u001b[A\n",
      "Training:  51%|█████████████████████████████████▌                                | 10047/19774 [01:07<01:07, 144.66it/s]\u001b[A\n",
      "Training:  51%|█████████████████████████████████▌                                | 10062/19774 [01:07<01:09, 139.99it/s]\u001b[A\n",
      "Training:  51%|█████████████████████████████████▋                                | 10078/19774 [01:07<01:07, 144.21it/s]\u001b[A\n",
      "Training:  51%|█████████████████████████████████▋                                | 10094/19774 [01:07<01:05, 147.10it/s]\u001b[A\n",
      "Training:  51%|█████████████████████████████████▋                                | 10109/19774 [01:07<01:05, 147.87it/s]\u001b[A\n",
      "Training:  51%|█████████████████████████████████▊                                | 10124/19774 [01:08<01:06, 145.25it/s]\u001b[A\n",
      "Training:  51%|█████████████████████████████████▊                                | 10139/19774 [01:08<01:06, 145.57it/s]\u001b[A\n",
      "Training:  51%|█████████████████████████████████▉                                | 10154/19774 [01:08<01:06, 145.44it/s]\u001b[A\n",
      "Training:  51%|█████████████████████████████████▉                                | 10169/19774 [01:08<01:06, 143.62it/s]\u001b[A\n",
      "Training:  52%|█████████████████████████████████▉                                | 10185/19774 [01:08<01:05, 146.96it/s]\u001b[A\n",
      "Training:  52%|██████████████████████████████████                                | 10201/19774 [01:08<01:03, 150.75it/s]\u001b[A\n",
      "Training:  52%|██████████████████████████████████                                | 10217/19774 [01:08<01:06, 143.71it/s]\u001b[A\n",
      "Training:  52%|██████████████████████████████████▏                               | 10234/19774 [01:08<01:04, 148.89it/s]\u001b[A\n",
      "Training:  52%|██████████████████████████████████▏                               | 10249/19774 [01:08<01:04, 148.57it/s]\u001b[A\n",
      "Training:  52%|██████████████████████████████████▎                               | 10264/19774 [01:08<01:03, 148.66it/s]\u001b[A\n",
      "Training:  52%|██████████████████████████████████▎                               | 10279/19774 [01:09<01:04, 146.36it/s]\u001b[A\n",
      "Training:  52%|██████████████████████████████████▎                               | 10294/19774 [01:09<01:05, 145.74it/s]\u001b[A\n",
      "Training:  52%|██████████████████████████████████▍                               | 10309/19774 [01:09<01:05, 144.00it/s]\u001b[A\n",
      "Training:  52%|██████████████████████████████████▍                               | 10326/19774 [01:09<01:02, 150.19it/s]\u001b[A\n",
      "Training:  52%|██████████████████████████████████▌                               | 10342/19774 [01:09<01:02, 151.69it/s]\u001b[A\n",
      "Training:  52%|██████████████████████████████████▌                               | 10358/19774 [01:09<01:02, 150.28it/s]\u001b[A\n",
      "Training:  52%|██████████████████████████████████▋                               | 10374/19774 [01:09<01:03, 148.26it/s]\u001b[A\n",
      "Training:  53%|██████████████████████████████████▋                               | 10391/19774 [01:09<01:02, 150.62it/s]\u001b[A\n",
      "Training:  53%|██████████████████████████████████▋                               | 10407/19774 [01:09<01:07, 139.66it/s]\u001b[A\n",
      "Training:  53%|██████████████████████████████████▊                               | 10422/19774 [01:10<01:07, 138.95it/s]\u001b[A\n",
      "Training:  53%|██████████████████████████████████▊                               | 10437/19774 [01:10<01:07, 138.81it/s]\u001b[A\n",
      "Training:  53%|██████████████████████████████████▉                               | 10452/19774 [01:10<01:06, 139.71it/s]\u001b[A\n",
      "Training:  53%|██████████████████████████████████▉                               | 10467/19774 [01:10<01:06, 140.68it/s]\u001b[A\n",
      "Training:  53%|██████████████████████████████████▉                               | 10482/19774 [01:10<01:05, 140.80it/s]\u001b[A\n",
      "Training:  53%|███████████████████████████████████                               | 10497/19774 [01:10<01:05, 141.62it/s]\u001b[A\n",
      "Training:  53%|███████████████████████████████████                               | 10512/19774 [01:10<01:04, 142.91it/s]\u001b[A\n",
      "Training:  53%|███████████████████████████████████▏                              | 10527/19774 [01:10<01:04, 142.65it/s]\u001b[A\n",
      "Training:  53%|███████████████████████████████████▏                              | 10542/19774 [01:10<01:04, 143.75it/s]\u001b[A\n",
      "Training:  53%|███████████████████████████████████▏                              | 10557/19774 [01:11<01:04, 143.28it/s]\u001b[A\n",
      "Training:  53%|███████████████████████████████████▎                              | 10572/19774 [01:11<01:05, 139.94it/s]\u001b[A\n",
      "Training:  54%|███████████████████████████████████▎                              | 10587/19774 [01:11<01:04, 141.36it/s]\u001b[A\n",
      "Training:  54%|███████████████████████████████████▍                              | 10605/19774 [01:11<01:00, 150.90it/s]\u001b[A\n",
      "Training:  54%|███████████████████████████████████▍                              | 10623/19774 [01:11<00:58, 156.04it/s]\u001b[A\n",
      "Training:  54%|███████████████████████████████████▌                              | 10639/19774 [01:11<01:01, 147.80it/s]\u001b[A\n",
      "Training:  54%|███████████████████████████████████▌                              | 10654/19774 [01:11<01:02, 147.03it/s]\u001b[A\n",
      "Training:  54%|███████████████████████████████████▌                              | 10670/19774 [01:11<01:01, 147.76it/s]\u001b[A\n",
      "Training:  54%|███████████████████████████████████▋                              | 10686/19774 [01:11<01:00, 150.61it/s]\u001b[A\n",
      "Training:  54%|███████████████████████████████████▋                              | 10702/19774 [01:12<00:59, 151.44it/s]\u001b[A\n",
      "Training:  54%|███████████████████████████████████▊                              | 10718/19774 [01:12<00:59, 152.33it/s]\u001b[A\n",
      "Training:  54%|███████████████████████████████████▊                              | 10734/19774 [01:12<01:00, 150.37it/s]\u001b[A\n",
      "Training:  54%|███████████████████████████████████▉                              | 10750/19774 [01:12<01:00, 150.35it/s]\u001b[A\n",
      "Training:  54%|███████████████████████████████████▉                              | 10766/19774 [01:12<01:00, 148.26it/s]\u001b[A\n",
      "Training:  55%|███████████████████████████████████▉                              | 10783/19774 [01:12<00:58, 153.35it/s]\u001b[A\n",
      "Training:  55%|████████████████████████████████████                              | 10799/19774 [01:12<00:59, 151.55it/s]\u001b[A\n",
      "Training:  55%|████████████████████████████████████                              | 10815/19774 [01:12<01:02, 142.90it/s]\u001b[A\n",
      "Training:  55%|████████████████████████████████████▏                             | 10831/19774 [01:12<01:01, 146.24it/s]\u001b[A\n",
      "Training:  55%|████████████████████████████████████▏                             | 10846/19774 [01:12<01:00, 146.38it/s]\u001b[A\n",
      "Training:  55%|████████████████████████████████████▎                             | 10862/19774 [01:13<00:59, 149.49it/s]\u001b[A\n",
      "Training:  55%|████████████████████████████████████▎                             | 10878/19774 [01:13<01:00, 147.21it/s]\u001b[A\n",
      "Training:  55%|████████████████████████████████████▎                             | 10893/19774 [01:13<01:01, 144.62it/s]\u001b[A\n",
      "Training:  55%|████████████████████████████████████▍                             | 10908/19774 [01:13<01:00, 145.79it/s]\u001b[A\n",
      "Training:  55%|████████████████████████████████████▍                             | 10923/19774 [01:13<01:01, 144.85it/s]\u001b[A\n",
      "Training:  55%|████████████████████████████████████▌                             | 10938/19774 [01:13<01:01, 142.68it/s]\u001b[A\n",
      "Training:  55%|████████████████████████████████████▌                             | 10953/19774 [01:13<01:03, 139.22it/s]\u001b[A\n",
      "Training:  55%|████████████████████████████████████▌                             | 10967/19774 [01:13<01:05, 133.86it/s]\u001b[A\n",
      "Training:  56%|████████████████████████████████████▋                             | 10982/19774 [01:13<01:03, 138.17it/s]\u001b[A\n",
      "Training:  56%|████████████████████████████████████▋                             | 10997/19774 [01:14<01:02, 141.05it/s]\u001b[A\n",
      "Training:  56%|████████████████████████████████████▊                             | 11013/19774 [01:14<01:00, 144.44it/s]\u001b[A\n",
      "Training:  56%|████████████████████████████████████▊                             | 11028/19774 [01:14<01:00, 145.28it/s]\u001b[A\n",
      "Training:  56%|████████████████████████████████████▊                             | 11043/19774 [01:14<00:59, 145.95it/s]\u001b[A\n",
      "Training:  56%|████████████████████████████████████▉                             | 11059/19774 [01:14<00:58, 148.99it/s]\u001b[A\n",
      "Training:  56%|████████████████████████████████████▉                             | 11076/19774 [01:14<00:56, 153.02it/s]\u001b[A\n",
      "Training:  56%|█████████████████████████████████████                             | 11092/19774 [01:14<00:56, 154.05it/s]\u001b[A\n",
      "Training:  56%|█████████████████████████████████████                             | 11108/19774 [01:14<00:57, 151.22it/s]\u001b[A\n",
      "Training:  56%|█████████████████████████████████████▏                            | 11124/19774 [01:14<00:57, 151.60it/s]\u001b[A\n",
      "Training:  56%|█████████████████████████████████████▏                            | 11141/19774 [01:14<00:55, 155.02it/s]\u001b[A\n",
      "Training:  56%|█████████████████████████████████████▏                            | 11157/19774 [01:15<00:59, 145.09it/s]\u001b[A\n",
      "Training:  56%|█████████████████████████████████████▎                            | 11172/19774 [01:15<00:58, 146.34it/s]\u001b[A\n",
      "Training:  57%|█████████████████████████████████████▎                            | 11188/19774 [01:15<00:57, 149.98it/s]\u001b[A\n",
      "Training:  57%|█████████████████████████████████████▍                            | 11204/19774 [01:15<00:58, 145.65it/s]\u001b[A\n",
      "Training:  57%|█████████████████████████████████████▍                            | 11220/19774 [01:15<00:57, 147.93it/s]\u001b[A\n",
      "Training:  57%|█████████████████████████████████████▌                            | 11236/19774 [01:15<00:56, 149.93it/s]\u001b[A\n",
      "Training:  57%|█████████████████████████████████████▌                            | 11252/19774 [01:15<00:57, 149.08it/s]\u001b[A\n",
      "Training:  57%|█████████████████████████████████████▌                            | 11268/19774 [01:15<00:56, 151.07it/s]\u001b[A\n",
      "Training:  57%|█████████████████████████████████████▋                            | 11284/19774 [01:15<00:56, 151.49it/s]\u001b[A\n",
      "Training:  57%|█████████████████████████████████████▋                            | 11301/19774 [01:16<00:54, 155.66it/s]\u001b[A\n",
      "Training:  57%|█████████████████████████████████████▊                            | 11317/19774 [01:16<00:54, 155.05it/s]\u001b[A\n",
      "Training:  57%|█████████████████████████████████████▊                            | 11333/19774 [01:16<00:55, 152.47it/s]\u001b[A\n",
      "Training:  57%|█████████████████████████████████████▉                            | 11349/19774 [01:16<00:55, 151.93it/s]\u001b[A\n",
      "Training:  57%|█████████████████████████████████████▉                            | 11365/19774 [01:16<00:56, 149.26it/s]\u001b[A\n",
      "Training:  58%|█████████████████████████████████████▉                            | 11380/19774 [01:16<00:58, 144.51it/s]\u001b[A\n",
      "Training:  58%|██████████████████████████████████████                            | 11395/19774 [01:16<00:58, 144.45it/s]\u001b[A\n",
      "Training:  58%|██████████████████████████████████████                            | 11412/19774 [01:16<00:56, 148.98it/s]\u001b[A\n",
      "Training:  58%|██████████████████████████████████████▏                           | 11428/19774 [01:16<00:54, 151.85it/s]\u001b[A\n",
      "Training:  58%|██████████████████████████████████████▏                           | 11444/19774 [01:17<00:55, 149.86it/s]\u001b[A\n",
      "Training:  58%|██████████████████████████████████████▎                           | 11460/19774 [01:17<00:59, 139.48it/s]\u001b[A\n",
      "Training:  58%|██████████████████████████████████████▎                           | 11476/19774 [01:17<00:57, 144.69it/s]\u001b[A\n",
      "Training:  58%|██████████████████████████████████████▎                           | 11492/19774 [01:17<00:56, 146.38it/s]\u001b[A\n",
      "Training:  58%|██████████████████████████████████████▍                           | 11507/19774 [01:17<00:57, 144.93it/s]\u001b[A\n",
      "Training:  58%|██████████████████████████████████████▍                           | 11522/19774 [01:17<00:59, 139.19it/s]\u001b[A\n",
      "Training:  58%|██████████████████████████████████████▌                           | 11537/19774 [01:17<00:58, 140.15it/s]\u001b[A\n",
      "Training:  58%|██████████████████████████████████████▌                           | 11552/19774 [01:17<00:58, 140.04it/s]\u001b[A\n",
      "Training:  58%|██████████████████████████████████████▌                           | 11567/19774 [01:17<00:58, 140.52it/s]\u001b[A\n",
      "Training:  59%|██████████████████████████████████████▋                           | 11582/19774 [01:18<00:57, 142.06it/s]\u001b[A\n",
      "Training:  59%|██████████████████████████████████████▋                           | 11597/19774 [01:18<00:57, 143.23it/s]\u001b[A\n",
      "Training:  59%|██████████████████████████████████████▊                           | 11612/19774 [01:18<01:00, 134.93it/s]\u001b[A\n",
      "Training:  59%|██████████████████████████████████████▊                           | 11626/19774 [01:18<01:00, 135.62it/s]\u001b[A\n",
      "Training:  59%|██████████████████████████████████████▊                           | 11640/19774 [01:18<01:00, 135.10it/s]\u001b[A\n",
      "Training:  59%|██████████████████████████████████████▉                           | 11655/19774 [01:18<00:59, 137.23it/s]\u001b[A\n",
      "Training:  59%|██████████████████████████████████████▉                           | 11670/19774 [01:18<00:58, 139.28it/s]\u001b[A\n",
      "Training:  59%|███████████████████████████████████████                           | 11686/19774 [01:18<00:56, 142.96it/s]\u001b[A\n",
      "Training:  59%|███████████████████████████████████████                           | 11702/19774 [01:18<00:55, 146.62it/s]\u001b[A\n",
      "Training:  59%|███████████████████████████████████████                           | 11717/19774 [01:18<00:55, 144.96it/s]\u001b[A\n",
      "Training:  59%|███████████████████████████████████████▏                          | 11732/19774 [01:19<00:55, 145.57it/s]\u001b[A\n",
      "Training:  59%|███████████████████████████████████████▏                          | 11749/19774 [01:19<00:53, 150.71it/s]\u001b[A\n",
      "Training:  59%|███████████████████████████████████████▎                          | 11765/19774 [01:19<00:56, 141.46it/s]\u001b[A\n",
      "Training:  60%|███████████████████████████████████████▎                          | 11782/19774 [01:19<00:54, 147.56it/s]\u001b[A\n",
      "Training:  60%|███████████████████████████████████████▍                          | 11798/19774 [01:19<00:53, 148.96it/s]\u001b[A\n",
      "Training:  60%|███████████████████████████████████████▍                          | 11813/19774 [01:19<00:53, 148.50it/s]\u001b[A\n",
      "Training:  60%|███████████████████████████████████████▍                          | 11829/19774 [01:19<00:53, 148.54it/s]\u001b[A\n",
      "Training:  60%|███████████████████████████████████████▌                          | 11844/19774 [01:19<00:53, 148.26it/s]\u001b[A\n",
      "Training:  60%|███████████████████████████████████████▌                          | 11859/19774 [01:19<00:53, 148.62it/s]\u001b[A\n",
      "Training:  60%|███████████████████████████████████████▋                          | 11874/19774 [01:20<00:55, 143.54it/s]\u001b[A\n",
      "Training:  60%|███████████████████████████████████████▋                          | 11889/19774 [01:20<00:55, 143.03it/s]\u001b[A\n",
      "Training:  60%|███████████████████████████████████████▋                          | 11905/19774 [01:20<00:53, 146.18it/s]\u001b[A\n",
      "Training:  60%|███████████████████████████████████████▊                          | 11920/19774 [01:20<00:55, 140.96it/s]\u001b[A\n",
      "Training:  60%|███████████████████████████████████████▊                          | 11936/19774 [01:20<00:53, 146.00it/s]\u001b[A\n",
      "Training:  60%|███████████████████████████████████████▉                          | 11952/19774 [01:20<00:52, 149.34it/s]\u001b[A\n",
      "Training:  61%|███████████████████████████████████████▉                          | 11968/19774 [01:20<00:52, 149.75it/s]\u001b[A\n",
      "Training:  61%|███████████████████████████████████████▉                          | 11984/19774 [01:20<00:53, 145.83it/s]\u001b[A\n",
      "Training:  61%|████████████████████████████████████████                          | 11999/19774 [01:20<00:54, 142.78it/s]\u001b[A\n",
      "Training:  61%|████████████████████████████████████████                          | 12015/19774 [01:20<00:53, 146.27it/s]\u001b[A\n",
      "Training:  61%|████████████████████████████████████████▏                         | 12030/19774 [01:21<00:53, 144.42it/s]\u001b[A\n",
      "Training:  61%|████████████████████████████████████████▏                         | 12045/19774 [01:21<00:53, 143.71it/s]\u001b[A\n",
      "Training:  61%|████████████████████████████████████████▎                         | 12061/19774 [01:21<00:52, 146.29it/s]\u001b[A\n",
      "Training:  61%|████████████████████████████████████████▎                         | 12076/19774 [01:21<00:53, 143.80it/s]\u001b[A\n",
      "Training:  61%|████████████████████████████████████████▎                         | 12093/19774 [01:21<00:51, 149.60it/s]\u001b[A\n",
      "Training:  61%|████████████████████████████████████████▍                         | 12108/19774 [01:21<00:51, 148.79it/s]\u001b[A\n",
      "Training:  61%|████████████████████████████████████████▍                         | 12123/19774 [01:21<00:53, 142.55it/s]\u001b[A\n",
      "Training:  61%|████████████████████████████████████████▌                         | 12139/19774 [01:21<00:51, 147.22it/s]\u001b[A\n",
      "Training:  61%|████████████████████████████████████████▌                         | 12154/19774 [01:21<00:53, 143.27it/s]\u001b[A\n",
      "Training:  62%|████████████████████████████████████████▌                         | 12169/19774 [01:22<00:53, 141.35it/s]\u001b[A\n",
      "Training:  62%|████████████████████████████████████████▋                         | 12185/19774 [01:22<00:51, 146.47it/s]\u001b[A\n",
      "Training:  62%|████████████████████████████████████████▋                         | 12200/19774 [01:22<00:53, 140.85it/s]\u001b[A\n",
      "Training:  62%|████████████████████████████████████████▊                         | 12216/19774 [01:22<00:52, 144.62it/s]\u001b[A\n",
      "Training:  62%|████████████████████████████████████████▊                         | 12233/19774 [01:22<00:50, 150.45it/s]\u001b[A\n",
      "Training:  62%|████████████████████████████████████████▉                         | 12249/19774 [01:22<00:50, 148.41it/s]\u001b[A\n",
      "Training:  62%|████████████████████████████████████████▉                         | 12264/19774 [01:22<00:50, 147.40it/s]\u001b[A\n",
      "Training:  62%|████████████████████████████████████████▉                         | 12281/19774 [01:22<00:49, 152.42it/s]\u001b[A\n",
      "Training:  62%|█████████████████████████████████████████                         | 12297/19774 [01:22<00:49, 152.47it/s]\u001b[A\n",
      "Training:  62%|█████████████████████████████████████████                         | 12313/19774 [01:23<00:48, 153.55it/s]\u001b[A\n",
      "Training:  62%|█████████████████████████████████████████▏                        | 12329/19774 [01:23<00:48, 154.84it/s]\u001b[A\n",
      "Training:  62%|█████████████████████████████████████████▏                        | 12345/19774 [01:23<00:48, 152.13it/s]\u001b[A\n",
      "Training:  63%|█████████████████████████████████████████▎                        | 12361/19774 [01:23<00:49, 150.84it/s]\u001b[A\n",
      "Training:  63%|█████████████████████████████████████████▎                        | 12377/19774 [01:23<00:50, 146.98it/s]\u001b[A\n",
      "Training:  63%|█████████████████████████████████████████▎                        | 12393/19774 [01:23<00:49, 148.56it/s]\u001b[A\n",
      "Training:  63%|█████████████████████████████████████████▍                        | 12411/19774 [01:23<00:47, 154.22it/s]\u001b[A\n",
      "Training:  63%|█████████████████████████████████████████▍                        | 12427/19774 [01:23<00:47, 154.34it/s]\u001b[A\n",
      "Training:  63%|█████████████████████████████████████████▌                        | 12443/19774 [01:23<00:47, 154.93it/s]\u001b[A\n",
      "Training:  63%|█████████████████████████████████████████▌                        | 12459/19774 [01:23<00:47, 153.37it/s]\u001b[A\n",
      "Training:  63%|█████████████████████████████████████████▋                        | 12476/19774 [01:24<00:46, 156.88it/s]\u001b[A\n",
      "Training:  63%|█████████████████████████████████████████▋                        | 12492/19774 [01:24<00:46, 156.15it/s]\u001b[A\n",
      "Training:  63%|█████████████████████████████████████████▋                        | 12508/19774 [01:24<00:47, 153.14it/s]\u001b[A\n",
      "Training:  63%|█████████████████████████████████████████▊                        | 12524/19774 [01:24<00:50, 144.77it/s]\u001b[A\n",
      "Training:  63%|█████████████████████████████████████████▊                        | 12540/19774 [01:24<00:49, 147.19it/s]\u001b[A\n",
      "Training:  63%|█████████████████████████████████████████▉                        | 12556/19774 [01:24<00:48, 148.34it/s]\u001b[A\n",
      "Training:  64%|█████████████████████████████████████████▉                        | 12571/19774 [01:24<00:49, 144.90it/s]\u001b[A\n",
      "Training:  64%|██████████████████████████████████████████                        | 12586/19774 [01:24<00:49, 146.00it/s]\u001b[A\n",
      "Training:  64%|██████████████████████████████████████████                        | 12602/19774 [01:24<00:48, 149.30it/s]\u001b[A\n",
      "Training:  64%|██████████████████████████████████████████                        | 12619/19774 [01:25<00:46, 153.37it/s]\u001b[A\n",
      "Training:  64%|██████████████████████████████████████████▏                       | 12635/19774 [01:25<00:46, 154.51it/s]\u001b[A\n",
      "Training:  64%|██████████████████████████████████████████▏                       | 12651/19774 [01:25<00:47, 151.11it/s]\u001b[A\n",
      "Training:  64%|██████████████████████████████████████████▎                       | 12668/19774 [01:25<00:46, 153.62it/s]\u001b[A\n",
      "Training:  64%|██████████████████████████████████████████▎                       | 12684/19774 [01:25<00:46, 153.84it/s]\u001b[A\n",
      "Training:  64%|██████████████████████████████████████████▍                       | 12701/19774 [01:25<00:45, 156.49it/s]\u001b[A\n",
      "Training:  64%|██████████████████████████████████████████▍                       | 12717/19774 [01:25<00:45, 153.56it/s]\u001b[A\n",
      "Training:  64%|██████████████████████████████████████████▍                       | 12733/19774 [01:25<00:45, 155.39it/s]\u001b[A\n",
      "Training:  64%|██████████████████████████████████████████▌                       | 12749/19774 [01:25<00:45, 154.12it/s]\u001b[A\n",
      "Training:  65%|██████████████████████████████████████████▌                       | 12765/19774 [01:25<00:45, 152.49it/s]\u001b[A\n",
      "Training:  65%|██████████████████████████████████████████▋                       | 12781/19774 [01:26<00:46, 151.54it/s]\u001b[A\n",
      "Training:  65%|██████████████████████████████████████████▋                       | 12797/19774 [01:26<00:45, 153.33it/s]\u001b[A\n",
      "Training:  65%|██████████████████████████████████████████▊                       | 12813/19774 [01:26<00:48, 142.12it/s]\u001b[A\n",
      "Training:  65%|██████████████████████████████████████████▊                       | 12832/19774 [01:26<00:45, 153.45it/s]\u001b[A\n",
      "Training:  65%|██████████████████████████████████████████▉                       | 12848/19774 [01:26<00:44, 155.05it/s]\u001b[A\n",
      "Training:  65%|██████████████████████████████████████████▉                       | 12865/19774 [01:26<00:43, 157.11it/s]\u001b[A\n",
      "Training:  65%|██████████████████████████████████████████▉                       | 12881/19774 [01:26<00:43, 157.52it/s]\u001b[A\n",
      "Training:  65%|███████████████████████████████████████████                       | 12897/19774 [01:26<00:44, 154.65it/s]\u001b[A\n",
      "Training:  65%|███████████████████████████████████████████                       | 12913/19774 [01:26<00:44, 153.51it/s]\u001b[A\n",
      "Training:  65%|███████████████████████████████████████████▏                      | 12929/19774 [01:27<00:44, 154.55it/s]\u001b[A\n",
      "Training:  65%|███████████████████████████████████████████▏                      | 12945/19774 [01:27<00:45, 150.78it/s]\u001b[A\n",
      "Training:  66%|███████████████████████████████████████████▎                      | 12961/19774 [01:27<00:45, 150.46it/s]\u001b[A\n",
      "Training:  66%|███████████████████████████████████████████▎                      | 12977/19774 [01:27<00:45, 149.93it/s]\u001b[A\n",
      "Training:  66%|███████████████████████████████████████████▎                      | 12993/19774 [01:27<00:44, 152.31it/s]\u001b[A\n",
      "Training:  66%|███████████████████████████████████████████▍                      | 13010/19774 [01:27<00:43, 156.44it/s]\u001b[A\n",
      "Training:  66%|███████████████████████████████████████████▍                      | 13026/19774 [01:27<00:43, 155.17it/s]\u001b[A\n",
      "Training:  66%|███████████████████████████████████████████▌                      | 13042/19774 [01:27<00:44, 151.42it/s]\u001b[A\n",
      "Training:  66%|███████████████████████████████████████████▌                      | 13059/19774 [01:27<00:43, 153.55it/s]\u001b[A\n",
      "Training:  66%|███████████████████████████████████████████▋                      | 13076/19774 [01:28<00:42, 155.96it/s]\u001b[A\n",
      "Training:  66%|███████████████████████████████████████████▋                      | 13093/19774 [01:28<00:41, 159.50it/s]\u001b[A\n",
      "Training:  66%|███████████████████████████████████████████▊                      | 13109/19774 [01:28<00:43, 154.56it/s]\u001b[A\n",
      "Training:  66%|███████████████████████████████████████████▊                      | 13125/19774 [01:28<00:43, 153.49it/s]\u001b[A\n",
      "Training:  66%|███████████████████████████████████████████▊                      | 13141/19774 [01:28<00:44, 148.18it/s]\u001b[A\n",
      "Training:  67%|███████████████████████████████████████████▉                      | 13157/19774 [01:28<00:43, 150.63it/s]\u001b[A\n",
      "Training:  67%|███████████████████████████████████████████▉                      | 13173/19774 [01:28<00:44, 146.84it/s]\u001b[A\n",
      "Training:  67%|████████████████████████████████████████████                      | 13189/19774 [01:28<00:43, 150.19it/s]\u001b[A\n",
      "Training:  67%|████████████████████████████████████████████                      | 13205/19774 [01:28<00:46, 140.05it/s]\u001b[A\n",
      "Training:  67%|████████████████████████████████████████████                      | 13220/19774 [01:29<00:46, 141.27it/s]\u001b[A\n",
      "Training:  67%|████████████████████████████████████████████▏                     | 13236/19774 [01:29<00:45, 144.67it/s]\u001b[A\n",
      "Training:  67%|████████████████████████████████████████████▏                     | 13252/19774 [01:29<00:44, 146.43it/s]\u001b[A\n",
      "Training:  67%|████████████████████████████████████████████▎                     | 13269/19774 [01:29<00:43, 151.00it/s]\u001b[A\n",
      "Training:  67%|████████████████████████████████████████████▎                     | 13285/19774 [01:29<00:42, 152.06it/s]\u001b[A\n",
      "Training:  67%|████████████████████████████████████████████▍                     | 13301/19774 [01:29<00:42, 152.33it/s]\u001b[A\n",
      "Training:  67%|████████████████████████████████████████████▍                     | 13317/19774 [01:29<00:44, 143.96it/s]\u001b[A\n",
      "Training:  67%|████████████████████████████████████████████▍                     | 13332/19774 [01:29<00:44, 144.20it/s]\u001b[A\n",
      "Training:  67%|████████████████████████████████████████████▌                     | 13347/19774 [01:29<00:44, 145.47it/s]\u001b[A\n",
      "Training:  68%|████████████████████████████████████████████▌                     | 13364/19774 [01:29<00:42, 150.48it/s]\u001b[A\n",
      "Training:  68%|████████████████████████████████████████████▋                     | 13380/19774 [01:30<00:41, 152.30it/s]\u001b[A\n",
      "Training:  68%|████████████████████████████████████████████▋                     | 13397/19774 [01:30<00:41, 154.68it/s]\u001b[A\n",
      "Training:  68%|████████████████████████████████████████████▊                     | 13413/19774 [01:30<00:41, 154.51it/s]\u001b[A\n",
      "Training:  68%|████████████████████████████████████████████▊                     | 13429/19774 [01:30<00:41, 153.86it/s]\u001b[A\n",
      "Training:  68%|████████████████████████████████████████████▉                     | 13445/19774 [01:30<00:40, 154.62it/s]\u001b[A\n",
      "Training:  68%|████████████████████████████████████████████▉                     | 13461/19774 [01:30<00:40, 155.51it/s]\u001b[A\n",
      "Training:  68%|████████████████████████████████████████████▉                     | 13477/19774 [01:30<00:41, 153.29it/s]\u001b[A\n",
      "Training:  68%|█████████████████████████████████████████████                     | 13493/19774 [01:30<00:40, 153.71it/s]\u001b[A\n",
      "Training:  68%|█████████████████████████████████████████████                     | 13509/19774 [01:30<00:41, 152.15it/s]\u001b[A\n",
      "Training:  68%|█████████████████████████████████████████████▏                    | 13525/19774 [01:31<00:40, 154.22it/s]\u001b[A\n",
      "Training:  68%|█████████████████████████████████████████████▏                    | 13541/19774 [01:31<00:40, 153.55it/s]\u001b[A\n",
      "Training:  69%|█████████████████████████████████████████████▏                    | 13557/19774 [01:31<00:40, 153.61it/s]\u001b[A\n",
      "Training:  69%|█████████████████████████████████████████████▎                    | 13573/19774 [01:31<00:42, 145.97it/s]\u001b[A\n",
      "Training:  69%|█████████████████████████████████████████████▎                    | 13588/19774 [01:31<00:42, 146.02it/s]\u001b[A\n",
      "Training:  69%|█████████████████████████████████████████████▍                    | 13603/19774 [01:31<00:42, 146.36it/s]\u001b[A\n",
      "Training:  69%|█████████████████████████████████████████████▍                    | 13619/19774 [01:31<00:41, 148.34it/s]\u001b[A\n",
      "Training:  69%|█████████████████████████████████████████████▌                    | 13635/19774 [01:31<00:41, 149.40it/s]\u001b[A\n",
      "Training:  69%|█████████████████████████████████████████████▌                    | 13651/19774 [01:31<00:40, 152.11it/s]\u001b[A\n",
      "Training:  69%|█████████████████████████████████████████████▌                    | 13667/19774 [01:31<00:40, 150.63it/s]\u001b[A\n",
      "Training:  69%|█████████████████████████████████████████████▋                    | 13683/19774 [01:32<00:39, 152.45it/s]\u001b[A\n",
      "Training:  69%|█████████████████████████████████████████████▋                    | 13699/19774 [01:32<00:42, 142.54it/s]\u001b[A\n",
      "Training:  69%|█████████████████████████████████████████████▊                    | 13716/19774 [01:32<00:41, 147.28it/s]\u001b[A\n",
      "Training:  69%|█████████████████████████████████████████████▊                    | 13732/19774 [01:32<00:40, 150.14it/s]\u001b[A\n",
      "Training:  70%|█████████████████████████████████████████████▉                    | 13748/19774 [01:32<00:39, 151.84it/s]\u001b[A\n",
      "Training:  70%|█████████████████████████████████████████████▉                    | 13764/19774 [01:32<00:39, 151.88it/s]\u001b[A\n",
      "Training:  70%|█████████████████████████████████████████████▉                    | 13780/19774 [01:32<00:39, 151.99it/s]\u001b[A\n",
      "Training:  70%|██████████████████████████████████████████████                    | 13797/19774 [01:32<00:38, 154.77it/s]\u001b[A\n",
      "Training:  70%|██████████████████████████████████████████████                    | 13813/19774 [01:32<00:38, 154.09it/s]\u001b[A\n",
      "Training:  70%|██████████████████████████████████████████████▏                   | 13830/19774 [01:33<00:38, 156.10it/s]\u001b[A\n",
      "Training:  70%|██████████████████████████████████████████████▏                   | 13846/19774 [01:33<00:38, 154.16it/s]\u001b[A\n",
      "Training:  70%|██████████████████████████████████████████████▎                   | 13862/19774 [01:33<00:38, 153.81it/s]\u001b[A\n",
      "Training:  70%|██████████████████████████████████████████████▎                   | 13878/19774 [01:33<00:41, 143.53it/s]\u001b[A\n",
      "Training:  70%|██████████████████████████████████████████████▎                   | 13893/19774 [01:33<00:41, 141.03it/s]\u001b[A\n",
      "Training:  70%|██████████████████████████████████████████████▍                   | 13909/19774 [01:33<00:40, 145.00it/s]\u001b[A\n",
      "Training:  70%|██████████████████████████████████████████████▍                   | 13924/19774 [01:33<00:40, 143.60it/s]\u001b[A\n",
      "Training:  71%|██████████████████████████████████████████████▌                   | 13941/19774 [01:33<00:38, 150.26it/s]\u001b[A\n",
      "Training:  71%|██████████████████████████████████████████████▌                   | 13957/19774 [01:33<00:38, 152.66it/s]\u001b[A\n",
      "Training:  71%|██████████████████████████████████████████████▋                   | 13973/19774 [01:34<00:38, 151.00it/s]\u001b[A\n",
      "Training:  71%|██████████████████████████████████████████████▋                   | 13989/19774 [01:34<00:38, 150.85it/s]\u001b[A\n",
      "Training:  71%|██████████████████████████████████████████████▋                   | 14005/19774 [01:34<00:37, 152.66it/s]\u001b[A\n",
      "Training:  71%|██████████████████████████████████████████████▊                   | 14021/19774 [01:34<00:39, 144.28it/s]\u001b[A\n",
      "Training:  71%|██████████████████████████████████████████████▊                   | 14038/19774 [01:34<00:38, 149.43it/s]\u001b[A\n",
      "Training:  71%|██████████████████████████████████████████████▉                   | 14054/19774 [01:34<00:39, 145.78it/s]\u001b[A\n",
      "Training:  71%|██████████████████████████████████████████████▉                   | 14070/19774 [01:34<00:38, 149.48it/s]\u001b[A\n",
      "Training:  71%|███████████████████████████████████████████████                   | 14086/19774 [01:34<00:37, 151.07it/s]\u001b[A\n",
      "Training:  71%|███████████████████████████████████████████████                   | 14102/19774 [01:34<00:37, 153.09it/s]\u001b[A\n",
      "Training:  71%|███████████████████████████████████████████████▏                  | 14119/19774 [01:34<00:36, 156.34it/s]\u001b[A\n",
      "Training:  71%|███████████████████████████████████████████████▏                  | 14135/19774 [01:35<00:36, 155.18it/s]\u001b[A\n",
      "Training:  72%|███████████████████████████████████████████████▏                  | 14151/19774 [01:35<00:36, 154.99it/s]\u001b[A\n",
      "Training:  72%|███████████████████████████████████████████████▎                  | 14167/19774 [01:35<00:36, 151.56it/s]\u001b[A\n",
      "Training:  72%|███████████████████████████████████████████████▎                  | 14183/19774 [01:35<00:36, 151.68it/s]\u001b[A\n",
      "Training:  72%|███████████████████████████████████████████████▍                  | 14200/19774 [01:35<00:36, 154.13it/s]\u001b[A\n",
      "Training:  72%|███████████████████████████████████████████████▍                  | 14216/19774 [01:35<00:35, 155.04it/s]\u001b[A\n",
      "Training:  72%|███████████████████████████████████████████████▌                  | 14232/19774 [01:35<00:35, 154.91it/s]\u001b[A\n",
      "Training:  72%|███████████████████████████████████████████████▌                  | 14248/19774 [01:35<00:38, 143.79it/s]\u001b[A\n",
      "Training:  72%|███████████████████████████████████████████████▌                  | 14263/19774 [01:35<00:38, 142.84it/s]\u001b[A\n",
      "Training:  72%|███████████████████████████████████████████████▋                  | 14279/19774 [01:36<00:37, 146.38it/s]\u001b[A\n",
      "Training:  72%|███████████████████████████████████████████████▋                  | 14295/19774 [01:36<00:37, 147.58it/s]\u001b[A\n",
      "Training:  72%|███████████████████████████████████████████████▊                  | 14311/19774 [01:36<00:36, 150.65it/s]\u001b[A\n",
      "Training:  72%|███████████████████████████████████████████████▊                  | 14327/19774 [01:36<00:35, 152.77it/s]\u001b[A\n",
      "Training:  73%|███████████████████████████████████████████████▊                  | 14343/19774 [01:36<00:35, 152.26it/s]\u001b[A\n",
      "Training:  73%|███████████████████████████████████████████████▉                  | 14359/19774 [01:36<00:35, 153.12it/s]\u001b[A\n",
      "Training:  73%|███████████████████████████████████████████████▉                  | 14376/19774 [01:36<00:34, 155.84it/s]\u001b[A\n",
      "Training:  73%|████████████████████████████████████████████████                  | 14392/19774 [01:36<00:36, 146.99it/s]\u001b[A\n",
      "Training:  73%|████████████████████████████████████████████████                  | 14407/19774 [01:36<00:36, 146.56it/s]\u001b[A\n",
      "Training:  73%|████████████████████████████████████████████████▏                 | 14423/19774 [01:37<00:36, 147.11it/s]\u001b[A\n",
      "Training:  73%|████████████████████████████████████████████████▏                 | 14441/19774 [01:37<00:34, 153.73it/s]\u001b[A\n",
      "Training:  73%|████████████████████████████████████████████████▎                 | 14457/19774 [01:37<00:34, 155.12it/s]\u001b[A\n",
      "Training:  73%|████████████████████████████████████████████████▎                 | 14473/19774 [01:37<00:34, 153.11it/s]\u001b[A\n",
      "Training:  73%|████████████████████████████████████████████████▎                 | 14489/19774 [01:37<00:34, 154.45it/s]\u001b[A\n",
      "Training:  73%|████████████████████████████████████████████████▍                 | 14505/19774 [01:37<00:34, 153.80it/s]\u001b[A\n",
      "Training:  73%|████████████████████████████████████████████████▍                 | 14521/19774 [01:37<00:33, 154.73it/s]\u001b[A\n",
      "Training:  74%|████████████████████████████████████████████████▌                 | 14537/19774 [01:37<00:34, 150.29it/s]\u001b[A\n",
      "Training:  74%|████████████████████████████████████████████████▌                 | 14553/19774 [01:37<00:34, 149.69it/s]\u001b[A\n",
      "Training:  74%|████████████████████████████████████████████████▋                 | 14571/19774 [01:37<00:33, 157.26it/s]\u001b[A\n",
      "Training:  74%|████████████████████████████████████████████████▋                 | 14588/19774 [01:38<00:32, 159.84it/s]\u001b[A\n",
      "Training:  74%|████████████████████████████████████████████████▊                 | 14606/19774 [01:38<00:31, 164.44it/s]\u001b[A\n",
      "Training:  74%|████████████████████████████████████████████████▊                 | 14623/19774 [01:38<00:31, 164.09it/s]\u001b[A\n",
      "Training:  74%|████████████████████████████████████████████████▊                 | 14640/19774 [01:38<00:34, 149.22it/s]\u001b[A\n",
      "Training:  74%|████████████████████████████████████████████████▉                 | 14656/19774 [01:38<00:34, 149.63it/s]\u001b[A\n",
      "Training:  74%|████████████████████████████████████████████████▉                 | 14672/19774 [01:38<00:34, 148.09it/s]\u001b[A\n",
      "Training:  74%|█████████████████████████████████████████████████                 | 14687/19774 [01:38<00:34, 148.02it/s]\u001b[A\n",
      "Training:  74%|█████████████████████████████████████████████████                 | 14702/19774 [01:38<00:34, 145.93it/s]\u001b[A\n",
      "Training:  74%|█████████████████████████████████████████████████                 | 14718/19774 [01:38<00:33, 149.15it/s]\u001b[A\n",
      "Training:  75%|█████████████████████████████████████████████████▏                | 14736/19774 [01:39<00:32, 155.06it/s]\u001b[A\n",
      "Training:  75%|█████████████████████████████████████████████████▏                | 14752/19774 [01:39<00:32, 152.37it/s]\u001b[A\n",
      "Training:  75%|█████████████████████████████████████████████████▎                | 14768/19774 [01:39<00:33, 150.50it/s]\u001b[A\n",
      "Training:  75%|█████████████████████████████████████████████████▎                | 14784/19774 [01:39<00:33, 150.58it/s]\u001b[A\n",
      "Training:  75%|█████████████████████████████████████████████████▍                | 14800/19774 [01:39<00:34, 146.02it/s]\u001b[A\n",
      "Training:  75%|█████████████████████████████████████████████████▍                | 14816/19774 [01:39<00:33, 148.74it/s]\u001b[A\n",
      "Training:  75%|█████████████████████████████████████████████████▌                | 14833/19774 [01:39<00:32, 153.60it/s]\u001b[A\n",
      "Training:  75%|█████████████████████████████████████████████████▌                | 14849/19774 [01:39<00:32, 151.40it/s]\u001b[A\n",
      "Training:  75%|█████████████████████████████████████████████████▌                | 14865/19774 [01:39<00:32, 152.55it/s]\u001b[A\n",
      "Training:  75%|█████████████████████████████████████████████████▋                | 14881/19774 [01:39<00:32, 151.14it/s]\u001b[A\n",
      "Training:  75%|█████████████████████████████████████████████████▋                | 14898/19774 [01:40<00:31, 154.66it/s]\u001b[A\n",
      "Training:  75%|█████████████████████████████████████████████████▊                | 14914/19774 [01:40<00:31, 154.73it/s]\u001b[A\n",
      "Training:  76%|█████████████████████████████████████████████████▊                | 14930/19774 [01:40<00:31, 152.97it/s]\u001b[A\n",
      "Training:  76%|█████████████████████████████████████████████████▉                | 14946/19774 [01:40<00:31, 153.64it/s]\u001b[A\n",
      "Training:  76%|█████████████████████████████████████████████████▉                | 14962/19774 [01:40<00:32, 148.85it/s]\u001b[A\n",
      "Training:  76%|█████████████████████████████████████████████████▉                | 14978/19774 [01:40<00:32, 149.45it/s]\u001b[A\n",
      "Training:  76%|██████████████████████████████████████████████████                | 14995/19774 [01:40<00:30, 154.79it/s]\u001b[A\n",
      "Training:  76%|██████████████████████████████████████████████████                | 15011/19774 [01:40<00:30, 154.94it/s]\u001b[A\n",
      "Training:  76%|██████████████████████████████████████████████████▏               | 15028/19774 [01:40<00:30, 156.89it/s]\u001b[A\n",
      "Training:  76%|██████████████████████████████████████████████████▏               | 15044/19774 [01:41<00:31, 151.97it/s]\u001b[A\n",
      "Training:  76%|██████████████████████████████████████████████████▎               | 15061/19774 [01:41<00:30, 154.00it/s]\u001b[A\n",
      "Training:  76%|██████████████████████████████████████████████████▎               | 15077/19774 [01:41<00:31, 148.20it/s]\u001b[A\n",
      "Training:  76%|██████████████████████████████████████████████████▎               | 15092/19774 [01:41<00:32, 143.54it/s]\u001b[A\n",
      "Training:  76%|██████████████████████████████████████████████████▍               | 15107/19774 [01:41<00:33, 141.35it/s]\u001b[A\n",
      "Training:  76%|██████████████████████████████████████████████████▍               | 15123/19774 [01:41<00:32, 144.86it/s]\u001b[A\n",
      "Training:  77%|██████████████████████████████████████████████████▌               | 15138/19774 [01:41<00:32, 142.77it/s]\u001b[A\n",
      "Training:  77%|██████████████████████████████████████████████████▌               | 15153/19774 [01:41<00:32, 142.26it/s]\u001b[A\n",
      "Training:  77%|██████████████████████████████████████████████████▋               | 15168/19774 [01:41<00:32, 141.78it/s]\u001b[A\n",
      "Training:  77%|██████████████████████████████████████████████████▋               | 15183/19774 [01:42<00:32, 142.02it/s]\u001b[A\n",
      "Training:  77%|██████████████████████████████████████████████████▋               | 15198/19774 [01:42<00:32, 141.28it/s]\u001b[A\n",
      "Training:  77%|██████████████████████████████████████████████████▊               | 15213/19774 [01:42<00:31, 142.95it/s]\u001b[A\n",
      "Training:  77%|██████████████████████████████████████████████████▊               | 15228/19774 [01:42<00:32, 140.64it/s]\u001b[A\n",
      "Training:  77%|██████████████████████████████████████████████████▉               | 15243/19774 [01:42<00:33, 134.56it/s]\u001b[A\n",
      "Training:  77%|██████████████████████████████████████████████████▉               | 15258/19774 [01:42<00:33, 135.77it/s]\u001b[A\n",
      "Training:  77%|██████████████████████████████████████████████████▉               | 15274/19774 [01:42<00:32, 140.28it/s]\u001b[A\n",
      "Training:  77%|███████████████████████████████████████████████████               | 15289/19774 [01:42<00:31, 140.67it/s]\u001b[A\n",
      "Training:  77%|███████████████████████████████████████████████████               | 15304/19774 [01:42<00:31, 140.79it/s]\u001b[A\n",
      "Training:  77%|███████████████████████████████████████████████████▏              | 15319/19774 [01:43<00:31, 142.00it/s]\u001b[A\n",
      "Training:  78%|███████████████████████████████████████████████████▏              | 15335/19774 [01:43<00:30, 145.12it/s]\u001b[A\n",
      "Training:  78%|███████████████████████████████████████████████████▏              | 15350/19774 [01:43<00:30, 144.04it/s]\u001b[A\n",
      "Training:  78%|███████████████████████████████████████████████████▎              | 15365/19774 [01:43<00:30, 143.14it/s]\u001b[A\n",
      "Training:  78%|███████████████████████████████████████████████████▎              | 15380/19774 [01:43<00:32, 133.91it/s]\u001b[A\n",
      "Training:  78%|███████████████████████████████████████████████████▍              | 15395/19774 [01:43<00:32, 136.28it/s]\u001b[A\n",
      "Training:  78%|███████████████████████████████████████████████████▍              | 15410/19774 [01:43<00:31, 138.15it/s]\u001b[A\n",
      "Training:  78%|███████████████████████████████████████████████████▍              | 15424/19774 [01:43<00:32, 135.77it/s]\u001b[A\n",
      "Training:  78%|███████████████████████████████████████████████████▌              | 15438/19774 [01:43<00:31, 135.97it/s]\u001b[A\n",
      "Training:  78%|███████████████████████████████████████████████████▌              | 15452/19774 [01:43<00:31, 136.35it/s]\u001b[A\n",
      "Training:  78%|███████████████████████████████████████████████████▌              | 15467/19774 [01:44<00:30, 139.95it/s]\u001b[A\n",
      "Training:  78%|███████████████████████████████████████████████████▋              | 15484/19774 [01:44<00:28, 148.00it/s]\u001b[A\n",
      "Training:  78%|███████████████████████████████████████████████████▋              | 15499/19774 [01:44<00:28, 147.86it/s]\u001b[A\n",
      "Training:  78%|███████████████████████████████████████████████████▊              | 15515/19774 [01:44<00:28, 148.82it/s]\u001b[A\n",
      "Training:  79%|███████████████████████████████████████████████████▊              | 15531/19774 [01:44<00:28, 150.44it/s]\u001b[A\n",
      "Training:  79%|███████████████████████████████████████████████████▉              | 15547/19774 [01:44<00:27, 152.50it/s]\u001b[A\n",
      "Training:  79%|███████████████████████████████████████████████████▉              | 15563/19774 [01:44<00:27, 151.67it/s]\u001b[A\n",
      "Training:  79%|███████████████████████████████████████████████████▉              | 15579/19774 [01:44<00:27, 153.26it/s]\u001b[A\n",
      "Training:  79%|████████████████████████████████████████████████████              | 15595/19774 [01:44<00:29, 142.24it/s]\u001b[A\n",
      "Training:  79%|████████████████████████████████████████████████████              | 15610/19774 [01:45<00:29, 139.04it/s]\u001b[A\n",
      "Training:  79%|████████████████████████████████████████████████████▏             | 15626/19774 [01:45<00:28, 143.88it/s]\u001b[A\n",
      "Training:  79%|████████████████████████████████████████████████████▏             | 15642/19774 [01:45<00:27, 148.07it/s]\u001b[A\n",
      "Training:  79%|████████████████████████████████████████████████████▎             | 15658/19774 [01:45<00:27, 148.78it/s]\u001b[A\n",
      "Training:  79%|████████████████████████████████████████████████████▎             | 15674/19774 [01:45<00:26, 151.98it/s]\u001b[A\n",
      "Training:  79%|████████████████████████████████████████████████████▎             | 15691/19774 [01:45<00:26, 155.82it/s]\u001b[A\n",
      "Training:  79%|████████████████████████████████████████████████████▍             | 15708/19774 [01:45<00:25, 156.94it/s]\u001b[A\n",
      "Training:  80%|████████████████████████████████████████████████████▍             | 15725/19774 [01:45<00:25, 159.32it/s]\u001b[A\n",
      "Training:  80%|████████████████████████████████████████████████████▌             | 15741/19774 [01:45<00:25, 159.14it/s]\u001b[A\n",
      "Training:  80%|████████████████████████████████████████████████████▌             | 15757/19774 [01:45<00:25, 158.72it/s]\u001b[A\n",
      "Training:  80%|████████████████████████████████████████████████████▋             | 15773/19774 [01:46<00:25, 156.47it/s]\u001b[A\n",
      "Training:  80%|████████████████████████████████████████████████████▋             | 15789/19774 [01:46<00:25, 156.67it/s]\u001b[A\n",
      "Training:  80%|████████████████████████████████████████████████████▊             | 15806/19774 [01:46<00:25, 157.76it/s]\u001b[A\n",
      "Training:  80%|████████████████████████████████████████████████████▊             | 15822/19774 [01:46<00:25, 157.11it/s]\u001b[A\n",
      "Training:  80%|████████████████████████████████████████████████████▊             | 15838/19774 [01:46<00:26, 148.78it/s]\u001b[A\n",
      "Training:  80%|████████████████████████████████████████████████████▉             | 15854/19774 [01:46<00:26, 149.89it/s]\u001b[A\n",
      "Training:  80%|████████████████████████████████████████████████████▉             | 15870/19774 [01:46<00:26, 148.33it/s]\u001b[A\n",
      "Training:  80%|█████████████████████████████████████████████████████             | 15885/19774 [01:46<00:26, 146.22it/s]\u001b[A\n",
      "Training:  80%|█████████████████████████████████████████████████████             | 15901/19774 [01:46<00:26, 148.35it/s]\u001b[A\n",
      "Training:  80%|█████████████████████████████████████████████████████▏            | 15917/19774 [01:47<00:25, 149.80it/s]\u001b[A\n",
      "Training:  81%|█████████████████████████████████████████████████████▏            | 15933/19774 [01:47<00:25, 152.25it/s]\u001b[A\n",
      "Training:  81%|█████████████████████████████████████████████████████▏            | 15951/19774 [01:47<00:24, 157.46it/s]\u001b[A\n",
      "Training:  81%|█████████████████████████████████████████████████████▎            | 15967/19774 [01:47<00:24, 155.82it/s]\u001b[A\n",
      "Training:  81%|█████████████████████████████████████████████████████▎            | 15984/19774 [01:47<00:24, 157.60it/s]\u001b[A\n",
      "Training:  81%|█████████████████████████████████████████████████████▍            | 16000/19774 [01:47<00:24, 157.09it/s]\u001b[A\n",
      "Training:  81%|█████████████████████████████████████████████████████▍            | 16016/19774 [01:47<00:24, 151.59it/s]\u001b[A\n",
      "Training:  81%|█████████████████████████████████████████████████████▌            | 16032/19774 [01:47<00:24, 150.28it/s]\u001b[A\n",
      "Training:  81%|█████████████████████████████████████████████████████▌            | 16048/19774 [01:47<00:24, 152.10it/s]\u001b[A\n",
      "Training:  81%|█████████████████████████████████████████████████████▌            | 16065/19774 [01:47<00:23, 155.27it/s]\u001b[A\n",
      "Training:  81%|█████████████████████████████████████████████████████▋            | 16081/19774 [01:48<00:23, 154.27it/s]\u001b[A\n",
      "Training:  81%|█████████████████████████████████████████████████████▋            | 16097/19774 [01:48<00:23, 153.21it/s]\u001b[A\n",
      "Training:  81%|█████████████████████████████████████████████████████▊            | 16113/19774 [01:48<00:23, 153.45it/s]\u001b[A\n",
      "Training:  82%|█████████████████████████████████████████████████████▊            | 16129/19774 [01:48<00:23, 154.02it/s]\u001b[A\n",
      "Training:  82%|█████████████████████████████████████████████████████▉            | 16145/19774 [01:48<00:23, 153.52it/s]\u001b[A\n",
      "Training:  82%|█████████████████████████████████████████████████████▉            | 16161/19774 [01:48<00:23, 151.75it/s]\u001b[A\n",
      "Training:  82%|█████████████████████████████████████████████████████▉            | 16177/19774 [01:48<00:23, 153.30it/s]\u001b[A\n",
      "Training:  82%|██████████████████████████████████████████████████████            | 16193/19774 [01:48<00:24, 143.30it/s]\u001b[A\n",
      "Training:  82%|██████████████████████████████████████████████████████            | 16209/19774 [01:48<00:24, 145.81it/s]\u001b[A\n",
      "Training:  82%|██████████████████████████████████████████████████████▏           | 16225/19774 [01:49<00:23, 148.01it/s]\u001b[A\n",
      "Training:  82%|██████████████████████████████████████████████████████▏           | 16240/19774 [01:49<00:25, 138.77it/s]\u001b[A\n",
      "Training:  82%|██████████████████████████████████████████████████████▎           | 16255/19774 [01:49<00:25, 138.59it/s]\u001b[A\n",
      "Training:  82%|██████████████████████████████████████████████████████▎           | 16269/19774 [01:49<00:25, 137.75it/s]\u001b[A\n",
      "Training:  82%|██████████████████████████████████████████████████████▎           | 16285/19774 [01:49<00:24, 141.57it/s]\u001b[A\n",
      "Training:  82%|██████████████████████████████████████████████████████▍           | 16300/19774 [01:49<00:25, 137.73it/s]\u001b[A\n",
      "Training:  83%|██████████████████████████████████████████████████████▍           | 16314/19774 [01:49<00:25, 136.27it/s]\u001b[A\n",
      "Training:  83%|██████████████████████████████████████████████████████▌           | 16329/19774 [01:49<00:24, 139.13it/s]\u001b[A\n",
      "Training:  83%|██████████████████████████████████████████████████████▌           | 16343/19774 [01:49<00:24, 138.54it/s]\u001b[A\n",
      "Training:  83%|██████████████████████████████████████████████████████▌           | 16359/19774 [01:50<00:23, 142.80it/s]\u001b[A\n",
      "Training:  83%|██████████████████████████████████████████████████████▋           | 16374/19774 [01:50<00:23, 143.16it/s]\u001b[A\n",
      "Training:  83%|██████████████████████████████████████████████████████▋           | 16389/19774 [01:50<00:23, 143.98it/s]\u001b[A\n",
      "Training:  83%|██████████████████████████████████████████████████████▊           | 16404/19774 [01:50<00:24, 140.16it/s]\u001b[A\n",
      "Training:  83%|██████████████████████████████████████████████████████▊           | 16419/19774 [01:50<00:23, 141.43it/s]\u001b[A\n",
      "Training:  83%|██████████████████████████████████████████████████████▊           | 16434/19774 [01:50<00:24, 137.11it/s]\u001b[A\n",
      "Training:  83%|██████████████████████████████████████████████████████▉           | 16448/19774 [01:50<00:24, 135.85it/s]\u001b[A\n",
      "Training:  83%|██████████████████████████████████████████████████████▉           | 16464/19774 [01:50<00:23, 140.82it/s]\u001b[A\n",
      "Training:  83%|███████████████████████████████████████████████████████           | 16479/19774 [01:50<00:23, 141.80it/s]\u001b[A\n",
      "Training:  83%|███████████████████████████████████████████████████████           | 16494/19774 [01:50<00:22, 143.84it/s]\u001b[A\n",
      "Training:  83%|███████████████████████████████████████████████████████           | 16509/19774 [01:51<00:22, 144.11it/s]\u001b[A\n",
      "Training:  84%|███████████████████████████████████████████████████████▏          | 16524/19774 [01:51<00:22, 142.73it/s]\u001b[A\n",
      "Training:  84%|███████████████████████████████████████████████████████▏          | 16539/19774 [01:51<00:23, 140.33it/s]\u001b[A\n",
      "Training:  84%|███████████████████████████████████████████████████████▎          | 16554/19774 [01:51<00:22, 142.83it/s]\u001b[A\n",
      "Training:  84%|███████████████████████████████████████████████████████▎          | 16569/19774 [01:51<00:22, 144.65it/s]\u001b[A\n",
      "Training:  84%|███████████████████████████████████████████████████████▎          | 16584/19774 [01:51<00:22, 143.83it/s]\u001b[A\n",
      "Training:  84%|███████████████████████████████████████████████████████▍          | 16599/19774 [01:51<00:22, 141.44it/s]\u001b[A\n",
      "Training:  84%|███████████████████████████████████████████████████████▍          | 16616/19774 [01:51<00:21, 149.18it/s]\u001b[A\n",
      "Training:  84%|███████████████████████████████████████████████████████▌          | 16632/19774 [01:51<00:20, 151.54it/s]\u001b[A\n",
      "Training:  84%|███████████████████████████████████████████████████████▌          | 16648/19774 [01:52<00:20, 150.47it/s]\u001b[A\n",
      "Training:  84%|███████████████████████████████████████████████████████▌          | 16664/19774 [01:52<00:20, 150.65it/s]\u001b[A\n",
      "Training:  84%|███████████████████████████████████████████████████████▋          | 16680/19774 [01:52<00:20, 152.71it/s]\u001b[A\n",
      "Training:  84%|███████████████████████████████████████████████████████▋          | 16696/19774 [01:52<00:19, 154.30it/s]\u001b[A\n",
      "Training:  85%|███████████████████████████████████████████████████████▊          | 16712/19774 [01:52<00:19, 154.40it/s]\u001b[A\n",
      "Training:  85%|███████████████████████████████████████████████████████▊          | 16728/19774 [01:52<00:19, 155.40it/s]\u001b[A\n",
      "Training:  85%|███████████████████████████████████████████████████████▉          | 16744/19774 [01:52<00:20, 146.05it/s]\u001b[A\n",
      "Training:  85%|███████████████████████████████████████████████████████▉          | 16759/19774 [01:52<00:20, 145.20it/s]\u001b[A\n",
      "Training:  85%|███████████████████████████████████████████████████████▉          | 16775/19774 [01:52<00:20, 148.69it/s]\u001b[A\n",
      "Training:  85%|████████████████████████████████████████████████████████          | 16791/19774 [01:52<00:19, 149.20it/s]\u001b[A\n",
      "Training:  85%|████████████████████████████████████████████████████████          | 16806/19774 [01:53<00:19, 148.53it/s]\u001b[A\n",
      "Training:  85%|████████████████████████████████████████████████████████▏         | 16821/19774 [01:53<00:19, 148.01it/s]\u001b[A\n",
      "Training:  85%|████████████████████████████████████████████████████████▏         | 16837/19774 [01:53<00:19, 149.91it/s]\u001b[A\n",
      "Training:  85%|████████████████████████████████████████████████████████▎         | 16853/19774 [01:53<00:19, 151.07it/s]\u001b[A\n",
      "Training:  85%|████████████████████████████████████████████████████████▎         | 16869/19774 [01:53<00:19, 151.25it/s]\u001b[A\n",
      "Training:  85%|████████████████████████████████████████████████████████▎         | 16885/19774 [01:53<00:19, 151.48it/s]\u001b[A\n",
      "Training:  85%|████████████████████████████████████████████████████████▍         | 16901/19774 [01:53<00:19, 150.66it/s]\u001b[A\n",
      "Training:  86%|████████████████████████████████████████████████████████▍         | 16917/19774 [01:53<00:19, 149.76it/s]\u001b[A\n",
      "Training:  86%|████████████████████████████████████████████████████████▌         | 16933/19774 [01:53<00:18, 151.07it/s]\u001b[A\n",
      "Training:  86%|████████████████████████████████████████████████████████▌         | 16949/19774 [01:54<00:19, 146.89it/s]\u001b[A\n",
      "Training:  86%|████████████████████████████████████████████████████████▌         | 16964/19774 [01:54<00:19, 146.38it/s]\u001b[A\n",
      "Training:  86%|████████████████████████████████████████████████████████▋         | 16979/19774 [01:54<00:20, 137.05it/s]\u001b[A\n",
      "Training:  86%|████████████████████████████████████████████████████████▋         | 16994/19774 [01:54<00:19, 140.08it/s]\u001b[A\n",
      "Training:  86%|████████████████████████████████████████████████████████▊         | 17009/19774 [01:54<00:19, 141.19it/s]\u001b[A\n",
      "Training:  86%|████████████████████████████████████████████████████████▊         | 17026/19774 [01:54<00:18, 146.78it/s]\u001b[A\n",
      "Training:  86%|████████████████████████████████████████████████████████▉         | 17042/19774 [01:54<00:18, 148.64it/s]\u001b[A\n",
      "Training:  86%|████████████████████████████████████████████████████████▉         | 17057/19774 [01:54<00:18, 147.52it/s]\u001b[A\n",
      "Training:  86%|████████████████████████████████████████████████████████▉         | 17072/19774 [01:54<00:18, 142.39it/s]\u001b[A\n",
      "Training:  86%|█████████████████████████████████████████████████████████         | 17087/19774 [01:55<00:19, 139.62it/s]\u001b[A\n",
      "Training:  86%|█████████████████████████████████████████████████████████         | 17103/19774 [01:55<00:18, 142.35it/s]\u001b[A\n",
      "Training:  87%|█████████████████████████████████████████████████████████▏        | 17118/19774 [01:55<00:20, 130.02it/s]\u001b[A\n",
      "Training:  87%|█████████████████████████████████████████████████████████▏        | 17132/19774 [01:55<00:20, 131.53it/s]\u001b[A\n",
      "Training:  87%|█████████████████████████████████████████████████████████▏        | 17147/19774 [01:55<00:19, 136.43it/s]\u001b[A\n",
      "Training:  87%|█████████████████████████████████████████████████████████▎        | 17161/19774 [01:55<00:20, 127.45it/s]\u001b[A\n",
      "Training:  87%|█████████████████████████████████████████████████████████▎        | 17177/19774 [01:55<00:19, 134.67it/s]\u001b[A\n",
      "Training:  87%|█████████████████████████████████████████████████████████▍        | 17194/19774 [01:55<00:18, 141.39it/s]\u001b[A\n",
      "Training:  87%|█████████████████████████████████████████████████████████▍        | 17210/19774 [01:55<00:17, 145.50it/s]\u001b[A\n",
      "Training:  87%|█████████████████████████████████████████████████████████▍        | 17225/19774 [01:56<00:17, 143.22it/s]\u001b[A\n",
      "Training:  87%|█████████████████████████████████████████████████████████▌        | 17240/19774 [01:56<00:17, 144.18it/s]\u001b[A\n",
      "Training:  87%|█████████████████████████████████████████████████████████▌        | 17256/19774 [01:56<00:17, 147.46it/s]\u001b[A\n",
      "Training:  87%|█████████████████████████████████████████████████████████▋        | 17272/19774 [01:56<00:16, 148.69it/s]\u001b[A\n",
      "Training:  87%|█████████████████████████████████████████████████████████▋        | 17287/19774 [01:56<00:16, 146.69it/s]\u001b[A\n",
      "Training:  87%|█████████████████████████████████████████████████████████▋        | 17302/19774 [01:56<00:17, 144.21it/s]\u001b[A\n",
      "Training:  88%|█████████████████████████████████████████████████████████▊        | 17318/19774 [01:56<00:16, 147.50it/s]\u001b[A\n",
      "Training:  88%|█████████████████████████████████████████████████████████▊        | 17333/19774 [01:56<00:16, 147.20it/s]\u001b[A\n",
      "Training:  88%|█████████████████████████████████████████████████████████▉        | 17348/19774 [01:56<00:16, 144.94it/s]\u001b[A\n",
      "Training:  88%|█████████████████████████████████████████████████████████▉        | 17364/19774 [01:56<00:16, 146.88it/s]\u001b[A\n",
      "Training:  88%|██████████████████████████████████████████████████████████        | 17379/19774 [01:57<00:17, 140.45it/s]\u001b[A\n",
      "Training:  88%|██████████████████████████████████████████████████████████        | 17394/19774 [01:57<00:16, 141.20it/s]\u001b[A\n",
      "Training:  88%|██████████████████████████████████████████████████████████        | 17410/19774 [01:57<00:16, 145.15it/s]\u001b[A\n",
      "Training:  88%|██████████████████████████████████████████████████████████▏       | 17425/19774 [01:57<00:16, 144.06it/s]\u001b[A\n",
      "Training:  88%|██████████████████████████████████████████████████████████▏       | 17440/19774 [01:57<00:16, 143.70it/s]\u001b[A\n",
      "Training:  88%|██████████████████████████████████████████████████████████▎       | 17455/19774 [01:57<00:16, 143.08it/s]\u001b[A\n",
      "Training:  88%|██████████████████████████████████████████████████████████▎       | 17470/19774 [01:57<00:16, 143.17it/s]\u001b[A\n",
      "Training:  88%|██████████████████████████████████████████████████████████▎       | 17485/19774 [01:57<00:16, 139.09it/s]\u001b[A\n",
      "Training:  89%|██████████████████████████████████████████████████████████▍       | 17502/19774 [01:57<00:15, 146.72it/s]\u001b[A\n",
      "Training:  89%|██████████████████████████████████████████████████████████▍       | 17521/19774 [01:58<00:14, 155.85it/s]\u001b[A\n",
      "Training:  89%|██████████████████████████████████████████████████████████▌       | 17537/19774 [01:58<00:17, 126.54it/s]\u001b[A\n",
      "Training:  89%|██████████████████████████████████████████████████████████▌       | 17553/19774 [01:58<00:16, 133.17it/s]\u001b[A\n",
      "Training:  89%|██████████████████████████████████████████████████████████▋       | 17568/19774 [01:58<00:17, 123.06it/s]\u001b[A\n",
      "Training:  89%|██████████████████████████████████████████████████████████▋       | 17581/19774 [01:58<00:17, 124.52it/s]\u001b[A\n",
      "Training:  89%|██████████████████████████████████████████████████████████▋       | 17594/19774 [01:58<00:18, 119.57it/s]\u001b[A\n",
      "Training:  89%|██████████████████████████████████████████████████████████▊       | 17607/19774 [01:58<00:18, 115.46it/s]\u001b[A\n",
      "Training:  89%|██████████████████████████████████████████████████████████▊       | 17619/19774 [01:58<00:18, 116.42it/s]\u001b[A\n",
      "Training:  89%|██████████████████████████████████████████████████████████▊       | 17631/19774 [01:59<00:20, 102.74it/s]\u001b[A\n",
      "Training:  89%|███████████████████████████████████████████████████████████▊       | 17643/19774 [01:59<00:21, 99.02it/s]\u001b[A\n",
      "Training:  89%|███████████████████████████████████████████████████████████▊       | 17654/19774 [01:59<00:21, 98.00it/s]\u001b[A\n",
      "Training:  89%|███████████████████████████████████████████████████████████▊       | 17664/19774 [01:59<00:22, 95.86it/s]\u001b[A\n",
      "Training:  89%|███████████████████████████████████████████████████████████       | 17679/19774 [01:59<00:19, 109.10it/s]\u001b[A\n",
      "Training:  89%|███████████████████████████████████████████████████████████▉       | 17691/19774 [01:59<00:22, 90.67it/s]\u001b[A\n",
      "Training:  90%|███████████████████████████████████████████████████████████▉       | 17703/19774 [01:59<00:21, 95.30it/s]\u001b[A\n",
      "Training:  90%|████████████████████████████████████████████████████████████       | 17714/19774 [01:59<00:20, 98.72it/s]\u001b[A\n",
      "Training:  90%|████████████████████████████████████████████████████████████       | 17725/19774 [02:00<00:21, 95.12it/s]\u001b[A\n",
      "Training:  90%|████████████████████████████████████████████████████████████       | 17735/19774 [02:00<00:23, 87.72it/s]\u001b[A\n",
      "Training:  90%|████████████████████████████████████████████████████████████▏      | 17745/19774 [02:00<00:22, 89.37it/s]\u001b[A\n",
      "Training:  90%|████████████████████████████████████████████████████████████▏      | 17755/19774 [02:00<00:22, 89.71it/s]\u001b[A\n",
      "Training:  90%|████████████████████████████████████████████████████████████▏      | 17765/19774 [02:00<00:21, 91.70it/s]\u001b[A\n",
      "Training:  90%|████████████████████████████████████████████████████████████▏      | 17776/19774 [02:00<00:20, 95.18it/s]\u001b[A\n",
      "Training:  90%|███████████████████████████████████████████████████████████▍      | 17790/19774 [02:00<00:18, 105.53it/s]\u001b[A\n",
      "Training:  90%|███████████████████████████████████████████████████████████▍      | 17801/19774 [02:00<00:19, 100.04it/s]\u001b[A\n",
      "Training:  90%|███████████████████████████████████████████████████████████▍      | 17814/19774 [02:00<00:18, 105.39it/s]\u001b[A\n",
      "Training:  90%|███████████████████████████████████████████████████████████▍      | 17826/19774 [02:01<00:17, 108.54it/s]\u001b[A\n",
      "Training:  90%|███████████████████████████████████████████████████████████▌      | 17837/19774 [02:01<00:17, 108.65it/s]\u001b[A\n",
      "Training:  90%|███████████████████████████████████████████████████████████▌      | 17851/19774 [02:01<00:16, 117.13it/s]\u001b[A\n",
      "Training:  90%|███████████████████████████████████████████████████████████▌      | 17863/19774 [02:01<00:16, 116.34it/s]\u001b[A\n",
      "Training:  90%|███████████████████████████████████████████████████████████▋      | 17879/19774 [02:01<00:15, 126.12it/s]\u001b[A\n",
      "Training:  90%|███████████████████████████████████████████████████████████▋      | 17892/19774 [02:01<00:15, 119.75it/s]\u001b[A\n",
      "Training:  91%|███████████████████████████████████████████████████████████▊      | 17905/19774 [02:01<00:16, 115.33it/s]\u001b[A\n",
      "Training:  91%|███████████████████████████████████████████████████████████▊      | 17921/19774 [02:01<00:14, 126.74it/s]\u001b[A\n",
      "Training:  91%|███████████████████████████████████████████████████████████▊      | 17934/19774 [02:01<00:14, 123.82it/s]\u001b[A\n",
      "Training:  91%|███████████████████████████████████████████████████████████▉      | 17949/19774 [02:02<00:13, 130.36it/s]\u001b[A\n",
      "Training:  91%|███████████████████████████████████████████████████████████▉      | 17963/19774 [02:02<00:15, 118.37it/s]\u001b[A\n",
      "Training:  91%|███████████████████████████████████████████████████████████▉      | 17976/19774 [02:02<00:15, 116.85it/s]\u001b[A\n",
      "Training:  91%|████████████████████████████████████████████████████████████      | 17991/19774 [02:02<00:14, 124.86it/s]\u001b[A\n",
      "Training:  91%|████████████████████████████████████████████████████████████      | 18004/19774 [02:02<00:14, 121.02it/s]\u001b[A\n",
      "Training:  91%|████████████████████████████████████████████████████████████▏     | 18019/19774 [02:02<00:13, 126.19it/s]\u001b[A\n",
      "Training:  91%|████████████████████████████████████████████████████████████▏     | 18032/19774 [02:02<00:13, 125.08it/s]\u001b[A\n",
      "Training:  91%|████████████████████████████████████████████████████████████▏     | 18045/19774 [02:02<00:14, 119.71it/s]\u001b[A\n",
      "Training:  91%|████████████████████████████████████████████████████████████▎     | 18058/19774 [02:02<00:14, 122.01it/s]\u001b[A\n",
      "Training:  91%|████████████████████████████████████████████████████████████▎     | 18071/19774 [02:03<00:14, 115.45it/s]\u001b[A\n",
      "Training:  91%|████████████████████████████████████████████████████████████▎     | 18083/19774 [02:03<00:14, 113.27it/s]\u001b[A\n",
      "Training:  92%|████████████████████████████████████████████████████████████▍     | 18098/19774 [02:03<00:13, 122.16it/s]\u001b[A\n",
      "Training:  92%|████████████████████████████████████████████████████████████▍     | 18111/19774 [02:03<00:13, 120.28it/s]\u001b[A\n",
      "Training:  92%|████████████████████████████████████████████████████████████▍     | 18126/19774 [02:03<00:12, 128.19it/s]\u001b[A\n",
      "Training:  92%|████████████████████████████████████████████████████████████▌     | 18139/19774 [02:03<00:13, 123.71it/s]\u001b[A\n",
      "Training:  92%|████████████████████████████████████████████████████████████▌     | 18152/19774 [02:03<00:13, 122.85it/s]\u001b[A\n",
      "Training:  92%|████████████████████████████████████████████████████████████▋     | 18167/19774 [02:03<00:12, 128.55it/s]\u001b[A\n",
      "Training:  92%|████████████████████████████████████████████████████████████▋     | 18180/19774 [02:03<00:12, 125.14it/s]\u001b[A\n",
      "Training:  92%|████████████████████████████████████████████████████████████▋     | 18196/19774 [02:04<00:11, 133.90it/s]\u001b[A\n",
      "Training:  92%|████████████████████████████████████████████████████████████▊     | 18210/19774 [02:04<00:12, 129.23it/s]\u001b[A\n",
      "Training:  92%|████████████████████████████████████████████████████████████▊     | 18224/19774 [02:04<00:12, 125.84it/s]\u001b[A\n",
      "Training:  92%|████████████████████████████████████████████████████████████▊     | 18237/19774 [02:04<00:12, 126.84it/s]\u001b[A\n",
      "Training:  92%|████████████████████████████████████████████████████████████▉     | 18250/19774 [02:04<00:12, 122.38it/s]\u001b[A\n",
      "Training:  92%|████████████████████████████████████████████████████████████▉     | 18266/19774 [02:04<00:11, 126.52it/s]\u001b[A\n",
      "Training:  92%|█████████████████████████████████████████████████████████████     | 18280/19774 [02:04<00:11, 127.85it/s]\u001b[A\n",
      "Training:  93%|█████████████████████████████████████████████████████████████     | 18293/19774 [02:04<00:12, 121.21it/s]\u001b[A\n",
      "Training:  93%|█████████████████████████████████████████████████████████████     | 18306/19774 [02:04<00:12, 118.84it/s]\u001b[A\n",
      "Training:  93%|█████████████████████████████████████████████████████████████▏    | 18318/19774 [02:05<00:12, 115.89it/s]\u001b[A\n",
      "Training:  93%|█████████████████████████████████████████████████████████████▏    | 18333/19774 [02:05<00:12, 117.78it/s]\u001b[A\n",
      "Training:  93%|█████████████████████████████████████████████████████████████▏    | 18348/19774 [02:05<00:11, 123.49it/s]\u001b[A\n",
      "Training:  93%|█████████████████████████████████████████████████████████████▎    | 18361/19774 [02:05<00:11, 122.58it/s]\u001b[A\n",
      "Training:  93%|█████████████████████████████████████████████████████████████▎    | 18377/19774 [02:05<00:10, 131.51it/s]\u001b[A\n",
      "Training:  93%|█████████████████████████████████████████████████████████████▍    | 18391/19774 [02:05<00:10, 126.05it/s]\u001b[A\n",
      "Training:  93%|█████████████████████████████████████████████████████████████▍    | 18404/19774 [02:05<00:10, 126.82it/s]\u001b[A\n",
      "Training:  93%|█████████████████████████████████████████████████████████████▍    | 18419/19774 [02:05<00:10, 132.19it/s]\u001b[A\n",
      "Training:  93%|█████████████████████████████████████████████████████████████▌    | 18433/19774 [02:05<00:10, 127.79it/s]\u001b[A\n",
      "Training:  93%|█████████████████████████████████████████████████████████████▌    | 18449/19774 [02:06<00:09, 135.50it/s]\u001b[A\n",
      "Training:  93%|█████████████████████████████████████████████████████████████▌    | 18463/19774 [02:06<00:10, 128.81it/s]\u001b[A\n",
      "Training:  93%|█████████████████████████████████████████████████████████████▋    | 18477/19774 [02:06<00:10, 127.93it/s]\u001b[A\n",
      "Training:  94%|█████████████████████████████████████████████████████████████▋    | 18492/19774 [02:06<00:09, 132.88it/s]\u001b[A\n",
      "Training:  94%|█████████████████████████████████████████████████████████████▊    | 18506/19774 [02:06<00:09, 129.61it/s]\u001b[A\n",
      "Training:  94%|█████████████████████████████████████████████████████████████▊    | 18522/19774 [02:06<00:09, 136.40it/s]\u001b[A\n",
      "Training:  94%|█████████████████████████████████████████████████████████████▊    | 18536/19774 [02:06<00:09, 132.23it/s]\u001b[A\n",
      "Training:  94%|█████████████████████████████████████████████████████████████▉    | 18550/19774 [02:06<00:09, 132.83it/s]\u001b[A\n",
      "Training:  94%|█████████████████████████████████████████████████████████████▉    | 18565/19774 [02:06<00:08, 135.65it/s]\u001b[A\n",
      "Training:  94%|██████████████████████████████████████████████████████████████    | 18579/19774 [02:07<00:09, 130.46it/s]\u001b[A\n",
      "Training:  94%|██████████████████████████████████████████████████████████████    | 18595/19774 [02:07<00:08, 137.46it/s]\u001b[A\n",
      "Training:  94%|██████████████████████████████████████████████████████████████    | 18609/19774 [02:07<00:08, 131.77it/s]\u001b[A\n",
      "Training:  94%|██████████████████████████████████████████████████████████████▏   | 18625/19774 [02:07<00:08, 129.92it/s]\u001b[A\n",
      "Training:  94%|██████████████████████████████████████████████████████████████▏   | 18640/19774 [02:07<00:08, 133.11it/s]\u001b[A\n",
      "Training:  94%|██████████████████████████████████████████████████████████████▎   | 18654/19774 [02:07<00:08, 127.57it/s]\u001b[A\n",
      "Training:  94%|██████████████████████████████████████████████████████████████▎   | 18671/19774 [02:07<00:08, 136.98it/s]\u001b[A\n",
      "Training:  94%|██████████████████████████████████████████████████████████████▎   | 18685/19774 [02:07<00:08, 131.19it/s]\u001b[A\n",
      "Training:  95%|██████████████████████████████████████████████████████████████▍   | 18699/19774 [02:07<00:08, 130.01it/s]\u001b[A\n",
      "Training:  95%|██████████████████████████████████████████████████████████████▍   | 18714/19774 [02:08<00:07, 134.08it/s]\u001b[A\n",
      "Training:  95%|██████████████████████████████████████████████████████████████▌   | 18728/19774 [02:08<00:08, 129.86it/s]\u001b[A\n",
      "Training:  95%|██████████████████████████████████████████████████████████████▌   | 18743/19774 [02:08<00:07, 133.84it/s]\u001b[A\n",
      "Training:  95%|██████████████████████████████████████████████████████████████▌   | 18757/19774 [02:08<00:07, 128.96it/s]\u001b[A\n",
      "Training:  95%|██████████████████████████████████████████████████████████████▋   | 18774/19774 [02:08<00:07, 133.77it/s]\u001b[A\n",
      "Training:  95%|██████████████████████████████████████████████████████████████▋   | 18788/19774 [02:08<00:07, 133.84it/s]\u001b[A\n",
      "Training:  95%|██████████████████████████████████████████████████████████████▊   | 18802/19774 [02:08<00:07, 132.41it/s]\u001b[A\n",
      "Training:  95%|██████████████████████████████████████████████████████████████▊   | 18818/19774 [02:08<00:06, 137.89it/s]\u001b[A\n",
      "Training:  95%|██████████████████████████████████████████████████████████████▊   | 18832/19774 [02:08<00:07, 130.32it/s]\u001b[A\n",
      "Training:  95%|██████████████████████████████████████████████████████████████▉   | 18846/19774 [02:09<00:06, 132.91it/s]\u001b[A\n",
      "Training:  95%|██████████████████████████████████████████████████████████████▉   | 18860/19774 [02:09<00:07, 129.04it/s]\u001b[A\n",
      "Training:  95%|██████████████████████████████████████████████████████████████▉   | 18874/19774 [02:09<00:06, 130.07it/s]\u001b[A\n",
      "Training:  96%|███████████████████████████████████████████████████████████████   | 18888/19774 [02:09<00:06, 131.44it/s]\u001b[A\n",
      "Training:  96%|███████████████████████████████████████████████████████████████   | 18902/19774 [02:09<00:06, 126.31it/s]\u001b[A\n",
      "Training:  96%|███████████████████████████████████████████████████████████████▏  | 18919/19774 [02:09<00:06, 136.01it/s]\u001b[A\n",
      "Training:  96%|███████████████████████████████████████████████████████████████▏  | 18933/19774 [02:09<00:06, 133.09it/s]\u001b[A\n",
      "Training:  96%|███████████████████████████████████████████████████████████████▏  | 18949/19774 [02:09<00:06, 131.45it/s]\u001b[A\n",
      "Training:  96%|███████████████████████████████████████████████████████████████▎  | 18964/19774 [02:09<00:06, 134.79it/s]\u001b[A\n",
      "Training:  96%|███████████████████████████████████████████████████████████████▎  | 18978/19774 [02:10<00:06, 129.68it/s]\u001b[A\n",
      "Training:  96%|███████████████████████████████████████████████████████████████▍  | 18993/19774 [02:10<00:05, 134.94it/s]\u001b[A\n",
      "Training:  96%|███████████████████████████████████████████████████████████████▍  | 19007/19774 [02:10<00:05, 130.46it/s]\u001b[A\n",
      "Training:  96%|███████████████████████████████████████████████████████████████▍  | 19021/19774 [02:10<00:05, 132.15it/s]\u001b[A\n",
      "Training:  96%|███████████████████████████████████████████████████████████████▌  | 19035/19774 [02:10<00:05, 131.07it/s]\u001b[A\n",
      "Training:  96%|███████████████████████████████████████████████████████████████▌  | 19049/19774 [02:10<00:05, 128.28it/s]\u001b[A\n",
      "Training:  96%|███████████████████████████████████████████████████████████████▋  | 19063/19774 [02:10<00:05, 131.07it/s]\u001b[A\n",
      "Training:  96%|███████████████████████████████████████████████████████████████▋  | 19077/19774 [02:10<00:05, 125.54it/s]\u001b[A\n",
      "Training:  97%|███████████████████████████████████████████████████████████████▋  | 19093/19774 [02:10<00:05, 133.77it/s]\u001b[A\n",
      "Training:  97%|███████████████████████████████████████████████████████████████▊  | 19107/19774 [02:11<00:05, 126.33it/s]\u001b[A\n",
      "Training:  97%|███████████████████████████████████████████████████████████████▊  | 19120/19774 [02:11<00:05, 122.56it/s]\u001b[A\n",
      "Training:  97%|███████████████████████████████████████████████████████████████▊  | 19135/19774 [02:11<00:04, 128.24it/s]\u001b[A\n",
      "Training:  97%|███████████████████████████████████████████████████████████████▉  | 19148/19774 [02:11<00:05, 124.69it/s]\u001b[A\n",
      "Training:  97%|███████████████████████████████████████████████████████████████▉  | 19163/19774 [02:11<00:04, 130.87it/s]\u001b[A\n",
      "Training:  97%|████████████████████████████████████████████████████████████████  | 19177/19774 [02:11<00:04, 125.07it/s]\u001b[A\n",
      "Training:  97%|████████████████████████████████████████████████████████████████  | 19192/19774 [02:11<00:04, 129.23it/s]\u001b[A\n",
      "Training:  97%|████████████████████████████████████████████████████████████████  | 19206/19774 [02:11<00:04, 125.51it/s]\u001b[A\n",
      "Training:  97%|████████████████████████████████████████████████████████████████▏ | 19219/19774 [02:11<00:04, 124.64it/s]\u001b[A\n",
      "Training:  97%|████████████████████████████████████████████████████████████████▏ | 19233/19774 [02:12<00:04, 126.86it/s]\u001b[A\n",
      "Training:  97%|████████████████████████████████████████████████████████████████▏ | 19246/19774 [02:12<00:04, 122.09it/s]\u001b[A\n",
      "Training:  97%|████████████████████████████████████████████████████████████████▎ | 19260/19774 [02:12<00:04, 124.77it/s]\u001b[A\n",
      "Training:  97%|████████████████████████████████████████████████████████████████▎ | 19273/19774 [02:12<00:04, 117.50it/s]\u001b[A\n",
      "Training:  98%|████████████████████████████████████████████████████████████████▎ | 19287/19774 [02:12<00:04, 118.57it/s]\u001b[A\n",
      "Training:  98%|████████████████████████████████████████████████████████████████▍ | 19299/19774 [02:12<00:03, 118.77it/s]\u001b[A\n",
      "Training:  98%|████████████████████████████████████████████████████████████████▍ | 19311/19774 [02:12<00:03, 117.69it/s]\u001b[A\n",
      "Training:  98%|████████████████████████████████████████████████████████████████▌ | 19325/19774 [02:12<00:03, 122.00it/s]\u001b[A\n",
      "Training:  98%|████████████████████████████████████████████████████████████████▌ | 19338/19774 [02:12<00:03, 117.49it/s]\u001b[A\n",
      "Training:  98%|████████████████████████████████████████████████████████████████▌ | 19352/19774 [02:13<00:03, 116.72it/s]\u001b[A\n",
      "Training:  98%|████████████████████████████████████████████████████████████████▋ | 19367/19774 [02:13<00:03, 124.14it/s]\u001b[A\n",
      "Training:  98%|████████████████████████████████████████████████████████████████▋ | 19380/19774 [02:13<00:03, 121.06it/s]\u001b[A\n",
      "Training:  98%|████████████████████████████████████████████████████████████████▋ | 19395/19774 [02:13<00:02, 127.52it/s]\u001b[A\n",
      "Training:  98%|████████████████████████████████████████████████████████████████▊ | 19408/19774 [02:13<00:03, 121.85it/s]\u001b[A\n",
      "Training:  98%|████████████████████████████████████████████████████████████████▊ | 19422/19774 [02:13<00:02, 120.95it/s]\u001b[A\n",
      "Training:  98%|████████████████████████████████████████████████████████████████▉ | 19437/19774 [02:13<00:02, 128.58it/s]\u001b[A\n",
      "Training:  98%|████████████████████████████████████████████████████████████████▉ | 19450/19774 [02:13<00:02, 122.81it/s]\u001b[A\n",
      "Training:  98%|████████████████████████████████████████████████████████████████▉ | 19465/19774 [02:13<00:02, 127.72it/s]\u001b[A\n",
      "Training:  99%|█████████████████████████████████████████████████████████████████ | 19478/19774 [02:14<00:02, 124.44it/s]\u001b[A\n",
      "Training:  99%|█████████████████████████████████████████████████████████████████ | 19493/19774 [02:14<00:02, 120.36it/s]\u001b[A\n",
      "Training:  99%|█████████████████████████████████████████████████████████████████ | 19507/19774 [02:14<00:02, 123.19it/s]\u001b[A\n",
      "Training:  99%|█████████████████████████████████████████████████████████████████▏| 19520/19774 [02:14<00:02, 116.29it/s]\u001b[A\n",
      "Training:  99%|█████████████████████████████████████████████████████████████████▏| 19534/19774 [02:14<00:01, 120.70it/s]\u001b[A\n",
      "Training:  99%|█████████████████████████████████████████████████████████████████▏| 19547/19774 [02:14<00:01, 119.23it/s]\u001b[A\n",
      "Training:  99%|█████████████████████████████████████████████████████████████████▎| 19562/19774 [02:14<00:01, 118.82it/s]\u001b[A\n",
      "Training:  99%|█████████████████████████████████████████████████████████████████▎| 19575/19774 [02:14<00:01, 121.78it/s]\u001b[A\n",
      "Training:  99%|█████████████████████████████████████████████████████████████████▍| 19588/19774 [02:15<00:01, 100.06it/s]\u001b[A\n",
      "Training:  99%|█████████████████████████████████████████████████████████████████▍| 19600/19774 [02:15<00:01, 103.93it/s]\u001b[A\n",
      "Training:  99%|█████████████████████████████████████████████████████████████████▍| 19611/19774 [02:15<00:01, 104.08it/s]\u001b[A\n",
      "Training:  99%|██████████████████████████████████████████████████████████████████▍| 19622/19774 [02:15<00:01, 93.68it/s]\u001b[A\n",
      "Training:  99%|██████████████████████████████████████████████████████████████████▌| 19632/19774 [02:15<00:01, 92.63it/s]\u001b[A\n",
      "Training:  99%|██████████████████████████████████████████████████████████████████▌| 19643/19774 [02:15<00:01, 95.89it/s]\u001b[A\n",
      "Training:  99%|█████████████████████████████████████████████████████████████████▌| 19656/19774 [02:15<00:01, 100.43it/s]\u001b[A\n",
      "Training:  99%|█████████████████████████████████████████████████████████████████▋| 19669/19774 [02:15<00:00, 105.91it/s]\u001b[A\n",
      "Training: 100%|██████████████████████████████████████████████████████████████████▋| 19680/19774 [02:16<00:00, 95.19it/s]\u001b[A\n",
      "Training: 100%|█████████████████████████████████████████████████████████████████▋| 19693/19774 [02:16<00:00, 102.50it/s]\u001b[A\n",
      "Training: 100%|██████████████████████████████████████████████████████████████████▊| 19704/19774 [02:16<00:00, 91.61it/s]\u001b[A\n",
      "Training: 100%|██████████████████████████████████████████████████████████████████▊| 19717/19774 [02:16<00:00, 95.42it/s]\u001b[A\n",
      "Training: 100%|██████████████████████████████████████████████████████████████████▊| 19729/19774 [02:16<00:00, 99.27it/s]\u001b[A\n",
      "Training: 100%|██████████████████████████████████████████████████████████████████▉| 19740/19774 [02:16<00:00, 94.27it/s]\u001b[A\n",
      "Training: 100%|██████████████████████████████████████████████████████████████████▉| 19754/19774 [02:16<00:00, 99.46it/s]\u001b[A\n",
      "Training: 100%|█████████████████████████████████████████████████████████████████▉| 19768/19774 [02:16<00:00, 108.10it/s]\u001b[A\n",
      "                                                                                                                        \u001b[A\n",
      "Testing:   0%|                                                                                  | 0/300 [00:00<?, ?it/s]\u001b[A\n",
      "Testing:   7%|█████                                                                   | 21/300 [00:00<00:01, 207.95it/s]\u001b[A\n",
      "Testing:  14%|██████████                                                              | 42/300 [00:00<00:01, 193.12it/s]\u001b[A\n",
      "Testing:  23%|████████████████▎                                                       | 68/300 [00:00<00:01, 221.21it/s]\u001b[A\n",
      "Testing:  30%|█████████████████████▊                                                  | 91/300 [00:00<00:00, 216.89it/s]\u001b[A\n",
      "Testing:  40%|████████████████████████████▏                                          | 119/300 [00:00<00:00, 236.69it/s]\u001b[A\n",
      "Testing:  48%|█████████████████████████████████▊                                     | 143/300 [00:00<00:00, 225.57it/s]\u001b[A\n",
      "Testing:  56%|███████████████████████████████████████▊                               | 168/300 [00:00<00:00, 232.85it/s]\u001b[A\n",
      "Testing:  64%|█████████████████████████████████████████████▍                         | 192/300 [00:00<00:00, 223.64it/s]\u001b[A\n",
      "Testing:  72%|███████████████████████████████████████████████████                    | 216/300 [00:00<00:00, 227.16it/s]\u001b[A\n",
      "Testing:  82%|██████████████████████████████████████████████████████████▏            | 246/300 [00:01<00:00, 247.88it/s]\u001b[A\n",
      "Testing:  90%|████████████████████████████████████████████████████████████████▏      | 271/300 [00:01<00:00, 235.75it/s]\u001b[A\n",
      "Testing:  99%|██████████████████████████████████████████████████████████████████████▌| 298/300 [00:01<00:00, 244.85it/s]\u001b[A\n",
      "Epoch:  20%|███████████████▍                                                             | 1/5 [02:18<09:13, 138.26s/it]\u001b[A\n",
      "Training:   0%|                                                                               | 0/19774 [00:00<?, ?it/s]\u001b[A\n",
      "Training:   0%|                                                                      | 10/19774 [00:00<03:22, 97.37it/s]\u001b[A\n",
      "Training:   0%|                                                                     | 25/19774 [00:00<02:35, 127.39it/s]\u001b[A\n",
      "Training:   0%|▏                                                                    | 38/19774 [00:00<02:43, 120.39it/s]\u001b[A\n",
      "Training:   0%|▏                                                                    | 51/19774 [00:00<02:44, 119.82it/s]\u001b[A\n",
      "Training:   0%|▏                                                                    | 65/19774 [00:00<02:38, 124.56it/s]\u001b[A\n",
      "Training:   0%|▎                                                                    | 78/19774 [00:00<02:44, 119.76it/s]\u001b[A\n",
      "Training:   0%|▎                                                                    | 94/19774 [00:00<02:30, 130.44it/s]\u001b[A\n",
      "Training:   1%|▎                                                                   | 108/19774 [00:00<02:42, 121.13it/s]\u001b[A\n",
      "Training:   1%|▍                                                                   | 121/19774 [00:01<02:45, 118.83it/s]\u001b[A\n",
      "Training:   1%|▍                                                                   | 135/19774 [00:01<02:37, 124.63it/s]\u001b[A\n",
      "Training:   1%|▌                                                                   | 148/19774 [00:01<02:47, 117.22it/s]\u001b[A\n",
      "Training:   1%|▌                                                                   | 161/19774 [00:01<02:49, 115.81it/s]\u001b[A\n",
      "Training:   1%|▌                                                                   | 173/19774 [00:01<02:47, 116.75it/s]\u001b[A\n",
      "Training:   1%|▋                                                                   | 185/19774 [00:01<02:53, 113.09it/s]\u001b[A\n",
      "Training:   1%|▋                                                                   | 200/19774 [00:01<02:40, 121.80it/s]\u001b[A\n",
      "Training:   1%|▋                                                                   | 213/19774 [00:01<02:48, 115.80it/s]\u001b[A\n",
      "Training:   1%|▊                                                                   | 225/19774 [00:01<02:59, 108.84it/s]\u001b[A\n",
      "Training:   1%|▊                                                                   | 240/19774 [00:02<02:43, 119.32it/s]\u001b[A\n",
      "Training:   1%|▊                                                                   | 253/19774 [00:02<02:52, 113.45it/s]\u001b[A\n",
      "Training:   1%|▉                                                                   | 265/19774 [00:02<02:50, 114.16it/s]\u001b[A\n",
      "Training:   1%|▉                                                                   | 280/19774 [00:02<02:40, 121.73it/s]\u001b[A\n",
      "Training:   1%|█                                                                   | 293/19774 [00:02<02:40, 121.46it/s]\u001b[A\n",
      "Training:   2%|█                                                                   | 308/19774 [00:02<02:38, 122.62it/s]\u001b[A\n",
      "Training:   2%|█                                                                   | 323/19774 [00:02<02:33, 126.88it/s]\u001b[A\n",
      "Training:   2%|█▏                                                                  | 336/19774 [00:02<02:40, 120.88it/s]\u001b[A\n",
      "Training:   2%|█▏                                                                  | 351/19774 [00:02<02:36, 124.14it/s]\u001b[A\n",
      "Training:   2%|█▎                                                                  | 365/19774 [00:03<02:31, 128.13it/s]\u001b[A\n",
      "Training:   2%|█▎                                                                  | 378/19774 [00:03<02:34, 125.24it/s]\u001b[A\n",
      "Training:   2%|█▎                                                                  | 394/19774 [00:03<02:25, 133.12it/s]\u001b[A\n",
      "Training:   2%|█▍                                                                  | 408/19774 [00:03<02:30, 128.34it/s]\u001b[A\n",
      "Training:   2%|█▍                                                                  | 422/19774 [00:03<02:27, 131.11it/s]\u001b[A\n",
      "Training:   2%|█▍                                                                  | 436/19774 [00:03<02:25, 132.56it/s]\u001b[A\n",
      "Training:   2%|█▌                                                                  | 450/19774 [00:03<02:31, 127.75it/s]\u001b[A\n",
      "Training:   2%|█▌                                                                  | 467/19774 [00:03<02:20, 137.26it/s]\u001b[A\n",
      "Training:   2%|█▋                                                                  | 481/19774 [00:03<02:24, 133.53it/s]\u001b[A\n",
      "Training:   3%|█▋                                                                  | 495/19774 [00:04<02:28, 129.91it/s]\u001b[A\n",
      "Training:   3%|█▊                                                                  | 510/19774 [00:04<02:23, 134.43it/s]\u001b[A\n",
      "Training:   3%|█▊                                                                  | 524/19774 [00:04<02:30, 128.30it/s]\u001b[A\n",
      "Training:   3%|█▊                                                                  | 539/19774 [00:04<02:33, 125.24it/s]\u001b[A\n",
      "Training:   3%|█▉                                                                  | 554/19774 [00:04<02:25, 131.78it/s]\u001b[A\n",
      "Training:   3%|█▉                                                                  | 568/19774 [00:04<02:34, 124.58it/s]\u001b[A\n",
      "Training:   3%|██                                                                  | 583/19774 [00:04<02:28, 129.37it/s]\u001b[A\n",
      "Training:   3%|██                                                                  | 597/19774 [00:04<02:32, 125.82it/s]\u001b[A\n",
      "Training:   3%|██                                                                  | 612/19774 [00:04<02:31, 126.69it/s]\u001b[A\n",
      "Training:   3%|██▏                                                                 | 628/19774 [00:05<02:23, 133.59it/s]\u001b[A\n",
      "Training:   3%|██▏                                                                 | 642/19774 [00:05<02:30, 127.34it/s]\u001b[A\n",
      "Training:   3%|██▎                                                                 | 658/19774 [00:05<02:28, 128.63it/s]\u001b[A\n",
      "Training:   3%|██▎                                                                 | 673/19774 [00:05<02:22, 133.64it/s]\u001b[A\n",
      "Training:   3%|██▎                                                                 | 687/19774 [00:05<02:23, 132.78it/s]\u001b[A\n",
      "Training:   4%|██▍                                                                 | 702/19774 [00:05<02:19, 136.44it/s]\u001b[A\n",
      "Training:   4%|██▍                                                                 | 716/19774 [00:05<02:26, 130.11it/s]\u001b[A\n",
      "Training:   4%|██▌                                                                 | 730/19774 [00:05<02:28, 128.38it/s]\u001b[A\n",
      "Training:   4%|██▌                                                                 | 747/19774 [00:05<02:18, 137.79it/s]\u001b[A\n",
      "Training:   4%|██▌                                                                 | 761/19774 [00:06<02:23, 132.64it/s]\u001b[A\n",
      "Training:   4%|██▋                                                                 | 776/19774 [00:06<02:20, 135.30it/s]\u001b[A\n",
      "Training:   4%|██▋                                                                 | 790/19774 [00:06<02:20, 134.77it/s]\u001b[A\n",
      "Training:   4%|██▊                                                                 | 804/19774 [00:06<02:22, 132.84it/s]\u001b[A\n",
      "Training:   4%|██▊                                                                 | 821/19774 [00:06<02:13, 142.05it/s]\u001b[A\n",
      "Training:   4%|██▊                                                                 | 836/19774 [00:06<02:19, 135.49it/s]\u001b[A\n",
      "Training:   4%|██▉                                                                 | 850/19774 [00:06<02:24, 131.15it/s]\u001b[A\n",
      "Training:   4%|██▉                                                                 | 865/19774 [00:06<02:19, 135.40it/s]\u001b[A\n",
      "Training:   4%|███                                                                 | 879/19774 [00:06<02:31, 125.06it/s]\u001b[A\n",
      "Training:   5%|███                                                                 | 892/19774 [00:07<02:30, 125.73it/s]\u001b[A\n",
      "Training:   5%|███                                                                 | 906/19774 [00:07<02:26, 128.82it/s]\u001b[A\n",
      "Training:   5%|███▏                                                                | 919/19774 [00:07<02:33, 122.81it/s]\u001b[A\n",
      "Training:   5%|███▏                                                                | 933/19774 [00:07<02:28, 126.65it/s]\u001b[A\n",
      "Training:   5%|███▎                                                                | 946/19774 [00:07<02:30, 124.99it/s]\u001b[A\n",
      "Training:   5%|███▎                                                                | 961/19774 [00:07<02:22, 131.98it/s]\u001b[A\n",
      "Training:   5%|███▎                                                                | 975/19774 [00:07<02:26, 128.59it/s]\u001b[A\n",
      "Training:   5%|███▍                                                                | 990/19774 [00:07<02:19, 134.59it/s]\u001b[A\n",
      "Training:   5%|███▍                                                               | 1004/19774 [00:07<02:25, 128.84it/s]\u001b[A\n",
      "Training:   5%|███▍                                                               | 1018/19774 [00:08<02:25, 129.04it/s]\u001b[A\n",
      "Training:   5%|███▌                                                               | 1033/19774 [00:08<02:21, 132.18it/s]\u001b[A\n",
      "Training:   5%|███▌                                                               | 1047/19774 [00:08<02:25, 128.35it/s]\u001b[A\n",
      "Training:   5%|███▌                                                               | 1062/19774 [00:08<02:21, 132.10it/s]\u001b[A\n",
      "Training:   5%|███▋                                                               | 1076/19774 [00:08<02:31, 123.34it/s]\u001b[A\n",
      "Training:   6%|███▋                                                               | 1089/19774 [00:08<02:35, 120.43it/s]\u001b[A\n",
      "Training:   6%|███▋                                                               | 1103/19774 [00:08<02:29, 125.13it/s]\u001b[A\n",
      "Training:   6%|███▊                                                               | 1116/19774 [00:08<02:32, 122.18it/s]\u001b[A\n",
      "Training:   6%|███▊                                                               | 1130/19774 [00:08<02:34, 120.57it/s]\u001b[A\n",
      "Training:   6%|███▉                                                               | 1145/19774 [00:09<02:27, 126.47it/s]\u001b[A\n",
      "Training:   6%|███▉                                                               | 1158/19774 [00:09<02:31, 122.70it/s]\u001b[A\n",
      "Training:   6%|███▉                                                               | 1173/19774 [00:09<02:24, 128.99it/s]\u001b[A\n",
      "Training:   6%|████                                                               | 1186/19774 [00:09<02:24, 128.22it/s]\u001b[A\n",
      "Training:   6%|████                                                               | 1199/19774 [00:09<02:25, 127.36it/s]\u001b[A\n",
      "Training:   6%|████                                                               | 1214/19774 [00:09<02:20, 132.19it/s]\u001b[A\n",
      "Training:   6%|████▏                                                              | 1228/19774 [00:09<02:27, 125.94it/s]\u001b[A\n",
      "Training:   6%|████▏                                                              | 1243/19774 [00:09<02:24, 127.93it/s]\u001b[A\n",
      "Training:   6%|████▎                                                              | 1257/19774 [00:09<02:21, 130.43it/s]\u001b[A\n",
      "Training:   6%|████▎                                                              | 1271/19774 [00:10<02:26, 126.52it/s]\u001b[A\n",
      "Training:   7%|████▎                                                              | 1286/19774 [00:10<02:19, 132.74it/s]\u001b[A\n",
      "Training:   7%|████▍                                                              | 1300/19774 [00:10<02:24, 128.14it/s]\u001b[A\n",
      "Training:   7%|████▍                                                              | 1313/19774 [00:10<02:27, 125.45it/s]\u001b[A\n",
      "Training:   7%|████▍                                                              | 1328/19774 [00:10<02:21, 130.74it/s]\u001b[A\n",
      "Training:   7%|████▌                                                              | 1342/19774 [00:10<02:25, 126.41it/s]\u001b[A\n",
      "Training:   7%|████▌                                                              | 1358/19774 [00:10<02:21, 129.70it/s]\u001b[A\n",
      "Training:   7%|████▋                                                              | 1372/19774 [00:10<02:23, 127.87it/s]\u001b[A\n",
      "Training:   7%|████▋                                                              | 1385/19774 [00:10<02:27, 124.29it/s]\u001b[A\n",
      "Training:   7%|████▊                                                              | 1402/19774 [00:11<02:14, 136.52it/s]\u001b[A\n",
      "Training:   7%|████▊                                                              | 1416/19774 [00:11<02:18, 132.16it/s]\u001b[A\n",
      "Training:   7%|████▊                                                              | 1432/19774 [00:11<02:12, 138.67it/s]\u001b[A\n",
      "Training:   7%|████▉                                                              | 1446/19774 [00:11<02:16, 134.33it/s]\u001b[A\n",
      "Training:   7%|████▉                                                              | 1460/19774 [00:11<02:31, 121.11it/s]\u001b[A\n",
      "Training:   7%|█████                                                              | 1477/19774 [00:11<02:26, 124.56it/s]\u001b[A\n",
      "Training:   8%|█████                                                              | 1492/19774 [00:11<02:20, 129.88it/s]\u001b[A\n",
      "Training:   8%|█████                                                              | 1506/19774 [00:11<02:33, 119.05it/s]\u001b[A\n",
      "Training:   8%|█████▏                                                             | 1519/19774 [00:11<02:33, 119.18it/s]\u001b[A\n",
      "Training:   8%|█████▏                                                             | 1534/19774 [00:12<02:24, 126.03it/s]\u001b[A\n",
      "Training:   8%|█████▏                                                             | 1547/19774 [00:12<02:33, 119.05it/s]\u001b[A\n",
      "Training:   8%|█████▎                                                             | 1563/19774 [00:12<02:23, 126.68it/s]\u001b[A\n",
      "Training:   8%|█████▎                                                             | 1577/19774 [00:12<02:20, 129.33it/s]\u001b[A\n",
      "Training:   8%|█████▍                                                             | 1591/19774 [00:12<02:25, 124.71it/s]\u001b[A\n",
      "Training:   8%|█████▍                                                             | 1606/19774 [00:12<02:19, 129.92it/s]\u001b[A\n",
      "Training:   8%|█████▍                                                             | 1620/19774 [00:12<02:21, 128.12it/s]\u001b[A\n",
      "Training:   8%|█████▌                                                             | 1633/19774 [00:12<02:29, 121.72it/s]\u001b[A\n",
      "Training:   8%|█████▌                                                             | 1646/19774 [00:13<02:33, 118.37it/s]\u001b[A\n",
      "Training:   8%|█████▌                                                             | 1658/19774 [00:13<02:35, 116.77it/s]\u001b[A\n",
      "Training:   8%|█████▋                                                             | 1672/19774 [00:13<02:28, 121.54it/s]\u001b[A\n",
      "Training:   9%|█████▋                                                             | 1687/19774 [00:13<02:19, 129.41it/s]\u001b[A\n",
      "Training:   9%|█████▊                                                             | 1701/19774 [00:13<02:23, 126.35it/s]\u001b[A\n",
      "Training:   9%|█████▊                                                             | 1718/19774 [00:13<02:11, 137.00it/s]\u001b[A\n",
      "Training:   9%|█████▊                                                             | 1732/19774 [00:13<02:18, 129.82it/s]\u001b[A\n",
      "Training:   9%|█████▉                                                             | 1746/19774 [00:13<02:24, 124.62it/s]\u001b[A\n",
      "Training:   9%|█████▉                                                             | 1761/19774 [00:13<02:17, 130.55it/s]\u001b[A\n",
      "Training:   9%|██████                                                             | 1775/19774 [00:14<02:23, 125.01it/s]\u001b[A\n",
      "Training:   9%|██████                                                             | 1790/19774 [00:14<02:21, 127.23it/s]\u001b[A\n",
      "Training:   9%|██████                                                             | 1805/19774 [00:14<02:17, 130.79it/s]\u001b[A\n",
      "Training:   9%|██████▏                                                            | 1819/19774 [00:14<02:22, 125.99it/s]\u001b[A\n",
      "Training:   9%|██████▏                                                            | 1836/19774 [00:14<02:11, 135.90it/s]\u001b[A\n",
      "Training:   9%|██████▎                                                            | 1850/19774 [00:14<02:15, 132.61it/s]\u001b[A\n",
      "Training:   9%|██████▎                                                            | 1864/19774 [00:14<02:17, 129.82it/s]\u001b[A\n",
      "Training:  10%|██████▎                                                            | 1880/19774 [00:14<02:10, 137.16it/s]\u001b[A\n",
      "Training:  10%|██████▍                                                            | 1894/19774 [00:14<02:16, 130.56it/s]\u001b[A\n",
      "Training:  10%|██████▍                                                            | 1910/19774 [00:15<02:09, 137.67it/s]\u001b[A\n",
      "Training:  10%|██████▌                                                            | 1924/19774 [00:15<02:12, 134.39it/s]\u001b[A\n",
      "Training:  10%|██████▌                                                            | 1938/19774 [00:15<02:16, 130.89it/s]\u001b[A\n",
      "Training:  10%|██████▌                                                            | 1955/19774 [00:15<02:06, 140.62it/s]\u001b[A\n",
      "Training:  10%|██████▋                                                            | 1970/19774 [00:15<02:10, 136.20it/s]\u001b[A\n",
      "Training:  10%|██████▋                                                            | 1985/19774 [00:15<02:12, 133.95it/s]\u001b[A\n",
      "Training:  10%|██████▊                                                            | 2000/19774 [00:15<02:09, 137.76it/s]\u001b[A\n",
      "Training:  10%|██████▊                                                            | 2014/19774 [00:15<02:12, 133.62it/s]\u001b[A\n",
      "Training:  10%|██████▉                                                            | 2030/19774 [00:15<02:07, 138.87it/s]\u001b[A\n",
      "Training:  10%|██████▉                                                            | 2044/19774 [00:16<02:15, 130.91it/s]\u001b[A\n",
      "Training:  10%|██████▉                                                            | 2058/19774 [00:16<02:18, 128.21it/s]\u001b[A\n",
      "Training:  10%|███████                                                            | 2075/19774 [00:16<02:06, 139.60it/s]\u001b[A\n",
      "Training:  11%|███████                                                            | 2090/19774 [00:16<02:15, 130.92it/s]\u001b[A\n",
      "Training:  11%|███████▏                                                           | 2104/19774 [00:16<02:21, 125.20it/s]\u001b[A\n",
      "Training:  11%|███████▏                                                           | 2121/19774 [00:16<02:09, 136.77it/s]\u001b[A\n",
      "Training:  11%|███████▏                                                           | 2135/19774 [00:16<02:11, 133.86it/s]\u001b[A\n",
      "Training:  11%|███████▎                                                           | 2150/19774 [00:16<02:14, 130.98it/s]\u001b[A\n",
      "Training:  11%|███████▎                                                           | 2164/19774 [00:16<02:15, 129.85it/s]\u001b[A\n",
      "Training:  11%|███████▍                                                           | 2178/19774 [00:17<02:19, 126.13it/s]\u001b[A\n",
      "Training:  11%|███████▍                                                           | 2193/19774 [00:17<02:14, 131.12it/s]\u001b[A\n",
      "Training:  11%|███████▍                                                           | 2207/19774 [00:17<02:18, 127.08it/s]\u001b[A\n",
      "Training:  11%|███████▌                                                           | 2220/19774 [00:17<02:19, 125.42it/s]\u001b[A\n",
      "Training:  11%|███████▌                                                           | 2235/19774 [00:17<02:14, 130.27it/s]\u001b[A\n",
      "Training:  11%|███████▌                                                           | 2249/19774 [00:17<02:17, 127.42it/s]\u001b[A\n",
      "Training:  11%|███████▋                                                           | 2266/19774 [00:17<02:12, 131.84it/s]\u001b[A\n",
      "Training:  12%|███████▋                                                           | 2280/19774 [00:17<02:12, 131.89it/s]\u001b[A\n",
      "Training:  12%|███████▊                                                           | 2294/19774 [00:17<02:17, 126.68it/s]\u001b[A\n",
      "Training:  12%|███████▊                                                           | 2309/19774 [00:18<02:12, 131.44it/s]\u001b[A\n",
      "Training:  12%|███████▊                                                           | 2323/19774 [00:18<02:18, 126.39it/s]\u001b[A\n",
      "Training:  12%|███████▉                                                           | 2336/19774 [00:18<02:26, 119.38it/s]\u001b[A\n",
      "Training:  12%|███████▉                                                           | 2352/19774 [00:18<02:16, 127.78it/s]\u001b[A\n",
      "Training:  12%|████████                                                           | 2365/19774 [00:18<02:19, 124.59it/s]\u001b[A\n",
      "Training:  12%|████████                                                           | 2378/19774 [00:18<02:23, 120.87it/s]\u001b[A\n",
      "Training:  12%|████████                                                           | 2391/19774 [00:18<02:24, 120.51it/s]\u001b[A\n",
      "Training:  12%|████████▏                                                          | 2404/19774 [00:18<02:35, 111.36it/s]\u001b[A\n",
      "Training:  12%|████████▏                                                          | 2418/19774 [00:18<02:36, 110.79it/s]\u001b[A\n",
      "Training:  12%|████████▏                                                          | 2431/19774 [00:19<02:30, 115.61it/s]\u001b[A\n",
      "Training:  12%|████████▎                                                          | 2443/19774 [00:19<02:31, 114.52it/s]\u001b[A\n",
      "Training:  12%|████████▎                                                          | 2456/19774 [00:19<02:25, 118.74it/s]\u001b[A\n",
      "Training:  12%|████████▎                                                          | 2468/19774 [00:19<02:28, 116.89it/s]\u001b[A\n",
      "Training:  13%|████████▍                                                          | 2484/19774 [00:19<02:15, 128.04it/s]\u001b[A\n",
      "Training:  13%|████████▍                                                          | 2497/19774 [00:19<02:19, 123.78it/s]\u001b[A\n",
      "Training:  13%|████████▌                                                          | 2510/19774 [00:19<02:23, 119.97it/s]\u001b[A\n",
      "Training:  13%|████████▌                                                          | 2525/19774 [00:19<02:15, 127.05it/s]\u001b[A\n",
      "Training:  13%|████████▌                                                          | 2538/19774 [00:19<02:30, 114.28it/s]\u001b[A\n",
      "Training:  13%|████████▋                                                          | 2552/19774 [00:20<02:26, 117.33it/s]\u001b[A\n",
      "Training:  13%|████████▋                                                          | 2567/19774 [00:20<02:16, 125.80it/s]\u001b[A\n",
      "Training:  13%|████████▋                                                          | 2580/19774 [00:20<02:21, 121.62it/s]\u001b[A\n",
      "Training:  13%|████████▊                                                          | 2596/19774 [00:20<02:11, 130.32it/s]\u001b[A\n",
      "Training:  13%|████████▊                                                          | 2610/19774 [00:20<02:11, 130.12it/s]\u001b[A\n",
      "Training:  13%|████████▉                                                          | 2625/19774 [00:20<02:06, 135.08it/s]\u001b[A\n",
      "Training:  13%|████████▉                                                          | 2639/19774 [00:20<02:09, 132.75it/s]\u001b[A\n",
      "Training:  13%|████████▉                                                          | 2653/19774 [00:20<02:13, 128.52it/s]\u001b[A\n",
      "Training:  13%|█████████                                                          | 2667/19774 [00:20<02:10, 131.46it/s]\u001b[A\n",
      "Training:  14%|█████████                                                          | 2681/19774 [00:21<02:13, 127.69it/s]\u001b[A\n",
      "Training:  14%|█████████▏                                                         | 2696/19774 [00:21<02:11, 129.76it/s]\u001b[A\n",
      "Training:  14%|█████████▏                                                         | 2710/19774 [00:21<02:09, 131.66it/s]\u001b[A\n",
      "Training:  14%|█████████▏                                                         | 2724/19774 [00:21<02:14, 126.91it/s]\u001b[A\n",
      "Training:  14%|█████████▎                                                         | 2741/19774 [00:21<02:03, 137.73it/s]\u001b[A\n",
      "Training:  14%|█████████▎                                                         | 2755/19774 [00:21<02:10, 130.84it/s]\u001b[A\n",
      "Training:  14%|█████████▍                                                         | 2770/19774 [00:21<02:05, 135.96it/s]\u001b[A\n",
      "Training:  14%|█████████▍                                                         | 2784/19774 [00:21<02:07, 132.86it/s]\u001b[A\n",
      "Training:  14%|█████████▍                                                         | 2798/19774 [00:21<02:13, 127.37it/s]\u001b[A\n",
      "Training:  14%|█████████▌                                                         | 2812/19774 [00:22<02:10, 130.01it/s]\u001b[A\n",
      "Training:  14%|█████████▌                                                         | 2826/19774 [00:22<02:16, 123.76it/s]\u001b[A\n",
      "Training:  14%|█████████▋                                                         | 2842/19774 [00:22<02:07, 133.28it/s]\u001b[A\n",
      "Training:  14%|█████████▋                                                         | 2856/19774 [00:22<02:09, 131.09it/s]\u001b[A\n",
      "Training:  15%|█████████▋                                                         | 2871/19774 [00:22<02:06, 133.36it/s]\u001b[A\n",
      "Training:  15%|█████████▊                                                         | 2885/19774 [00:22<02:06, 133.00it/s]\u001b[A\n",
      "Training:  15%|█████████▊                                                         | 2899/19774 [00:22<02:12, 126.94it/s]\u001b[A\n",
      "Training:  15%|█████████▊                                                         | 2914/19774 [00:22<02:06, 132.90it/s]\u001b[A\n",
      "Training:  15%|█████████▉                                                         | 2928/19774 [00:22<02:10, 129.31it/s]\u001b[A\n",
      "Training:  15%|█████████▉                                                         | 2943/19774 [00:23<02:05, 133.83it/s]\u001b[A\n",
      "Training:  15%|██████████                                                         | 2957/19774 [00:23<02:10, 128.84it/s]\u001b[A\n",
      "Training:  15%|██████████                                                         | 2972/19774 [00:23<02:09, 130.21it/s]\u001b[A\n",
      "Training:  15%|██████████                                                         | 2986/19774 [00:23<02:08, 130.15it/s]\u001b[A\n",
      "Training:  15%|██████████▏                                                        | 3000/19774 [00:23<02:15, 123.63it/s]\u001b[A\n",
      "Training:  15%|██████████▏                                                        | 3015/19774 [00:23<02:09, 129.65it/s]\u001b[A\n",
      "Training:  15%|██████████▎                                                        | 3029/19774 [00:23<02:13, 125.89it/s]\u001b[A\n",
      "Training:  15%|██████████▎                                                        | 3043/19774 [00:23<02:14, 124.44it/s]\u001b[A\n",
      "Training:  15%|██████████▎                                                        | 3056/19774 [00:23<02:15, 123.59it/s]\u001b[A\n",
      "Training:  16%|██████████▍                                                        | 3069/19774 [00:24<02:22, 117.35it/s]\u001b[A\n",
      "Training:  16%|██████████▍                                                        | 3083/19774 [00:24<02:15, 123.06it/s]\u001b[A\n",
      "Training:  16%|██████████▍                                                        | 3096/19774 [00:24<02:15, 123.51it/s]\u001b[A\n",
      "Training:  16%|██████████▌                                                        | 3112/19774 [00:24<02:05, 133.23it/s]\u001b[A\n",
      "Training:  16%|██████████▌                                                        | 3126/19774 [00:24<02:13, 124.39it/s]\u001b[A\n",
      "Training:  16%|██████████▋                                                        | 3139/19774 [00:24<02:43, 101.72it/s]\u001b[A\n",
      "Training:  16%|██████████▊                                                         | 3150/19774 [00:24<02:50, 97.77it/s]\u001b[A\n",
      "Training:  16%|██████████▊                                                         | 3161/19774 [00:24<02:48, 98.35it/s]\u001b[A\n",
      "Training:  16%|██████████▉                                                         | 3172/19774 [00:25<02:49, 98.23it/s]\u001b[A\n",
      "Training:  16%|██████████▊                                                        | 3186/19774 [00:25<02:35, 106.66it/s]\u001b[A\n",
      "Training:  16%|██████████▊                                                        | 3197/19774 [00:25<02:35, 106.31it/s]\u001b[A\n",
      "Training:  16%|██████████▉                                                        | 3213/19774 [00:25<02:19, 118.35it/s]\u001b[A\n",
      "Training:  16%|██████████▉                                                        | 3225/19774 [00:25<02:24, 114.34it/s]\u001b[A\n",
      "Training:  16%|██████████▉                                                        | 3238/19774 [00:25<02:23, 114.92it/s]\u001b[A\n",
      "Training:  16%|███████████                                                        | 3252/19774 [00:25<02:17, 120.59it/s]\u001b[A\n",
      "Training:  17%|███████████                                                        | 3265/19774 [00:25<02:18, 119.43it/s]\u001b[A\n",
      "Training:  17%|███████████                                                        | 3279/19774 [00:25<02:12, 124.50it/s]\u001b[A\n",
      "Training:  17%|███████████▏                                                       | 3292/19774 [00:26<02:16, 120.61it/s]\u001b[A\n",
      "Training:  17%|███████████▏                                                       | 3307/19774 [00:26<02:09, 126.82it/s]\u001b[A\n",
      "Training:  17%|███████████▏                                                       | 3320/19774 [00:26<02:13, 122.97it/s]\u001b[A\n",
      "Training:  17%|███████████▎                                                       | 3336/19774 [00:26<02:06, 130.40it/s]\u001b[A\n",
      "Training:  17%|███████████▎                                                       | 3350/19774 [00:26<02:04, 132.35it/s]\u001b[A\n",
      "Training:  17%|███████████▍                                                       | 3364/19774 [00:26<02:05, 131.24it/s]\u001b[A\n",
      "Training:  17%|███████████▍                                                       | 3379/19774 [00:26<02:00, 136.45it/s]\u001b[A\n",
      "Training:  17%|███████████▍                                                       | 3393/19774 [00:26<02:03, 132.61it/s]\u001b[A\n",
      "Training:  17%|███████████▌                                                       | 3409/19774 [00:26<01:56, 140.23it/s]\u001b[A\n",
      "Training:  17%|███████████▌                                                       | 3424/19774 [00:27<02:04, 131.30it/s]\u001b[A\n",
      "Training:  17%|███████████▋                                                       | 3439/19774 [00:27<02:04, 131.09it/s]\u001b[A\n",
      "Training:  17%|███████████▋                                                       | 3453/19774 [00:27<02:03, 132.13it/s]\u001b[A\n",
      "Training:  18%|███████████▋                                                       | 3467/19774 [00:27<02:06, 129.30it/s]\u001b[A\n",
      "Training:  18%|███████████▊                                                       | 3481/19774 [00:27<02:03, 131.65it/s]\u001b[A\n",
      "Training:  18%|███████████▊                                                       | 3495/19774 [00:27<02:07, 127.78it/s]\u001b[A\n",
      "Training:  18%|███████████▉                                                       | 3510/19774 [00:27<02:02, 133.28it/s]\u001b[A\n",
      "Training:  18%|███████████▉                                                       | 3524/19774 [00:27<02:04, 130.42it/s]\u001b[A\n",
      "Training:  18%|███████████▉                                                       | 3539/19774 [00:27<02:05, 129.37it/s]\u001b[A\n",
      "Training:  18%|████████████                                                       | 3554/19774 [00:28<02:04, 130.17it/s]\u001b[A\n",
      "Training:  18%|████████████                                                       | 3568/19774 [00:28<02:09, 124.94it/s]\u001b[A\n",
      "Training:  18%|████████████▏                                                      | 3584/19774 [00:28<02:03, 131.56it/s]\u001b[A\n",
      "Training:  18%|████████████▏                                                      | 3598/19774 [00:28<02:06, 128.15it/s]\u001b[A\n",
      "Training:  18%|████████████▏                                                      | 3614/19774 [00:28<02:04, 129.32it/s]\u001b[A\n",
      "Training:  18%|████████████▎                                                      | 3629/19774 [00:28<02:01, 133.23it/s]\u001b[A\n",
      "Training:  18%|████████████▎                                                      | 3643/19774 [00:28<02:02, 131.68it/s]\u001b[A\n",
      "Training:  19%|████████████▍                                                      | 3659/19774 [00:28<01:55, 138.99it/s]\u001b[A\n",
      "Training:  19%|████████████▍                                                      | 3673/19774 [00:28<02:00, 133.72it/s]\u001b[A\n",
      "Training:  19%|████████████▍                                                      | 3689/19774 [00:29<01:55, 139.30it/s]\u001b[A\n",
      "Training:  19%|████████████▌                                                      | 3704/19774 [00:29<02:02, 130.71it/s]\u001b[A\n",
      "Training:  19%|████████████▌                                                      | 3718/19774 [00:29<02:02, 131.00it/s]\u001b[A\n",
      "Training:  19%|████████████▋                                                      | 3732/19774 [00:29<02:01, 132.06it/s]\u001b[A\n",
      "Training:  19%|████████████▋                                                      | 3746/19774 [00:29<02:09, 123.40it/s]\u001b[A\n",
      "Training:  19%|████████████▋                                                      | 3760/19774 [00:29<02:05, 127.78it/s]\u001b[A\n",
      "Training:  19%|████████████▊                                                      | 3773/19774 [00:29<02:09, 123.79it/s]\u001b[A\n",
      "Training:  19%|████████████▊                                                      | 3790/19774 [00:29<01:57, 136.13it/s]\u001b[A\n",
      "Training:  19%|████████████▉                                                      | 3804/19774 [00:29<02:01, 131.71it/s]\u001b[A\n",
      "Training:  19%|████████████▉                                                      | 3819/19774 [00:30<02:05, 127.61it/s]\u001b[A\n",
      "Training:  19%|████████████▉                                                      | 3833/19774 [00:30<02:01, 130.96it/s]\u001b[A\n",
      "Training:  19%|█████████████                                                      | 3847/19774 [00:30<02:09, 123.13it/s]\u001b[A\n",
      "Training:  20%|█████████████                                                      | 3861/19774 [00:30<02:06, 125.59it/s]\u001b[A\n",
      "Training:  20%|█████████████▏                                                     | 3874/19774 [00:30<02:08, 124.07it/s]\u001b[A\n",
      "Training:  20%|█████████████▏                                                     | 3890/19774 [00:30<01:59, 132.72it/s]\u001b[A\n",
      "Training:  20%|█████████████▏                                                     | 3904/19774 [00:30<02:04, 127.16it/s]\u001b[A\n",
      "Training:  20%|█████████████▎                                                     | 3918/19774 [00:30<02:05, 126.19it/s]\u001b[A\n",
      "Training:  20%|█████████████▎                                                     | 3931/19774 [00:30<02:17, 115.08it/s]\u001b[A\n",
      "Training:  20%|█████████████▎                                                     | 3943/19774 [00:31<02:20, 112.56it/s]\u001b[A\n",
      "Training:  20%|█████████████▍                                                     | 3960/19774 [00:31<02:05, 126.29it/s]\u001b[A\n",
      "Training:  20%|█████████████▍                                                     | 3973/19774 [00:31<02:08, 122.84it/s]\u001b[A\n",
      "Training:  20%|█████████████▌                                                     | 3989/19774 [00:31<02:04, 126.39it/s]\u001b[A\n",
      "Training:  20%|█████████████▌                                                     | 4004/19774 [00:31<02:00, 130.41it/s]\u001b[A\n",
      "Training:  20%|█████████████▌                                                     | 4018/19774 [00:31<02:02, 128.76it/s]\u001b[A\n",
      "Training:  20%|█████████████▋                                                     | 4033/19774 [00:31<01:58, 133.15it/s]\u001b[A\n",
      "Training:  20%|█████████████▋                                                     | 4047/19774 [00:31<02:01, 129.17it/s]\u001b[A\n",
      "Training:  21%|█████████████▊                                                     | 4063/19774 [00:31<01:56, 134.74it/s]\u001b[A\n",
      "Training:  21%|█████████████▊                                                     | 4077/19774 [00:32<02:02, 128.56it/s]\u001b[A\n",
      "Training:  21%|█████████████▊                                                     | 4090/19774 [00:32<02:05, 124.98it/s]\u001b[A\n",
      "Training:  21%|█████████████▉                                                     | 4104/19774 [00:32<02:01, 128.67it/s]\u001b[A\n",
      "Training:  21%|█████████████▉                                                     | 4117/19774 [00:32<02:02, 127.39it/s]\u001b[A\n",
      "Training:  21%|██████████████                                                     | 4133/19774 [00:32<01:54, 136.16it/s]\u001b[A\n",
      "Training:  21%|██████████████                                                     | 4147/19774 [00:32<01:57, 132.61it/s]\u001b[A\n",
      "Training:  21%|██████████████                                                     | 4163/19774 [00:32<01:51, 140.29it/s]\u001b[A\n",
      "Training:  21%|██████████████▏                                                    | 4178/19774 [00:32<01:57, 132.54it/s]\u001b[A\n",
      "Training:  21%|██████████████▏                                                    | 4195/19774 [00:32<01:53, 137.47it/s]\u001b[A\n",
      "Training:  21%|██████████████▎                                                    | 4210/19774 [00:33<01:51, 139.91it/s]\u001b[A\n",
      "Training:  21%|██████████████▎                                                    | 4225/19774 [00:33<01:54, 136.17it/s]\u001b[A\n",
      "Training:  21%|██████████████▎                                                    | 4241/19774 [00:33<01:49, 141.30it/s]\u001b[A\n",
      "Training:  22%|██████████████▍                                                    | 4256/19774 [00:33<01:54, 135.64it/s]\u001b[A\n",
      "Training:  22%|██████████████▍                                                    | 4273/19774 [00:33<01:49, 141.77it/s]\u001b[A\n",
      "Training:  22%|██████████████▌                                                    | 4288/19774 [00:33<01:58, 130.91it/s]\u001b[A\n",
      "Training:  22%|██████████████▌                                                    | 4302/19774 [00:33<02:00, 128.35it/s]\u001b[A\n",
      "Training:  22%|██████████████▋                                                    | 4318/19774 [00:33<01:54, 134.94it/s]\u001b[A\n",
      "Training:  22%|██████████████▋                                                    | 4332/19774 [00:34<02:01, 127.51it/s]\u001b[A\n",
      "Training:  22%|██████████████▋                                                    | 4347/19774 [00:34<01:56, 132.69it/s]\u001b[A\n",
      "Training:  22%|██████████████▊                                                    | 4361/19774 [00:34<01:57, 131.01it/s]\u001b[A\n",
      "Training:  22%|██████████████▊                                                    | 4376/19774 [00:34<01:53, 135.96it/s]\u001b[A\n",
      "Training:  22%|██████████████▊                                                    | 4390/19774 [00:34<01:54, 134.72it/s]\u001b[A\n",
      "Training:  22%|██████████████▉                                                    | 4404/19774 [00:34<01:55, 133.46it/s]\u001b[A\n",
      "Training:  22%|██████████████▉                                                    | 4418/19774 [00:34<01:53, 135.15it/s]\u001b[A\n",
      "Training:  22%|███████████████                                                    | 4432/19774 [00:34<01:58, 129.17it/s]\u001b[A\n",
      "Training:  22%|███████████████                                                    | 4447/19774 [00:34<01:54, 134.24it/s]\u001b[A\n",
      "Training:  23%|███████████████                                                    | 4461/19774 [00:34<01:59, 127.89it/s]\u001b[A\n",
      "Training:  23%|███████████████▏                                                   | 4476/19774 [00:35<01:56, 131.12it/s]\u001b[A\n",
      "Training:  23%|███████████████▏                                                   | 4490/19774 [00:35<02:00, 126.49it/s]\u001b[A\n",
      "Training:  23%|███████████████▎                                                   | 4503/19774 [00:35<02:00, 126.38it/s]\u001b[A\n",
      "Training:  23%|███████████████▎                                                   | 4519/19774 [00:35<01:54, 133.05it/s]\u001b[A\n",
      "Training:  23%|███████████████▎                                                   | 4533/19774 [00:35<01:56, 131.24it/s]\u001b[A\n",
      "Training:  23%|███████████████▍                                                   | 4548/19774 [00:35<01:52, 135.29it/s]\u001b[A\n",
      "Training:  23%|███████████████▍                                                   | 4562/19774 [00:35<01:56, 130.99it/s]\u001b[A\n",
      "Training:  23%|███████████████▌                                                   | 4578/19774 [00:35<01:50, 137.89it/s]\u001b[A\n",
      "Training:  23%|███████████████▌                                                   | 4592/19774 [00:35<01:55, 131.37it/s]\u001b[A\n",
      "Training:  23%|███████████████▌                                                   | 4607/19774 [00:36<01:55, 130.88it/s]\u001b[A\n",
      "Training:  23%|███████████████▋                                                   | 4623/19774 [00:36<01:50, 136.58it/s]\u001b[A\n",
      "Training:  23%|███████████████▋                                                   | 4638/19774 [00:36<01:49, 138.08it/s]\u001b[A\n",
      "Training:  24%|███████████████▊                                                   | 4653/19774 [00:36<01:48, 139.66it/s]\u001b[A\n",
      "Training:  24%|███████████████▊                                                   | 4668/19774 [00:36<01:54, 132.28it/s]\u001b[A\n",
      "Training:  24%|███████████████▊                                                   | 4685/19774 [00:36<01:46, 141.86it/s]\u001b[A\n",
      "Training:  24%|███████████████▉                                                   | 4700/19774 [00:36<01:52, 133.85it/s]\u001b[A\n",
      "Training:  24%|███████████████▉                                                   | 4715/19774 [00:36<01:54, 131.95it/s]\u001b[A\n",
      "Training:  24%|████████████████                                                   | 4729/19774 [00:36<01:52, 133.95it/s]\u001b[A\n",
      "Training:  24%|████████████████                                                   | 4743/19774 [00:37<01:52, 133.02it/s]\u001b[A\n",
      "Training:  24%|████████████████                                                   | 4757/19774 [00:37<01:52, 134.04it/s]\u001b[A\n",
      "Training:  24%|████████████████▏                                                  | 4771/19774 [00:37<01:53, 131.72it/s]\u001b[A\n",
      "Training:  24%|████████████████▏                                                  | 4787/19774 [00:37<01:49, 136.63it/s]\u001b[A\n",
      "Training:  24%|████████████████▎                                                  | 4801/19774 [00:37<01:53, 132.24it/s]\u001b[A\n",
      "Training:  24%|████████████████▎                                                  | 4817/19774 [00:37<01:46, 139.83it/s]\u001b[A\n",
      "Training:  24%|████████████████▎                                                  | 4832/19774 [00:37<01:54, 130.90it/s]\u001b[A\n",
      "Training:  25%|████████████████▍                                                  | 4848/19774 [00:37<01:52, 132.98it/s]\u001b[A\n",
      "Training:  25%|████████████████▍                                                  | 4862/19774 [00:37<01:51, 133.85it/s]\u001b[A\n",
      "Training:  25%|████████████████▌                                                  | 4876/19774 [00:38<01:51, 133.50it/s]\u001b[A\n",
      "Training:  25%|████████████████▌                                                  | 4891/19774 [00:38<01:50, 134.94it/s]\u001b[A\n",
      "Training:  25%|████████████████▌                                                  | 4905/19774 [00:38<01:52, 132.26it/s]\u001b[A\n",
      "Training:  25%|████████████████▋                                                  | 4920/19774 [00:38<01:48, 137.03it/s]\u001b[A\n",
      "Training:  25%|████████████████▋                                                  | 4934/19774 [00:38<01:51, 133.32it/s]\u001b[A\n",
      "Training:  25%|████████████████▊                                                  | 4950/19774 [00:38<01:46, 138.56it/s]\u001b[A\n",
      "Training:  25%|████████████████▊                                                  | 4964/19774 [00:38<01:49, 134.69it/s]\u001b[A\n",
      "Training:  25%|████████████████▊                                                  | 4980/19774 [00:38<01:44, 141.82it/s]\u001b[A\n",
      "Training:  25%|████████████████▉                                                  | 4995/19774 [00:38<01:48, 136.59it/s]\u001b[A\n",
      "Training:  25%|████████████████▉                                                  | 5009/19774 [00:39<01:49, 134.83it/s]\u001b[A\n",
      "Training:  25%|█████████████████                                                  | 5023/19774 [00:39<01:49, 135.20it/s]\u001b[A\n",
      "Training:  25%|█████████████████                                                  | 5037/19774 [00:39<01:49, 135.13it/s]\u001b[A\n",
      "Training:  26%|█████████████████                                                  | 5052/19774 [00:39<01:47, 136.55it/s]\u001b[A\n",
      "Training:  26%|█████████████████▏                                                 | 5066/19774 [00:39<01:50, 132.62it/s]\u001b[A\n",
      "Training:  26%|█████████████████▏                                                 | 5080/19774 [00:39<01:49, 134.47it/s]\u001b[A\n",
      "Training:  26%|█████████████████▎                                                 | 5094/19774 [00:39<01:53, 129.78it/s]\u001b[A\n",
      "Training:  26%|█████████████████▎                                                 | 5109/19774 [00:39<01:49, 134.28it/s]\u001b[A\n",
      "Training:  26%|█████████████████▎                                                 | 5123/19774 [00:39<01:52, 130.05it/s]\u001b[A\n",
      "Training:  26%|█████████████████▍                                                 | 5140/19774 [00:40<01:50, 132.65it/s]\u001b[A\n",
      "Training:  26%|█████████████████▍                                                 | 5154/19774 [00:40<01:49, 133.08it/s]\u001b[A\n",
      "Training:  26%|█████████████████▌                                                 | 5168/19774 [00:40<01:49, 133.65it/s]\u001b[A\n",
      "Training:  26%|█████████████████▌                                                 | 5182/19774 [00:40<01:50, 131.50it/s]\u001b[A\n",
      "Training:  26%|█████████████████▌                                                 | 5196/19774 [00:40<01:51, 131.15it/s]\u001b[A\n",
      "Training:  26%|█████████████████▋                                                 | 5212/19774 [00:40<01:45, 138.59it/s]\u001b[A\n",
      "Training:  26%|█████████████████▋                                                 | 5226/19774 [00:40<01:46, 136.67it/s]\u001b[A\n",
      "Training:  27%|█████████████████▊                                                 | 5241/19774 [00:40<01:45, 137.94it/s]\u001b[A\n",
      "Training:  27%|█████████████████▊                                                 | 5255/19774 [00:40<01:50, 131.51it/s]\u001b[A\n",
      "Training:  27%|█████████████████▊                                                 | 5270/19774 [00:41<01:47, 135.04it/s]\u001b[A\n",
      "Training:  27%|█████████████████▉                                                 | 5284/19774 [00:41<01:52, 128.48it/s]\u001b[A\n",
      "Training:  27%|█████████████████▉                                                 | 5300/19774 [00:41<01:48, 133.29it/s]\u001b[A\n",
      "Training:  27%|██████████████████                                                 | 5314/19774 [00:41<01:50, 130.59it/s]\u001b[A\n",
      "Training:  27%|██████████████████                                                 | 5328/19774 [00:41<01:55, 124.83it/s]\u001b[A\n",
      "Training:  27%|██████████████████                                                 | 5343/19774 [00:41<01:51, 129.99it/s]\u001b[A\n",
      "Training:  27%|██████████████████▏                                                | 5357/19774 [00:41<01:49, 131.73it/s]\u001b[A\n",
      "Training:  27%|██████████████████▏                                                | 5372/19774 [00:41<01:45, 135.90it/s]\u001b[A\n",
      "Training:  27%|██████████████████▏                                                | 5386/19774 [00:41<01:47, 133.35it/s]\u001b[A\n",
      "Training:  27%|██████████████████▎                                                | 5402/19774 [00:41<01:42, 139.69it/s]\u001b[A\n",
      "Training:  27%|██████████████████▎                                                | 5417/19774 [00:42<01:47, 133.41it/s]\u001b[A\n",
      "Training:  27%|██████████████████▍                                                | 5434/19774 [00:42<01:46, 135.24it/s]\u001b[A\n",
      "Training:  28%|██████████████████▍                                                | 5448/19774 [00:42<01:46, 135.11it/s]\u001b[A\n",
      "Training:  28%|██████████████████▌                                                | 5462/19774 [00:42<01:48, 131.96it/s]\u001b[A\n",
      "Training:  28%|██████████████████▌                                                | 5477/19774 [00:42<01:46, 134.77it/s]\u001b[A\n",
      "Training:  28%|██████████████████▌                                                | 5491/19774 [00:42<01:48, 131.13it/s]\u001b[A\n",
      "Training:  28%|██████████████████▋                                                | 5507/19774 [00:42<01:42, 138.76it/s]\u001b[A\n",
      "Training:  28%|██████████████████▋                                                | 5521/19774 [00:42<01:47, 132.07it/s]\u001b[A\n",
      "Training:  28%|██████████████████▊                                                | 5538/19774 [00:42<01:39, 142.56it/s]\u001b[A\n",
      "Training:  28%|██████████████████▊                                                | 5553/19774 [00:43<01:46, 132.97it/s]\u001b[A\n",
      "Training:  28%|██████████████████▊                                                | 5569/19774 [00:43<01:47, 132.59it/s]\u001b[A\n",
      "Training:  28%|██████████████████▉                                                | 5583/19774 [00:43<01:46, 133.68it/s]\u001b[A\n",
      "Training:  28%|██████████████████▉                                                | 5597/19774 [00:43<01:46, 133.50it/s]\u001b[A\n",
      "Training:  28%|███████████████████                                                | 5613/19774 [00:43<01:41, 138.93it/s]\u001b[A\n",
      "Training:  28%|███████████████████                                                | 5627/19774 [00:43<01:44, 135.32it/s]\u001b[A\n",
      "Training:  29%|███████████████████                                                | 5642/19774 [00:43<01:41, 139.33it/s]\u001b[A\n",
      "Training:  29%|███████████████████▏                                               | 5656/19774 [00:43<01:45, 134.21it/s]\u001b[A\n",
      "Training:  29%|███████████████████▏                                               | 5671/19774 [00:43<01:41, 138.27it/s]\u001b[A\n",
      "Training:  29%|███████████████████▎                                               | 5685/19774 [00:44<01:48, 130.29it/s]\u001b[A\n",
      "Training:  29%|███████████████████▎                                               | 5701/19774 [00:44<01:41, 138.38it/s]\u001b[A\n",
      "Training:  29%|███████████████████▎                                               | 5715/19774 [00:44<01:47, 130.60it/s]\u001b[A\n",
      "Training:  29%|███████████████████▍                                               | 5730/19774 [00:44<01:48, 129.20it/s]\u001b[A\n",
      "Training:  29%|███████████████████▍                                               | 5744/19774 [00:44<01:46, 131.40it/s]\u001b[A\n",
      "Training:  29%|███████████████████▌                                               | 5758/19774 [00:44<01:47, 129.86it/s]\u001b[A\n",
      "Training:  29%|███████████████████▌                                               | 5773/19774 [00:44<01:44, 133.71it/s]\u001b[A\n",
      "Training:  29%|███████████████████▌                                               | 5787/19774 [00:44<01:43, 134.58it/s]\u001b[A\n",
      "Training:  29%|███████████████████▋                                               | 5802/19774 [00:44<01:40, 138.97it/s]\u001b[A\n",
      "Training:  29%|███████████████████▋                                               | 5816/19774 [00:45<01:42, 136.59it/s]\u001b[A\n",
      "Training:  29%|███████████████████▊                                               | 5831/19774 [00:45<01:39, 139.72it/s]\u001b[A\n",
      "Training:  30%|███████████████████▊                                               | 5846/19774 [00:45<01:42, 135.24it/s]\u001b[A\n",
      "Training:  30%|███████████████████▊                                               | 5862/19774 [00:45<01:38, 140.98it/s]\u001b[A\n",
      "Training:  30%|███████████████████▉                                               | 5877/19774 [00:45<01:41, 136.68it/s]\u001b[A\n",
      "Training:  30%|███████████████████▉                                               | 5893/19774 [00:45<01:37, 142.82it/s]\u001b[A\n",
      "Training:  30%|████████████████████                                               | 5908/19774 [00:45<01:43, 134.25it/s]\u001b[A\n",
      "Training:  30%|████████████████████                                               | 5923/19774 [00:45<01:40, 137.91it/s]\u001b[A\n",
      "Training:  30%|████████████████████                                               | 5937/19774 [00:45<01:42, 134.86it/s]\u001b[A\n",
      "Training:  30%|████████████████████▏                                              | 5952/19774 [00:46<01:44, 131.90it/s]\u001b[A\n",
      "Training:  30%|████████████████████▏                                              | 5966/19774 [00:46<01:44, 132.12it/s]\u001b[A\n",
      "Training:  30%|████████████████████▎                                              | 5980/19774 [00:46<01:45, 131.26it/s]\u001b[A\n",
      "Training:  30%|████████████████████▎                                              | 5995/19774 [00:46<01:41, 135.71it/s]\u001b[A\n",
      "Training:  30%|████████████████████▎                                              | 6009/19774 [00:46<01:42, 134.42it/s]\u001b[A\n",
      "Training:  30%|████████████████████▍                                              | 6024/19774 [00:46<01:40, 137.33it/s]\u001b[A\n",
      "Training:  31%|████████████████████▍                                              | 6038/19774 [00:46<01:40, 137.10it/s]\u001b[A\n",
      "Training:  31%|████████████████████▌                                              | 6053/19774 [00:46<01:38, 139.26it/s]\u001b[A\n",
      "Training:  31%|████████████████████▌                                              | 6067/19774 [00:46<01:45, 129.65it/s]\u001b[A\n",
      "Training:  31%|████████████████████▌                                              | 6082/19774 [00:47<01:41, 135.02it/s]\u001b[A\n",
      "Training:  31%|████████████████████▋                                              | 6096/19774 [00:47<01:44, 131.20it/s]\u001b[A\n",
      "Training:  31%|████████████████████▋                                              | 6111/19774 [00:47<01:40, 135.70it/s]\u001b[A\n",
      "Training:  31%|████████████████████▊                                              | 6125/19774 [00:47<01:45, 129.68it/s]\u001b[A\n",
      "Training:  31%|████████████████████▊                                              | 6142/19774 [00:47<01:37, 139.69it/s]\u001b[A\n",
      "Training:  31%|████████████████████▊                                              | 6157/19774 [00:47<01:41, 134.78it/s]\u001b[A\n",
      "Training:  31%|████████████████████▉                                              | 6171/19774 [00:47<01:43, 131.53it/s]\u001b[A\n",
      "Training:  31%|████████████████████▉                                              | 6185/19774 [00:47<01:42, 132.77it/s]\u001b[A\n",
      "Training:  31%|█████████████████████                                              | 6199/19774 [00:47<01:42, 132.97it/s]\u001b[A\n",
      "Training:  31%|█████████████████████                                              | 6213/19774 [00:48<01:41, 133.05it/s]\u001b[A\n",
      "Training:  31%|█████████████████████                                              | 6227/19774 [00:48<01:48, 124.91it/s]\u001b[A\n",
      "Training:  32%|█████████████████████▏                                             | 6243/19774 [00:48<01:41, 132.70it/s]\u001b[A\n",
      "Training:  32%|█████████████████████▏                                             | 6257/19774 [00:48<01:43, 130.32it/s]\u001b[A\n",
      "Training:  32%|█████████████████████▎                                             | 6272/19774 [00:48<01:41, 133.35it/s]\u001b[A\n",
      "Training:  32%|█████████████████████▎                                             | 6286/19774 [00:48<01:44, 128.72it/s]\u001b[A\n",
      "Training:  32%|█████████████████████▎                                             | 6302/19774 [00:48<01:44, 129.54it/s]\u001b[A\n",
      "Training:  32%|█████████████████████▍                                             | 6317/19774 [00:48<01:41, 132.87it/s]\u001b[A\n",
      "Training:  32%|█████████████████████▍                                             | 6332/19774 [00:48<01:39, 134.74it/s]\u001b[A\n",
      "Training:  32%|█████████████████████▌                                             | 6346/19774 [00:49<01:39, 134.61it/s]\u001b[A\n",
      "Training:  32%|█████████████████████▌                                             | 6360/19774 [00:49<01:43, 129.30it/s]\u001b[A\n",
      "Training:  32%|█████████████████████▌                                             | 6375/19774 [00:49<01:40, 133.42it/s]\u001b[A\n",
      "Training:  32%|█████████████████████▋                                             | 6389/19774 [00:49<01:42, 131.18it/s]\u001b[A\n",
      "Training:  32%|█████████████████████▋                                             | 6405/19774 [00:49<01:36, 137.89it/s]\u001b[A\n",
      "Training:  32%|█████████████████████▋                                             | 6419/19774 [00:49<01:40, 132.58it/s]\u001b[A\n",
      "Training:  33%|█████████████████████▊                                             | 6436/19774 [00:49<01:34, 141.41it/s]\u001b[A\n",
      "Training:  33%|█████████████████████▊                                             | 6451/19774 [00:49<01:39, 133.30it/s]\u001b[A\n",
      "Training:  33%|█████████████████████▉                                             | 6466/19774 [00:49<01:39, 133.17it/s]\u001b[A\n",
      "Training:  33%|█████████████████████▉                                             | 6480/19774 [00:50<01:41, 131.57it/s]\u001b[A\n",
      "Training:  33%|██████████████████████                                             | 6494/19774 [00:50<01:39, 132.82it/s]\u001b[A\n",
      "Training:  33%|██████████████████████                                             | 6509/19774 [00:50<01:36, 137.42it/s]\u001b[A\n",
      "Training:  33%|██████████████████████                                             | 6523/19774 [00:50<01:37, 136.30it/s]\u001b[A\n",
      "Training:  33%|██████████████████████▏                                            | 6537/19774 [00:50<01:37, 135.44it/s]\u001b[A\n",
      "Training:  33%|██████████████████████▏                                            | 6551/19774 [00:50<01:39, 133.14it/s]\u001b[A\n",
      "Training:  33%|██████████████████████▏                                            | 6566/19774 [00:50<01:36, 136.51it/s]\u001b[A\n",
      "Training:  33%|██████████████████████▎                                            | 6580/19774 [00:50<01:38, 133.52it/s]\u001b[A\n",
      "Training:  33%|██████████████████████▎                                            | 6596/19774 [00:50<01:34, 138.94it/s]\u001b[A\n",
      "Training:  33%|██████████████████████▍                                            | 6610/19774 [00:50<01:37, 135.01it/s]\u001b[A\n",
      "Training:  34%|██████████████████████▍                                            | 6626/19774 [00:51<01:32, 141.47it/s]\u001b[A\n",
      "Training:  34%|██████████████████████▌                                            | 6641/19774 [00:51<01:38, 133.91it/s]\u001b[A\n",
      "Training:  34%|██████████████████████▌                                            | 6656/19774 [00:51<01:40, 130.66it/s]\u001b[A\n",
      "Training:  34%|██████████████████████▌                                            | 6671/19774 [00:51<01:37, 133.85it/s]\u001b[A\n",
      "Training:  34%|██████████████████████▋                                            | 6685/19774 [00:51<01:36, 135.22it/s]\u001b[A\n",
      "Training:  34%|██████████████████████▋                                            | 6699/19774 [00:51<01:36, 135.76it/s]\u001b[A\n",
      "Training:  34%|██████████████████████▋                                            | 6713/19774 [00:51<01:37, 133.38it/s]\u001b[A\n",
      "Training:  34%|██████████████████████▊                                            | 6729/19774 [00:51<01:34, 138.48it/s]\u001b[A\n",
      "Training:  34%|██████████████████████▊                                            | 6743/19774 [00:51<01:40, 129.62it/s]\u001b[A\n",
      "Training:  34%|██████████████████████▉                                            | 6757/19774 [00:52<01:38, 131.77it/s]\u001b[A\n",
      "Training:  34%|██████████████████████▉                                            | 6771/19774 [00:52<01:39, 130.69it/s]\u001b[A\n",
      "Training:  34%|██████████████████████▉                                            | 6787/19774 [00:52<01:34, 137.40it/s]\u001b[A\n",
      "Training:  34%|███████████████████████                                            | 6801/19774 [00:52<01:38, 132.22it/s]\u001b[A\n",
      "Training:  34%|███████████████████████                                            | 6818/19774 [00:52<01:32, 139.91it/s]\u001b[A\n",
      "Training:  35%|███████████████████████▏                                           | 6833/19774 [00:52<01:35, 134.91it/s]\u001b[A\n",
      "Training:  35%|███████████████████████▏                                           | 6849/19774 [00:52<01:35, 135.10it/s]\u001b[A\n",
      "Training:  35%|███████████████████████▎                                           | 6864/19774 [00:52<01:34, 137.26it/s]\u001b[A\n",
      "Training:  35%|███████████████████████▎                                           | 6878/19774 [00:52<01:36, 133.44it/s]\u001b[A\n",
      "Training:  35%|███████████████████████▎                                           | 6892/19774 [00:53<01:35, 134.45it/s]\u001b[A\n",
      "Training:  35%|███████████████████████▍                                           | 6906/19774 [00:53<01:36, 134.02it/s]\u001b[A\n",
      "Training:  35%|███████████████████████▍                                           | 6922/19774 [00:53<01:31, 139.93it/s]\u001b[A\n",
      "Training:  35%|███████████████████████▌                                           | 6937/19774 [00:53<01:32, 138.70it/s]\u001b[A\n",
      "Training:  35%|███████████████████████▌                                           | 6951/19774 [00:53<01:33, 136.57it/s]\u001b[A\n",
      "Training:  35%|███████████████████████▌                                           | 6965/19774 [00:53<01:34, 135.10it/s]\u001b[A\n",
      "Training:  35%|███████████████████████▋                                           | 6981/19774 [00:53<01:30, 142.14it/s]\u001b[A\n",
      "Training:  35%|███████████████████████▋                                           | 6996/19774 [00:53<01:34, 134.77it/s]\u001b[A\n",
      "Training:  35%|███████████████████████▊                                           | 7010/19774 [00:53<01:33, 136.04it/s]\u001b[A\n",
      "Training:  36%|███████████████████████▊                                           | 7024/19774 [00:54<01:34, 134.38it/s]\u001b[A\n",
      "Training:  36%|███████████████████████▊                                           | 7039/19774 [00:54<01:31, 138.53it/s]\u001b[A\n",
      "Training:  36%|███████████████████████▉                                           | 7053/19774 [00:54<01:36, 132.09it/s]\u001b[A\n",
      "Training:  36%|███████████████████████▉                                           | 7070/19774 [00:54<01:33, 136.15it/s]\u001b[A\n",
      "Training:  36%|████████████████████████                                           | 7084/19774 [00:54<01:34, 134.77it/s]\u001b[A\n",
      "Training:  36%|████████████████████████                                           | 7099/19774 [00:54<01:32, 137.26it/s]\u001b[A\n",
      "Training:  36%|████████████████████████                                           | 7113/19774 [00:54<01:31, 137.82it/s]\u001b[A\n",
      "Training:  36%|████████████████████████▏                                          | 7127/19774 [00:54<01:34, 133.53it/s]\u001b[A\n",
      "Training:  36%|████████████████████████▏                                          | 7141/19774 [00:54<01:34, 133.87it/s]\u001b[A\n",
      "Training:  36%|████████████████████████▏                                          | 7155/19774 [00:55<01:35, 132.75it/s]\u001b[A\n",
      "Training:  36%|████████████████████████▎                                          | 7170/19774 [00:55<01:32, 135.90it/s]\u001b[A\n",
      "Training:  36%|████████████████████████▎                                          | 7184/19774 [00:55<01:34, 132.63it/s]\u001b[A\n",
      "Training:  36%|████████████████████████▍                                          | 7199/19774 [00:55<01:31, 137.22it/s]\u001b[A\n",
      "Training:  36%|████████████████████████▍                                          | 7213/19774 [00:55<01:35, 131.19it/s]\u001b[A\n",
      "Training:  37%|████████████████████████▍                                          | 7229/19774 [00:55<01:31, 137.15it/s]\u001b[A\n",
      "Training:  37%|████████████████████████▌                                          | 7243/19774 [00:55<01:35, 130.94it/s]\u001b[A\n",
      "Training:  37%|████████████████████████▌                                          | 7258/19774 [00:55<01:32, 135.90it/s]\u001b[A\n",
      "Training:  37%|████████████████████████▋                                          | 7272/19774 [00:55<01:35, 130.27it/s]\u001b[A\n",
      "Training:  37%|████████████████████████▋                                          | 7288/19774 [00:56<01:31, 136.37it/s]\u001b[A\n",
      "Training:  37%|████████████████████████▋                                          | 7302/19774 [00:56<01:33, 132.93it/s]\u001b[A\n",
      "Training:  37%|████████████████████████▊                                          | 7317/19774 [00:56<01:34, 132.32it/s]\u001b[A\n",
      "Training:  37%|████████████████████████▊                                          | 7332/19774 [00:56<01:32, 135.08it/s]\u001b[A\n",
      "Training:  37%|████████████████████████▉                                          | 7346/19774 [00:56<01:32, 133.75it/s]\u001b[A\n",
      "Training:  37%|████████████████████████▉                                          | 7360/19774 [00:56<01:31, 135.23it/s]\u001b[A\n",
      "Training:  37%|████████████████████████▉                                          | 7374/19774 [00:56<01:31, 135.39it/s]\u001b[A\n",
      "Training:  37%|█████████████████████████                                          | 7389/19774 [00:56<01:29, 139.08it/s]\u001b[A\n",
      "Training:  37%|█████████████████████████                                          | 7403/19774 [00:56<01:33, 132.95it/s]\u001b[A\n",
      "Training:  38%|█████████████████████████▏                                         | 7417/19774 [00:56<01:32, 133.88it/s]\u001b[A\n",
      "Training:  38%|█████████████████████████▏                                         | 7431/19774 [00:57<01:32, 133.95it/s]\u001b[A\n",
      "Training:  38%|█████████████████████████▏                                         | 7445/19774 [00:57<01:31, 135.34it/s]\u001b[A\n",
      "Training:  38%|█████████████████████████▎                                         | 7459/19774 [00:57<01:31, 134.85it/s]\u001b[A\n",
      "Training:  38%|█████████████████████████▎                                         | 7474/19774 [00:57<01:29, 137.43it/s]\u001b[A\n",
      "Training:  38%|█████████████████████████▎                                         | 7488/19774 [00:57<01:31, 133.97it/s]\u001b[A\n",
      "Training:  38%|█████████████████████████▍                                         | 7505/19774 [00:57<01:26, 142.62it/s]\u001b[A\n",
      "Training:  38%|█████████████████████████▍                                         | 7520/19774 [00:57<01:31, 133.38it/s]\u001b[A\n",
      "Training:  38%|█████████████████████████▌                                         | 7536/19774 [00:57<01:27, 139.47it/s]\u001b[A\n",
      "Training:  38%|█████████████████████████▌                                         | 7551/19774 [00:57<01:32, 132.56it/s]\u001b[A\n",
      "Training:  38%|█████████████████████████▋                                         | 7567/19774 [00:58<01:28, 138.26it/s]\u001b[A\n",
      "Training:  38%|█████████████████████████▋                                         | 7581/19774 [00:58<01:31, 133.12it/s]\u001b[A\n",
      "Training:  38%|█████████████████████████▋                                         | 7598/19774 [00:58<01:30, 134.34it/s]\u001b[A\n",
      "Training:  39%|█████████████████████████▊                                         | 7613/19774 [00:58<01:28, 137.68it/s]\u001b[A\n",
      "Training:  39%|█████████████████████████▊                                         | 7628/19774 [00:58<01:27, 139.02it/s]\u001b[A\n",
      "Training:  39%|█████████████████████████▉                                         | 7644/19774 [00:58<01:24, 144.08it/s]\u001b[A\n",
      "Training:  39%|█████████████████████████▉                                         | 7659/19774 [00:58<01:26, 140.68it/s]\u001b[A\n",
      "Training:  39%|██████████████████████████                                         | 7674/19774 [00:58<01:24, 142.36it/s]\u001b[A\n",
      "Training:  39%|██████████████████████████                                         | 7689/19774 [00:58<01:28, 136.80it/s]\u001b[A\n",
      "Training:  39%|██████████████████████████                                         | 7703/19774 [00:59<01:29, 135.56it/s]\u001b[A\n",
      "Training:  39%|██████████████████████████▏                                        | 7717/19774 [00:59<01:30, 133.45it/s]\u001b[A\n",
      "Training:  39%|██████████████████████████▏                                        | 7733/19774 [00:59<01:25, 140.47it/s]\u001b[A\n",
      "Training:  39%|██████████████████████████▎                                        | 7748/19774 [00:59<01:30, 132.33it/s]\u001b[A\n",
      "Training:  39%|██████████████████████████▎                                        | 7764/19774 [00:59<01:25, 139.85it/s]\u001b[A\n",
      "Training:  39%|██████████████████████████▎                                        | 7779/19774 [00:59<01:28, 135.69it/s]\u001b[A\n",
      "Training:  39%|██████████████████████████▍                                        | 7796/19774 [00:59<01:23, 144.04it/s]\u001b[A\n",
      "Training:  40%|██████████████████████████▍                                        | 7811/19774 [00:59<01:29, 133.40it/s]\u001b[A\n",
      "Training:  40%|██████████████████████████▌                                        | 7825/19774 [00:59<01:31, 131.13it/s]\u001b[A\n",
      "Training:  40%|██████████████████████████▌                                        | 7840/19774 [01:00<01:27, 135.82it/s]\u001b[A\n",
      "Training:  40%|██████████████████████████▌                                        | 7854/19774 [01:00<01:27, 135.49it/s]\u001b[A\n",
      "Training:  40%|██████████████████████████▋                                        | 7868/19774 [01:00<01:28, 134.32it/s]\u001b[A\n",
      "Training:  40%|██████████████████████████▋                                        | 7882/19774 [01:00<01:27, 135.31it/s]\u001b[A\n",
      "Training:  40%|██████████████████████████▊                                        | 7897/19774 [01:00<01:25, 138.82it/s]\u001b[A\n",
      "Training:  40%|██████████████████████████▊                                        | 7911/19774 [01:00<01:26, 137.21it/s]\u001b[A\n",
      "Training:  40%|██████████████████████████▊                                        | 7925/19774 [01:00<01:25, 137.92it/s]\u001b[A\n",
      "Training:  40%|██████████████████████████▉                                        | 7939/19774 [01:00<01:26, 136.68it/s]\u001b[A\n",
      "Training:  40%|██████████████████████████▉                                        | 7954/19774 [01:00<01:25, 138.98it/s]\u001b[A\n",
      "Training:  40%|███████████████████████████                                        | 7970/19774 [01:01<01:24, 140.13it/s]\u001b[A\n",
      "Training:  40%|███████████████████████████                                        | 7985/19774 [01:01<01:22, 142.15it/s]\u001b[A\n",
      "Training:  40%|███████████████████████████                                        | 8000/19774 [01:01<01:23, 140.80it/s]\u001b[A\n",
      "Training:  41%|███████████████████████████▏                                       | 8016/19774 [01:01<01:21, 144.66it/s]\u001b[A\n",
      "Training:  41%|███████████████████████████▏                                       | 8031/19774 [01:01<01:22, 142.96it/s]\u001b[A\n",
      "Training:  41%|███████████████████████████▎                                       | 8046/19774 [01:01<01:22, 142.36it/s]\u001b[A\n",
      "Training:  41%|███████████████████████████▎                                       | 8061/19774 [01:01<01:23, 139.51it/s]\u001b[A\n",
      "Training:  41%|███████████████████████████▎                                       | 8075/19774 [01:01<01:23, 139.39it/s]\u001b[A\n",
      "Training:  41%|███████████████████████████▍                                       | 8089/19774 [01:01<01:25, 136.22it/s]\u001b[A\n",
      "Training:  41%|███████████████████████████▍                                       | 8103/19774 [01:01<01:25, 136.65it/s]\u001b[A\n",
      "Training:  41%|███████████████████████████▌                                       | 8117/19774 [01:02<01:28, 132.17it/s]\u001b[A\n",
      "Training:  41%|███████████████████████████▌                                       | 8133/19774 [01:02<01:23, 139.45it/s]\u001b[A\n",
      "Training:  41%|███████████████████████████▌                                       | 8147/19774 [01:02<01:25, 136.22it/s]\u001b[A\n",
      "Training:  41%|███████████████████████████▋                                       | 8162/19774 [01:02<01:23, 138.94it/s]\u001b[A\n",
      "Training:  41%|███████████████████████████▋                                       | 8176/19774 [01:02<01:24, 137.38it/s]\u001b[A\n",
      "Training:  41%|███████████████████████████▊                                       | 8192/19774 [01:02<01:21, 142.01it/s]\u001b[A\n",
      "Training:  42%|███████████████████████████▊                                       | 8207/19774 [01:02<01:23, 138.50it/s]\u001b[A\n",
      "Training:  42%|███████████████████████████▊                                       | 8224/19774 [01:02<01:18, 146.46it/s]\u001b[A\n",
      "Training:  42%|███████████████████████████▉                                       | 8239/19774 [01:02<01:24, 136.70it/s]\u001b[A\n",
      "Training:  42%|███████████████████████████▉                                       | 8257/19774 [01:03<01:18, 146.90it/s]\u001b[A\n",
      "Training:  42%|████████████████████████████                                       | 8272/19774 [01:03<01:23, 138.33it/s]\u001b[A\n",
      "Training:  42%|████████████████████████████                                       | 8288/19774 [01:03<01:21, 140.09it/s]\u001b[A\n",
      "Training:  42%|████████████████████████████▏                                      | 8303/19774 [01:03<01:23, 137.60it/s]\u001b[A\n",
      "Training:  42%|████████████████████████████▏                                      | 8317/19774 [01:03<01:24, 135.63it/s]\u001b[A\n",
      "Training:  42%|████████████████████████████▏                                      | 8332/19774 [01:03<01:22, 139.44it/s]\u001b[A\n",
      "Training:  42%|████████████████████████████▎                                      | 8347/19774 [01:03<01:23, 137.46it/s]\u001b[A\n",
      "Training:  42%|████████████████████████████▎                                      | 8362/19774 [01:03<01:22, 138.46it/s]\u001b[A\n",
      "Training:  42%|████████████████████████████▍                                      | 8376/19774 [01:03<01:24, 135.60it/s]\u001b[A\n",
      "Training:  42%|████████████████████████████▍                                      | 8392/19774 [01:04<01:21, 140.41it/s]\u001b[A\n",
      "Training:  43%|████████████████████████████▍                                      | 8407/19774 [01:04<01:21, 139.05it/s]\u001b[A\n",
      "Training:  43%|████████████████████████████▌                                      | 8422/19774 [01:04<01:20, 140.86it/s]\u001b[A\n",
      "Training:  43%|████████████████████████████▌                                      | 8437/19774 [01:04<01:21, 139.20it/s]\u001b[A\n",
      "Training:  43%|████████████████████████████▋                                      | 8452/19774 [01:04<01:19, 141.93it/s]\u001b[A\n",
      "Training:  43%|████████████████████████████▋                                      | 8467/19774 [01:04<01:21, 138.98it/s]\u001b[A\n",
      "Training:  43%|████████████████████████████▋                                      | 8483/19774 [01:04<01:18, 143.68it/s]\u001b[A\n",
      "Training:  43%|████████████████████████████▊                                      | 8498/19774 [01:04<01:18, 143.12it/s]\u001b[A\n",
      "Training:  43%|████████████████████████████▊                                      | 8513/19774 [01:04<01:18, 143.30it/s]\u001b[A\n",
      "Training:  43%|████████████████████████████▉                                      | 8528/19774 [01:04<01:19, 141.93it/s]\u001b[A\n",
      "Training:  43%|████████████████████████████▉                                      | 8543/19774 [01:05<01:19, 141.85it/s]\u001b[A\n",
      "Training:  43%|████████████████████████████▉                                      | 8558/19774 [01:05<01:20, 139.29it/s]\u001b[A\n",
      "Training:  43%|█████████████████████████████                                      | 8573/19774 [01:05<01:19, 140.29it/s]\u001b[A\n",
      "Training:  43%|█████████████████████████████                                      | 8588/19774 [01:05<01:21, 136.98it/s]\u001b[A\n",
      "Training:  44%|█████████████████████████████▏                                     | 8602/19774 [01:05<01:21, 137.22it/s]\u001b[A\n",
      "Training:  44%|█████████████████████████████▏                                     | 8616/19774 [01:05<01:23, 133.08it/s]\u001b[A\n",
      "Training:  44%|█████████████████████████████▏                                     | 8631/19774 [01:05<01:21, 136.86it/s]\u001b[A\n",
      "Training:  44%|█████████████████████████████▎                                     | 8645/19774 [01:05<01:22, 135.39it/s]\u001b[A\n",
      "Training:  44%|█████████████████████████████▎                                     | 8659/19774 [01:05<01:22, 134.74it/s]\u001b[A\n",
      "Training:  44%|█████████████████████████████▍                                     | 8673/19774 [01:06<01:22, 134.84it/s]\u001b[A\n",
      "Training:  44%|█████████████████████████████▍                                     | 8687/19774 [01:06<01:21, 135.56it/s]\u001b[A\n",
      "Training:  44%|█████████████████████████████▍                                     | 8701/19774 [01:06<01:22, 133.45it/s]\u001b[A\n",
      "Training:  44%|█████████████████████████████▌                                     | 8716/19774 [01:06<01:21, 136.17it/s]\u001b[A\n",
      "Training:  44%|█████████████████████████████▌                                     | 8730/19774 [01:06<01:23, 132.13it/s]\u001b[A\n",
      "Training:  44%|█████████████████████████████▋                                     | 8745/19774 [01:06<01:21, 134.96it/s]\u001b[A\n",
      "Training:  44%|█████████████████████████████▋                                     | 8759/19774 [01:06<01:22, 133.20it/s]\u001b[A\n",
      "Training:  44%|█████████████████████████████▋                                     | 8774/19774 [01:06<01:19, 137.59it/s]\u001b[A\n",
      "Training:  44%|█████████████████████████████▊                                     | 8788/19774 [01:06<01:24, 129.88it/s]\u001b[A\n",
      "Training:  45%|█████████████████████████████▊                                     | 8804/19774 [01:07<01:19, 137.71it/s]\u001b[A\n",
      "Training:  45%|█████████████████████████████▉                                     | 8818/19774 [01:07<01:20, 135.82it/s]\u001b[A\n",
      "Training:  45%|█████████████████████████████▉                                     | 8833/19774 [01:07<01:18, 138.52it/s]\u001b[A\n",
      "Training:  45%|█████████████████████████████▉                                     | 8847/19774 [01:07<01:24, 129.53it/s]\u001b[A\n",
      "Training:  45%|██████████████████████████████                                     | 8862/19774 [01:07<01:21, 133.69it/s]\u001b[A\n",
      "Training:  45%|██████████████████████████████                                     | 8876/19774 [01:07<01:22, 132.00it/s]\u001b[A\n",
      "Training:  45%|██████████████████████████████▏                                    | 8891/19774 [01:07<01:19, 136.76it/s]\u001b[A\n",
      "Training:  45%|██████████████████████████████▏                                    | 8905/19774 [01:07<01:22, 132.34it/s]\u001b[A\n",
      "Training:  45%|██████████████████████████████▏                                    | 8923/19774 [01:07<01:14, 144.82it/s]\u001b[A\n",
      "Training:  45%|██████████████████████████████▎                                    | 8938/19774 [01:08<01:17, 139.39it/s]\u001b[A\n",
      "Training:  45%|██████████████████████████████▎                                    | 8954/19774 [01:08<01:15, 143.60it/s]\u001b[A\n",
      "Training:  45%|██████████████████████████████▍                                    | 8969/19774 [01:08<01:20, 133.92it/s]\u001b[A\n",
      "Training:  45%|██████████████████████████████▍                                    | 8984/19774 [01:08<01:21, 132.92it/s]\u001b[A\n",
      "Training:  46%|██████████████████████████████▍                                    | 8998/19774 [01:08<01:21, 132.58it/s]\u001b[A\n",
      "Training:  46%|██████████████████████████████▌                                    | 9013/19774 [01:08<01:20, 133.70it/s]\u001b[A\n",
      "Training:  46%|██████████████████████████████▌                                    | 9027/19774 [01:08<01:20, 134.02it/s]\u001b[A\n",
      "Training:  46%|██████████████████████████████▋                                    | 9042/19774 [01:08<01:20, 133.57it/s]\u001b[A\n",
      "Training:  46%|██████████████████████████████▋                                    | 9056/19774 [01:08<01:19, 135.19it/s]\u001b[A\n",
      "Training:  46%|██████████████████████████████▋                                    | 9072/19774 [01:09<01:18, 135.94it/s]\u001b[A\n",
      "Training:  46%|██████████████████████████████▊                                    | 9089/19774 [01:09<01:14, 142.80it/s]\u001b[A\n",
      "Training:  46%|██████████████████████████████▊                                    | 9104/19774 [01:09<01:15, 141.67it/s]\u001b[A\n",
      "Training:  46%|██████████████████████████████▉                                    | 9119/19774 [01:09<01:14, 142.13it/s]\u001b[A\n",
      "Training:  46%|██████████████████████████████▉                                    | 9134/19774 [01:09<01:17, 136.61it/s]\u001b[A\n",
      "Training:  46%|██████████████████████████████▉                                    | 9149/19774 [01:09<01:15, 140.03it/s]\u001b[A\n",
      "Training:  46%|███████████████████████████████                                    | 9164/19774 [01:09<01:18, 135.23it/s]\u001b[A\n",
      "Training:  46%|███████████████████████████████                                    | 9179/19774 [01:09<01:16, 139.14it/s]\u001b[A\n",
      "Training:  46%|███████████████████████████████▏                                   | 9193/19774 [01:09<01:17, 136.15it/s]\u001b[A\n",
      "Training:  47%|███████████████████████████████▏                                   | 9208/19774 [01:09<01:15, 139.32it/s]\u001b[A\n",
      "Training:  47%|███████████████████████████████▏                                   | 9222/19774 [01:10<01:17, 135.31it/s]\u001b[A\n",
      "Training:  47%|███████████████████████████████▎                                   | 9237/19774 [01:10<01:16, 137.89it/s]\u001b[A\n",
      "Training:  47%|███████████████████████████████▎                                   | 9251/19774 [01:10<01:17, 135.14it/s]\u001b[A\n",
      "Training:  47%|███████████████████████████████▍                                   | 9265/19774 [01:10<01:17, 134.85it/s]\u001b[A\n",
      "Training:  47%|███████████████████████████████▍                                   | 9279/19774 [01:10<01:19, 131.92it/s]\u001b[A\n",
      "Training:  47%|███████████████████████████████▍                                   | 9293/19774 [01:10<01:18, 133.15it/s]\u001b[A\n",
      "Training:  47%|███████████████████████████████▌                                   | 9308/19774 [01:10<01:18, 133.22it/s]\u001b[A\n",
      "Training:  47%|███████████████████████████████▌                                   | 9323/19774 [01:10<01:17, 135.41it/s]\u001b[A\n",
      "Training:  47%|███████████████████████████████▋                                   | 9337/19774 [01:10<01:18, 132.41it/s]\u001b[A\n",
      "Training:  47%|███████████████████████████████▋                                   | 9351/19774 [01:11<01:18, 132.59it/s]\u001b[A\n",
      "Training:  47%|███████████████████████████████▋                                   | 9365/19774 [01:11<01:18, 132.80it/s]\u001b[A\n",
      "Training:  47%|███████████████████████████████▊                                   | 9380/19774 [01:11<01:15, 137.63it/s]\u001b[A\n",
      "Training:  48%|███████████████████████████████▊                                   | 9394/19774 [01:11<01:17, 134.13it/s]\u001b[A\n",
      "Training:  48%|███████████████████████████████▉                                   | 9409/19774 [01:11<01:16, 136.01it/s]\u001b[A\n",
      "Training:  48%|███████████████████████████████▉                                   | 9423/19774 [01:11<01:17, 132.73it/s]\u001b[A\n",
      "Training:  48%|███████████████████████████████▉                                   | 9438/19774 [01:11<01:16, 135.59it/s]\u001b[A\n",
      "Training:  48%|████████████████████████████████                                   | 9452/19774 [01:11<01:18, 130.73it/s]\u001b[A\n",
      "Training:  48%|████████████████████████████████                                   | 9466/19774 [01:11<01:17, 132.17it/s]\u001b[A\n",
      "Training:  48%|████████████████████████████████                                   | 9480/19774 [01:12<01:18, 131.07it/s]\u001b[A\n",
      "Training:  48%|████████████████████████████████▏                                  | 9495/19774 [01:12<01:15, 135.57it/s]\u001b[A\n",
      "Training:  48%|████████████████████████████████▏                                  | 9509/19774 [01:12<01:16, 134.30it/s]\u001b[A\n",
      "Training:  48%|████████████████████████████████▎                                  | 9524/19774 [01:12<01:14, 138.00it/s]\u001b[A\n",
      "Training:  48%|████████████████████████████████▎                                  | 9539/19774 [01:12<01:12, 140.98it/s]\u001b[A\n",
      "Training:  48%|████████████████████████████████▎                                  | 9554/19774 [01:12<01:12, 141.43it/s]\u001b[A\n",
      "Training:  48%|████████████████████████████████▍                                  | 9570/19774 [01:12<01:13, 138.74it/s]\u001b[A\n",
      "Training:  48%|████████████████████████████████▍                                  | 9585/19774 [01:12<01:12, 140.52it/s]\u001b[A\n",
      "Training:  49%|████████████████████████████████▌                                  | 9600/19774 [01:12<01:14, 136.04it/s]\u001b[A\n",
      "Training:  49%|████████████████████████████████▌                                  | 9615/19774 [01:12<01:12, 139.46it/s]\u001b[A\n",
      "Training:  49%|████████████████████████████████▋                                  | 9630/19774 [01:13<01:13, 137.81it/s]\u001b[A\n",
      "Training:  49%|████████████████████████████████▋                                  | 9645/19774 [01:13<01:12, 139.32it/s]\u001b[A\n",
      "Training:  49%|████████████████████████████████▋                                  | 9660/19774 [01:13<01:14, 135.35it/s]\u001b[A\n",
      "Training:  49%|████████████████████████████████▊                                  | 9675/19774 [01:13<01:12, 139.27it/s]\u001b[A\n",
      "Training:  49%|████████████████████████████████▊                                  | 9689/19774 [01:13<01:15, 132.79it/s]\u001b[A\n",
      "Training:  49%|████████████████████████████████▉                                  | 9706/19774 [01:13<01:10, 141.93it/s]\u001b[A\n",
      "Training:  49%|████████████████████████████████▉                                  | 9721/19774 [01:13<01:13, 136.75it/s]\u001b[A\n",
      "Training:  49%|████████████████████████████████▉                                  | 9737/19774 [01:13<01:10, 143.16it/s]\u001b[A\n",
      "Training:  49%|█████████████████████████████████                                  | 9752/19774 [01:13<01:13, 136.55it/s]\u001b[A\n",
      "Training:  49%|█████████████████████████████████                                  | 9768/19774 [01:14<01:10, 141.17it/s]\u001b[A\n",
      "Training:  49%|█████████████████████████████████▏                                 | 9783/19774 [01:14<01:14, 134.07it/s]\u001b[A\n",
      "Training:  50%|█████████████████████████████████▏                                 | 9799/19774 [01:14<01:14, 133.46it/s]\u001b[A\n",
      "Training:  50%|█████████████████████████████████▎                                 | 9814/19774 [01:14<01:13, 136.09it/s]\u001b[A\n",
      "Training:  50%|█████████████████████████████████▎                                 | 9828/19774 [01:14<01:15, 132.54it/s]\u001b[A\n",
      "Training:  50%|█████████████████████████████████▎                                 | 9844/19774 [01:14<01:11, 138.59it/s]\u001b[A\n",
      "Training:  50%|█████████████████████████████████▍                                 | 9858/19774 [01:14<01:14, 133.40it/s]\u001b[A\n",
      "Training:  50%|█████████████████████████████████▍                                 | 9874/19774 [01:14<01:11, 139.43it/s]\u001b[A\n",
      "Training:  50%|█████████████████████████████████▌                                 | 9889/19774 [01:15<01:14, 132.87it/s]\u001b[A\n",
      "Training:  50%|█████████████████████████████████▌                                 | 9905/19774 [01:15<01:10, 139.73it/s]\u001b[A\n",
      "Training:  50%|█████████████████████████████████▌                                 | 9920/19774 [01:15<01:12, 135.40it/s]\u001b[A\n",
      "Training:  50%|█████████████████████████████████▋                                 | 9937/19774 [01:15<01:08, 143.24it/s]\u001b[A\n",
      "Training:  50%|█████████████████████████████████▋                                 | 9952/19774 [01:15<01:11, 138.09it/s]\u001b[A\n",
      "Training:  50%|█████████████████████████████████▊                                 | 9967/19774 [01:15<01:09, 140.26it/s]\u001b[A\n",
      "Training:  50%|█████████████████████████████████▊                                 | 9982/19774 [01:15<01:13, 132.65it/s]\u001b[A\n",
      "Training:  51%|█████████████████████████████████▊                                 | 9997/19774 [01:15<01:12, 135.51it/s]\u001b[A\n",
      "Training:  51%|█████████████████████████████████▍                                | 10011/19774 [01:15<01:15, 128.83it/s]\u001b[A\n",
      "Training:  51%|█████████████████████████████████▍                                | 10026/19774 [01:16<01:12, 134.03it/s]\u001b[A\n",
      "Training:  51%|█████████████████████████████████▌                                | 10040/19774 [01:16<01:16, 127.05it/s]\u001b[A\n",
      "Training:  51%|█████████████████████████████████▌                                | 10056/19774 [01:16<01:12, 134.20it/s]\u001b[A\n",
      "Training:  51%|█████████████████████████████████▌                                | 10070/19774 [01:16<01:16, 127.11it/s]\u001b[A\n",
      "Training:  51%|█████████████████████████████████▋                                | 10083/19774 [01:16<01:18, 123.29it/s]\u001b[A\n",
      "Training:  51%|█████████████████████████████████▋                                | 10100/19774 [01:16<01:12, 133.61it/s]\u001b[A\n",
      "Training:  51%|█████████████████████████████████▊                                | 10114/19774 [01:16<01:13, 132.19it/s]\u001b[A\n",
      "Training:  51%|█████████████████████████████████▊                                | 10129/19774 [01:16<01:10, 136.88it/s]\u001b[A\n",
      "Training:  51%|█████████████████████████████████▊                                | 10143/19774 [01:16<01:13, 130.22it/s]\u001b[A\n",
      "Training:  51%|█████████████████████████████████▉                                | 10157/19774 [01:17<01:12, 132.51it/s]\u001b[A\n",
      "Training:  51%|█████████████████████████████████▉                                | 10171/19774 [01:17<01:12, 132.03it/s]\u001b[A\n",
      "Training:  52%|█████████████████████████████████▉                                | 10185/19774 [01:17<01:12, 131.62it/s]\u001b[A\n",
      "Training:  52%|██████████████████████████████████                                | 10201/19774 [01:17<01:09, 137.25it/s]\u001b[A\n",
      "Training:  52%|██████████████████████████████████                                | 10215/19774 [01:17<01:11, 132.88it/s]\u001b[A\n",
      "Training:  52%|██████████████████████████████████▏                               | 10230/19774 [01:17<01:11, 133.91it/s]\u001b[A\n",
      "Training:  52%|██████████████████████████████████▏                               | 10244/19774 [01:17<01:13, 130.17it/s]\u001b[A\n",
      "Training:  52%|██████████████████████████████████▏                               | 10261/19774 [01:17<01:12, 130.86it/s]\u001b[A\n",
      "Training:  52%|██████████████████████████████████▎                               | 10276/19774 [01:17<01:09, 135.78it/s]\u001b[A\n",
      "Training:  52%|██████████████████████████████████▎                               | 10290/19774 [01:18<01:10, 134.10it/s]\u001b[A\n",
      "Training:  52%|██████████████████████████████████▍                               | 10306/19774 [01:18<01:07, 139.79it/s]\u001b[A\n",
      "Training:  52%|██████████████████████████████████▍                               | 10321/19774 [01:18<01:09, 135.08it/s]\u001b[A\n",
      "Training:  52%|██████████████████████████████████▌                               | 10337/19774 [01:18<01:06, 141.90it/s]\u001b[A\n",
      "Training:  52%|██████████████████████████████████▌                               | 10352/19774 [01:18<01:06, 140.80it/s]\u001b[A\n",
      "Training:  52%|██████████████████████████████████▌                               | 10367/19774 [01:18<01:06, 141.26it/s]\u001b[A\n",
      "Training:  53%|██████████████████████████████████▋                               | 10382/19774 [01:18<01:09, 136.02it/s]\u001b[A\n",
      "Training:  53%|██████████████████████████████████▋                               | 10399/19774 [01:18<01:05, 143.76it/s]\u001b[A\n",
      "Training:  53%|██████████████████████████████████▊                               | 10414/19774 [01:18<01:09, 133.91it/s]\u001b[A\n",
      "Training:  53%|██████████████████████████████████▊                               | 10428/19774 [01:19<01:12, 128.84it/s]\u001b[A\n",
      "Training:  53%|██████████████████████████████████▊                               | 10444/19774 [01:19<01:08, 135.60it/s]\u001b[A\n",
      "Training:  53%|██████████████████████████████████▉                               | 10458/19774 [01:19<01:10, 132.39it/s]\u001b[A\n",
      "Training:  53%|██████████████████████████████████▉                               | 10475/19774 [01:19<01:05, 141.09it/s]\u001b[A\n",
      "Training:  53%|███████████████████████████████████                               | 10490/19774 [01:19<01:07, 136.73it/s]\u001b[A\n",
      "Training:  53%|███████████████████████████████████                               | 10506/19774 [01:19<01:05, 142.39it/s]\u001b[A\n",
      "Training:  53%|███████████████████████████████████                               | 10521/19774 [01:19<01:07, 137.09it/s]\u001b[A\n",
      "Training:  53%|███████████████████████████████████▏                              | 10535/19774 [01:19<01:07, 137.37it/s]\u001b[A\n",
      "Training:  53%|███████████████████████████████████▏                              | 10549/19774 [01:19<01:07, 136.46it/s]\u001b[A\n",
      "Training:  53%|███████████████████████████████████▎                              | 10563/19774 [01:19<01:09, 132.89it/s]\u001b[A\n",
      "Training:  53%|███████████████████████████████████▎                              | 10577/19774 [01:20<01:09, 133.14it/s]\u001b[A\n",
      "Training:  54%|███████████████████████████████████▎                              | 10591/19774 [01:20<01:08, 134.19it/s]\u001b[A\n",
      "Training:  54%|███████████████████████████████████▍                              | 10605/19774 [01:20<01:07, 135.06it/s]\u001b[A\n",
      "Training:  54%|███████████████████████████████████▍                              | 10619/19774 [01:20<01:09, 132.00it/s]\u001b[A\n",
      "Training:  54%|███████████████████████████████████▍                              | 10634/19774 [01:20<01:07, 135.60it/s]\u001b[A\n",
      "Training:  54%|███████████████████████████████████▌                              | 10648/19774 [01:20<01:11, 128.12it/s]\u001b[A\n",
      "Training:  54%|███████████████████████████████████▌                              | 10663/19774 [01:20<01:08, 132.41it/s]\u001b[A\n",
      "Training:  54%|███████████████████████████████████▋                              | 10677/19774 [01:20<01:11, 127.11it/s]\u001b[A\n",
      "Training:  54%|███████████████████████████████████▋                              | 10691/19774 [01:20<01:10, 129.75it/s]\u001b[A\n",
      "Training:  54%|███████████████████████████████████▋                              | 10706/19774 [01:21<01:07, 133.75it/s]\u001b[A\n",
      "Training:  54%|███████████████████████████████████▊                              | 10720/19774 [01:21<01:11, 127.23it/s]\u001b[A\n",
      "Training:  54%|███████████████████████████████████▊                              | 10737/19774 [01:21<01:06, 136.66it/s]\u001b[A\n",
      "Training:  54%|███████████████████████████████████▉                              | 10751/19774 [01:21<01:07, 132.82it/s]\u001b[A\n",
      "Training:  54%|███████████████████████████████████▉                              | 10766/19774 [01:21<01:06, 136.36it/s]\u001b[A\n",
      "Training:  55%|███████████████████████████████████▉                              | 10780/19774 [01:21<01:07, 134.00it/s]\u001b[A\n",
      "Training:  55%|████████████████████████████████████                              | 10794/19774 [01:21<01:09, 129.78it/s]\u001b[A\n",
      "Training:  55%|████████████████████████████████████                              | 10810/19774 [01:21<01:05, 135.85it/s]\u001b[A\n",
      "Training:  55%|████████████████████████████████████▏                             | 10824/19774 [01:21<01:08, 129.81it/s]\u001b[A\n",
      "Training:  55%|████████████████████████████████████▏                             | 10838/19774 [01:22<01:09, 128.50it/s]\u001b[A\n",
      "Training:  55%|████████████████████████████████████▏                             | 10852/19774 [01:22<01:08, 131.06it/s]\u001b[A\n",
      "Training:  55%|████████████████████████████████████▎                             | 10866/19774 [01:22<01:09, 127.87it/s]\u001b[A\n",
      "Training:  55%|████████████████████████████████████▎                             | 10881/19774 [01:22<01:06, 133.66it/s]\u001b[A\n",
      "Training:  55%|████████████████████████████████████▎                             | 10895/19774 [01:22<01:09, 128.10it/s]\u001b[A\n",
      "Training:  55%|████████████████████████████████████▍                             | 10910/19774 [01:22<01:07, 131.52it/s]\u001b[A\n",
      "Training:  55%|████████████████████████████████████▍                             | 10924/19774 [01:22<01:09, 127.09it/s]\u001b[A\n",
      "Training:  55%|████████████████████████████████████▌                             | 10937/19774 [01:22<01:10, 125.38it/s]\u001b[A\n",
      "Training:  55%|████████████████████████████████████▌                             | 10951/19774 [01:22<01:08, 127.93it/s]\u001b[A\n",
      "Training:  55%|████████████████████████████████████▌                             | 10965/19774 [01:23<01:08, 128.53it/s]\u001b[A\n",
      "Training:  56%|████████████████████████████████████▋                             | 10978/19774 [01:23<01:08, 128.18it/s]\u001b[A\n",
      "Training:  56%|████████████████████████████████████▋                             | 10992/19774 [01:23<01:11, 123.15it/s]\u001b[A\n",
      "Training:  56%|████████████████████████████████████▋                             | 11008/19774 [01:23<01:06, 131.60it/s]\u001b[A\n",
      "Training:  56%|████████████████████████████████████▊                             | 11022/19774 [01:23<01:07, 129.99it/s]\u001b[A\n",
      "Training:  56%|████████████████████████████████████▊                             | 11038/19774 [01:23<01:03, 137.27it/s]\u001b[A\n",
      "Training:  56%|████████████████████████████████████▉                             | 11052/19774 [01:23<01:04, 135.63it/s]\u001b[A\n",
      "Training:  56%|████████████████████████████████████▉                             | 11067/19774 [01:23<01:04, 134.69it/s]\u001b[A\n",
      "Training:  56%|████████████████████████████████████▉                             | 11081/19774 [01:23<01:04, 134.13it/s]\u001b[A\n",
      "Training:  56%|█████████████████████████████████████                             | 11095/19774 [01:24<01:07, 128.61it/s]\u001b[A\n",
      "Training:  56%|█████████████████████████████████████                             | 11111/19774 [01:24<01:03, 136.27it/s]\u001b[A\n",
      "Training:  56%|█████████████████████████████████████▏                            | 11125/19774 [01:24<01:06, 130.94it/s]\u001b[A\n",
      "Training:  56%|█████████████████████████████████████▏                            | 11142/19774 [01:24<01:01, 139.87it/s]\u001b[A\n",
      "Training:  56%|█████████████████████████████████████▏                            | 11157/19774 [01:24<01:04, 134.49it/s]\u001b[A\n",
      "Training:  56%|█████████████████████████████████████▎                            | 11171/19774 [01:24<01:08, 125.42it/s]\u001b[A\n",
      "Training:  57%|█████████████████████████████████████▎                            | 11186/19774 [01:24<01:05, 131.05it/s]\u001b[A\n",
      "Training:  57%|█████████████████████████████████████▍                            | 11200/19774 [01:24<01:08, 125.00it/s]\u001b[A\n",
      "Training:  57%|█████████████████████████████████████▍                            | 11216/19774 [01:24<01:07, 127.10it/s]\u001b[A\n",
      "Training:  57%|█████████████████████████████████████▍                            | 11230/19774 [01:25<01:05, 130.51it/s]\u001b[A\n",
      "Training:  57%|█████████████████████████████████████▌                            | 11244/19774 [01:25<01:06, 128.29it/s]\u001b[A\n",
      "Training:  57%|█████████████████████████████████████▌                            | 11259/19774 [01:25<01:03, 133.91it/s]\u001b[A\n",
      "Training:  57%|█████████████████████████████████████▋                            | 11273/19774 [01:25<01:02, 135.60it/s]\u001b[A\n",
      "Training:  57%|█████████████████████████████████████▋                            | 11289/19774 [01:25<01:00, 139.33it/s]\u001b[A\n",
      "Training:  57%|█████████████████████████████████████▋                            | 11303/19774 [01:25<01:03, 134.24it/s]\u001b[A\n",
      "Training:  57%|█████████████████████████████████████▊                            | 11320/19774 [01:25<00:58, 143.95it/s]\u001b[A\n",
      "Training:  57%|█████████████████████████████████████▊                            | 11335/19774 [01:25<01:01, 136.87it/s]\u001b[A\n",
      "Training:  57%|█████████████████████████████████████▉                            | 11349/19774 [01:25<01:03, 133.41it/s]\u001b[A\n",
      "Training:  57%|█████████████████████████████████████▉                            | 11366/19774 [01:26<00:59, 141.65it/s]\u001b[A\n",
      "Training:  58%|█████████████████████████████████████▉                            | 11381/19774 [01:26<01:01, 135.46it/s]\u001b[A\n",
      "Training:  58%|██████████████████████████████████████                            | 11397/19774 [01:26<00:58, 142.11it/s]\u001b[A\n",
      "Training:  58%|██████████████████████████████████████                            | 11412/19774 [01:26<01:00, 138.03it/s]\u001b[A\n",
      "Training:  58%|██████████████████████████████████████▏                           | 11426/19774 [01:26<01:03, 131.72it/s]\u001b[A\n",
      "Training:  58%|██████████████████████████████████████▏                           | 11441/19774 [01:26<01:01, 135.57it/s]\u001b[A\n",
      "Training:  58%|██████████████████████████████████████▏                           | 11455/19774 [01:26<01:02, 132.75it/s]\u001b[A\n",
      "Training:  58%|██████████████████████████████████████▎                           | 11470/19774 [01:26<01:01, 135.11it/s]\u001b[A\n",
      "Training:  58%|██████████████████████████████████████▎                           | 11485/19774 [01:26<01:02, 132.24it/s]\u001b[A\n",
      "Training:  58%|██████████████████████████████████████▍                           | 11499/19774 [01:27<01:03, 129.82it/s]\u001b[A\n",
      "Training:  58%|██████████████████████████████████████▍                           | 11513/19774 [01:27<01:04, 128.80it/s]\u001b[A\n",
      "Training:  58%|██████████████████████████████████████▍                           | 11530/19774 [01:27<00:59, 138.40it/s]\u001b[A\n",
      "Training:  58%|██████████████████████████████████████▌                           | 11544/19774 [01:27<01:03, 129.25it/s]\u001b[A\n",
      "Training:  58%|██████████████████████████████████████▌                           | 11560/19774 [01:27<01:00, 135.29it/s]\u001b[A\n",
      "Training:  59%|██████████████████████████████████████▋                           | 11574/19774 [01:27<01:01, 132.69it/s]\u001b[A\n",
      "Training:  59%|██████████████████████████████████████▋                           | 11588/19774 [01:27<01:03, 129.53it/s]\u001b[A\n",
      "Training:  59%|██████████████████████████████████████▋                           | 11602/19774 [01:27<01:03, 129.45it/s]\u001b[A\n",
      "Training:  59%|██████████████████████████████████████▊                           | 11615/19774 [01:27<01:05, 125.26it/s]\u001b[A\n",
      "Training:  59%|██████████████████████████████████████▊                           | 11631/19774 [01:28<01:01, 133.24it/s]\u001b[A\n",
      "Training:  59%|██████████████████████████████████████▊                           | 11645/19774 [01:28<01:04, 125.98it/s]\u001b[A\n",
      "Training:  59%|██████████████████████████████████████▉                           | 11662/19774 [01:28<01:01, 131.88it/s]\u001b[A\n",
      "Training:  59%|██████████████████████████████████████▉                           | 11678/19774 [01:28<00:58, 138.63it/s]\u001b[A\n",
      "Training:  59%|███████████████████████████████████████                           | 11692/19774 [01:28<00:59, 135.64it/s]\u001b[A\n",
      "Training:  59%|███████████████████████████████████████                           | 11707/19774 [01:28<00:59, 136.57it/s]\u001b[A\n",
      "Training:  59%|███████████████████████████████████████                           | 11721/19774 [01:28<01:00, 132.15it/s]\u001b[A\n",
      "Training:  59%|███████████████████████████████████████▏                          | 11737/19774 [01:28<00:57, 139.09it/s]\u001b[A\n",
      "Training:  59%|███████████████████████████████████████▏                          | 11751/19774 [01:28<00:59, 133.85it/s]\u001b[A\n",
      "Training:  59%|███████████████████████████████████████▎                          | 11765/19774 [01:29<01:00, 133.24it/s]\u001b[A\n",
      "Training:  60%|███████████████████████████████████████▎                          | 11779/19774 [01:29<01:00, 132.29it/s]\u001b[A\n",
      "Training:  60%|███████████████████████████████████████▎                          | 11793/19774 [01:29<01:00, 131.93it/s]\u001b[A\n",
      "Training:  60%|███████████████████████████████████████▍                          | 11807/19774 [01:29<01:00, 132.15it/s]\u001b[A\n",
      "Training:  60%|███████████████████████████████████████▍                          | 11821/19774 [01:29<01:01, 129.23it/s]\u001b[A\n",
      "Training:  60%|███████████████████████████████████████▌                          | 11836/19774 [01:29<00:58, 135.06it/s]\u001b[A\n",
      "Training:  60%|███████████████████████████████████████▌                          | 11850/19774 [01:29<01:00, 131.86it/s]\u001b[A\n",
      "Training:  60%|███████████████████████████████████████▌                          | 11866/19774 [01:29<00:56, 139.67it/s]\u001b[A\n",
      "Training:  60%|███████████████████████████████████████▋                          | 11881/19774 [01:29<00:59, 133.24it/s]\u001b[A\n",
      "Training:  60%|███████████████████████████████████████▋                          | 11895/19774 [01:30<00:59, 132.77it/s]\u001b[A\n",
      "Training:  60%|███████████████████████████████████████▋                          | 11909/19774 [01:30<00:58, 134.68it/s]\u001b[A\n",
      "Training:  60%|███████████████████████████████████████▊                          | 11923/19774 [01:30<00:59, 131.17it/s]\u001b[A\n",
      "Training:  60%|███████████████████████████████████████▊                          | 11939/19774 [01:30<00:56, 139.27it/s]\u001b[A\n",
      "Training:  60%|███████████████████████████████████████▉                          | 11954/19774 [01:30<00:58, 134.57it/s]\u001b[A\n",
      "Training:  61%|███████████████████████████████████████▉                          | 11970/19774 [01:30<00:55, 141.15it/s]\u001b[A\n",
      "Training:  61%|████████████████████████████████████████                          | 11985/19774 [01:30<00:58, 133.12it/s]\u001b[A\n",
      "Training:  61%|████████████████████████████████████████                          | 11999/19774 [01:30<00:58, 131.91it/s]\u001b[A\n",
      "Training:  61%|████████████████████████████████████████                          | 12013/19774 [01:30<01:02, 124.33it/s]\u001b[A\n",
      "Training:  61%|████████████████████████████████████████▏                         | 12026/19774 [01:31<01:04, 120.87it/s]\u001b[A\n",
      "Training:  61%|████████████████████████████████████████▏                         | 12042/19774 [01:31<00:58, 131.24it/s]\u001b[A\n",
      "Training:  61%|████████████████████████████████████████▏                         | 12056/19774 [01:31<00:59, 128.85it/s]\u001b[A\n",
      "Training:  61%|████████████████████████████████████████▎                         | 12072/19774 [01:31<00:56, 135.25it/s]\u001b[A\n",
      "Training:  61%|████████████████████████████████████████▎                         | 12086/19774 [01:31<00:58, 132.46it/s]\u001b[A\n",
      "Training:  61%|████████████████████████████████████████▍                         | 12100/19774 [01:31<00:59, 129.04it/s]\u001b[A\n",
      "Training:  61%|████████████████████████████████████████▍                         | 12115/19774 [01:31<00:57, 134.02it/s]\u001b[A\n",
      "Training:  61%|████████████████████████████████████████▍                         | 12129/19774 [01:31<00:57, 132.66it/s]\u001b[A\n",
      "Training:  61%|████████████████████████████████████████▌                         | 12145/19774 [01:31<00:54, 139.22it/s]\u001b[A\n",
      "Training:  61%|████████████████████████████████████████▌                         | 12159/19774 [01:32<00:57, 132.33it/s]\u001b[A\n",
      "Training:  62%|████████████████████████████████████████▋                         | 12176/19774 [01:32<00:55, 136.15it/s]\u001b[A\n",
      "Training:  62%|████████████████████████████████████████▋                         | 12190/19774 [01:32<00:56, 133.09it/s]\u001b[A\n",
      "Training:  62%|████████████████████████████████████████▋                         | 12204/19774 [01:32<00:58, 130.28it/s]\u001b[A\n",
      "Training:  62%|████████████████████████████████████████▊                         | 12219/19774 [01:32<00:55, 135.58it/s]\u001b[A\n",
      "Training:  62%|████████████████████████████████████████▊                         | 12233/19774 [01:32<00:58, 129.40it/s]\u001b[A\n",
      "Training:  62%|████████████████████████████████████████▉                         | 12250/19774 [01:32<00:53, 139.92it/s]\u001b[A\n",
      "Training:  62%|████████████████████████████████████████▉                         | 12265/19774 [01:32<00:56, 132.83it/s]\u001b[A\n",
      "Training:  62%|████████████████████████████████████████▉                         | 12279/19774 [01:32<00:57, 129.22it/s]\u001b[A\n",
      "Training:  62%|█████████████████████████████████████████                         | 12293/19774 [01:33<00:56, 132.14it/s]\u001b[A\n",
      "Training:  62%|█████████████████████████████████████████                         | 12307/19774 [01:33<00:57, 129.17it/s]\u001b[A\n",
      "Training:  62%|█████████████████████████████████████████▏                        | 12323/19774 [01:33<00:54, 136.17it/s]\u001b[A\n",
      "Training:  62%|█████████████████████████████████████████▏                        | 12337/19774 [01:33<00:55, 133.73it/s]\u001b[A\n",
      "Training:  62%|█████████████████████████████████████████▏                        | 12354/19774 [01:33<00:53, 138.04it/s]\u001b[A\n",
      "Training:  63%|█████████████████████████████████████████▎                        | 12368/19774 [01:33<00:53, 137.67it/s]\u001b[A\n",
      "Training:  63%|█████████████████████████████████████████▎                        | 12384/19774 [01:33<00:52, 142.04it/s]\u001b[A\n",
      "Training:  63%|█████████████████████████████████████████▍                        | 12399/19774 [01:33<00:55, 133.34it/s]\u001b[A\n",
      "Training:  63%|█████████████████████████████████████████▍                        | 12413/19774 [01:33<00:56, 130.96it/s]\u001b[A\n",
      "Training:  63%|█████████████████████████████████████████▍                        | 12428/19774 [01:34<00:54, 135.66it/s]\u001b[A\n",
      "Training:  63%|█████████████████████████████████████████▌                        | 12442/19774 [01:34<00:55, 132.53it/s]\u001b[A\n",
      "Training:  63%|█████████████████████████████████████████▌                        | 12457/19774 [01:34<00:53, 136.29it/s]\u001b[A\n",
      "Training:  63%|█████████████████████████████████████████▌                        | 12471/19774 [01:34<00:55, 131.82it/s]\u001b[A\n",
      "Training:  63%|█████████████████████████████████████████▋                        | 12486/19774 [01:34<00:54, 134.95it/s]\u001b[A\n",
      "Training:  63%|█████████████████████████████████████████▋                        | 12500/19774 [01:34<00:55, 130.76it/s]\u001b[A\n",
      "Training:  63%|█████████████████████████████████████████▊                        | 12517/19774 [01:34<00:51, 141.70it/s]\u001b[A\n",
      "Training:  63%|█████████████████████████████████████████▊                        | 12532/19774 [01:34<00:53, 134.57it/s]\u001b[A\n",
      "Training:  63%|█████████████████████████████████████████▉                        | 12547/19774 [01:34<00:54, 133.45it/s]\u001b[A\n",
      "Training:  64%|█████████████████████████████████████████▉                        | 12561/19774 [01:35<00:53, 135.09it/s]\u001b[A\n",
      "Training:  64%|█████████████████████████████████████████▉                        | 12575/19774 [01:35<00:53, 134.72it/s]\u001b[A\n",
      "Training:  64%|██████████████████████████████████████████                        | 12590/19774 [01:35<00:52, 136.68it/s]\u001b[A\n",
      "Training:  64%|██████████████████████████████████████████                        | 12604/19774 [01:35<00:54, 130.38it/s]\u001b[A\n",
      "Training:  64%|██████████████████████████████████████████                        | 12620/19774 [01:35<00:54, 130.25it/s]\u001b[A\n",
      "Training:  64%|██████████████████████████████████████████▏                       | 12634/19774 [01:35<00:54, 130.14it/s]\u001b[A\n",
      "Training:  64%|██████████████████████████████████████████▏                       | 12648/19774 [01:35<00:54, 130.48it/s]\u001b[A\n",
      "Training:  64%|██████████████████████████████████████████▎                       | 12663/19774 [01:35<00:52, 134.47it/s]\u001b[A\n",
      "Training:  64%|██████████████████████████████████████████▎                       | 12677/19774 [01:35<00:52, 134.45it/s]\u001b[A\n",
      "Training:  64%|██████████████████████████████████████████▎                       | 12692/19774 [01:36<00:51, 138.36it/s]\u001b[A\n",
      "Training:  64%|██████████████████████████████████████████▍                       | 12706/19774 [01:36<00:53, 131.34it/s]\u001b[A\n",
      "Training:  64%|██████████████████████████████████████████▍                       | 12723/19774 [01:36<00:50, 140.89it/s]\u001b[A\n",
      "Training:  64%|██████████████████████████████████████████▌                       | 12738/19774 [01:36<00:51, 136.87it/s]\u001b[A\n",
      "Training:  64%|██████████████████████████████████████████▌                       | 12754/19774 [01:36<00:49, 142.64it/s]\u001b[A\n",
      "Training:  65%|██████████████████████████████████████████▌                       | 12769/19774 [01:36<00:51, 136.36it/s]\u001b[A\n",
      "Training:  65%|██████████████████████████████████████████▋                       | 12783/19774 [01:36<00:52, 133.20it/s]\u001b[A\n",
      "Training:  65%|██████████████████████████████████████████▋                       | 12797/19774 [01:36<00:52, 134.07it/s]\u001b[A\n",
      "Training:  65%|██████████████████████████████████████████▊                       | 12811/19774 [01:36<00:53, 129.02it/s]\u001b[A\n",
      "Training:  65%|██████████████████████████████████████████▊                       | 12827/19774 [01:37<00:51, 135.70it/s]\u001b[A\n",
      "Training:  65%|██████████████████████████████████████████▊                       | 12841/19774 [01:37<00:53, 128.47it/s]\u001b[A\n",
      "Training:  65%|██████████████████████████████████████████▉                       | 12857/19774 [01:37<00:51, 133.22it/s]\u001b[A\n",
      "Training:  65%|██████████████████████████████████████████▉                       | 12871/19774 [01:37<00:51, 134.42it/s]\u001b[A\n",
      "Training:  65%|███████████████████████████████████████████                       | 12886/19774 [01:37<00:50, 136.23it/s]\u001b[A\n",
      "Training:  65%|███████████████████████████████████████████                       | 12901/19774 [01:37<00:49, 139.08it/s]\u001b[A\n",
      "Training:  65%|███████████████████████████████████████████                       | 12915/19774 [01:37<00:52, 131.77it/s]\u001b[A\n",
      "Training:  65%|███████████████████████████████████████████▏                      | 12931/19774 [01:37<00:49, 138.43it/s]\u001b[A\n",
      "Training:  65%|███████████████████████████████████████████▏                      | 12945/19774 [01:37<00:51, 132.90it/s]\u001b[A\n",
      "Training:  66%|███████████████████████████████████████████▎                      | 12961/19774 [01:37<00:48, 140.29it/s]\u001b[A\n",
      "Training:  66%|███████████████████████████████████████████▎                      | 12976/19774 [01:38<00:50, 134.65it/s]\u001b[A\n",
      "Training:  66%|███████████████████████████████████████████▎                      | 12990/19774 [01:38<00:51, 132.32it/s]\u001b[A\n",
      "Training:  66%|███████████████████████████████████████████▍                      | 13007/19774 [01:38<00:48, 140.61it/s]\u001b[A\n",
      "Training:  66%|███████████████████████████████████████████▍                      | 13022/19774 [01:38<00:49, 136.65it/s]\u001b[A\n",
      "Training:  66%|███████████████████████████████████████████▌                      | 13037/19774 [01:38<00:48, 139.35it/s]\u001b[A\n",
      "Training:  66%|███████████████████████████████████████████▌                      | 13052/19774 [01:38<00:49, 136.01it/s]\u001b[A\n",
      "Training:  66%|███████████████████████████████████████████▌                      | 13069/19774 [01:38<00:46, 145.32it/s]\u001b[A\n",
      "Training:  66%|███████████████████████████████████████████▋                      | 13084/19774 [01:38<00:49, 135.20it/s]\u001b[A\n",
      "Training:  66%|███████████████████████████████████████████▋                      | 13098/19774 [01:39<00:50, 133.24it/s]\u001b[A\n",
      "Training:  66%|███████████████████████████████████████████▊                      | 13113/19774 [01:39<00:48, 137.31it/s]\u001b[A\n",
      "Training:  66%|███████████████████████████████████████████▊                      | 13127/19774 [01:39<00:49, 133.84it/s]\u001b[A\n",
      "Training:  66%|███████████████████████████████████████████▊                      | 13144/19774 [01:39<00:46, 142.37it/s]\u001b[A\n",
      "Training:  67%|███████████████████████████████████████████▉                      | 13159/19774 [01:39<00:48, 137.40it/s]\u001b[A\n",
      "Training:  67%|███████████████████████████████████████████▉                      | 13175/19774 [01:39<00:46, 141.28it/s]\u001b[A\n",
      "Training:  67%|████████████████████████████████████████████                      | 13190/19774 [01:39<00:48, 134.72it/s]\u001b[A\n",
      "Training:  67%|████████████████████████████████████████████                      | 13204/19774 [01:39<00:49, 133.21it/s]\u001b[A\n",
      "Training:  67%|████████████████████████████████████████████                      | 13220/19774 [01:39<00:46, 139.54it/s]\u001b[A\n",
      "Training:  67%|████████████████████████████████████████████▏                     | 13235/19774 [01:40<00:48, 133.83it/s]\u001b[A\n",
      "Training:  67%|████████████████████████████████████████████▏                     | 13251/19774 [01:40<00:46, 139.24it/s]\u001b[A\n",
      "Training:  67%|████████████████████████████████████████████▎                     | 13266/19774 [01:40<00:49, 132.61it/s]\u001b[A\n",
      "Training:  67%|████████████████████████████████████████████▎                     | 13281/19774 [01:40<00:47, 135.67it/s]\u001b[A\n",
      "Training:  67%|████████████████████████████████████████████▎                     | 13295/19774 [01:40<00:49, 131.11it/s]\u001b[A\n",
      "Training:  67%|████████████████████████████████████████████▍                     | 13309/19774 [01:40<00:49, 129.83it/s]\u001b[A\n",
      "Training:  67%|████████████████████████████████████████████▍                     | 13324/19774 [01:40<00:48, 133.90it/s]\u001b[A\n",
      "Training:  67%|████████████████████████████████████████████▌                     | 13338/19774 [01:40<00:50, 127.41it/s]\u001b[A\n",
      "Training:  68%|████████████████████████████████████████████▌                     | 13354/19774 [01:40<00:47, 133.87it/s]\u001b[A\n",
      "Training:  68%|████████████████████████████████████████████▌                     | 13368/19774 [01:41<00:49, 128.49it/s]\u001b[A\n",
      "Training:  68%|████████████████████████████████████████████▋                     | 13381/19774 [01:41<00:50, 127.66it/s]\u001b[A\n",
      "Training:  68%|████████████████████████████████████████████▋                     | 13397/19774 [01:41<00:47, 135.01it/s]\u001b[A\n",
      "Training:  68%|████████████████████████████████████████████▊                     | 13412/19774 [01:41<00:46, 135.56it/s]\u001b[A\n",
      "Training:  68%|████████████████████████████████████████████▊                     | 13428/19774 [01:41<00:44, 141.21it/s]\u001b[A\n",
      "Training:  68%|████████████████████████████████████████████▊                     | 13443/19774 [01:41<00:46, 137.58it/s]\u001b[A\n",
      "Training:  68%|████████████████████████████████████████████▉                     | 13459/19774 [01:41<00:44, 142.22it/s]\u001b[A\n",
      "Training:  68%|████████████████████████████████████████████▉                     | 13474/19774 [01:41<00:45, 137.58it/s]\u001b[A\n",
      "Training:  68%|█████████████████████████████████████████████                     | 13490/19774 [01:41<00:44, 141.10it/s]\u001b[A\n",
      "Training:  68%|█████████████████████████████████████████████                     | 13505/19774 [01:42<00:47, 133.32it/s]\u001b[A\n",
      "Training:  68%|█████████████████████████████████████████████▏                    | 13521/19774 [01:42<00:44, 140.08it/s]\u001b[A\n",
      "Training:  68%|█████████████████████████████████████████████▏                    | 13536/19774 [01:42<00:46, 135.05it/s]\u001b[A\n",
      "Training:  69%|█████████████████████████████████████████████▏                    | 13550/19774 [01:42<00:46, 132.87it/s]\u001b[A\n",
      "Training:  69%|█████████████████████████████████████████████▎                    | 13564/19774 [01:42<00:46, 134.59it/s]\u001b[A\n",
      "Training:  69%|█████████████████████████████████████████████▎                    | 13579/19774 [01:42<00:46, 132.68it/s]\u001b[A\n",
      "Training:  69%|█████████████████████████████████████████████▍                    | 13595/19774 [01:42<00:44, 138.58it/s]\u001b[A\n",
      "Training:  69%|█████████████████████████████████████████████▍                    | 13609/19774 [01:42<00:46, 132.01it/s]\u001b[A\n",
      "Training:  69%|█████████████████████████████████████████████▍                    | 13625/19774 [01:42<00:44, 139.42it/s]\u001b[A\n",
      "Training:  69%|█████████████████████████████████████████████▌                    | 13640/19774 [01:43<00:45, 136.13it/s]\u001b[A\n",
      "Training:  69%|█████████████████████████████████████████████▌                    | 13654/19774 [01:43<00:46, 130.91it/s]\u001b[A\n",
      "Training:  69%|█████████████████████████████████████████████▋                    | 13671/19774 [01:43<00:43, 140.45it/s]\u001b[A\n",
      "Training:  69%|█████████████████████████████████████████████▋                    | 13686/19774 [01:43<00:45, 135.20it/s]\u001b[A\n",
      "Training:  69%|█████████████████████████████████████████████▋                    | 13703/19774 [01:43<00:42, 141.74it/s]\u001b[A\n",
      "Training:  69%|█████████████████████████████████████████████▊                    | 13718/19774 [01:43<00:44, 134.62it/s]\u001b[A\n",
      "Training:  69%|█████████████████████████████████████████████▊                    | 13732/19774 [01:43<00:45, 134.25it/s]\u001b[A\n",
      "Training:  70%|█████████████████████████████████████████████▉                    | 13748/19774 [01:43<00:43, 139.13it/s]\u001b[A\n",
      "Training:  70%|█████████████████████████████████████████████▉                    | 13763/19774 [01:43<00:43, 138.72it/s]\u001b[A\n",
      "Training:  70%|█████████████████████████████████████████████▉                    | 13778/19774 [01:44<00:42, 140.07it/s]\u001b[A\n",
      "Training:  70%|██████████████████████████████████████████████                    | 13793/19774 [01:44<00:44, 134.42it/s]\u001b[A\n",
      "Training:  70%|██████████████████████████████████████████████                    | 13808/19774 [01:44<00:43, 136.99it/s]\u001b[A\n",
      "Training:  70%|██████████████████████████████████████████████▏                   | 13822/19774 [01:44<00:45, 131.31it/s]\u001b[A\n",
      "Training:  70%|██████████████████████████████████████████████▏                   | 13837/19774 [01:44<00:45, 131.18it/s]\u001b[A\n",
      "Training:  70%|██████████████████████████████████████████████▏                   | 13853/19774 [01:44<00:43, 136.58it/s]\u001b[A\n",
      "Training:  70%|██████████████████████████████████████████████▎                   | 13867/19774 [01:44<00:44, 131.84it/s]\u001b[A\n",
      "Training:  70%|██████████████████████████████████████████████▎                   | 13882/19774 [01:44<00:43, 134.94it/s]\u001b[A\n",
      "Training:  70%|██████████████████████████████████████████████▍                   | 13896/19774 [01:44<00:44, 130.65it/s]\u001b[A\n",
      "Training:  70%|██████████████████████████████████████████████▍                   | 13912/19774 [01:45<00:43, 133.50it/s]\u001b[A\n",
      "Training:  70%|██████████████████████████████████████████████▍                   | 13927/19774 [01:45<00:42, 137.52it/s]\u001b[A\n",
      "Training:  71%|██████████████████████████████████████████████▌                   | 13941/19774 [01:45<00:44, 131.63it/s]\u001b[A\n",
      "Training:  71%|██████████████████████████████████████████████▌                   | 13956/19774 [01:45<00:42, 136.50it/s]\u001b[A\n",
      "Training:  71%|██████████████████████████████████████████████▋                   | 13970/19774 [01:45<00:44, 131.07it/s]\u001b[A\n",
      "Training:  71%|██████████████████████████████████████████████▋                   | 13986/19774 [01:45<00:41, 138.78it/s]\u001b[A\n",
      "Training:  71%|██████████████████████████████████████████████▋                   | 14000/19774 [01:45<00:43, 131.80it/s]\u001b[A\n",
      "Training:  71%|██████████████████████████████████████████████▊                   | 14014/19774 [01:45<00:44, 130.02it/s]\u001b[A\n",
      "Training:  71%|██████████████████████████████████████████████▊                   | 14029/19774 [01:45<00:43, 133.25it/s]\u001b[A\n",
      "Training:  71%|██████████████████████████████████████████████▊                   | 14043/19774 [01:46<00:43, 130.77it/s]\u001b[A\n",
      "Training:  71%|██████████████████████████████████████████████▉                   | 14060/19774 [01:46<00:40, 140.77it/s]\u001b[A\n",
      "Training:  71%|██████████████████████████████████████████████▉                   | 14075/19774 [01:46<00:43, 130.73it/s]\u001b[A\n",
      "Training:  71%|███████████████████████████████████████████████                   | 14092/19774 [01:46<00:43, 131.47it/s]\u001b[A\n",
      "Training:  71%|███████████████████████████████████████████████                   | 14107/19774 [01:46<00:42, 134.79it/s]\u001b[A\n",
      "Training:  71%|███████████████████████████████████████████████▏                  | 14121/19774 [01:46<00:42, 132.57it/s]\u001b[A\n",
      "Training:  71%|███████████████████████████████████████████████▏                  | 14137/19774 [01:46<00:40, 140.02it/s]\u001b[A\n",
      "Training:  72%|███████████████████████████████████████████████▏                  | 14152/19774 [01:46<00:42, 131.78it/s]\u001b[A\n",
      "Training:  72%|███████████████████████████████████████████████▎                  | 14166/19774 [01:46<00:43, 127.93it/s]\u001b[A\n",
      "Training:  72%|███████████████████████████████████████████████▎                  | 14182/19774 [01:47<00:41, 134.33it/s]\u001b[A\n",
      "Training:  72%|███████████████████████████████████████████████▍                  | 14196/19774 [01:47<00:41, 134.58it/s]\u001b[A\n",
      "Training:  72%|███████████████████████████████████████████████▍                  | 14211/19774 [01:47<00:40, 137.16it/s]\u001b[A\n",
      "Training:  72%|███████████████████████████████████████████████▍                  | 14225/19774 [01:47<00:40, 135.79it/s]\u001b[A\n",
      "Training:  72%|███████████████████████████████████████████████▌                  | 14241/19774 [01:47<00:39, 140.39it/s]\u001b[A\n",
      "Training:  72%|███████████████████████████████████████████████▌                  | 14256/19774 [01:47<00:40, 135.03it/s]\u001b[A\n",
      "Training:  72%|███████████████████████████████████████████████▋                  | 14272/19774 [01:47<00:39, 140.61it/s]\u001b[A\n",
      "Training:  72%|███████████████████████████████████████████████▋                  | 14287/19774 [01:47<00:40, 135.36it/s]\u001b[A\n",
      "Training:  72%|███████████████████████████████████████████████▋                  | 14301/19774 [01:47<00:40, 136.07it/s]\u001b[A\n",
      "Training:  72%|███████████████████████████████████████████████▊                  | 14316/19774 [01:48<00:39, 138.16it/s]\u001b[A\n",
      "Training:  72%|███████████████████████████████████████████████▊                  | 14330/19774 [01:48<00:39, 137.05it/s]\u001b[A\n",
      "Training:  73%|███████████████████████████████████████████████▉                  | 14344/19774 [01:48<00:39, 137.30it/s]\u001b[A\n",
      "Training:  73%|███████████████████████████████████████████████▉                  | 14358/19774 [01:48<00:39, 137.69it/s]\u001b[A\n",
      "Training:  73%|███████████████████████████████████████████████▉                  | 14373/19774 [01:48<00:38, 138.57it/s]\u001b[A\n",
      "Training:  73%|████████████████████████████████████████████████                  | 14387/19774 [01:48<00:40, 134.66it/s]\u001b[A\n",
      "Training:  73%|████████████████████████████████████████████████                  | 14404/19774 [01:48<00:37, 142.32it/s]\u001b[A\n",
      "Training:  73%|████████████████████████████████████████████████▏                 | 14419/19774 [01:48<00:39, 135.03it/s]\u001b[A\n",
      "Training:  73%|████████████████████████████████████████████████▏                 | 14433/19774 [01:48<00:40, 132.73it/s]\u001b[A\n",
      "Training:  73%|████████████████████████████████████████████████▏                 | 14448/19774 [01:48<00:39, 135.91it/s]\u001b[A\n",
      "Training:  73%|████████████████████████████████████████████████▎                 | 14462/19774 [01:49<00:40, 130.20it/s]\u001b[A\n",
      "Training:  73%|████████████████████████████████████████████████▎                 | 14478/19774 [01:49<00:40, 132.19it/s]\u001b[A\n",
      "Training:  73%|████████████████████████████████████████████████▎                 | 14493/19774 [01:49<00:38, 136.08it/s]\u001b[A\n",
      "Training:  73%|████████████████████████████████████████████████▍                 | 14507/19774 [01:49<00:40, 131.13it/s]\u001b[A\n",
      "Training:  73%|████████████████████████████████████████████████▍                 | 14524/19774 [01:49<00:37, 139.48it/s]\u001b[A\n",
      "Training:  74%|████████████████████████████████████████████████▌                 | 14539/19774 [01:49<00:39, 131.37it/s]\u001b[A\n",
      "Training:  74%|████████████████████████████████████████████████▌                 | 14553/19774 [01:49<00:40, 127.87it/s]\u001b[A\n",
      "Training:  74%|████████████████████████████████████████████████▌                 | 14568/19774 [01:49<00:40, 127.35it/s]\u001b[A\n",
      "Training:  74%|████████████████████████████████████████████████▋                 | 14583/19774 [01:50<00:39, 131.82it/s]\u001b[A\n",
      "Training:  74%|████████████████████████████████████████████████▋                 | 14597/19774 [01:50<00:40, 128.25it/s]\u001b[A\n",
      "Training:  74%|████████████████████████████████████████████████▊                 | 14612/19774 [01:50<00:39, 131.63it/s]\u001b[A\n",
      "Training:  74%|████████████████████████████████████████████████▊                 | 14627/19774 [01:50<00:38, 132.00it/s]\u001b[A\n",
      "Training:  74%|████████████████████████████████████████████████▊                 | 14641/19774 [01:50<00:38, 132.19it/s]\u001b[A\n",
      "Training:  74%|████████████████████████████████████████████████▉                 | 14655/19774 [01:50<00:39, 128.13it/s]\u001b[A\n",
      "Training:  74%|████████████████████████████████████████████████▉                 | 14671/19774 [01:50<00:37, 134.85it/s]\u001b[A\n",
      "Training:  74%|█████████████████████████████████████████████████                 | 14685/19774 [01:50<00:38, 132.71it/s]\u001b[A\n",
      "Training:  74%|█████████████████████████████████████████████████                 | 14701/19774 [01:50<00:36, 139.07it/s]\u001b[A\n",
      "Training:  74%|█████████████████████████████████████████████████                 | 14715/19774 [01:51<00:38, 131.82it/s]\u001b[A\n",
      "Training:  74%|█████████████████████████████████████████████████▏                | 14730/19774 [01:51<00:38, 130.88it/s]\u001b[A\n",
      "Training:  75%|█████████████████████████████████████████████████▏                | 14744/19774 [01:51<00:38, 132.11it/s]\u001b[A\n",
      "Training:  75%|█████████████████████████████████████████████████▎                | 14758/19774 [01:51<00:39, 128.07it/s]\u001b[A\n",
      "Training:  75%|█████████████████████████████████████████████████▎                | 14775/19774 [01:51<00:36, 137.62it/s]\u001b[A\n",
      "Training:  75%|█████████████████████████████████████████████████▎                | 14789/19774 [01:51<00:37, 134.71it/s]\u001b[A\n",
      "Training:  75%|█████████████████████████████████████████████████▍                | 14805/19774 [01:51<00:37, 132.86it/s]\u001b[A\n",
      "Training:  75%|█████████████████████████████████████████████████▍                | 14820/19774 [01:51<00:36, 136.93it/s]\u001b[A\n",
      "Training:  75%|█████████████████████████████████████████████████▌                | 14834/19774 [01:51<00:38, 129.93it/s]\u001b[A\n",
      "Training:  75%|█████████████████████████████████████████████████▌                | 14849/19774 [01:52<00:38, 129.22it/s]\u001b[A\n",
      "Training:  75%|█████████████████████████████████████████████████▌                | 14864/19774 [01:52<00:36, 133.15it/s]\u001b[A\n",
      "Training:  75%|█████████████████████████████████████████████████▋                | 14878/19774 [01:52<00:36, 133.93it/s]\u001b[A\n",
      "Training:  75%|█████████████████████████████████████████████████▋                | 14893/19774 [01:52<00:35, 138.38it/s]\u001b[A\n",
      "Training:  75%|█████████████████████████████████████████████████▊                | 14907/19774 [01:52<00:37, 128.87it/s]\u001b[A\n",
      "Training:  75%|█████████████████████████████████████████████████▊                | 14922/19774 [01:52<00:36, 134.64it/s]\u001b[A\n",
      "Training:  76%|█████████████████████████████████████████████████▊                | 14936/19774 [01:52<00:37, 130.36it/s]\u001b[A\n",
      "Training:  76%|█████████████████████████████████████████████████▉                | 14950/19774 [01:52<00:37, 128.05it/s]\u001b[A\n",
      "Training:  76%|█████████████████████████████████████████████████▉                | 14966/19774 [01:52<00:35, 135.85it/s]\u001b[A\n",
      "Training:  76%|█████████████████████████████████████████████████▉                | 14980/19774 [01:53<00:35, 134.40it/s]\u001b[A\n",
      "Training:  76%|██████████████████████████████████████████████████                | 14996/19774 [01:53<00:34, 138.97it/s]\u001b[A\n",
      "Training:  76%|██████████████████████████████████████████████████                | 15010/19774 [01:53<00:35, 133.48it/s]\u001b[A\n",
      "Training:  76%|██████████████████████████████████████████████████▏               | 15025/19774 [01:53<00:35, 134.53it/s]\u001b[A\n",
      "Training:  76%|██████████████████████████████████████████████████▏               | 15041/19774 [01:53<00:33, 141.05it/s]\u001b[A\n",
      "Training:  76%|██████████████████████████████████████████████████▎               | 15056/19774 [01:53<00:34, 136.62it/s]\u001b[A\n",
      "Training:  76%|██████████████████████████████████████████████████▎               | 15072/19774 [01:53<00:33, 139.01it/s]\u001b[A\n",
      "Training:  76%|██████████████████████████████████████████████████▎               | 15086/19774 [01:53<00:33, 138.14it/s]\u001b[A\n",
      "Training:  76%|██████████████████████████████████████████████████▍               | 15100/19774 [01:53<00:35, 133.26it/s]\u001b[A\n",
      "Training:  76%|██████████████████████████████████████████████████▍               | 15116/19774 [01:53<00:33, 137.75it/s]\u001b[A\n",
      "Training:  77%|██████████████████████████████████████████████████▍               | 15130/19774 [01:54<00:35, 131.17it/s]\u001b[A\n",
      "Training:  77%|██████████████████████████████████████████████████▌               | 15144/19774 [01:54<00:34, 133.59it/s]\u001b[A\n",
      "Training:  77%|██████████████████████████████████████████████████▌               | 15158/19774 [01:54<00:34, 132.91it/s]\u001b[A\n",
      "Training:  77%|██████████████████████████████████████████████████▋               | 15172/19774 [01:54<00:35, 128.52it/s]\u001b[A\n",
      "Training:  77%|██████████████████████████████████████████████████▋               | 15188/19774 [01:54<00:34, 131.63it/s]\u001b[A\n",
      "Training:  77%|██████████████████████████████████████████████████▋               | 15202/19774 [01:54<00:35, 129.35it/s]\u001b[A\n",
      "Training:  77%|██████████████████████████████████████████████████▊               | 15215/19774 [01:54<00:35, 127.70it/s]\u001b[A\n",
      "Training:  77%|██████████████████████████████████████████████████▊               | 15231/19774 [01:54<00:34, 130.30it/s]\u001b[A\n",
      "Training:  77%|██████████████████████████████████████████████████▉               | 15247/19774 [01:54<00:33, 136.17it/s]\u001b[A\n",
      "Training:  77%|██████████████████████████████████████████████████▉               | 15261/19774 [01:55<00:34, 130.41it/s]\u001b[A\n",
      "Training:  77%|██████████████████████████████████████████████████▉               | 15277/19774 [01:55<00:34, 130.08it/s]\u001b[A\n",
      "Training:  77%|███████████████████████████████████████████████████               | 15293/19774 [01:55<00:32, 137.20it/s]\u001b[A\n",
      "Training:  77%|███████████████████████████████████████████████████               | 15307/19774 [01:55<00:34, 129.74it/s]\u001b[A\n",
      "Training:  77%|███████████████████████████████████████████████████▏              | 15321/19774 [01:55<00:34, 128.02it/s]\u001b[A\n",
      "Training:  78%|███████████████████████████████████████████████████▏              | 15336/19774 [01:55<00:33, 133.45it/s]\u001b[A\n",
      "Training:  78%|███████████████████████████████████████████████████▏              | 15350/19774 [01:55<00:34, 129.86it/s]\u001b[A\n",
      "Training:  78%|███████████████████████████████████████████████████▎              | 15364/19774 [01:55<00:34, 128.25it/s]\u001b[A\n",
      "Training:  78%|███████████████████████████████████████████████████▎              | 15380/19774 [01:56<00:32, 136.29it/s]\u001b[A\n",
      "Training:  78%|███████████████████████████████████████████████████▍              | 15394/19774 [01:56<00:33, 131.54it/s]\u001b[A\n",
      "Training:  78%|███████████████████████████████████████████████████▍              | 15408/19774 [01:56<00:33, 130.95it/s]\u001b[A\n",
      "Training:  78%|███████████████████████████████████████████████████▍              | 15424/19774 [01:56<00:31, 138.13it/s]\u001b[A\n",
      "Training:  78%|███████████████████████████████████████████████████▌              | 15438/19774 [01:56<00:33, 131.14it/s]\u001b[A\n",
      "Training:  78%|███████████████████████████████████████████████████▌              | 15452/19774 [01:56<00:33, 128.33it/s]\u001b[A\n",
      "Training:  78%|███████████████████████████████████████████████████▋              | 15468/19774 [01:56<00:33, 127.64it/s]\u001b[A\n",
      "Training:  78%|███████████████████████████████████████████████████▋              | 15484/19774 [01:56<00:31, 134.86it/s]\u001b[A\n",
      "Training:  78%|███████████████████████████████████████████████████▋              | 15498/19774 [01:56<00:32, 132.69it/s]\u001b[A\n",
      "Training:  78%|███████████████████████████████████████████████████▊              | 15514/19774 [01:57<00:30, 139.81it/s]\u001b[A\n",
      "Training:  79%|███████████████████████████████████████████████████▊              | 15529/19774 [01:57<00:31, 132.96it/s]\u001b[A\n",
      "Training:  79%|███████████████████████████████████████████████████▉              | 15545/19774 [01:57<00:30, 139.55it/s]\u001b[A\n",
      "Training:  79%|███████████████████████████████████████████████████▉              | 15560/19774 [01:57<00:32, 127.93it/s]\u001b[A\n",
      "Training:  79%|███████████████████████████████████████████████████▉              | 15574/19774 [01:57<00:33, 124.11it/s]\u001b[A\n",
      "Training:  79%|████████████████████████████████████████████████████              | 15587/19774 [01:57<00:34, 123.04it/s]\u001b[A\n",
      "Training:  79%|████████████████████████████████████████████████████              | 15603/19774 [01:57<00:31, 131.03it/s]\u001b[A\n",
      "Training:  79%|████████████████████████████████████████████████████▏             | 15617/19774 [01:57<00:32, 128.17it/s]\u001b[A\n",
      "Training:  79%|████████████████████████████████████████████████████▏             | 15632/19774 [01:57<00:31, 129.87it/s]\u001b[A\n",
      "Training:  79%|████████████████████████████████████████████████████▏             | 15646/19774 [01:58<00:31, 132.04it/s]\u001b[A\n",
      "Training:  79%|████████████████████████████████████████████████████▎             | 15660/19774 [01:58<00:31, 130.56it/s]\u001b[A\n",
      "Training:  79%|████████████████████████████████████████████████████▎             | 15676/19774 [01:58<00:29, 138.30it/s]\u001b[A\n",
      "Training:  79%|████████████████████████████████████████████████████▎             | 15690/19774 [01:58<00:30, 132.98it/s]\u001b[A\n",
      "Training:  79%|████████████████████████████████████████████████████▍             | 15705/19774 [01:58<00:30, 135.57it/s]\u001b[A\n",
      "Training:  79%|████████████████████████████████████████████████████▍             | 15719/19774 [01:58<00:29, 135.73it/s]\u001b[A\n",
      "Training:  80%|████████████████████████████████████████████████████▌             | 15733/19774 [01:58<00:31, 129.93it/s]\u001b[A\n",
      "Training:  80%|████████████████████████████████████████████████████▌             | 15750/19774 [01:58<00:30, 133.99it/s]\u001b[A\n",
      "Training:  80%|████████████████████████████████████████████████████▌             | 15764/19774 [01:58<00:29, 135.10it/s]\u001b[A\n",
      "Training:  80%|████████████████████████████████████████████████████▋             | 15778/19774 [01:59<00:31, 127.20it/s]\u001b[A\n",
      "Training:  80%|████████████████████████████████████████████████████▋             | 15792/19774 [01:59<00:31, 128.28it/s]\u001b[A\n",
      "Training:  80%|████████████████████████████████████████████████████▊             | 15807/19774 [01:59<00:29, 132.89it/s]\u001b[A\n",
      "Training:  80%|████████████████████████████████████████████████████▊             | 15821/19774 [01:59<00:30, 130.10it/s]\u001b[A\n",
      "Training:  80%|████████████████████████████████████████████████████▊             | 15838/19774 [01:59<00:29, 132.33it/s]\u001b[A\n",
      "Training:  80%|████████████████████████████████████████████████████▉             | 15853/19774 [01:59<00:28, 137.10it/s]\u001b[A\n",
      "Training:  80%|████████████████████████████████████████████████████▉             | 15867/19774 [01:59<00:29, 130.81it/s]\u001b[A\n",
      "Training:  80%|█████████████████████████████████████████████████████             | 15881/19774 [01:59<00:29, 130.66it/s]\u001b[A\n",
      "Training:  80%|█████████████████████████████████████████████████████             | 15895/19774 [01:59<00:29, 132.80it/s]\u001b[A\n",
      "Training:  80%|█████████████████████████████████████████████████████             | 15909/19774 [02:00<00:29, 130.44it/s]\u001b[A\n",
      "Training:  81%|█████████████████████████████████████████████████████▏            | 15924/19774 [02:00<00:28, 135.65it/s]\u001b[A\n",
      "Training:  81%|█████████████████████████████████████████████████████▏            | 15938/19774 [02:00<00:29, 129.42it/s]\u001b[A\n",
      "Training:  81%|█████████████████████████████████████████████████████▏            | 15953/19774 [02:00<00:29, 129.21it/s]\u001b[A\n",
      "Training:  81%|█████████████████████████████████████████████████████▎            | 15968/19774 [02:00<00:28, 133.06it/s]\u001b[A\n",
      "Training:  81%|█████████████████████████████████████████████████████▎            | 15982/19774 [02:00<00:29, 128.02it/s]\u001b[A\n",
      "Training:  81%|█████████████████████████████████████████████████████▍            | 15997/19774 [02:00<00:28, 130.26it/s]\u001b[A\n",
      "Training:  81%|█████████████████████████████████████████████████████▍            | 16011/19774 [02:00<00:29, 128.74it/s]\u001b[A\n",
      "Training:  81%|█████████████████████████████████████████████████████▍            | 16024/19774 [02:00<00:30, 123.94it/s]\u001b[A\n",
      "Training:  81%|█████████████████████████████████████████████████████▌            | 16041/19774 [02:01<00:27, 134.99it/s]\u001b[A\n",
      "Training:  81%|█████████████████████████████████████████████████████▌            | 16055/19774 [02:01<00:28, 128.98it/s]\u001b[A\n",
      "Training:  81%|█████████████████████████████████████████████████████▋            | 16068/19774 [02:01<00:30, 123.53it/s]\u001b[A\n",
      "Training:  81%|█████████████████████████████████████████████████████▋            | 16081/19774 [02:01<00:30, 122.51it/s]\u001b[A\n",
      "Training:  81%|█████████████████████████████████████████████████████▋            | 16095/19774 [02:01<00:29, 124.87it/s]\u001b[A\n",
      "Training:  81%|█████████████████████████████████████████████████████▊            | 16108/19774 [02:01<00:30, 121.29it/s]\u001b[A\n",
      "Training:  82%|█████████████████████████████████████████████████████▊            | 16124/19774 [02:01<00:29, 125.29it/s]\u001b[A\n",
      "Training:  82%|█████████████████████████████████████████████████████▊            | 16138/19774 [02:01<00:28, 128.28it/s]\u001b[A\n",
      "Training:  82%|█████████████████████████████████████████████████████▉            | 16151/19774 [02:01<00:29, 124.80it/s]\u001b[A\n",
      "Training:  82%|█████████████████████████████████████████████████████▉            | 16166/19774 [02:02<00:27, 129.75it/s]\u001b[A\n",
      "Training:  82%|██████████████████████████████████████████████████████            | 16180/19774 [02:02<00:28, 127.01it/s]\u001b[A\n",
      "Training:  82%|██████████████████████████████████████████████████████            | 16193/19774 [02:02<00:28, 124.41it/s]\u001b[A\n",
      "Training:  82%|██████████████████████████████████████████████████████            | 16209/19774 [02:02<00:26, 133.20it/s]\u001b[A\n",
      "Training:  82%|██████████████████████████████████████████████████████▏           | 16223/19774 [02:02<00:27, 128.02it/s]\u001b[A\n",
      "Training:  82%|██████████████████████████████████████████████████████▏           | 16236/19774 [02:02<00:27, 128.39it/s]\u001b[A\n",
      "Training:  82%|██████████████████████████████████████████████████████▏           | 16250/19774 [02:02<00:27, 128.93it/s]\u001b[A\n",
      "Training:  82%|██████████████████████████████████████████████████████▎           | 16265/19774 [02:02<00:26, 134.19it/s]\u001b[A\n",
      "Training:  82%|██████████████████████████████████████████████████████▎           | 16281/19774 [02:02<00:24, 141.21it/s]\u001b[A\n",
      "Training:  82%|██████████████████████████████████████████████████████▍           | 16296/19774 [02:03<00:25, 138.59it/s]\u001b[A\n",
      "Training:  82%|██████████████████████████████████████████████████████▍           | 16310/19774 [02:03<00:26, 132.94it/s]\u001b[A\n",
      "Training:  83%|██████████████████████████████████████████████████████▍           | 16324/19774 [02:03<00:26, 131.05it/s]\u001b[A\n",
      "Training:  83%|██████████████████████████████████████████████████████▌           | 16339/19774 [02:03<00:25, 134.02it/s]\u001b[A\n",
      "Training:  83%|██████████████████████████████████████████████████████▌           | 16353/19774 [02:03<00:26, 130.31it/s]\u001b[A\n",
      "Training:  83%|██████████████████████████████████████████████████████▋           | 16369/19774 [02:03<00:24, 136.38it/s]\u001b[A\n",
      "Training:  83%|██████████████████████████████████████████████████████▋           | 16383/19774 [02:03<00:25, 132.70it/s]\u001b[A\n",
      "Training:  83%|██████████████████████████████████████████████████████▋           | 16398/19774 [02:03<00:26, 129.53it/s]\u001b[A\n",
      "Training:  83%|██████████████████████████████████████████████████████▊           | 16413/19774 [02:03<00:25, 133.84it/s]\u001b[A\n",
      "Training:  83%|██████████████████████████████████████████████████████▊           | 16427/19774 [02:04<00:25, 130.36it/s]\u001b[A\n",
      "Training:  83%|██████████████████████████████████████████████████████▉           | 16442/19774 [02:04<00:25, 131.69it/s]\u001b[A\n",
      "Training:  83%|██████████████████████████████████████████████████████▉           | 16458/19774 [02:04<00:23, 138.29it/s]\u001b[A\n",
      "Training:  83%|██████████████████████████████████████████████████████▉           | 16472/19774 [02:04<00:24, 133.06it/s]\u001b[A\n",
      "Training:  83%|███████████████████████████████████████████████████████           | 16486/19774 [02:04<00:25, 130.76it/s]\u001b[A\n",
      "Training:  83%|███████████████████████████████████████████████████████           | 16502/19774 [02:04<00:23, 138.03it/s]\u001b[A\n",
      "Training:  84%|███████████████████████████████████████████████████████▏          | 16516/19774 [02:04<00:24, 134.70it/s]\u001b[A\n",
      "Training:  84%|███████████████████████████████████████████████████████▏          | 16531/19774 [02:04<00:23, 137.08it/s]\u001b[A\n",
      "Training:  84%|███████████████████████████████████████████████████████▏          | 16545/19774 [02:04<00:25, 128.41it/s]\u001b[A\n",
      "Training:  84%|███████████████████████████████████████████████████████▎          | 16559/19774 [02:05<00:24, 128.99it/s]\u001b[A\n",
      "Training:  84%|███████████████████████████████████████████████████████▎          | 16575/19774 [02:05<00:23, 137.23it/s]\u001b[A\n",
      "Training:  84%|███████████████████████████████████████████████████████▎          | 16589/19774 [02:05<00:24, 129.27it/s]\u001b[A\n",
      "Training:  84%|███████████████████████████████████████████████████████▍          | 16606/19774 [02:05<00:22, 139.86it/s]\u001b[A\n",
      "Training:  84%|███████████████████████████████████████████████████████▍          | 16621/19774 [02:05<00:23, 132.19it/s]\u001b[A\n",
      "Training:  84%|███████████████████████████████████████████████████████▌          | 16635/19774 [02:05<00:24, 128.17it/s]\u001b[A\n",
      "Training:  84%|███████████████████████████████████████████████████████▌          | 16650/19774 [02:05<00:24, 128.45it/s]\u001b[A\n",
      "Training:  84%|███████████████████████████████████████████████████████▌          | 16665/19774 [02:05<00:23, 132.84it/s]\u001b[A\n",
      "Training:  84%|███████████████████████████████████████████████████████▋          | 16679/19774 [02:05<00:24, 127.59it/s]\u001b[A\n",
      "Training:  84%|███████████████████████████████████████████████████████▋          | 16694/19774 [02:06<00:24, 125.94it/s]\u001b[A\n",
      "Training:  84%|███████████████████████████████████████████████████████▊          | 16709/19774 [02:06<00:23, 130.87it/s]\u001b[A\n",
      "Training:  85%|███████████████████████████████████████████████████████▊          | 16723/19774 [02:06<00:23, 130.11it/s]\u001b[A\n",
      "Training:  85%|███████████████████████████████████████████████████████▊          | 16740/19774 [02:06<00:21, 140.08it/s]\u001b[A\n",
      "Training:  85%|███████████████████████████████████████████████████████▉          | 16755/19774 [02:06<00:22, 132.48it/s]\u001b[A\n",
      "Training:  85%|███████████████████████████████████████████████████████▉          | 16769/19774 [02:06<00:24, 124.66it/s]\u001b[A\n",
      "Training:  85%|████████████████████████████████████████████████████████          | 16782/19774 [02:06<00:25, 119.40it/s]\u001b[A\n",
      "Training:  85%|████████████████████████████████████████████████████████          | 16798/19774 [02:06<00:22, 129.49it/s]\u001b[A\n",
      "Training:  85%|████████████████████████████████████████████████████████          | 16812/19774 [02:06<00:23, 124.03it/s]\u001b[A\n",
      "Training:  85%|████████████████████████████████████████████████████████▏         | 16825/19774 [02:07<00:23, 123.20it/s]\u001b[A\n",
      "Training:  85%|████████████████████████████████████████████████████████▏         | 16842/19774 [02:07<00:21, 134.25it/s]\u001b[A\n",
      "Training:  85%|████████████████████████████████████████████████████████▎         | 16856/19774 [02:07<00:22, 129.01it/s]\u001b[A\n",
      "Training:  85%|████████████████████████████████████████████████████████▎         | 16870/19774 [02:07<00:22, 129.02it/s]\u001b[A\n",
      "Training:  85%|████████████████████████████████████████████████████████▎         | 16885/19774 [02:07<00:21, 134.69it/s]\u001b[A\n",
      "Training:  85%|████████████████████████████████████████████████████████▍         | 16899/19774 [02:07<00:21, 131.17it/s]\u001b[A\n",
      "Training:  86%|████████████████████████████████████████████████████████▍         | 16915/19774 [02:07<00:20, 136.29it/s]\u001b[A\n",
      "Training:  86%|████████████████████████████████████████████████████████▌         | 16930/19774 [02:07<00:20, 137.00it/s]\u001b[A\n",
      "Training:  86%|████████████████████████████████████████████████████████▌         | 16944/19774 [02:07<00:20, 136.13it/s]\u001b[A\n",
      "Training:  86%|████████████████████████████████████████████████████████▌         | 16958/19774 [02:08<00:20, 135.56it/s]\u001b[A\n",
      "Training:  86%|████████████████████████████████████████████████████████▋         | 16972/19774 [02:08<00:21, 128.63it/s]\u001b[A\n",
      "Training:  86%|████████████████████████████████████████████████████████▋         | 16988/19774 [02:08<00:20, 133.85it/s]\u001b[A\n",
      "Training:  86%|████████████████████████████████████████████████████████▋         | 17002/19774 [02:08<00:21, 130.66it/s]\u001b[A\n",
      "Training:  86%|████████████████████████████████████████████████████████▊         | 17016/19774 [02:08<00:21, 129.16it/s]\u001b[A\n",
      "Training:  86%|████████████████████████████████████████████████████████▊         | 17032/19774 [02:08<00:20, 135.84it/s]\u001b[A\n",
      "Training:  86%|████████████████████████████████████████████████████████▉         | 17046/19774 [02:08<00:20, 131.68it/s]\u001b[A\n",
      "Training:  86%|████████████████████████████████████████████████████████▉         | 17060/19774 [02:08<00:21, 128.95it/s]\u001b[A\n",
      "Training:  86%|████████████████████████████████████████████████████████▉         | 17076/19774 [02:08<00:19, 137.38it/s]\u001b[A\n",
      "Training:  86%|█████████████████████████████████████████████████████████         | 17090/19774 [02:09<00:20, 129.86it/s]\u001b[A\n",
      "Training:  86%|█████████████████████████████████████████████████████████         | 17104/19774 [02:09<00:21, 126.59it/s]\u001b[A\n",
      "Training:  87%|█████████████████████████████████████████████████████████▏        | 17118/19774 [02:09<00:20, 130.25it/s]\u001b[A\n",
      "Training:  87%|█████████████████████████████████████████████████████████▏        | 17132/19774 [02:09<00:20, 129.17it/s]\u001b[A\n",
      "Training:  87%|█████████████████████████████████████████████████████████▏        | 17149/19774 [02:09<00:18, 138.17it/s]\u001b[A\n",
      "Training:  87%|█████████████████████████████████████████████████████████▎        | 17163/19774 [02:09<00:19, 133.16it/s]\u001b[A\n",
      "Training:  87%|█████████████████████████████████████████████████████████▎        | 17177/19774 [02:09<00:19, 134.18it/s]\u001b[A\n",
      "Training:  87%|█████████████████████████████████████████████████████████▍        | 17193/19774 [02:09<00:18, 139.16it/s]\u001b[A\n",
      "Training:  87%|█████████████████████████████████████████████████████████▍        | 17207/19774 [02:09<00:19, 129.73it/s]\u001b[A\n",
      "Training:  87%|█████████████████████████████████████████████████████████▍        | 17223/19774 [02:10<00:19, 131.86it/s]\u001b[A\n",
      "Training:  87%|█████████████████████████████████████████████████████████▌        | 17238/19774 [02:10<00:18, 135.41it/s]\u001b[A\n",
      "Training:  87%|█████████████████████████████████████████████████████████▌        | 17252/19774 [02:10<00:19, 128.58it/s]\u001b[A\n",
      "Training:  87%|█████████████████████████████████████████████████████████▋        | 17266/19774 [02:10<00:19, 126.51it/s]\u001b[A\n",
      "Training:  87%|█████████████████████████████████████████████████████████▋        | 17281/19774 [02:10<00:18, 132.80it/s]\u001b[A\n",
      "Training:  87%|█████████████████████████████████████████████████████████▋        | 17295/19774 [02:10<00:18, 131.74it/s]\u001b[A\n",
      "Training:  88%|█████████████████████████████████████████████████████████▊        | 17311/19774 [02:10<00:17, 139.57it/s]\u001b[A\n",
      "Training:  88%|█████████████████████████████████████████████████████████▊        | 17326/19774 [02:10<00:18, 131.73it/s]\u001b[A\n",
      "Training:  88%|█████████████████████████████████████████████████████████▉        | 17340/19774 [02:10<00:19, 127.17it/s]\u001b[A\n",
      "Training:  88%|█████████████████████████████████████████████████████████▉        | 17356/19774 [02:11<00:17, 136.05it/s]\u001b[A\n",
      "Training:  88%|█████████████████████████████████████████████████████████▉        | 17370/19774 [02:11<00:18, 129.15it/s]\u001b[A\n",
      "Training:  88%|██████████████████████████████████████████████████████████        | 17384/19774 [02:11<00:18, 127.16it/s]\u001b[A\n",
      "Training:  88%|██████████████████████████████████████████████████████████        | 17399/19774 [02:11<00:17, 133.04it/s]\u001b[A\n",
      "Training:  88%|██████████████████████████████████████████████████████████        | 17413/19774 [02:11<00:17, 131.45it/s]\u001b[A\n",
      "Training:  88%|██████████████████████████████████████████████████████████▏       | 17429/19774 [02:11<00:17, 132.00it/s]\u001b[A\n",
      "Training:  88%|██████████████████████████████████████████████████████████▏       | 17443/19774 [02:11<00:17, 130.49it/s]\u001b[A\n",
      "Training:  88%|██████████████████████████████████████████████████████████▎       | 17457/19774 [02:11<00:17, 131.38it/s]\u001b[A\n",
      "Training:  88%|██████████████████████████████████████████████████████████▎       | 17472/19774 [02:11<00:16, 135.47it/s]\u001b[A\n",
      "Training:  88%|██████████████████████████████████████████████████████████▎       | 17486/19774 [02:12<00:17, 128.12it/s]\u001b[A\n",
      "Training:  89%|██████████████████████████████████████████████████████████▍       | 17502/19774 [02:12<00:16, 136.90it/s]\u001b[A\n",
      "Training:  89%|██████████████████████████████████████████████████████████▍       | 17516/19774 [02:12<00:17, 132.29it/s]\u001b[A\n",
      "Training:  89%|██████████████████████████████████████████████████████████▌       | 17530/19774 [02:12<00:17, 131.09it/s]\u001b[A\n",
      "Training:  89%|██████████████████████████████████████████████████████████▌       | 17544/19774 [02:12<00:16, 131.86it/s]\u001b[A\n",
      "Training:  89%|██████████████████████████████████████████████████████████▌       | 17558/19774 [02:12<00:17, 125.92it/s]\u001b[A\n",
      "Training:  89%|██████████████████████████████████████████████████████████▋       | 17571/19774 [02:12<00:17, 123.01it/s]\u001b[A\n",
      "Training:  89%|██████████████████████████████████████████████████████████▋       | 17586/19774 [02:12<00:16, 129.84it/s]\u001b[A\n",
      "Training:  89%|██████████████████████████████████████████████████████████▋       | 17600/19774 [02:12<00:16, 127.89it/s]\u001b[A\n",
      "Training:  89%|██████████████████████████████████████████████████████████▊       | 17616/19774 [02:13<00:16, 133.00it/s]\u001b[A\n",
      "Training:  89%|██████████████████████████████████████████████████████████▊       | 17630/19774 [02:13<00:15, 134.61it/s]\u001b[A\n",
      "Training:  89%|██████████████████████████████████████████████████████████▉       | 17644/19774 [02:13<00:16, 130.78it/s]\u001b[A\n",
      "Training:  89%|██████████████████████████████████████████████████████████▉       | 17661/19774 [02:13<00:15, 140.10it/s]\u001b[A\n",
      "Training:  89%|██████████████████████████████████████████████████████████▉       | 17676/19774 [02:13<00:15, 134.01it/s]\u001b[A\n",
      "Training:  89%|███████████████████████████████████████████████████████████       | 17690/19774 [02:13<00:16, 129.76it/s]\u001b[A\n",
      "Training:  90%|███████████████████████████████████████████████████████████       | 17705/19774 [02:13<00:15, 134.82it/s]\u001b[A\n",
      "Training:  90%|███████████████████████████████████████████████████████████▏      | 17719/19774 [02:13<00:16, 127.83it/s]\u001b[A\n",
      "Training:  90%|███████████████████████████████████████████████████████████▏      | 17732/19774 [02:13<00:16, 124.56it/s]\u001b[A\n",
      "Training:  90%|███████████████████████████████████████████████████████████▏      | 17749/19774 [02:14<00:14, 136.73it/s]\u001b[A\n",
      "Training:  90%|███████████████████████████████████████████████████████████▎      | 17763/19774 [02:14<00:15, 132.01it/s]\u001b[A\n",
      "Training:  90%|███████████████████████████████████████████████████████████▎      | 17778/19774 [02:14<00:14, 133.10it/s]\u001b[A\n",
      "Training:  90%|███████████████████████████████████████████████████████████▍      | 17793/19774 [02:14<00:14, 136.35it/s]\u001b[A\n",
      "Training:  90%|███████████████████████████████████████████████████████████▍      | 17807/19774 [02:14<00:15, 128.95it/s]\u001b[A\n",
      "Training:  90%|███████████████████████████████████████████████████████████▍      | 17822/19774 [02:14<00:15, 128.09it/s]\u001b[A\n",
      "Training:  90%|███████████████████████████████████████████████████████████▌      | 17836/19774 [02:14<00:14, 130.73it/s]\u001b[A\n",
      "Training:  90%|███████████████████████████████████████████████████████████▌      | 17850/19774 [02:14<00:14, 129.78it/s]\u001b[A\n",
      "Training:  90%|███████████████████████████████████████████████████████████▋      | 17867/19774 [02:14<00:14, 134.27it/s]\u001b[A\n",
      "Training:  90%|███████████████████████████████████████████████████████████▋      | 17881/19774 [02:15<00:14, 134.61it/s]\u001b[A\n",
      "Training:  90%|███████████████████████████████████████████████████████████▋      | 17895/19774 [02:15<00:14, 130.16it/s]\u001b[A\n",
      "Training:  91%|███████████████████████████████████████████████████████████▊      | 17910/19774 [02:15<00:13, 135.25it/s]\u001b[A\n",
      "Training:  91%|███████████████████████████████████████████████████████████▊      | 17924/19774 [02:15<00:14, 129.26it/s]\u001b[A\n",
      "Training:  91%|███████████████████████████████████████████████████████████▊      | 17938/19774 [02:15<00:14, 128.87it/s]\u001b[A\n",
      "Training:  91%|███████████████████████████████████████████████████████████▉      | 17953/19774 [02:15<00:13, 133.74it/s]\u001b[A\n",
      "Training:  91%|███████████████████████████████████████████████████████████▉      | 17967/19774 [02:15<00:14, 128.73it/s]\u001b[A\n",
      "Training:  91%|████████████████████████████████████████████████████████████      | 17983/19774 [02:15<00:13, 136.34it/s]\u001b[A\n",
      "Training:  91%|████████████████████████████████████████████████████████████      | 17997/19774 [02:15<00:13, 127.52it/s]\u001b[A\n",
      "Training:  91%|████████████████████████████████████████████████████████████      | 18010/19774 [02:16<00:13, 127.85it/s]\u001b[A\n",
      "Training:  91%|████████████████████████████████████████████████████████████▏     | 18026/19774 [02:16<00:12, 134.53it/s]\u001b[A\n",
      "Training:  91%|████████████████████████████████████████████████████████████▏     | 18040/19774 [02:16<00:13, 132.00it/s]\u001b[A\n",
      "Training:  91%|████████████████████████████████████████████████████████████▎     | 18056/19774 [02:16<00:12, 138.76it/s]\u001b[A\n",
      "Training:  91%|████████████████████████████████████████████████████████████▎     | 18070/19774 [02:16<00:12, 132.69it/s]\u001b[A\n",
      "Training:  91%|████████████████████████████████████████████████████████████▎     | 18085/19774 [02:16<00:12, 131.02it/s]\u001b[A\n",
      "Training:  92%|████████████████████████████████████████████████████████████▍     | 18101/19774 [02:16<00:12, 136.81it/s]\u001b[A\n",
      "Training:  92%|████████████████████████████████████████████████████████████▍     | 18115/19774 [02:16<00:12, 130.28it/s]\u001b[A\n",
      "Training:  92%|████████████████████████████████████████████████████████████▌     | 18129/19774 [02:16<00:12, 128.10it/s]\u001b[A\n",
      "Training:  92%|████████████████████████████████████████████████████████████▌     | 18144/19774 [02:17<00:12, 132.51it/s]\u001b[A\n",
      "Training:  92%|████████████████████████████████████████████████████████████▌     | 18158/19774 [02:17<00:12, 126.99it/s]\u001b[A\n",
      "Training:  92%|████████████████████████████████████████████████████████████▋     | 18174/19774 [02:17<00:12, 126.62it/s]\u001b[A\n",
      "Training:  92%|████████████████████████████████████████████████████████████▋     | 18188/19774 [02:17<00:12, 128.32it/s]\u001b[A\n",
      "Training:  92%|████████████████████████████████████████████████████████████▋     | 18201/19774 [02:17<00:12, 125.05it/s]\u001b[A\n",
      "Training:  92%|████████████████████████████████████████████████████████████▊     | 18216/19774 [02:17<00:11, 131.54it/s]\u001b[A\n",
      "Training:  92%|████████████████████████████████████████████████████████████▊     | 18230/19774 [02:17<00:12, 128.27it/s]\u001b[A\n",
      "Training:  92%|████████████████████████████████████████████████████████████▉     | 18243/19774 [02:17<00:11, 127.85it/s]\u001b[A\n",
      "Training:  92%|████████████████████████████████████████████████████████████▉     | 18257/19774 [02:17<00:11, 131.24it/s]\u001b[A\n",
      "Training:  92%|████████████████████████████████████████████████████████████▉     | 18271/19774 [02:18<00:11, 126.65it/s]\u001b[A\n",
      "Training:  92%|█████████████████████████████████████████████████████████████     | 18286/19774 [02:18<00:11, 125.61it/s]\u001b[A\n",
      "Training:  93%|█████████████████████████████████████████████████████████████     | 18301/19774 [02:18<00:11, 132.01it/s]\u001b[A\n",
      "Training:  93%|█████████████████████████████████████████████████████████████▏    | 18315/19774 [02:18<00:11, 128.35it/s]\u001b[A\n",
      "Training:  93%|█████████████████████████████████████████████████████████████▏    | 18330/19774 [02:18<00:10, 131.56it/s]\u001b[A\n",
      "Training:  93%|█████████████████████████████████████████████████████████████▏    | 18344/19774 [02:18<00:10, 130.35it/s]\u001b[A\n",
      "Training:  93%|█████████████████████████████████████████████████████████████▎    | 18358/19774 [02:18<00:11, 125.53it/s]\u001b[A\n",
      "Training:  93%|█████████████████████████████████████████████████████████████▎    | 18376/19774 [02:18<00:10, 138.26it/s]\u001b[A\n",
      "Training:  93%|█████████████████████████████████████████████████████████████▍    | 18390/19774 [02:18<00:10, 132.80it/s]\u001b[A\n",
      "Training:  93%|█████████████████████████████████████████████████████████████▍    | 18404/19774 [02:19<00:10, 129.13it/s]\u001b[A\n",
      "Training:  93%|█████████████████████████████████████████████████████████████▍    | 18420/19774 [02:19<00:09, 137.05it/s]\u001b[A\n",
      "Training:  93%|█████████████████████████████████████████████████████████████▌    | 18434/19774 [02:19<00:10, 133.04it/s]\u001b[A\n",
      "Training:  93%|█████████████████████████████████████████████████████████████▌    | 18448/19774 [02:19<00:09, 133.46it/s]\u001b[A\n",
      "Training:  93%|█████████████████████████████████████████████████████████████▌    | 18463/19774 [02:19<00:09, 136.20it/s]\u001b[A\n",
      "Training:  93%|█████████████████████████████████████████████████████████████▋    | 18478/19774 [02:19<00:09, 135.46it/s]\u001b[A\n",
      "Training:  94%|█████████████████████████████████████████████████████████████▋    | 18492/19774 [02:19<00:09, 136.20it/s]\u001b[A\n",
      "Training:  94%|█████████████████████████████████████████████████████████████▊    | 18506/19774 [02:19<00:09, 130.83it/s]\u001b[A\n",
      "Training:  94%|█████████████████████████████████████████████████████████████▊    | 18522/19774 [02:19<00:09, 137.92it/s]\u001b[A\n",
      "Training:  94%|█████████████████████████████████████████████████████████████▊    | 18536/19774 [02:20<00:09, 132.78it/s]\u001b[A\n",
      "Training:  94%|█████████████████████████████████████████████████████████████▉    | 18550/19774 [02:20<00:09, 131.39it/s]\u001b[A\n",
      "Training:  94%|█████████████████████████████████████████████████████████████▉    | 18565/19774 [02:20<00:08, 134.50it/s]\u001b[A\n",
      "Training:  94%|██████████████████████████████████████████████████████████████    | 18579/19774 [02:20<00:09, 130.34it/s]\u001b[A\n",
      "Training:  94%|██████████████████████████████████████████████████████████████    | 18593/19774 [02:20<00:08, 132.72it/s]\u001b[A\n",
      "Training:  94%|██████████████████████████████████████████████████████████████    | 18607/19774 [02:20<00:08, 133.19it/s]\u001b[A\n",
      "Training:  94%|██████████████████████████████████████████████████████████████▏   | 18621/19774 [02:20<00:08, 128.99it/s]\u001b[A\n",
      "Training:  94%|██████████████████████████████████████████████████████████████▏   | 18637/19774 [02:20<00:08, 135.94it/s]\u001b[A\n",
      "Training:  94%|██████████████████████████████████████████████████████████████▎   | 18651/19774 [02:20<00:08, 127.24it/s]\u001b[A\n",
      "Training:  94%|██████████████████████████████████████████████████████████████▎   | 18666/19774 [02:21<00:08, 129.29it/s]\u001b[A\n",
      "Training:  94%|██████████████████████████████████████████████████████████████▎   | 18681/19774 [02:21<00:08, 133.51it/s]\u001b[A\n",
      "Training:  95%|██████████████████████████████████████████████████████████████▍   | 18695/19774 [02:21<00:08, 130.38it/s]\u001b[A\n",
      "Training:  95%|██████████████████████████████████████████████████████████████▍   | 18711/19774 [02:21<00:07, 133.66it/s]\u001b[A\n",
      "Training:  95%|██████████████████████████████████████████████████████████████▍   | 18725/19774 [02:21<00:08, 128.18it/s]\u001b[A\n",
      "Training:  95%|██████████████████████████████████████████████████████████████▌   | 18738/19774 [02:21<00:08, 124.16it/s]\u001b[A\n",
      "Training:  95%|██████████████████████████████████████████████████████████████▌   | 18755/19774 [02:21<00:07, 136.36it/s]\u001b[A\n",
      "Training:  95%|██████████████████████████████████████████████████████████████▋   | 18769/19774 [02:21<00:07, 129.27it/s]\u001b[A\n",
      "Training:  95%|██████████████████████████████████████████████████████████████▋   | 18783/19774 [02:21<00:07, 131.13it/s]\u001b[A\n",
      "Training:  95%|██████████████████████████████████████████████████████████████▋   | 18797/19774 [02:22<00:07, 132.18it/s]\u001b[A\n",
      "Training:  95%|██████████████████████████████████████████████████████████████▊   | 18811/19774 [02:22<00:07, 126.59it/s]\u001b[A\n",
      "Training:  95%|██████████████████████████████████████████████████████████████▊   | 18827/19774 [02:22<00:06, 135.38it/s]\u001b[A\n",
      "Training:  95%|██████████████████████████████████████████████████████████████▉   | 18841/19774 [02:22<00:07, 128.70it/s]\u001b[A\n",
      "Training:  95%|██████████████████████████████████████████████████████████████▉   | 18855/19774 [02:22<00:07, 127.93it/s]\u001b[A\n",
      "Training:  95%|██████████████████████████████████████████████████████████████▉   | 18870/19774 [02:22<00:06, 133.10it/s]\u001b[A\n",
      "Training:  95%|███████████████████████████████████████████████████████████████   | 18884/19774 [02:22<00:06, 127.63it/s]\u001b[A\n",
      "Training:  96%|███████████████████████████████████████████████████████████████   | 18900/19774 [02:22<00:06, 129.08it/s]\u001b[A\n",
      "Training:  96%|███████████████████████████████████████████████████████████████▏  | 18916/19774 [02:22<00:06, 135.75it/s]\u001b[A\n",
      "Training:  96%|███████████████████████████████████████████████████████████████▏  | 18930/19774 [02:23<00:06, 128.80it/s]\u001b[A\n",
      "Training:  96%|███████████████████████████████████████████████████████████████▏  | 18944/19774 [02:23<00:06, 131.07it/s]\u001b[A\n",
      "Training:  96%|███████████████████████████████████████████████████████████████▎  | 18958/19774 [02:23<00:06, 132.71it/s]\u001b[A\n",
      "Training:  96%|███████████████████████████████████████████████████████████████▎  | 18973/19774 [02:23<00:05, 133.65it/s]\u001b[A\n",
      "Training:  96%|███████████████████████████████████████████████████████████████▍  | 18988/19774 [02:23<00:05, 137.18it/s]\u001b[A\n",
      "Training:  96%|███████████████████████████████████████████████████████████████▍  | 19002/19774 [02:23<00:05, 129.24it/s]\u001b[A\n",
      "Training:  96%|███████████████████████████████████████████████████████████████▍  | 19017/19774 [02:23<00:05, 129.35it/s]\u001b[A\n",
      "Training:  96%|███████████████████████████████████████████████████████████████▌  | 19032/19774 [02:23<00:05, 134.22it/s]\u001b[A\n",
      "Training:  96%|███████████████████████████████████████████████████████████████▌  | 19046/19774 [02:23<00:05, 130.44it/s]\u001b[A\n",
      "Training:  96%|███████████████████████████████████████████████████████████████▌  | 19061/19774 [02:24<00:05, 135.28it/s]\u001b[A\n",
      "Training:  96%|███████████████████████████████████████████████████████████████▋  | 19075/19774 [02:24<00:05, 128.38it/s]\u001b[A\n",
      "Training:  97%|███████████████████████████████████████████████████████████████▋  | 19088/19774 [02:24<00:05, 123.33it/s]\u001b[A\n",
      "Training:  97%|███████████████████████████████████████████████████████████████▊  | 19104/19774 [02:24<00:05, 132.22it/s]\u001b[A\n",
      "Training:  97%|███████████████████████████████████████████████████████████████▊  | 19118/19774 [02:24<00:05, 127.98it/s]\u001b[A\n",
      "Training:  97%|███████████████████████████████████████████████████████████████▊  | 19133/19774 [02:24<00:04, 132.71it/s]\u001b[A\n",
      "Training:  97%|███████████████████████████████████████████████████████████████▉  | 19147/19774 [02:24<00:04, 131.73it/s]\u001b[A\n",
      "Training:  97%|███████████████████████████████████████████████████████████████▉  | 19161/19774 [02:24<00:04, 124.99it/s]\u001b[A\n",
      "Training:  97%|████████████████████████████████████████████████████████████████  | 19177/19774 [02:24<00:04, 133.02it/s]\u001b[A\n",
      "Training:  97%|████████████████████████████████████████████████████████████████  | 19191/19774 [02:25<00:04, 131.88it/s]\u001b[A\n",
      "Training:  97%|████████████████████████████████████████████████████████████████  | 19205/19774 [02:25<00:04, 128.66it/s]\u001b[A\n",
      "Training:  97%|████████████████████████████████████████████████████████████████▏ | 19220/19774 [02:25<00:04, 132.83it/s]\u001b[A\n",
      "Training:  97%|████████████████████████████████████████████████████████████████▏ | 19234/19774 [02:25<00:04, 127.23it/s]\u001b[A\n",
      "Training:  97%|████████████████████████████████████████████████████████████████▏ | 19247/19774 [02:25<00:04, 125.31it/s]\u001b[A\n",
      "Training:  97%|████████████████████████████████████████████████████████████████▎ | 19262/19774 [02:25<00:03, 129.54it/s]\u001b[A\n",
      "Training:  97%|████████████████████████████████████████████████████████████████▎ | 19276/19774 [02:25<00:03, 124.64it/s]\u001b[A\n",
      "Training:  98%|████████████████████████████████████████████████████████████████▍ | 19290/19774 [02:25<00:03, 127.60it/s]\u001b[A\n",
      "Training:  98%|████████████████████████████████████████████████████████████████▍ | 19305/19774 [02:25<00:03, 133.06it/s]\u001b[A\n",
      "Training:  98%|████████████████████████████████████████████████████████████████▍ | 19319/19774 [02:26<00:03, 132.59it/s]\u001b[A\n",
      "Training:  98%|████████████████████████████████████████████████████████████████▌ | 19333/19774 [02:26<00:03, 133.99it/s]\u001b[A\n",
      "Training:  98%|████████████████████████████████████████████████████████████████▌ | 19347/19774 [02:26<00:03, 127.90it/s]\u001b[A\n",
      "Training:  98%|████████████████████████████████████████████████████████████████▋ | 19364/19774 [02:26<00:02, 138.06it/s]\u001b[A\n",
      "Training:  98%|████████████████████████████████████████████████████████████████▋ | 19378/19774 [02:26<00:02, 132.18it/s]\u001b[A\n",
      "Training:  98%|████████████████████████████████████████████████████████████████▋ | 19392/19774 [02:26<00:03, 126.59it/s]\u001b[A\n",
      "Training:  98%|████████████████████████████████████████████████████████████████▊ | 19408/19774 [02:26<00:02, 134.52it/s]\u001b[A\n",
      "Training:  98%|████████████████████████████████████████████████████████████████▊ | 19422/19774 [02:26<00:02, 130.81it/s]\u001b[A\n",
      "Training:  98%|████████████████████████████████████████████████████████████████▊ | 19436/19774 [02:26<00:02, 130.23it/s]\u001b[A\n",
      "Training:  98%|████████████████████████████████████████████████████████████████▉ | 19452/19774 [02:27<00:02, 137.50it/s]\u001b[A\n",
      "Training:  98%|████████████████████████████████████████████████████████████████▉ | 19466/19774 [02:27<00:02, 130.64it/s]\u001b[A\n",
      "Training:  99%|█████████████████████████████████████████████████████████████████ | 19482/19774 [02:27<00:02, 137.99it/s]\u001b[A\n",
      "Training:  99%|█████████████████████████████████████████████████████████████████ | 19496/19774 [02:27<00:02, 132.10it/s]\u001b[A\n",
      "Training:  99%|█████████████████████████████████████████████████████████████████ | 19510/19774 [02:27<00:02, 127.44it/s]\u001b[A\n",
      "Training:  99%|██████████████████████████████████████████████████████████████████▏| 19523/19774 [02:27<00:02, 91.29it/s]\u001b[A\n",
      "Training:  99%|██████████████████████████████████████████████████████████████████▏| 19534/19774 [02:27<00:03, 77.39it/s]\u001b[A\n",
      "Training:  99%|██████████████████████████████████████████████████████████████████▏| 19549/19774 [02:28<00:02, 92.00it/s]\u001b[A\n",
      "Training:  99%|██████████████████████████████████████████████████████████████████▎| 19561/19774 [02:28<00:02, 97.34it/s]\u001b[A\n",
      "Training:  99%|█████████████████████████████████████████████████████████████████▎| 19575/19774 [02:28<00:01, 107.34it/s]\u001b[A\n",
      "Training:  99%|█████████████████████████████████████████████████████████████████▍| 19590/19774 [02:28<00:01, 117.39it/s]\u001b[A\n",
      "Training:  99%|█████████████████████████████████████████████████████████████████▍| 19603/19774 [02:28<00:01, 119.88it/s]\u001b[A\n",
      "Training:  99%|█████████████████████████████████████████████████████████████████▍| 19619/19774 [02:28<00:01, 129.33it/s]\u001b[A\n",
      "Training:  99%|█████████████████████████████████████████████████████████████████▌| 19633/19774 [02:28<00:01, 127.48it/s]\u001b[A\n",
      "Training:  99%|█████████████████████████████████████████████████████████████████▌| 19649/19774 [02:28<00:00, 135.64it/s]\u001b[A\n",
      "Training:  99%|█████████████████████████████████████████████████████████████████▋| 19663/19774 [02:28<00:00, 129.22it/s]\u001b[A\n",
      "Training: 100%|█████████████████████████████████████████████████████████████████▋| 19677/19774 [02:29<00:00, 128.14it/s]\u001b[A\n",
      "Training: 100%|█████████████████████████████████████████████████████████████████▋| 19693/19774 [02:29<00:00, 133.56it/s]\u001b[A\n",
      "Training: 100%|█████████████████████████████████████████████████████████████████▊| 19707/19774 [02:29<00:00, 130.01it/s]\u001b[A\n",
      "Training: 100%|█████████████████████████████████████████████████████████████████▊| 19721/19774 [02:29<00:00, 129.11it/s]\u001b[A\n",
      "Training: 100%|█████████████████████████████████████████████████████████████████▊| 19735/19774 [02:29<00:00, 131.52it/s]\u001b[A\n",
      "Training: 100%|█████████████████████████████████████████████████████████████████▉| 19749/19774 [02:29<00:00, 126.86it/s]\u001b[A\n",
      "Training: 100%|█████████████████████████████████████████████████████████████████▉| 19762/19774 [02:29<00:00, 126.89it/s]\u001b[A\n",
      "                                                                                                                        \u001b[A\n",
      "Testing:   0%|                                                                                  | 0/300 [00:00<?, ?it/s]\u001b[A\n",
      "Testing:   9%|██████▏                                                                 | 26/300 [00:00<00:01, 259.24it/s]\u001b[A\n",
      "Testing:  18%|█████████████▏                                                          | 55/300 [00:00<00:00, 275.39it/s]\u001b[A\n",
      "Testing:  28%|███████████████████▉                                                    | 83/300 [00:00<00:00, 259.95it/s]\u001b[A\n",
      "Testing:  39%|███████████████████████████▋                                           | 117/300 [00:00<00:00, 287.56it/s]\u001b[A\n",
      "Testing:  49%|██████████████████████████████████▌                                    | 146/300 [00:00<00:00, 271.09it/s]\u001b[A\n",
      "Testing:  59%|█████████████████████████████████████████▉                             | 177/300 [00:00<00:00, 271.93it/s]\u001b[A\n",
      "Testing:  69%|████████████████████████████████████████████████▉                      | 207/300 [00:00<00:00, 278.42it/s]\u001b[A\n",
      "Testing:  78%|███████████████████████████████████████████████████████▌               | 235/300 [00:00<00:00, 270.80it/s]\u001b[A\n",
      "Testing:  90%|███████████████████████████████████████████████████████████████▋       | 269/300 [00:00<00:00, 290.05it/s]\u001b[A\n",
      "Testing: 100%|██████████████████████████████████████████████████████████████████████▊| 299/300 [00:01<00:00, 278.44it/s]\u001b[A\n",
      "Epoch:  40%|██████████████████████████████▊                                              | 2/5 [04:49<07:17, 145.67s/it]\u001b[A\n",
      "Training:   0%|                                                                               | 0/19774 [00:00<?, ?it/s]\u001b[A\n",
      "Training:   0%|                                                                      | 10/19774 [00:00<03:19, 99.30it/s]\u001b[A\n",
      "Training:   0%|                                                                     | 26/19774 [00:00<02:30, 131.35it/s]\u001b[A\n",
      "Training:   0%|▏                                                                    | 40/19774 [00:00<02:40, 123.07it/s]\u001b[A\n",
      "Training:   0%|▏                                                                    | 53/19774 [00:00<02:40, 122.84it/s]\u001b[A\n",
      "Training:   0%|▏                                                                    | 68/19774 [00:00<02:31, 130.32it/s]\u001b[A\n",
      "Training:   0%|▎                                                                    | 82/19774 [00:00<02:37, 124.89it/s]\u001b[A\n",
      "Training:   0%|▎                                                                    | 97/19774 [00:00<02:29, 132.01it/s]\u001b[A\n",
      "Training:   1%|▍                                                                   | 111/19774 [00:00<02:37, 124.76it/s]\u001b[A\n",
      "Training:   1%|▍                                                                   | 124/19774 [00:00<02:40, 122.13it/s]\u001b[A\n",
      "Training:   1%|▍                                                                   | 140/19774 [00:01<02:34, 126.90it/s]\u001b[A\n",
      "Training:   1%|▌                                                                   | 153/19774 [00:01<02:39, 123.26it/s]\u001b[A\n",
      "Training:   1%|▌                                                                   | 168/19774 [00:01<02:34, 126.68it/s]\u001b[A\n",
      "Training:   1%|▋                                                                   | 183/19774 [00:01<02:28, 131.75it/s]\u001b[A\n",
      "Training:   1%|▋                                                                   | 197/19774 [00:01<02:36, 125.42it/s]\u001b[A\n",
      "Training:   1%|▋                                                                   | 213/19774 [00:01<02:26, 133.80it/s]\u001b[A\n",
      "Training:   1%|▊                                                                   | 227/19774 [00:01<02:27, 132.09it/s]\u001b[A\n",
      "Training:   1%|▊                                                                   | 241/19774 [00:01<02:33, 126.87it/s]\u001b[A\n",
      "Training:   1%|▉                                                                   | 255/19774 [00:02<02:32, 128.25it/s]\u001b[A\n",
      "Training:   1%|▉                                                                   | 268/19774 [00:02<02:35, 125.76it/s]\u001b[A\n",
      "Training:   1%|▉                                                                   | 284/19774 [00:02<02:24, 134.87it/s]\u001b[A\n",
      "Training:   2%|█                                                                   | 298/19774 [00:02<02:31, 128.57it/s]\u001b[A\n",
      "Training:   2%|█                                                                   | 311/19774 [00:02<02:33, 127.11it/s]\u001b[A\n",
      "Training:   2%|█▏                                                                  | 328/19774 [00:02<02:22, 136.77it/s]\u001b[A\n",
      "Training:   2%|█▏                                                                  | 342/19774 [00:02<02:27, 131.48it/s]\u001b[A\n",
      "Training:   2%|█▏                                                                  | 357/19774 [00:02<02:22, 136.52it/s]\u001b[A\n",
      "Training:   2%|█▎                                                                  | 371/19774 [00:02<02:26, 132.81it/s]\u001b[A\n",
      "Training:   2%|█▎                                                                  | 385/19774 [00:02<02:29, 130.06it/s]\u001b[A\n",
      "Training:   2%|█▍                                                                  | 401/19774 [00:03<02:22, 136.01it/s]\u001b[A\n",
      "Training:   2%|█▍                                                                  | 415/19774 [00:03<02:31, 127.97it/s]\u001b[A\n",
      "Training:   2%|█▍                                                                  | 428/19774 [00:03<02:33, 126.37it/s]\u001b[A\n",
      "Training:   2%|█▌                                                                  | 442/19774 [00:03<02:28, 129.84it/s]\u001b[A\n",
      "Training:   2%|█▌                                                                  | 456/19774 [00:03<02:32, 126.30it/s]\u001b[A\n",
      "Training:   2%|█▌                                                                  | 470/19774 [00:03<02:28, 130.02it/s]\u001b[A\n",
      "Training:   2%|█▋                                                                  | 484/19774 [00:03<02:30, 128.11it/s]\u001b[A\n",
      "Training:   3%|█▋                                                                  | 497/19774 [00:03<02:30, 128.41it/s]\u001b[A\n",
      "Training:   3%|█▊                                                                  | 512/19774 [00:03<02:25, 132.44it/s]\u001b[A\n",
      "Training:   3%|█▊                                                                  | 526/19774 [00:04<02:31, 127.03it/s]\u001b[A\n",
      "Training:   3%|█▊                                                                  | 541/19774 [00:04<02:25, 132.47it/s]\u001b[A\n",
      "Training:   3%|█▉                                                                  | 555/19774 [00:04<02:27, 130.22it/s]\u001b[A\n",
      "Training:   3%|█▉                                                                  | 570/19774 [00:04<02:21, 135.72it/s]\u001b[A\n",
      "Training:   3%|██                                                                  | 584/19774 [00:04<02:28, 129.56it/s]\u001b[A\n",
      "Training:   3%|██                                                                  | 598/19774 [00:04<02:33, 125.15it/s]\u001b[A\n",
      "Training:   3%|██                                                                  | 614/19774 [00:04<02:24, 132.70it/s]\u001b[A\n",
      "Training:   3%|██▏                                                                 | 628/19774 [00:04<02:29, 128.42it/s]\u001b[A\n",
      "Training:   3%|██▏                                                                 | 641/19774 [00:04<02:33, 124.63it/s]\u001b[A\n",
      "Training:   3%|██▎                                                                 | 657/19774 [00:05<02:22, 134.03it/s]\u001b[A\n",
      "Training:   3%|██▎                                                                 | 671/19774 [00:05<02:28, 128.27it/s]\u001b[A\n",
      "Training:   3%|██▎                                                                 | 688/19774 [00:05<02:24, 132.12it/s]\u001b[A\n",
      "Training:   4%|██▍                                                                 | 702/19774 [00:05<02:26, 130.47it/s]\u001b[A\n",
      "Training:   4%|██▍                                                                 | 716/19774 [00:05<02:32, 125.31it/s]\u001b[A\n",
      "Training:   4%|██▌                                                                 | 732/19774 [00:05<02:22, 133.69it/s]\u001b[A\n",
      "Training:   4%|██▌                                                                 | 746/19774 [00:05<02:24, 131.39it/s]\u001b[A\n",
      "Training:   4%|██▌                                                                 | 760/19774 [00:05<02:24, 132.01it/s]\u001b[A\n",
      "Training:   4%|██▋                                                                 | 774/19774 [00:05<02:26, 129.98it/s]\u001b[A\n",
      "Training:   4%|██▋                                                                 | 788/19774 [00:06<02:31, 125.21it/s]\u001b[A\n",
      "Training:   4%|██▊                                                                 | 803/19774 [00:06<02:29, 126.87it/s]\u001b[A\n",
      "Training:   4%|██▊                                                                 | 817/19774 [00:06<02:26, 129.26it/s]\u001b[A\n",
      "Training:   4%|██▊                                                                 | 831/19774 [00:06<02:25, 130.28it/s]\u001b[A\n",
      "Training:   4%|██▉                                                                 | 845/19774 [00:06<02:23, 132.28it/s]\u001b[A\n",
      "Training:   4%|██▉                                                                 | 859/19774 [00:06<02:27, 128.50it/s]\u001b[A\n",
      "Training:   4%|███                                                                 | 874/19774 [00:06<02:20, 134.41it/s]\u001b[A\n",
      "Training:   4%|███                                                                 | 888/19774 [00:06<02:29, 126.61it/s]\u001b[A\n",
      "Training:   5%|███                                                                 | 901/19774 [00:06<02:29, 126.40it/s]\u001b[A\n",
      "Training:   5%|███▏                                                                | 915/19774 [00:07<02:25, 130.01it/s]\u001b[A\n",
      "Training:   5%|███▏                                                                | 929/19774 [00:07<02:32, 123.59it/s]\u001b[A\n",
      "Training:   5%|███▏                                                                | 945/19774 [00:07<02:21, 133.53it/s]\u001b[A\n",
      "Training:   5%|███▎                                                                | 959/19774 [00:07<02:25, 129.37it/s]\u001b[A\n",
      "Training:   5%|███▎                                                                | 973/19774 [00:07<02:24, 129.68it/s]\u001b[A\n",
      "Training:   5%|███▍                                                                | 988/19774 [00:07<02:20, 133.90it/s]\u001b[A\n",
      "Training:   5%|███▍                                                               | 1002/19774 [00:07<02:25, 128.87it/s]\u001b[A\n",
      "Training:   5%|███▍                                                               | 1018/19774 [00:07<02:16, 137.34it/s]\u001b[A\n",
      "Training:   5%|███▍                                                               | 1032/19774 [00:07<02:21, 132.21it/s]\u001b[A\n",
      "Training:   5%|███▌                                                               | 1046/19774 [00:08<02:22, 131.64it/s]\u001b[A\n",
      "Training:   5%|███▌                                                               | 1062/19774 [00:08<02:16, 137.01it/s]\u001b[A\n",
      "Training:   5%|███▋                                                               | 1076/19774 [00:08<02:23, 130.17it/s]\u001b[A\n",
      "Training:   6%|███▋                                                               | 1090/19774 [00:08<02:20, 132.79it/s]\u001b[A\n",
      "Training:   6%|███▋                                                               | 1104/19774 [00:08<02:19, 134.19it/s]\u001b[A\n",
      "Training:   6%|███▊                                                               | 1120/19774 [00:08<02:16, 136.35it/s]\u001b[A\n",
      "Training:   6%|███▊                                                               | 1135/19774 [00:08<02:13, 139.39it/s]\u001b[A\n",
      "Training:   6%|███▉                                                               | 1149/19774 [00:08<02:21, 132.05it/s]\u001b[A\n",
      "Training:   6%|███▉                                                               | 1165/19774 [00:08<02:14, 138.26it/s]\u001b[A\n",
      "Training:   6%|███▉                                                               | 1179/19774 [00:09<02:24, 129.03it/s]\u001b[A\n",
      "Training:   6%|████                                                               | 1193/19774 [00:09<02:24, 128.84it/s]\u001b[A\n",
      "Training:   6%|████                                                               | 1207/19774 [00:09<02:22, 130.27it/s]\u001b[A\n",
      "Training:   6%|████▏                                                              | 1221/19774 [00:09<02:30, 123.20it/s]\u001b[A\n",
      "Training:   6%|████▏                                                              | 1239/19774 [00:09<02:20, 131.87it/s]\u001b[A\n",
      "Training:   6%|████▏                                                              | 1253/19774 [00:09<02:19, 132.85it/s]\u001b[A\n",
      "Training:   6%|████▎                                                              | 1267/19774 [00:09<02:22, 130.01it/s]\u001b[A\n",
      "Training:   6%|████▎                                                              | 1281/19774 [00:09<02:21, 130.93it/s]\u001b[A\n",
      "Training:   7%|████▍                                                              | 1295/19774 [00:09<02:18, 133.04it/s]\u001b[A\n",
      "Training:   7%|████▍                                                              | 1309/19774 [00:10<02:26, 126.42it/s]\u001b[A\n",
      "Training:   7%|████▍                                                              | 1325/19774 [00:10<02:16, 135.22it/s]\u001b[A\n",
      "Training:   7%|████▌                                                              | 1339/19774 [00:10<02:19, 132.48it/s]\u001b[A\n",
      "Training:   7%|████▌                                                              | 1357/19774 [00:10<02:08, 142.88it/s]\u001b[A\n",
      "Training:   7%|████▋                                                              | 1372/19774 [00:10<02:13, 137.55it/s]\u001b[A\n",
      "Training:   7%|████▋                                                              | 1386/19774 [00:10<02:16, 135.05it/s]\u001b[A\n",
      "Training:   7%|████▋                                                              | 1401/19774 [00:10<02:13, 137.67it/s]\u001b[A\n",
      "Training:   7%|████▊                                                              | 1415/19774 [00:10<02:17, 133.62it/s]\u001b[A\n",
      "Training:   7%|████▊                                                              | 1429/19774 [00:10<02:17, 133.31it/s]\u001b[A\n",
      "Training:   7%|████▉                                                              | 1443/19774 [00:11<02:16, 134.56it/s]\u001b[A\n",
      "Training:   7%|████▉                                                              | 1457/19774 [00:11<02:16, 133.75it/s]\u001b[A\n",
      "Training:   7%|████▉                                                              | 1472/19774 [00:11<02:14, 135.77it/s]\u001b[A\n",
      "Training:   8%|█████                                                              | 1486/19774 [00:11<02:20, 129.90it/s]\u001b[A\n",
      "Training:   8%|█████                                                              | 1500/19774 [00:11<02:21, 128.93it/s]\u001b[A\n",
      "Training:   8%|█████▏                                                             | 1515/19774 [00:11<02:16, 133.54it/s]\u001b[A\n",
      "Training:   8%|█████▏                                                             | 1530/19774 [00:11<02:15, 134.75it/s]\u001b[A\n",
      "Training:   8%|█████▏                                                             | 1544/19774 [00:11<02:14, 135.66it/s]\u001b[A\n",
      "Training:   8%|█████▎                                                             | 1558/19774 [00:11<02:20, 129.51it/s]\u001b[A\n",
      "Training:   8%|█████▎                                                             | 1573/19774 [00:12<02:20, 129.23it/s]\u001b[A\n",
      "Training:   8%|█████▎                                                             | 1586/19774 [00:12<02:20, 129.36it/s]\u001b[A\n",
      "Training:   8%|█████▍                                                             | 1600/19774 [00:12<02:19, 130.44it/s]\u001b[A\n",
      "Training:   8%|█████▍                                                             | 1615/19774 [00:12<02:17, 132.40it/s]\u001b[A\n",
      "Training:   8%|█████▌                                                             | 1629/19774 [00:12<02:26, 123.91it/s]\u001b[A\n",
      "Training:   8%|█████▌                                                             | 1644/19774 [00:12<02:21, 128.45it/s]\u001b[A\n",
      "Training:   8%|█████▌                                                             | 1659/19774 [00:12<02:17, 132.01it/s]\u001b[A\n",
      "Training:   8%|█████▋                                                             | 1673/19774 [00:12<02:21, 127.55it/s]\u001b[A\n",
      "Training:   9%|█████▋                                                             | 1688/19774 [00:12<02:17, 131.45it/s]\u001b[A\n",
      "Training:   9%|█████▊                                                             | 1702/19774 [00:13<02:25, 124.35it/s]\u001b[A\n",
      "Training:   9%|█████▊                                                             | 1715/19774 [00:13<02:25, 123.81it/s]\u001b[A\n",
      "Training:   9%|█████▊                                                             | 1730/19774 [00:13<02:19, 129.02it/s]\u001b[A\n",
      "Training:   9%|█████▉                                                             | 1743/19774 [00:13<02:21, 127.69it/s]\u001b[A\n",
      "Training:   9%|█████▉                                                             | 1758/19774 [00:13<02:16, 132.47it/s]\u001b[A\n",
      "Training:   9%|██████                                                             | 1772/19774 [00:13<02:19, 128.89it/s]\u001b[A\n",
      "Training:   9%|██████                                                             | 1786/19774 [00:13<02:18, 129.64it/s]\u001b[A\n",
      "Training:   9%|██████                                                             | 1801/19774 [00:13<02:14, 133.70it/s]\u001b[A\n",
      "Training:   9%|██████▏                                                            | 1815/19774 [00:13<02:17, 130.78it/s]\u001b[A\n",
      "Training:   9%|██████▏                                                            | 1831/19774 [00:14<02:11, 136.47it/s]\u001b[A\n",
      "Training:   9%|██████▎                                                            | 1845/19774 [00:14<02:19, 128.49it/s]\u001b[A\n",
      "Training:   9%|██████▎                                                            | 1858/19774 [00:14<02:19, 128.68it/s]\u001b[A\n",
      "Training:   9%|██████▎                                                            | 1873/19774 [00:14<02:14, 133.51it/s]\u001b[A\n",
      "Training:  10%|██████▍                                                            | 1887/19774 [00:14<02:15, 132.12it/s]\u001b[A\n",
      "Training:  10%|██████▍                                                            | 1903/19774 [00:14<02:09, 138.37it/s]\u001b[A\n",
      "Training:  10%|██████▍                                                            | 1917/19774 [00:14<02:17, 129.82it/s]\u001b[A\n",
      "Training:  10%|██████▌                                                            | 1931/19774 [00:14<02:15, 132.00it/s]\u001b[A\n",
      "Training:  10%|██████▌                                                            | 1946/19774 [00:14<02:11, 135.65it/s]\u001b[A\n",
      "Training:  10%|██████▋                                                            | 1960/19774 [00:14<02:11, 135.82it/s]\u001b[A\n",
      "Training:  10%|██████▋                                                            | 1974/19774 [00:15<02:15, 131.62it/s]\u001b[A\n",
      "Training:  10%|██████▋                                                            | 1988/19774 [00:15<02:22, 125.24it/s]\u001b[A\n",
      "Training:  10%|██████▊                                                            | 2001/19774 [00:15<02:22, 124.84it/s]\u001b[A\n",
      "Training:  10%|██████▊                                                            | 2016/19774 [00:15<02:14, 131.82it/s]\u001b[A\n",
      "Training:  10%|██████▉                                                            | 2030/19774 [00:15<02:18, 128.27it/s]\u001b[A\n",
      "Training:  10%|██████▉                                                            | 2046/19774 [00:15<02:11, 134.93it/s]\u001b[A\n",
      "Training:  10%|██████▉                                                            | 2060/19774 [00:15<02:17, 128.91it/s]\u001b[A\n",
      "Training:  10%|███████                                                            | 2073/19774 [00:15<02:18, 127.68it/s]\u001b[A\n",
      "Training:  11%|███████                                                            | 2088/19774 [00:15<02:12, 133.35it/s]\u001b[A\n",
      "Training:  11%|███████▏                                                           | 2103/19774 [00:16<02:12, 133.29it/s]\u001b[A\n",
      "Training:  11%|███████▏                                                           | 2118/19774 [00:16<02:09, 135.83it/s]\u001b[A\n",
      "Training:  11%|███████▏                                                           | 2132/19774 [00:16<02:16, 128.92it/s]\u001b[A\n",
      "Training:  11%|███████▎                                                           | 2146/19774 [00:16<02:14, 130.72it/s]\u001b[A\n",
      "Training:  11%|███████▎                                                           | 2161/19774 [00:16<02:09, 135.52it/s]\u001b[A\n",
      "Training:  11%|███████▍                                                           | 2177/19774 [00:16<02:06, 139.03it/s]\u001b[A\n",
      "Training:  11%|███████▍                                                           | 2191/19774 [00:16<02:08, 136.37it/s]\u001b[A\n",
      "Training:  11%|███████▍                                                           | 2205/19774 [00:16<02:13, 131.46it/s]\u001b[A\n",
      "Training:  11%|███████▌                                                           | 2221/19774 [00:16<02:07, 138.01it/s]\u001b[A\n",
      "Training:  11%|███████▌                                                           | 2235/19774 [00:17<02:12, 132.13it/s]\u001b[A\n",
      "Training:  11%|███████▌                                                           | 2250/19774 [00:17<02:10, 134.13it/s]\u001b[A\n",
      "Training:  11%|███████▋                                                           | 2264/19774 [00:17<02:09, 135.70it/s]\u001b[A\n",
      "Training:  12%|███████▋                                                           | 2278/19774 [00:17<02:13, 131.54it/s]\u001b[A\n",
      "Training:  12%|███████▊                                                           | 2294/19774 [00:17<02:06, 138.42it/s]\u001b[A\n",
      "Training:  12%|███████▊                                                           | 2308/19774 [00:17<02:14, 129.84it/s]\u001b[A\n",
      "Training:  12%|███████▊                                                           | 2324/19774 [00:17<02:12, 131.96it/s]\u001b[A\n",
      "Training:  12%|███████▉                                                           | 2338/19774 [00:17<02:11, 132.46it/s]\u001b[A\n",
      "Training:  12%|███████▉                                                           | 2352/19774 [00:17<02:17, 126.93it/s]\u001b[A\n",
      "Training:  12%|████████                                                           | 2366/19774 [00:18<02:16, 127.44it/s]\u001b[A\n",
      "Training:  12%|████████                                                           | 2380/19774 [00:18<02:14, 129.63it/s]\u001b[A\n",
      "Training:  12%|████████                                                           | 2394/19774 [00:18<02:12, 131.24it/s]\u001b[A\n",
      "Training:  12%|████████▏                                                          | 2409/19774 [00:18<02:08, 135.11it/s]\u001b[A\n",
      "Training:  12%|████████▏                                                          | 2423/19774 [00:18<02:12, 130.95it/s]\u001b[A\n",
      "Training:  12%|████████▎                                                          | 2438/19774 [00:18<02:15, 128.38it/s]\u001b[A\n",
      "Training:  12%|████████▎                                                          | 2454/19774 [00:18<02:07, 135.57it/s]\u001b[A\n",
      "Training:  12%|████████▎                                                          | 2471/19774 [00:18<02:03, 140.60it/s]\u001b[A\n",
      "Training:  13%|████████▍                                                          | 2486/19774 [00:18<02:03, 139.84it/s]\u001b[A\n",
      "Training:  13%|████████▍                                                          | 2501/19774 [00:19<02:13, 129.08it/s]\u001b[A\n",
      "Training:  13%|████████▌                                                          | 2515/19774 [00:19<02:12, 130.12it/s]\u001b[A\n",
      "Training:  13%|████████▌                                                          | 2530/19774 [00:19<02:09, 132.69it/s]\u001b[A\n",
      "Training:  13%|████████▌                                                          | 2544/19774 [00:19<02:10, 132.43it/s]\u001b[A\n",
      "Training:  13%|████████▋                                                          | 2559/19774 [00:19<02:06, 135.68it/s]\u001b[A\n",
      "Training:  13%|████████▋                                                          | 2573/19774 [00:19<02:14, 127.60it/s]\u001b[A\n",
      "Training:  13%|████████▊                                                          | 2586/19774 [00:19<02:14, 128.21it/s]\u001b[A\n",
      "Training:  13%|████████▊                                                          | 2601/19774 [00:19<02:10, 131.69it/s]\u001b[A\n",
      "Training:  13%|████████▊                                                          | 2616/19774 [00:19<02:10, 131.48it/s]\u001b[A\n",
      "Training:  13%|████████▉                                                          | 2631/19774 [00:20<02:07, 134.49it/s]\u001b[A\n",
      "Training:  13%|████████▉                                                          | 2645/19774 [00:20<02:12, 129.37it/s]\u001b[A\n",
      "Training:  13%|█████████                                                          | 2658/19774 [00:20<02:13, 128.55it/s]\u001b[A\n",
      "Training:  14%|█████████                                                          | 2672/19774 [00:20<02:11, 130.28it/s]\u001b[A\n",
      "Training:  14%|█████████                                                          | 2686/19774 [00:20<02:18, 123.33it/s]\u001b[A\n",
      "Training:  14%|█████████▏                                                         | 2701/19774 [00:20<02:11, 130.05it/s]\u001b[A\n",
      "Training:  14%|█████████▏                                                         | 2715/19774 [00:20<02:14, 126.40it/s]\u001b[A\n",
      "Training:  14%|█████████▏                                                         | 2729/19774 [00:20<02:11, 129.98it/s]\u001b[A\n",
      "Training:  14%|█████████▎                                                         | 2743/19774 [00:20<02:09, 131.08it/s]\u001b[A\n",
      "Training:  14%|█████████▎                                                         | 2757/19774 [00:21<02:13, 127.15it/s]\u001b[A\n",
      "Training:  14%|█████████▍                                                         | 2771/19774 [00:21<02:10, 130.14it/s]\u001b[A\n",
      "Training:  14%|█████████▍                                                         | 2785/19774 [00:21<02:12, 127.97it/s]\u001b[A\n",
      "Training:  14%|█████████▍                                                         | 2801/19774 [00:21<02:05, 135.15it/s]\u001b[A\n",
      "Training:  14%|█████████▌                                                         | 2815/19774 [00:21<02:12, 127.55it/s]\u001b[A\n",
      "Training:  14%|█████████▌                                                         | 2831/19774 [00:21<02:13, 127.18it/s]\u001b[A\n",
      "Training:  14%|█████████▋                                                         | 2846/19774 [00:21<02:07, 133.07it/s]\u001b[A\n",
      "Training:  14%|█████████▋                                                         | 2860/19774 [00:21<02:09, 130.33it/s]\u001b[A\n",
      "Training:  15%|█████████▋                                                         | 2875/19774 [00:21<02:09, 130.59it/s]\u001b[A\n",
      "Training:  15%|█████████▊                                                         | 2890/19774 [00:22<02:05, 134.18it/s]\u001b[A\n",
      "Training:  15%|█████████▊                                                         | 2906/19774 [00:22<02:06, 133.49it/s]\u001b[A\n",
      "Training:  15%|█████████▉                                                         | 2920/19774 [00:22<02:06, 132.87it/s]\u001b[A\n",
      "Training:  15%|█████████▉                                                         | 2934/19774 [00:22<02:11, 127.86it/s]\u001b[A\n",
      "Training:  15%|█████████▉                                                         | 2948/19774 [00:22<02:10, 128.66it/s]\u001b[A\n",
      "Training:  15%|██████████                                                         | 2961/19774 [00:22<02:11, 128.29it/s]\u001b[A\n",
      "Training:  15%|██████████                                                         | 2977/19774 [00:22<02:03, 135.88it/s]\u001b[A\n",
      "Training:  15%|██████████▏                                                        | 2991/19774 [00:22<02:08, 130.50it/s]\u001b[A\n",
      "Training:  15%|██████████▏                                                        | 3005/19774 [00:22<02:12, 126.37it/s]\u001b[A\n",
      "Training:  15%|██████████▏                                                        | 3021/19774 [00:23<02:05, 133.31it/s]\u001b[A\n",
      "Training:  15%|██████████▎                                                        | 3035/19774 [00:23<02:10, 128.21it/s]\u001b[A\n",
      "Training:  15%|██████████▎                                                        | 3051/19774 [00:23<02:02, 136.75it/s]\u001b[A\n",
      "Training:  16%|██████████▍                                                        | 3065/19774 [00:23<02:06, 131.75it/s]\u001b[A\n",
      "Training:  16%|██████████▍                                                        | 3079/19774 [00:23<02:09, 128.96it/s]\u001b[A\n",
      "Training:  16%|██████████▍                                                        | 3095/19774 [00:23<02:07, 130.43it/s]\u001b[A\n",
      "Training:  16%|██████████▌                                                        | 3109/19774 [00:23<02:07, 130.43it/s]\u001b[A\n",
      "Training:  16%|██████████▌                                                        | 3124/19774 [00:23<02:05, 132.31it/s]\u001b[A\n",
      "Training:  16%|██████████▋                                                        | 3138/19774 [00:23<02:05, 132.24it/s]\u001b[A\n",
      "Training:  16%|██████████▋                                                        | 3152/19774 [00:24<02:09, 128.62it/s]\u001b[A\n",
      "Training:  16%|██████████▋                                                        | 3169/19774 [00:24<02:06, 131.21it/s]\u001b[A\n",
      "Training:  16%|██████████▊                                                        | 3183/19774 [00:24<02:04, 133.45it/s]\u001b[A\n",
      "Training:  16%|██████████▊                                                        | 3197/19774 [00:24<02:03, 134.47it/s]\u001b[A\n",
      "Training:  16%|██████████▉                                                        | 3211/19774 [00:24<02:02, 134.96it/s]\u001b[A\n",
      "Training:  16%|██████████▉                                                        | 3226/19774 [00:24<02:02, 134.83it/s]\u001b[A\n",
      "Training:  16%|██████████▉                                                        | 3241/19774 [00:24<01:59, 138.08it/s]\u001b[A\n",
      "Training:  16%|███████████                                                        | 3255/19774 [00:24<02:04, 132.44it/s]\u001b[A\n",
      "Training:  17%|███████████                                                        | 3271/19774 [00:24<01:58, 139.43it/s]\u001b[A\n",
      "Training:  17%|███████████▏                                                       | 3286/19774 [00:25<02:06, 130.77it/s]\u001b[A\n",
      "Training:  17%|███████████▏                                                       | 3300/19774 [00:25<02:08, 127.94it/s]\u001b[A\n",
      "Training:  17%|███████████▏                                                       | 3317/19774 [00:25<01:58, 139.05it/s]\u001b[A\n",
      "Training:  17%|███████████▎                                                       | 3332/19774 [00:25<02:05, 130.82it/s]\u001b[A\n",
      "Training:  17%|███████████▎                                                       | 3348/19774 [00:25<02:00, 136.52it/s]\u001b[A\n",
      "Training:  17%|███████████▍                                                       | 3362/19774 [00:25<02:03, 132.39it/s]\u001b[A\n",
      "Training:  17%|███████████▍                                                       | 3376/19774 [00:25<02:05, 130.81it/s]\u001b[A\n",
      "Training:  17%|███████████▍                                                       | 3394/19774 [00:25<01:54, 142.57it/s]\u001b[A\n",
      "Training:  17%|███████████▌                                                       | 3409/19774 [00:25<02:01, 135.16it/s]\u001b[A\n",
      "Training:  17%|███████████▌                                                       | 3423/19774 [00:26<02:01, 134.63it/s]\u001b[A\n",
      "Training:  17%|███████████▋                                                       | 3437/19774 [00:26<02:00, 135.37it/s]\u001b[A\n",
      "Training:  17%|███████████▋                                                       | 3452/19774 [00:26<02:00, 134.93it/s]\u001b[A\n",
      "Training:  18%|███████████▊                                                       | 3469/19774 [00:26<01:54, 142.86it/s]\u001b[A\n",
      "Training:  18%|███████████▊                                                       | 3484/19774 [00:26<01:59, 135.83it/s]\u001b[A\n",
      "Training:  18%|███████████▊                                                       | 3500/19774 [00:26<01:59, 135.74it/s]\u001b[A\n",
      "Training:  18%|███████████▉                                                       | 3514/19774 [00:26<02:02, 132.97it/s]\u001b[A\n",
      "Training:  18%|███████████▉                                                       | 3528/19774 [00:26<02:07, 127.22it/s]\u001b[A\n",
      "Training:  18%|████████████                                                       | 3544/19774 [00:27<02:07, 127.34it/s]\u001b[A\n",
      "Training:  18%|████████████                                                       | 3559/19774 [00:27<02:04, 129.98it/s]\u001b[A\n",
      "Training:  18%|████████████                                                       | 3575/19774 [00:27<02:03, 131.52it/s]\u001b[A\n",
      "Training:  18%|████████████▏                                                      | 3589/19774 [00:27<02:03, 131.47it/s]\u001b[A\n",
      "Training:  18%|████████████▏                                                      | 3603/19774 [00:27<02:05, 129.24it/s]\u001b[A\n",
      "Training:  18%|████████████▎                                                      | 3619/19774 [00:27<01:57, 137.34it/s]\u001b[A\n",
      "Training:  18%|████████████▎                                                      | 3633/19774 [00:27<02:06, 127.63it/s]\u001b[A\n",
      "Training:  18%|████████████▎                                                      | 3648/19774 [00:27<02:08, 125.66it/s]\u001b[A\n",
      "Training:  19%|████████████▍                                                      | 3662/19774 [00:27<02:06, 127.87it/s]\u001b[A\n",
      "Training:  19%|████████████▍                                                      | 3675/19774 [00:28<02:10, 123.77it/s]\u001b[A\n",
      "Training:  19%|████████████▌                                                      | 3691/19774 [00:28<02:07, 125.78it/s]\u001b[A\n",
      "Training:  19%|████████████▌                                                      | 3705/19774 [00:28<02:04, 129.02it/s]\u001b[A\n",
      "Training:  19%|████████████▌                                                      | 3722/19774 [00:28<01:59, 133.96it/s]\u001b[A\n",
      "Training:  19%|████████████▋                                                      | 3737/19774 [00:28<01:56, 137.08it/s]\u001b[A\n",
      "Training:  19%|████████████▋                                                      | 3751/19774 [00:28<02:02, 130.81it/s]\u001b[A\n",
      "Training:  19%|████████████▊                                                      | 3766/19774 [00:28<02:02, 130.62it/s]\u001b[A\n",
      "Training:  19%|████████████▊                                                      | 3780/19774 [00:28<02:01, 131.65it/s]\u001b[A\n",
      "Training:  19%|████████████▊                                                      | 3794/19774 [00:28<02:01, 131.13it/s]\u001b[A\n",
      "Training:  19%|████████████▉                                                      | 3808/19774 [00:29<01:59, 133.57it/s]\u001b[A\n",
      "Training:  19%|████████████▉                                                      | 3822/19774 [00:29<02:04, 127.65it/s]\u001b[A\n",
      "Training:  19%|█████████████                                                      | 3837/19774 [00:29<02:04, 128.09it/s]\u001b[A\n",
      "Training:  19%|█████████████                                                      | 3850/19774 [00:29<02:04, 128.15it/s]\u001b[A\n",
      "Training:  20%|█████████████                                                      | 3865/19774 [00:29<01:59, 133.02it/s]\u001b[A\n",
      "Training:  20%|█████████████▏                                                     | 3879/19774 [00:29<01:58, 133.69it/s]\u001b[A\n",
      "Training:  20%|█████████████▏                                                     | 3894/19774 [00:29<01:59, 133.10it/s]\u001b[A\n",
      "Training:  20%|█████████████▏                                                     | 3908/19774 [00:29<01:58, 133.82it/s]\u001b[A\n",
      "Training:  20%|█████████████▎                                                     | 3922/19774 [00:29<02:00, 131.96it/s]\u001b[A\n",
      "Training:  20%|█████████████▎                                                     | 3938/19774 [00:29<01:54, 138.86it/s]\u001b[A\n",
      "Training:  20%|█████████████▍                                                     | 3952/19774 [00:30<01:57, 135.06it/s]\u001b[A\n",
      "Training:  20%|█████████████▍                                                     | 3966/19774 [00:30<02:03, 127.61it/s]\u001b[A\n",
      "Training:  20%|█████████████▍                                                     | 3981/19774 [00:30<01:59, 132.29it/s]\u001b[A\n",
      "Training:  20%|█████████████▌                                                     | 3995/19774 [00:30<02:03, 127.38it/s]\u001b[A\n",
      "Training:  20%|█████████████▌                                                     | 4011/19774 [00:30<01:56, 135.03it/s]\u001b[A\n",
      "Training:  20%|█████████████▋                                                     | 4025/19774 [00:30<02:01, 130.06it/s]\u001b[A\n",
      "Training:  20%|█████████████▋                                                     | 4039/19774 [00:30<02:02, 128.24it/s]\u001b[A\n",
      "Training:  21%|█████████████▋                                                     | 4055/19774 [00:30<01:56, 134.54it/s]\u001b[A\n",
      "Training:  21%|█████████████▊                                                     | 4069/19774 [00:31<02:04, 126.40it/s]\u001b[A\n",
      "Training:  21%|█████████████▊                                                     | 4085/19774 [00:31<01:56, 135.07it/s]\u001b[A\n",
      "Training:  21%|█████████████▉                                                     | 4099/19774 [00:31<02:02, 128.20it/s]\u001b[A\n",
      "Training:  21%|█████████████▉                                                     | 4113/19774 [00:31<02:04, 125.60it/s]\u001b[A\n",
      "Training:  21%|█████████████▉                                                     | 4129/19774 [00:31<01:57, 132.66it/s]\u001b[A\n",
      "Training:  21%|██████████████                                                     | 4143/19774 [00:31<02:01, 128.59it/s]\u001b[A\n",
      "Training:  21%|██████████████                                                     | 4160/19774 [00:31<01:52, 138.53it/s]\u001b[A\n",
      "Training:  21%|██████████████▏                                                    | 4174/19774 [00:31<01:58, 131.13it/s]\u001b[A\n",
      "Training:  21%|██████████████▏                                                    | 4188/19774 [00:31<02:03, 126.67it/s]\u001b[A\n",
      "Training:  21%|██████████████▏                                                    | 4204/19774 [00:32<01:56, 134.01it/s]\u001b[A\n",
      "Training:  21%|██████████████▎                                                    | 4218/19774 [00:32<01:57, 131.84it/s]\u001b[A\n",
      "Training:  21%|██████████████▎                                                    | 4233/19774 [00:32<01:54, 135.41it/s]\u001b[A\n",
      "Training:  21%|██████████████▍                                                    | 4247/19774 [00:32<02:00, 129.31it/s]\u001b[A\n",
      "Training:  22%|██████████████▍                                                    | 4263/19774 [00:32<01:59, 129.69it/s]\u001b[A\n",
      "Training:  22%|██████████████▍                                                    | 4279/19774 [00:32<01:53, 136.39it/s]\u001b[A\n",
      "Training:  22%|██████████████▌                                                    | 4293/19774 [00:32<01:56, 132.83it/s]\u001b[A\n",
      "Training:  22%|██████████████▌                                                    | 4308/19774 [00:32<01:53, 136.45it/s]\u001b[A\n",
      "Training:  22%|██████████████▋                                                    | 4322/19774 [00:32<01:58, 130.43it/s]\u001b[A\n",
      "Training:  22%|██████████████▋                                                    | 4336/19774 [00:33<01:57, 131.28it/s]\u001b[A\n",
      "Training:  22%|██████████████▋                                                    | 4350/19774 [00:33<01:56, 132.14it/s]\u001b[A\n",
      "Training:  22%|██████████████▊                                                    | 4364/19774 [00:33<01:59, 129.31it/s]\u001b[A\n",
      "Training:  22%|██████████████▊                                                    | 4380/19774 [00:33<01:52, 136.65it/s]\u001b[A\n",
      "Training:  22%|██████████████▉                                                    | 4394/19774 [00:33<01:58, 129.40it/s]\u001b[A\n",
      "Training:  22%|██████████████▉                                                    | 4410/19774 [00:33<01:52, 136.47it/s]\u001b[A\n",
      "Training:  22%|██████████████▉                                                    | 4424/19774 [00:33<01:56, 132.27it/s]\u001b[A\n",
      "Training:  22%|███████████████                                                    | 4438/19774 [00:33<01:56, 132.19it/s]\u001b[A\n",
      "Training:  23%|███████████████                                                    | 4453/19774 [00:33<01:53, 135.03it/s]\u001b[A\n",
      "Training:  23%|███████████████▏                                                   | 4467/19774 [00:34<01:56, 131.52it/s]\u001b[A\n",
      "Training:  23%|███████████████▏                                                   | 4484/19774 [00:34<01:49, 140.14it/s]\u001b[A\n",
      "Training:  23%|███████████████▏                                                   | 4499/19774 [00:34<01:55, 132.38it/s]\u001b[A\n",
      "Training:  23%|███████████████▎                                                   | 4513/19774 [00:34<01:58, 128.94it/s]\u001b[A\n",
      "Training:  23%|███████████████▎                                                   | 4527/19774 [00:34<01:56, 130.84it/s]\u001b[A\n",
      "Training:  23%|███████████████▍                                                   | 4541/19774 [00:34<02:02, 124.22it/s]\u001b[A\n",
      "Training:  23%|███████████████▍                                                   | 4556/19774 [00:34<01:56, 130.28it/s]\u001b[A\n",
      "Training:  23%|███████████████▍                                                   | 4570/19774 [00:34<01:59, 127.43it/s]\u001b[A\n",
      "Training:  23%|███████████████▌                                                   | 4585/19774 [00:34<01:56, 130.70it/s]\u001b[A\n",
      "Training:  23%|███████████████▌                                                   | 4600/19774 [00:35<01:51, 135.52it/s]\u001b[A\n",
      "Training:  23%|███████████████▋                                                   | 4616/19774 [00:35<01:47, 141.26it/s]\u001b[A\n",
      "Training:  23%|███████████████▋                                                   | 4631/19774 [00:35<01:48, 139.60it/s]\u001b[A\n",
      "Training:  23%|███████████████▋                                                   | 4646/19774 [00:35<01:57, 128.54it/s]\u001b[A\n",
      "Training:  24%|███████████████▊                                                   | 4662/19774 [00:35<01:54, 132.50it/s]\u001b[A\n",
      "Training:  24%|███████████████▊                                                   | 4676/19774 [00:35<01:53, 133.01it/s]\u001b[A\n",
      "Training:  24%|███████████████▉                                                   | 4690/19774 [00:35<01:52, 134.65it/s]\u001b[A\n",
      "Training:  24%|███████████████▉                                                   | 4704/19774 [00:35<01:53, 133.20it/s]\u001b[A\n",
      "Training:  24%|███████████████▉                                                   | 4718/19774 [00:35<01:57, 128.38it/s]\u001b[A\n",
      "Training:  24%|████████████████                                                   | 4734/19774 [00:36<01:51, 135.11it/s]\u001b[A\n",
      "Training:  24%|████████████████                                                   | 4748/19774 [00:36<01:54, 131.25it/s]\u001b[A\n",
      "Training:  24%|████████████████▏                                                  | 4765/19774 [00:36<01:46, 140.77it/s]\u001b[A\n",
      "Training:  24%|████████████████▏                                                  | 4780/19774 [00:36<01:50, 135.40it/s]\u001b[A\n",
      "Training:  24%|████████████████▏                                                  | 4794/19774 [00:36<01:53, 131.99it/s]\u001b[A\n",
      "Training:  24%|████████████████▎                                                  | 4810/19774 [00:36<01:48, 138.02it/s]\u001b[A\n",
      "Training:  24%|████████████████▎                                                  | 4824/19774 [00:36<01:53, 132.09it/s]\u001b[A\n",
      "Training:  24%|████████████████▍                                                  | 4838/19774 [00:36<01:54, 130.86it/s]\u001b[A\n",
      "Training:  25%|████████████████▍                                                  | 4853/19774 [00:36<01:51, 133.78it/s]\u001b[A\n",
      "Training:  25%|████████████████▍                                                  | 4867/19774 [00:37<01:55, 129.50it/s]\u001b[A\n",
      "Training:  25%|████████████████▌                                                  | 4884/19774 [00:37<01:47, 138.63it/s]\u001b[A\n",
      "Training:  25%|████████████████▌                                                  | 4898/19774 [00:37<01:53, 130.95it/s]\u001b[A\n",
      "Training:  25%|████████████████▋                                                  | 4915/19774 [00:37<01:45, 141.34it/s]\u001b[A\n",
      "Training:  25%|████████████████▋                                                  | 4930/19774 [00:37<01:50, 134.78it/s]\u001b[A\n",
      "Training:  25%|████████████████▊                                                  | 4944/19774 [00:37<01:54, 129.40it/s]\u001b[A\n",
      "Training:  25%|████████████████▊                                                  | 4959/19774 [00:37<01:50, 133.51it/s]\u001b[A\n",
      "Training:  25%|████████████████▊                                                  | 4973/19774 [00:37<01:56, 127.39it/s]\u001b[A\n",
      "Training:  25%|████████████████▉                                                  | 4990/19774 [00:37<01:46, 138.33it/s]\u001b[A\n",
      "Training:  25%|████████████████▉                                                  | 5005/19774 [00:38<01:50, 133.40it/s]\u001b[A\n",
      "Training:  25%|█████████████████                                                  | 5019/19774 [00:38<01:54, 129.18it/s]\u001b[A\n",
      "Training:  25%|█████████████████                                                  | 5035/19774 [00:38<01:48, 136.26it/s]\u001b[A\n",
      "Training:  26%|█████████████████                                                  | 5049/19774 [00:38<01:53, 130.17it/s]\u001b[A\n",
      "Training:  26%|█████████████████▏                                                 | 5065/19774 [00:38<01:47, 137.11it/s]\u001b[A\n",
      "Training:  26%|█████████████████▏                                                 | 5079/19774 [00:38<01:53, 129.78it/s]\u001b[A\n",
      "Training:  26%|█████████████████▎                                                 | 5093/19774 [00:38<01:57, 125.05it/s]\u001b[A\n",
      "Training:  26%|█████████████████▎                                                 | 5109/19774 [00:38<01:49, 134.27it/s]\u001b[A\n",
      "Training:  26%|█████████████████▎                                                 | 5123/19774 [00:38<01:58, 124.14it/s]\u001b[A\n",
      "Training:  26%|█████████████████▍                                                 | 5138/19774 [00:39<01:51, 130.98it/s]\u001b[A\n",
      "Training:  26%|█████████████████▍                                                 | 5152/19774 [00:39<01:55, 127.03it/s]\u001b[A\n",
      "Training:  26%|█████████████████▌                                                 | 5165/19774 [00:39<01:57, 124.24it/s]\u001b[A\n",
      "Training:  26%|█████████████████▌                                                 | 5182/19774 [00:39<01:47, 135.48it/s]\u001b[A\n",
      "Training:  26%|█████████████████▌                                                 | 5196/19774 [00:39<01:52, 129.71it/s]\u001b[A\n",
      "Training:  26%|█████████████████▋                                                 | 5211/19774 [00:39<01:49, 133.24it/s]\u001b[A\n",
      "Training:  26%|█████████████████▋                                                 | 5225/19774 [00:39<01:55, 126.29it/s]\u001b[A\n",
      "Training:  26%|█████████████████▊                                                 | 5239/19774 [00:39<01:55, 125.86it/s]\u001b[A\n",
      "Training:  27%|█████████████████▊                                                 | 5256/19774 [00:39<01:46, 136.13it/s]\u001b[A\n",
      "Training:  27%|█████████████████▊                                                 | 5270/19774 [00:40<01:51, 129.56it/s]\u001b[A\n",
      "Training:  27%|█████████████████▉                                                 | 5286/19774 [00:40<01:46, 136.45it/s]\u001b[A\n",
      "Training:  27%|█████████████████▉                                                 | 5300/19774 [00:40<01:50, 130.58it/s]\u001b[A\n",
      "Training:  27%|██████████████████                                                 | 5314/19774 [00:40<01:49, 131.53it/s]\u001b[A\n",
      "Training:  27%|██████████████████                                                 | 5330/19774 [00:40<01:43, 139.04it/s]\u001b[A\n",
      "Training:  27%|██████████████████                                                 | 5345/19774 [00:40<01:50, 130.07it/s]\u001b[A\n",
      "Training:  27%|██████████████████▏                                                | 5360/19774 [00:40<01:46, 135.20it/s]\u001b[A\n",
      "Training:  27%|██████████████████▏                                                | 5374/19774 [00:40<01:50, 130.13it/s]\u001b[A\n",
      "Training:  27%|██████████████████▎                                                | 5388/19774 [00:40<01:50, 130.65it/s]\u001b[A\n",
      "Training:  27%|██████████████████▎                                                | 5403/19774 [00:41<01:46, 135.18it/s]\u001b[A\n",
      "Training:  27%|██████████████████▎                                                | 5417/19774 [00:41<01:47, 133.16it/s]\u001b[A\n",
      "Training:  27%|██████████████████▍                                                | 5431/19774 [00:41<01:47, 133.89it/s]\u001b[A\n",
      "Training:  28%|██████████████████▍                                                | 5445/19774 [00:41<01:50, 129.41it/s]\u001b[A\n",
      "Training:  28%|██████████████████▌                                                | 5461/19774 [00:41<01:44, 137.35it/s]\u001b[A\n",
      "Training:  28%|██████████████████▌                                                | 5475/19774 [00:41<01:51, 128.44it/s]\u001b[A\n",
      "Training:  28%|██████████████████▌                                                | 5489/19774 [00:41<01:49, 130.66it/s]\u001b[A\n",
      "Training:  28%|██████████████████▋                                                | 5504/19774 [00:41<01:45, 134.70it/s]\u001b[A\n",
      "Training:  28%|██████████████████▋                                                | 5518/19774 [00:41<01:46, 133.55it/s]\u001b[A\n",
      "Training:  28%|██████████████████▋                                                | 5533/19774 [00:42<01:44, 136.66it/s]\u001b[A\n",
      "Training:  28%|██████████████████▊                                                | 5547/19774 [00:42<01:47, 132.18it/s]\u001b[A\n",
      "Training:  28%|██████████████████▊                                                | 5564/19774 [00:42<01:40, 140.94it/s]\u001b[A\n",
      "Training:  28%|██████████████████▉                                                | 5579/19774 [00:42<01:43, 136.78it/s]\u001b[A\n",
      "Training:  28%|██████████████████▉                                                | 5597/19774 [00:42<01:36, 146.46it/s]\u001b[A\n",
      "Training:  28%|███████████████████                                                | 5612/19774 [00:42<01:41, 140.10it/s]\u001b[A\n",
      "Training:  28%|███████████████████                                                | 5627/19774 [00:42<01:44, 134.82it/s]\u001b[A\n",
      "Training:  29%|███████████████████                                                | 5643/19774 [00:42<01:41, 139.42it/s]\u001b[A\n",
      "Training:  29%|███████████████████▏                                               | 5658/19774 [00:42<01:45, 133.32it/s]\u001b[A\n",
      "Training:  29%|███████████████████▏                                               | 5673/19774 [00:43<01:45, 134.13it/s]\u001b[A\n",
      "Training:  29%|███████████████████▎                                               | 5687/19774 [00:43<01:45, 133.31it/s]\u001b[A\n",
      "Training:  29%|███████████████████▎                                               | 5701/19774 [00:43<01:45, 133.70it/s]\u001b[A\n",
      "Training:  29%|███████████████████▎                                               | 5715/19774 [00:43<01:44, 135.10it/s]\u001b[A\n",
      "Training:  29%|███████████████████▍                                               | 5729/19774 [00:43<01:44, 134.36it/s]\u001b[A\n",
      "Training:  29%|███████████████████▍                                               | 5745/19774 [00:43<01:39, 141.07it/s]\u001b[A\n",
      "Training:  29%|███████████████████▌                                               | 5760/19774 [00:43<01:44, 134.60it/s]\u001b[A\n",
      "Training:  29%|███████████████████▌                                               | 5776/19774 [00:43<01:44, 134.13it/s]\u001b[A\n",
      "Training:  29%|███████████████████▌                                               | 5791/19774 [00:43<01:42, 136.26it/s]\u001b[A\n",
      "Training:  29%|███████████████████▋                                               | 5805/19774 [00:44<01:42, 136.28it/s]\u001b[A\n",
      "Training:  29%|███████████████████▋                                               | 5819/19774 [00:44<01:41, 137.17it/s]\u001b[A\n",
      "Training:  30%|███████████████████▊                                               | 5834/19774 [00:44<01:45, 132.54it/s]\u001b[A\n",
      "Training:  30%|███████████████████▊                                               | 5849/19774 [00:44<01:42, 136.51it/s]\u001b[A\n",
      "Training:  30%|███████████████████▊                                               | 5863/19774 [00:44<01:45, 131.37it/s]\u001b[A\n",
      "Training:  30%|███████████████████▉                                               | 5880/19774 [00:44<01:39, 140.00it/s]\u001b[A\n",
      "Training:  30%|███████████████████▉                                               | 5895/19774 [00:44<01:45, 132.13it/s]\u001b[A\n",
      "Training:  30%|████████████████████                                               | 5912/19774 [00:44<01:40, 138.07it/s]\u001b[A\n",
      "Training:  30%|████████████████████                                               | 5927/19774 [00:44<01:39, 139.82it/s]\u001b[A\n",
      "Training:  30%|████████████████████▏                                              | 5942/19774 [00:45<01:44, 131.82it/s]\u001b[A\n",
      "Training:  30%|████████████████████▏                                              | 5959/19774 [00:45<01:37, 141.02it/s]\u001b[A\n",
      "Training:  30%|████████████████████▏                                              | 5974/19774 [00:45<01:43, 133.74it/s]\u001b[A\n",
      "Training:  30%|████████████████████▎                                              | 5988/19774 [00:45<01:45, 130.62it/s]\u001b[A\n",
      "Training:  30%|████████████████████▎                                              | 6003/19774 [00:45<01:42, 134.29it/s]\u001b[A\n",
      "Training:  30%|████████████████████▍                                              | 6017/19774 [00:45<01:46, 128.69it/s]\u001b[A\n",
      "Training:  31%|████████████████████▍                                              | 6033/19774 [00:45<01:45, 129.79it/s]\u001b[A\n",
      "Training:  31%|████████████████████▍                                              | 6047/19774 [00:45<01:45, 129.80it/s]\u001b[A\n",
      "Training:  31%|████████████████████▌                                              | 6063/19774 [00:45<01:40, 136.29it/s]\u001b[A\n",
      "Training:  31%|████████████████████▌                                              | 6077/19774 [00:46<01:44, 131.58it/s]\u001b[A\n",
      "Training:  31%|████████████████████▋                                              | 6091/19774 [00:46<01:46, 128.12it/s]\u001b[A\n",
      "Training:  31%|████████████████████▋                                              | 6106/19774 [00:46<01:41, 134.09it/s]\u001b[A\n",
      "Training:  31%|████████████████████▋                                              | 6120/19774 [00:46<01:47, 126.91it/s]\u001b[A\n",
      "Training:  31%|████████████████████▊                                              | 6136/19774 [00:46<01:42, 132.49it/s]\u001b[A\n",
      "Training:  31%|████████████████████▊                                              | 6150/19774 [00:46<01:43, 131.41it/s]\u001b[A\n",
      "Training:  31%|████████████████████▉                                              | 6164/19774 [00:46<01:42, 132.49it/s]\u001b[A\n",
      "Training:  31%|████████████████████▉                                              | 6179/19774 [00:46<01:39, 136.32it/s]\u001b[A\n",
      "Training:  31%|████████████████████▉                                              | 6193/19774 [00:46<01:41, 133.83it/s]\u001b[A\n",
      "Training:  31%|█████████████████████                                              | 6207/19774 [00:47<01:40, 134.87it/s]\u001b[A\n",
      "Training:  31%|█████████████████████                                              | 6221/19774 [00:47<01:43, 130.51it/s]\u001b[A\n",
      "Training:  32%|█████████████████████▏                                             | 6237/19774 [00:47<01:38, 137.25it/s]\u001b[A\n",
      "Training:  32%|█████████████████████▏                                             | 6251/19774 [00:47<01:41, 133.11it/s]\u001b[A\n",
      "Training:  32%|█████████████████████▏                                             | 6266/19774 [00:47<01:38, 137.61it/s]\u001b[A\n",
      "Training:  32%|█████████████████████▎                                             | 6280/19774 [00:47<01:42, 131.75it/s]\u001b[A\n",
      "Training:  32%|█████████████████████▎                                             | 6296/19774 [00:47<01:37, 138.04it/s]\u001b[A\n",
      "Training:  32%|█████████████████████▍                                             | 6310/19774 [00:47<01:42, 131.82it/s]\u001b[A\n",
      "Training:  32%|█████████████████████▍                                             | 6324/19774 [00:47<01:43, 130.14it/s]\u001b[A\n",
      "Training:  32%|█████████████████████▍                                             | 6340/19774 [00:48<01:38, 136.93it/s]\u001b[A\n",
      "Training:  32%|█████████████████████▌                                             | 6354/19774 [00:48<01:47, 124.32it/s]\u001b[A\n",
      "Training:  32%|█████████████████████▌                                             | 6368/19774 [00:48<01:45, 126.91it/s]\u001b[A\n",
      "Training:  32%|█████████████████████▌                                             | 6381/19774 [00:48<01:45, 127.54it/s]\u001b[A\n",
      "Training:  32%|█████████████████████▋                                             | 6395/19774 [00:48<01:43, 129.79it/s]\u001b[A\n",
      "Training:  32%|█████████████████████▋                                             | 6409/19774 [00:48<01:41, 131.90it/s]\u001b[A\n",
      "Training:  32%|█████████████████████▊                                             | 6424/19774 [00:48<01:45, 126.98it/s]\u001b[A\n",
      "Training:  33%|█████████████████████▊                                             | 6440/19774 [00:48<01:38, 135.38it/s]\u001b[A\n",
      "Training:  33%|█████████████████████▊                                             | 6454/19774 [00:48<01:44, 128.05it/s]\u001b[A\n",
      "Training:  33%|█████████████████████▉                                             | 6470/19774 [00:49<01:37, 136.54it/s]\u001b[A\n",
      "Training:  33%|█████████████████████▉                                             | 6484/19774 [00:49<01:43, 128.85it/s]\u001b[A\n",
      "Training:  33%|██████████████████████                                             | 6498/19774 [00:49<01:41, 130.71it/s]\u001b[A\n",
      "Training:  33%|██████████████████████                                             | 6512/19774 [00:49<01:41, 130.22it/s]\u001b[A\n",
      "Training:  33%|██████████████████████                                             | 6526/19774 [00:49<01:44, 127.35it/s]\u001b[A\n",
      "Training:  33%|██████████████████████▏                                            | 6543/19774 [00:49<01:38, 134.70it/s]\u001b[A\n",
      "Training:  33%|██████████████████████▏                                            | 6557/19774 [00:49<01:39, 133.01it/s]\u001b[A\n",
      "Training:  33%|██████████████████████▎                                            | 6572/19774 [00:49<01:38, 134.12it/s]\u001b[A\n",
      "Training:  33%|██████████████████████▎                                            | 6586/19774 [00:49<01:37, 135.61it/s]\u001b[A\n",
      "Training:  33%|██████████████████████▎                                            | 6602/19774 [00:50<01:36, 136.19it/s]\u001b[A\n",
      "Training:  33%|██████████████████████▍                                            | 6616/19774 [00:50<01:37, 135.42it/s]\u001b[A\n",
      "Training:  34%|██████████████████████▍                                            | 6630/19774 [00:50<01:42, 127.83it/s]\u001b[A\n",
      "Training:  34%|██████████████████████▌                                            | 6645/19774 [00:50<01:39, 131.57it/s]\u001b[A\n",
      "Training:  34%|██████████████████████▌                                            | 6659/19774 [00:50<01:41, 128.88it/s]\u001b[A\n",
      "Training:  34%|██████████████████████▌                                            | 6672/19774 [00:50<01:44, 125.10it/s]\u001b[A\n",
      "Training:  34%|██████████████████████▋                                            | 6687/19774 [00:50<01:40, 129.69it/s]\u001b[A\n",
      "Training:  34%|██████████████████████▋                                            | 6701/19774 [00:50<01:40, 130.56it/s]\u001b[A\n",
      "Training:  34%|██████████████████████▊                                            | 6715/19774 [00:50<01:38, 132.53it/s]\u001b[A\n",
      "Training:  34%|██████████████████████▊                                            | 6730/19774 [00:51<01:37, 133.95it/s]\u001b[A\n",
      "Training:  34%|██████████████████████▊                                            | 6745/19774 [00:51<01:34, 137.60it/s]\u001b[A\n",
      "Training:  34%|██████████████████████▉                                            | 6759/19774 [00:51<01:39, 131.03it/s]\u001b[A\n",
      "Training:  34%|██████████████████████▉                                            | 6774/19774 [00:51<01:40, 129.09it/s]\u001b[A\n",
      "Training:  34%|██████████████████████▉                                            | 6788/19774 [00:51<01:38, 131.88it/s]\u001b[A\n",
      "Training:  34%|███████████████████████                                            | 6802/19774 [00:51<01:38, 131.59it/s]\u001b[A\n",
      "Training:  34%|███████████████████████                                            | 6817/19774 [00:51<01:34, 136.80it/s]\u001b[A\n",
      "Training:  35%|███████████████████████▏                                           | 6832/19774 [00:51<01:33, 138.72it/s]\u001b[A\n",
      "Training:  35%|███████████████████████▏                                           | 6846/19774 [00:51<01:35, 135.80it/s]\u001b[A\n",
      "Training:  35%|███████████████████████▏                                           | 6860/19774 [00:52<01:39, 129.25it/s]\u001b[A\n",
      "Training:  35%|███████████████████████▎                                           | 6875/19774 [00:52<01:35, 134.71it/s]\u001b[A\n",
      "Training:  35%|███████████████████████▎                                           | 6889/19774 [00:52<01:39, 129.87it/s]\u001b[A\n",
      "Training:  35%|███████████████████████▍                                           | 6906/19774 [00:52<01:32, 139.70it/s]\u001b[A\n",
      "Training:  35%|███████████████████████▍                                           | 6921/19774 [00:52<01:36, 133.58it/s]\u001b[A\n",
      "Training:  35%|███████████████████████▍                                           | 6935/19774 [00:52<01:38, 130.46it/s]\u001b[A\n",
      "Training:  35%|███████████████████████▌                                           | 6951/19774 [00:52<01:33, 137.02it/s]\u001b[A\n",
      "Training:  35%|███████████████████████▌                                           | 6965/19774 [00:52<01:36, 132.35it/s]\u001b[A\n",
      "Training:  35%|███████████████████████▋                                           | 6980/19774 [00:52<01:33, 136.96it/s]\u001b[A\n",
      "Training:  35%|███████████████████████▋                                           | 6994/19774 [00:53<01:37, 130.69it/s]\u001b[A\n",
      "Training:  35%|███████████████████████▋                                           | 7008/19774 [00:53<01:40, 126.94it/s]\u001b[A\n",
      "Training:  36%|███████████████████████▊                                           | 7024/19774 [00:53<01:34, 134.71it/s]\u001b[A\n",
      "Training:  36%|███████████████████████▊                                           | 7038/19774 [00:53<01:38, 129.14it/s]\u001b[A\n",
      "Training:  36%|███████████████████████▉                                           | 7054/19774 [00:53<01:34, 135.30it/s]\u001b[A\n",
      "Training:  36%|███████████████████████▉                                           | 7068/19774 [00:53<01:36, 131.36it/s]\u001b[A\n",
      "Training:  36%|████████████████████████                                           | 7084/19774 [00:53<01:36, 132.13it/s]\u001b[A\n",
      "Training:  36%|████████████████████████                                           | 7099/19774 [00:53<01:33, 134.93it/s]\u001b[A\n",
      "Training:  36%|████████████████████████                                           | 7116/19774 [00:53<01:28, 143.67it/s]\u001b[A\n",
      "Training:  36%|████████████████████████▏                                          | 7131/19774 [00:54<01:32, 136.15it/s]\u001b[A\n",
      "Training:  36%|████████████████████████▏                                          | 7145/19774 [00:54<01:33, 135.07it/s]\u001b[A\n",
      "Training:  36%|████████████████████████▎                                          | 7160/19774 [00:54<01:31, 138.33it/s]\u001b[A\n",
      "Training:  36%|████████████████████████▎                                          | 7174/19774 [00:54<01:34, 133.41it/s]\u001b[A\n",
      "Training:  36%|████████████████████████▎                                          | 7190/19774 [00:54<01:29, 140.45it/s]\u001b[A\n",
      "Training:  36%|████████████████████████▍                                          | 7205/19774 [00:54<01:32, 135.30it/s]\u001b[A\n",
      "Training:  37%|████████████████████████▍                                          | 7220/19774 [00:54<01:30, 138.91it/s]\u001b[A\n",
      "Training:  37%|████████████████████████▌                                          | 7234/19774 [00:54<01:35, 131.34it/s]\u001b[A\n",
      "Training:  37%|████████████████████████▌                                          | 7248/19774 [00:54<01:38, 127.04it/s]\u001b[A\n",
      "Training:  37%|████████████████████████▌                                          | 7263/19774 [00:55<01:34, 132.92it/s]\u001b[A\n",
      "Training:  37%|████████████████████████▋                                          | 7277/19774 [00:55<01:36, 129.17it/s]\u001b[A\n",
      "Training:  37%|████████████████████████▋                                          | 7293/19774 [00:55<01:31, 136.56it/s]\u001b[A\n",
      "Training:  37%|████████████████████████▊                                          | 7307/19774 [00:55<01:35, 130.91it/s]\u001b[A\n",
      "Training:  37%|████████████████████████▊                                          | 7321/19774 [00:55<01:36, 129.60it/s]\u001b[A\n",
      "Training:  37%|████████████████████████▊                                          | 7335/19774 [00:55<01:34, 131.95it/s]\u001b[A\n",
      "Training:  37%|████████████████████████▉                                          | 7350/19774 [00:55<01:33, 132.20it/s]\u001b[A\n",
      "Training:  37%|████████████████████████▉                                          | 7364/19774 [00:55<01:32, 134.27it/s]\u001b[A\n",
      "Training:  37%|█████████████████████████                                          | 7379/19774 [00:55<01:33, 132.46it/s]\u001b[A\n",
      "Training:  37%|█████████████████████████                                          | 7394/19774 [00:56<01:32, 134.08it/s]\u001b[A\n",
      "Training:  37%|█████████████████████████                                          | 7408/19774 [00:56<01:35, 129.75it/s]\u001b[A\n",
      "Training:  38%|█████████████████████████▏                                         | 7425/19774 [00:56<01:29, 138.22it/s]\u001b[A\n",
      "Training:  38%|█████████████████████████▏                                         | 7439/19774 [00:56<01:33, 131.43it/s]\u001b[A\n",
      "Training:  38%|█████████████████████████▎                                         | 7455/19774 [00:56<01:29, 138.32it/s]\u001b[A\n",
      "Training:  38%|█████████████████████████▎                                         | 7469/19774 [00:56<01:33, 131.82it/s]\u001b[A\n",
      "Training:  38%|█████████████████████████▎                                         | 7484/19774 [00:56<01:34, 129.38it/s]\u001b[A\n",
      "Training:  38%|█████████████████████████▍                                         | 7499/19774 [00:56<01:31, 134.06it/s]\u001b[A\n",
      "Training:  38%|█████████████████████████▍                                         | 7513/19774 [00:56<01:30, 134.94it/s]\u001b[A\n",
      "Training:  38%|█████████████████████████▌                                         | 7529/19774 [00:57<01:27, 139.63it/s]\u001b[A\n",
      "Training:  38%|█████████████████████████▌                                         | 7544/19774 [00:57<01:32, 132.44it/s]\u001b[A\n",
      "Training:  38%|█████████████████████████▌                                         | 7558/19774 [00:57<01:32, 131.46it/s]\u001b[A\n",
      "Training:  38%|█████████████████████████▋                                         | 7572/19774 [00:57<01:33, 130.96it/s]\u001b[A\n",
      "Training:  38%|█████████████████████████▋                                         | 7587/19774 [00:57<01:30, 134.21it/s]\u001b[A\n",
      "Training:  38%|█████████████████████████▊                                         | 7601/19774 [00:57<01:31, 133.31it/s]\u001b[A\n",
      "Training:  39%|█████████████████████████▊                                         | 7615/19774 [00:57<01:36, 125.98it/s]\u001b[A\n",
      "Training:  39%|█████████████████████████▊                                         | 7631/19774 [00:57<01:29, 135.02it/s]\u001b[A\n",
      "Training:  39%|█████████████████████████▉                                         | 7645/19774 [00:57<01:32, 131.02it/s]\u001b[A\n",
      "Training:  39%|█████████████████████████▉                                         | 7660/19774 [00:58<01:34, 128.82it/s]\u001b[A\n",
      "Training:  39%|██████████████████████████                                         | 7674/19774 [00:58<01:31, 131.77it/s]\u001b[A\n",
      "Training:  39%|██████████████████████████                                         | 7688/19774 [00:58<01:32, 131.16it/s]\u001b[A\n",
      "Training:  39%|██████████████████████████                                         | 7702/19774 [00:58<01:30, 133.19it/s]\u001b[A\n",
      "Training:  39%|██████████████████████████▏                                        | 7716/19774 [00:58<01:32, 130.49it/s]\u001b[A\n",
      "Training:  39%|██████████████████████████▏                                        | 7731/19774 [00:58<01:28, 135.67it/s]\u001b[A\n",
      "Training:  39%|██████████████████████████▏                                        | 7745/19774 [00:58<01:30, 133.26it/s]\u001b[A\n",
      "Training:  39%|██████████████████████████▎                                        | 7761/19774 [00:58<01:26, 138.91it/s]\u001b[A\n",
      "Training:  39%|██████████████████████████▎                                        | 7775/19774 [00:58<01:28, 135.45it/s]\u001b[A\n",
      "Training:  39%|██████████████████████████▍                                        | 7789/19774 [00:58<01:30, 131.97it/s]\u001b[A\n",
      "Training:  39%|██████████████████████████▍                                        | 7803/19774 [00:59<01:31, 130.71it/s]\u001b[A\n",
      "Training:  40%|██████████████████████████▍                                        | 7817/19774 [00:59<01:33, 127.82it/s]\u001b[A\n",
      "Training:  40%|██████████████████████████▌                                        | 7833/19774 [00:59<01:27, 136.09it/s]\u001b[A\n",
      "Training:  40%|██████████████████████████▌                                        | 7847/19774 [00:59<01:29, 133.84it/s]\u001b[A\n",
      "Training:  40%|██████████████████████████▋                                        | 7863/19774 [00:59<01:24, 140.63it/s]\u001b[A\n",
      "Training:  40%|██████████████████████████▋                                        | 7878/19774 [00:59<01:29, 132.26it/s]\u001b[A\n",
      "Training:  40%|██████████████████████████▋                                        | 7893/19774 [00:59<01:30, 130.89it/s]\u001b[A\n",
      "Training:  40%|██████████████████████████▊                                        | 7908/19774 [00:59<01:28, 134.54it/s]\u001b[A\n",
      "Training:  40%|██████████████████████████▊                                        | 7922/19774 [00:59<01:28, 134.25it/s]\u001b[A\n",
      "Training:  40%|██████████████████████████▉                                        | 7936/19774 [01:00<01:29, 132.48it/s]\u001b[A\n",
      "Training:  40%|██████████████████████████▉                                        | 7950/19774 [01:00<01:33, 126.66it/s]\u001b[A\n",
      "Training:  40%|██████████████████████████▉                                        | 7965/19774 [01:00<01:28, 132.71it/s]\u001b[A\n",
      "Training:  40%|███████████████████████████                                        | 7979/19774 [01:00<01:31, 128.22it/s]\u001b[A\n",
      "Training:  40%|███████████████████████████                                        | 7996/19774 [01:00<01:24, 139.45it/s]\u001b[A\n",
      "Training:  41%|███████████████████████████▏                                       | 8011/19774 [01:00<01:27, 133.98it/s]\u001b[A\n",
      "Training:  41%|███████████████████████████▏                                       | 8027/19774 [01:00<01:23, 140.33it/s]\u001b[A\n",
      "Training:  41%|███████████████████████████▏                                       | 8042/19774 [01:00<01:28, 131.98it/s]\u001b[A\n",
      "Training:  41%|███████████████████████████▎                                       | 8056/19774 [01:00<01:29, 131.19it/s]\u001b[A\n",
      "Training:  41%|███████████████████████████▎                                       | 8072/19774 [01:01<01:25, 136.76it/s]\u001b[A\n",
      "Training:  41%|███████████████████████████▍                                       | 8086/19774 [01:01<01:27, 132.96it/s]\u001b[A\n",
      "Training:  41%|███████████████████████████▍                                       | 8101/19774 [01:01<01:25, 137.27it/s]\u001b[A\n",
      "Training:  41%|███████████████████████████▍                                       | 8115/19774 [01:01<01:28, 132.06it/s]\u001b[A\n",
      "Training:  41%|███████████████████████████▌                                       | 8131/19774 [01:01<01:27, 133.17it/s]\u001b[A\n",
      "Training:  41%|███████████████████████████▌                                       | 8145/19774 [01:01<01:28, 132.07it/s]\u001b[A\n",
      "Training:  41%|███████████████████████████▋                                       | 8160/19774 [01:01<01:25, 135.31it/s]\u001b[A\n",
      "Training:  41%|███████████████████████████▋                                       | 8174/19774 [01:01<01:26, 133.52it/s]\u001b[A\n",
      "Training:  41%|███████████████████████████▋                                       | 8188/19774 [01:01<01:29, 128.91it/s]\u001b[A\n",
      "Training:  41%|███████████████████████████▊                                       | 8203/19774 [01:02<01:26, 134.25it/s]\u001b[A\n",
      "Training:  42%|███████████████████████████▊                                       | 8217/19774 [01:02<01:27, 131.49it/s]\u001b[A\n",
      "Training:  42%|███████████████████████████▉                                       | 8231/19774 [01:02<01:27, 132.17it/s]\u001b[A\n",
      "Training:  42%|███████████████████████████▉                                       | 8245/19774 [01:02<01:31, 126.64it/s]\u001b[A\n",
      "Training:  42%|███████████████████████████▉                                       | 8261/19774 [01:02<01:24, 135.51it/s]\u001b[A\n",
      "Training:  42%|████████████████████████████                                       | 8275/19774 [01:02<01:28, 130.08it/s]\u001b[A\n",
      "Training:  42%|████████████████████████████                                       | 8291/19774 [01:02<01:24, 135.50it/s]\u001b[A\n",
      "Training:  42%|████████████████████████████▏                                      | 8305/19774 [01:02<01:25, 133.87it/s]\u001b[A\n",
      "Training:  42%|████████████████████████████▏                                      | 8319/19774 [01:02<01:25, 133.69it/s]\u001b[A\n",
      "Training:  42%|████████████████████████████▏                                      | 8333/19774 [01:03<01:24, 135.33it/s]\u001b[A\n",
      "Training:  42%|████████████████████████████▎                                      | 8347/19774 [01:03<01:26, 131.98it/s]\u001b[A\n",
      "Training:  42%|████████████████████████████▎                                      | 8361/19774 [01:03<01:25, 133.07it/s]\u001b[A\n",
      "Training:  42%|████████████████████████████▍                                      | 8375/19774 [01:03<01:25, 132.92it/s]\u001b[A\n",
      "Training:  42%|████████████████████████████▍                                      | 8389/19774 [01:03<01:25, 133.01it/s]\u001b[A\n",
      "Training:  42%|████████████████████████████▍                                      | 8403/19774 [01:03<01:29, 126.93it/s]\u001b[A\n",
      "Training:  43%|████████████████████████████▌                                      | 8420/19774 [01:03<01:22, 137.23it/s]\u001b[A\n",
      "Training:  43%|████████████████████████████▌                                      | 8434/19774 [01:03<01:27, 129.78it/s]\u001b[A\n",
      "Training:  43%|████████████████████████████▌                                      | 8448/19774 [01:03<01:28, 127.98it/s]\u001b[A\n",
      "Training:  43%|████████████████████████████▋                                      | 8462/19774 [01:04<01:26, 130.87it/s]\u001b[A\n",
      "Training:  43%|████████████████████████████▋                                      | 8476/19774 [01:04<01:26, 130.36it/s]\u001b[A\n",
      "Training:  43%|████████████████████████████▊                                      | 8490/19774 [01:04<01:25, 132.24it/s]\u001b[A\n",
      "Training:  43%|████████████████████████████▊                                      | 8504/19774 [01:04<01:27, 129.19it/s]\u001b[A\n",
      "Training:  43%|████████████████████████████▊                                      | 8518/19774 [01:04<01:26, 130.07it/s]\u001b[A\n",
      "Training:  43%|████████████████████████████▉                                      | 8532/19774 [01:04<01:28, 127.43it/s]\u001b[A\n",
      "Training:  43%|████████████████████████████▉                                      | 8548/19774 [01:04<01:22, 135.40it/s]\u001b[A\n",
      "Training:  43%|█████████████████████████████                                      | 8562/19774 [01:04<01:24, 131.96it/s]\u001b[A\n",
      "Training:  43%|█████████████████████████████                                      | 8578/19774 [01:04<01:20, 138.32it/s]\u001b[A\n",
      "Training:  43%|█████████████████████████████                                      | 8592/19774 [01:05<01:23, 133.15it/s]\u001b[A\n",
      "Training:  44%|█████████████████████████████▏                                     | 8606/19774 [01:05<01:24, 132.31it/s]\u001b[A\n",
      "Training:  44%|█████████████████████████████▏                                     | 8620/19774 [01:05<01:22, 134.43it/s]\u001b[A\n",
      "Training:  44%|█████████████████████████████▎                                     | 8634/19774 [01:05<01:23, 133.73it/s]\u001b[A\n",
      "Training:  44%|█████████████████████████████▎                                     | 8649/19774 [01:05<01:21, 136.18it/s]\u001b[A\n",
      "Training:  44%|█████████████████████████████▎                                     | 8663/19774 [01:05<01:23, 133.87it/s]\u001b[A\n",
      "Training:  44%|█████████████████████████████▍                                     | 8679/19774 [01:05<01:18, 140.47it/s]\u001b[A\n",
      "Training:  44%|█████████████████████████████▍                                     | 8694/19774 [01:05<01:23, 132.12it/s]\u001b[A\n",
      "Training:  44%|█████████████████████████████▌                                     | 8710/19774 [01:05<01:20, 137.79it/s]\u001b[A\n",
      "Training:  44%|█████████████████████████████▌                                     | 8724/19774 [01:06<01:23, 131.58it/s]\u001b[A\n",
      "Training:  44%|█████████████████████████████▌                                     | 8738/19774 [01:06<01:25, 129.11it/s]\u001b[A\n",
      "Training:  44%|█████████████████████████████▋                                     | 8752/19774 [01:06<01:23, 131.86it/s]\u001b[A\n",
      "Training:  44%|█████████████████████████████▋                                     | 8766/19774 [01:06<01:22, 133.84it/s]\u001b[A\n",
      "Training:  44%|█████████████████████████████▋                                     | 8780/19774 [01:06<01:23, 131.95it/s]\u001b[A\n",
      "Training:  44%|█████████████████████████████▊                                     | 8794/19774 [01:06<01:25, 127.84it/s]\u001b[A\n",
      "Training:  45%|█████████████████████████████▊                                     | 8810/19774 [01:06<01:21, 134.18it/s]\u001b[A\n",
      "Training:  45%|█████████████████████████████▉                                     | 8824/19774 [01:06<01:24, 130.06it/s]\u001b[A\n",
      "Training:  45%|█████████████████████████████▉                                     | 8840/19774 [01:06<01:25, 127.90it/s]\u001b[A\n",
      "Training:  45%|█████████████████████████████▉                                     | 8854/19774 [01:07<01:23, 130.75it/s]\u001b[A\n",
      "Training:  45%|██████████████████████████████                                     | 8868/19774 [01:07<01:24, 128.54it/s]\u001b[A\n",
      "Training:  45%|██████████████████████████████                                     | 8881/19774 [01:07<01:25, 127.53it/s]\u001b[A\n",
      "Training:  45%|██████████████████████████████▏                                    | 8894/19774 [01:07<01:25, 126.82it/s]\u001b[A\n",
      "Training:  45%|██████████████████████████████▏                                    | 8909/19774 [01:07<01:21, 132.61it/s]\u001b[A\n",
      "Training:  45%|██████████████████████████████▏                                    | 8923/19774 [01:07<01:22, 131.52it/s]\u001b[A\n",
      "Training:  45%|██████████████████████████████▎                                    | 8937/19774 [01:07<01:21, 132.97it/s]\u001b[A\n",
      "Training:  45%|██████████████████████████████▎                                    | 8951/19774 [01:07<01:21, 132.47it/s]\u001b[A\n",
      "Training:  45%|██████████████████████████████▍                                    | 8965/19774 [01:07<01:20, 134.28it/s]\u001b[A\n",
      "Training:  45%|██████████████████████████████▍                                    | 8979/19774 [01:07<01:22, 130.58it/s]\u001b[A\n",
      "Training:  45%|██████████████████████████████▍                                    | 8994/19774 [01:08<01:20, 133.43it/s]\u001b[A\n",
      "Training:  46%|██████████████████████████████▌                                    | 9008/19774 [01:08<01:23, 129.63it/s]\u001b[A\n",
      "Training:  46%|██████████████████████████████▌                                    | 9024/19774 [01:08<01:18, 137.07it/s]\u001b[A\n",
      "Training:  46%|██████████████████████████████▌                                    | 9038/19774 [01:08<01:20, 133.67it/s]\u001b[A\n",
      "Training:  46%|██████████████████████████████▋                                    | 9055/19774 [01:08<01:15, 141.86it/s]\u001b[A\n",
      "Training:  46%|██████████████████████████████▋                                    | 9070/19774 [01:08<01:18, 136.77it/s]\u001b[A\n",
      "Training:  46%|██████████████████████████████▊                                    | 9084/19774 [01:08<01:17, 137.25it/s]\u001b[A\n",
      "Training:  46%|██████████████████████████████▊                                    | 9098/19774 [01:08<01:18, 136.43it/s]\u001b[A\n",
      "Training:  46%|██████████████████████████████▊                                    | 9112/19774 [01:08<01:18, 135.51it/s]\u001b[A\n",
      "Training:  46%|██████████████████████████████▉                                    | 9127/19774 [01:09<01:17, 136.75it/s]\u001b[A\n",
      "Training:  46%|██████████████████████████████▉                                    | 9142/19774 [01:09<01:16, 138.54it/s]\u001b[A\n",
      "Training:  46%|███████████████████████████████                                    | 9156/19774 [01:09<01:17, 137.29it/s]\u001b[A\n",
      "Training:  46%|███████████████████████████████                                    | 9170/19774 [01:09<01:22, 129.24it/s]\u001b[A\n",
      "Training:  46%|███████████████████████████████                                    | 9186/19774 [01:09<01:16, 137.75it/s]\u001b[A\n",
      "Training:  47%|███████████████████████████████▏                                   | 9200/19774 [01:09<01:20, 131.73it/s]\u001b[A\n",
      "Training:  47%|███████████████████████████████▏                                   | 9215/19774 [01:09<01:17, 136.80it/s]\u001b[A\n",
      "Training:  47%|███████████████████████████████▎                                   | 9229/19774 [01:09<01:20, 131.38it/s]\u001b[A\n",
      "Training:  47%|███████████████████████████████▎                                   | 9243/19774 [01:09<01:18, 133.31it/s]\u001b[A\n",
      "Training:  47%|███████████████████████████████▎                                   | 9257/19774 [01:10<01:18, 133.16it/s]\u001b[A\n",
      "Training:  47%|███████████████████████████████▍                                   | 9271/19774 [01:10<01:20, 130.96it/s]\u001b[A\n",
      "Training:  47%|███████████████████████████████▍                                   | 9285/19774 [01:10<01:19, 131.67it/s]\u001b[A\n",
      "Training:  47%|███████████████████████████████▌                                   | 9299/19774 [01:10<01:21, 128.39it/s]\u001b[A\n",
      "Training:  47%|███████████████████████████████▌                                   | 9313/19774 [01:10<01:20, 130.49it/s]\u001b[A\n",
      "Training:  47%|███████████████████████████████▌                                   | 9327/19774 [01:10<01:22, 126.97it/s]\u001b[A\n",
      "Training:  47%|███████████████████████████████▋                                   | 9341/19774 [01:10<01:19, 130.43it/s]\u001b[A\n",
      "Training:  47%|███████████████████████████████▋                                   | 9355/19774 [01:10<01:23, 124.87it/s]\u001b[A\n",
      "Training:  47%|███████████████████████████████▊                                   | 9371/19774 [01:10<01:19, 130.29it/s]\u001b[A\n",
      "Training:  47%|███████████████████████████████▊                                   | 9385/19774 [01:11<01:21, 127.96it/s]\u001b[A\n",
      "Training:  48%|███████████████████████████████▊                                   | 9399/19774 [01:11<01:19, 130.37it/s]\u001b[A\n",
      "Training:  48%|███████████████████████████████▉                                   | 9413/19774 [01:11<01:19, 130.34it/s]\u001b[A\n",
      "Training:  48%|███████████████████████████████▉                                   | 9427/19774 [01:11<01:19, 129.97it/s]\u001b[A\n",
      "Training:  48%|███████████████████████████████▉                                   | 9441/19774 [01:11<01:20, 129.10it/s]\u001b[A\n",
      "Training:  48%|████████████████████████████████                                   | 9454/19774 [01:11<01:20, 128.22it/s]\u001b[A\n",
      "Training:  48%|████████████████████████████████                                   | 9468/19774 [01:11<01:18, 130.48it/s]\u001b[A\n",
      "Training:  48%|████████████████████████████████▏                                  | 9482/19774 [01:11<01:20, 127.84it/s]\u001b[A\n",
      "Training:  48%|████████████████████████████████▏                                  | 9498/19774 [01:11<01:16, 134.74it/s]\u001b[A\n",
      "Training:  48%|████████████████████████████████▏                                  | 9512/19774 [01:12<01:20, 128.02it/s]\u001b[A\n",
      "Training:  48%|████████████████████████████████▎                                  | 9528/19774 [01:12<01:14, 136.62it/s]\u001b[A\n",
      "Training:  48%|████████████████████████████████▎                                  | 9542/19774 [01:12<01:19, 128.94it/s]\u001b[A\n",
      "Training:  48%|████████████████████████████████▍                                  | 9556/19774 [01:12<01:20, 127.70it/s]\u001b[A\n",
      "Training:  48%|████████████████████████████████▍                                  | 9572/19774 [01:12<01:15, 134.25it/s]\u001b[A\n",
      "Training:  48%|████████████████████████████████▍                                  | 9586/19774 [01:12<01:17, 131.45it/s]\u001b[A\n",
      "Training:  49%|████████████████████████████████▌                                  | 9601/19774 [01:12<01:15, 134.93it/s]\u001b[A\n",
      "Training:  49%|████████████████████████████████▌                                  | 9615/19774 [01:12<01:17, 131.93it/s]\u001b[A\n",
      "Training:  49%|████████████████████████████████▋                                  | 9631/19774 [01:12<01:13, 138.63it/s]\u001b[A\n",
      "Training:  49%|████████████████████████████████▋                                  | 9645/19774 [01:12<01:16, 132.32it/s]\u001b[A\n",
      "Training:  49%|████████████████████████████████▋                                  | 9660/19774 [01:13<01:14, 134.92it/s]\u001b[A\n",
      "Training:  49%|████████████████████████████████▊                                  | 9674/19774 [01:13<01:17, 130.67it/s]\u001b[A\n",
      "Training:  49%|████████████████████████████████▊                                  | 9689/19774 [01:13<01:18, 128.23it/s]\u001b[A\n",
      "Training:  49%|████████████████████████████████▊                                  | 9702/19774 [01:13<01:18, 127.80it/s]\u001b[A\n",
      "Training:  49%|████████████████████████████████▉                                  | 9715/19774 [01:13<01:19, 125.84it/s]\u001b[A\n",
      "Training:  49%|████████████████████████████████▉                                  | 9729/19774 [01:13<01:17, 129.16it/s]\u001b[A\n",
      "Training:  49%|█████████████████████████████████                                  | 9742/19774 [01:13<01:17, 128.89it/s]\u001b[A\n",
      "Training:  49%|█████████████████████████████████                                  | 9756/19774 [01:13<01:16, 131.31it/s]\u001b[A\n",
      "Training:  49%|█████████████████████████████████                                  | 9770/19774 [01:13<01:17, 129.51it/s]\u001b[A\n",
      "Training:  49%|█████████████████████████████████▏                                 | 9785/19774 [01:14<01:14, 133.83it/s]\u001b[A\n",
      "Training:  50%|█████████████████████████████████▏                                 | 9799/19774 [01:14<01:16, 129.91it/s]\u001b[A\n",
      "Training:  50%|█████████████████████████████████▎                                 | 9814/19774 [01:14<01:14, 133.40it/s]\u001b[A\n",
      "Training:  50%|█████████████████████████████████▎                                 | 9828/19774 [01:14<01:17, 128.44it/s]\u001b[A\n",
      "Training:  50%|█████████████████████████████████▎                                 | 9843/19774 [01:14<01:16, 129.78it/s]\u001b[A\n",
      "Training:  50%|█████████████████████████████████▍                                 | 9857/19774 [01:14<01:16, 130.24it/s]\u001b[A\n",
      "Training:  50%|█████████████████████████████████▍                                 | 9871/19774 [01:14<01:17, 128.51it/s]\u001b[A\n",
      "Training:  50%|█████████████████████████████████▍                                 | 9886/19774 [01:14<01:14, 132.71it/s]\u001b[A\n",
      "Training:  50%|█████████████████████████████████▌                                 | 9900/19774 [01:14<01:15, 130.93it/s]\u001b[A\n",
      "Training:  50%|█████████████████████████████████▌                                 | 9915/19774 [01:15<01:13, 134.07it/s]\u001b[A\n",
      "Training:  50%|█████████████████████████████████▋                                 | 9929/19774 [01:15<01:15, 130.29it/s]\u001b[A\n",
      "Training:  50%|█████████████████████████████████▋                                 | 9945/19774 [01:15<01:12, 136.37it/s]\u001b[A\n",
      "Training:  50%|█████████████████████████████████▋                                 | 9959/19774 [01:15<01:15, 129.16it/s]\u001b[A\n",
      "Training:  50%|█████████████████████████████████▊                                 | 9975/19774 [01:15<01:15, 130.50it/s]\u001b[A\n",
      "Training:  51%|█████████████████████████████████▊                                 | 9989/19774 [01:15<01:15, 129.90it/s]\u001b[A\n",
      "Training:  51%|█████████████████████████████████▍                                | 10003/19774 [01:15<01:15, 129.86it/s]\u001b[A\n",
      "Training:  51%|█████████████████████████████████▍                                | 10018/19774 [01:15<01:12, 134.29it/s]\u001b[A\n",
      "Training:  51%|█████████████████████████████████▍                                | 10032/19774 [01:15<01:12, 134.09it/s]\u001b[A\n",
      "Training:  51%|█████████████████████████████████▌                                | 10047/19774 [01:16<01:10, 138.27it/s]\u001b[A\n",
      "Training:  51%|█████████████████████████████████▌                                | 10061/19774 [01:16<01:14, 129.76it/s]\u001b[A\n",
      "Training:  51%|█████████████████████████████████▋                                | 10076/19774 [01:16<01:12, 133.84it/s]\u001b[A\n",
      "Training:  51%|█████████████████████████████████▋                                | 10090/19774 [01:16<01:15, 129.01it/s]\u001b[A\n",
      "Training:  51%|█████████████████████████████████▋                                | 10105/19774 [01:16<01:12, 133.25it/s]\u001b[A\n",
      "Training:  51%|█████████████████████████████████▊                                | 10119/19774 [01:16<01:14, 130.12it/s]\u001b[A\n",
      "Training:  51%|█████████████████████████████████▊                                | 10133/19774 [01:16<01:13, 131.68it/s]\u001b[A\n",
      "Training:  51%|█████████████████████████████████▊                                | 10149/19774 [01:16<01:09, 138.05it/s]\u001b[A\n",
      "Training:  51%|█████████████████████████████████▉                                | 10163/19774 [01:16<01:14, 129.86it/s]\u001b[A\n",
      "Training:  51%|█████████████████████████████████▉                                | 10177/19774 [01:17<01:14, 129.27it/s]\u001b[A\n",
      "Training:  52%|██████████████████████████████████                                | 10193/19774 [01:17<01:10, 136.68it/s]\u001b[A\n",
      "Training:  52%|██████████████████████████████████                                | 10207/19774 [01:17<01:11, 133.75it/s]\u001b[A\n",
      "Training:  52%|██████████████████████████████████                                | 10222/19774 [01:17<01:10, 135.89it/s]\u001b[A\n",
      "Training:  52%|██████████████████████████████████▏                               | 10236/19774 [01:17<01:11, 133.72it/s]\u001b[A\n",
      "Training:  52%|██████████████████████████████████▏                               | 10250/19774 [01:17<01:10, 135.28it/s]\u001b[A\n",
      "Training:  52%|██████████████████████████████████▎                               | 10264/19774 [01:17<01:12, 131.87it/s]\u001b[A\n",
      "Training:  52%|██████████████████████████████████▎                               | 10280/19774 [01:17<01:08, 139.28it/s]\u001b[A\n",
      "Training:  52%|██████████████████████████████████▎                               | 10294/19774 [01:17<01:11, 133.52it/s]\u001b[A\n",
      "Training:  52%|██████████████████████████████████▍                               | 10310/19774 [01:18<01:08, 138.98it/s]\u001b[A\n",
      "Training:  52%|██████████████████████████████████▍                               | 10324/19774 [01:18<01:10, 133.74it/s]\u001b[A\n",
      "Training:  52%|██████████████████████████████████▌                               | 10341/19774 [01:18<01:06, 142.04it/s]\u001b[A\n",
      "Training:  52%|██████████████████████████████████▌                               | 10356/19774 [01:18<01:10, 134.25it/s]\u001b[A\n",
      "Training:  52%|██████████████████████████████████▌                               | 10370/19774 [01:18<01:10, 132.71it/s]\u001b[A\n",
      "Training:  53%|██████████████████████████████████▋                               | 10385/19774 [01:18<01:09, 135.84it/s]\u001b[A\n",
      "Training:  53%|██████████████████████████████████▋                               | 10399/19774 [01:18<01:10, 133.01it/s]\u001b[A\n",
      "Training:  53%|██████████████████████████████████▊                               | 10414/19774 [01:18<01:08, 135.87it/s]\u001b[A\n",
      "Training:  53%|██████████████████████████████████▊                               | 10428/19774 [01:18<01:10, 131.86it/s]\u001b[A\n",
      "Training:  53%|██████████████████████████████████▊                               | 10443/19774 [01:19<01:09, 134.73it/s]\u001b[A\n",
      "Training:  53%|██████████████████████████████████▉                               | 10457/19774 [01:19<01:12, 128.16it/s]\u001b[A\n",
      "Training:  53%|██████████████████████████████████▉                               | 10473/19774 [01:19<01:08, 135.09it/s]\u001b[A\n",
      "Training:  53%|███████████████████████████████████                               | 10487/19774 [01:19<01:11, 130.26it/s]\u001b[A\n",
      "Training:  53%|███████████████████████████████████                               | 10502/19774 [01:19<01:11, 129.53it/s]\u001b[A\n",
      "Training:  53%|███████████████████████████████████                               | 10517/19774 [01:19<01:08, 134.77it/s]\u001b[A\n",
      "Training:  53%|███████████████████████████████████▏                              | 10532/19774 [01:19<01:08, 135.67it/s]\u001b[A\n",
      "Training:  53%|███████████████████████████████████▏                              | 10547/19774 [01:19<01:06, 138.02it/s]\u001b[A\n",
      "Training:  53%|███████████████████████████████████▏                              | 10561/19774 [01:19<01:07, 136.90it/s]\u001b[A\n",
      "Training:  53%|███████████████████████████████████▎                              | 10578/19774 [01:20<01:03, 144.99it/s]\u001b[A\n",
      "Training:  54%|███████████████████████████████████▎                              | 10593/19774 [01:20<01:07, 135.34it/s]\u001b[A\n",
      "Training:  54%|███████████████████████████████████▍                              | 10607/19774 [01:20<01:07, 134.91it/s]\u001b[A\n",
      "Training:  54%|███████████████████████████████████▍                              | 10621/19774 [01:20<01:08, 134.27it/s]\u001b[A\n",
      "Training:  54%|███████████████████████████████████▍                              | 10635/19774 [01:20<01:08, 132.96it/s]\u001b[A\n",
      "Training:  54%|███████████████████████████████████▌                              | 10650/19774 [01:20<01:06, 136.43it/s]\u001b[A\n",
      "Training:  54%|███████████████████████████████████▌                              | 10664/19774 [01:20<01:07, 134.08it/s]\u001b[A\n",
      "Training:  54%|███████████████████████████████████▋                              | 10679/19774 [01:20<01:06, 137.59it/s]\u001b[A\n",
      "Training:  54%|███████████████████████████████████▋                              | 10693/19774 [01:20<01:07, 134.18it/s]\u001b[A\n",
      "Training:  54%|███████████████████████████████████▋                              | 10707/19774 [01:20<01:07, 134.07it/s]\u001b[A\n",
      "Training:  54%|███████████████████████████████████▊                              | 10721/19774 [01:21<01:08, 131.47it/s]\u001b[A\n",
      "Training:  54%|███████████████████████████████████▊                              | 10736/19774 [01:21<01:06, 135.13it/s]\u001b[A\n",
      "Training:  54%|███████████████████████████████████▉                              | 10750/19774 [01:21<01:10, 127.44it/s]\u001b[A\n",
      "Training:  54%|███████████████████████████████████▉                              | 10765/19774 [01:21<01:07, 133.59it/s]\u001b[A\n",
      "Training:  55%|███████████████████████████████████▉                              | 10779/19774 [01:21<01:09, 129.50it/s]\u001b[A\n",
      "Training:  55%|████████████████████████████████████                              | 10794/19774 [01:21<01:09, 129.89it/s]\u001b[A\n",
      "Training:  55%|████████████████████████████████████                              | 10809/19774 [01:21<01:07, 133.08it/s]\u001b[A\n",
      "Training:  55%|████████████████████████████████████▏                             | 10824/19774 [01:21<01:07, 132.99it/s]\u001b[A\n",
      "Training:  55%|████████████████████████████████████▏                             | 10839/19774 [01:21<01:04, 137.56it/s]\u001b[A\n",
      "Training:  55%|████████████████████████████████████▏                             | 10853/19774 [01:22<01:07, 132.14it/s]\u001b[A\n",
      "Training:  55%|████████████████████████████████████▎                             | 10868/19774 [01:22<01:05, 136.04it/s]\u001b[A\n",
      "Training:  55%|████████████████████████████████████▎                             | 10882/19774 [01:22<01:07, 132.27it/s]\u001b[A\n",
      "Training:  55%|████████████████████████████████████▎                             | 10896/19774 [01:22<01:07, 131.71it/s]\u001b[A\n",
      "Training:  55%|████████████████████████████████████▍                             | 10912/19774 [01:22<01:04, 137.44it/s]\u001b[A\n",
      "Training:  55%|████████████████████████████████████▍                             | 10926/19774 [01:22<01:05, 134.48it/s]\u001b[A\n",
      "Training:  55%|████████████████████████████████████▌                             | 10940/19774 [01:22<01:05, 135.13it/s]\u001b[A\n",
      "Training:  55%|████████████████████████████████████▌                             | 10954/19774 [01:22<01:06, 132.28it/s]\u001b[A\n",
      "Training:  55%|████████████████████████████████████▌                             | 10968/19774 [01:22<01:05, 133.70it/s]\u001b[A\n",
      "Training:  56%|████████████████████████████████████▋                             | 10982/19774 [01:23<01:07, 129.42it/s]\u001b[A\n",
      "Training:  56%|████████████████████████████████████▋                             | 10998/19774 [01:23<01:03, 137.63it/s]\u001b[A\n",
      "Training:  56%|████████████████████████████████████▊                             | 11012/19774 [01:23<01:05, 132.95it/s]\u001b[A\n",
      "Training:  56%|████████████████████████████████████▊                             | 11026/19774 [01:23<01:07, 129.35it/s]\u001b[A\n",
      "Training:  56%|████████████████████████████████████▊                             | 11042/19774 [01:23<01:03, 136.98it/s]\u001b[A\n",
      "Training:  56%|████████████████████████████████████▉                             | 11056/19774 [01:23<01:04, 135.99it/s]\u001b[A\n",
      "Training:  56%|████████████████████████████████████▉                             | 11071/19774 [01:23<01:02, 138.95it/s]\u001b[A\n",
      "Training:  56%|████████████████████████████████████▉                             | 11085/19774 [01:23<01:06, 130.76it/s]\u001b[A\n",
      "Training:  56%|█████████████████████████████████████                             | 11101/19774 [01:23<01:03, 137.05it/s]\u001b[A\n",
      "Training:  56%|█████████████████████████████████████                             | 11115/19774 [01:24<01:06, 129.51it/s]\u001b[A\n",
      "Training:  56%|█████████████████████████████████████▏                            | 11129/19774 [01:24<01:09, 124.57it/s]\u001b[A\n",
      "Training:  56%|█████████████████████████████████████▏                            | 11142/19774 [01:24<01:08, 125.30it/s]\u001b[A\n",
      "Training:  56%|█████████████████████████████████████▏                            | 11157/19774 [01:24<01:05, 131.27it/s]\u001b[A\n",
      "Training:  56%|█████████████████████████████████████▎                            | 11171/19774 [01:24<01:05, 132.19it/s]\u001b[A\n",
      "Training:  57%|█████████████████████████████████████▎                            | 11185/19774 [01:24<01:05, 132.02it/s]\u001b[A\n",
      "Training:  57%|█████████████████████████████████████▍                            | 11199/19774 [01:24<01:06, 128.61it/s]\u001b[A\n",
      "Training:  57%|█████████████████████████████████████▍                            | 11213/19774 [01:24<01:05, 129.97it/s]\u001b[A\n",
      "Training:  57%|█████████████████████████████████████▍                            | 11227/19774 [01:24<01:06, 128.42it/s]\u001b[A\n",
      "Training:  57%|█████████████████████████████████████▌                            | 11242/19774 [01:25<01:03, 134.41it/s]\u001b[A\n",
      "Training:  57%|█████████████████████████████████████▌                            | 11256/19774 [01:25<01:06, 128.91it/s]\u001b[A\n",
      "Training:  57%|█████████████████████████████████████▌                            | 11269/19774 [01:25<01:07, 125.43it/s]\u001b[A\n",
      "Training:  57%|█████████████████████████████████████▋                            | 11284/19774 [01:25<01:05, 130.30it/s]\u001b[A\n",
      "Training:  57%|█████████████████████████████████████▋                            | 11298/19774 [01:25<01:06, 128.41it/s]\u001b[A\n",
      "Training:  57%|█████████████████████████████████████▊                            | 11314/19774 [01:25<01:01, 136.66it/s]\u001b[A\n",
      "Training:  57%|█████████████████████████████████████▊                            | 11328/19774 [01:25<01:03, 132.20it/s]\u001b[A\n",
      "Training:  57%|█████████████████████████████████████▊                            | 11345/19774 [01:25<01:00, 139.85it/s]\u001b[A\n",
      "Training:  57%|█████████████████████████████████████▉                            | 11360/19774 [01:25<01:02, 134.42it/s]\u001b[A\n",
      "Training:  58%|█████████████████████████████████████▉                            | 11374/19774 [01:26<01:03, 133.22it/s]\u001b[A\n",
      "Training:  58%|██████████████████████████████████████                            | 11389/19774 [01:26<01:00, 137.82it/s]\u001b[A\n",
      "Training:  58%|██████████████████████████████████████                            | 11403/19774 [01:26<01:04, 130.53it/s]\u001b[A\n",
      "Training:  58%|██████████████████████████████████████                            | 11417/19774 [01:26<01:03, 132.63it/s]\u001b[A\n",
      "Training:  58%|██████████████████████████████████████▏                           | 11431/19774 [01:26<01:03, 131.07it/s]\u001b[A\n",
      "Training:  58%|██████████████████████████████████████▏                           | 11448/19774 [01:26<01:01, 135.16it/s]\u001b[A\n",
      "Training:  58%|██████████████████████████████████████▎                           | 11462/19774 [01:26<01:02, 133.35it/s]\u001b[A\n",
      "Training:  58%|██████████████████████████████████████▎                           | 11476/19774 [01:26<01:02, 132.13it/s]\u001b[A\n",
      "Training:  58%|██████████████████████████████████████▎                           | 11491/19774 [01:26<01:00, 135.82it/s]\u001b[A\n",
      "Training:  58%|██████████████████████████████████████▍                           | 11505/19774 [01:27<01:03, 129.46it/s]\u001b[A\n",
      "Training:  58%|██████████████████████████████████████▍                           | 11519/19774 [01:27<01:06, 123.80it/s]\u001b[A\n",
      "Training:  58%|██████████████████████████████████████▍                           | 11534/19774 [01:27<01:04, 128.35it/s]\u001b[A\n",
      "Training:  58%|██████████████████████████████████████▌                           | 11548/19774 [01:27<01:02, 131.37it/s]\u001b[A\n",
      "Training:  58%|██████████████████████████████████████▌                           | 11562/19774 [01:27<01:01, 132.64it/s]\u001b[A\n",
      "Training:  59%|██████████████████████████████████████▋                           | 11576/19774 [01:27<01:03, 128.45it/s]\u001b[A\n",
      "Training:  59%|██████████████████████████████████████▋                           | 11591/19774 [01:27<01:01, 133.75it/s]\u001b[A\n",
      "Training:  59%|██████████████████████████████████████▋                           | 11605/19774 [01:27<01:05, 124.96it/s]\u001b[A\n",
      "Training:  59%|██████████████████████████████████████▊                           | 11618/19774 [01:27<01:05, 124.60it/s]\u001b[A\n",
      "Training:  59%|██████████████████████████████████████▊                           | 11635/19774 [01:28<01:00, 134.77it/s]\u001b[A\n",
      "Training:  59%|██████████████████████████████████████▉                           | 11649/19774 [01:28<01:03, 128.66it/s]\u001b[A\n",
      "Training:  59%|██████████████████████████████████████▉                           | 11664/19774 [01:28<01:02, 129.20it/s]\u001b[A\n",
      "Training:  59%|██████████████████████████████████████▉                           | 11679/19774 [01:28<01:00, 134.33it/s]\u001b[A\n",
      "Training:  59%|███████████████████████████████████████                           | 11694/19774 [01:28<01:01, 132.24it/s]\u001b[A\n",
      "Training:  59%|███████████████████████████████████████                           | 11709/19774 [01:28<00:59, 136.57it/s]\u001b[A\n",
      "Training:  59%|███████████████████████████████████████▏                          | 11723/19774 [01:28<01:02, 128.43it/s]\u001b[A\n",
      "Training:  59%|███████████████████████████████████████▏                          | 11740/19774 [01:28<00:58, 136.90it/s]\u001b[A\n",
      "Training:  59%|███████████████████████████████████████▏                          | 11754/19774 [01:28<01:00, 131.88it/s]\u001b[A\n",
      "Training:  60%|███████████████████████████████████████▎                          | 11768/19774 [01:29<01:03, 126.02it/s]\u001b[A\n",
      "Training:  60%|███████████████████████████████████████▎                          | 11784/19774 [01:29<01:00, 131.72it/s]\u001b[A\n",
      "Training:  60%|███████████████████████████████████████▍                          | 11798/19774 [01:29<01:01, 129.93it/s]\u001b[A\n",
      "Training:  60%|███████████████████████████████████████▍                          | 11812/19774 [01:29<01:02, 127.64it/s]\u001b[A\n",
      "Training:  60%|███████████████████████████████████████▍                          | 11827/19774 [01:29<01:00, 132.14it/s]\u001b[A\n",
      "Training:  60%|███████████████████████████████████████▌                          | 11841/19774 [01:29<01:01, 128.01it/s]\u001b[A\n",
      "Training:  60%|███████████████████████████████████████▌                          | 11856/19774 [01:29<00:59, 133.50it/s]\u001b[A\n",
      "Training:  60%|███████████████████████████████████████▌                          | 11870/19774 [01:29<01:02, 126.96it/s]\u001b[A\n",
      "Training:  60%|███████████████████████████████████████▋                          | 11884/19774 [01:29<01:05, 120.54it/s]\u001b[A\n",
      "Training:  60%|███████████████████████████████████████▋                          | 11898/19774 [01:30<01:03, 124.33it/s]\u001b[A\n",
      "Training:  60%|███████████████████████████████████████▊                          | 11911/19774 [01:30<01:04, 121.39it/s]\u001b[A\n",
      "Training:  60%|███████████████████████████████████████▊                          | 11924/19774 [01:30<01:05, 119.76it/s]\u001b[A\n",
      "Training:  60%|███████████████████████████████████████▊                          | 11939/19774 [01:30<01:01, 127.96it/s]\u001b[A\n",
      "Training:  60%|███████████████████████████████████████▉                          | 11952/19774 [01:30<01:02, 124.71it/s]\u001b[A\n",
      "Training:  61%|███████████████████████████████████████▉                          | 11965/19774 [01:30<01:01, 126.07it/s]\u001b[A\n",
      "Training:  61%|███████████████████████████████████████▉                          | 11980/19774 [01:30<00:58, 132.88it/s]\u001b[A\n",
      "Training:  61%|████████████████████████████████████████                          | 11994/19774 [01:30<01:00, 127.66it/s]\u001b[A\n",
      "Training:  61%|████████████████████████████████████████                          | 12009/19774 [01:30<00:58, 132.87it/s]\u001b[A\n",
      "Training:  61%|████████████████████████████████████████▏                         | 12023/19774 [01:31<00:59, 129.21it/s]\u001b[A\n",
      "Training:  61%|████████████████████████████████████████▏                         | 12037/19774 [01:31<00:59, 130.58it/s]\u001b[A\n",
      "Training:  61%|████████████████████████████████████████▏                         | 12051/19774 [01:31<01:01, 126.38it/s]\u001b[A\n",
      "Training:  61%|████████████████████████████████████████▎                         | 12065/19774 [01:31<01:03, 122.26it/s]\u001b[A\n",
      "Training:  61%|████████████████████████████████████████▎                         | 12080/19774 [01:31<00:59, 129.51it/s]\u001b[A\n",
      "Training:  61%|████████████████████████████████████████▎                         | 12094/19774 [01:31<00:59, 129.56it/s]\u001b[A\n",
      "Training:  61%|████████████████████████████████████████▍                         | 12109/19774 [01:31<00:57, 133.66it/s]\u001b[A\n",
      "Training:  61%|████████████████████████████████████████▍                         | 12123/19774 [01:31<01:00, 126.26it/s]\u001b[A\n",
      "Training:  61%|████████████████████████████████████████▌                         | 12138/19774 [01:31<00:58, 130.96it/s]\u001b[A\n",
      "Training:  61%|████████████████████████████████████████▌                         | 12152/19774 [01:32<00:58, 129.27it/s]\u001b[A\n",
      "Training:  62%|████████████████████████████████████████▌                         | 12167/19774 [01:32<00:56, 134.20it/s]\u001b[A\n",
      "Training:  62%|████████████████████████████████████████▋                         | 12181/19774 [01:32<00:57, 132.13it/s]\u001b[A\n",
      "Training:  62%|████████████████████████████████████████▋                         | 12195/19774 [01:32<00:58, 129.81it/s]\u001b[A\n",
      "Training:  62%|████████████████████████████████████████▊                         | 12211/19774 [01:32<00:57, 130.47it/s]\u001b[A\n",
      "Training:  62%|████████████████████████████████████████▊                         | 12225/19774 [01:32<00:58, 129.77it/s]\u001b[A\n",
      "Training:  62%|████████████████████████████████████████▊                         | 12238/19774 [01:32<00:58, 128.80it/s]\u001b[A\n",
      "Training:  62%|████████████████████████████████████████▉                         | 12252/19774 [01:32<00:57, 131.25it/s]\u001b[A\n",
      "Training:  62%|████████████████████████████████████████▉                         | 12266/19774 [01:32<00:58, 129.04it/s]\u001b[A\n",
      "Training:  62%|████████████████████████████████████████▉                         | 12281/19774 [01:33<00:56, 132.67it/s]\u001b[A\n",
      "Training:  62%|█████████████████████████████████████████                         | 12295/19774 [01:33<00:57, 129.80it/s]\u001b[A\n",
      "Training:  62%|█████████████████████████████████████████                         | 12309/19774 [01:33<00:56, 132.09it/s]\u001b[A\n",
      "Training:  62%|█████████████████████████████████████████▏                        | 12323/19774 [01:33<00:58, 127.57it/s]\u001b[A\n",
      "Training:  62%|█████████████████████████████████████████▏                        | 12336/19774 [01:33<00:58, 126.24it/s]\u001b[A\n",
      "Training:  62%|█████████████████████████████████████████▏                        | 12349/19774 [01:33<00:58, 126.58it/s]\u001b[A\n",
      "Training:  63%|█████████████████████████████████████████▎                        | 12362/19774 [01:33<00:58, 125.97it/s]\u001b[A\n",
      "Training:  63%|█████████████████████████████████████████▎                        | 12376/19774 [01:33<00:57, 128.28it/s]\u001b[A\n",
      "Training:  63%|█████████████████████████████████████████▎                        | 12389/19774 [01:33<00:58, 127.13it/s]\u001b[A\n",
      "Training:  63%|█████████████████████████████████████████▍                        | 12404/19774 [01:33<00:55, 131.75it/s]\u001b[A\n",
      "Training:  63%|█████████████████████████████████████████▍                        | 12418/19774 [01:34<00:57, 128.31it/s]\u001b[A\n",
      "Training:  63%|█████████████████████████████████████████▌                        | 12435/19774 [01:34<00:52, 139.63it/s]\u001b[A\n",
      "Training:  63%|█████████████████████████████████████████▌                        | 12450/19774 [01:34<00:55, 133.15it/s]\u001b[A\n",
      "Training:  63%|█████████████████████████████████████████▌                        | 12464/19774 [01:34<00:56, 130.24it/s]\u001b[A\n",
      "Training:  63%|█████████████████████████████████████████▋                        | 12482/19774 [01:34<00:51, 140.91it/s]\u001b[A\n",
      "Training:  63%|█████████████████████████████████████████▋                        | 12497/19774 [01:34<00:53, 135.87it/s]\u001b[A\n",
      "Training:  63%|█████████████████████████████████████████▊                        | 12511/19774 [01:34<00:55, 130.97it/s]\u001b[A\n",
      "Training:  63%|█████████████████████████████████████████▊                        | 12526/19774 [01:34<00:53, 134.76it/s]\u001b[A\n",
      "Training:  63%|█████████████████████████████████████████▊                        | 12540/19774 [01:34<00:56, 128.46it/s]\u001b[A\n",
      "Training:  63%|█████████████████████████████████████████▉                        | 12555/19774 [01:35<00:54, 133.58it/s]\u001b[A\n",
      "Training:  64%|█████████████████████████████████████████▉                        | 12569/19774 [01:35<00:56, 126.80it/s]\u001b[A\n",
      "Training:  64%|██████████████████████████████████████████                        | 12585/19774 [01:35<00:55, 128.68it/s]\u001b[A\n",
      "Training:  64%|██████████████████████████████████████████                        | 12599/19774 [01:35<00:54, 130.98it/s]\u001b[A\n",
      "Training:  64%|██████████████████████████████████████████                        | 12613/19774 [01:35<00:55, 127.96it/s]\u001b[A\n",
      "Training:  64%|██████████████████████████████████████████▏                       | 12628/19774 [01:35<00:54, 132.05it/s]\u001b[A\n",
      "Training:  64%|██████████████████████████████████████████▏                       | 12642/19774 [01:35<00:55, 129.45it/s]\u001b[A\n",
      "Training:  64%|██████████████████████████████████████████▏                       | 12655/19774 [01:35<00:55, 129.13it/s]\u001b[A\n",
      "Training:  64%|██████████████████████████████████████████▎                       | 12668/19774 [01:35<00:55, 128.67it/s]\u001b[A\n",
      "Training:  64%|██████████████████████████████████████████▎                       | 12681/19774 [01:36<00:55, 128.84it/s]\u001b[A\n",
      "Training:  64%|██████████████████████████████████████████▎                       | 12694/19774 [01:36<00:56, 124.59it/s]\u001b[A\n",
      "Training:  64%|██████████████████████████████████████████▍                       | 12707/19774 [01:36<00:57, 121.93it/s]\u001b[A\n",
      "Training:  64%|██████████████████████████████████████████▍                       | 12724/19774 [01:36<00:52, 134.11it/s]\u001b[A\n",
      "Training:  64%|██████████████████████████████████████████▌                       | 12738/19774 [01:36<00:54, 128.52it/s]\u001b[A\n",
      "Training:  64%|██████████████████████████████████████████▌                       | 12752/19774 [01:36<00:53, 130.43it/s]\u001b[A\n",
      "Training:  65%|██████████████████████████████████████████▌                       | 12767/19774 [01:36<00:51, 135.63it/s]\u001b[A\n",
      "Training:  65%|██████████████████████████████████████████▋                       | 12781/19774 [01:36<00:52, 132.75it/s]\u001b[A\n",
      "Training:  65%|██████████████████████████████████████████▋                       | 12796/19774 [01:36<00:51, 135.75it/s]\u001b[A\n",
      "Training:  65%|██████████████████████████████████████████▊                       | 12810/19774 [01:37<00:50, 136.77it/s]\u001b[A\n",
      "Training:  65%|██████████████████████████████████████████▊                       | 12825/19774 [01:37<00:49, 139.68it/s]\u001b[A\n",
      "Training:  65%|██████████████████████████████████████████▊                       | 12840/19774 [01:37<00:52, 132.15it/s]\u001b[A\n",
      "Training:  65%|██████████████████████████████████████████▉                       | 12855/19774 [01:37<00:50, 136.66it/s]\u001b[A\n",
      "Training:  65%|██████████████████████████████████████████▉                       | 12869/19774 [01:37<00:51, 134.68it/s]\u001b[A\n",
      "Training:  65%|██████████████████████████████████████████▉                       | 12883/19774 [01:37<00:53, 129.27it/s]\u001b[A\n",
      "Training:  65%|███████████████████████████████████████████                       | 12897/19774 [01:37<00:52, 130.89it/s]\u001b[A\n",
      "Training:  65%|███████████████████████████████████████████                       | 12911/19774 [01:37<00:54, 126.58it/s]\u001b[A\n",
      "Training:  65%|███████████████████████████████████████████▏                      | 12926/19774 [01:37<00:52, 130.96it/s]\u001b[A\n",
      "Training:  65%|███████████████████████████████████████████▏                      | 12940/19774 [01:38<00:53, 128.21it/s]\u001b[A\n",
      "Training:  66%|███████████████████████████████████████████▏                      | 12955/19774 [01:38<00:51, 133.55it/s]\u001b[A\n",
      "Training:  66%|███████████████████████████████████████████▎                      | 12969/19774 [01:38<00:52, 130.06it/s]\u001b[A\n",
      "Training:  66%|███████████████████████████████████████████▎                      | 12983/19774 [01:38<00:53, 127.18it/s]\u001b[A\n",
      "Training:  66%|███████████████████████████████████████████▍                      | 12998/19774 [01:38<00:51, 132.21it/s]\u001b[A\n",
      "Training:  66%|███████████████████████████████████████████▍                      | 13012/19774 [01:38<00:52, 127.76it/s]\u001b[A\n",
      "Training:  66%|███████████████████████████████████████████▍                      | 13025/19774 [01:38<00:53, 125.22it/s]\u001b[A\n",
      "Training:  66%|███████████████████████████████████████████▌                      | 13041/19774 [01:38<00:50, 133.45it/s]\u001b[A\n",
      "Training:  66%|███████████████████████████████████████████▌                      | 13055/19774 [01:38<00:53, 126.30it/s]\u001b[A\n",
      "Training:  66%|███████████████████████████████████████████▋                      | 13071/19774 [01:39<00:49, 135.01it/s]\u001b[A\n",
      "Training:  66%|███████████████████████████████████████████▋                      | 13085/19774 [01:39<00:51, 130.21it/s]\u001b[A\n",
      "Training:  66%|███████████████████████████████████████████▋                      | 13100/19774 [01:39<00:49, 135.51it/s]\u001b[A\n",
      "Training:  66%|███████████████████████████████████████████▊                      | 13114/19774 [01:39<00:50, 131.23it/s]\u001b[A\n",
      "Training:  66%|███████████████████████████████████████████▊                      | 13129/19774 [01:39<00:50, 132.30it/s]\u001b[A\n",
      "Training:  66%|███████████████████████████████████████████▊                      | 13144/19774 [01:39<00:49, 135.07it/s]\u001b[A\n",
      "Training:  67%|███████████████████████████████████████████▉                      | 13158/19774 [01:39<00:50, 130.11it/s]\u001b[A\n",
      "Training:  67%|███████████████████████████████████████████▉                      | 13172/19774 [01:39<00:51, 128.33it/s]\u001b[A\n",
      "Training:  67%|████████████████████████████████████████████                      | 13187/19774 [01:39<00:49, 132.57it/s]\u001b[A\n",
      "Training:  67%|████████████████████████████████████████████                      | 13201/19774 [01:40<00:49, 132.97it/s]\u001b[A\n",
      "Training:  67%|████████████████████████████████████████████                      | 13215/19774 [01:40<00:50, 130.95it/s]\u001b[A\n",
      "Training:  67%|████████████████████████████████████████████▏                     | 13230/19774 [01:40<00:50, 128.90it/s]\u001b[A\n",
      "Training:  67%|████████████████████████████████████████████▏                     | 13244/19774 [01:40<00:50, 130.24it/s]\u001b[A\n",
      "Training:  67%|████████████████████████████████████████████▎                     | 13258/19774 [01:40<00:52, 124.53it/s]\u001b[A\n",
      "Training:  67%|████████████████████████████████████████████▎                     | 13273/19774 [01:40<00:49, 131.24it/s]\u001b[A\n",
      "Training:  67%|████████████████████████████████████████████▎                     | 13287/19774 [01:40<00:50, 127.35it/s]\u001b[A\n",
      "Training:  67%|████████████████████████████████████████████▍                     | 13300/19774 [01:40<00:51, 124.69it/s]\u001b[A\n",
      "Training:  67%|████████████████████████████████████████████▍                     | 13317/19774 [01:40<00:47, 134.87it/s]\u001b[A\n",
      "Training:  67%|████████████████████████████████████████████▍                     | 13331/19774 [01:41<00:50, 127.49it/s]\u001b[A\n",
      "Training:  67%|████████████████████████████████████████████▌                     | 13344/19774 [01:41<00:52, 123.32it/s]\u001b[A\n",
      "Training:  68%|████████████████████████████████████████████▌                     | 13361/19774 [01:41<00:49, 130.55it/s]\u001b[A\n",
      "Training:  68%|████████████████████████████████████████████▋                     | 13375/19774 [01:41<00:48, 132.25it/s]\u001b[A\n",
      "Training:  68%|████████████████████████████████████████████▋                     | 13389/19774 [01:41<00:50, 127.63it/s]\u001b[A\n",
      "Training:  68%|████████████████████████████████████████████▋                     | 13405/19774 [01:41<00:47, 134.89it/s]\u001b[A\n",
      "Training:  68%|████████████████████████████████████████████▊                     | 13419/19774 [01:41<00:49, 128.97it/s]\u001b[A\n",
      "Training:  68%|████████████████████████████████████████████▊                     | 13435/19774 [01:41<00:46, 135.93it/s]\u001b[A\n",
      "Training:  68%|████████████████████████████████████████████▉                     | 13449/19774 [01:41<00:48, 129.90it/s]\u001b[A\n",
      "Training:  68%|████████████████████████████████████████████▉                     | 13466/19774 [01:42<00:47, 133.73it/s]\u001b[A\n",
      "Training:  68%|████████████████████████████████████████████▉                     | 13481/19774 [01:42<00:46, 136.49it/s]\u001b[A\n",
      "Training:  68%|█████████████████████████████████████████████                     | 13495/19774 [01:42<00:48, 130.05it/s]\u001b[A\n",
      "Training:  68%|█████████████████████████████████████████████                     | 13509/19774 [01:42<00:48, 130.17it/s]\u001b[A\n",
      "Training:  68%|█████████████████████████████████████████████▏                    | 13525/19774 [01:42<00:45, 136.75it/s]\u001b[A\n",
      "Training:  68%|█████████████████████████████████████████████▏                    | 13539/19774 [01:42<00:47, 130.68it/s]\u001b[A\n",
      "Training:  69%|█████████████████████████████████████████████▏                    | 13553/19774 [01:42<00:48, 128.90it/s]\u001b[A\n",
      "Training:  69%|█████████████████████████████████████████████▎                    | 13567/19774 [01:42<00:47, 131.72it/s]\u001b[A\n",
      "Training:  69%|█████████████████████████████████████████████▎                    | 13581/19774 [01:42<00:49, 124.06it/s]\u001b[A\n",
      "Training:  69%|█████████████████████████████████████████████▎                    | 13594/19774 [01:43<00:50, 123.32it/s]\u001b[A\n",
      "Training:  69%|█████████████████████████████████████████████▍                    | 13611/19774 [01:43<00:45, 135.75it/s]\u001b[A\n",
      "Training:  69%|█████████████████████████████████████████████▍                    | 13625/19774 [01:43<00:47, 128.43it/s]\u001b[A\n",
      "Training:  69%|█████████████████████████████████████████████▌                    | 13639/19774 [01:43<00:48, 125.72it/s]\u001b[A\n",
      "Training:  69%|█████████████████████████████████████████████▌                    | 13656/19774 [01:43<00:44, 136.14it/s]\u001b[A\n",
      "Training:  69%|█████████████████████████████████████████████▋                    | 13670/19774 [01:43<00:46, 130.58it/s]\u001b[A\n",
      "Training:  69%|█████████████████████████████████████████████▋                    | 13684/19774 [01:43<00:45, 132.42it/s]\u001b[A\n",
      "Training:  69%|█████████████████████████████████████████████▋                    | 13698/19774 [01:43<00:45, 134.01it/s]\u001b[A\n",
      "Training:  69%|█████████████████████████████████████████████▊                    | 13712/19774 [01:43<00:45, 134.35it/s]\u001b[A\n",
      "Training:  69%|█████████████████████████████████████████████▊                    | 13726/19774 [01:44<00:45, 133.72it/s]\u001b[A\n",
      "Training:  69%|█████████████████████████████████████████████▊                    | 13740/19774 [01:44<00:45, 131.87it/s]\u001b[A\n",
      "Training:  70%|█████████████████████████████████████████████▉                    | 13754/19774 [01:44<00:45, 131.82it/s]\u001b[A\n",
      "Training:  70%|█████████████████████████████████████████████▉                    | 13768/19774 [01:44<00:47, 126.07it/s]\u001b[A\n",
      "Training:  70%|██████████████████████████████████████████████                    | 13783/19774 [01:44<00:45, 132.67it/s]\u001b[A\n",
      "Training:  70%|██████████████████████████████████████████████                    | 13797/19774 [01:44<00:48, 123.89it/s]\u001b[A\n",
      "Training:  70%|██████████████████████████████████████████████                    | 13810/19774 [01:44<00:49, 121.29it/s]\u001b[A\n",
      "Training:  70%|██████████████████████████████████████████████▏                   | 13824/19774 [01:44<00:49, 120.76it/s]\u001b[A\n",
      "Training:  70%|██████████████████████████████████████████████▏                   | 13839/19774 [01:44<00:46, 127.50it/s]\u001b[A\n",
      "Training:  70%|██████████████████████████████████████████████▏                   | 13852/19774 [01:45<00:47, 123.62it/s]\u001b[A\n",
      "Training:  70%|██████████████████████████████████████████████▎                   | 13865/19774 [01:45<00:47, 125.30it/s]\u001b[A\n",
      "Training:  70%|██████████████████████████████████████████████▎                   | 13880/19774 [01:45<00:45, 129.65it/s]\u001b[A\n",
      "Training:  70%|██████████████████████████████████████████████▎                   | 13894/19774 [01:45<00:46, 126.04it/s]\u001b[A\n",
      "Training:  70%|██████████████████████████████████████████████▍                   | 13909/19774 [01:45<00:45, 127.50it/s]\u001b[A\n",
      "Training:  70%|██████████████████████████████████████████████▍                   | 13924/19774 [01:45<00:44, 131.63it/s]\u001b[A\n",
      "Training:  70%|██████████████████████████████████████████████▌                   | 13938/19774 [01:45<00:46, 125.04it/s]\u001b[A\n",
      "Training:  71%|██████████████████████████████████████████████▌                   | 13951/19774 [01:45<00:47, 122.50it/s]\u001b[A\n",
      "Training:  71%|██████████████████████████████████████████████▌                   | 13967/19774 [01:45<00:44, 131.04it/s]\u001b[A\n",
      "Training:  71%|██████████████████████████████████████████████▋                   | 13981/19774 [01:46<00:45, 127.60it/s]\u001b[A\n",
      "Training:  71%|██████████████████████████████████████████████▋                   | 13997/19774 [01:46<00:42, 135.06it/s]\u001b[A\n",
      "Training:  71%|██████████████████████████████████████████████▊                   | 14011/19774 [01:46<00:44, 128.16it/s]\u001b[A\n"
     ]
    }
   ],
   "source": [
    "loss_func = nn.CrossEntropyLoss()\n",
    "batch_one_train = train_simple_network(first_rnn, loss_func, train_loader, test_loader=test_loader, score_funcs={'Accuracy': accuracy_score}, device=device, epochs=5)"
   ]
  },
  {
   "cell_type": "code",
   "execution_count": 17,
   "metadata": {
    "ExecuteTime": {
     "end_time": "2021-04-05T02:17:46.442889Z",
     "start_time": "2021-04-05T02:17:46.190875Z"
    }
   },
   "outputs": [
    {
     "data": {
      "text/plain": [
       "<Axes: xlabel='epoch', ylabel='test Accuracy'>"
      ]
     },
     "execution_count": 17,
     "metadata": {},
     "output_type": "execute_result"
    },
    {
     "data": {
      "image/png": "[encoded data removed]",
      "text/plain": [
       "<Figure size 640x480 with 1 Axes>"
      ]
     },
     "metadata": {},
     "output_type": "display_data"
    }
   ],
   "source": [
    "sns.lineplot(x='epoch', y='test Accuracy', data=batch_one_train, label='RNN')"
   ]
  },
  {
   "cell_type": "code",
   "execution_count": 34,
   "metadata": {
    "ExecuteTime": {
     "end_time": "2021-04-05T02:17:46.509455Z",
     "start_time": "2021-04-05T02:17:46.444214Z"
    }
   },
   "outputs": [
    {
     "name": "stdout",
     "output_type": "stream",
     "text": [
      "    Arabic :  0.000%\n",
      "   Chinese :  0.060%\n",
      "     Czech : 11.692%\n",
      "     Dutch :  7.350%\n",
      "   English : 57.544%\n",
      "    French :  0.675%\n",
      "    German : 16.131%\n",
      "     Greek :  0.030%\n",
      "     Irish :  1.311%\n",
      "   Italian :  0.570%\n",
      "  Japanese :  0.003%\n",
      "    Korean :  0.247%\n",
      "    Polish :  1.764%\n",
      "Portuguese :  0.094%\n",
      "   Russian :  1.411%\n",
      "  Scottish :  0.864%\n",
      "   Spanish :  0.076%\n",
      "Vietnamese :  0.179%\n"
     ]
    }
   ],
   "source": [
    "pred_rnn = first_rnn.to(\"cpu\").eval()\n",
    "with torch.no_grad():\n",
    "    preds = F.softmax(pred_rnn(dataset.string2InputVec(\"frank\").reshape(1,-1)), dim=-1)\n",
    "    for class_id in range(len(dataset.label_names)):\n",
    "        print(f'{dataset.label_names[class_id]:>10} : {100*preds[0,class_id].item():6.3f}%')"
   ]
  },
  {
   "cell_type": "code",
   "execution_count": 21,
   "metadata": {
    "ExecuteTime": {
     "end_time": "2021-04-05T02:17:46.516173Z",
     "start_time": "2021-04-05T02:17:46.511040Z"
    }
   },
   "outputs": [],
   "source": [
    "def pad_and_pack(batch):\n",
    "    #1, 2, & 3: organize the batch input lengths, inputs, and outputs as seperate lists\n",
    "    input_tensors = []\n",
    "    labels = []\n",
    "    lengths = []\n",
    "    for x, y in batch:\n",
    "        input_tensors.append(x)\n",
    "        labels.append(y)\n",
    "        lengths.append(x.shape[0]) #Assume shape is (T, *)\n",
    "    #4: create the padded version of the input\n",
    "    x_padded = torch.nn.utils.rnn.pad_sequence(input_tensors, batch_first=False)\n",
    "    #5: create the packed version from the padded & lengths\n",
    "    x_packed = torch.nn.utils.rnn.pack_padded_sequence(x_padded, lengths, batch_first=False, enforce_sorted=False)\n",
    "    #Convert the lengths into a tensor\n",
    "    y_batched = torch.as_tensor(labels, dtype=torch.long)\n",
    "    #6: return a tuple of the packed inputs and their labels\n",
    "    return x_packed, y_batched\n"
   ]
  },
  {
   "cell_type": "code",
   "execution_count": 22,
   "metadata": {
    "ExecuteTime": {
     "end_time": "2021-04-05T02:17:46.521723Z",
     "start_time": "2021-04-05T02:17:46.517329Z"
    }
   },
   "outputs": [],
   "source": [
    "class EmbeddingPackable(nn.Module):\n",
    "    \"\"\"\n",
    "    The embedding layer in PyTorch does not support Packed Sequence objects. \n",
    "    This wrapper class will fix that. If a normal input comes in, it will \n",
    "    use the regular Embedding layer. Otherwise, it will work on the packed \n",
    "    sequence to return a new Packed sequence of the appropriate result. \n",
    "    \"\"\"\n",
    "    def __init__(self, embd_layer):\n",
    "        super(EmbeddingPackable, self).__init__()\n",
    "        self.embd_layer = embd_layer \n",
    "    \n",
    "    def forward(self, input):\n",
    "        if type(input) == torch.nn.utils.rnn.PackedSequence:\n",
    "            # We need to unpack the input, \n",
    "            sequences, lengths = torch.nn.utils.rnn.pad_packed_sequence(input.cpu(), batch_first=True)\n",
    "            #Embed it\n",
    "            sequences = self.embd_layer(sequences.to(input.data.device))\n",
    "            #And pack it into a new sequence\n",
    "            return torch.nn.utils.rnn.pack_padded_sequence(sequences, lengths.cpu(), \n",
    "                                                           batch_first=True, enforce_sorted=False)\n",
    "        else:#apply to normal data\n",
    "            return self.embd_layer(input)\n"
   ]
  },
  {
   "cell_type": "code",
   "execution_count": 23,
   "metadata": {
    "ExecuteTime": {
     "end_time": "2021-04-05T02:17:46.527559Z",
     "start_time": "2021-04-05T02:17:46.522964Z"
    }
   },
   "outputs": [],
   "source": [
    "B = 16\n",
    "train_loader = DataLoader(train_data, batch_size=B, shuffle=True, collate_fn=pad_and_pack)\n",
    "test_loader = DataLoader(test_data, batch_size=B, shuffle=False, collate_fn=pad_and_pack)"
   ]
  },
  {
   "cell_type": "code",
   "execution_count": 24,
   "metadata": {
    "ExecuteTime": {
     "end_time": "2021-04-05T02:17:46.536853Z",
     "start_time": "2021-04-05T02:17:46.530407Z"
    },
    "tags": [
     "remove_output"
    ]
   },
   "outputs": [
    {
     "data": {
      "text/plain": [
       "Sequential(\n",
       "  (0): EmbeddingPackable(\n",
       "    (embd_layer): Embedding(57, 64)\n",
       "  )\n",
       "  (1): RNN(64, 256, batch_first=True)\n",
       "  (2): LastTimeStep()\n",
       "  (3): Linear(in_features=256, out_features=18, bias=True)\n",
       ")"
      ]
     },
     "execution_count": 24,
     "metadata": {},
     "output_type": "execute_result"
    }
   ],
   "source": [
    "rnn_packed = nn.Sequential(\n",
    "  EmbeddingPackable(nn.Embedding(vocab_size, D)), #(B, T) -> (B, T, D)\n",
    "  nn.RNN(D, hidden_nodes, batch_first=True), #(B, T, D) -> ( (B,T,D) , (S, B, D)  )\n",
    "  LastTimeStep(), #We need to take the RNN output and reduce it to one item, (B, D)\n",
    "  nn.Linear(hidden_nodes, classes), #(B, D) -> (B, classes)\n",
    ")\n",
    "\n",
    "rnn_packed.to(device)"
   ]
  },
  {
   "cell_type": "code",
   "execution_count": 25,
   "metadata": {
    "ExecuteTime": {
     "end_time": "2021-04-05T02:19:39.317005Z",
     "start_time": "2021-04-05T02:17:46.538194Z"
    },
    "tags": [
     "remove_output"
    ]
   },
   "outputs": [
    {
     "data": {
      "application/vnd.jupyter.widget-view+json": {
       "model_id": "3af97b85c32145739e5713fda57950f7",
       "version_major": 2,
       "version_minor": 0
      },
      "text/plain": [
       "HBox(children=(HTML(value='Epoch'), FloatProgress(value=0.0, max=20.0), HTML(value='')))"
      ]
     },
     "metadata": {},
     "output_type": "display_data"
    },
    {
     "data": {
      "application/vnd.jupyter.widget-view+json": {
       "model_id": "",
       "version_major": 2,
       "version_minor": 0
      },
      "text/plain": [
       "HBox(children=(HTML(value='Training'), FloatProgress(value=0.0, max=1236.0), HTML(value='')))"
      ]
     },
     "metadata": {},
     "output_type": "display_data"
    },
    {
     "data": {
      "application/vnd.jupyter.widget-view+json": {
       "model_id": "",
       "version_major": 2,
       "version_minor": 0
      },
      "text/plain": [
       "HBox(children=(HTML(value='Testing'), FloatProgress(value=0.0, max=19.0), HTML(value='')))"
      ]
     },
     "metadata": {},
     "output_type": "display_data"
    },
    {
     "data": {
      "application/vnd.jupyter.widget-view+json": {
       "model_id": "",
       "version_major": 2,
       "version_minor": 0
      },
      "text/plain": [
       "HBox(children=(HTML(value='Training'), FloatProgress(value=0.0, max=1236.0), HTML(value='')))"
      ]
     },
     "metadata": {},
     "output_type": "display_data"
    },
    {
     "data": {
      "application/vnd.jupyter.widget-view+json": {
       "model_id": "",
       "version_major": 2,
       "version_minor": 0
      },
      "text/plain": [
       "HBox(children=(HTML(value='Testing'), FloatProgress(value=0.0, max=19.0), HTML(value='')))"
      ]
     },
     "metadata": {},
     "output_type": "display_data"
    },
    {
     "data": {
      "application/vnd.jupyter.widget-view+json": {
       "model_id": "",
       "version_major": 2,
       "version_minor": 0
      },
      "text/plain": [
       "HBox(children=(HTML(value='Training'), FloatProgress(value=0.0, max=1236.0), HTML(value='')))"
      ]
     },
     "metadata": {},
     "output_type": "display_data"
    },
    {
     "data": {
      "application/vnd.jupyter.widget-view+json": {
       "model_id": "",
       "version_major": 2,
       "version_minor": 0
      },
      "text/plain": [
       "HBox(children=(HTML(value='Testing'), FloatProgress(value=0.0, max=19.0), HTML(value='')))"
      ]
     },
     "metadata": {},
     "output_type": "display_data"
    },
    {
     "data": {
      "application/vnd.jupyter.widget-view+json": {
       "model_id": "",
       "version_major": 2,
       "version_minor": 0
      },
      "text/plain": [
       "HBox(children=(HTML(value='Training'), FloatProgress(value=0.0, max=1236.0), HTML(value='')))"
      ]
     },
     "metadata": {},
     "output_type": "display_data"
    },
    {
     "data": {
      "application/vnd.jupyter.widget-view+json": {
       "model_id": "",
       "version_major": 2,
       "version_minor": 0
      },
      "text/plain": [
       "HBox(children=(HTML(value='Testing'), FloatProgress(value=0.0, max=19.0), HTML(value='')))"
      ]
     },
     "metadata": {},
     "output_type": "display_data"
    },
    {
     "data": {
      "application/vnd.jupyter.widget-view+json": {
       "model_id": "",
       "version_major": 2,
       "version_minor": 0
      },
      "text/plain": [
       "HBox(children=(HTML(value='Training'), FloatProgress(value=0.0, max=1236.0), HTML(value='')))"
      ]
     },
     "metadata": {},
     "output_type": "display_data"
    },
    {
     "data": {
      "application/vnd.jupyter.widget-view+json": {
       "model_id": "",
       "version_major": 2,
       "version_minor": 0
      },
      "text/plain": [
       "HBox(children=(HTML(value='Testing'), FloatProgress(value=0.0, max=19.0), HTML(value='')))"
      ]
     },
     "metadata": {},
     "output_type": "display_data"
    },
    {
     "data": {
      "application/vnd.jupyter.widget-view+json": {
       "model_id": "",
       "version_major": 2,
       "version_minor": 0
      },
      "text/plain": [
       "HBox(children=(HTML(value='Training'), FloatProgress(value=0.0, max=1236.0), HTML(value='')))"
      ]
     },
     "metadata": {},
     "output_type": "display_data"
    },
    {
     "data": {
      "application/vnd.jupyter.widget-view+json": {
       "model_id": "",
       "version_major": 2,
       "version_minor": 0
      },
      "text/plain": [
       "HBox(children=(HTML(value='Testing'), FloatProgress(value=0.0, max=19.0), HTML(value='')))"
      ]
     },
     "metadata": {},
     "output_type": "display_data"
    },
    {
     "data": {
      "application/vnd.jupyter.widget-view+json": {
       "model_id": "",
       "version_major": 2,
       "version_minor": 0
      },
      "text/plain": [
       "HBox(children=(HTML(value='Training'), FloatProgress(value=0.0, max=1236.0), HTML(value='')))"
      ]
     },
     "metadata": {},
     "output_type": "display_data"
    },
    {
     "data": {
      "application/vnd.jupyter.widget-view+json": {
       "model_id": "",
       "version_major": 2,
       "version_minor": 0
      },
      "text/plain": [
       "HBox(children=(HTML(value='Testing'), FloatProgress(value=0.0, max=19.0), HTML(value='')))"
      ]
     },
     "metadata": {},
     "output_type": "display_data"
    },
    {
     "data": {
      "application/vnd.jupyter.widget-view+json": {
       "model_id": "",
       "version_major": 2,
       "version_minor": 0
      },
      "text/plain": [
       "HBox(children=(HTML(value='Training'), FloatProgress(value=0.0, max=1236.0), HTML(value='')))"
      ]
     },
     "metadata": {},
     "output_type": "display_data"
    },
    {
     "data": {
      "application/vnd.jupyter.widget-view+json": {
       "model_id": "",
       "version_major": 2,
       "version_minor": 0
      },
      "text/plain": [
       "HBox(children=(HTML(value='Testing'), FloatProgress(value=0.0, max=19.0), HTML(value='')))"
      ]
     },
     "metadata": {},
     "output_type": "display_data"
    },
    {
     "data": {
      "application/vnd.jupyter.widget-view+json": {
       "model_id": "",
       "version_major": 2,
       "version_minor": 0
      },
      "text/plain": [
       "HBox(children=(HTML(value='Training'), FloatProgress(value=0.0, max=1236.0), HTML(value='')))"
      ]
     },
     "metadata": {},
     "output_type": "display_data"
    },
    {
     "data": {
      "application/vnd.jupyter.widget-view+json": {
       "model_id": "",
       "version_major": 2,
       "version_minor": 0
      },
      "text/plain": [
       "HBox(children=(HTML(value='Testing'), FloatProgress(value=0.0, max=19.0), HTML(value='')))"
      ]
     },
     "metadata": {},
     "output_type": "display_data"
    },
    {
     "data": {
      "application/vnd.jupyter.widget-view+json": {
       "model_id": "",
       "version_major": 2,
       "version_minor": 0
      },
      "text/plain": [
       "HBox(children=(HTML(value='Training'), FloatProgress(value=0.0, max=1236.0), HTML(value='')))"
      ]
     },
     "metadata": {},
     "output_type": "display_data"
    },
    {
     "data": {
      "application/vnd.jupyter.widget-view+json": {
       "model_id": "",
       "version_major": 2,
       "version_minor": 0
      },
      "text/plain": [
       "HBox(children=(HTML(value='Testing'), FloatProgress(value=0.0, max=19.0), HTML(value='')))"
      ]
     },
     "metadata": {},
     "output_type": "display_data"
    },
    {
     "data": {
      "application/vnd.jupyter.widget-view+json": {
       "model_id": "",
       "version_major": 2,
       "version_minor": 0
      },
      "text/plain": [
       "HBox(children=(HTML(value='Training'), FloatProgress(value=0.0, max=1236.0), HTML(value='')))"
      ]
     },
     "metadata": {},
     "output_type": "display_data"
    },
    {
     "data": {
      "application/vnd.jupyter.widget-view+json": {
       "model_id": "",
       "version_major": 2,
       "version_minor": 0
      },
      "text/plain": [
       "HBox(children=(HTML(value='Testing'), FloatProgress(value=0.0, max=19.0), HTML(value='')))"
      ]
     },
     "metadata": {},
     "output_type": "display_data"
    },
    {
     "data": {
      "application/vnd.jupyter.widget-view+json": {
       "model_id": "",
       "version_major": 2,
       "version_minor": 0
      },
      "text/plain": [
       "HBox(children=(HTML(value='Training'), FloatProgress(value=0.0, max=1236.0), HTML(value='')))"
      ]
     },
     "metadata": {},
     "output_type": "display_data"
    },
    {
     "data": {
      "application/vnd.jupyter.widget-view+json": {
       "model_id": "",
       "version_major": 2,
       "version_minor": 0
      },
      "text/plain": [
       "HBox(children=(HTML(value='Testing'), FloatProgress(value=0.0, max=19.0), HTML(value='')))"
      ]
     },
     "metadata": {},
     "output_type": "display_data"
    },
    {
     "data": {
      "application/vnd.jupyter.widget-view+json": {
       "model_id": "",
       "version_major": 2,
       "version_minor": 0
      },
      "text/plain": [
       "HBox(children=(HTML(value='Training'), FloatProgress(value=0.0, max=1236.0), HTML(value='')))"
      ]
     },
     "metadata": {},
     "output_type": "display_data"
    },
    {
     "data": {
      "application/vnd.jupyter.widget-view+json": {
       "model_id": "",
       "version_major": 2,
       "version_minor": 0
      },
      "text/plain": [
       "HBox(children=(HTML(value='Testing'), FloatProgress(value=0.0, max=19.0), HTML(value='')))"
      ]
     },
     "metadata": {},
     "output_type": "display_data"
    },
    {
     "data": {
      "application/vnd.jupyter.widget-view+json": {
       "model_id": "",
       "version_major": 2,
       "version_minor": 0
      },
      "text/plain": [
       "HBox(children=(HTML(value='Training'), FloatProgress(value=0.0, max=1236.0), HTML(value='')))"
      ]
     },
     "metadata": {},
     "output_type": "display_data"
    },
    {
     "data": {
      "application/vnd.jupyter.widget-view+json": {
       "model_id": "",
       "version_major": 2,
       "version_minor": 0
      },
      "text/plain": [
       "HBox(children=(HTML(value='Testing'), FloatProgress(value=0.0, max=19.0), HTML(value='')))"
      ]
     },
     "metadata": {},
     "output_type": "display_data"
    },
    {
     "data": {
      "application/vnd.jupyter.widget-view+json": {
       "model_id": "",
       "version_major": 2,
       "version_minor": 0
      },
      "text/plain": [
       "HBox(children=(HTML(value='Training'), FloatProgress(value=0.0, max=1236.0), HTML(value='')))"
      ]
     },
     "metadata": {},
     "output_type": "display_data"
    },
    {
     "data": {
      "application/vnd.jupyter.widget-view+json": {
       "model_id": "",
       "version_major": 2,
       "version_minor": 0
      },
      "text/plain": [
       "HBox(children=(HTML(value='Testing'), FloatProgress(value=0.0, max=19.0), HTML(value='')))"
      ]
     },
     "metadata": {},
     "output_type": "display_data"
    },
    {
     "data": {
      "application/vnd.jupyter.widget-view+json": {
       "model_id": "",
       "version_major": 2,
       "version_minor": 0
      },
      "text/plain": [
       "HBox(children=(HTML(value='Training'), FloatProgress(value=0.0, max=1236.0), HTML(value='')))"
      ]
     },
     "metadata": {},
     "output_type": "display_data"
    },
    {
     "data": {
      "application/vnd.jupyter.widget-view+json": {
       "model_id": "",
       "version_major": 2,
       "version_minor": 0
      },
      "text/plain": [
       "HBox(children=(HTML(value='Testing'), FloatProgress(value=0.0, max=19.0), HTML(value='')))"
      ]
     },
     "metadata": {},
     "output_type": "display_data"
    },
    {
     "data": {
      "application/vnd.jupyter.widget-view+json": {
       "model_id": "",
       "version_major": 2,
       "version_minor": 0
      },
      "text/plain": [
       "HBox(children=(HTML(value='Training'), FloatProgress(value=0.0, max=1236.0), HTML(value='')))"
      ]
     },
     "metadata": {},
     "output_type": "display_data"
    },
    {
     "data": {
      "application/vnd.jupyter.widget-view+json": {
       "model_id": "",
       "version_major": 2,
       "version_minor": 0
      },
      "text/plain": [
       "HBox(children=(HTML(value='Testing'), FloatProgress(value=0.0, max=19.0), HTML(value='')))"
      ]
     },
     "metadata": {},
     "output_type": "display_data"
    },
    {
     "data": {
      "application/vnd.jupyter.widget-view+json": {
       "model_id": "",
       "version_major": 2,
       "version_minor": 0
      },
      "text/plain": [
       "HBox(children=(HTML(value='Training'), FloatProgress(value=0.0, max=1236.0), HTML(value='')))"
      ]
     },
     "metadata": {},
     "output_type": "display_data"
    },
    {
     "data": {
      "application/vnd.jupyter.widget-view+json": {
       "model_id": "",
       "version_major": 2,
       "version_minor": 0
      },
      "text/plain": [
       "HBox(children=(HTML(value='Testing'), FloatProgress(value=0.0, max=19.0), HTML(value='')))"
      ]
     },
     "metadata": {},
     "output_type": "display_data"
    },
    {
     "data": {
      "application/vnd.jupyter.widget-view+json": {
       "model_id": "",
       "version_major": 2,
       "version_minor": 0
      },
      "text/plain": [
       "HBox(children=(HTML(value='Training'), FloatProgress(value=0.0, max=1236.0), HTML(value='')))"
      ]
     },
     "metadata": {},
     "output_type": "display_data"
    },
    {
     "data": {
      "application/vnd.jupyter.widget-view+json": {
       "model_id": "",
       "version_major": 2,
       "version_minor": 0
      },
      "text/plain": [
       "HBox(children=(HTML(value='Testing'), FloatProgress(value=0.0, max=19.0), HTML(value='')))"
      ]
     },
     "metadata": {},
     "output_type": "display_data"
    },
    {
     "data": {
      "application/vnd.jupyter.widget-view+json": {
       "model_id": "",
       "version_major": 2,
       "version_minor": 0
      },
      "text/plain": [
       "HBox(children=(HTML(value='Training'), FloatProgress(value=0.0, max=1236.0), HTML(value='')))"
      ]
     },
     "metadata": {},
     "output_type": "display_data"
    },
    {
     "data": {
      "application/vnd.jupyter.widget-view+json": {
       "model_id": "",
       "version_major": 2,
       "version_minor": 0
      },
      "text/plain": [
       "HBox(children=(HTML(value='Testing'), FloatProgress(value=0.0, max=19.0), HTML(value='')))"
      ]
     },
     "metadata": {},
     "output_type": "display_data"
    },
    {
     "name": "stdout",
     "output_type": "stream",
     "text": [
      "\n"
     ]
    }
   ],
   "source": [
    "packed_train = train_simple_network(rnn_packed, loss_func, train_loader, test_loader=test_loader, score_funcs={'Accuracy': accuracy_score}, device=device, epochs=20)"
   ]
  },
  {
   "cell_type": "code",
   "execution_count": 26,
   "metadata": {
    "ExecuteTime": {
     "end_time": "2021-04-05T02:19:39.582038Z",
     "start_time": "2021-04-05T02:19:39.318290Z"
    }
   },
   "outputs": [
    {
     "data": {
      "text/plain": [
       "<AxesSubplot:xlabel='epoch', ylabel='test Accuracy'>"
      ]
     },
     "execution_count": 26,
     "metadata": {},
     "output_type": "execute_result"
    },
    {
     "data": {
      "application/pdf": "[encoded data removed]",
      "image/png": "[encoded data removed]",
      "text/plain": [
       "<Figure size 432x288 with 1 Axes>"
      ]
     },
     "metadata": {
      "needs_background": "light"
     },
     "output_type": "display_data"
    }
   ],
   "source": [
    "sns.lineplot(x='epoch', y='test Accuracy', data=batch_one_train, label='RNN: Batch=1')\n",
    "sns.lineplot(x='epoch', y='test Accuracy', data=packed_train, label='RNN:Pakced Input')"
   ]
  },
  {
   "cell_type": "code",
   "execution_count": 27,
   "metadata": {
    "ExecuteTime": {
     "end_time": "2021-04-05T02:19:39.832368Z",
     "start_time": "2021-04-05T02:19:39.583652Z"
    }
   },
   "outputs": [
    {
     "data": {
      "text/plain": [
       "<AxesSubplot:xlabel='total time', ylabel='test Accuracy'>"
      ]
     },
     "execution_count": 27,
     "metadata": {},
     "output_type": "execute_result"
    },
    {
     "data": {
      "application/pdf": "[encoded data removed]",
      "image/png": "[encoded data removed]",
      "text/plain": [
       "<Figure size 432x288 with 1 Axes>"
      ]
     },
     "metadata": {
      "needs_background": "light"
     },
     "output_type": "display_data"
    }
   ],
   "source": [
    "sns.lineplot(x='total time', y='test Accuracy', data=batch_one_train, label='RNN: Batch=1')\n",
    "sns.lineplot(x='total time', y='test Accuracy', data=packed_train, label='RNN:Pakced Input')"
   ]
  },
  {
   "cell_type": "code",
   "execution_count": 28,
   "metadata": {
    "ExecuteTime": {
     "end_time": "2021-04-05T02:19:39.901151Z",
     "start_time": "2021-04-05T02:19:39.833986Z"
    }
   },
   "outputs": [
    {
     "name": "stdout",
     "output_type": "stream",
     "text": [
      "Arabic : 0.586722744628787 %\n",
      "Chinese : 0.5682710558176041 %\n",
      "Czech : 15.79725593328476 %\n",
      "Dutch : 5.215919017791748 %\n",
      "English : 42.07158088684082 %\n",
      "French : 1.7968742176890373 %\n",
      "German : 13.949412107467651 %\n",
      "Greek : 0.40299338288605213 %\n",
      "Irish : 2.425672672688961 %\n",
      "Italian : 5.216174945235252 %\n",
      "Japanese : 0.3031977219507098 %\n",
      "Korean : 0.7202120032161474 %\n",
      "Polish : 2.772565931081772 %\n",
      "Portuguese : 0.9149040095508099 %\n",
      "Russian : 4.370814561843872 %\n",
      "Scottish : 1.0111995041370392 %\n",
      "Spanish : 1.2703102082014084 %\n",
      "Vietnamese : 0.6059217266738415 %\n"
     ]
    }
   ],
   "source": [
    "pred_rnn = rnn_packed.to(\"cpu\").eval()\n",
    "\n",
    "with torch.no_grad():\n",
    "    preds = F.softmax(pred_rnn(dataset.string2InputVec(\"frank\").reshape(1,-1)), dim=-1)\n",
    "    for class_id in range(len(dataset.label_names)):\n",
    "        print(dataset.label_names[class_id], \":\", preds[0,class_id].item()*100 , \"%\")"
   ]
  },
  {
   "cell_type": "code",
   "execution_count": 29,
   "metadata": {
    "ExecuteTime": {
     "end_time": "2021-04-05T02:22:10.628335Z",
     "start_time": "2021-04-05T02:19:39.902969Z"
    },
    "tags": [
     "remove_output"
    ]
   },
   "outputs": [
    {
     "data": {
      "application/vnd.jupyter.widget-view+json": {
       "model_id": "356efdc9c90d4534aa381cc713b8bd23",
       "version_major": 2,
       "version_minor": 0
      },
      "text/plain": [
       "HBox(children=(HTML(value='Epoch'), FloatProgress(value=0.0, max=20.0), HTML(value='')))"
      ]
     },
     "metadata": {},
     "output_type": "display_data"
    },
    {
     "data": {
      "application/vnd.jupyter.widget-view+json": {
       "model_id": "",
       "version_major": 2,
       "version_minor": 0
      },
      "text/plain": [
       "HBox(children=(HTML(value='Training'), FloatProgress(value=0.0, max=1236.0), HTML(value='')))"
      ]
     },
     "metadata": {},
     "output_type": "display_data"
    },
    {
     "data": {
      "application/vnd.jupyter.widget-view+json": {
       "model_id": "",
       "version_major": 2,
       "version_minor": 0
      },
      "text/plain": [
       "HBox(children=(HTML(value='Testing'), FloatProgress(value=0.0, max=19.0), HTML(value='')))"
      ]
     },
     "metadata": {},
     "output_type": "display_data"
    },
    {
     "data": {
      "application/vnd.jupyter.widget-view+json": {
       "model_id": "",
       "version_major": 2,
       "version_minor": 0
      },
      "text/plain": [
       "HBox(children=(HTML(value='Training'), FloatProgress(value=0.0, max=1236.0), HTML(value='')))"
      ]
     },
     "metadata": {},
     "output_type": "display_data"
    },
    {
     "data": {
      "application/vnd.jupyter.widget-view+json": {
       "model_id": "",
       "version_major": 2,
       "version_minor": 0
      },
      "text/plain": [
       "HBox(children=(HTML(value='Testing'), FloatProgress(value=0.0, max=19.0), HTML(value='')))"
      ]
     },
     "metadata": {},
     "output_type": "display_data"
    },
    {
     "data": {
      "application/vnd.jupyter.widget-view+json": {
       "model_id": "",
       "version_major": 2,
       "version_minor": 0
      },
      "text/plain": [
       "HBox(children=(HTML(value='Training'), FloatProgress(value=0.0, max=1236.0), HTML(value='')))"
      ]
     },
     "metadata": {},
     "output_type": "display_data"
    },
    {
     "data": {
      "application/vnd.jupyter.widget-view+json": {
       "model_id": "",
       "version_major": 2,
       "version_minor": 0
      },
      "text/plain": [
       "HBox(children=(HTML(value='Testing'), FloatProgress(value=0.0, max=19.0), HTML(value='')))"
      ]
     },
     "metadata": {},
     "output_type": "display_data"
    },
    {
     "data": {
      "application/vnd.jupyter.widget-view+json": {
       "model_id": "",
       "version_major": 2,
       "version_minor": 0
      },
      "text/plain": [
       "HBox(children=(HTML(value='Training'), FloatProgress(value=0.0, max=1236.0), HTML(value='')))"
      ]
     },
     "metadata": {},
     "output_type": "display_data"
    },
    {
     "data": {
      "application/vnd.jupyter.widget-view+json": {
       "model_id": "",
       "version_major": 2,
       "version_minor": 0
      },
      "text/plain": [
       "HBox(children=(HTML(value='Testing'), FloatProgress(value=0.0, max=19.0), HTML(value='')))"
      ]
     },
     "metadata": {},
     "output_type": "display_data"
    },
    {
     "data": {
      "application/vnd.jupyter.widget-view+json": {
       "model_id": "",
       "version_major": 2,
       "version_minor": 0
      },
      "text/plain": [
       "HBox(children=(HTML(value='Training'), FloatProgress(value=0.0, max=1236.0), HTML(value='')))"
      ]
     },
     "metadata": {},
     "output_type": "display_data"
    },
    {
     "data": {
      "application/vnd.jupyter.widget-view+json": {
       "model_id": "",
       "version_major": 2,
       "version_minor": 0
      },
      "text/plain": [
       "HBox(children=(HTML(value='Testing'), FloatProgress(value=0.0, max=19.0), HTML(value='')))"
      ]
     },
     "metadata": {},
     "output_type": "display_data"
    },
    {
     "data": {
      "application/vnd.jupyter.widget-view+json": {
       "model_id": "",
       "version_major": 2,
       "version_minor": 0
      },
      "text/plain": [
       "HBox(children=(HTML(value='Training'), FloatProgress(value=0.0, max=1236.0), HTML(value='')))"
      ]
     },
     "metadata": {},
     "output_type": "display_data"
    },
    {
     "data": {
      "application/vnd.jupyter.widget-view+json": {
       "model_id": "",
       "version_major": 2,
       "version_minor": 0
      },
      "text/plain": [
       "HBox(children=(HTML(value='Testing'), FloatProgress(value=0.0, max=19.0), HTML(value='')))"
      ]
     },
     "metadata": {},
     "output_type": "display_data"
    },
    {
     "data": {
      "application/vnd.jupyter.widget-view+json": {
       "model_id": "",
       "version_major": 2,
       "version_minor": 0
      },
      "text/plain": [
       "HBox(children=(HTML(value='Training'), FloatProgress(value=0.0, max=1236.0), HTML(value='')))"
      ]
     },
     "metadata": {},
     "output_type": "display_data"
    },
    {
     "data": {
      "application/vnd.jupyter.widget-view+json": {
       "model_id": "",
       "version_major": 2,
       "version_minor": 0
      },
      "text/plain": [
       "HBox(children=(HTML(value='Testing'), FloatProgress(value=0.0, max=19.0), HTML(value='')))"
      ]
     },
     "metadata": {},
     "output_type": "display_data"
    },
    {
     "data": {
      "application/vnd.jupyter.widget-view+json": {
       "model_id": "",
       "version_major": 2,
       "version_minor": 0
      },
      "text/plain": [
       "HBox(children=(HTML(value='Training'), FloatProgress(value=0.0, max=1236.0), HTML(value='')))"
      ]
     },
     "metadata": {},
     "output_type": "display_data"
    },
    {
     "data": {
      "application/vnd.jupyter.widget-view+json": {
       "model_id": "",
       "version_major": 2,
       "version_minor": 0
      },
      "text/plain": [
       "HBox(children=(HTML(value='Testing'), FloatProgress(value=0.0, max=19.0), HTML(value='')))"
      ]
     },
     "metadata": {},
     "output_type": "display_data"
    },
    {
     "data": {
      "application/vnd.jupyter.widget-view+json": {
       "model_id": "",
       "version_major": 2,
       "version_minor": 0
      },
      "text/plain": [
       "HBox(children=(HTML(value='Training'), FloatProgress(value=0.0, max=1236.0), HTML(value='')))"
      ]
     },
     "metadata": {},
     "output_type": "display_data"
    },
    {
     "data": {
      "application/vnd.jupyter.widget-view+json": {
       "model_id": "",
       "version_major": 2,
       "version_minor": 0
      },
      "text/plain": [
       "HBox(children=(HTML(value='Testing'), FloatProgress(value=0.0, max=19.0), HTML(value='')))"
      ]
     },
     "metadata": {},
     "output_type": "display_data"
    },
    {
     "data": {
      "application/vnd.jupyter.widget-view+json": {
       "model_id": "",
       "version_major": 2,
       "version_minor": 0
      },
      "text/plain": [
       "HBox(children=(HTML(value='Training'), FloatProgress(value=0.0, max=1236.0), HTML(value='')))"
      ]
     },
     "metadata": {},
     "output_type": "display_data"
    },
    {
     "data": {
      "application/vnd.jupyter.widget-view+json": {
       "model_id": "",
       "version_major": 2,
       "version_minor": 0
      },
      "text/plain": [
       "HBox(children=(HTML(value='Testing'), FloatProgress(value=0.0, max=19.0), HTML(value='')))"
      ]
     },
     "metadata": {},
     "output_type": "display_data"
    },
    {
     "data": {
      "application/vnd.jupyter.widget-view+json": {
       "model_id": "",
       "version_major": 2,
       "version_minor": 0
      },
      "text/plain": [
       "HBox(children=(HTML(value='Training'), FloatProgress(value=0.0, max=1236.0), HTML(value='')))"
      ]
     },
     "metadata": {},
     "output_type": "display_data"
    },
    {
     "data": {
      "application/vnd.jupyter.widget-view+json": {
       "model_id": "",
       "version_major": 2,
       "version_minor": 0
      },
      "text/plain": [
       "HBox(children=(HTML(value='Testing'), FloatProgress(value=0.0, max=19.0), HTML(value='')))"
      ]
     },
     "metadata": {},
     "output_type": "display_data"
    },
    {
     "data": {
      "application/vnd.jupyter.widget-view+json": {
       "model_id": "",
       "version_major": 2,
       "version_minor": 0
      },
      "text/plain": [
       "HBox(children=(HTML(value='Training'), FloatProgress(value=0.0, max=1236.0), HTML(value='')))"
      ]
     },
     "metadata": {},
     "output_type": "display_data"
    },
    {
     "data": {
      "application/vnd.jupyter.widget-view+json": {
       "model_id": "",
       "version_major": 2,
       "version_minor": 0
      },
      "text/plain": [
       "HBox(children=(HTML(value='Testing'), FloatProgress(value=0.0, max=19.0), HTML(value='')))"
      ]
     },
     "metadata": {},
     "output_type": "display_data"
    },
    {
     "data": {
      "application/vnd.jupyter.widget-view+json": {
       "model_id": "",
       "version_major": 2,
       "version_minor": 0
      },
      "text/plain": [
       "HBox(children=(HTML(value='Training'), FloatProgress(value=0.0, max=1236.0), HTML(value='')))"
      ]
     },
     "metadata": {},
     "output_type": "display_data"
    },
    {
     "data": {
      "application/vnd.jupyter.widget-view+json": {
       "model_id": "",
       "version_major": 2,
       "version_minor": 0
      },
      "text/plain": [
       "HBox(children=(HTML(value='Testing'), FloatProgress(value=0.0, max=19.0), HTML(value='')))"
      ]
     },
     "metadata": {},
     "output_type": "display_data"
    },
    {
     "data": {
      "application/vnd.jupyter.widget-view+json": {
       "model_id": "",
       "version_major": 2,
       "version_minor": 0
      },
      "text/plain": [
       "HBox(children=(HTML(value='Training'), FloatProgress(value=0.0, max=1236.0), HTML(value='')))"
      ]
     },
     "metadata": {},
     "output_type": "display_data"
    },
    {
     "data": {
      "application/vnd.jupyter.widget-view+json": {
       "model_id": "",
       "version_major": 2,
       "version_minor": 0
      },
      "text/plain": [
       "HBox(children=(HTML(value='Testing'), FloatProgress(value=0.0, max=19.0), HTML(value='')))"
      ]
     },
     "metadata": {},
     "output_type": "display_data"
    },
    {
     "data": {
      "application/vnd.jupyter.widget-view+json": {
       "model_id": "",
       "version_major": 2,
       "version_minor": 0
      },
      "text/plain": [
       "HBox(children=(HTML(value='Training'), FloatProgress(value=0.0, max=1236.0), HTML(value='')))"
      ]
     },
     "metadata": {},
     "output_type": "display_data"
    },
    {
     "data": {
      "application/vnd.jupyter.widget-view+json": {
       "model_id": "",
       "version_major": 2,
       "version_minor": 0
      },
      "text/plain": [
       "HBox(children=(HTML(value='Testing'), FloatProgress(value=0.0, max=19.0), HTML(value='')))"
      ]
     },
     "metadata": {},
     "output_type": "display_data"
    },
    {
     "data": {
      "application/vnd.jupyter.widget-view+json": {
       "model_id": "",
       "version_major": 2,
       "version_minor": 0
      },
      "text/plain": [
       "HBox(children=(HTML(value='Training'), FloatProgress(value=0.0, max=1236.0), HTML(value='')))"
      ]
     },
     "metadata": {},
     "output_type": "display_data"
    },
    {
     "data": {
      "application/vnd.jupyter.widget-view+json": {
       "model_id": "",
       "version_major": 2,
       "version_minor": 0
      },
      "text/plain": [
       "HBox(children=(HTML(value='Testing'), FloatProgress(value=0.0, max=19.0), HTML(value='')))"
      ]
     },
     "metadata": {},
     "output_type": "display_data"
    },
    {
     "data": {
      "application/vnd.jupyter.widget-view+json": {
       "model_id": "",
       "version_major": 2,
       "version_minor": 0
      },
      "text/plain": [
       "HBox(children=(HTML(value='Training'), FloatProgress(value=0.0, max=1236.0), HTML(value='')))"
      ]
     },
     "metadata": {},
     "output_type": "display_data"
    },
    {
     "data": {
      "application/vnd.jupyter.widget-view+json": {
       "model_id": "",
       "version_major": 2,
       "version_minor": 0
      },
      "text/plain": [
       "HBox(children=(HTML(value='Testing'), FloatProgress(value=0.0, max=19.0), HTML(value='')))"
      ]
     },
     "metadata": {},
     "output_type": "display_data"
    },
    {
     "data": {
      "application/vnd.jupyter.widget-view+json": {
       "model_id": "",
       "version_major": 2,
       "version_minor": 0
      },
      "text/plain": [
       "HBox(children=(HTML(value='Training'), FloatProgress(value=0.0, max=1236.0), HTML(value='')))"
      ]
     },
     "metadata": {},
     "output_type": "display_data"
    },
    {
     "data": {
      "application/vnd.jupyter.widget-view+json": {
       "model_id": "",
       "version_major": 2,
       "version_minor": 0
      },
      "text/plain": [
       "HBox(children=(HTML(value='Testing'), FloatProgress(value=0.0, max=19.0), HTML(value='')))"
      ]
     },
     "metadata": {},
     "output_type": "display_data"
    },
    {
     "data": {
      "application/vnd.jupyter.widget-view+json": {
       "model_id": "",
       "version_major": 2,
       "version_minor": 0
      },
      "text/plain": [
       "HBox(children=(HTML(value='Training'), FloatProgress(value=0.0, max=1236.0), HTML(value='')))"
      ]
     },
     "metadata": {},
     "output_type": "display_data"
    },
    {
     "data": {
      "application/vnd.jupyter.widget-view+json": {
       "model_id": "",
       "version_major": 2,
       "version_minor": 0
      },
      "text/plain": [
       "HBox(children=(HTML(value='Testing'), FloatProgress(value=0.0, max=19.0), HTML(value='')))"
      ]
     },
     "metadata": {},
     "output_type": "display_data"
    },
    {
     "data": {
      "application/vnd.jupyter.widget-view+json": {
       "model_id": "",
       "version_major": 2,
       "version_minor": 0
      },
      "text/plain": [
       "HBox(children=(HTML(value='Training'), FloatProgress(value=0.0, max=1236.0), HTML(value='')))"
      ]
     },
     "metadata": {},
     "output_type": "display_data"
    },
    {
     "data": {
      "application/vnd.jupyter.widget-view+json": {
       "model_id": "",
       "version_major": 2,
       "version_minor": 0
      },
      "text/plain": [
       "HBox(children=(HTML(value='Testing'), FloatProgress(value=0.0, max=19.0), HTML(value='')))"
      ]
     },
     "metadata": {},
     "output_type": "display_data"
    },
    {
     "name": "stdout",
     "output_type": "stream",
     "text": [
      "\n"
     ]
    }
   ],
   "source": [
    "rnn_3layer = nn.Sequential(\n",
    "  EmbeddingPackable(nn.Embedding(vocab_size, D)), #(B, T) -> (B, T, D)\n",
    "  nn.RNN(D, hidden_nodes, num_layers=3, batch_first=True), #(B, T, D) -> ( (B,T,D) , (S, B, D)  )\n",
    "  LastTimeStep(rnn_layers=3), #We need to take the RNN output and reduce it to one item, (B, D)\n",
    "  nn.Linear(hidden_nodes, classes), #(B, D) -> (B, classes)\n",
    ")\n",
    "\n",
    "rnn_3layer.to(device)\n",
    "rnn_3layer_results = train_simple_network(rnn_3layer, loss_func, train_loader, test_loader=test_loader, score_funcs={'Accuracy': accuracy_score}, device=device, epochs=20, lr=0.01)"
   ]
  },
  {
   "cell_type": "code",
   "execution_count": 30,
   "metadata": {
    "ExecuteTime": {
     "end_time": "2021-04-05T02:22:10.895760Z",
     "start_time": "2021-04-05T02:22:10.629737Z"
    }
   },
   "outputs": [
    {
     "data": {
      "text/plain": [
       "<AxesSubplot:xlabel='epoch', ylabel='test Accuracy'>"
      ]
     },
     "execution_count": 30,
     "metadata": {},
     "output_type": "execute_result"
    },
    {
     "data": {
      "application/pdf": "[encoded data removed]",
      "image/png": "[encoded data removed]",
      "text/plain": [
       "<Figure size 432x288 with 1 Axes>"
      ]
     },
     "metadata": {
      "needs_background": "light"
     },
     "output_type": "display_data"
    }
   ],
   "source": [
    "sns.lineplot(x='epoch', y='test Accuracy', data=packed_train, label='RNN: 1-Layer')\n",
    "sns.lineplot(x='epoch', y='test Accuracy', data=rnn_3layer_results, label='RNN: 3-Layer')"
   ]
  },
  {
   "cell_type": "code",
   "execution_count": 31,
   "metadata": {
    "ExecuteTime": {
     "end_time": "2021-04-05T02:25:25.544944Z",
     "start_time": "2021-04-05T02:22:10.897146Z"
    },
    "tags": [
     "remove_output"
    ]
   },
   "outputs": [
    {
     "data": {
      "application/vnd.jupyter.widget-view+json": {
       "model_id": "f83b2184a5b54713bdd62fc769d7d38e",
       "version_major": 2,
       "version_minor": 0
      },
      "text/plain": [
       "HBox(children=(HTML(value='Epoch'), FloatProgress(value=0.0, max=20.0), HTML(value='')))"
      ]
     },
     "metadata": {},
     "output_type": "display_data"
    },
    {
     "data": {
      "application/vnd.jupyter.widget-view+json": {
       "model_id": "",
       "version_major": 2,
       "version_minor": 0
      },
      "text/plain": [
       "HBox(children=(HTML(value='Training'), FloatProgress(value=0.0, max=1236.0), HTML(value='')))"
      ]
     },
     "metadata": {},
     "output_type": "display_data"
    },
    {
     "data": {
      "application/vnd.jupyter.widget-view+json": {
       "model_id": "",
       "version_major": 2,
       "version_minor": 0
      },
      "text/plain": [
       "HBox(children=(HTML(value='Testing'), FloatProgress(value=0.0, max=19.0), HTML(value='')))"
      ]
     },
     "metadata": {},
     "output_type": "display_data"
    },
    {
     "data": {
      "application/vnd.jupyter.widget-view+json": {
       "model_id": "",
       "version_major": 2,
       "version_minor": 0
      },
      "text/plain": [
       "HBox(children=(HTML(value='Training'), FloatProgress(value=0.0, max=1236.0), HTML(value='')))"
      ]
     },
     "metadata": {},
     "output_type": "display_data"
    },
    {
     "data": {
      "application/vnd.jupyter.widget-view+json": {
       "model_id": "",
       "version_major": 2,
       "version_minor": 0
      },
      "text/plain": [
       "HBox(children=(HTML(value='Testing'), FloatProgress(value=0.0, max=19.0), HTML(value='')))"
      ]
     },
     "metadata": {},
     "output_type": "display_data"
    },
    {
     "data": {
      "application/vnd.jupyter.widget-view+json": {
       "model_id": "",
       "version_major": 2,
       "version_minor": 0
      },
      "text/plain": [
       "HBox(children=(HTML(value='Training'), FloatProgress(value=0.0, max=1236.0), HTML(value='')))"
      ]
     },
     "metadata": {},
     "output_type": "display_data"
    },
    {
     "data": {
      "application/vnd.jupyter.widget-view+json": {
       "model_id": "",
       "version_major": 2,
       "version_minor": 0
      },
      "text/plain": [
       "HBox(children=(HTML(value='Testing'), FloatProgress(value=0.0, max=19.0), HTML(value='')))"
      ]
     },
     "metadata": {},
     "output_type": "display_data"
    },
    {
     "data": {
      "application/vnd.jupyter.widget-view+json": {
       "model_id": "",
       "version_major": 2,
       "version_minor": 0
      },
      "text/plain": [
       "HBox(children=(HTML(value='Training'), FloatProgress(value=0.0, max=1236.0), HTML(value='')))"
      ]
     },
     "metadata": {},
     "output_type": "display_data"
    },
    {
     "data": {
      "application/vnd.jupyter.widget-view+json": {
       "model_id": "",
       "version_major": 2,
       "version_minor": 0
      },
      "text/plain": [
       "HBox(children=(HTML(value='Testing'), FloatProgress(value=0.0, max=19.0), HTML(value='')))"
      ]
     },
     "metadata": {},
     "output_type": "display_data"
    },
    {
     "data": {
      "application/vnd.jupyter.widget-view+json": {
       "model_id": "",
       "version_major": 2,
       "version_minor": 0
      },
      "text/plain": [
       "HBox(children=(HTML(value='Training'), FloatProgress(value=0.0, max=1236.0), HTML(value='')))"
      ]
     },
     "metadata": {},
     "output_type": "display_data"
    },
    {
     "data": {
      "application/vnd.jupyter.widget-view+json": {
       "model_id": "",
       "version_major": 2,
       "version_minor": 0
      },
      "text/plain": [
       "HBox(children=(HTML(value='Testing'), FloatProgress(value=0.0, max=19.0), HTML(value='')))"
      ]
     },
     "metadata": {},
     "output_type": "display_data"
    },
    {
     "data": {
      "application/vnd.jupyter.widget-view+json": {
       "model_id": "",
       "version_major": 2,
       "version_minor": 0
      },
      "text/plain": [
       "HBox(children=(HTML(value='Training'), FloatProgress(value=0.0, max=1236.0), HTML(value='')))"
      ]
     },
     "metadata": {},
     "output_type": "display_data"
    },
    {
     "data": {
      "application/vnd.jupyter.widget-view+json": {
       "model_id": "",
       "version_major": 2,
       "version_minor": 0
      },
      "text/plain": [
       "HBox(children=(HTML(value='Testing'), FloatProgress(value=0.0, max=19.0), HTML(value='')))"
      ]
     },
     "metadata": {},
     "output_type": "display_data"
    },
    {
     "data": {
      "application/vnd.jupyter.widget-view+json": {
       "model_id": "",
       "version_major": 2,
       "version_minor": 0
      },
      "text/plain": [
       "HBox(children=(HTML(value='Training'), FloatProgress(value=0.0, max=1236.0), HTML(value='')))"
      ]
     },
     "metadata": {},
     "output_type": "display_data"
    },
    {
     "data": {
      "application/vnd.jupyter.widget-view+json": {
       "model_id": "",
       "version_major": 2,
       "version_minor": 0
      },
      "text/plain": [
       "HBox(children=(HTML(value='Testing'), FloatProgress(value=0.0, max=19.0), HTML(value='')))"
      ]
     },
     "metadata": {},
     "output_type": "display_data"
    },
    {
     "data": {
      "application/vnd.jupyter.widget-view+json": {
       "model_id": "",
       "version_major": 2,
       "version_minor": 0
      },
      "text/plain": [
       "HBox(children=(HTML(value='Training'), FloatProgress(value=0.0, max=1236.0), HTML(value='')))"
      ]
     },
     "metadata": {},
     "output_type": "display_data"
    },
    {
     "data": {
      "application/vnd.jupyter.widget-view+json": {
       "model_id": "",
       "version_major": 2,
       "version_minor": 0
      },
      "text/plain": [
       "HBox(children=(HTML(value='Testing'), FloatProgress(value=0.0, max=19.0), HTML(value='')))"
      ]
     },
     "metadata": {},
     "output_type": "display_data"
    },
    {
     "data": {
      "application/vnd.jupyter.widget-view+json": {
       "model_id": "",
       "version_major": 2,
       "version_minor": 0
      },
      "text/plain": [
       "HBox(children=(HTML(value='Training'), FloatProgress(value=0.0, max=1236.0), HTML(value='')))"
      ]
     },
     "metadata": {},
     "output_type": "display_data"
    },
    {
     "data": {
      "application/vnd.jupyter.widget-view+json": {
       "model_id": "",
       "version_major": 2,
       "version_minor": 0
      },
      "text/plain": [
       "HBox(children=(HTML(value='Testing'), FloatProgress(value=0.0, max=19.0), HTML(value='')))"
      ]
     },
     "metadata": {},
     "output_type": "display_data"
    },
    {
     "data": {
      "application/vnd.jupyter.widget-view+json": {
       "model_id": "",
       "version_major": 2,
       "version_minor": 0
      },
      "text/plain": [
       "HBox(children=(HTML(value='Training'), FloatProgress(value=0.0, max=1236.0), HTML(value='')))"
      ]
     },
     "metadata": {},
     "output_type": "display_data"
    },
    {
     "data": {
      "application/vnd.jupyter.widget-view+json": {
       "model_id": "",
       "version_major": 2,
       "version_minor": 0
      },
      "text/plain": [
       "HBox(children=(HTML(value='Testing'), FloatProgress(value=0.0, max=19.0), HTML(value='')))"
      ]
     },
     "metadata": {},
     "output_type": "display_data"
    },
    {
     "data": {
      "application/vnd.jupyter.widget-view+json": {
       "model_id": "",
       "version_major": 2,
       "version_minor": 0
      },
      "text/plain": [
       "HBox(children=(HTML(value='Training'), FloatProgress(value=0.0, max=1236.0), HTML(value='')))"
      ]
     },
     "metadata": {},
     "output_type": "display_data"
    },
    {
     "data": {
      "application/vnd.jupyter.widget-view+json": {
       "model_id": "",
       "version_major": 2,
       "version_minor": 0
      },
      "text/plain": [
       "HBox(children=(HTML(value='Testing'), FloatProgress(value=0.0, max=19.0), HTML(value='')))"
      ]
     },
     "metadata": {},
     "output_type": "display_data"
    },
    {
     "data": {
      "application/vnd.jupyter.widget-view+json": {
       "model_id": "",
       "version_major": 2,
       "version_minor": 0
      },
      "text/plain": [
       "HBox(children=(HTML(value='Training'), FloatProgress(value=0.0, max=1236.0), HTML(value='')))"
      ]
     },
     "metadata": {},
     "output_type": "display_data"
    },
    {
     "data": {
      "application/vnd.jupyter.widget-view+json": {
       "model_id": "",
       "version_major": 2,
       "version_minor": 0
      },
      "text/plain": [
       "HBox(children=(HTML(value='Testing'), FloatProgress(value=0.0, max=19.0), HTML(value='')))"
      ]
     },
     "metadata": {},
     "output_type": "display_data"
    },
    {
     "data": {
      "application/vnd.jupyter.widget-view+json": {
       "model_id": "",
       "version_major": 2,
       "version_minor": 0
      },
      "text/plain": [
       "HBox(children=(HTML(value='Training'), FloatProgress(value=0.0, max=1236.0), HTML(value='')))"
      ]
     },
     "metadata": {},
     "output_type": "display_data"
    },
    {
     "data": {
      "application/vnd.jupyter.widget-view+json": {
       "model_id": "",
       "version_major": 2,
       "version_minor": 0
      },
      "text/plain": [
       "HBox(children=(HTML(value='Testing'), FloatProgress(value=0.0, max=19.0), HTML(value='')))"
      ]
     },
     "metadata": {},
     "output_type": "display_data"
    },
    {
     "data": {
      "application/vnd.jupyter.widget-view+json": {
       "model_id": "",
       "version_major": 2,
       "version_minor": 0
      },
      "text/plain": [
       "HBox(children=(HTML(value='Training'), FloatProgress(value=0.0, max=1236.0), HTML(value='')))"
      ]
     },
     "metadata": {},
     "output_type": "display_data"
    },
    {
     "data": {
      "application/vnd.jupyter.widget-view+json": {
       "model_id": "",
       "version_major": 2,
       "version_minor": 0
      },
      "text/plain": [
       "HBox(children=(HTML(value='Testing'), FloatProgress(value=0.0, max=19.0), HTML(value='')))"
      ]
     },
     "metadata": {},
     "output_type": "display_data"
    },
    {
     "data": {
      "application/vnd.jupyter.widget-view+json": {
       "model_id": "",
       "version_major": 2,
       "version_minor": 0
      },
      "text/plain": [
       "HBox(children=(HTML(value='Training'), FloatProgress(value=0.0, max=1236.0), HTML(value='')))"
      ]
     },
     "metadata": {},
     "output_type": "display_data"
    },
    {
     "data": {
      "application/vnd.jupyter.widget-view+json": {
       "model_id": "",
       "version_major": 2,
       "version_minor": 0
      },
      "text/plain": [
       "HBox(children=(HTML(value='Testing'), FloatProgress(value=0.0, max=19.0), HTML(value='')))"
      ]
     },
     "metadata": {},
     "output_type": "display_data"
    },
    {
     "data": {
      "application/vnd.jupyter.widget-view+json": {
       "model_id": "",
       "version_major": 2,
       "version_minor": 0
      },
      "text/plain": [
       "HBox(children=(HTML(value='Training'), FloatProgress(value=0.0, max=1236.0), HTML(value='')))"
      ]
     },
     "metadata": {},
     "output_type": "display_data"
    },
    {
     "data": {
      "application/vnd.jupyter.widget-view+json": {
       "model_id": "",
       "version_major": 2,
       "version_minor": 0
      },
      "text/plain": [
       "HBox(children=(HTML(value='Testing'), FloatProgress(value=0.0, max=19.0), HTML(value='')))"
      ]
     },
     "metadata": {},
     "output_type": "display_data"
    },
    {
     "data": {
      "application/vnd.jupyter.widget-view+json": {
       "model_id": "",
       "version_major": 2,
       "version_minor": 0
      },
      "text/plain": [
       "HBox(children=(HTML(value='Training'), FloatProgress(value=0.0, max=1236.0), HTML(value='')))"
      ]
     },
     "metadata": {},
     "output_type": "display_data"
    },
    {
     "data": {
      "application/vnd.jupyter.widget-view+json": {
       "model_id": "",
       "version_major": 2,
       "version_minor": 0
      },
      "text/plain": [
       "HBox(children=(HTML(value='Testing'), FloatProgress(value=0.0, max=19.0), HTML(value='')))"
      ]
     },
     "metadata": {},
     "output_type": "display_data"
    },
    {
     "data": {
      "application/vnd.jupyter.widget-view+json": {
       "model_id": "",
       "version_major": 2,
       "version_minor": 0
      },
      "text/plain": [
       "HBox(children=(HTML(value='Training'), FloatProgress(value=0.0, max=1236.0), HTML(value='')))"
      ]
     },
     "metadata": {},
     "output_type": "display_data"
    },
    {
     "data": {
      "application/vnd.jupyter.widget-view+json": {
       "model_id": "",
       "version_major": 2,
       "version_minor": 0
      },
      "text/plain": [
       "HBox(children=(HTML(value='Testing'), FloatProgress(value=0.0, max=19.0), HTML(value='')))"
      ]
     },
     "metadata": {},
     "output_type": "display_data"
    },
    {
     "data": {
      "application/vnd.jupyter.widget-view+json": {
       "model_id": "",
       "version_major": 2,
       "version_minor": 0
      },
      "text/plain": [
       "HBox(children=(HTML(value='Training'), FloatProgress(value=0.0, max=1236.0), HTML(value='')))"
      ]
     },
     "metadata": {},
     "output_type": "display_data"
    },
    {
     "data": {
      "application/vnd.jupyter.widget-view+json": {
       "model_id": "",
       "version_major": 2,
       "version_minor": 0
      },
      "text/plain": [
       "HBox(children=(HTML(value='Testing'), FloatProgress(value=0.0, max=19.0), HTML(value='')))"
      ]
     },
     "metadata": {},
     "output_type": "display_data"
    },
    {
     "data": {
      "application/vnd.jupyter.widget-view+json": {
       "model_id": "",
       "version_major": 2,
       "version_minor": 0
      },
      "text/plain": [
       "HBox(children=(HTML(value='Training'), FloatProgress(value=0.0, max=1236.0), HTML(value='')))"
      ]
     },
     "metadata": {},
     "output_type": "display_data"
    },
    {
     "data": {
      "application/vnd.jupyter.widget-view+json": {
       "model_id": "",
       "version_major": 2,
       "version_minor": 0
      },
      "text/plain": [
       "HBox(children=(HTML(value='Testing'), FloatProgress(value=0.0, max=19.0), HTML(value='')))"
      ]
     },
     "metadata": {},
     "output_type": "display_data"
    },
    {
     "name": "stdout",
     "output_type": "stream",
     "text": [
      "\n"
     ]
    }
   ],
   "source": [
    "rnn_3layer_bidir = nn.Sequential(\n",
    "  EmbeddingPackable(nn.Embedding(vocab_size, D)), #(B, T) -> (B, T, D)\n",
    "  nn.RNN(D, hidden_nodes, num_layers=3, batch_first=True, bidirectional=True), #(B, T, D) -> ( (B,T,D) , (S, B, D)  )\n",
    "  LastTimeStep(rnn_layers=3, bidirectional=True), #We need to take the RNN output and reduce it to one item, (B, D)\n",
    "  nn.Linear(hidden_nodes*2, classes), #(B, D) -> (B, classes)\n",
    ")\n",
    "\n",
    "rnn_3layer_bidir.to(device)\n",
    "rnn_3layer_bidir_results = train_simple_network(rnn_3layer_bidir, loss_func, train_loader, test_loader=test_loader, score_funcs={'Accuracy': accuracy_score}, device=device, epochs=20, lr=0.01)"
   ]
  },
  {
   "cell_type": "code",
   "execution_count": 32,
   "metadata": {
    "ExecuteTime": {
     "end_time": "2021-04-05T02:25:25.846176Z",
     "start_time": "2021-04-05T02:25:25.546310Z"
    }
   },
   "outputs": [
    {
     "data": {
      "text/plain": [
       "<AxesSubplot:xlabel='epoch', ylabel='test Accuracy'>"
      ]
     },
     "execution_count": 32,
     "metadata": {},
     "output_type": "execute_result"
    },
    {
     "data": {
      "application/pdf": "[encoded data removed]",
      "image/png": "[encoded data removed]",
      "text/plain": [
       "<Figure size 432x288 with 1 Axes>"
      ]
     },
     "metadata": {
      "needs_background": "light"
     },
     "output_type": "display_data"
    }
   ],
   "source": [
    "sns.lineplot(x='epoch', y='test Accuracy', data=packed_train, label='RNN: 1-Layer')\n",
    "sns.lineplot(x='epoch', y='test Accuracy', data=rnn_3layer_results, label='RNN: 3-Layer')\n",
    "sns.lineplot(x='epoch', y='test Accuracy', data=rnn_3layer_bidir_results, label='RNN: 3-Layer BiDir')"
   ]
  }
 ],
 "metadata": {
  "author": "A Note About Classification &amp; Meaning",
  "celltoolbar": "Tags",
  "kernelspec": {
   "display_name": "Python 3 (ipykernel)",
   "language": "python",
   "name": "python3"
  },
  "language_info": {
   "codemirror_mode": {
    "name": "ipython",
    "version": 3
   },
   "file_extension": ".py",
   "mimetype": "text/x-python",
   "name": "python",
   "nbconvert_exporter": "python",
   "pygments_lexer": "ipython3",
   "version": "3.11.8"
  },
  "latex_envs": {
   "LaTeX_envs_menu_present": true,
   "autoclose": false,
   "autocomplete": true,
   "bibliofile": "biblio.bib",
   "cite_by": "apalike",
   "current_citInitial": 1,
   "eqLabelWithNumbers": true,
   "eqNumInitial": 1,
   "hotkeys": {
    "equation": "Ctrl-E",
    "itemize": "Ctrl-I"
   },
   "labels_anchors": false,
   "latex_user_defs": false,
   "report_style_numbering": false,
   "user_envs_cfg": false
  },
  "latex_metadata": {
   "title": "Recurrent Neural Networks"
  },
  "varInspector": {
   "cols": {
    "lenName": 16,
    "lenType": 16,
    "lenVar": 40
   },
   "kernels_config": {
    "python": {
     "delete_cmd_postfix": "",
     "delete_cmd_prefix": "del ",
     "library": "var_list.py",
     "varRefreshCmd": "print(var_dic_list())"
    },
    "r": {
     "delete_cmd_postfix": ") ",
     "delete_cmd_prefix": "rm(",
     "library": "var_list.r",
     "varRefreshCmd": "cat(var_dic_list()) "
    }
   },
   "types_to_exclude": [
    "module",
    "function",
    "builtin_function_or_method",
    "instance",
    "_Feature"
   ],
   "window_display": false
  }
 },
 "nbformat": 4,
 "nbformat_minor": 4
}
