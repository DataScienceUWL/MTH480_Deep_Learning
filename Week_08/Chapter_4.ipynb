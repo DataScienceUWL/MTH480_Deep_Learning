{
 "cells": [
  {
   "cell_type": "markdown",
   "metadata": {},
   "source": [
    "## Chapter 4 from Inside Deep Learning.  Math, Algorithms, Models\n",
    "\n",
    "[Book Github Repo](https://github.com/EdwardRaff/Inside-Deep-Learning)\n",
    "\n",
    "**Important Note:**  I changed the `train_simple_network` function in `idlmam.py` to use the `AdamW` optimizer instead of `SGD.`  Thus, the figures in this notebook look pretty different from those in the book.  In particular, we trained all models for 5 epochs and used batch size 32 for all but `first_rnn,` which used batch size 1.  (The book does 20 epochs and batch size 16 for most of its models)."
   ]
  },
  {
   "cell_type": "code",
   "execution_count": 1,
   "metadata": {
    "ExecuteTime": {
     "end_time": "2021-04-05T02:10:33.113447Z",
     "start_time": "2021-04-05T02:10:31.845159Z"
    },
    "tags": [
     "remove_cell"
    ]
   },
   "outputs": [
    {
     "name": "stderr",
     "output_type": "stream",
     "text": [
      "/var/folders/8w/0_6f1mnj291b3dfy5xqyp1rd3h18sr/T/ipykernel_60168/3207106799.py:9: TqdmExperimentalWarning: Using `tqdm.autonotebook.tqdm` in notebook mode. Use `tqdm.tqdm` instead to force console mode (e.g. in jupyter console)\n",
      "  from tqdm.autonotebook import tqdm #may not work\n"
     ]
    }
   ],
   "source": [
    "import torch\n",
    "import torch.nn as nn\n",
    "import torch.nn.functional as F\n",
    "import torchvision \n",
    "from torchvision import transforms\n",
    "\n",
    "from torch.utils.data import Dataset, DataLoader\n",
    "\n",
    "from tqdm.autonotebook import tqdm #may not work\n",
    "\n",
    "import numpy as np\n",
    "import seaborn as sns\n",
    "import matplotlib.pyplot as plt\n",
    "from matplotlib.pyplot import imshow\n",
    "\n",
    "import pandas as pd\n",
    "\n",
    "from sklearn.metrics import accuracy_score\n",
    "\n",
    "import time\n",
    "\n",
    "from idlmam import train_simple_network, Flatten, weight_reset"
   ]
  },
  {
   "cell_type": "code",
   "execution_count": 2,
   "metadata": {
    "ExecuteTime": {
     "end_time": "2021-04-05T02:10:33.126087Z",
     "start_time": "2021-04-05T02:10:33.120528Z"
    },
    "tags": [
     "remove_cell"
    ]
   },
   "outputs": [],
   "source": [
    "torch.backends.cudnn.deterministic=True\n",
    "from idlmam import set_seed, moveTo\n",
    "set_seed(42)"
   ]
  },
  {
   "cell_type": "code",
   "execution_count": 3,
   "metadata": {
    "ExecuteTime": {
     "end_time": "2021-04-05T02:10:33.139614Z",
     "start_time": "2021-04-05T02:10:33.127481Z"
    },
    "tags": [
     "remove_cell"
    ]
   },
   "outputs": [
    {
     "name": "stdout",
     "output_type": "stream",
     "text": [
      "MPS (Apple Silicon) is available\n",
      "Your device is using: mps\n"
     ]
    }
   ],
   "source": [
    "def detect_device():\n",
    "    if torch.cuda.is_available():\n",
    "        print(\"CUDA is available\")\n",
    "        return torch.device(\"cuda\")\n",
    "    elif torch.backends.mps.is_available():\n",
    "        print(\"MPS (Apple Silicon) is available\")\n",
    "        return torch.device(\"mps\")\n",
    "    else:\n",
    "        print(\"Only cpu is available\")\n",
    "        return torch.device(\"cpu\")\n",
    "\n",
    "device = detect_device()\n",
    "print(f\"Your device is using: {device}\")"
   ]
  },
  {
   "cell_type": "markdown",
   "metadata": {},
   "source": [
    "## 4.2.1 A simple sequence classification problem (pg 121)\n",
    "\n",
    "This material is in the textbook.  It's adapted from the (PyTorch RNN tutorial)[https://pytorch.org/tutorials/intermediate/char_rnn_classification_tutorial.html].\n",
    "\n",
    "We will build and train a basic character-level RNN to classify words.  \n",
    "\n",
    "A character-level RNN reads words as a series of characters - outputting a prediction and “hidden state” at each step, feeding its previous hidden state into each next step. We take the final prediction as the output, i.e., which class the word belongs to.\n",
    "\n",
    "Specifically, we’ll train on a few thousand surnames from 18 languages of origin and predict which language a name is from based on the spelling.\n"
   ]
  },
  {
   "cell_type": "markdown",
   "metadata": {},
   "source": [
    "### Get the data and decompress it"
   ]
  },
  {
   "cell_type": "code",
   "execution_count": 4,
   "metadata": {
    "ExecuteTime": {
     "end_time": "2021-04-05T02:13:07.424029Z",
     "start_time": "2021-04-05T02:13:06.705150Z"
    }
   },
   "outputs": [],
   "source": [
    "zip_file_url = \"https://download.pytorch.org/tutorial/data.zip\"\n",
    "\n",
    "import requests, zipfile, io\n",
    "r = requests.get(zip_file_url)\n",
    "z = zipfile.ZipFile(io.BytesIO(r.content))\n",
    "z.extractall()\n",
    "\n",
    "#Zip file is organized as data/names/[LANG].txt , where [LANG] is a specific language"
   ]
  },
  {
   "cell_type": "markdown",
   "metadata": {},
   "source": [
    "### Convert Unicode to ASCII\n",
    "\n",
    "Before we can represent the surnames as vectors we map the characters to lower case ASCII.  The characters are represented by Unicode (UTF-8) and we want only abcdefghijklmnopqrstuvwxyz .,;'\n",
    "\n",
    "So a name like \"Ślusàrski\" becomes \"slusarski\"\n",
    "\n",
    "Implicit here is a decision to use characters as the \"tokens\" to represent our text.  Tokenization is the process of breaking a text into units like characters or words and standardizing those.  For example, if we were using words as tokens we'd want \"Apple\", \"Apples\", \"apple\", and \"apples\" to all map to \"apple\".  The word \"apple\" would be one token in a \"vocabulary\" representing our text.\n",
    "\n",
    "In this case the vocabulary will be: abcdefghijklmnopqrstuvwxyz .,;'"
   ]
  },
  {
   "cell_type": "code",
   "execution_count": 5,
   "metadata": {
    "ExecuteTime": {
     "end_time": "2021-04-05T02:13:07.578702Z",
     "start_time": "2021-04-05T02:13:07.425705Z"
    }
   },
   "outputs": [
    {
     "name": "stdout",
     "output_type": "stream",
     "text": [
      "Arabic :  2000\n",
      "Chinese :  268\n",
      "Czech :  519\n",
      "Dutch :  297\n",
      "English :  3668\n",
      "French :  277\n",
      "German :  724\n",
      "Greek :  203\n",
      "Irish :  232\n",
      "Italian :  709\n",
      "Japanese :  991\n",
      "Korean :  94\n",
      "Polish :  139\n",
      "Portuguese :  74\n",
      "Russian :  9408\n",
      "Scottish :  100\n",
      "Spanish :  298\n",
      "Vietnamese :  73\n"
     ]
    }
   ],
   "source": [
    "namge_language_data = {}\n",
    "\n",
    "#We will use some code to remove UNICODE tokens to make life easy for us processing-wise\n",
    "#e.g., convert something like \"Ślusàrski\" to Slusarski\n",
    "import unicodedata\n",
    "import string\n",
    "\n",
    "all_letters = string.ascii_letters + \" .,;'\"\n",
    "n_letters = len(all_letters)\n",
    "alphabet = {}\n",
    "for i in range(n_letters):\n",
    "    alphabet[all_letters[i]] = i\n",
    "    \n",
    "# Turn a Unicode string to plain ASCII, thanks to https://stackoverflow.com/a/518232/2809427\n",
    "def unicodeToAscii(s):\n",
    "    return ''.join(\n",
    "        c for c in unicodedata.normalize('NFD', s)\n",
    "        if unicodedata.category(c) != 'Mn'\n",
    "        and c in all_letters\n",
    "    )\n",
    "\n",
    "#Loop through every language, open the zip file entry, and read all the lines from the text file. \n",
    "for zip_path in z.namelist():\n",
    "    if \"data/names/\" in zip_path and zip_path.endswith(\".txt\"):\n",
    "        lang = zip_path[len(\"data/names/\"):-len(\".txt\")]\n",
    "        with z.open(zip_path) as myfile:\n",
    "            lang_names = [unicodeToAscii(line).lower() for line in str(myfile.read(), encoding='utf-8').strip().split(\"\\n\")]\n",
    "            namge_language_data[lang] = lang_names\n",
    "        print(lang, \": \", len(lang_names)) #Print out the name of each language too. "
   ]
  },
  {
   "cell_type": "code",
   "execution_count": 6,
   "metadata": {},
   "outputs": [
    {
     "data": {
      "text/plain": [
       "'Slusarski'"
      ]
     },
     "execution_count": 6,
     "metadata": {},
     "output_type": "execute_result"
    }
   ],
   "source": [
    "# unicode to ascii example\n",
    "unicodeToAscii(\"Ślusàrski\")"
   ]
  },
  {
   "cell_type": "code",
   "execution_count": 7,
   "metadata": {},
   "outputs": [
    {
     "data": {
      "text/plain": [
       "['abreu',\n",
       " 'albuquerque',\n",
       " 'almeida',\n",
       " 'alves',\n",
       " 'araujo',\n",
       " 'araullo',\n",
       " 'barros',\n",
       " 'basurto',\n",
       " 'belo',\n",
       " 'cabral',\n",
       " 'campos',\n",
       " 'cardozo',\n",
       " 'castro',\n",
       " 'coelho',\n",
       " 'costa',\n",
       " 'crespo',\n",
       " 'cruz',\n",
       " \"d'cruz\",\n",
       " \"d'cruze\",\n",
       " 'delgado',\n",
       " 'de santigo',\n",
       " 'duarte',\n",
       " 'esteves',\n",
       " 'fernandes',\n",
       " 'ferreira',\n",
       " 'ferreiro',\n",
       " 'ferro',\n",
       " 'fonseca',\n",
       " 'franco',\n",
       " 'freitas',\n",
       " 'garcia',\n",
       " 'gaspar',\n",
       " 'gomes',\n",
       " 'gouveia',\n",
       " 'guerra',\n",
       " 'henriques',\n",
       " 'lobo',\n",
       " 'machado',\n",
       " 'madeira',\n",
       " 'magalhaes',\n",
       " 'maria',\n",
       " 'mata',\n",
       " 'mateus',\n",
       " 'matos',\n",
       " 'medeiros',\n",
       " 'melo',\n",
       " 'mendes',\n",
       " 'moreno',\n",
       " 'nunes',\n",
       " 'palmeiro',\n",
       " 'paredes',\n",
       " 'pereira',\n",
       " 'pinheiro',\n",
       " 'pinho',\n",
       " 'ramires',\n",
       " 'ribeiro',\n",
       " 'rios',\n",
       " 'rocha',\n",
       " 'rodrigues',\n",
       " 'romao',\n",
       " 'rosario',\n",
       " 'salazar',\n",
       " 'santana',\n",
       " 'santiago',\n",
       " 'santos',\n",
       " 'serafim',\n",
       " 'silva',\n",
       " 'silveira',\n",
       " 'simoes',\n",
       " 'soares',\n",
       " 'souza',\n",
       " 'torres',\n",
       " 'vargas',\n",
       " 'ventura']"
      ]
     },
     "execution_count": 7,
     "metadata": {},
     "output_type": "execute_result"
    }
   ],
   "source": [
    "namge_language_data['Portuguese']"
   ]
  },
  {
   "cell_type": "markdown",
   "metadata": {},
   "source": [
    "### Dataset and Dataloaders"
   ]
  },
  {
   "cell_type": "code",
   "execution_count": 8,
   "metadata": {
    "ExecuteTime": {
     "end_time": "2021-04-05T02:13:07.587570Z",
     "start_time": "2021-04-05T02:13:07.580165Z"
    }
   },
   "outputs": [],
   "source": [
    "class LanguageNameDataset(Dataset):\n",
    "    \n",
    "    def __init__(self, lang_name_dict, vocabulary):\n",
    "        self.label_names = [x for x in lang_name_dict.keys()]\n",
    "        self.data = []\n",
    "        self.labels = []\n",
    "        self.vocabulary = vocabulary\n",
    "        for y, language in enumerate(self.label_names):\n",
    "            for sample in lang_name_dict[language]:\n",
    "                self.data.append(sample)\n",
    "                self.labels.append(y)\n",
    "        \n",
    "    def __len__(self):\n",
    "        return len(self.data)\n",
    "    \n",
    "    def string2InputVec(self, input_string):\n",
    "        \"\"\"\n",
    "        This method will convert any input string into a vector of long values, according to the vocabulary used by this object. \n",
    "        input_string: the string to convert to a tensor\n",
    "        \"\"\"\n",
    "        T = len(input_string) #How many characters long is the string?\n",
    "        \n",
    "        #Create a new tensor to store the result in\n",
    "        name_vec = torch.zeros((T), dtype=torch.long)\n",
    "        #iterate through the string and place the appropriate values into the tensor\n",
    "        for pos, character in enumerate(input_string):\n",
    "            name_vec[pos] = self.vocabulary[character]\n",
    "            \n",
    "        return name_vec\n",
    "    \n",
    "    def __getitem__(self, idx):\n",
    "        name = self.data[idx]\n",
    "        label = self.labels[idx]\n",
    "        \n",
    "        #Conver the correct class label into a tensor for PyTorch\n",
    "        label_vec = torch.tensor([label], dtype=torch.long)\n",
    "        \n",
    "        return self.string2InputVec(name), label"
   ]
  },
  {
   "cell_type": "code",
   "execution_count": 9,
   "metadata": {
    "ExecuteTime": {
     "end_time": "2021-04-05T02:13:07.597263Z",
     "start_time": "2021-04-05T02:13:07.589150Z"
    }
   },
   "outputs": [],
   "source": [
    "dataset = LanguageNameDataset(namge_language_data, alphabet)\n",
    "\n",
    "train_data, test_data = torch.utils.data.random_split(dataset, (len(dataset)-300, 300))\n",
    "train_loader = DataLoader(train_data, batch_size=1, shuffle=True)\n",
    "test_loader = DataLoader(test_data, batch_size=1, shuffle=False)"
   ]
  },
  {
   "cell_type": "code",
   "execution_count": 10,
   "metadata": {},
   "outputs": [
    {
     "data": {
      "text/plain": [
       "(tensor([[ 1,  8, 17,  8, 13]]), tensor([14]))"
      ]
     },
     "execution_count": 10,
     "metadata": {},
     "output_type": "execute_result"
    }
   ],
   "source": [
    "input, target = next(iter(train_loader))\n",
    "input,target"
   ]
  },
  {
   "cell_type": "markdown",
   "metadata": {},
   "source": [
    "### Embeddings\n",
    "\n",
    "The tensor representation of a name isn't yet the form we need to train an RNN.  Each token in the input has to become a vector.  So we need a method to map individual characters to vectors, \n",
    "\n",
    "e.g. 'b' -> 1 -> [0,1,0,0,...]\n",
    "\n",
    "These vectors are called \"embeddings\".  Often times we'll determine what embeddings to use as part of the training process.  This is done by adding an embedding layer to our neural network.\n",
    "\n",
    "`nn.Embedding( vocab size, embedding dimensions )`"
   ]
  },
  {
   "cell_type": "code",
   "execution_count": 11,
   "metadata": {
    "ExecuteTime": {
     "end_time": "2021-04-05T02:13:07.606766Z",
     "start_time": "2021-04-05T02:13:07.598682Z"
    }
   },
   "outputs": [
    {
     "name": "stdout",
     "output_type": "stream",
     "text": [
      "torch.Size([5]) torch.Size([5, 2])\n",
      "tensor([[ 0.6532,  0.7195],\n",
      "        [ 1.0832,  1.1107],\n",
      "        [ 1.0832,  1.1107],\n",
      "        [ 0.6532,  0.7195],\n",
      "        [-0.6708, -0.2941]])\n"
     ]
    }
   ],
   "source": [
    "with torch.no_grad():\n",
    "    input_sequence = torch.tensor([0, 1, 1, 0, 2], dtype=torch.long)\n",
    "    embd = nn.Embedding(3, 2)\n",
    "    x_seq = embd(input_sequence)\n",
    "    print(input_sequence.shape, x_seq.shape)\n",
    "    print(x_seq)"
   ]
  },
  {
   "cell_type": "markdown",
   "metadata": {},
   "source": [
    "We can also use predetermined embeddings (look up \"Word2Vec\" and \"NLP Glove\")"
   ]
  },
  {
   "cell_type": "code",
   "execution_count": 12,
   "metadata": {
    "ExecuteTime": {
     "end_time": "2021-04-05T02:13:07.613422Z",
     "start_time": "2021-04-05T02:13:07.608156Z"
    }
   },
   "outputs": [],
   "source": [
    "class LastTimeStep(nn.Module):\n",
    "    \"\"\"\n",
    "    A class for extracting the hidden activations of the last time step following \n",
    "    the output of a PyTorch RNN module. \n",
    "    \"\"\"\n",
    "    def __init__(self, rnn_layers=1, bidirectional=False):\n",
    "        super(LastTimeStep, self).__init__()\n",
    "        self.rnn_layers = rnn_layers\n",
    "        if bidirectional:\n",
    "            self.num_driections = 2\n",
    "        else:\n",
    "            self.num_driections = 1    \n",
    "    \n",
    "    def forward(self, input):\n",
    "        #Result is either a tupe (out, h_t)\n",
    "        #or a tuple (out, (h_t, c_t))\n",
    "        rnn_output = input[0]\n",
    "        last_step = input[1] #this will be h_t\n",
    "        if(type(last_step) == tuple):#unless it's a tuple, \n",
    "            last_step = last_step[0]#then h_t is the first item in the tuple\n",
    "        batch_size = last_step.shape[1] #per docs, shape is: '(num_layers * num_directions, batch, hidden_size)'\n",
    "        #reshaping so that everything is separate \n",
    "        last_step = last_step.view(self.rnn_layers, self.num_driections, batch_size, -1)\n",
    "        #We want the last layer's results\n",
    "        last_step = last_step[self.rnn_layers-1] \n",
    "        #Re order so batch comes first\n",
    "        last_step = last_step.permute(1, 0, 2)\n",
    "        #Finally, flatten the last two dimensions into one\n",
    "        return last_step.reshape(batch_size, -1)"
   ]
  },
  {
   "cell_type": "code",
   "execution_count": 13,
   "metadata": {
    "ExecuteTime": {
     "end_time": "2021-04-05T02:13:07.620042Z",
     "start_time": "2021-04-05T02:13:07.614864Z"
    }
   },
   "outputs": [],
   "source": [
    "D = 64\n",
    "vocab_size = len(all_letters)\n",
    "hidden_nodes = 256\n",
    "classes = len(dataset.label_names)\n",
    "\n",
    "first_rnn = nn.Sequential(\n",
    "  nn.Embedding(vocab_size, D), #(B, T) -> (B, T, D)\n",
    "  nn.RNN(D, hidden_nodes, batch_first=True), #(B, T, D) -> ( (B,T,D) , (S, B, D)  )\n",
    "  #the tanh activation is built into the RNN object, so we don't need to do it here\n",
    "  LastTimeStep(), #We need to take the RNN output and reduce it to one item, (B, D)\n",
    "  nn.Linear(hidden_nodes, classes), #(B, D) -> (B, classes)\n",
    ")"
   ]
  },
  {
   "cell_type": "code",
   "execution_count": 14,
   "metadata": {
    "ExecuteTime": {
     "end_time": "2021-04-05T02:17:46.189455Z",
     "start_time": "2021-04-05T02:13:07.621526Z"
    },
    "scrolled": true,
    "tags": [
     "remove_output"
    ]
   },
   "outputs": [
    {
     "data": {
      "application/vnd.jupyter.widget-view+json": {
       "model_id": "ebe204047c004fe0923eedd78ccffc45",
       "version_major": 2,
       "version_minor": 0
      },
      "text/plain": [
       "Epoch:   0%|          | 0/5 [00:00<?, ?it/s]"
      ]
     },
     "metadata": {},
     "output_type": "display_data"
    },
    {
     "data": {
      "application/vnd.jupyter.widget-view+json": {
       "model_id": "",
       "version_major": 2,
       "version_minor": 0
      },
      "text/plain": [
       "Training:   0%|          | 0/19774 [00:00<?, ?it/s]"
      ]
     },
     "metadata": {},
     "output_type": "display_data"
    },
    {
     "data": {
      "application/vnd.jupyter.widget-view+json": {
       "model_id": "",
       "version_major": 2,
       "version_minor": 0
      },
      "text/plain": [
       "Testing:   0%|          | 0/300 [00:00<?, ?it/s]"
      ]
     },
     "metadata": {},
     "output_type": "display_data"
    },
    {
     "data": {
      "application/vnd.jupyter.widget-view+json": {
       "model_id": "",
       "version_major": 2,
       "version_minor": 0
      },
      "text/plain": [
       "Training:   0%|          | 0/19774 [00:00<?, ?it/s]"
      ]
     },
     "metadata": {},
     "output_type": "display_data"
    },
    {
     "data": {
      "application/vnd.jupyter.widget-view+json": {
       "model_id": "",
       "version_major": 2,
       "version_minor": 0
      },
      "text/plain": [
       "Testing:   0%|          | 0/300 [00:00<?, ?it/s]"
      ]
     },
     "metadata": {},
     "output_type": "display_data"
    },
    {
     "data": {
      "application/vnd.jupyter.widget-view+json": {
       "model_id": "",
       "version_major": 2,
       "version_minor": 0
      },
      "text/plain": [
       "Training:   0%|          | 0/19774 [00:00<?, ?it/s]"
      ]
     },
     "metadata": {},
     "output_type": "display_data"
    },
    {
     "data": {
      "application/vnd.jupyter.widget-view+json": {
       "model_id": "",
       "version_major": 2,
       "version_minor": 0
      },
      "text/plain": [
       "Testing:   0%|          | 0/300 [00:00<?, ?it/s]"
      ]
     },
     "metadata": {},
     "output_type": "display_data"
    },
    {
     "data": {
      "application/vnd.jupyter.widget-view+json": {
       "model_id": "",
       "version_major": 2,
       "version_minor": 0
      },
      "text/plain": [
       "Training:   0%|          | 0/19774 [00:00<?, ?it/s]"
      ]
     },
     "metadata": {},
     "output_type": "display_data"
    },
    {
     "data": {
      "application/vnd.jupyter.widget-view+json": {
       "model_id": "",
       "version_major": 2,
       "version_minor": 0
      },
      "text/plain": [
       "Testing:   0%|          | 0/300 [00:00<?, ?it/s]"
      ]
     },
     "metadata": {},
     "output_type": "display_data"
    },
    {
     "data": {
      "application/vnd.jupyter.widget-view+json": {
       "model_id": "",
       "version_major": 2,
       "version_minor": 0
      },
      "text/plain": [
       "Training:   0%|          | 0/19774 [00:00<?, ?it/s]"
      ]
     },
     "metadata": {},
     "output_type": "display_data"
    },
    {
     "data": {
      "application/vnd.jupyter.widget-view+json": {
       "model_id": "",
       "version_major": 2,
       "version_minor": 0
      },
      "text/plain": [
       "Testing:   0%|          | 0/300 [00:00<?, ?it/s]"
      ]
     },
     "metadata": {},
     "output_type": "display_data"
    }
   ],
   "source": [
    "loss_func = nn.CrossEntropyLoss()\n",
    "batch_one_train = train_simple_network(first_rnn, \n",
    "                                       loss_func, \n",
    "                                       train_loader, \n",
    "                                       test_loader=test_loader, \n",
    "                                       score_funcs={'Accuracy': accuracy_score}, \n",
    "                                       device=device, \n",
    "                                       epochs=5)"
   ]
  },
  {
   "cell_type": "code",
   "execution_count": 15,
   "metadata": {
    "ExecuteTime": {
     "end_time": "2021-04-05T02:17:46.442889Z",
     "start_time": "2021-04-05T02:17:46.190875Z"
    }
   },
   "outputs": [
    {
     "data": {
      "text/plain": [
       "<Axes: xlabel='epoch', ylabel='test Accuracy'>"
      ]
     },
     "execution_count": 15,
     "metadata": {},
     "output_type": "execute_result"
    },
    {
     "data": {
      "image/png": "[encoded data removed]",
      "text/plain": [
       "<Figure size 640x480 with 1 Axes>"
      ]
     },
     "metadata": {},
     "output_type": "display_data"
    }
   ],
   "source": [
    "sns.lineplot(x='epoch', y='test Accuracy', data=batch_one_train, label='RNN')"
   ]
  },
  {
   "cell_type": "code",
   "execution_count": 16,
   "metadata": {
    "ExecuteTime": {
     "end_time": "2021-04-05T02:17:46.509455Z",
     "start_time": "2021-04-05T02:17:46.444214Z"
    }
   },
   "outputs": [
    {
     "name": "stdout",
     "output_type": "stream",
     "text": [
      "    Arabic :  0.001%\n",
      "   Chinese :  0.003%\n",
      "     Czech :  0.007%\n",
      "     Dutch :  0.132%\n",
      "   English : 89.476%\n",
      "    French :  0.808%\n",
      "    German :  8.837%\n",
      "     Greek :  0.000%\n",
      "     Irish :  0.058%\n",
      "   Italian :  0.002%\n",
      "  Japanese :  0.000%\n",
      "    Korean :  0.002%\n",
      "    Polish :  0.001%\n",
      "Portuguese :  0.003%\n",
      "   Russian :  0.563%\n",
      "  Scottish :  0.098%\n",
      "   Spanish :  0.009%\n",
      "Vietnamese :  0.000%\n"
     ]
    }
   ],
   "source": [
    "def name_to_probs(model,name):\n",
    "    pred_rnn = model.to(\"cpu\").eval()\n",
    "    with torch.no_grad():\n",
    "        preds = F.softmax(pred_rnn(dataset.string2InputVec(name).reshape(1,-1)), dim=-1)\n",
    "        for class_id in range(len(dataset.label_names)):\n",
    "            print(f'{dataset.label_names[class_id]:>10} : {100*preds[0,class_id].item():6.3f}%')\n",
    "\n",
    "name_to_probs(first_rnn,\"baggett\")"
   ]
  },
  {
   "cell_type": "code",
   "execution_count": 17,
   "metadata": {
    "ExecuteTime": {
     "end_time": "2021-04-05T02:17:46.516173Z",
     "start_time": "2021-04-05T02:17:46.511040Z"
    }
   },
   "outputs": [],
   "source": [
    "def pad_and_pack(batch):\n",
    "    #1, 2, & 3: organize the batch input lengths, inputs, and outputs as seperate lists\n",
    "    input_tensors = []\n",
    "    labels = []\n",
    "    lengths = []\n",
    "    for x, y in batch:\n",
    "        input_tensors.append(x)\n",
    "        labels.append(y)\n",
    "        lengths.append(x.shape[0]) #Assume shape is (T, *)\n",
    "    #4: create the padded version of the input\n",
    "    x_padded = torch.nn.utils.rnn.pad_sequence(input_tensors, batch_first=True)\n",
    "    #5: create the packed version from the padded & lengths\n",
    "    x_packed = torch.nn.utils.rnn.pack_padded_sequence(x_padded, lengths, batch_first=True, enforce_sorted=False)\n",
    "    #Convert the lengths into a tensor\n",
    "    y_batched = torch.as_tensor(labels, dtype=torch.long)\n",
    "    #6: return a tuple of the packed inputs and their labels\n",
    "    return x_packed, y_batched\n"
   ]
  },
  {
   "cell_type": "code",
   "execution_count": 18,
   "metadata": {
    "ExecuteTime": {
     "end_time": "2021-04-05T02:17:46.521723Z",
     "start_time": "2021-04-05T02:17:46.517329Z"
    }
   },
   "outputs": [],
   "source": [
    "class EmbeddingPackable(nn.Module):\n",
    "    \"\"\"\n",
    "    The embedding layer in PyTorch does not support Packed Sequence objects. \n",
    "    This wrapper class will fix that. If a normal input comes in, it will \n",
    "    use the regular Embedding layer. Otherwise, it will work on the packed \n",
    "    sequence to return a new Packed sequence of the appropriate result. \n",
    "    \"\"\"\n",
    "    def __init__(self, embd_layer):\n",
    "        super(EmbeddingPackable, self).__init__()\n",
    "        self.embd_layer = embd_layer \n",
    "    \n",
    "    def forward(self, input):\n",
    "        if type(input) == torch.nn.utils.rnn.PackedSequence:\n",
    "            # We need to unpack the input, \n",
    "            sequences, lengths = torch.nn.utils.rnn.pad_packed_sequence(input.cpu(), batch_first=True)\n",
    "            #Embed it\n",
    "            sequences = self.embd_layer(sequences.to(input.data.device))\n",
    "            #And pack it into a new sequence\n",
    "            return torch.nn.utils.rnn.pack_padded_sequence(sequences, lengths.cpu(), \n",
    "                                                           batch_first=True, enforce_sorted=False)\n",
    "        else:#apply to normal data\n",
    "            return self.embd_layer(input)\n"
   ]
  },
  {
   "cell_type": "code",
   "execution_count": 19,
   "metadata": {
    "ExecuteTime": {
     "end_time": "2021-04-05T02:17:46.527559Z",
     "start_time": "2021-04-05T02:17:46.522964Z"
    }
   },
   "outputs": [],
   "source": [
    "B = 32\n",
    "train_loader = DataLoader(train_data, batch_size=B, shuffle=True, collate_fn=pad_and_pack)\n",
    "test_loader = DataLoader(test_data, batch_size=B, shuffle=False, collate_fn=pad_and_pack)"
   ]
  },
  {
   "cell_type": "code",
   "execution_count": 20,
   "metadata": {
    "ExecuteTime": {
     "end_time": "2021-04-05T02:17:46.536853Z",
     "start_time": "2021-04-05T02:17:46.530407Z"
    },
    "tags": [
     "remove_output"
    ]
   },
   "outputs": [
    {
     "data": {
      "text/plain": [
       "Sequential(\n",
       "  (0): EmbeddingPackable(\n",
       "    (embd_layer): Embedding(57, 64)\n",
       "  )\n",
       "  (1): RNN(64, 256, batch_first=True)\n",
       "  (2): LastTimeStep()\n",
       "  (3): Linear(in_features=256, out_features=18, bias=True)\n",
       ")"
      ]
     },
     "execution_count": 20,
     "metadata": {},
     "output_type": "execute_result"
    }
   ],
   "source": [
    "rnn_packed = nn.Sequential(\n",
    "  EmbeddingPackable(nn.Embedding(vocab_size, D)), #(B, T) -> (B, T, D)\n",
    "  nn.RNN(D, hidden_nodes, batch_first=True), #(B, T, D) -> ( (B,T,D) , (S, B, D)  )\n",
    "  LastTimeStep(), #We need to take the RNN output and reduce it to one item, (B, D)\n",
    "  nn.Linear(hidden_nodes, classes), #(B, D) -> (B, classes)\n",
    ")\n",
    "\n",
    "rnn_packed.to(device)"
   ]
  },
  {
   "cell_type": "code",
   "execution_count": 21,
   "metadata": {
    "ExecuteTime": {
     "end_time": "2021-04-05T02:19:39.317005Z",
     "start_time": "2021-04-05T02:17:46.538194Z"
    },
    "tags": [
     "remove_output"
    ]
   },
   "outputs": [
    {
     "data": {
      "application/vnd.jupyter.widget-view+json": {
       "model_id": "e6f77de7e07d4ab1b166feb6babe8dfe",
       "version_major": 2,
       "version_minor": 0
      },
      "text/plain": [
       "Epoch:   0%|          | 0/5 [00:00<?, ?it/s]"
      ]
     },
     "metadata": {},
     "output_type": "display_data"
    },
    {
     "data": {
      "application/vnd.jupyter.widget-view+json": {
       "model_id": "",
       "version_major": 2,
       "version_minor": 0
      },
      "text/plain": [
       "Training:   0%|          | 0/618 [00:00<?, ?it/s]"
      ]
     },
     "metadata": {},
     "output_type": "display_data"
    },
    {
     "data": {
      "application/vnd.jupyter.widget-view+json": {
       "model_id": "",
       "version_major": 2,
       "version_minor": 0
      },
      "text/plain": [
       "Testing:   0%|          | 0/10 [00:00<?, ?it/s]"
      ]
     },
     "metadata": {},
     "output_type": "display_data"
    },
    {
     "data": {
      "application/vnd.jupyter.widget-view+json": {
       "model_id": "",
       "version_major": 2,
       "version_minor": 0
      },
      "text/plain": [
       "Training:   0%|          | 0/618 [00:00<?, ?it/s]"
      ]
     },
     "metadata": {},
     "output_type": "display_data"
    },
    {
     "data": {
      "application/vnd.jupyter.widget-view+json": {
       "model_id": "",
       "version_major": 2,
       "version_minor": 0
      },
      "text/plain": [
       "Testing:   0%|          | 0/10 [00:00<?, ?it/s]"
      ]
     },
     "metadata": {},
     "output_type": "display_data"
    },
    {
     "data": {
      "application/vnd.jupyter.widget-view+json": {
       "model_id": "",
       "version_major": 2,
       "version_minor": 0
      },
      "text/plain": [
       "Training:   0%|          | 0/618 [00:00<?, ?it/s]"
      ]
     },
     "metadata": {},
     "output_type": "display_data"
    },
    {
     "data": {
      "application/vnd.jupyter.widget-view+json": {
       "model_id": "",
       "version_major": 2,
       "version_minor": 0
      },
      "text/plain": [
       "Testing:   0%|          | 0/10 [00:00<?, ?it/s]"
      ]
     },
     "metadata": {},
     "output_type": "display_data"
    },
    {
     "data": {
      "application/vnd.jupyter.widget-view+json": {
       "model_id": "",
       "version_major": 2,
       "version_minor": 0
      },
      "text/plain": [
       "Training:   0%|          | 0/618 [00:00<?, ?it/s]"
      ]
     },
     "metadata": {},
     "output_type": "display_data"
    },
    {
     "data": {
      "application/vnd.jupyter.widget-view+json": {
       "model_id": "",
       "version_major": 2,
       "version_minor": 0
      },
      "text/plain": [
       "Testing:   0%|          | 0/10 [00:00<?, ?it/s]"
      ]
     },
     "metadata": {},
     "output_type": "display_data"
    },
    {
     "data": {
      "application/vnd.jupyter.widget-view+json": {
       "model_id": "",
       "version_major": 2,
       "version_minor": 0
      },
      "text/plain": [
       "Training:   0%|          | 0/618 [00:00<?, ?it/s]"
      ]
     },
     "metadata": {},
     "output_type": "display_data"
    },
    {
     "data": {
      "application/vnd.jupyter.widget-view+json": {
       "model_id": "",
       "version_major": 2,
       "version_minor": 0
      },
      "text/plain": [
       "Testing:   0%|          | 0/10 [00:00<?, ?it/s]"
      ]
     },
     "metadata": {},
     "output_type": "display_data"
    }
   ],
   "source": [
    "loss_func = nn.CrossEntropyLoss()\n",
    "packed_train = train_simple_network(rnn_packed, \n",
    "                                    loss_func, \n",
    "                                    train_loader, \n",
    "                                    test_loader=test_loader, \n",
    "                                    score_funcs={'Accuracy': accuracy_score}, \n",
    "                                    device=device, \n",
    "                                    epochs=5)"
   ]
  },
  {
   "cell_type": "code",
   "execution_count": 22,
   "metadata": {
    "ExecuteTime": {
     "end_time": "2021-04-05T02:19:39.582038Z",
     "start_time": "2021-04-05T02:19:39.318290Z"
    }
   },
   "outputs": [
    {
     "data": {
      "text/plain": [
       "<Axes: xlabel='epoch', ylabel='test Accuracy'>"
      ]
     },
     "execution_count": 22,
     "metadata": {},
     "output_type": "execute_result"
    },
    {
     "data": {
      "image/png": "[encoded data removed]",
      "text/plain": [
       "<Figure size 640x480 with 1 Axes>"
      ]
     },
     "metadata": {},
     "output_type": "display_data"
    }
   ],
   "source": [
    "sns.lineplot(x='epoch', y='test Accuracy', data=batch_one_train, label='RNN: Batch=1')\n",
    "sns.lineplot(x='epoch', y='test Accuracy', data=packed_train, label='RNN:Packed Input')"
   ]
  },
  {
   "cell_type": "code",
   "execution_count": 23,
   "metadata": {
    "ExecuteTime": {
     "end_time": "2021-04-05T02:19:39.832368Z",
     "start_time": "2021-04-05T02:19:39.583652Z"
    }
   },
   "outputs": [
    {
     "data": {
      "text/plain": [
       "<Axes: xlabel='total time', ylabel='test Accuracy'>"
      ]
     },
     "execution_count": 23,
     "metadata": {},
     "output_type": "execute_result"
    },
    {
     "data": {
      "image/png": "[encoded data removed]",
      "text/plain": [
       "<Figure size 640x480 with 1 Axes>"
      ]
     },
     "metadata": {},
     "output_type": "display_data"
    }
   ],
   "source": [
    "sns.lineplot(x='total time', y='test Accuracy', data=batch_one_train, label='RNN: Batch=1')\n",
    "sns.lineplot(x='total time', y='test Accuracy', data=packed_train, label='RNN:Packed Input')"
   ]
  },
  {
   "cell_type": "code",
   "execution_count": 24,
   "metadata": {
    "ExecuteTime": {
     "end_time": "2021-04-05T02:19:39.901151Z",
     "start_time": "2021-04-05T02:19:39.833986Z"
    }
   },
   "outputs": [
    {
     "name": "stdout",
     "output_type": "stream",
     "text": [
      "    Arabic :  0.000%\n",
      "   Chinese :  0.000%\n",
      "     Czech :  1.030%\n",
      "     Dutch :  0.915%\n",
      "   English : 68.675%\n",
      "    French :  4.836%\n",
      "    German :  6.911%\n",
      "     Greek :  0.001%\n",
      "     Irish :  0.027%\n",
      "   Italian :  0.034%\n",
      "  Japanese :  0.001%\n",
      "    Korean :  0.000%\n",
      "    Polish :  0.011%\n",
      "Portuguese :  0.010%\n",
      "   Russian : 17.019%\n",
      "  Scottish :  0.335%\n",
      "   Spanish :  0.195%\n",
      "Vietnamese :  0.000%\n"
     ]
    }
   ],
   "source": [
    "name_to_probs(rnn_packed,\"baggett\")"
   ]
  },
  {
   "cell_type": "code",
   "execution_count": 25,
   "metadata": {
    "ExecuteTime": {
     "end_time": "2021-04-05T02:22:10.628335Z",
     "start_time": "2021-04-05T02:19:39.902969Z"
    },
    "tags": [
     "remove_output"
    ]
   },
   "outputs": [
    {
     "data": {
      "application/vnd.jupyter.widget-view+json": {
       "model_id": "9b3c13fabcf84cbebd1ccc28cfc76c41",
       "version_major": 2,
       "version_minor": 0
      },
      "text/plain": [
       "Epoch:   0%|          | 0/5 [00:00<?, ?it/s]"
      ]
     },
     "metadata": {},
     "output_type": "display_data"
    },
    {
     "data": {
      "application/vnd.jupyter.widget-view+json": {
       "model_id": "",
       "version_major": 2,
       "version_minor": 0
      },
      "text/plain": [
       "Training:   0%|          | 0/618 [00:00<?, ?it/s]"
      ]
     },
     "metadata": {},
     "output_type": "display_data"
    },
    {
     "data": {
      "application/vnd.jupyter.widget-view+json": {
       "model_id": "",
       "version_major": 2,
       "version_minor": 0
      },
      "text/plain": [
       "Testing:   0%|          | 0/10 [00:00<?, ?it/s]"
      ]
     },
     "metadata": {},
     "output_type": "display_data"
    },
    {
     "data": {
      "application/vnd.jupyter.widget-view+json": {
       "model_id": "",
       "version_major": 2,
       "version_minor": 0
      },
      "text/plain": [
       "Training:   0%|          | 0/618 [00:00<?, ?it/s]"
      ]
     },
     "metadata": {},
     "output_type": "display_data"
    },
    {
     "data": {
      "application/vnd.jupyter.widget-view+json": {
       "model_id": "",
       "version_major": 2,
       "version_minor": 0
      },
      "text/plain": [
       "Testing:   0%|          | 0/10 [00:00<?, ?it/s]"
      ]
     },
     "metadata": {},
     "output_type": "display_data"
    },
    {
     "data": {
      "application/vnd.jupyter.widget-view+json": {
       "model_id": "",
       "version_major": 2,
       "version_minor": 0
      },
      "text/plain": [
       "Training:   0%|          | 0/618 [00:00<?, ?it/s]"
      ]
     },
     "metadata": {},
     "output_type": "display_data"
    },
    {
     "data": {
      "application/vnd.jupyter.widget-view+json": {
       "model_id": "",
       "version_major": 2,
       "version_minor": 0
      },
      "text/plain": [
       "Testing:   0%|          | 0/10 [00:00<?, ?it/s]"
      ]
     },
     "metadata": {},
     "output_type": "display_data"
    },
    {
     "data": {
      "application/vnd.jupyter.widget-view+json": {
       "model_id": "",
       "version_major": 2,
       "version_minor": 0
      },
      "text/plain": [
       "Training:   0%|          | 0/618 [00:00<?, ?it/s]"
      ]
     },
     "metadata": {},
     "output_type": "display_data"
    },
    {
     "data": {
      "application/vnd.jupyter.widget-view+json": {
       "model_id": "",
       "version_major": 2,
       "version_minor": 0
      },
      "text/plain": [
       "Testing:   0%|          | 0/10 [00:00<?, ?it/s]"
      ]
     },
     "metadata": {},
     "output_type": "display_data"
    },
    {
     "data": {
      "application/vnd.jupyter.widget-view+json": {
       "model_id": "",
       "version_major": 2,
       "version_minor": 0
      },
      "text/plain": [
       "Training:   0%|          | 0/618 [00:00<?, ?it/s]"
      ]
     },
     "metadata": {},
     "output_type": "display_data"
    },
    {
     "data": {
      "application/vnd.jupyter.widget-view+json": {
       "model_id": "",
       "version_major": 2,
       "version_minor": 0
      },
      "text/plain": [
       "Testing:   0%|          | 0/10 [00:00<?, ?it/s]"
      ]
     },
     "metadata": {},
     "output_type": "display_data"
    }
   ],
   "source": [
    "rnn_3layer = nn.Sequential(\n",
    "  EmbeddingPackable(nn.Embedding(vocab_size, D)), #(B, T) -> (B, T, D)\n",
    "  nn.RNN(D, hidden_nodes, num_layers=3, batch_first=True), #(B, T, D) -> ( (B,T,D) , (S, B, D)  )\n",
    "  LastTimeStep(rnn_layers=3), #We need to take the RNN output and reduce it to one item, (B, D)\n",
    "  nn.Linear(hidden_nodes, classes), #(B, D) -> (B, classes)\n",
    ")\n",
    "\n",
    "rnn_3layer.to(device)\n",
    "rnn_3layer_results = train_simple_network(rnn_3layer, \n",
    "                                          loss_func, \n",
    "                                          train_loader, \n",
    "                                          test_loader=test_loader, \n",
    "                                          score_funcs={'Accuracy': accuracy_score},\n",
    "                                          device=device, \n",
    "                                          epochs=5)"
   ]
  },
  {
   "cell_type": "code",
   "execution_count": 26,
   "metadata": {
    "ExecuteTime": {
     "end_time": "2021-04-05T02:22:10.895760Z",
     "start_time": "2021-04-05T02:22:10.629737Z"
    }
   },
   "outputs": [
    {
     "data": {
      "text/plain": [
       "<Axes: xlabel='epoch', ylabel='test Accuracy'>"
      ]
     },
     "execution_count": 26,
     "metadata": {},
     "output_type": "execute_result"
    },
    {
     "data": {
      "image/png": "[encoded data removed]",
      "text/plain": [
       "<Figure size 640x480 with 1 Axes>"
      ]
     },
     "metadata": {},
     "output_type": "display_data"
    }
   ],
   "source": [
    "sns.lineplot(x='epoch', y='test Accuracy', data=packed_train, label='RNN: 1-Layer')\n",
    "sns.lineplot(x='epoch', y='test Accuracy', data=rnn_3layer_results, label='RNN: 3-Layer')"
   ]
  },
  {
   "cell_type": "code",
   "execution_count": null,
   "metadata": {
    "ExecuteTime": {
     "end_time": "2021-04-05T02:25:25.544944Z",
     "start_time": "2021-04-05T02:22:10.897146Z"
    },
    "tags": [
     "remove_output"
    ]
   },
   "outputs": [
    {
     "data": {
      "application/vnd.jupyter.widget-view+json": {
       "model_id": "2065ff66ebb446c089c0893a35b2d5fd",
       "version_major": 2,
       "version_minor": 0
      },
      "text/plain": [
       "Epoch:   0%|          | 0/10 [00:00<?, ?it/s]"
      ]
     },
     "metadata": {},
     "output_type": "display_data"
    },
    {
     "data": {
      "application/vnd.jupyter.widget-view+json": {
       "model_id": "",
       "version_major": 2,
       "version_minor": 0
      },
      "text/plain": [
       "Training:   0%|          | 0/618 [00:00<?, ?it/s]"
      ]
     },
     "metadata": {},
     "output_type": "display_data"
    },
    {
     "data": {
      "application/vnd.jupyter.widget-view+json": {
       "model_id": "",
       "version_major": 2,
       "version_minor": 0
      },
      "text/plain": [
       "Testing:   0%|          | 0/10 [00:00<?, ?it/s]"
      ]
     },
     "metadata": {},
     "output_type": "display_data"
    },
    {
     "data": {
      "application/vnd.jupyter.widget-view+json": {
       "model_id": "",
       "version_major": 2,
       "version_minor": 0
      },
      "text/plain": [
       "Training:   0%|          | 0/618 [00:00<?, ?it/s]"
      ]
     },
     "metadata": {},
     "output_type": "display_data"
    },
    {
     "data": {
      "application/vnd.jupyter.widget-view+json": {
       "model_id": "",
       "version_major": 2,
       "version_minor": 0
      },
      "text/plain": [
       "Testing:   0%|          | 0/10 [00:00<?, ?it/s]"
      ]
     },
     "metadata": {},
     "output_type": "display_data"
    },
    {
     "data": {
      "application/vnd.jupyter.widget-view+json": {
       "model_id": "f13da081a3cc4c94b3542e448b6865c3",
       "version_major": 2,
       "version_minor": 0
      },
      "text/plain": [
       "Training:   0%|          | 0/618 [00:00<?, ?it/s]"
      ]
     },
     "metadata": {},
     "output_type": "display_data"
    }
   ],
   "source": [
    "rnn_3layer_bidir = nn.Sequential(\n",
    "  EmbeddingPackable(nn.Embedding(vocab_size, D)), #(B, T) -> (B, T, D)\n",
    "  nn.RNN(D, hidden_nodes, num_layers=3, batch_first=True, bidirectional=True), #(B, T, D) -> ( (B,T,D) , (S, B, D)  )\n",
    "  LastTimeStep(rnn_layers=3, bidirectional=True), #We need to take the RNN output and reduce it to one item, (B, D)\n",
    "  nn.Linear(hidden_nodes*2, classes), #(B, D) -> (B, classes)\n",
    ")\n",
    "\n",
    "rnn_3layer_bidir.to(device)\n",
    "rnn_3layer_bidir_results = train_simple_network(rnn_3layer_bidir, \n",
    "                                                loss_func, \n",
    "                                                train_loader, \n",
    "                                                test_loader=test_loader, \n",
    "                                                score_funcs={'Accuracy': accuracy_score}, \n",
    "                                                device=device, \n",
    "                                                epochs=10)"
   ]
  },
  {
   "cell_type": "code",
   "execution_count": 28,
   "metadata": {
    "ExecuteTime": {
     "end_time": "2021-04-05T02:25:25.846176Z",
     "start_time": "2021-04-05T02:25:25.546310Z"
    }
   },
   "outputs": [
    {
     "data": {
      "text/plain": [
       "<Axes: xlabel='epoch', ylabel='test Accuracy'>"
      ]
     },
     "execution_count": 28,
     "metadata": {},
     "output_type": "execute_result"
    },
    {
     "data": {
      "image/png": "[encoded data removed]",
      "text/plain": [
       "<Figure size 640x480 with 1 Axes>"
      ]
     },
     "metadata": {},
     "output_type": "display_data"
    }
   ],
   "source": [
    "sns.lineplot(x='epoch', y='test Accuracy', data=packed_train, label='RNN: 1-Layer')\n",
    "sns.lineplot(x='epoch', y='test Accuracy', data=rnn_3layer_results, label='RNN: 3-Layer')\n",
    "sns.lineplot(x='epoch', y='test Accuracy', data=rnn_3layer_bidir_results, label='RNN: 3-Layer BiDir')"
   ]
  }
 ],
 "metadata": {
  "author": "A Note About Classification &amp; Meaning",
  "celltoolbar": "Tags",
  "kernelspec": {
   "display_name": "Python 3 (ipykernel)",
   "language": "python",
   "name": "python3"
  },
  "language_info": {
   "codemirror_mode": {
    "name": "ipython",
    "version": 3
   },
   "file_extension": ".py",
   "mimetype": "text/x-python",
   "name": "python",
   "nbconvert_exporter": "python",
   "pygments_lexer": "ipython3",
   "version": "3.11.8"
  },
  "latex_envs": {
   "LaTeX_envs_menu_present": true,
   "autoclose": false,
   "autocomplete": true,
   "bibliofile": "biblio.bib",
   "cite_by": "apalike",
   "current_citInitial": 1,
   "eqLabelWithNumbers": true,
   "eqNumInitial": 1,
   "hotkeys": {
    "equation": "Ctrl-E",
    "itemize": "Ctrl-I"
   },
   "labels_anchors": false,
   "latex_user_defs": false,
   "report_style_numbering": false,
   "user_envs_cfg": false
  },
  "latex_metadata": {
   "title": "Recurrent Neural Networks"
  },
  "varInspector": {
   "cols": {
    "lenName": 16,
    "lenType": 16,
    "lenVar": 40
   },
   "kernels_config": {
    "python": {
     "delete_cmd_postfix": "",
     "delete_cmd_prefix": "del ",
     "library": "var_list.py",
     "varRefreshCmd": "print(var_dic_list())"
    },
    "r": {
     "delete_cmd_postfix": ") ",
     "delete_cmd_prefix": "rm(",
     "library": "var_list.r",
     "varRefreshCmd": "cat(var_dic_list()) "
    }
   },
   "types_to_exclude": [
    "module",
    "function",
    "builtin_function_or_method",
    "instance",
    "_Feature"
   ],
   "window_display": false
  }
 },
 "nbformat": 4,
 "nbformat_minor": 4
}
