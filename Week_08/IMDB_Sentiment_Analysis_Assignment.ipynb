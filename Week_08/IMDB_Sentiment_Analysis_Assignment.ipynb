{
 "cells": [
  {
   "cell_type": "markdown",
   "id": "ff27a7e9-168a-4841-9b13-2ea27478f4cb",
   "metadata": {},
   "source": [
    "## Sentiment Analysis with a Basic RNN: Assignment Overview\n",
    "\n",
    "In this assignment, you will develop a basic Recurrent Neural Network (RNN) to perform sentiment analysis on movie reviews. Your goal is to classify each review as either positive or negative based on its content. This task will introduce you to the fundamentals of sequence modeling with RNNs and the process of working with text data in natural language processing (NLP). \n",
    "\n",
    "### Detailed Steps:\n",
    "\n",
    "#### 1. **Dataset Preparation**\n",
    "- **Task**: Utilize the IMDB movie reviews dataset, a popular resource for sentiment analysis.\n",
    "- **Instructions**:\n",
    "    1. Load the IMDB dataset. You can use PyTorch's `torchtext.datasets` or another convenient loader.  The dataset comes as 25,000 sentences in a training set and 25,000 in a testing set.  Split the training set further into 20,000 and 5,000 sentences for training and validation, respectively.\n",
    "    2. Preprocess the data: Tokenize the text reviews, turning each review into a list of words. PyTorch's `torchtext.data.utils.get_tokenizer` can be helpful here.\n",
    "    3. Build a vocabulary based on the training dataset. This involves mapping each unique word to an integer index. Limit the vocabulary size to keep the model manageable, considering only the most frequent words.\n",
    "    4. Convert the reviews into sequences of integers using this vocabulary. Remember to handle the conversion of both your training and testing sets.\n",
    "    5. Determine an appropriate sequence length for padding/truncation to ensure uniform input size.\n",
    "\n",
    "#### 2. **Model Definition**\n",
    "- **Task**: Define a basic RNN model in PyTorch for sentiment analysis.\n",
    "- **Instructions**:\n",
    "    1. Create a model class that inherits from `torch.nn.Module`. Incorporate at least one RNN layer (`torch.nn.RNN`, `torch.nn.GRU`, or `torch.nn.LSTM`) to handle the sequential nature of text data.\n",
    "    2. Include an embedding layer (`torch.nn.Embedding`) to transform integer tokens into dense vector representations before feeding them into the RNN layer.\n",
    "    3. Your model should output a sentiment score, which can be interpreted as the positive review's probability. To achieve this, a final fully connected layer and a sigmoid activation function can be used.\n",
    "\n",
    "#### 3. **Training the Model**\n",
    "- **Task**: Implement the training loop for your RNN model on the sentiment analysis task.\n",
    "- **Instructions**:\n",
    "    1. Choose a suitable loss function, such as binary cross-entropy (`torch.nn.BCELoss`), since this is a binary classification task.\n",
    "    2. Select an optimizer (e.g., `torch.optim.Adam`) to update your model's weights during training.\n",
    "    3. Develop a training loop where you feed batches of data to the model, calculate the loss, and update the model parameters using the optimizer.\n",
    "    4. Validate your model's performance on a separate portion of the dataset to monitor its generalization ability.\n",
    "    5. Experiment with different hyperparameters (e.g., learning rate, number of RNN layers) to find a good performance configuration.\n",
    "\n",
    "#### 4. **Evaluation and Analysis**\n",
    "- **Task**: Assess your trained model's performance on the testing set.\n",
    "- **Instructions**:\n",
    "    1. After training, use your model to predict sentiments for the reviews in the testing set. Calculate the accuracy or other relevant metrics to evaluate performance.\n",
    "    2. Analyze the results: Consider examining specific cases where the model performs well or poorly to gain insights into its strengths and weaknesses.\n",
    "    3. Reflect on the limitations of your approach and potential improvements. For instance, consider how more complex models or different preprocessing steps might impact performance.\n",
    "\n",
    "This assignment will give you practical experience with sequence modeling using RNNs and the foundational steps involved in processing and analyzing text data for sentiment analysis."
   ]
  },
  {
   "cell_type": "markdown",
   "id": "66df25d0-e051-4344-b1ab-b866a71378bb",
   "metadata": {},
   "source": [
    "### Notes and Resources:\n",
    "\n",
    "- Section 12.1 in *Inside Deep Learning. Math, Algorithms, and Models* introduces most of what you need for Steps 1-3.\n",
    "- You can use Pytorch Lightning as we've been doing, or the tools that come with the book.\n",
    "- The code for each chapter and the `idlmam.py` file you'll need to import from can be found in the [book's Github repo](https://github.com/EdwardRaff/Inside-Deep-Learning).\n",
    "- This assignment will be broken into 3 deliverables:\n",
    "    1. Data preparation.  Complete Step 1.\n",
    "    2. Model formulation and training.  Add Steps 2 and 3.\n",
    "    3. Evaluation and Analysis.  Add Step 4.\n",
    "- The final submission will be graded both on technical correctness and on presentation.  Your work should be in well formatted Jupyter notebook with narration and a summary.  "
   ]
  },
  {
   "cell_type": "code",
   "execution_count": null,
   "id": "340ac9cf-ca99-4428-b8ae-d52f18606026",
   "metadata": {},
   "outputs": [],
   "source": []
  },
  {
   "cell_type": "code",
   "execution_count": null,
   "id": "583cb6ff-6b98-491d-b2fb-adad0a5b01fc",
   "metadata": {},
   "outputs": [],
   "source": []
  }
 ],
 "metadata": {
  "kernelspec": {
   "display_name": "Python 3 (ipykernel)",
   "language": "python",
   "name": "python3"
  },
  "language_info": {
   "codemirror_mode": {
    "name": "ipython",
    "version": 3
   },
   "file_extension": ".py",
   "mimetype": "text/x-python",
   "name": "python",
   "nbconvert_exporter": "python",
   "pygments_lexer": "ipython3",
   "version": "3.11.8"
  }
 },
 "nbformat": 4,
 "nbformat_minor": 5
}
