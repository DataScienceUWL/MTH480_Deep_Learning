{
 "cells": [
  {
   "cell_type": "code",
   "execution_count": 59,
   "id": "c637e43a-21b1-4760-b1db-9ea1e75e78e8",
   "metadata": {},
   "outputs": [],
   "source": [
    "import torch\n",
    "from torchinfo import summary\n",
    "import torch.nn as nn\n",
    "import torch.nn.functional as F"
   ]
  },
  {
   "cell_type": "markdown",
   "id": "161d6633-a5ff-490d-a09e-f74788541dd5",
   "metadata": {},
   "source": [
    "# Understanding Deep Learning 12.1 - 12.3\n",
    "\n",
    "In the first part of this notebook we'll build a self-attention mechanism as described in Section 12.1.  \n",
    "\n",
    "To build the self-attention mechanism or network we'll need to do some linear algebra.  Let's remind ourselves how that works in PyTorch and also see how it connects to the familiar `nn.Linear` layer we've been using for our networks."
   ]
  },
  {
   "cell_type": "markdown",
   "id": "70a0a816-40cc-4c84-9b5e-ee57c967eac4",
   "metadata": {},
   "source": [
    "The inputs to our network will be a sequence of $3$ vectors each of length $4$.   We'll start with three vectors of ones, each in $\\mathbb{R}^{4}$.  Then we'll multiply by a diagonal $4 \\times 4$ matrix and add a vector of twos. Notice that the multiplication will be on the right to get the dimensions to match.   Broadcasting will help here too!"
   ]
  },
  {
   "cell_type": "code",
   "execution_count": 38,
   "id": "e80c7530-522e-40bf-9159-58f7e2e2caea",
   "metadata": {},
   "outputs": [
    {
     "name": "stdout",
     "output_type": "stream",
     "text": [
      "The input vectors:\n",
      "tensor([[1., 1., 1., 1.],\n",
      "        [1., 1., 1., 1.],\n",
      "        [1., 1., 1., 1.]])\n",
      "\n",
      "\n",
      "The matrix A: \n",
      "tensor([[10.,  0.,  0.,  0.],\n",
      "        [ 0., 20.,  0.,  0.],\n",
      "        [ 0.,  0., 30.,  0.],\n",
      "        [ 0.,  0.,  0., 40.]])\n",
      "\n",
      "\n",
      "The vector b: \n",
      "tensor([2., 2., 2., 2.])\n",
      "\n",
      "\n"
     ]
    }
   ],
   "source": [
    "x = torch.ones( (3,4) ).float() # 3 4D inputs in 3x4 array\n",
    "A = torch.diag(torch.tensor([10.,20,30,40])) # diag 4x4 matrix\n",
    "b = 2.*torch.ones( 4 ) # 4D vector\n",
    "\n",
    "print('The input vectors:')\n",
    "print(x)\n",
    "print('\\n')\n",
    "\n",
    "print('The matrix A: ')\n",
    "print(A)\n",
    "print('\\n')\n",
    "\n",
    "print('The vector b: ')\n",
    "print(b)\n",
    "print('\\n')"
   ]
  },
  {
   "cell_type": "markdown",
   "id": "064b7a89-daf3-4199-b338-9319a13cb1d3",
   "metadata": {},
   "source": [
    "Now we want to multiply each row of $\\mathbf{x}$ by $A$ (on the right) and add $\\mathbf{b}$ to each row.  Matrix multiplication and broadcasting make quick work of this:  "
   ]
  },
  {
   "cell_type": "code",
   "execution_count": 36,
   "id": "1848d61f-0de6-41f3-ac32-e3935c834a70",
   "metadata": {},
   "outputs": [
    {
     "data": {
      "text/plain": [
       "tensor([[12., 22., 32., 42.],\n",
       "        [12., 22., 32., 42.],\n",
       "        [12., 22., 32., 42.]])"
      ]
     },
     "execution_count": 36,
     "metadata": {},
     "output_type": "execute_result"
    }
   ],
   "source": [
    "y = torch.matmul(x, A) + b\n",
    "y"
   ]
  },
  {
   "cell_type": "markdown",
   "id": "9fe3ca3c-792b-4e5c-8657-516cbef4961b",
   "metadata": {},
   "source": [
    "Alternately, you can use "
   ]
  },
  {
   "cell_type": "code",
   "execution_count": 37,
   "id": "12c9c2cb-49a9-4a80-a7b0-791ed906cf3d",
   "metadata": {},
   "outputs": [
    {
     "data": {
      "text/plain": [
       "tensor([[12., 22., 32., 42.],\n",
       "        [12., 22., 32., 42.],\n",
       "        [12., 22., 32., 42.]])"
      ]
     },
     "execution_count": 37,
     "metadata": {},
     "output_type": "execute_result"
    }
   ],
   "source": [
    "y = x @ A + b\n",
    "y"
   ]
  },
  {
   "cell_type": "markdown",
   "id": "50be3c13-31f1-428f-af7a-ba787232a94a",
   "metadata": {},
   "source": [
    "Fortunately, PyTorch already knows how to do this with one line: `nn.Linear`.  We want to multiply each 4D input by a weights matrix and add biases.  Let's verify that the linear layer already does this:"
   ]
  },
  {
   "cell_type": "code",
   "execution_count": 41,
   "id": "1f71dd85-6465-4bab-bdc4-64ff74d74c2a",
   "metadata": {},
   "outputs": [
    {
     "data": {
      "text/plain": [
       "tensor([[12., 22., 32., 42.],\n",
       "        [12., 22., 32., 42.],\n",
       "        [12., 22., 32., 42.]])"
      ]
     },
     "execution_count": 41,
     "metadata": {},
     "output_type": "execute_result"
    }
   ],
   "source": [
    "import torch.nn as nn\n",
    "\n",
    "linear_layer = nn.Linear(4,4) # four inputs and four outputs\n",
    "\n",
    "# since we want particular weights and biases we need to set them\n",
    "linear_layer.weight.data = A\n",
    "linear_layer.bias.data = b\n",
    "\n",
    "# output\n",
    "output = linear_layer(x).detach() # we don't the gradient here\n",
    "output"
   ]
  },
  {
   "cell_type": "markdown",
   "id": "d608f53d-7170-48e2-b64e-918b5ca3eace",
   "metadata": {},
   "source": [
    "The point here is that the matrix and vector operations that the UDL author uses are nothing more than linear layers in PyTorch.  We want to implement the Transformer Self-Attention Block in Figure 12.4 as a network.\n",
    "\n",
    "![TransformerBlockSA](TransformerBlockSA.png)"
   ]
  },
  {
   "cell_type": "markdown",
   "id": "0efc12e0-5b5c-459a-bbbd-6d6d0a18d5d8",
   "metadata": {},
   "source": [
    "## Implementing a Self-Attention Block in PyTorch\n",
    "\n",
    "Let's implement this one bit at a time.  We're going to store out input sequence in a tensor with $N$ rows and $D$ columns because the linear layers will work on the last dimension of the tensor.  So we'll have to switch some things to get the dimensions right."
   ]
  },
  {
   "cell_type": "code",
   "execution_count": 66,
   "id": "7359d380-155f-4121-8738-b9f6f0a6edb5",
   "metadata": {},
   "outputs": [
    {
     "data": {
      "text/plain": [
       "(torch.Size([3, 4]),\n",
       " torch.Size([3, 4]),\n",
       " torch.Size([3, 4]),\n",
       " torch.Size([3, 4]))"
      ]
     },
     "execution_count": 66,
     "metadata": {},
     "output_type": "execute_result"
    }
   ],
   "source": [
    "N = 3 # sequence length\n",
    "D = 4 # embedding dimension\n",
    "\n",
    "torch.manual_seed(42)\n",
    "\n",
    "x_in = torch.randn( (N,D) ) # random sequence of N embedded vectors\n",
    "\n",
    "query = nn.Linear(D,D)\n",
    "key = nn.Linear(D,D)\n",
    "value = nn.Linear(D,D)\n",
    "\n",
    "Q = query(x_in)\n",
    "K = key(x_in)\n",
    "V = value(x_in)\n",
    "\n",
    "x_in.shape, Q.shape, K.shape, V.shape"
   ]
  },
  {
   "cell_type": "code",
   "execution_count": 67,
   "id": "3607a7ce-1ec5-4765-b979-76d54b252c6c",
   "metadata": {},
   "outputs": [
    {
     "data": {
      "text/plain": [
       "torch.Size([3, 3])"
      ]
     },
     "execution_count": 67,
     "metadata": {},
     "output_type": "execute_result"
    }
   ],
   "source": [
    "# raw attention scores before softmax will be Q*K^T, should be NxN\n",
    "attention_scores = torch.matmul( Q, K.transpose(-2,-1) )\n",
    "attention_scores.shape"
   ]
  },
  {
   "cell_type": "code",
   "execution_count": 68,
   "id": "d66f6388-6ba2-4225-8824-aaba96a45d72",
   "metadata": {},
   "outputs": [
    {
     "data": {
      "text/plain": [
       "tensor([[0.2327, 0.5203, 0.2470],\n",
       "        [0.5097, 0.1544, 0.3359],\n",
       "        [0.2023, 0.5748, 0.2229]], grad_fn=<SoftmaxBackward0>)"
      ]
     },
     "execution_count": 68,
     "metadata": {},
     "output_type": "execute_result"
    }
   ],
   "source": [
    "# make attention scores in each row sum to 1\n",
    "attention_weights = F.softmax(attention_scores, -1)\n",
    "attention_weights"
   ]
  },
  {
   "cell_type": "code",
   "execution_count": 69,
   "id": "4de9ce05-5aa3-4463-babd-cad271efecdf",
   "metadata": {},
   "outputs": [
    {
     "data": {
      "text/plain": [
       "torch.Size([3, 4])"
      ]
     },
     "execution_count": 69,
     "metadata": {},
     "output_type": "execute_result"
    }
   ],
   "source": [
    "# now use the attention weights to combine the values\n",
    "x_out = torch.matmul( attention_weights, V)\n",
    "x_out.shape"
   ]
  },
  {
   "cell_type": "code",
   "execution_count": 72,
   "id": "09e3d2e8-4011-400b-8cea-b78c335492bd",
   "metadata": {},
   "outputs": [],
   "source": [
    "# complete this network and add comments to the right of each entry in the forward layer showing the shape of the result\n",
    "class SelfAttention(nn.Module):\n",
    "    def __init__(self, D):\n",
    "        super().__init__()\n",
    "        self.query = nn.Linear(D,D)\n",
    "        self.key = nn.Linear(D,D)\n",
    "        self.value = nn.Linear(D,D)\n",
    "    def forward(self, x): # x is (B,N,D)\n",
    "\n",
    "        # Compute queries, keys, and values\n",
    "        Q = self.query(x) # Q is (B,N,D)\n",
    "        K = self.key(x) # K is (B,N,D)\n",
    "        V = self.value(x) # V is (B,N,D)\n",
    "        \n",
    "        # Calculate the dot product for the queries and keys\n",
    "        attention_scores = torch.matmul(Q, K.transpose(-2, -1)) # (B,N,N)\n",
    "        \n",
    "        # Apply softmax to get the attention weights\n",
    "        attention_weights = F.softmax(attention_scores, dim=-1) # (B,N,N)\n",
    "        \n",
    "        # Multiply the attention weights with the values\n",
    "        output = torch.matmul(attention_weights, V)  # (B,N,D)\n",
    "        \n",
    "        return output"
   ]
  },
  {
   "cell_type": "code",
   "execution_count": 74,
   "id": "74256b1b-36f2-4e74-afbc-8e6151a7c04d",
   "metadata": {},
   "outputs": [
    {
     "data": {
      "text/plain": [
       "tensor([[[-0.5802, -0.2236,  0.4476, -0.3406],\n",
       "         [-0.6556, -0.2515,  0.3504, -0.5715],\n",
       "         [-0.4327, -0.1851,  0.6796,  0.1130]],\n",
       "\n",
       "        [[-0.2441, -0.0572,  0.0042, -0.2378],\n",
       "         [-0.2170,  0.1359,  0.2213,  0.2678],\n",
       "         [-0.1303, -0.0060,  0.8015,  0.7602]],\n",
       "\n",
       "        [[-0.3911,  0.0424,  0.0535, -0.2658],\n",
       "         [-0.4593, -0.0586, -0.4128, -0.7885],\n",
       "         [-0.4338, -0.0112, -0.2227, -0.5630]],\n",
       "\n",
       "        [[-0.3300, -0.0249, -0.0857, -0.4840],\n",
       "         [-0.3369, -0.0360, -0.1108, -0.5271],\n",
       "         [-0.3485, -0.0512, -0.1397, -0.5974]],\n",
       "\n",
       "        [[-0.0044, -0.1048,  0.2070, -0.0969],\n",
       "         [-0.0099, -0.1151,  0.2835, -0.0504],\n",
       "         [-0.0595, -0.1700,  0.5431,  0.0557]]], grad_fn=<UnsafeViewBackward0>)"
      ]
     },
     "execution_count": 74,
     "metadata": {},
     "output_type": "execute_result"
    }
   ],
   "source": [
    "# when you're done, execute this cell\n",
    "\n",
    "N = 3 # length of sequence\n",
    "D = 4 # embedding dimension\n",
    "B = 5 # batch size\n",
    "\n",
    "torch.manual_seed(0)\n",
    "x_in = torch.randn( (B,N,D) )\n",
    "SAnet = SelfAttention(D)\n",
    "x_out = SAnet(x_in)\n",
    "x_out"
   ]
  },
  {
   "cell_type": "markdown",
   "id": "8581b785-778e-4526-8470-a73450afd73b",
   "metadata": {},
   "source": [
    "## Multi-head Self Attention\n",
    "\n",
    "![TwoHeadSA](TransformerBlockSAMultiHead.png)"
   ]
  },
  {
   "cell_type": "markdown",
   "id": "c1ee88fa-f62d-4dd5-8d58-929cf8e59686",
   "metadata": {},
   "source": [
    "Now we'll show how to build a two-headed self attention block.  \n",
    "\n",
    "1. Split the input embedding dimension into two parts for each head.\n",
    "2. Apply self-attention separately to each part.\n",
    "3. Concatenate the outputs of each head.\n",
    "4. Optionally add a linear layer to transform the concatenated output back to the original embedding dimension (this step is often used to mix information between the heads).\n",
    "\n",
    "Note, the embedding dimension should be evenly divisible by the number of heads."
   ]
  },
  {
   "cell_type": "code",
   "execution_count": 75,
   "id": "f45bb50f-4810-43dd-b4b5-924e731a8fe7",
   "metadata": {},
   "outputs": [],
   "source": [
    "class TwoHeadSelfAttention(nn.Module):\n",
    "    def __init__(self, D):\n",
    "        super().__init__()\n",
    "        assert D % 2 == 0, \"Embedding dimension must be divisible by number of heads\"\n",
    "        \n",
    "        # Define separate attention mechanisms for each head\n",
    "        self.attention1 = SelfAttention(D//2)\n",
    "        self.attention2 = SelfAttention(D//2)\n",
    "\n",
    "        # Linear layer to project the concatenated outputs back to the original embedding dimension\n",
    "        self.output_linear = nn.Linear(D, D)\n",
    "        \n",
    "    def forward(self, x):\n",
    "        B, N, _ = x.shape\n",
    "        \n",
    "        # Split the embedding dimension\n",
    "        x1 = x[:,:,:(D//2)] #(B,N,D/2)\n",
    "        x2 = x[:,:,(D//2):] #(B,N,D/2)\n",
    "        \n",
    "        # Apply self-attention to each head\n",
    "        output1 = self.attention1(x1) #(B,N,D/2)\n",
    "        output2 = self.attention2(x2) #(B,N,D/2)\n",
    "        \n",
    "        # Concatenate the outputs of each head along the last dimension\n",
    "        concatenated = torch.cat( [output1, output2], dim=-1)  #(B,N,D)\n",
    "        \n",
    "        # Optionally apply a final linear layer to mix the output from the two heads\n",
    "        output = self.output_linear(concatenated) # (B,N,D)\n",
    "        \n",
    "        return output"
   ]
  },
  {
   "cell_type": "code",
   "execution_count": 76,
   "id": "2fca5e0d-0c1d-4824-871b-7d5d093d341d",
   "metadata": {},
   "outputs": [
    {
     "data": {
      "text/plain": [
       "tensor([[[-0.4729, -0.4518,  0.0934, -0.3797],\n",
       "         [-0.5432, -0.4569,  0.1750, -0.3198],\n",
       "         [-0.3447, -0.4362, -0.0054, -0.4252]],\n",
       "\n",
       "        [[-0.5344, -0.4337,  0.2937, -0.1298],\n",
       "         [-1.0500, -0.5401,  0.4192, -0.2939],\n",
       "         [-1.0893, -0.5505,  0.4331, -0.3201]],\n",
       "\n",
       "        [[-0.3424, -0.4303,  0.1662, -0.3551],\n",
       "         [-0.2513, -0.4067,  0.1366, -0.3051],\n",
       "         [-0.2875, -0.4178,  0.1491, -0.3246]],\n",
       "\n",
       "        [[-0.2072, -0.3949,  0.1259, -0.2471],\n",
       "         [-0.2117, -0.3955,  0.1413, -0.2274],\n",
       "         [-0.1837, -0.3899,  0.1290, -0.2263]],\n",
       "\n",
       "        [[-0.3074, -0.3663, -0.0207, -0.0752],\n",
       "         [-0.3814, -0.3775,  0.0169, -0.0571],\n",
       "         [-0.7792, -0.4435,  0.2895,  0.0525]]], grad_fn=<ViewBackward0>)"
      ]
     },
     "execution_count": 76,
     "metadata": {},
     "output_type": "execute_result"
    }
   ],
   "source": [
    "# when you're done, execute this cell\n",
    "\n",
    "N = 3 # length of sequence\n",
    "D = 4 # embedding dimension\n",
    "B = 5 # batch size\n",
    "\n",
    "torch.manual_seed(0)\n",
    "x_in = torch.randn( (B,N,D) )\n",
    "SAnet2 = TwoHeadSelfAttention(D)\n",
    "x_out = SAnet2(x_in)\n",
    "x_out"
   ]
  },
  {
   "cell_type": "markdown",
   "id": "e5c9ec8e-4378-49b8-8bb1-181b5ff7a70c",
   "metadata": {},
   "source": [
    "## Multi Head\n",
    "\n"
   ]
  },
  {
   "cell_type": "markdown",
   "id": "0d4155fb-7520-426b-89cf-8ef5e4e33c53",
   "metadata": {},
   "source": [
    "**Why are multiple heads better than one?**\n",
    "\n",
    "1. **Diverse Representation Learning**: Each head focuses on different aspects of the input, allowing parallel processing and attention to various parts of the sequence.\n",
    "2. **Increased Model Capacity**: Multiple heads enrich the model's ability to represent complex dependencies without a proportional increase in parameters.\n",
    "3. **Robustness to Input Variations**: The model becomes more adaptive to variations and noise in the input, as different heads can capture various features.\n",
    "4. **Improved Generalization**: By integrating multiple insights, the model generalizes better across different data relationships.\n",
    "5. **Redundancy and Error Correction**: Multiple heads provide redundancy, helping to correct errors and compensate for less effective individual representations.\n",
    "\n",
    "**If each head uses only some of the dimensions of the embeddings how can multi-head attention work better than using only one head?**\n",
    "\n",
    "1. **Specialization**: Each head specializes in different features, capturing diverse aspects of the input.\n",
    "2. **Comprehensive Coverage**: Combining outputs from all heads provides a more holistic understanding.\n",
    "3. **Reduced Interference**: Less overlap between heads leads to more stable learning and less noise.\n",
    "4. **Efficiency**: Processing reduced dimensionality per head speeds up computation.\n",
    "5. **Robust and Redundant Representations**: Ensemble of heads compensates for potential misrepresentations by individual heads."
   ]
  },
  {
   "cell_type": "code",
   "execution_count": 80,
   "id": "a9b10f60-6757-4e23-b999-139dc8ea359b",
   "metadata": {},
   "outputs": [
    {
     "name": "stdout",
     "output_type": "stream",
     "text": [
      "torch.Size([2, 5, 64])\n"
     ]
    }
   ],
   "source": [
    "import torch\n",
    "import torch.nn as nn\n",
    "import torch.nn.functional as F\n",
    "\n",
    "class MultiHeadSelfAttention(nn.Module):\n",
    "    def __init__(self, embed_dim, num_heads=2):\n",
    "        super(MultiHeadSelfAttention, self).__init__()\n",
    "        assert embed_dim % num_heads == 0, \"Embedding dimension must be divisible by number of heads\"\n",
    "        self.num_heads = num_heads\n",
    "        self.head_dim = embed_dim // num_heads\n",
    "        \n",
    "        # Define separate attention mechanisms for each head\n",
    "        self.attentions = nn.ModuleList([\n",
    "            SelfAttention(self.head_dim) for _ in range(num_heads)\n",
    "        ])\n",
    "        \n",
    "        # Linear layer to project the concatenated outputs back to the original embedding dimension\n",
    "        self.output_linear = nn.Linear(embed_dim, embed_dim)\n",
    "        \n",
    "    def forward(self, x):\n",
    "        batch_size, seq_len, _ = x.shape\n",
    "        \n",
    "        # Split the embedding dimension\n",
    "        x = x.view(batch_size, seq_len, self.num_heads, self.head_dim)\n",
    "        x = x.transpose(1, 2)  # shape: (batch_size, num_heads, seq_len, head_dim)\n",
    "        \n",
    "        # Apply self-attention to each head\n",
    "        attention_outputs = [attention(x[:, i]) for i, attention in enumerate(self.attentions)]\n",
    "        \n",
    "        # Concatenate the outputs of each head along the last dimension\n",
    "        concatenated = torch.cat(attention_outputs, dim=-1)  # shape: (batch_size, seq_len, embed_dim)\n",
    "        \n",
    "        # Optionally apply a final linear layer\n",
    "        output = self.output_linear(concatenated)\n",
    "        \n",
    "        return output\n",
    "\n",
    "class SelfAttention(nn.Module):\n",
    "    def __init__(self, head_dim):\n",
    "        super(SelfAttention, self).__init__()\n",
    "        self.head_dim = head_dim\n",
    "        \n",
    "        # Define the linear layers for Q, K, V\n",
    "        self.query = nn.Linear(head_dim, head_dim)\n",
    "        self.key = nn.Linear(head_dim, head_dim)\n",
    "        self.value = nn.Linear(head_dim, head_dim)\n",
    "        \n",
    "    def forward(self, x):\n",
    "        # Calculate Q, K, V\n",
    "        Q = self.query(x)\n",
    "        K = self.key(x)\n",
    "        V = self.value(x)\n",
    "        \n",
    "        # Attention mechanism\n",
    "        scores = torch.matmul(Q, K.transpose(-2, -1)) / torch.sqrt(torch.tensor(self.head_dim, dtype=torch.float32))\n",
    "        weights = F.softmax(scores, dim=-1)\n",
    "        output = torch.matmul(weights, V)\n",
    "        \n",
    "        return output\n",
    "\n",
    "# Example usage\n",
    "batch_size, seq_len, embed_dim = 2, 5, 64\n",
    "num_heads = 8\n",
    "x = torch.rand(batch_size, seq_len, embed_dim)  # Random input tensor\n",
    "multi_head_attention = MultiHeadSelfAttention(embed_dim, num_heads = num_heads)\n",
    "output = multi_head_attention(x)\n",
    "print(output.shape)  # Should be (batch_size, seq_len, embed_dim)\n"
   ]
  },
  {
   "cell_type": "markdown",
   "id": "4616de1c-ec24-4d89-b649-768ffe32971f",
   "metadata": {},
   "source": [
    "## Positional Encoding\n",
    "\n",
    "You may have noticed that we're not using an important bit of information here with our embedding vectors.  The output of our attention networks is the same no matter where a particular embedding vector occurs in our sequence.  That's not very helpful if we're trying to get our models to learn about relationships between different elements of a sequence.  \n",
    "\n",
    "To get around this we add a positional encoding matrix to the initial matrix of embedding vectors.  Each vector in the positional encoding matrix has the same length as an embedding vector.   Sines and cosines at different frequencies are used to generate a unique vector for each position in the sequence.  We won't study the details closely, but the positional encoding matrices are really cool to look at.  \n",
    "\n",
    "I grabbed the code below from https://machinelearningmastery.com/a-gentle-introduction-to-positional-encoding-in-transformer-models-part-1/.  We're going to visualize a positional encoding matrix for a sequence of 100 vectors each with embedding dimension 512."
   ]
  },
  {
   "cell_type": "code",
   "execution_count": 3,
   "id": "81c8ba17-5c9f-4482-8da1-2741d4c1b92c",
   "metadata": {},
   "outputs": [
    {
     "name": "stdout",
     "output_type": "stream",
     "text": [
      "[[ 0.          1.          0.          1.        ]\n",
      " [ 0.84147098  0.54030231  0.09983342  0.99500417]\n",
      " [ 0.90929743 -0.41614684  0.19866933  0.98006658]\n",
      " [ 0.14112001 -0.9899925   0.29552021  0.95533649]\n",
      " [-0.7568025  -0.65364362  0.38941834  0.92106099]\n",
      " [-0.95892427  0.28366219  0.47942554  0.87758256]\n",
      " [-0.2794155   0.96017029  0.56464247  0.82533561]\n",
      " [ 0.6569866   0.75390225  0.64421769  0.76484219]\n",
      " [ 0.98935825 -0.14550003  0.71735609  0.69670671]\n",
      " [ 0.41211849 -0.91113026  0.78332691  0.62160997]]\n"
     ]
    }
   ],
   "source": [
    "import numpy as np\n",
    "import matplotlib.pyplot as plt\n",
    " \n",
    "def getPositionEncoding(seq_len, d, n=10000):\n",
    "    P = np.zeros((seq_len, d))\n",
    "    for k in range(seq_len):\n",
    "        for i in np.arange(int(d/2)):\n",
    "            denominator = np.power(n, 2*i/d)\n",
    "            P[k, 2*i] = np.sin(k/denominator)\n",
    "            P[k, 2*i+1] = np.cos(k/denominator)\n",
    "    return P\n",
    " \n",
    "P = getPositionEncoding(seq_len=10, d=4, n=100)\n",
    "print(P)"
   ]
  },
  {
   "cell_type": "code",
   "execution_count": 2,
   "id": "b42def98-b1d3-4c47-a1e1-23240af27c08",
   "metadata": {},
   "outputs": [
    {
     "data": {
      "text/plain": [
       "<matplotlib.colorbar.Colorbar at 0x11eff8950>"
      ]
     },
     "execution_count": 2,
     "metadata": {},
     "output_type": "execute_result"
    },
    {
     "data": {
      "image/png": "[encoded data removed]",
      "text/plain": [
       "<Figure size 1228.8x480 with 2 Axes>"
      ]
     },
     "metadata": {},
     "output_type": "display_data"
    }
   ],
   "source": [
    "P = getPositionEncoding(seq_len=100, d=256, n=10000)\n",
    "cax = plt.matshow(P)\n",
    "plt.gcf().colorbar(cax)"
   ]
  },
  {
   "cell_type": "code",
   "execution_count": 84,
   "id": "f8222cbc-7893-4900-9a66-3b4598723e04",
   "metadata": {},
   "outputs": [
    {
     "name": "stdout",
     "output_type": "stream",
     "text": [
      "torch.Size([2, 5, 64])\n"
     ]
    }
   ],
   "source": [
    "import torch\n",
    "import torch.nn as nn\n",
    "import math\n",
    "\n",
    "class PositionalEncoding(nn.Module):\n",
    "    def __init__(self, embed_dim, max_len=5000):\n",
    "        super(PositionalEncoding, self).__init__()\n",
    "        self.encoding = torch.zeros(max_len, embed_dim)\n",
    "        position = torch.arange(0, max_len, dtype=torch.float).unsqueeze(1)\n",
    "        div_term = torch.exp(torch.arange(0, embed_dim, 2).float() * (-math.log(10000.0) / embed_dim))\n",
    "        \n",
    "        self.encoding[:, 0::2] = torch.sin(position * div_term)\n",
    "        self.encoding[:, 1::2] = torch.cos(position * div_term)\n",
    "        \n",
    "        # Adding an extra dimension for batch size, which is needed for addition to the input embeddings\n",
    "        self.encoding = self.encoding.unsqueeze(0)\n",
    "\n",
    "    def forward(self, x):\n",
    "        # x: (batch_size, seq_len, embed_dim)\n",
    "        return x + self.encoding[:, :x.size(1)]\n",
    "\n",
    "# Example of integration with MultiHeadSelfAttention\n",
    "class TransformerLayer(nn.Module):\n",
    "    def __init__(self, embed_dim, num_heads):\n",
    "        super(TransformerLayer, self).__init__()\n",
    "        self.multi_head_attention = MultiHeadSelfAttention(embed_dim, num_heads)\n",
    "        self.positional_encoding = PositionalEncoding(embed_dim)\n",
    "        self.layer_norm = nn.LayerNorm(embed_dim)\n",
    "\n",
    "    def forward(self, x):\n",
    "        x = self.positional_encoding(x)\n",
    "        x = self.multi_head_attention(x)\n",
    "        x = self.layer_norm(x)\n",
    "        return x\n",
    "\n",
    "# Example usage\n",
    "batch_size, seq_len, embed_dim = 2, 5, 64\n",
    "x = torch.rand(batch_size, seq_len, embed_dim)  # Random input tensor\n",
    "transformer_layer = TransformerLayer(embed_dim, num_heads=2)\n",
    "output = transformer_layer(x)\n",
    "print(output.shape)  # Should be (batch_size, seq_len, embed_dim)\n"
   ]
  },
  {
   "cell_type": "markdown",
   "id": "674f95c0-d9e2-42e8-90c5-54ed95067757",
   "metadata": {},
   "source": [
    "Absolutely! Let's create a simple transformer model to solve a basic sequence-to-sequence translation task. A common educational example is to translate short sequences of numbers into their English word equivalents (e.g., \"123\" to \"one two three\"). This task is simple enough to understand and implement but rich enough to illustrate key concepts in transformers.\n",
    "\n",
    "### Problem Description\n",
    "Translate sequences of digits (0-9) into their corresponding words. For simplicity, we'll consider sequences of three digits. This way, we can focus on understanding the model rather than dealing with complex data preprocessing or vocabulary issues.\n",
    "\n",
    "### Steps\n",
    "1. **Data Generation**: We'll create a dataset of random sequences of three digits and their corresponding word translations.\n",
    "2. **Model Construction**: We'll build a simple transformer model using PyTorch.\n",
    "3. **Training**: We'll train the model on the generated data.\n",
    "4. **Evaluation**: We'll test the model's performance on unseen data.\n",
    "\n",
    "### Step 1: Data Generation\n",
    "First, we need to generate a dataset:\n",
    "\n",
    "```python\n",
    "import random\n",
    "\n",
    "digits = [\"zero\", \"one\", \"two\", \"three\", \"four\", \"five\", \"six\", \"seven\", \"eight\", \"nine\"]\n",
    "def generate_data(num_samples):\n",
    "    inputs = []\n",
    "    outputs = []\n",
    "    for _ in range(num_samples):\n",
    "        sequence = [random.randint(0, 9) for _ in range(3)]\n",
    "        input_str = \" \".join(str(num) for num in sequence)\n",
    "        output_str = \" \".join(digits[num] for num in sequence)\n",
    "        inputs.append(input_str)\n",
    "        outputs.append(output_str)\n",
    "    return inputs, outputs\n",
    "\n",
    "train_inputs, train_outputs = generate_data(1000)\n",
    "test_inputs, test_outputs = generate_data(100)\n",
    "\n",
    "print(train_inputs[:5], train_outputs[:5])\n",
    "```\n",
    "\n",
    "### Step 2: Model Construction\n",
    "We'll use the transformer architecture for this:\n",
    "\n",
    "```python\n",
    "import torch\n",
    "import torch.nn as nn\n",
    "from torch.nn import Transformer\n",
    "import torch.optim as optim\n",
    "\n",
    "class Seq2SeqTransformer(nn.Module):\n",
    "    def __init__(self, num_tokens, dim_model=512, nhead=8, num_encoder_layers=3, num_decoder_layers=3, dim_feedforward=2048):\n",
    "        super(Seq2SeqTransformer, self).__init__()\n",
    "        self.transformer = Transformer(d_model=dim_model, nhead=nhead, \n",
    "                                       num_encoder_layers=num_encoder_layers, \n",
    "                                       num_decoder_layers=num_decoder_layers, \n",
    "                                       dim_feedforward=dim_feedforward)\n",
    "        self.embedding = nn.Embedding(num_tokens, dim_model)\n",
    "        self.fc_out = nn.Linear(dim_model, num_tokens)\n",
    "        \n",
    "    def forward(self, src, tgt):\n",
    "        src = self.embedding(src)\n",
    "        tgt = self.embedding(tgt)\n",
    "        tgt_mask = self.transformer.generate_square_subsequent_mask(tgt.size(0)).to(tgt.device)\n",
    "        output = self.transformer(src, tgt, tgt_mask=tgt_mask)\n",
    "        output = self.fc_out(output)\n",
    "        return output\n",
    "```\n",
    "\n",
    "### Step 3: Training the Model\n",
    "We'll set up a training loop to optimize the model:\n",
    "\n",
    "```python\n",
    "# Assume you have functions to convert strings to tensors and vice versa, and set up training details\n",
    "# This includes tokenization, DataLoader setup, loss function, and optimizer.\n",
    "\n",
    "# Training loop (simplified)\n",
    "for epoch in range(num_epochs):\n",
    "    model.train()\n",
    "    for src, tgt in dataloader:\n",
    "        optimizer.zero_grad()\n",
    "        output = model(src, tgt[:-1])\n",
    "        loss = criterion(output.view(-1, output.size(-1)), tgt[1:].view(-1))\n",
    "        loss.backward()\n",
    "        optimizer.step()\n",
    "```\n",
    "\n",
    "### Step 4: Evaluation\n",
    "Finally, we can evaluate our trained model on the test set:\n",
    "\n",
    "```python\n",
    "model.eval()\n",
    "with torch.no_grad():\n",
    "    correct = 0\n",
    "    for src, tgt in test_dataloader:\n",
    "        output = model(src, tgt[:-1])\n",
    "        # Compare output to target, calculate accuracy\n",
    "```\n",
    "\n",
    "This approach uses random data to illustrate the basic functionality of transformers in a controlled setting. For a real implementation, especially in an educational environment, ensure you have detailed explanations of each part, from tokenization and data handling to the specifics of transformer architecture and the training loop. This will help students understand not just how to build a transformer but also how it processes data and learns relationships within it."
   ]
  },
  {
   "cell_type": "markdown",
   "id": "f87afd0d-47bc-4e81-abcc-fb1e639e63a5",
   "metadata": {},
   "source": [
    "Certainly! Building a Transformer model from scratch is a great way to deeply understand the mechanics of its architecture. I'll guide you through creating a simple Transformer for the sequence-to-sequence translation task we discussed: translating sequences of digits into their word equivalents.\n",
    "\n",
    "### Components of a Transformer\n",
    "\n",
    "1. **Multi-Head Self-Attention**\n",
    "2. **Positional Encoding**\n",
    "3. **Feed-Forward Neural Network**\n",
    "4. **Layer Normalization**\n",
    "5. **Encoder and Decoder Layers**\n",
    "\n",
    "I'll break down these components and show you how to implement each from scratch using PyTorch.\n",
    "\n",
    "### Step 1: Multi-Head Self-Attention\n",
    "\n",
    "This component is crucial for allowing the model to focus on different parts of the input sequence independently.\n",
    "\n",
    "```python\n",
    "import torch\n",
    "import torch.nn as nn\n",
    "import torch.nn.functional as F\n",
    "import math\n",
    "\n",
    "class SelfAttention(nn.Module):\n",
    "    def __init__(self, embed_size, heads):\n",
    "        super(SelfAttention, self).__init__()\n",
    "        self.embed_size = embed_size\n",
    "        self.heads = heads\n",
    "        self.head_dim = embed_size // heads\n",
    "\n",
    "        assert (self.head_dim * heads == embed_size), \"Embed size needs to be divisible by heads\"\n",
    "\n",
    "        self.values = nn.Linear(self.head_dim, self.head_dim, bias=False)\n",
    "        self.keys = nn.Linear(self.head_dim, self.head_dim, bias=False)\n",
    "        self.queries = nn.Linear(self.head_dim, self.head_dim, bias=False)\n",
    "        self.fc_out = nn.Linear(heads * self.head_dim, embed_size)\n",
    "\n",
    "    def forward(self, values, keys, query, mask):\n",
    "        N = query.shape[0]\n",
    "        value_len, key_len, query_len = values.shape[1], keys.shape[1], query.shape[1]\n",
    "\n",
    "        # Split embedding into self.heads pieces\n",
    "        values = values.reshape(N, value_len, self.heads, self.head_dim)\n",
    "        keys = keys.reshape(N, key_len, self.heads, self.head_dim)\n",
    "        queries = query.reshape(N, query_len, self.heads, self.head_dim)\n",
    "\n",
    "        values = self.values(values)\n",
    "        keys = self.keys(keys)\n",
    "        queries = self.queries(queries)\n",
    "\n",
    "        # Multiplication\n",
    "        energy = torch.einsum(\"nqhd,nkhd->nhqk\", [queries, keys])\n",
    "\n",
    "        # Mask padded indices so their weights become 0\n",
    "        if mask is not None:\n",
    "            energy = energy.masked_fill(mask == 0, float(\"-1e20\"))\n",
    "\n",
    "        attention = torch.softmax(energy / (self.embed_size ** (1 / 2)), dim=3)\n",
    "\n",
    "        out = torch.einsum(\"nhql,nlhd->nqhd\", [attention, values]).reshape(\n",
    "            N, query_len, self.heads * self.head_dim\n",
    "        )\n",
    "\n",
    "        out = self.fc_out(out)\n",
    "        return out\n",
    "```\n",
    "\n",
    "### Step 2: Positional Encoding\n",
    "\n",
    "Positional encodings are added to the input embeddings to give the model information about the relative or absolute positions of the tokens in the sequence.\n",
    "\n",
    "```python\n",
    "class PositionalEncoding(nn.Module):\n",
    "    def __init__(self, embed_size, max_len=100):\n",
    "        super(PositionalEncoding, self).__init__()\n",
    "        self.encoding = torch.zeros(max_len, embed_size)\n",
    "        position = torch.arange(0, max_len).unsqueeze(1).float()\n",
    "        div_term = torch.exp(torch.arange(0, embed_size, 2).float() * (-math.log(10000.0) / embed_size))\n",
    "\n",
    "        self.encoding[:, 0::2] = torch.sin(position * div_term)\n",
    "        self.encoding[:, 1::2] = torch.cos(position * div_term)\n",
    "        self.encoding = self.encoding.unsqueeze(0)\n",
    "\n",
    "    def forward(self, x):\n",
    "        return x + self.encoding[:, :x.size(1)]\n",
    "```\n",
    "\n",
    "### Step 3: Feed-Forward Network\n",
    "\n",
    "This is a simple fully connected neural network applied to each position separately and identically.\n",
    "\n",
    "```python\n",
    "class FeedForward(nn.Module):\n",
    "    def __init__(self, embed_size, ff_hidden_size):\n",
    "        super(FeedForward, self).__init__()\n",
    "        self.layer1 = nn.Linear(embed_size, ff_hidden_size)\n",
    "        self.layer2 = nn.Linear(ff_hidden_size, embed_size)\n",
    "\n",
    "    def forward(self, x):\n",
    "        x = F.relu(self.layer1(x))\n",
    "        x = self.layer2(x)\n",
    "        return x\n",
    "```\n",
    "\n",
    "### Step 4: Encoder and Decoder Layers\n",
    "\n",
    "These are composed of self-attention layers, feed-forward networks, and normalization layers.\n",
    "\n",
    "```python\n",
    "class EncoderLayer(nn.Module):\n",
    "    def __init__(self, embed_size, heads, ff_hidden_size):\n",
    "        super(EncoderLayer, self).__init__()\n",
    "        self.norm1 = nn.LayerNorm(embed_size)\n",
    "        self.norm2 = nn.LayerNorm(embed_size)\n",
    "        self.attention = SelfAttention(embed_size, heads)\n",
    "        self.feed_forward = FeedForward(embed_size, ff_hidden_size)\n",
    "\n",
    "    def forward(self\n",
    "\n",
    ", x, mask):\n",
    "        attention = self.attention(x, x, x, mask)\n",
    "        x = self.norm1(attention + x)\n",
    "        forward = self.feed_forward(x)\n",
    "        x = self.norm2(forward + x)\n",
    "        return x\n",
    "```\n",
    "\n",
    "### Step 5: Build the Complete Model\n",
    "\n",
    "Finally, you can construct the complete Transformer model using the components defined above. You would typically include a sequence of encoder and decoder layers, embed the input tokens before feeding them into the encoders, and apply the positional encodings.\n",
    "\n",
    "This structure allows you to explain to your class the flow of data through a Transformer and the role of each component in processing and transforming the input into the output."
   ]
  },
  {
   "cell_type": "markdown",
   "id": "30af8d20-dda3-445f-ae42-d08aaae64530",
   "metadata": {},
   "source": [
    "Building on the earlier components, we'll now construct the Decoder layer for the Transformer model, which involves additional components like masked self-attention and encoder-decoder attention. This is followed by constructing a complete Transformer model using both the Encoder and Decoder layers.\n",
    "\n",
    "### Step 1: Decoder Layer\n",
    "\n",
    "The Decoder layer in the Transformer model has three main components:\n",
    "1. **Masked Self-Attention**: Prevents positions from attending to subsequent positions. This is critical during training to maintain the auto-regressive property.\n",
    "2. **Encoder-Decoder Attention**: Allows the decoder to focus on relevant parts of the input sequence.\n",
    "3. **Feed-Forward Neural Network**: The same as used in the encoder.\n",
    "\n",
    "```python\n",
    "class DecoderLayer(nn.Module):\n",
    "    def __init__(self, embed_size, heads, forward_expansion):\n",
    "        super(DecoderLayer, self).__init__()\n",
    "        self.norm1 = nn.LayerNorm(embed_size)\n",
    "        self.norm2 = nn.LayerNorm(embed_size)\n",
    "        self.norm3 = nn.LayerNorm(embed_size)\n",
    "        self.attention1 = SelfAttention(embed_size, heads)\n",
    "        self.attention2 = SelfAttention(embed_size, heads)\n",
    "        self.feed_forward = FeedForward(embed_size, forward_expansion)\n",
    "\n",
    "    def forward(self, x, value, key, src_mask, trg_mask):\n",
    "        # Masked self-attention (trg_mask is used here)\n",
    "        attn1 = self.attention1(x, x, x, trg_mask)\n",
    "        x = self.norm1(attn1 + x)\n",
    "        # Encoder-Decoder attention (src_mask is used here)\n",
    "        attn2 = self.attention2(x, value, key, src_mask)\n",
    "        x = self.norm2(attn2 + x)\n",
    "        # Feed Forward\n",
    "        forward = self.feed_forward(x)\n",
    "        x = self.norm3(forward + x)\n",
    "        return x\n",
    "```\n",
    "\n",
    "### Step 2: Complete Transformer Model\n",
    "\n",
    "Now, let's put everything together to form a complete Transformer model that includes both the encoder and decoder stacks. The model will also handle embeddings and positional encodings for both the input and output sequences.\n",
    "\n",
    "```python\n",
    "class Transformer(nn.Module):\n",
    "    def __init__(self, src_vocab_size, trg_vocab_size, src_pad_idx, trg_pad_idx, embed_size=256, num_layers=6, forward_expansion=512, heads=8, dropout=0.1, max_len=100):\n",
    "        super(Transformer, self).__init__()\n",
    "        self.encoder = Encoder(src_vocab_size, embed_size, num_layers, heads, forward_expansion, dropout, max_len)\n",
    "        self.decoder = Decoder(trg_vocab_size, embed_size, num_layers, heads, forward_expansion, dropout, max_len)\n",
    "        self.src_pad_idx = src_pad_idx\n",
    "        self.trg_pad_idx = trg_pad_idx\n",
    "        self.device = torch.device(\"cuda\" if torch.cuda.is_available() else \"cpu\")\n",
    "\n",
    "    def make_src_mask(self, src):\n",
    "        src_mask = (src != self.src_pad_idx).unsqueeze(1).unsqueeze(2)\n",
    "        return src_mask.to(self.device)\n",
    "\n",
    "    def make_trg_mask(self, trg):\n",
    "        N, trg_len = trg.shape\n",
    "        trg_mask = torch.tril(torch.ones((trg_len, trg_len))).type(torch.BoolTensor)\n",
    "        return trg_mask.to(self.device)\n",
    "\n",
    "    def forward(self, src, trg):\n",
    "        src_mask = self.make_src_mask(src)\n",
    "        trg_mask = self.make_trg_mask(trg)\n",
    "        enc_src = self.encoder(src, src_mask)\n",
    "        out = self.decoder(trg, enc_src, enc_src, src_mask, trg_mask)\n",
    "        return out\n",
    "\n",
    "class Encoder(nn.Module):\n",
    "    def __init__(self, vocab_size, embed_size, num_layers, heads, forward_expansion, dropout, max_len):\n",
    "        super(Encoder, self).__init__()\n",
    "        self.word_embedding = nn.Embedding(vocab_size, embed_size)\n",
    "        self.position_embedding = PositionalEncoding(embed_size, max_len)\n",
    "        self.layers = nn.ModuleList([\n",
    "            EncoderLayer(embed_size, heads, forward_expansion) for _ in range(num_layers)\n",
    "        ])\n",
    "        self.dropout = nn.Dropout(dropout)\n",
    "\n",
    "    def forward(self, x, mask):\n",
    "        x = self.dropout(self.position_embedding(self.word_embedding(x)))\n",
    "        for layer in self.layers:\n",
    "            x = layer(x, mask)\n",
    "        return x\n",
    "\n",
    "class Decoder(nn.Module):\n",
    "    def __init__(self, vocab_size, embed_size, num_layers, heads, forward_expansion, dropout, max_len):\n",
    "        super(Decoder, self).__init__()\n",
    "        self.word_embedding = nn.Embedding(vocab_size, embed_size)\n",
    "        self.position_embedding = PositionalEncoding(embed_size, max_len)\n",
    "        self.layers = nn.ModuleList([\n",
    "            DecoderLayer(embed_size, heads, forward_expansion) for _ in range(num_layers)\n",
    "        ])\n",
    "        self.dropout = nn.Dropout(dropout)\n",
    "\n",
    "    def forward(self, x, enc_out, src_mask, trg_mask):\n",
    "        x = self.dropout\n",
    "\n",
    "(self.position_embedding(self.word_embedding(x)))\n",
    "        for layer in self.layers:\n",
    "            x = layer(x, enc_out, enc_out, src_mask, trg_mask)\n",
    "        return x\n",
    "```\n",
    "\n",
    "### Explanation:\n",
    "\n",
    "1. **Complete Model**: Combines encoder and decoder components, each using a series of layers.\n",
    "2. **Masks**: Source mask is for ignoring padding in the input sequence, and target mask is for ensuring that positions only attend to earlier positions (maintaining auto-regression).\n",
    "3. **Positional Encodings**: Added to input embeddings in both encoder and decoder to retain positional information.\n",
    "\n",
    "This model architecture encapsulates the full Transformer model and can be used for training and inference on sequence-to-sequence tasks like translation. Note that for actual training, you would need to setup the training loop, data loading, and possibly more detailed configurations like learning rate schedules and advanced optimizer setups (e.g., using Adam with learning rate warmup)."
   ]
  },
  {
   "cell_type": "markdown",
   "id": "4deb7fdf-b021-4336-b717-7dc641066448",
   "metadata": {},
   "source": [
    "### Layer Normalization vs. Batch Normalization\n",
    "\n",
    "**Layer Normalization (LayerNorm)** and **Batch Normalization (BatchNorm)** are two techniques used to stabilize the learning process in deep neural networks by normalizing the input layer by layer or batch by batch, respectively. Despite their similar goals, they are applied differently and are suited to different types of data and architectures.\n",
    "\n",
    "#### Batch Normalization (BatchNorm)\n",
    "BatchNorm normalizes the activations of a previous layer for each batch. It computes the mean and variance for the entire mini-batch and uses these values to normalize the batch. Then it applies a scale and shift to these values, which are learned during training.\n",
    "\n",
    "- **Advantages**: Helps in faster convergence; can be beneficial with internal covariate shift (when the distribution of network activations varies during training).\n",
    "- **Disadvantages**: Its performance heavily depends on the size of the batch. It may not work well with small batch sizes, and it can behave inconsistently during training vs. inference due to the difference in computed statistics.\n",
    "\n",
    "#### Layer Normalization (LayerNorm)\n",
    "LayerNorm, on the other hand, normalizes the inputs across the features instead of the batch dimension. For each individual data point in a batch, it computes the mean and variance used for normalization across the features. This is particularly useful in recurrent neural networks and Transformer models where the batch size can be dynamic.\n",
    "\n",
    "- **Advantages**: Does not depend on the batch size, making it suitable for tasks with a variable batch size and for models like RNNs and Transformers. Consistent behavior across training and inference.\n",
    "- **Disadvantages**: May not leverage batch-wise information, which can be useful in certain architectures and tasks.\n",
    "\n",
    "#### Practical Example: Layer Normalization in PyTorch\n",
    "\n",
    "Here’s how you might implement LayerNorm in a PyTorch model. Suppose you're building a simple feed-forward neural network for illustration:\n",
    "\n",
    "```python\n",
    "import torch\n",
    "import torch.nn as nn\n",
    "\n",
    "class FeedForwardNN(nn.Module):\n",
    "    def __init__(self, input_dim, hidden_dim):\n",
    "        super(FeedForwardNN, self).__init__()\n",
    "        self.fc1 = nn.Linear(input_dim, hidden_dim)\n",
    "        self.layernorm = nn.LayerNorm(hidden_dim)\n",
    "        self.relu = nn.ReLU()\n",
    "        self.fc2 = nn.Linear(hidden_dim, 1)  # Output layer\n",
    "\n",
    "    def forward(self, x):\n",
    "        x = self.fc1(x)\n",
    "        x = self.layernorm(x)\n",
    "        x = self.relu(x)\n",
    "        x = self.fc2(x)\n",
    "        return x\n",
    "\n",
    "# Example usage\n",
    "model = FeedForwardNN(input_dim=10, hidden_dim=50)\n",
    "input_tensor = torch.randn(5, 10)  # 5 data points with 10 features each\n",
    "output = model(input_tensor)\n",
    "print(output)\n",
    "```\n",
    "\n",
    "In this example, `LayerNorm` is applied to the output of the first linear layer (`fc1`). It normalizes the data across the 50 features of each data point independently, ensuring that the scale of outputs is controlled, which aids in stabilizing the training process.\n",
    "\n",
    "This example shows that LayerNorm is simple to integrate into neural network architectures and especially powerful in settings where the batch size is small or varies, making BatchNorm less effective."
   ]
  },
  {
   "cell_type": "code",
   "execution_count": null,
   "id": "26636fb9-479d-4a35-a389-56b00cbf431a",
   "metadata": {},
   "outputs": [],
   "source": []
  }
 ],
 "metadata": {
  "kernelspec": {
   "display_name": "Python 3 (ipykernel)",
   "language": "python",
   "name": "python3"
  },
  "language_info": {
   "codemirror_mode": {
    "name": "ipython",
    "version": 3
   },
   "file_extension": ".py",
   "mimetype": "text/x-python",
   "name": "python",
   "nbconvert_exporter": "python",
   "pygments_lexer": "ipython3",
   "version": "3.11.9"
  }
 },
 "nbformat": 4,
 "nbformat_minor": 5
}
