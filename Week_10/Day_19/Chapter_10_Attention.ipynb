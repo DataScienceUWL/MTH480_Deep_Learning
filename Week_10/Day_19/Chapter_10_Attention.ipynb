{
 "cells": [
  {
   "cell_type": "code",
   "execution_count": 1,
   "metadata": {
    "ExecuteTime": {
     "end_time": "2021-04-03T17:54:19.728545Z",
     "start_time": "2021-04-03T17:54:18.435113Z"
    },
    "tags": [
     "remove_cell"
    ]
   },
   "outputs": [],
   "source": [
    "import torch\n",
    "import torch.nn as nn\n",
    "import torch.nn.functional as F\n",
    "import torchvision \n",
    "from torch.nn.utils.rnn import pack_padded_sequence, pad_packed_sequence\n",
    "from torchvision import transforms\n",
    "\n",
    "from torch.utils.data import Dataset, DataLoader\n",
    "\n",
    "from tqdm.autonotebook import tqdm\n",
    "\n",
    "import numpy as np\n",
    "import seaborn as sns\n",
    "import matplotlib.pyplot as plt\n",
    "from matplotlib.pyplot import imshow\n",
    "\n",
    "import pandas as pd\n",
    "\n",
    "from sklearn.metrics import accuracy_score\n",
    "\n",
    "import time\n",
    "\n",
    "from idlmam import train_network, Flatten, weight_reset, View, set_seed"
   ]
  },
  {
   "cell_type": "code",
   "execution_count": 2,
   "metadata": {
    "ExecuteTime": {
     "end_time": "2021-04-03T17:54:19.734725Z",
     "start_time": "2021-04-03T17:54:19.730121Z"
    },
    "tags": [
     "remove_cell"
    ]
   },
   "outputs": [
    {
     "name": "stderr",
     "output_type": "stream",
     "text": [
      "/var/folders/8w/0_6f1mnj291b3dfy5xqyp1rd3h18sr/T/ipykernel_82735/1799943160.py:3: DeprecationWarning: `set_matplotlib_formats` is deprecated since IPython 7.23, directly use `matplotlib_inline.backend_inline.set_matplotlib_formats()`\n",
      "  set_matplotlib_formats('png', 'pdf')\n"
     ]
    }
   ],
   "source": [
    "%matplotlib inline\n",
    "from IPython.display import set_matplotlib_formats\n",
    "set_matplotlib_formats('png', 'pdf')"
   ]
  },
  {
   "cell_type": "code",
   "execution_count": 3,
   "metadata": {
    "ExecuteTime": {
     "end_time": "2021-04-03T17:54:19.749153Z",
     "start_time": "2021-04-03T17:54:19.735879Z"
    },
    "tags": [
     "remove_cell"
    ]
   },
   "outputs": [],
   "source": [
    "torch.backends.cudnn.deterministic=True\n",
    "set_seed(42)"
   ]
  },
  {
   "cell_type": "code",
   "execution_count": 4,
   "metadata": {
    "ExecuteTime": {
     "end_time": "2021-04-03T17:54:19.782882Z",
     "start_time": "2021-04-03T17:54:19.750977Z"
    },
    "tags": [
     "remove_cell"
    ]
   },
   "outputs": [
    {
     "name": "stdout",
     "output_type": "stream",
     "text": [
      "MPS (Apple Silicon) is available\n",
      "Your device is using: mps\n"
     ]
    }
   ],
   "source": [
    "def detect_device():\n",
    "    if torch.cuda.is_available():\n",
    "        print(\"CUDA is available\")\n",
    "        return torch.device(\"cuda\")\n",
    "    elif torch.backends.mps.is_available():\n",
    "        print(\"MPS (Apple Silicon) is available\")\n",
    "        return torch.device(\"mps\")\n",
    "    else:\n",
    "        print(\"Only cpu is available\")\n",
    "        return torch.device(\"cpu\")\n",
    "\n",
    "device = detect_device()\n",
    "print(f\"Your device is using: {device}\")"
   ]
  },
  {
   "cell_type": "code",
   "execution_count": 5,
   "metadata": {
    "ExecuteTime": {
     "end_time": "2021-04-03T17:54:19.809218Z",
     "start_time": "2021-04-03T17:54:19.784393Z"
    }
   },
   "outputs": [],
   "source": [
    "mnist_train = torchvision.datasets.MNIST(\"./\", train=True, transform=transforms.ToTensor(), download=True)\n",
    "mnist_test = torchvision.datasets.MNIST(\"./\", train=False, transform=transforms.ToTensor(), download=True)"
   ]
  },
  {
   "cell_type": "code",
   "execution_count": 6,
   "metadata": {
    "ExecuteTime": {
     "end_time": "2021-04-03T17:54:19.815705Z",
     "start_time": "2021-04-03T17:54:19.811377Z"
    }
   },
   "outputs": [],
   "source": [
    "class LargestDigit(Dataset):\n",
    "    \"\"\"\n",
    "    Creates a modified version of a dataset where some number of samples are taken, \n",
    "    and the true label is the largest label sampled. When used with MNIST the labels \n",
    "    correspond to their values (e.g., digit \"6\" has label 6)\n",
    "    \"\"\"\n",
    "\n",
    "    def __init__(self, dataset, toSample=3):\n",
    "        \"\"\"\n",
    "        dataset: the dataset to sample from\n",
    "        toSample: the number of items from the dataset to sample\n",
    "        \"\"\"\n",
    "        self.dataset = dataset\n",
    "        self.toSample = toSample\n",
    "\n",
    "    def __len__(self):\n",
    "        return len(self.dataset)\n",
    "\n",
    "    def __getitem__(self, idx):\n",
    "        #Randomly select n=self.toSample items from the dataset\n",
    "        selected = np.random.randint(0,len(self.dataset), size=self.toSample)\n",
    "        \n",
    "        #Stack the n items of shape (B, *) shape into (B, n, *)\n",
    "        x_new = torch.stack([self.dataset[i][0] for i in selected])\n",
    "        #Label is the maximum label\n",
    "        y_new = max([self.dataset[i][1] for i in selected])\n",
    "        #Return (data, label) pair!\n",
    "        return x_new, y_new"
   ]
  },
  {
   "cell_type": "code",
   "execution_count": 7,
   "metadata": {
    "ExecuteTime": {
     "end_time": "2021-04-03T17:54:19.821596Z",
     "start_time": "2021-04-03T17:54:19.817125Z"
    }
   },
   "outputs": [],
   "source": [
    "B = 128\n",
    "epochs = 10\n",
    "\n",
    "largest_train = LargestDigit(mnist_train)\n",
    "largest_test = LargestDigit(mnist_test)\n",
    "\n",
    "train_loader = DataLoader(largest_train, batch_size=B, shuffle=True)\n",
    "test_loader = DataLoader(largest_test, batch_size=B)"
   ]
  },
  {
   "cell_type": "code",
   "execution_count": 8,
   "metadata": {
    "ExecuteTime": {
     "end_time": "2021-04-03T17:54:19.826405Z",
     "start_time": "2021-04-03T17:54:19.822802Z"
    },
    "tags": [
     "remove_cell"
    ]
   },
   "outputs": [],
   "source": [
    "#Want a consistent dataset split\n",
    "set_seed(34)"
   ]
  },
  {
   "cell_type": "code",
   "execution_count": 9,
   "metadata": {
    "ExecuteTime": {
     "end_time": "2021-04-03T17:54:20.218399Z",
     "start_time": "2021-04-03T17:54:19.827572Z"
    }
   },
   "outputs": [
    {
     "name": "stdout",
     "output_type": "stream",
     "text": [
      "True Label is =  8\n"
     ]
    },
    {
     "data": {
      "application/pdf": "[encoded data removed]",
      "image/png": "[encoded data removed]",
      "text/plain": [
       "<Figure size 1000x1000 with 3 Axes>"
      ]
     },
     "metadata": {},
     "output_type": "display_data"
    }
   ],
   "source": [
    "x, y = largest_train[4]\n",
    "\n",
    "f, axarr = plt.subplots(1,3, figsize=(10,10))\n",
    "for i in range(3):\n",
    "    axarr[i].imshow(x[i,0,:].numpy(), cmap='gray', vmin=0, vmax=1)\n",
    "print(\"True Label is = \", y)"
   ]
  },
  {
   "cell_type": "code",
   "execution_count": 10,
   "metadata": {
    "ExecuteTime": {
     "end_time": "2021-04-03T18:00:32.432167Z",
     "start_time": "2021-04-03T17:54:20.219640Z"
    },
    "tags": [
     "remove_output"
    ]
   },
   "outputs": [
    {
     "data": {
      "application/vnd.jupyter.widget-view+json": {
       "model_id": "c178e2fa39d846a08693ca761a21fc03",
       "version_major": 2,
       "version_minor": 0
      },
      "text/plain": [
       "Epoch:   0%|          | 0/10 [00:00<?, ?it/s]"
      ]
     },
     "metadata": {},
     "output_type": "display_data"
    },
    {
     "data": {
      "application/vnd.jupyter.widget-view+json": {
       "model_id": "",
       "version_major": 2,
       "version_minor": 0
      },
      "text/plain": [
       "Training:   0%|          | 0/469 [00:00<?, ?it/s]"
      ]
     },
     "metadata": {},
     "output_type": "display_data"
    },
    {
     "data": {
      "application/vnd.jupyter.widget-view+json": {
       "model_id": "",
       "version_major": 2,
       "version_minor": 0
      },
      "text/plain": [
       "Validating:   0%|          | 0/79 [00:00<?, ?it/s]"
      ]
     },
     "metadata": {},
     "output_type": "display_data"
    },
    {
     "data": {
      "application/vnd.jupyter.widget-view+json": {
       "model_id": "",
       "version_major": 2,
       "version_minor": 0
      },
      "text/plain": [
       "Training:   0%|          | 0/469 [00:00<?, ?it/s]"
      ]
     },
     "metadata": {},
     "output_type": "display_data"
    },
    {
     "data": {
      "application/vnd.jupyter.widget-view+json": {
       "model_id": "",
       "version_major": 2,
       "version_minor": 0
      },
      "text/plain": [
       "Validating:   0%|          | 0/79 [00:00<?, ?it/s]"
      ]
     },
     "metadata": {},
     "output_type": "display_data"
    },
    {
     "data": {
      "application/vnd.jupyter.widget-view+json": {
       "model_id": "",
       "version_major": 2,
       "version_minor": 0
      },
      "text/plain": [
       "Training:   0%|          | 0/469 [00:00<?, ?it/s]"
      ]
     },
     "metadata": {},
     "output_type": "display_data"
    },
    {
     "data": {
      "application/vnd.jupyter.widget-view+json": {
       "model_id": "",
       "version_major": 2,
       "version_minor": 0
      },
      "text/plain": [
       "Validating:   0%|          | 0/79 [00:00<?, ?it/s]"
      ]
     },
     "metadata": {},
     "output_type": "display_data"
    },
    {
     "data": {
      "application/vnd.jupyter.widget-view+json": {
       "model_id": "",
       "version_major": 2,
       "version_minor": 0
      },
      "text/plain": [
       "Training:   0%|          | 0/469 [00:00<?, ?it/s]"
      ]
     },
     "metadata": {},
     "output_type": "display_data"
    },
    {
     "data": {
      "application/vnd.jupyter.widget-view+json": {
       "model_id": "",
       "version_major": 2,
       "version_minor": 0
      },
      "text/plain": [
       "Validating:   0%|          | 0/79 [00:00<?, ?it/s]"
      ]
     },
     "metadata": {},
     "output_type": "display_data"
    },
    {
     "data": {
      "application/vnd.jupyter.widget-view+json": {
       "model_id": "",
       "version_major": 2,
       "version_minor": 0
      },
      "text/plain": [
       "Training:   0%|          | 0/469 [00:00<?, ?it/s]"
      ]
     },
     "metadata": {},
     "output_type": "display_data"
    },
    {
     "data": {
      "application/vnd.jupyter.widget-view+json": {
       "model_id": "",
       "version_major": 2,
       "version_minor": 0
      },
      "text/plain": [
       "Validating:   0%|          | 0/79 [00:00<?, ?it/s]"
      ]
     },
     "metadata": {},
     "output_type": "display_data"
    },
    {
     "data": {
      "application/vnd.jupyter.widget-view+json": {
       "model_id": "",
       "version_major": 2,
       "version_minor": 0
      },
      "text/plain": [
       "Training:   0%|          | 0/469 [00:00<?, ?it/s]"
      ]
     },
     "metadata": {},
     "output_type": "display_data"
    },
    {
     "data": {
      "application/vnd.jupyter.widget-view+json": {
       "model_id": "",
       "version_major": 2,
       "version_minor": 0
      },
      "text/plain": [
       "Validating:   0%|          | 0/79 [00:00<?, ?it/s]"
      ]
     },
     "metadata": {},
     "output_type": "display_data"
    },
    {
     "data": {
      "application/vnd.jupyter.widget-view+json": {
       "model_id": "",
       "version_major": 2,
       "version_minor": 0
      },
      "text/plain": [
       "Training:   0%|          | 0/469 [00:00<?, ?it/s]"
      ]
     },
     "metadata": {},
     "output_type": "display_data"
    },
    {
     "data": {
      "application/vnd.jupyter.widget-view+json": {
       "model_id": "",
       "version_major": 2,
       "version_minor": 0
      },
      "text/plain": [
       "Validating:   0%|          | 0/79 [00:00<?, ?it/s]"
      ]
     },
     "metadata": {},
     "output_type": "display_data"
    },
    {
     "data": {
      "application/vnd.jupyter.widget-view+json": {
       "model_id": "",
       "version_major": 2,
       "version_minor": 0
      },
      "text/plain": [
       "Training:   0%|          | 0/469 [00:00<?, ?it/s]"
      ]
     },
     "metadata": {},
     "output_type": "display_data"
    },
    {
     "data": {
      "application/vnd.jupyter.widget-view+json": {
       "model_id": "",
       "version_major": 2,
       "version_minor": 0
      },
      "text/plain": [
       "Validating:   0%|          | 0/79 [00:00<?, ?it/s]"
      ]
     },
     "metadata": {},
     "output_type": "display_data"
    },
    {
     "data": {
      "application/vnd.jupyter.widget-view+json": {
       "model_id": "",
       "version_major": 2,
       "version_minor": 0
      },
      "text/plain": [
       "Training:   0%|          | 0/469 [00:00<?, ?it/s]"
      ]
     },
     "metadata": {},
     "output_type": "display_data"
    },
    {
     "data": {
      "application/vnd.jupyter.widget-view+json": {
       "model_id": "",
       "version_major": 2,
       "version_minor": 0
      },
      "text/plain": [
       "Validating:   0%|          | 0/79 [00:00<?, ?it/s]"
      ]
     },
     "metadata": {},
     "output_type": "display_data"
    },
    {
     "data": {
      "application/vnd.jupyter.widget-view+json": {
       "model_id": "",
       "version_major": 2,
       "version_minor": 0
      },
      "text/plain": [
       "Training:   0%|          | 0/469 [00:00<?, ?it/s]"
      ]
     },
     "metadata": {},
     "output_type": "display_data"
    },
    {
     "data": {
      "application/vnd.jupyter.widget-view+json": {
       "model_id": "",
       "version_major": 2,
       "version_minor": 0
      },
      "text/plain": [
       "Validating:   0%|          | 0/79 [00:00<?, ?it/s]"
      ]
     },
     "metadata": {},
     "output_type": "display_data"
    }
   ],
   "source": [
    "neurons = 256\n",
    "classes = 10\n",
    "simpleNet = nn.Sequential(\n",
    "    nn.Flatten(),\n",
    "    nn.Linear(784*3,neurons), # 784*3 because there are 784 pixels in an image and 3 images in the bag\n",
    "    nn.LeakyReLU(),\n",
    "    nn.BatchNorm1d(neurons),\n",
    "    nn.Linear(neurons,neurons),\n",
    "    nn.LeakyReLU(),\n",
    "    nn.BatchNorm1d(neurons),\n",
    "    nn.Linear(neurons,neurons),\n",
    "    nn.LeakyReLU(),\n",
    "    nn.BatchNorm1d(neurons),\n",
    "    nn.Linear(neurons, classes )\n",
    ")    \n",
    "simple_results = train_network(simpleNet, nn.CrossEntropyLoss(), train_loader, val_loader=test_loader, epochs=epochs, score_funcs={'Accuracy': accuracy_score}, device=device)"
   ]
  },
  {
   "cell_type": "code",
   "execution_count": 11,
   "metadata": {
    "ExecuteTime": {
     "end_time": "2021-04-03T18:00:32.631217Z",
     "start_time": "2021-04-03T18:00:32.433308Z"
    }
   },
   "outputs": [
    {
     "data": {
      "text/plain": [
       "<Axes: xlabel='epoch', ylabel='val Accuracy'>"
      ]
     },
     "execution_count": 11,
     "metadata": {},
     "output_type": "execute_result"
    },
    {
     "data": {
      "application/pdf": "[encoded data removed]",
      "image/png": "[encoded data removed]",
      "text/plain": [
       "<Figure size 640x480 with 1 Axes>"
      ]
     },
     "metadata": {},
     "output_type": "display_data"
    }
   ],
   "source": [
    "sns.lineplot(x='epoch', y='val Accuracy', data=simple_results, label='Regular')"
   ]
  },
  {
   "cell_type": "code",
   "execution_count": 12,
   "metadata": {
    "ExecuteTime": {
     "end_time": "2021-04-03T18:00:32.635405Z",
     "start_time": "2021-04-03T18:00:32.632400Z"
    }
   },
   "outputs": [],
   "source": [
    "class Flatten2(nn.Module):\n",
    "    \"\"\"\n",
    "    Takes a vector of shape (A, B, C, D, E, ...)\n",
    "    and flattens everything but the first two dimensions, \n",
    "    giving a result of shape (A, B, C*D*E*...)\n",
    "    \"\"\"\n",
    "    def forward(self, input):\n",
    "        return input.view(input.size(0), input.size(1), -1)"
   ]
  },
  {
   "cell_type": "code",
   "execution_count": 13,
   "metadata": {
    "ExecuteTime": {
     "end_time": "2021-04-03T18:00:32.640740Z",
     "start_time": "2021-04-03T18:00:32.636661Z"
    }
   },
   "outputs": [],
   "source": [
    "class Combiner(nn.Module):\n",
    "    \"\"\"\n",
    "    This class is used to combine a feature exraction network F and a importance prediction network W,\n",
    "    and combine their outputs by adding and summing them together. \n",
    "    \"\"\"\n",
    "\n",
    "    def __init__(self, featureExtraction, weightSelection):\n",
    "        \"\"\"\n",
    "        featureExtraction: a network that takes an input of shape (B, T, D) and outputs a new \n",
    "            representation of shape (B, T, D'). \n",
    "        weightSelection: a network that takes in an input of shape (B, T, D') and outputs a \n",
    "            tensor of shape (B, T, 1) or (B, T). It should be normalized, so that the T \n",
    "            values at the end sum to one (torch.sum(_, dim=1) = 1.0)\n",
    "        \"\"\"\n",
    "        super(Combiner, self).__init__()\n",
    "        self.featureExtraction = featureExtraction\n",
    "        self.weightSelection = weightSelection\n",
    "    \n",
    "    def forward(self, input):\n",
    "        \"\"\"\n",
    "        input: a tensor of shape (B, T, D)\n",
    "        return: a new tensor of shape (B, D')\n",
    "        \"\"\"\n",
    "        features = self.featureExtraction(input) #(B, T, D) $\\boldsymbol{h}_i = F(\\boldsymbol{x}_i)$\n",
    "        weights = self.weightSelection(features) #(B, T) or (B, T, 1) for $\\boldsymbol{\\alpha}$\n",
    "        if len(weights.shape) == 2: #(B, T) shape\n",
    "            weights.unsqueese(2) #now (B, T, 1) shape\n",
    "        \n",
    "        r = features*weights #(B, T, D), computes $\\alpha_i \\cdot \\boldsymbol{h}_i$\n",
    "        \n",
    "        return torch.sum(r, dim=1) #sum over the T dimension, giving (B, D) final shape $\\bar{\\boldsymbol{x}}$"
   ]
  },
  {
   "cell_type": "code",
   "execution_count": 14,
   "metadata": {
    "ExecuteTime": {
     "end_time": "2021-04-03T18:00:32.646025Z",
     "start_time": "2021-04-03T18:00:32.641977Z"
    }
   },
   "outputs": [],
   "source": [
    "T = 3\n",
    "D = 784"
   ]
  },
  {
   "cell_type": "code",
   "execution_count": 15,
   "metadata": {
    "ExecuteTime": {
     "end_time": "2021-04-03T18:00:32.653320Z",
     "start_time": "2021-04-03T18:00:32.647525Z"
    }
   },
   "outputs": [],
   "source": [
    "backboneNetwork = nn.Sequential(\n",
    "    Flatten2(),# Shape is now (B, T, D)\n",
    "    nn.Linear(D,neurons), #Shape becomes (B, T, neurons)\n",
    "    nn.LeakyReLU(),\n",
    "    nn.Linear(neurons,neurons),\n",
    "    nn.LeakyReLU(),\n",
    "    nn.Linear(neurons,neurons),\n",
    "    nn.LeakyReLU(), #still (B, T, neurons) on the way out\n",
    ")"
   ]
  },
  {
   "cell_type": "code",
   "execution_count": 16,
   "metadata": {
    "ExecuteTime": {
     "end_time": "2021-04-03T18:00:32.658366Z",
     "start_time": "2021-04-03T18:00:32.655139Z"
    }
   },
   "outputs": [],
   "source": [
    "attentionMechanism = nn.Sequential(\n",
    "    #Shape is (B, T, neurons)\n",
    "    nn.Linear(neurons,neurons),\n",
    "    nn.LeakyReLU(),\n",
    "    nn.Linear(neurons, 1 ), # (B, T, 1)\n",
    "    nn.Softmax(dim=1),\n",
    ")"
   ]
  },
  {
   "cell_type": "code",
   "execution_count": 17,
   "metadata": {
    "ExecuteTime": {
     "end_time": "2021-04-03T18:06:49.065560Z",
     "start_time": "2021-04-03T18:00:32.659504Z"
    },
    "tags": [
     "remove_output"
    ]
   },
   "outputs": [
    {
     "data": {
      "application/vnd.jupyter.widget-view+json": {
       "model_id": "",
       "version_major": 2,
       "version_minor": 0
      },
      "text/plain": [
       "Training:   0%|          | 0/469 [00:00<?, ?it/s]"
      ]
     },
     "metadata": {},
     "output_type": "display_data"
    },
    {
     "data": {
      "application/vnd.jupyter.widget-view+json": {
       "model_id": "",
       "version_major": 2,
       "version_minor": 0
      },
      "text/plain": [
       "Validating:   0%|          | 0/79 [00:00<?, ?it/s]"
      ]
     },
     "metadata": {},
     "output_type": "display_data"
    },
    {
     "data": {
      "application/vnd.jupyter.widget-view+json": {
       "model_id": "",
       "version_major": 2,
       "version_minor": 0
      },
      "text/plain": [
       "Training:   0%|          | 0/469 [00:00<?, ?it/s]"
      ]
     },
     "metadata": {},
     "output_type": "display_data"
    },
    {
     "data": {
      "application/vnd.jupyter.widget-view+json": {
       "model_id": "",
       "version_major": 2,
       "version_minor": 0
      },
      "text/plain": [
       "Validating:   0%|          | 0/79 [00:00<?, ?it/s]"
      ]
     },
     "metadata": {},
     "output_type": "display_data"
    },
    {
     "data": {
      "application/vnd.jupyter.widget-view+json": {
       "model_id": "",
       "version_major": 2,
       "version_minor": 0
      },
      "text/plain": [
       "Training:   0%|          | 0/469 [00:00<?, ?it/s]"
      ]
     },
     "metadata": {},
     "output_type": "display_data"
    },
    {
     "data": {
      "application/vnd.jupyter.widget-view+json": {
       "model_id": "",
       "version_major": 2,
       "version_minor": 0
      },
      "text/plain": [
       "Validating:   0%|          | 0/79 [00:00<?, ?it/s]"
      ]
     },
     "metadata": {},
     "output_type": "display_data"
    },
    {
     "data": {
      "application/vnd.jupyter.widget-view+json": {
       "model_id": "",
       "version_major": 2,
       "version_minor": 0
      },
      "text/plain": [
       "Training:   0%|          | 0/469 [00:00<?, ?it/s]"
      ]
     },
     "metadata": {},
     "output_type": "display_data"
    },
    {
     "data": {
      "application/vnd.jupyter.widget-view+json": {
       "model_id": "",
       "version_major": 2,
       "version_minor": 0
      },
      "text/plain": [
       "Validating:   0%|          | 0/79 [00:00<?, ?it/s]"
      ]
     },
     "metadata": {},
     "output_type": "display_data"
    },
    {
     "data": {
      "application/vnd.jupyter.widget-view+json": {
       "model_id": "",
       "version_major": 2,
       "version_minor": 0
      },
      "text/plain": [
       "Training:   0%|          | 0/469 [00:00<?, ?it/s]"
      ]
     },
     "metadata": {},
     "output_type": "display_data"
    },
    {
     "data": {
      "application/vnd.jupyter.widget-view+json": {
       "model_id": "",
       "version_major": 2,
       "version_minor": 0
      },
      "text/plain": [
       "Validating:   0%|          | 0/79 [00:00<?, ?it/s]"
      ]
     },
     "metadata": {},
     "output_type": "display_data"
    },
    {
     "data": {
      "application/vnd.jupyter.widget-view+json": {
       "model_id": "",
       "version_major": 2,
       "version_minor": 0
      },
      "text/plain": [
       "Training:   0%|          | 0/469 [00:00<?, ?it/s]"
      ]
     },
     "metadata": {},
     "output_type": "display_data"
    },
    {
     "data": {
      "application/vnd.jupyter.widget-view+json": {
       "model_id": "",
       "version_major": 2,
       "version_minor": 0
      },
      "text/plain": [
       "Validating:   0%|          | 0/79 [00:00<?, ?it/s]"
      ]
     },
     "metadata": {},
     "output_type": "display_data"
    },
    {
     "data": {
      "application/vnd.jupyter.widget-view+json": {
       "model_id": "",
       "version_major": 2,
       "version_minor": 0
      },
      "text/plain": [
       "Training:   0%|          | 0/469 [00:00<?, ?it/s]"
      ]
     },
     "metadata": {},
     "output_type": "display_data"
    },
    {
     "data": {
      "application/vnd.jupyter.widget-view+json": {
       "model_id": "",
       "version_major": 2,
       "version_minor": 0
      },
      "text/plain": [
       "Validating:   0%|          | 0/79 [00:00<?, ?it/s]"
      ]
     },
     "metadata": {},
     "output_type": "display_data"
    },
    {
     "data": {
      "application/vnd.jupyter.widget-view+json": {
       "model_id": "",
       "version_major": 2,
       "version_minor": 0
      },
      "text/plain": [
       "Training:   0%|          | 0/469 [00:00<?, ?it/s]"
      ]
     },
     "metadata": {},
     "output_type": "display_data"
    },
    {
     "data": {
      "application/vnd.jupyter.widget-view+json": {
       "model_id": "",
       "version_major": 2,
       "version_minor": 0
      },
      "text/plain": [
       "Validating:   0%|          | 0/79 [00:00<?, ?it/s]"
      ]
     },
     "metadata": {},
     "output_type": "display_data"
    },
    {
     "data": {
      "application/vnd.jupyter.widget-view+json": {
       "model_id": "",
       "version_major": 2,
       "version_minor": 0
      },
      "text/plain": [
       "Training:   0%|          | 0/469 [00:00<?, ?it/s]"
      ]
     },
     "metadata": {},
     "output_type": "display_data"
    },
    {
     "data": {
      "application/vnd.jupyter.widget-view+json": {
       "model_id": "",
       "version_major": 2,
       "version_minor": 0
      },
      "text/plain": [
       "Validating:   0%|          | 0/79 [00:00<?, ?it/s]"
      ]
     },
     "metadata": {},
     "output_type": "display_data"
    },
    {
     "data": {
      "application/vnd.jupyter.widget-view+json": {
       "model_id": "",
       "version_major": 2,
       "version_minor": 0
      },
      "text/plain": [
       "Training:   0%|          | 0/469 [00:00<?, ?it/s]"
      ]
     },
     "metadata": {},
     "output_type": "display_data"
    },
    {
     "data": {
      "application/vnd.jupyter.widget-view+json": {
       "model_id": "",
       "version_major": 2,
       "version_minor": 0
      },
      "text/plain": [
       "Validating:   0%|          | 0/79 [00:00<?, ?it/s]"
      ]
     },
     "metadata": {},
     "output_type": "display_data"
    }
   ],
   "source": [
    "simpleAttentionNet = nn.Sequential(\n",
    "        #input is (B, T, C, W, H). backbone & attention will be used by combiner to process\n",
    "        Combiner(backboneNetwork, attentionMechanism), # result is (B, neurons)\n",
    "        nn.BatchNorm1d(neurons),\n",
    "        nn.Linear(neurons,neurons),\n",
    "        nn.LeakyReLU(),\n",
    "        nn.BatchNorm1d(neurons),\n",
    "        nn.Linear(neurons, classes )\n",
    "    )\n",
    "simple_attn_results = train_network(simpleAttentionNet, \n",
    "                                    nn.CrossEntropyLoss(), \n",
    "                                    train_loader, \n",
    "                                    val_loader=test_loader, \n",
    "                                    epochs=epochs, \n",
    "                                    score_funcs={'Accuracy': accuracy_score}, \n",
    "                                    device=device,\n",
    "                                   disable_tqdm=True)"
   ]
  },
  {
   "cell_type": "code",
   "execution_count": 18,
   "metadata": {
    "ExecuteTime": {
     "end_time": "2021-04-03T18:06:49.297156Z",
     "start_time": "2021-04-03T18:06:49.066794Z"
    }
   },
   "outputs": [
    {
     "data": {
      "text/plain": [
       "<Axes: xlabel='epoch', ylabel='val Accuracy'>"
      ]
     },
     "execution_count": 18,
     "metadata": {},
     "output_type": "execute_result"
    },
    {
     "data": {
      "application/pdf": "[encoded data removed]",
      "image/png": "[encoded data removed]",
      "text/plain": [
       "<Figure size 640x480 with 1 Axes>"
      ]
     },
     "metadata": {},
     "output_type": "display_data"
    }
   ],
   "source": [
    "sns.lineplot(x='epoch', y='val Accuracy', data=simple_results, label='Regular')\n",
    "sns.lineplot(x='epoch', y='val Accuracy', data=simple_attn_results, label='Simple Attention')"
   ]
  },
  {
   "cell_type": "code",
   "execution_count": 19,
   "metadata": {
    "ExecuteTime": {
     "end_time": "2021-04-03T18:06:49.300954Z",
     "start_time": "2021-04-03T18:06:49.298384Z"
    },
    "tags": [
     "remove_cell"
    ]
   },
   "outputs": [],
   "source": [
    "set_seed(1)"
   ]
  },
  {
   "cell_type": "code",
   "execution_count": 20,
   "metadata": {
    "ExecuteTime": {
     "end_time": "2021-04-03T18:06:49.687226Z",
     "start_time": "2021-04-03T18:06:49.303858Z"
    }
   },
   "outputs": [
    {
     "name": "stdout",
     "output_type": "stream",
     "text": [
      "True Label is =  9\n"
     ]
    },
    {
     "data": {
      "application/pdf": "[encoded data removed]",
      "image/png": "[encoded data removed]",
      "text/plain": [
       "<Figure size 1000x1000 with 3 Axes>"
      ]
     },
     "metadata": {},
     "output_type": "display_data"
    }
   ],
   "source": [
    "x, y = largest_train[9] # Select a data point (which is a bag)\n",
    "x = x.to(device) #move it to the compute device\n",
    "\n",
    "with torch.no_grad():\n",
    "    weights = attentionMechanism(backboneNetwork(x.unsqueeze(0))) #apply score(F(x))\n",
    "    weights = weights.cpu().numpy().ravel() #convert to numpy array\n",
    "\n",
    "f, axarr = plt.subplots(1,3, figsize=(10,10))#make a plot for all 3 digits\n",
    "for i in range(3):\n",
    "    axarr[i].imshow(x[i,0,:].cpu().numpy(), cmap='gray', vmin=0, vmax=1) # Plot the digit\n",
    "    axarr[i].text(0.0, 0.5, str(round(weights[i],2)), dict(size=40, color='red')) #Draw the attention score in the top left\n",
    "    \n",
    "print(\"True Label is = \", y)"
   ]
  },
  {
   "cell_type": "code",
   "execution_count": 21,
   "metadata": {
    "ExecuteTime": {
     "end_time": "2021-04-03T18:06:49.692283Z",
     "start_time": "2021-04-03T18:06:49.688747Z"
    }
   },
   "outputs": [],
   "source": [
    "class DotScore(nn.Module):\n",
    "\n",
    "    def __init__(self, H):\n",
    "        \"\"\"\n",
    "        H: the number of dimensions coming into the dot score. \n",
    "        \"\"\"\n",
    "        super(DotScore, self).__init__()\n",
    "        self.H = H\n",
    "    \n",
    "    def forward(self, states, context):\n",
    "        \"\"\"\n",
    "        states: (B, T, H) shape\n",
    "        context: (B, H) shape\n",
    "        output: (B, T, 1), giving a score to each of the T items based on the context \n",
    "        \n",
    "        \"\"\"\n",
    "        T = states.size(1)\n",
    "        #compute $\\boldsymbol{h}_t^\\top \\bar{\\boldsymbol{h}}$\n",
    "        scores = torch.bmm(states,context.unsqueeze(2)) / np.sqrt(self.H) #(B, T, H) -> (B, T, 1)\n",
    "        return scores"
   ]
  },
  {
   "cell_type": "code",
   "execution_count": 22,
   "metadata": {
    "ExecuteTime": {
     "end_time": "2021-04-03T18:06:49.700060Z",
     "start_time": "2021-04-03T18:06:49.693366Z"
    }
   },
   "outputs": [],
   "source": [
    "class GeneralScore(nn.Module):\n",
    "\n",
    "    def __init__(self, H):\n",
    "        \"\"\"\n",
    "        H: the number of dimensions coming into the dot score. \n",
    "        \"\"\"\n",
    "        super(GeneralScore, self).__init__()\n",
    "        self.w = nn.Bilinear(H, H, 1) #stores $W$\n",
    "    \n",
    "    def forward(self, states, context):\n",
    "        \"\"\"\n",
    "        states: (B, T, H) shape\n",
    "        context: (B, H) shape\n",
    "        output: (B, T, 1), giving a score to each of the T items based on the context \n",
    "        \n",
    "        \"\"\"\n",
    "        T = states.size(1)\n",
    "        #Repeating the values T times \n",
    "        context = torch.stack([context for _ in range(T)], dim=1) #(B, H) -> (B, T, H)\n",
    "        #computes $\\boldsymbol{h}_{t}^{\\top} W \\bar{\\boldsymbol{h}}$\n",
    "        scores = self.w(states, context) #(B, T, H) -> (B, T, 1)\n",
    "        return scores        "
   ]
  },
  {
   "cell_type": "code",
   "execution_count": 23,
   "metadata": {
    "ExecuteTime": {
     "end_time": "2021-04-03T18:06:49.706634Z",
     "start_time": "2021-04-03T18:06:49.701734Z"
    }
   },
   "outputs": [],
   "source": [
    "class AdditiveAttentionScore(nn.Module):\n",
    "\n",
    "    def __init__(self, H):\n",
    "        super(AdditiveAttentionScore, self).__init__()\n",
    "        self.v = nn.Linear(H, 1) \n",
    "        self.w = nn.Linear(2*H, H)#2*H because we are going to concatenate two inputs\n",
    "    \n",
    "    def forward(self, states, context):\n",
    "        \"\"\"\n",
    "        states: (B, T, H) shape\n",
    "        context: (B, H) shape\n",
    "        output: (B, T, 1), giving a score to each of the T items based on the context \n",
    "        \n",
    "        \"\"\"\n",
    "        T = states.size(1)\n",
    "        #Repeating the values T times \n",
    "        context = torch.stack([context for _ in range(T)], dim=1) #(B, H) -> (B, T, H)\n",
    "        state_context_combined = torch.cat((states, context), dim=2) #(B, T, H) + (B, T, H)  -> (B, T, 2*H)\n",
    "        scores = self.v(torch.tanh(self.w(state_context_combined))) # (B, T, 2*H) -> (B, T, 1)\n",
    "        return scores"
   ]
  },
  {
   "cell_type": "code",
   "execution_count": 42,
   "metadata": {},
   "outputs": [],
   "source": [
    "class GatedAttentionScore(nn.Module):\n",
    "    def __init__(self, H, L = 128):\n",
    "        \"\"\"\n",
    "        H: the number of dimensions coming into the attention score\n",
    "        L: the number of latent dimensions for the attention gates\n",
    "        \"\"\"\n",
    "        super(GatedAttentionScore, self).__init__()\n",
    "        self.V = nn.Sequential(nn.Linear(H,L),nn.Tanh())\n",
    "        self.U = nn.Sequential(nn.Linear(H,L),nn.Sigmoid())\n",
    "        self.W = nn.Linear(L,1)\n",
    "        \n",
    "    def forward(self,v,context):\n",
    "        # v is (batch_size,bag_size,neurons) or (B,T,neurons)\n",
    "        av = self.V(v) #(B,T,L)\n",
    "        au = self.U(v) #(B,T,L)\n",
    "        scores = self.W(av * au) #(B,T,1)\n",
    "        return scores"
   ]
  },
  {
   "cell_type": "code",
   "execution_count": 41,
   "metadata": {
    "ExecuteTime": {
     "end_time": "2021-04-03T18:06:49.712834Z",
     "start_time": "2021-04-03T18:06:49.708312Z"
    }
   },
   "outputs": [],
   "source": [
    "class ApplyAttention(nn.Module):\n",
    "    \"\"\"\n",
    "    This helper module is used to apply the results of an attention mechanism toa set of inputs. \n",
    "    \"\"\"\n",
    "\n",
    "    def __init__(self):\n",
    "        super(ApplyAttention, self).__init__()\n",
    "        \n",
    "    def forward(self, states, attention_scores, mask=None):\n",
    "        \"\"\"\n",
    "        states: (B, T, H) shape giving the T different possible inputs\n",
    "        attention_scores: (B, T, 1) score for each item at each context\n",
    "        mask: None if all items are present. Else a boolean tensor of shape \n",
    "            (B, T), with `True` indicating which items are present / valid. \n",
    "            \n",
    "        returns: a tuple with two tensors. The first tensor is the final context\n",
    "        from applying the attention to the states (B, H) shape. The second tensor\n",
    "        is the weights for each state with shape (B, T, 1). \n",
    "        \"\"\"\n",
    "        \n",
    "        if mask is not None:\n",
    "            #set everything not present to a large negative value that will cause vanishing gradients \n",
    "            attention_scores[~mask] = -1000.0\n",
    "        #compute the weight for each score\n",
    "        weights = F.softmax(attention_scores, dim=1) #(B, T, 1) still, but sum(T) = 1\n",
    "\n",
    "        final_context = (states*weights).sum(dim=1) #(B, T, D) * (B, T, 1) -> (B, D)\n",
    "        return final_context, weights"
   ]
  },
  {
   "cell_type": "code",
   "execution_count": 26,
   "metadata": {
    "ExecuteTime": {
     "end_time": "2021-04-03T18:06:49.718546Z",
     "start_time": "2021-04-03T18:06:49.714176Z"
    }
   },
   "outputs": [],
   "source": [
    "def getMaskByFill(x, time_dimension=1, fill=0):\n",
    "    \"\"\"\n",
    "    x: the original input with three or more dimensions, (B, ..., T, ...)\n",
    "        which may have unsued items in the tensor. B is the batch size, \n",
    "        and T is the time dimension. \n",
    "    time_dimension: the axis in the tensor `x` that denotes the time dimension\n",
    "    fill: the constant used to denote that an item in the tensor is not in use,\n",
    "        and should be masked out (`False` in the mask). \n",
    "    \n",
    "    return: A boolean tensor of shape (B, T), where `True` indicates the value\n",
    "        at that time is good to use, and `False` that it is not. \n",
    "    \"\"\"\n",
    "    to_sum_over = list(range(1,len(x.shape))) #skip the first dimension 0 because that is the batch dimension\n",
    "    \n",
    "    if time_dimension in to_sum_over:\n",
    "        to_sum_over.remove(time_dimension)\n",
    "        \n",
    "    with torch.no_grad():\n",
    "        #(x!=fill) determines locations that might be unused, beause they are \n",
    "        #missing the fill value we are looking for to indicate lack of use. \n",
    "        #We then count the number of non-fill values over everything in that\n",
    "        #time slot (reducing changes the shape to (B, T)). If any one entry \n",
    "        #is non equal to this value, the item represent must be in use - \n",
    "        #so return a value of true. \n",
    "        mask = torch.sum((x != fill), dim=to_sum_over) > 0\n",
    "    return mask"
   ]
  },
  {
   "cell_type": "code",
   "execution_count": 27,
   "metadata": {
    "ExecuteTime": {
     "end_time": "2021-04-03T18:06:49.726023Z",
     "start_time": "2021-04-03T18:06:49.719880Z"
    }
   },
   "outputs": [
    {
     "name": "stdout",
     "output_type": "stream",
     "text": [
      "tensor([[ True,  True, False],\n",
      "        [ True,  True,  True],\n",
      "        [ True,  True,  True],\n",
      "        [False, False, False],\n",
      "        [ True,  True,  True]])\n"
     ]
    }
   ],
   "source": [
    "with torch.no_grad():\n",
    "    x = torch.rand((5,3,1,7,7))\n",
    "    x[0,-1,:] = 0 #Don't use the last item in the first input\n",
    "    x[3,:] = 0 #Don't use any of the 4'th item!\n",
    "    x[4,0,0,0] = 0 #Make it _look_ like we aren't using part of the 5th, but we still are!\n",
    "    #This last line was added to show that this works even on tricky inputs\n",
    "    \n",
    "    mask = getMaskByFill(x)\n",
    "print(mask)"
   ]
  },
  {
   "cell_type": "code",
   "execution_count": 43,
   "metadata": {
    "ExecuteTime": {
     "end_time": "2021-04-03T18:06:49.734611Z",
     "start_time": "2021-04-03T18:06:49.727659Z"
    },
    "tags": [
     "remove_cell"
    ]
   },
   "outputs": [],
   "source": [
    "class SmarterAttentionNet(nn.Module):\n",
    "\n",
    "    def __init__(self, input_size, hidden_size, out_size, score_net=None):\n",
    "        super(SmarterAttentionNet, self).__init__()\n",
    "        self.backbone = nn.Sequential(\n",
    "            Flatten2(),# Shape is now (B, T, D)\n",
    "            nn.Linear(input_size,hidden_size), #Shape becomes (B, T, H)\n",
    "            nn.LeakyReLU(),\n",
    "            nn.Linear(hidden_size,hidden_size),\n",
    "            nn.LeakyReLU(),\n",
    "            nn.Linear(hidden_size,hidden_size),\n",
    "            nn.LeakyReLU(),\n",
    "        )#returns (B, T, H)\n",
    "        \n",
    "        #Try changing this and see how the results change!\n",
    "        self.score_net = AdditiveAttentionScore(hidden_size) if (score_net is None) else score_net\n",
    "\n",
    "        self.apply_attn = ApplyAttention()\n",
    "        \n",
    "        self.prediction_net = nn.Sequential( #(B, H), \n",
    "            nn.BatchNorm1d(hidden_size),\n",
    "            nn.Linear(hidden_size,hidden_size),\n",
    "            nn.LeakyReLU(),\n",
    "            nn.BatchNorm1d(hidden_size),\n",
    "            nn.Linear(hidden_size, out_size ) #(B, H)\n",
    "        )\n",
    "        \n",
    "    \n",
    "    def forward(self, input):\n",
    "\n",
    "        mask = getMaskByFill(input)\n",
    "\n",
    "        h = self.backbone(input) #(B, T, D) -> (B, T, H)\n",
    "\n",
    "        #h_context = torch.mean(h, dim=1) \n",
    "        #computes torch.mean but ignoring the masked out parts\n",
    "        #first add together all the valid items\n",
    "        h_context = (mask.unsqueeze(-1)*h).sum(dim=1)#(B, T, H) -> (B, H)\n",
    "        #then divide by the number of valid items, pluss a small value incase a bag was all empty\n",
    "        h_context = h_context/(mask.sum(dim=1).unsqueeze(-1)+1e-10)\n",
    "\n",
    "        scores = self.score_net(h, h_context) # (B, T, H) , (B, H) -> (B, T, 1)\n",
    "\n",
    "        final_context, _ = self.apply_attn(h, scores, mask=mask)\n",
    "\n",
    "        return self.prediction_net(final_context)\n",
    "        "
   ]
  },
  {
   "cell_type": "code",
   "execution_count": 44,
   "metadata": {
    "ExecuteTime": {
     "end_time": "2021-04-03T18:25:54.246651Z",
     "start_time": "2021-04-03T18:06:49.736072Z"
    },
    "tags": [
     "remove_output"
    ]
   },
   "outputs": [
    {
     "data": {
      "application/vnd.jupyter.widget-view+json": {
       "model_id": "43733e32f53a47dc877cf779986edb36",
       "version_major": 2,
       "version_minor": 0
      },
      "text/plain": [
       "Epoch:   0%|          | 0/10 [00:00<?, ?it/s]"
      ]
     },
     "metadata": {},
     "output_type": "display_data"
    },
    {
     "data": {
      "application/vnd.jupyter.widget-view+json": {
       "model_id": "",
       "version_major": 2,
       "version_minor": 0
      },
      "text/plain": [
       "Training:   0%|          | 0/469 [00:00<?, ?it/s]"
      ]
     },
     "metadata": {},
     "output_type": "display_data"
    },
    {
     "data": {
      "application/vnd.jupyter.widget-view+json": {
       "model_id": "",
       "version_major": 2,
       "version_minor": 0
      },
      "text/plain": [
       "Validating:   0%|          | 0/79 [00:00<?, ?it/s]"
      ]
     },
     "metadata": {},
     "output_type": "display_data"
    },
    {
     "data": {
      "application/vnd.jupyter.widget-view+json": {
       "model_id": "",
       "version_major": 2,
       "version_minor": 0
      },
      "text/plain": [
       "Training:   0%|          | 0/469 [00:00<?, ?it/s]"
      ]
     },
     "metadata": {},
     "output_type": "display_data"
    },
    {
     "data": {
      "application/vnd.jupyter.widget-view+json": {
       "model_id": "",
       "version_major": 2,
       "version_minor": 0
      },
      "text/plain": [
       "Validating:   0%|          | 0/79 [00:00<?, ?it/s]"
      ]
     },
     "metadata": {},
     "output_type": "display_data"
    },
    {
     "data": {
      "application/vnd.jupyter.widget-view+json": {
       "model_id": "",
       "version_major": 2,
       "version_minor": 0
      },
      "text/plain": [
       "Training:   0%|          | 0/469 [00:00<?, ?it/s]"
      ]
     },
     "metadata": {},
     "output_type": "display_data"
    },
    {
     "data": {
      "application/vnd.jupyter.widget-view+json": {
       "model_id": "",
       "version_major": 2,
       "version_minor": 0
      },
      "text/plain": [
       "Validating:   0%|          | 0/79 [00:00<?, ?it/s]"
      ]
     },
     "metadata": {},
     "output_type": "display_data"
    },
    {
     "data": {
      "application/vnd.jupyter.widget-view+json": {
       "model_id": "",
       "version_major": 2,
       "version_minor": 0
      },
      "text/plain": [
       "Training:   0%|          | 0/469 [00:00<?, ?it/s]"
      ]
     },
     "metadata": {},
     "output_type": "display_data"
    },
    {
     "data": {
      "application/vnd.jupyter.widget-view+json": {
       "model_id": "",
       "version_major": 2,
       "version_minor": 0
      },
      "text/plain": [
       "Validating:   0%|          | 0/79 [00:00<?, ?it/s]"
      ]
     },
     "metadata": {},
     "output_type": "display_data"
    },
    {
     "data": {
      "application/vnd.jupyter.widget-view+json": {
       "model_id": "",
       "version_major": 2,
       "version_minor": 0
      },
      "text/plain": [
       "Training:   0%|          | 0/469 [00:00<?, ?it/s]"
      ]
     },
     "metadata": {},
     "output_type": "display_data"
    },
    {
     "data": {
      "application/vnd.jupyter.widget-view+json": {
       "model_id": "",
       "version_major": 2,
       "version_minor": 0
      },
      "text/plain": [
       "Validating:   0%|          | 0/79 [00:00<?, ?it/s]"
      ]
     },
     "metadata": {},
     "output_type": "display_data"
    },
    {
     "data": {
      "application/vnd.jupyter.widget-view+json": {
       "model_id": "",
       "version_major": 2,
       "version_minor": 0
      },
      "text/plain": [
       "Training:   0%|          | 0/469 [00:00<?, ?it/s]"
      ]
     },
     "metadata": {},
     "output_type": "display_data"
    },
    {
     "data": {
      "application/vnd.jupyter.widget-view+json": {
       "model_id": "",
       "version_major": 2,
       "version_minor": 0
      },
      "text/plain": [
       "Validating:   0%|          | 0/79 [00:00<?, ?it/s]"
      ]
     },
     "metadata": {},
     "output_type": "display_data"
    },
    {
     "data": {
      "application/vnd.jupyter.widget-view+json": {
       "model_id": "",
       "version_major": 2,
       "version_minor": 0
      },
      "text/plain": [
       "Training:   0%|          | 0/469 [00:00<?, ?it/s]"
      ]
     },
     "metadata": {},
     "output_type": "display_data"
    },
    {
     "data": {
      "application/vnd.jupyter.widget-view+json": {
       "model_id": "",
       "version_major": 2,
       "version_minor": 0
      },
      "text/plain": [
       "Validating:   0%|          | 0/79 [00:00<?, ?it/s]"
      ]
     },
     "metadata": {},
     "output_type": "display_data"
    },
    {
     "data": {
      "application/vnd.jupyter.widget-view+json": {
       "model_id": "",
       "version_major": 2,
       "version_minor": 0
      },
      "text/plain": [
       "Training:   0%|          | 0/469 [00:00<?, ?it/s]"
      ]
     },
     "metadata": {},
     "output_type": "display_data"
    },
    {
     "data": {
      "application/vnd.jupyter.widget-view+json": {
       "model_id": "",
       "version_major": 2,
       "version_minor": 0
      },
      "text/plain": [
       "Validating:   0%|          | 0/79 [00:00<?, ?it/s]"
      ]
     },
     "metadata": {},
     "output_type": "display_data"
    },
    {
     "data": {
      "application/vnd.jupyter.widget-view+json": {
       "model_id": "",
       "version_major": 2,
       "version_minor": 0
      },
      "text/plain": [
       "Training:   0%|          | 0/469 [00:00<?, ?it/s]"
      ]
     },
     "metadata": {},
     "output_type": "display_data"
    },
    {
     "data": {
      "application/vnd.jupyter.widget-view+json": {
       "model_id": "",
       "version_major": 2,
       "version_minor": 0
      },
      "text/plain": [
       "Validating:   0%|          | 0/79 [00:00<?, ?it/s]"
      ]
     },
     "metadata": {},
     "output_type": "display_data"
    },
    {
     "data": {
      "application/vnd.jupyter.widget-view+json": {
       "model_id": "",
       "version_major": 2,
       "version_minor": 0
      },
      "text/plain": [
       "Training:   0%|          | 0/469 [00:00<?, ?it/s]"
      ]
     },
     "metadata": {},
     "output_type": "display_data"
    },
    {
     "data": {
      "application/vnd.jupyter.widget-view+json": {
       "model_id": "",
       "version_major": 2,
       "version_minor": 0
      },
      "text/plain": [
       "Validating:   0%|          | 0/79 [00:00<?, ?it/s]"
      ]
     },
     "metadata": {},
     "output_type": "display_data"
    }
   ],
   "source": [
    "attn_dot = SmarterAttentionNet(D, neurons, classes, score_net=DotScore(neurons))\n",
    "attn_gen = SmarterAttentionNet(D, neurons, classes, score_net=GeneralScore(neurons))\n",
    "attn_add = SmarterAttentionNet(D, neurons, classes, score_net=AdditiveAttentionScore(neurons))\n",
    "attn_gat = SmarterAttentionNet(D, neurons, classes, score_net =GatedAttentionScore(neurons)) \n",
    "\n",
    "attn_results_dot = train_network(attn_dot, nn.CrossEntropyLoss(), train_loader, val_loader=test_loader,epochs=epochs, score_funcs={'Accuracy': accuracy_score}, device=device)\n",
    "attn_results_gen = train_network(attn_gen, nn.CrossEntropyLoss(), train_loader, val_loader=test_loader,epochs=epochs, score_funcs={'Accuracy': accuracy_score}, device=device)\n",
    "attn_results_add = train_network(attn_add, nn.CrossEntropyLoss(), train_loader, val_loader=test_loader,epochs=epochs, score_funcs={'Accuracy': accuracy_score}, device=device)\n",
    "attn_results_gat = train_network(attn_gat, nn.CrossEntropyLoss(), train_loader, val_loader=test_loader,epochs=epochs, score_funcs={'Accuracy': accuracy_score}, device=device)"
   ]
  },
  {
   "cell_type": "code",
   "execution_count": 46,
   "metadata": {
    "ExecuteTime": {
     "end_time": "2021-04-03T18:25:54.555308Z",
     "start_time": "2021-04-03T18:25:54.247830Z"
    }
   },
   "outputs": [
    {
     "data": {
      "text/plain": [
       "<Axes: xlabel='epoch', ylabel='val Accuracy'>"
      ]
     },
     "execution_count": 46,
     "metadata": {},
     "output_type": "execute_result"
    },
    {
     "data": {
      "application/pdf": "[encoded data removed]",
      "image/png": "[encoded data removed]",
      "text/plain": [
       "<Figure size 640x480 with 1 Axes>"
      ]
     },
     "metadata": {},
     "output_type": "display_data"
    }
   ],
   "source": [
    "sns.lineplot(x='epoch', y='val Accuracy', data=simple_results, label='Regular')\n",
    "sns.lineplot(x='epoch', y='val Accuracy', data=simple_attn_results, label='Simple Attention')\n",
    "sns.lineplot(x='epoch', y='val Accuracy', data=attn_results_gat, label='Gated Attention')\n",
    "sns.lineplot(x='epoch', y='val Accuracy', data=attn_results_dot, label='Dot')\n",
    "sns.lineplot(x='epoch', y='val Accuracy', data=attn_results_gen, label='General')\n",
    "sns.lineplot(x='epoch', y='val Accuracy', data=attn_results_add, label='Additive')"
   ]
  },
  {
   "cell_type": "code",
   "execution_count": null,
   "metadata": {
    "ExecuteTime": {
     "end_time": "2021-04-03T18:25:54.561109Z",
     "start_time": "2021-04-03T18:25:54.556649Z"
    }
   },
   "outputs": [],
   "source": [
    "class LargestDigitVariable(Dataset):\n",
    "    \"\"\"\n",
    "    Creates a modified version of a dataset where some variable number of samples are \n",
    "    taken, and the true label is the largest label sampled. When used with MNIST the\n",
    "    labels correspond to their values (e.g., digit \"6\" has label 6). Each datum will \n",
    "    be padded with 0 values if the maximum number of items was not sampled. \n",
    "    \"\"\"\n",
    "\n",
    "    def __init__(self, dataset, maxToSample=6):\n",
    "        \"\"\"\n",
    "        dataset: the dataset to sample from\n",
    "        toSample: the number of items from the dataset to sample\n",
    "        \"\"\"\n",
    "        self.dataset = dataset\n",
    "        self.maxToSample = maxToSample\n",
    "\n",
    "    def __len__(self):\n",
    "        return len(self.dataset)\n",
    "\n",
    "    def __getitem__(self, idx):\n",
    "        \n",
    "        #NEW: how many items should we select?\n",
    "        how_many = np.random.randint(1,self.maxToSample, size=1)[0]\n",
    "        #Randomly select n=self.toSample items from the dataset\n",
    "        selected = np.random.randint(0,len(self.dataset), size=how_many)\n",
    "        \n",
    "        #Stack the n items of shape (B, *) shape into (B, n, *)\n",
    "        #NEW: pad with zero values up to the max size\n",
    "        x_new = torch.stack([self.dataset[i][0] for i in selected] + \n",
    "                            [torch.zeros((1,28,28)) for i in range(self.maxToSample-how_many)])\n",
    "        #Label is the maximum label\n",
    "        y_new = max([self.dataset[i][1] for i in selected])\n",
    "        #Return (data, label) pair\n",
    "        return x_new, y_new"
   ]
  },
  {
   "cell_type": "code",
   "execution_count": null,
   "metadata": {
    "ExecuteTime": {
     "end_time": "2021-04-03T18:25:54.567235Z",
     "start_time": "2021-04-03T18:25:54.562367Z"
    }
   },
   "outputs": [],
   "source": [
    "largestV_train = LargestDigitVariable(mnist_train)\n",
    "largestV_test = LargestDigitVariable(mnist_test)\n",
    "\n",
    "trainV_loader = DataLoader(largest_train, batch_size=B, shuffle=True)\n",
    "testV_loader = DataLoader(largest_test, batch_size=B)"
   ]
  },
  {
   "cell_type": "code",
   "execution_count": null,
   "metadata": {
    "ExecuteTime": {
     "end_time": "2021-04-03T18:25:59.501012Z",
     "start_time": "2021-04-03T18:25:54.568449Z"
    }
   },
   "outputs": [],
   "source": [
    "attn_dot = attn_dot.eval()\n",
    "\n",
    "preds = []\n",
    "truths = []\n",
    "with torch.no_grad():\n",
    "    for inputs, labels in testV_loader:\n",
    "        pred = attn_dot(inputs.to(device))\n",
    "        pred = torch.argmax(pred, dim=1).cpu().numpy()\n",
    "        \n",
    "        preds.extend(pred.ravel())\n",
    "        truths.extend(labels.numpy().ravel())\n",
    "print(\"Variable Length Accuracy: \", accuracy_score(preds, truths))"
   ]
  }
 ],
 "metadata": {
  "author": "BLUE About Validation Loss?",
  "celltoolbar": "Tags",
  "kernelspec": {
   "display_name": "Python 3 (ipykernel)",
   "language": "python",
   "name": "python3"
  },
  "language_info": {
   "codemirror_mode": {
    "name": "ipython",
    "version": 3
   },
   "file_extension": ".py",
   "mimetype": "text/x-python",
   "name": "python",
   "nbconvert_exporter": "python",
   "pygments_lexer": "ipython3",
   "version": "3.11.8"
  },
  "latex_envs": {
   "LaTeX_envs_menu_present": true,
   "autoclose": false,
   "autocomplete": true,
   "bibliofile": "biblio.bib",
   "cite_by": "apalike",
   "current_citInitial": 1,
   "eqLabelWithNumbers": true,
   "eqNumInitial": 1,
   "hotkeys": {
    "equation": "Ctrl-E",
    "itemize": "Ctrl-I"
   },
   "labels_anchors": false,
   "latex_user_defs": false,
   "report_style_numbering": false,
   "user_envs_cfg": false
  },
  "latex_metadata": {
   "title": "Attention Mechanisms"
  },
  "varInspector": {
   "cols": {
    "lenName": 16,
    "lenType": 16,
    "lenVar": 40
   },
   "kernels_config": {
    "python": {
     "delete_cmd_postfix": "",
     "delete_cmd_prefix": "del ",
     "library": "var_list.py",
     "varRefreshCmd": "print(var_dic_list())"
    },
    "r": {
     "delete_cmd_postfix": ") ",
     "delete_cmd_prefix": "rm(",
     "library": "var_list.r",
     "varRefreshCmd": "cat(var_dic_list()) "
    }
   },
   "types_to_exclude": [
    "module",
    "function",
    "builtin_function_or_method",
    "instance",
    "_Feature"
   ],
   "window_display": false
  }
 },
 "nbformat": 4,
 "nbformat_minor": 4
}
