{
 "cells": [
  {
   "cell_type": "code",
   "execution_count": 1,
   "metadata": {},
   "outputs": [],
   "source": [
    "# install nltk (natural language toolkit) if necessary\n",
    "# !pip install nltk"
   ]
  },
  {
   "cell_type": "code",
   "execution_count": 2,
   "metadata": {
    "ExecuteTime": {
     "end_time": "2021-04-07T02:25:33.515104Z",
     "start_time": "2021-04-07T02:25:32.233774Z"
    },
    "tags": [
     "remove_cell"
    ]
   },
   "outputs": [
    {
     "name": "stderr",
     "output_type": "stream",
     "text": [
      "/var/folders/8w/0_6f1mnj291b3dfy5xqyp1rd3h18sr/T/ipykernel_1101/1295299108.py:17: TqdmExperimentalWarning: Using `tqdm.autonotebook.tqdm` in notebook mode. Use `tqdm.tqdm` instead to force console mode (e.g. in jupyter console)\n",
      "  from tqdm.autonotebook import tqdm\n"
     ]
    }
   ],
   "source": [
    "import torch\n",
    "import torch.nn as nn\n",
    "import torch.nn.functional as F\n",
    "import math\n",
    "from torch.nn.utils.rnn import pack_padded_sequence, pad_packed_sequence\n",
    "import torchtext\n",
    "from torchtext.datasets import IMDB\n",
    "from torchtext.data.utils import get_tokenizer\n",
    "from torchtext.vocab import build_vocab_from_iterator\n",
    "import unicodedata\n",
    "import re\n",
    "import string\n",
    "import nltk\n",
    "\n",
    "from torch.utils.data import Dataset, DataLoader\n",
    "\n",
    "from tqdm.autonotebook import tqdm\n",
    "\n",
    "from idlmam import set_seed\n",
    "\n",
    "import numpy as np\n",
    "import seaborn as sns\n",
    "import matplotlib.pyplot as plt\n",
    "sns.set_theme()\n",
    "\n",
    "import pandas as pd\n",
    "\n",
    "from sklearn.metrics import accuracy_score\n",
    "\n",
    "import time\n",
    "\n",
    "from idlmam import LastTimeStep, train_network, Flatten, weight_reset, View, LambdaLayer\n",
    "from idlmam import AttentionAvg, GeneralScore, DotScore, AdditiveAttentionScore #For attention mechanism use"
   ]
  },
  {
   "cell_type": "code",
   "execution_count": 3,
   "metadata": {
    "ExecuteTime": {
     "end_time": "2021-04-07T02:25:33.531384Z",
     "start_time": "2021-04-07T02:25:33.522006Z"
    },
    "tags": [
     "remove_cell"
    ]
   },
   "outputs": [],
   "source": [
    "torch.backends.cudnn.deterministic=True\n",
    "set_seed(42)"
   ]
  },
  {
   "cell_type": "code",
   "execution_count": 4,
   "metadata": {
    "ExecuteTime": {
     "end_time": "2021-04-07T02:25:33.582335Z",
     "start_time": "2021-04-07T02:25:33.551009Z"
    },
    "tags": [
     "remove_cell"
    ]
   },
   "outputs": [],
   "source": [
    "def get_pytorch_device():\n",
    "    if torch.cuda.is_available():\n",
    "        return torch.device('cuda')\n",
    "    elif torch.backends.mps.is_available():\n",
    "        return torch.device('mps')  # MPS is available on Apple Silicon Macs\n",
    "    else:\n",
    "        return torch.device('cpu')\n",
    "\n",
    "device = get_pytorch_device()\n",
    "\n",
    "# I found the mps gpu to be slower than the CPU, so uncomment the next line if you want to force the CPU\n",
    "device = torch.device('cpu')"
   ]
  },
  {
   "cell_type": "code",
   "execution_count": 5,
   "metadata": {},
   "outputs": [],
   "source": [
    "train_iter, test_iter = IMDB(split=('train', 'test')) # Note change from book\n",
    "train_dataset = list(train_iter)\n",
    "test_dataset = list(test_iter)"
   ]
  },
  {
   "cell_type": "markdown",
   "metadata": {},
   "source": [
    "## Preprocess Text and Build Vocabulary\n",
    "\n",
    "Some everyday things to do with text data:\n",
    "* remove stop words, such as 'a', 'the', etc. that don't usually change the meaning of text.\n",
    "* convert unicode characters to ascii\n",
    "* remove html tags\n",
    "* convert all letters to lower case\n",
    "* maybe remove punctuation (I decided not to do so)\n",
    "\n",
    "In the following few cells we'll show how this can be done.\n",
    "\n",
    "First we'll download a commonly used list of English stopwords from NLTK:"
   ]
  },
  {
   "cell_type": "code",
   "execution_count": 6,
   "metadata": {},
   "outputs": [
    {
     "name": "stderr",
     "output_type": "stream",
     "text": [
      "[nltk_data] Downloading package stopwords to\n",
      "[nltk_data]     /Users/jbaggett/nltk_data...\n",
      "[nltk_data]   Package stopwords is already up-to-date!\n"
     ]
    }
   ],
   "source": [
    "# Download NLTK stop words\n",
    "nltk.download('stopwords')\n",
    "from nltk.corpus import stopwords\n",
    "stop_words = set(stopwords.words('english')) # we're going to be lazy and use this globally"
   ]
  },
  {
   "cell_type": "markdown",
   "metadata": {},
   "source": [
    "Now we'll define two functions to convert unicode to ascii and to preprocess the text:"
   ]
  },
  {
   "cell_type": "code",
   "execution_count": 7,
   "metadata": {},
   "outputs": [],
   "source": [
    "def unicode_to_ascii(s):\n",
    "    return ''.join(\n",
    "        c for c in unicodedata.normalize('NFD', s)\n",
    "        if unicodedata.category(c) != 'Mn' and (c in string.ascii_letters or c == ' ')\n",
    "    )\n",
    "\n",
    "def preprocess_text(text):\n",
    "    # Remove HTML tags\n",
    "    text = re.sub(r'<[^>]+>', ' ', text)\n",
    "    # Normalize Unicode to ASCII\n",
    "    text = unicode_to_ascii(text.lower())\n",
    "    # Remove all characters that are not ASCII letters, spaces or punctuation\n",
    "    text = re.sub(r'[^a-z .,?!]+', ' ', text)\n",
    "    #text = re.sub(r'[^a-z]+', ' ', text)\n",
    "    # Tokenize text\n",
    "    #tokens = tokenizer(text)\n",
    "    tokens = text.split()\n",
    "    # Remove stop words\n",
    "    tokens = [token for token in tokens if token not in stop_words]\n",
    "    return tokens"
   ]
  },
  {
   "cell_type": "markdown",
   "metadata": {},
   "source": [
    "Here is the first review in the dataset:"
   ]
  },
  {
   "cell_type": "code",
   "execution_count": 8,
   "metadata": {},
   "outputs": [
    {
     "name": "stdout",
     "output_type": "stream",
     "text": [
      "The number of characters in the first review is 1640 \n",
      "\n",
      "Here is the first review: \n",
      "\n",
      " I rented I AM CURIOUS-YELLOW from my video store because of all the controversy that surrounded it when it was first released in 1967. I also heard that at first it was seized by U.S. customs if it ever tried to enter this country, therefore being a fan of films considered \"controversial\" I really had to see this for myself.<br /><br />The plot is centered around a young Swedish drama student named Lena who wants to learn everything she can about life. In particular she wants to focus her attentions to making some sort of documentary on what the average Swede thought about certain political issues such as the Vietnam War and race issues in the United States. In between asking politicians and ordinary denizens of Stockholm about their opinions on politics, she has sex with her drama teacher, classmates, and married men.<br /><br />What kills me about I AM CURIOUS-YELLOW is that 40 years ago, this was considered pornographic. Really, the sex and nudity scenes are few and far between, even then it's not shot like some cheaply made porno. While my countrymen mind find it shocking, in reality sex and nudity are a major staple in Swedish cinema. Even Ingmar Bergman, arguably their answer to good old boy John Ford, had sex scenes in his films.<br /><br />I do commend the filmmakers for the fact that any sex shown in the film is shown for artistic purposes rather than just to shock people and make money to be shown in pornographic theaters in America. I AM CURIOUS-YELLOW is a good film for anyone wanting to study the meat and potatoes (no pun intended) of Swedish cinema. But really, this film doesn't have much of a plot.\n"
     ]
    }
   ],
   "source": [
    "first_review = train_dataset[0][1]\n",
    "print(f'The number of characters in the first review is {len(first_review)} \\n')\n",
    "print(f'Here is the first review: \\n\\n {first_review}')"
   ]
  },
  {
   "cell_type": "code",
   "execution_count": 9,
   "metadata": {
    "ExecuteTime": {
     "end_time": "2021-04-07T02:25:34.057959Z",
     "start_time": "2021-04-07T02:25:34.053958Z"
    }
   },
   "outputs": [
    {
     "name": "stdout",
     "output_type": "stream",
     "text": [
      "The number of characters in the first review is 1039 \n",
      "\n",
      "Here is the first preprocessed review: \n",
      "\n",
      " rented curiousyellow video store controversy surrounded first released also heard first seized us customs ever tried enter country therefore fan films considered controversial really see plot centered around young swedish drama student named lena wants learn everything life particular wants focus attentions making sort documentary average swede thought certain political issues vietnam war race issues united states asking politicians ordinary denizens stockholm opinions politics sex drama teacher classmates married men kills curiousyellow years ago considered pornographic really sex nudity scenes far even shot like cheaply made porno countrymen mind find shocking reality sex nudity major staple swedish cinema even ingmar bergman arguably answer good old boy john ford sex scenes films commend filmmakers fact sex shown film shown artistic purposes rather shock people make money shown pornographic theaters america curiousyellow good film anyone wanting study meat potatoes pun intended swedish cinema really film doesnt much plot\n"
     ]
    }
   ],
   "source": [
    "from torchtext.data.utils import get_tokenizer#tokenizers break strings like \"this is a string\" into lists of tokens like ['this', 'is', 'a', 'string']\n",
    "tokenizer = get_tokenizer('basic_english') #we will be fine with the default english style tokenizer\n",
    "first_review_preproc = preprocess_text(first_review)\n",
    "first_review_preproc =' '.join(first_review_preproc)\n",
    "print(f'The number of characters in the first review is {len(first_review_preproc)} \\n')\n",
    "print(f'Here is the first preprocessed review: \\n\\n {first_review_preproc}')"
   ]
  },
  {
   "cell_type": "code",
   "execution_count": 10,
   "metadata": {},
   "outputs": [],
   "source": [
    "# build the vocabulary with or without pre-processing\n",
    "pre_proc = True\n",
    "\n",
    "from collections import Counter #how many lines in this dataset\n",
    "from torchtext.vocab import vocab #we need to create a vocabulary of all the words in the training set\n",
    "from torchtext.data.utils import get_tokenizer#tokenizers break strings like \"this is a string\" into lists of tokens like ['this', 'is', 'a', 'string']\n",
    "tokenizer = get_tokenizer('basic_english') #we will be fine with the default english style tokenizer\n",
    "\n",
    "if pre_proc:\n",
    "    tokenizer = preprocess_text # set the tokenizer to be our function that adds additional processing\n",
    "    \n",
    "counter = Counter() \n",
    "for (label, line) in train_dataset: #loop through the training data \n",
    "    counter.update(tokenizer(line)) #count the number of unique tokens we see and how often we see them (e.g., we will see \"the\" a lot, but \"sasquatch\" mayb\n",
    "\n",
    "vocab = vocab(counter, min_freq=10, specials=('<unk>', '<BOS>', '<EOS>', '<PAD>')) #create a vocab object, removing any word that didn't occur at least 10 times, and add special vocab items for unkown, begining of sentance, end of sentance, and \"padding\"\n",
    "\n",
    "### NEW - 2024\n",
    "vocab.set_default_index(vocab['<unk>'])"
   ]
  },
  {
   "cell_type": "code",
   "execution_count": 11,
   "metadata": {
    "ExecuteTime": {
     "end_time": "2021-04-07T02:25:36.976414Z",
     "start_time": "2021-04-07T02:25:36.971729Z"
    }
   },
   "outputs": [
    {
     "name": "stdout",
     "output_type": "stream",
     "text": [
      "[1, 4, 0, 5, 6, 7, 8, 9, 10, 11, 12, 9, 13, 14, 15, 16, 17, 18, 19, 20, 21, 22, 23, 24, 25, 26, 27, 28, 29, 30, 31, 32, 33, 34, 35, 36, 37, 38, 39, 40, 36, 41, 42, 43, 44, 45, 46, 0, 47, 48, 49, 50, 51, 52, 53, 50, 54, 55, 56, 57, 58, 59, 0, 60, 61, 62, 32, 63, 64, 65, 66, 67, 0, 68, 69, 23, 70, 25, 62, 71, 72, 73, 74, 75, 76, 77, 78, 79, 0, 80, 81, 82, 83, 62, 71, 84, 85, 31, 86, 74, 87, 88, 89, 90, 91, 92, 93, 94, 95, 62, 72, 22, 96, 97, 98, 62, 99, 100, 99, 101, 102, 103, 104, 105, 106, 107, 99, 70, 108, 109, 0, 91, 100, 110, 111, 112, 113, 114, 115, 116, 31, 86, 25, 100, 117, 118, 27, 2]\n"
     ]
    }
   ],
   "source": [
    "def text_transform(x): #string -> list of integers\n",
    "    return [vocab['<BOS>']] + [vocab[token] for token in tokenizer(x)] + [vocab['<EOS>']] #vocab acts like a dictionary, handles unkown tokens for us, and we can make it pre and post-pend with the start and end markers respectively.\n",
    "\n",
    "def label_transform(x): \n",
    "    return x-1 #labes are originally [1, 2, 3, 4] but we need them as [0, 1, 2, 3] \n",
    "\n",
    "#Transform the first data point's text into a list of tokens\n",
    "print(text_transform(train_dataset[0][1])) "
   ]
  },
  {
   "cell_type": "code",
   "execution_count": 12,
   "metadata": {
    "ExecuteTime": {
     "end_time": "2021-04-07T02:25:37.000752Z",
     "start_time": "2021-04-07T02:25:36.977667Z"
    }
   },
   "outputs": [
    {
     "name": "stdout",
     "output_type": "stream",
     "text": [
      "Vocab:  20175\n",
      "Num Classes:  2\n"
     ]
    }
   ],
   "source": [
    "VOCAB_SIZE = len(vocab)\n",
    "NUM_CLASS = len(np.unique([z[0] for z in train_dataset])) \n",
    "print(\"Vocab: \", VOCAB_SIZE)\n",
    "print(\"Num Classes: \", NUM_CLASS)\n",
    "\n",
    "padding_idx = vocab[\"<PAD>\"]\n",
    "\n",
    "embed_dim = 128\n",
    "B = 64\n",
    "epochs = 5"
   ]
  }
 ],
 "metadata": {
  "author": "Multi-head Attention Standard Equations",
  "celltoolbar": "Tags",
  "kernelspec": {
   "display_name": "Python 3 (ipykernel)",
   "language": "python",
   "name": "python3"
  },
  "language_info": {
   "codemirror_mode": {
    "name": "ipython",
    "version": 3
   },
   "file_extension": ".py",
   "mimetype": "text/x-python",
   "name": "python",
   "nbconvert_exporter": "python",
   "pygments_lexer": "ipython3",
   "version": "3.11.8"
  },
  "latex_envs": {
   "LaTeX_envs_menu_present": true,
   "autoclose": false,
   "autocomplete": false,
   "bibliofile": "biblio.bib",
   "cite_by": "apalike",
   "current_citInitial": 1,
   "eqLabelWithNumbers": true,
   "eqNumInitial": 1,
   "hotkeys": {
    "equation": "Ctrl-E",
    "itemize": "Ctrl-I"
   },
   "labels_anchors": false,
   "latex_user_defs": false,
   "report_style_numbering": false,
   "user_envs_cfg": false
  },
  "latex_metadata": {
   "title": "Network Design Alternatives to RNNs"
  }
 },
 "nbformat": 4,
 "nbformat_minor": 4
}
